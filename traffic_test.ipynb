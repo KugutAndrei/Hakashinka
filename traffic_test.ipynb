{
 "cells": [
  {
   "cell_type": "code",
   "execution_count": 1,
   "metadata": {
    "ExecuteTime": {
     "end_time": "2024-04-14T14:19:56.763302Z",
     "start_time": "2024-04-14T14:19:56.760459Z"
    }
   },
   "outputs": [],
   "source": [
    "from traffic_initialization import *\n",
    "import os\n",
    "import sys\n",
    "from tqdm import tqdm"
   ]
  },
  {
   "cell_type": "code",
   "execution_count": 2,
   "metadata": {
    "ExecuteTime": {
     "end_time": "2024-04-14T14:20:22.852554Z",
     "start_time": "2024-04-14T14:20:22.849985Z"
    }
   },
   "outputs": [],
   "source": [
    "netfile = 'test1.net.xml'\n",
    "routefile = 'test1.rou.xml'\n",
    "configfile = 'test1.sumocfg'\n",
    "filedir = 'xml_data/test1/'"
   ]
  },
  {
   "cell_type": "code",
   "execution_count": 3,
   "metadata": {
    "ExecuteTime": {
     "end_time": "2024-04-14T14:20:33.264473Z",
     "start_time": "2024-04-14T14:20:33.262230Z"
    }
   },
   "outputs": [],
   "source": [
    "rtFl = RouteFile(filedir + routefile)"
   ]
  },
  {
   "cell_type": "code",
   "execution_count": 4,
   "metadata": {
    "ExecuteTime": {
     "end_time": "2024-04-14T14:20:33.924737Z",
     "start_time": "2024-04-14T14:20:33.921978Z"
    }
   },
   "outputs": [],
   "source": [
    "minGap = 4"
   ]
  },
  {
   "cell_type": "code",
   "execution_count": 5,
   "metadata": {
    "ExecuteTime": {
     "end_time": "2024-04-14T14:20:34.600265Z",
     "start_time": "2024-04-14T14:20:34.597592Z"
    }
   },
   "outputs": [],
   "source": [
    "vtype = 'id0'"
   ]
  },
  {
   "cell_type": "code",
   "execution_count": 6,
   "metadata": {
    "ExecuteTime": {
     "end_time": "2024-04-14T14:20:36.778547Z",
     "start_time": "2024-04-14T14:20:36.775259Z"
    }
   },
   "outputs": [],
   "source": [
    "rtFl.setVehicleType(vtype, {\n",
    "    'accel' : \"3.0\",\n",
    "    'decel' : \"6.0\",\n",
    "    'length' : \"4.0\",\n",
    "    'minGap' : str(minGap),\n",
    "    'maxSpeed' : \"50.0\",\n",
    "    'sigma' : \"0.5\"\n",
    "})"
   ]
  },
  {
   "cell_type": "code",
   "execution_count": 7,
   "metadata": {
    "ExecuteTime": {
     "end_time": "2024-04-14T14:20:37.502157Z",
     "start_time": "2024-04-14T14:20:37.499424Z"
    }
   },
   "outputs": [],
   "source": [
    "rtFl.setVehicleFlow(vtype, 'E0', 'E3', 300, 100, 13.89)"
   ]
  },
  {
   "cell_type": "code",
   "execution_count": 8,
   "metadata": {
    "ExecuteTime": {
     "end_time": "2024-04-14T14:20:39.195141Z",
     "start_time": "2024-04-14T14:20:39.192086Z"
    }
   },
   "outputs": [],
   "source": [
    "rtFl.save()"
   ]
  },
  {
   "cell_type": "code",
   "execution_count": 9,
   "metadata": {
    "ExecuteTime": {
     "end_time": "2024-04-14T14:20:41.882999Z",
     "start_time": "2024-04-14T14:20:41.879392Z"
    }
   },
   "outputs": [],
   "source": [
    "generateConfigFile(\n",
    "    filedir + configfile, \n",
    "    netfile, \n",
    "    routefile,\n",
    "    output=['statistic']#, 'tripinfo']\n",
    ")"
   ]
  },
  {
   "cell_type": "code",
   "execution_count": 10,
   "metadata": {
    "ExecuteTime": {
     "end_time": "2024-04-14T14:20:55.762315Z",
     "start_time": "2024-04-14T14:20:55.700016Z"
    }
   },
   "outputs": [],
   "source": [
    "loadConfig(filedir +'test1.sumocfg')"
   ]
  },
  {
   "cell_type": "code",
   "execution_count": 11,
   "metadata": {
    "ExecuteTime": {
     "end_time": "2024-04-14T14:18:25.832905Z",
     "start_time": "2024-04-14T14:18:25.828586Z"
    },
    "scrolled": true
   },
   "outputs": [
    {
     "data": {
      "text/plain": [
       "{'count': '500',\n",
       " 'routeLength': '835.16',\n",
       " 'speed': '10.28',\n",
       " 'duration': '92.60',\n",
       " 'waitingTime': '8.64',\n",
       " 'timeLoss': '35.21',\n",
       " 'departDelay': '156.10',\n",
       " 'departDelayWaiting': '-1.00',\n",
       " 'totalTravelTime': '46299.00',\n",
       " 'totalDepartDelay': '78052.00'}"
      ]
     },
     "execution_count": 11,
     "metadata": {},
     "output_type": "execute_result"
    }
   ],
   "source": [
    "readOutputFile(filedir + 'test1.statistic.output.xml')"
   ]
  },
  {
   "cell_type": "code",
   "execution_count": 12,
   "metadata": {
    "ExecuteTime": {
     "end_time": "2024-04-14T13:33:47.834970Z",
     "start_time": "2024-04-14T13:33:42.648613Z"
    }
   },
   "outputs": [
    {
     "name": "stderr",
     "output_type": "stream",
     "text": [
      "100%|████████████████████████████████████████████████████████████████████████████████| 100/100 [00:39<00:00,  2.54it/s]\n"
     ]
    }
   ],
   "source": [
    "for _ in tqdm(list(range(100))):\n",
    "    rtFl.setVehicleType(vtype, {\n",
    "        'accel' : \"3.0\",\n",
    "        'decel' : \"6.0\",\n",
    "        'length' : \"4.0\",\n",
    "        'minGap' : str(minGap),\n",
    "        'maxSpeed' : \"50.0\",\n",
    "        'sigma' : \"0.5\"\n",
    "    })\n",
    "    rtFl.save()\n",
    "    loadConfig(filedir + '\\\\' + configfile)"
   ]
  },
  {
   "cell_type": "code",
   "execution_count": null,
   "metadata": {},
   "outputs": [],
   "source": []
  }
 ],
 "metadata": {
  "kernelspec": {
   "display_name": "Python 3",
   "language": "python",
   "name": "python3"
  },
  "language_info": {
   "codemirror_mode": {
    "name": "ipython",
    "version": 3
   },
   "file_extension": ".py",
   "mimetype": "text/x-python",
   "name": "python",
   "nbconvert_exporter": "python",
   "pygments_lexer": "ipython3",
   "version": "3.9.0"
  },
  "toc": {
   "base_numbering": 1,
   "nav_menu": {},
   "number_sections": true,
   "sideBar": true,
   "skip_h1_title": false,
   "title_cell": "Table of Contents",
   "title_sidebar": "Contents",
   "toc_cell": false,
   "toc_position": {},
   "toc_section_display": true,
   "toc_window_display": false
  }
 },
 "nbformat": 4,
 "nbformat_minor": 4
}
