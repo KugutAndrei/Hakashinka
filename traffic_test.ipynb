{
 "cells": [
  {
   "cell_type": "code",
   "execution_count": 18,
   "metadata": {
    "ExecuteTime": {
     "end_time": "2024-04-14T14:19:56.763302Z",
     "start_time": "2024-04-14T14:19:56.760459Z"
    }
   },
   "outputs": [],
   "source": [
    "from traffic_initialization import *\n",
    "import os\n",
    "import sys\n",
    "from tqdm import tqdm"
   ]
  },
  {
   "cell_type": "code",
   "execution_count": 19,
   "metadata": {
    "ExecuteTime": {
     "end_time": "2024-04-14T14:20:22.852554Z",
     "start_time": "2024-04-14T14:20:22.849985Z"
    }
   },
   "outputs": [],
   "source": [
    "netfile = 'test1.net.xml'\n",
    "routefile = 'test1.rou.xml'\n",
    "configfile = 'test1.sumocfg'\n",
    "addfile = 'test1.add.xml'\n",
    "filedir = '.\\\\xml_data\\\\test1\\\\'"
   ]
  },
  {
   "cell_type": "markdown",
   "metadata": {},
   "source": [
    "## Route file"
   ]
  },
  {
   "cell_type": "code",
   "execution_count": 20,
   "metadata": {
    "ExecuteTime": {
     "end_time": "2024-04-14T14:20:33.264473Z",
     "start_time": "2024-04-14T14:20:33.262230Z"
    }
   },
   "outputs": [],
   "source": [
    "rtFl = RouteFile(filedir + routefile)"
   ]
  },
  {
   "cell_type": "code",
   "execution_count": 21,
   "metadata": {
    "ExecuteTime": {
     "end_time": "2024-04-14T14:20:33.924737Z",
     "start_time": "2024-04-14T14:20:33.921978Z"
    }
   },
   "outputs": [],
   "source": [
    "minGap = 4"
   ]
  },
  {
   "cell_type": "code",
   "execution_count": 22,
   "metadata": {
    "ExecuteTime": {
     "end_time": "2024-04-14T14:20:34.600265Z",
     "start_time": "2024-04-14T14:20:34.597592Z"
    }
   },
   "outputs": [],
   "source": [
    "vtype = 'id0'"
   ]
  },
  {
   "cell_type": "code",
   "execution_count": 23,
   "metadata": {
    "ExecuteTime": {
     "end_time": "2024-04-14T14:20:36.778547Z",
     "start_time": "2024-04-14T14:20:36.775259Z"
    }
   },
   "outputs": [],
   "source": [
    "rtFl.setVehicleType(vtype, {\n",
    "    'accel' : \"3.0\",\n",
    "    'decel' : \"6.0\",\n",
    "    'length' : \"4.0\",\n",
    "    'minGap' : str(minGap),\n",
    "    'maxSpeed' : \"50.0\",\n",
    "    'sigma' : \"0.5\"\n",
    "})"
   ]
  },
  {
   "cell_type": "code",
   "execution_count": 24,
   "metadata": {
    "ExecuteTime": {
     "end_time": "2024-04-14T14:20:37.502157Z",
     "start_time": "2024-04-14T14:20:37.499424Z"
    }
   },
   "outputs": [],
   "source": [
    "rtFl.setVehicleFlow(vtype, 'E0', 'E3', 300, 100, 50.)"
   ]
  },
  {
   "cell_type": "code",
   "execution_count": 25,
   "metadata": {
    "ExecuteTime": {
     "end_time": "2024-04-14T14:20:39.195141Z",
     "start_time": "2024-04-14T14:20:39.192086Z"
    }
   },
   "outputs": [],
   "source": [
    "rtFl.save()"
   ]
  },
  {
   "cell_type": "markdown",
   "metadata": {},
   "source": [
    "## Additional file with calibrator"
   ]
  },
  {
   "cell_type": "code",
   "execution_count": 26,
   "metadata": {},
   "outputs": [],
   "source": [
    "addFl = AditionalFile(filedir + addfile)"
   ]
  },
  {
   "cell_type": "code",
   "execution_count": 27,
   "metadata": {},
   "outputs": [],
   "source": [
    "minGap_new = 5"
   ]
  },
  {
   "cell_type": "code",
   "execution_count": 28,
   "metadata": {},
   "outputs": [],
   "source": [
    "vtype_new = 'id1'"
   ]
  },
  {
   "cell_type": "code",
   "execution_count": 29,
   "metadata": {},
   "outputs": [],
   "source": [
    "addFl.setVehicleType(vtype_new, {\n",
    "    'accel' : \"3.0\",\n",
    "    'decel' : \"6.0\",\n",
    "    'length' : \"4.0\",\n",
    "    'minGap' : str(minGap_new),\n",
    "    'maxSpeed' : \"50.0\",\n",
    "    'sigma' : \"0.5\"\n",
    "})"
   ]
  },
  {
   "cell_type": "code",
   "execution_count": 30,
   "metadata": {},
   "outputs": [],
   "source": [
    "addFl.setCalibrator('cal0', 'E2', '0')\n",
    "addFl.setVehicleFlow('cal0', vtype_new, \"1800\")\n",
    "addFl.setCalibrator('cal1', 'E2', '1')\n",
    "addFl.setVehicleFlow('cal1', vtype_new, \"1800\")"
   ]
  },
  {
   "cell_type": "code",
   "execution_count": 31,
   "metadata": {},
   "outputs": [],
   "source": [
    "addFl.save()"
   ]
  },
  {
   "cell_type": "markdown",
   "metadata": {},
   "source": [
    "## Configuration file"
   ]
  },
  {
   "cell_type": "code",
   "execution_count": 32,
   "metadata": {
    "ExecuteTime": {
     "end_time": "2024-04-14T14:20:41.882999Z",
     "start_time": "2024-04-14T14:20:41.879392Z"
    }
   },
   "outputs": [],
   "source": [
    "generateConfigFile(\n",
    "    filedir + configfile, \n",
    "    netfile, \n",
    "    routefile,\n",
    "    addfile,\n",
    "    output=['statistic', 'tripinfo']\n",
    ")"
   ]
  },
  {
   "cell_type": "markdown",
   "metadata": {},
   "source": [
    "## Simulation run"
   ]
  },
  {
   "cell_type": "code",
   "execution_count": 33,
   "metadata": {
    "ExecuteTime": {
     "end_time": "2024-04-14T14:20:55.762315Z",
     "start_time": "2024-04-14T14:20:55.700016Z"
    }
   },
   "outputs": [
    {
     "name": "stdout",
     "output_type": "stream",
     "text": [
      "1\n"
     ]
    }
   ],
   "source": [
    "loadConfig(filedir +'test1.sumocfg')\n",
    "print(1)"
   ]
  },
  {
   "cell_type": "code",
   "execution_count": 34,
   "metadata": {
    "ExecuteTime": {
     "end_time": "2024-04-14T14:18:25.832905Z",
     "start_time": "2024-04-14T14:18:25.828586Z"
    },
    "scrolled": true
   },
   "outputs": [
    {
     "data": {
      "text/plain": [
       "{'count': '300',\n",
       " 'routeLength': '836.44',\n",
       " 'speed': '11.12',\n",
       " 'duration': '108.83',\n",
       " 'waitingTime': '46.62',\n",
       " 'timeLoss': '91.72',\n",
       " 'departDelay': '135.68',\n",
       " 'departDelayWaiting': '-1.00',\n",
       " 'totalTravelTime': '32650.00',\n",
       " 'totalDepartDelay': '40704.95'}"
      ]
     },
     "execution_count": 34,
     "metadata": {},
     "output_type": "execute_result"
    }
   ],
   "source": [
    "readOutputFile(filedir + 'test1.statistic.output.xml')"
   ]
  },
  {
   "cell_type": "code",
   "execution_count": 12,
   "metadata": {
    "ExecuteTime": {
     "end_time": "2024-04-14T13:33:47.834970Z",
     "start_time": "2024-04-14T13:33:42.648613Z"
    }
   },
   "outputs": [
    {
     "name": "stderr",
     "output_type": "stream",
     "text": [
      "100%|████████████████████████████████████████████████████████████████████████████████| 100/100 [00:39<00:00,  2.54it/s]\n"
     ]
    }
   ],
   "source": [
    "for _ in tqdm(list(range(100))):\n",
    "    rtFl.setVehicleType(vtype, {\n",
    "        'accel' : \"3.0\",\n",
    "        'decel' : \"6.0\",\n",
    "        'length' : \"4.0\",\n",
    "        'minGap' : str(minGap),\n",
    "        'maxSpeed' : \"50.0\",\n",
    "        'sigma' : \"0.5\"\n",
    "    })\n",
    "    rtFl.save()\n",
    "    loadConfig(filedir + '\\\\' + configfile)"
   ]
  },
  {
   "cell_type": "code",
   "execution_count": null,
   "metadata": {},
   "outputs": [],
   "source": []
  }
 ],
 "metadata": {
  "kernelspec": {
   "display_name": "Python 3",
   "language": "python",
   "name": "python3"
  },
  "language_info": {
   "codemirror_mode": {
    "name": "ipython",
    "version": 3
   },
   "file_extension": ".py",
   "mimetype": "text/x-python",
   "name": "python",
   "nbconvert_exporter": "python",
   "pygments_lexer": "ipython3",
   "version": "3.9.0"
  },
  "toc": {
   "base_numbering": 1,
   "nav_menu": {},
   "number_sections": true,
   "sideBar": true,
   "skip_h1_title": false,
   "title_cell": "Table of Contents",
   "title_sidebar": "Contents",
   "toc_cell": false,
   "toc_position": {},
   "toc_section_display": true,
   "toc_window_display": false
  }
 },
 "nbformat": 4,
 "nbformat_minor": 4
}
