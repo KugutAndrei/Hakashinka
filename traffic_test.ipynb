{
 "cells": [
  {
   "cell_type": "code",
   "execution_count": 36,
   "metadata": {
    "ExecuteTime": {
     "end_time": "2024-04-14T14:19:56.763302Z",
     "start_time": "2024-04-14T14:19:56.760459Z"
    }
   },
   "outputs": [],
   "source": [
    "from traffic_initialization import *\n",
    "import os\n",
    "import sys\n",
    "from tqdm import tqdm"
   ]
  },
  {
   "cell_type": "code",
   "execution_count": 38,
   "metadata": {
    "ExecuteTime": {
     "end_time": "2024-04-14T14:20:22.852554Z",
     "start_time": "2024-04-14T14:20:22.849985Z"
    }
   },
   "outputs": [],
   "source": [
    "netfile = 'test1.net.xml'\n",
    "routefile = 'test1.rou.xml'\n",
    "configfile = 'test1.sumocfg'\n",
    "filedir = 'xml_data/test1/'"
   ]
  },
  {
   "cell_type": "code",
   "execution_count": 39,
   "metadata": {
    "ExecuteTime": {
     "end_time": "2024-04-14T14:20:33.264473Z",
     "start_time": "2024-04-14T14:20:33.262230Z"
    }
   },
   "outputs": [],
   "source": [
    "rtFl = RouteFile(filedir + routefile)"
   ]
  },
  {
   "cell_type": "code",
   "execution_count": 40,
   "metadata": {
    "ExecuteTime": {
     "end_time": "2024-04-14T14:20:33.924737Z",
     "start_time": "2024-04-14T14:20:33.921978Z"
    }
   },
   "outputs": [],
   "source": [
    "minGap = 4"
   ]
  },
  {
   "cell_type": "code",
   "execution_count": 41,
   "metadata": {
    "ExecuteTime": {
     "end_time": "2024-04-14T14:20:34.600265Z",
     "start_time": "2024-04-14T14:20:34.597592Z"
    }
   },
   "outputs": [],
   "source": [
    "vtype = 'id0'"
   ]
  },
  {
   "cell_type": "code",
   "execution_count": 42,
   "metadata": {
    "ExecuteTime": {
     "end_time": "2024-04-14T14:20:36.778547Z",
     "start_time": "2024-04-14T14:20:36.775259Z"
    }
   },
   "outputs": [],
   "source": [
    "rtFl.setVehicleType(vtype, {\n",
    "    'accel' : \"3.0\",\n",
    "    'decel' : \"6.0\",\n",
    "    'length' : \"4.0\",\n",
    "    'minGap' : str(minGap),\n",
    "    'maxSpeed' : \"50.0\",\n",
    "    'sigma' : \"0.5\"\n",
    "})"
   ]
  },
  {
   "cell_type": "code",
   "execution_count": 43,
   "metadata": {
    "ExecuteTime": {
     "end_time": "2024-04-14T14:20:37.502157Z",
     "start_time": "2024-04-14T14:20:37.499424Z"
    }
   },
   "outputs": [],
   "source": [
    "rtFl.setVehicleFlow(vtype, 'E0', 'E3', 300, 100, 13.89)"
   ]
  },
  {
   "cell_type": "code",
   "execution_count": 44,
   "metadata": {
    "ExecuteTime": {
     "end_time": "2024-04-14T14:20:39.195141Z",
     "start_time": "2024-04-14T14:20:39.192086Z"
    }
   },
   "outputs": [],
   "source": [
    "rtFl.save()"
   ]
  },
  {
   "cell_type": "code",
   "execution_count": 45,
   "metadata": {
    "ExecuteTime": {
     "end_time": "2024-04-14T14:20:41.882999Z",
     "start_time": "2024-04-14T14:20:41.879392Z"
    }
   },
   "outputs": [],
   "source": [
    "generateConfigFile(\n",
    "    filedir + configfile, \n",
    "    netfile, \n",
    "    routefile,\n",
    "    output=['statistic']#, 'tripinfo']\n",
    ")"
   ]
  },
  {
   "cell_type": "code",
   "execution_count": 46,
   "metadata": {
    "ExecuteTime": {
     "end_time": "2024-04-14T14:20:55.762315Z",
     "start_time": "2024-04-14T14:20:55.700016Z"
    }
   },
   "outputs": [
    {
     "name": "stderr",
     "output_type": "stream",
     "text": [
      "Warning: Environment variable SUMO_HOME is not set properly, disabling XML validation. Set 'auto' or 'always' for web lookups.\n",
      "Error: Could not build output file 'xml_data/test1/xml_data/test1/test1.statistic.output.xml' (No such file or directory).\n",
      "Quitting (on error).\n"
     ]
    }
   ],
   "source": [
    "loadConfig(filedir +'test1.sumocfg')"
   ]
  },
  {
   "cell_type": "code",
   "execution_count": 27,
   "metadata": {
    "ExecuteTime": {
     "end_time": "2024-04-14T14:18:25.832905Z",
     "start_time": "2024-04-14T14:18:25.828586Z"
    },
    "scrolled": true
   },
   "outputs": [
    {
     "data": {
      "text/plain": [
       "{'count': '300',\n",
       " 'routeLength': '835.16',\n",
       " 'speed': '10.17',\n",
       " 'duration': '88.61',\n",
       " 'waitingTime': '5.06',\n",
       " 'timeLoss': '31.49',\n",
       " 'departDelay': '67.93',\n",
       " 'departDelayWaiting': '-1.00',\n",
       " 'totalTravelTime': '26584.00',\n",
       " 'totalDepartDelay': '20379.95'}"
      ]
     },
     "execution_count": 27,
     "metadata": {},
     "output_type": "execute_result"
    }
   ],
   "source": [
    "readOutputFile(filedir + 'test1.statistic.output.xml')"
   ]
  },
  {
   "cell_type": "code",
   "execution_count": 14,
   "metadata": {
    "ExecuteTime": {
     "end_time": "2024-04-14T13:33:47.834970Z",
     "start_time": "2024-04-14T13:33:42.648613Z"
    }
   },
   "outputs": [
    {
     "name": "stderr",
     "output_type": "stream",
     "text": [
      "  0%|                                                   | 0/100 [00:00<?, ?it/s]Warning: Environment variable SUMO_HOME is not set properly, disabling XML validation. Set 'auto' or 'always' for web lookups.\n",
      "Error: Could not build output file 'xml_data/test1/xml_data/test1/test1.tripinfo.output.xml' (No such file or directory).\n",
      "Quitting (on error).\n",
      "Warning: Environment variable SUMO_HOME is not set properly, disabling XML validation. Set 'auto' or 'always' for web lookups.\n",
      "Error: Could not build output file 'xml_data/test1/xml_data/test1/test1.tripinfo.output.xml' (No such file or directory).\n",
      "Quitting (on error).\n",
      "  2%|▊                                          | 2/100 [00:00<00:05, 18.33it/s]Warning: Environment variable SUMO_HOME is not set properly, disabling XML validation. Set 'auto' or 'always' for web lookups.\n",
      "Error: Could not build output file 'xml_data/test1/xml_data/test1/test1.tripinfo.output.xml' (No such file or directory).\n",
      "Quitting (on error).\n",
      "Warning: Environment variable SUMO_HOME is not set properly, disabling XML validation. Set 'auto' or 'always' for web lookups.\n",
      "Error: Could not build output file 'xml_data/test1/xml_data/test1/test1.tripinfo.output.xml' (No such file or directory).\n",
      "Quitting (on error).\n",
      "  4%|█▋                                         | 4/100 [00:00<00:05, 18.12it/s]Warning: Environment variable SUMO_HOME is not set properly, disabling XML validation. Set 'auto' or 'always' for web lookups.\n",
      "Error: Could not build output file 'xml_data/test1/xml_data/test1/test1.tripinfo.output.xml' (No such file or directory).\n",
      "Quitting (on error).\n",
      "Warning: Environment variable SUMO_HOME is not set properly, disabling XML validation. Set 'auto' or 'always' for web lookups.\n",
      "Error: Could not build output file 'xml_data/test1/xml_data/test1/test1.tripinfo.output.xml' (No such file or directory).\n",
      "Quitting (on error).\n",
      "  6%|██▌                                        | 6/100 [00:00<00:05, 17.16it/s]Warning: Environment variable SUMO_HOME is not set properly, disabling XML validation. Set 'auto' or 'always' for web lookups.\n",
      "Error: Could not build output file 'xml_data/test1/xml_data/test1/test1.tripinfo.output.xml' (No such file or directory).\n",
      "Quitting (on error).\n",
      "Warning: Environment variable SUMO_HOME is not set properly, disabling XML validation. Set 'auto' or 'always' for web lookups.\n",
      "Error: Could not build output file 'xml_data/test1/xml_data/test1/test1.tripinfo.output.xml' (No such file or directory).\n",
      "Quitting (on error).\n",
      "  8%|███▍                                       | 8/100 [00:00<00:05, 18.04it/s]Warning: Environment variable SUMO_HOME is not set properly, disabling XML validation. Set 'auto' or 'always' for web lookups.\n",
      "Error: Could not build output file 'xml_data/test1/xml_data/test1/test1.tripinfo.output.xml' (No such file or directory).\n",
      "Quitting (on error).\n",
      "Warning: Environment variable SUMO_HOME is not set properly, disabling XML validation. Set 'auto' or 'always' for web lookups.\n",
      "Error: Could not build output file 'xml_data/test1/xml_data/test1/test1.tripinfo.output.xml' (No such file or directory).\n",
      "Quitting (on error).\n",
      " 10%|████▏                                     | 10/100 [00:00<00:04, 18.64it/s]Warning: Environment variable SUMO_HOME is not set properly, disabling XML validation. Set 'auto' or 'always' for web lookups.\n",
      "Error: Could not build output file 'xml_data/test1/xml_data/test1/test1.tripinfo.output.xml' (No such file or directory).\n",
      "Quitting (on error).\n",
      "Warning: Environment variable SUMO_HOME is not set properly, disabling XML validation. Set 'auto' or 'always' for web lookups.\n",
      "Error: Could not build output file 'xml_data/test1/xml_data/test1/test1.tripinfo.output.xml' (No such file or directory).\n",
      "Quitting (on error).\n",
      "Warning: Environment variable SUMO_HOME is not set properly, disabling XML validation. Set 'auto' or 'always' for web lookups.\n",
      "Error: Could not build output file 'xml_data/test1/xml_data/test1/test1.tripinfo.output.xml' (No such file or directory).\n",
      "Quitting (on error).\n",
      " 13%|█████▍                                    | 13/100 [00:00<00:04, 19.23it/s]Warning: Environment variable SUMO_HOME is not set properly, disabling XML validation. Set 'auto' or 'always' for web lookups.\n",
      "Error: Could not build output file 'xml_data/test1/xml_data/test1/test1.tripinfo.output.xml' (No such file or directory).\n",
      "Quitting (on error).\n",
      "Warning: Environment variable SUMO_HOME is not set properly, disabling XML validation. Set 'auto' or 'always' for web lookups.\n",
      "Error: Could not build output file 'xml_data/test1/xml_data/test1/test1.tripinfo.output.xml' (No such file or directory).\n",
      "Quitting (on error).\n",
      " 15%|██████▎                                   | 15/100 [00:00<00:04, 19.33it/s]Warning: Environment variable SUMO_HOME is not set properly, disabling XML validation. Set 'auto' or 'always' for web lookups.\n",
      "Error: Could not build output file 'xml_data/test1/xml_data/test1/test1.tripinfo.output.xml' (No such file or directory).\n",
      "Quitting (on error).\n",
      "Warning: Environment variable SUMO_HOME is not set properly, disabling XML validation. Set 'auto' or 'always' for web lookups.\n",
      "Error: Could not build output file 'xml_data/test1/xml_data/test1/test1.tripinfo.output.xml' (No such file or directory).\n",
      "Quitting (on error).\n",
      " 17%|███████▏                                  | 17/100 [00:00<00:04, 19.12it/s]Warning: Environment variable SUMO_HOME is not set properly, disabling XML validation. Set 'auto' or 'always' for web lookups.\n",
      "Error: Could not build output file 'xml_data/test1/xml_data/test1/test1.tripinfo.output.xml' (No such file or directory).\n",
      "Quitting (on error).\n",
      "Warning: Environment variable SUMO_HOME is not set properly, disabling XML validation. Set 'auto' or 'always' for web lookups.\n",
      "Error: Could not build output file 'xml_data/test1/xml_data/test1/test1.tripinfo.output.xml' (No such file or directory).\n",
      "Quitting (on error).\n",
      " 19%|███████▉                                  | 19/100 [00:01<00:04, 18.94it/s]Warning: Environment variable SUMO_HOME is not set properly, disabling XML validation. Set 'auto' or 'always' for web lookups.\n",
      "Error: Could not build output file 'xml_data/test1/xml_data/test1/test1.tripinfo.output.xml' (No such file or directory).\n",
      "Quitting (on error).\n",
      "Warning: Environment variable SUMO_HOME is not set properly, disabling XML validation. Set 'auto' or 'always' for web lookups.\n",
      "Error: Could not build output file 'xml_data/test1/xml_data/test1/test1.tripinfo.output.xml' (No such file or directory).\n",
      "Quitting (on error).\n",
      " 21%|████████▊                                 | 21/100 [00:01<00:04, 18.62it/s]Warning: Environment variable SUMO_HOME is not set properly, disabling XML validation. Set 'auto' or 'always' for web lookups.\n",
      "Error: Could not build output file 'xml_data/test1/xml_data/test1/test1.tripinfo.output.xml' (No such file or directory).\n",
      "Quitting (on error).\n",
      "Warning: Environment variable SUMO_HOME is not set properly, disabling XML validation. Set 'auto' or 'always' for web lookups.\n",
      "Error: Could not build output file 'xml_data/test1/xml_data/test1/test1.tripinfo.output.xml' (No such file or directory).\n",
      "Quitting (on error).\n",
      " 23%|█████████▋                                | 23/100 [00:01<00:04, 18.54it/s]Warning: Environment variable SUMO_HOME is not set properly, disabling XML validation. Set 'auto' or 'always' for web lookups.\n",
      "Error: Could not build output file 'xml_data/test1/xml_data/test1/test1.tripinfo.output.xml' (No such file or directory).\n",
      "Quitting (on error).\n",
      "Warning: Environment variable SUMO_HOME is not set properly, disabling XML validation. Set 'auto' or 'always' for web lookups.\n",
      "Error: Could not build output file 'xml_data/test1/xml_data/test1/test1.tripinfo.output.xml' (No such file or directory).\n",
      "Quitting (on error).\n",
      " 25%|██████████▌                               | 25/100 [00:01<00:04, 18.67it/s]Warning: Environment variable SUMO_HOME is not set properly, disabling XML validation. Set 'auto' or 'always' for web lookups.\n",
      "Error: Could not build output file 'xml_data/test1/xml_data/test1/test1.tripinfo.output.xml' (No such file or directory).\n",
      "Quitting (on error).\n",
      "Warning: Environment variable SUMO_HOME is not set properly, disabling XML validation. Set 'auto' or 'always' for web lookups.\n",
      "Error: Could not build output file 'xml_data/test1/xml_data/test1/test1.tripinfo.output.xml' (No such file or directory).\n",
      "Quitting (on error).\n"
     ]
    },
    {
     "name": "stderr",
     "output_type": "stream",
     "text": [
      " 27%|███████████▎                              | 27/100 [00:01<00:03, 18.84it/s]Warning: Environment variable SUMO_HOME is not set properly, disabling XML validation. Set 'auto' or 'always' for web lookups.\n",
      "Error: Could not build output file 'xml_data/test1/xml_data/test1/test1.tripinfo.output.xml' (No such file or directory).\n",
      "Quitting (on error).\n",
      "Warning: Environment variable SUMO_HOME is not set properly, disabling XML validation. Set 'auto' or 'always' for web lookups.\n",
      "Error: Could not build output file 'xml_data/test1/xml_data/test1/test1.tripinfo.output.xml' (No such file or directory).\n",
      "Quitting (on error).\n",
      " 29%|████████████▏                             | 29/100 [00:01<00:03, 19.09it/s]Warning: Environment variable SUMO_HOME is not set properly, disabling XML validation. Set 'auto' or 'always' for web lookups.\n",
      "Error: Could not build output file 'xml_data/test1/xml_data/test1/test1.tripinfo.output.xml' (No such file or directory).\n",
      "Quitting (on error).\n",
      "Warning: Environment variable SUMO_HOME is not set properly, disabling XML validation. Set 'auto' or 'always' for web lookups.\n",
      "Error: Could not build output file 'xml_data/test1/xml_data/test1/test1.tripinfo.output.xml' (No such file or directory).\n",
      "Quitting (on error).\n",
      " 31%|█████████████                             | 31/100 [00:01<00:03, 19.00it/s]Warning: Environment variable SUMO_HOME is not set properly, disabling XML validation. Set 'auto' or 'always' for web lookups.\n",
      "Error: Could not build output file 'xml_data/test1/xml_data/test1/test1.tripinfo.output.xml' (No such file or directory).\n",
      "Quitting (on error).\n",
      "Warning: Environment variable SUMO_HOME is not set properly, disabling XML validation. Set 'auto' or 'always' for web lookups.\n",
      "Error: Could not build output file 'xml_data/test1/xml_data/test1/test1.tripinfo.output.xml' (No such file or directory).\n",
      "Quitting (on error).\n",
      " 33%|█████████████▊                            | 33/100 [00:01<00:03, 19.29it/s]Warning: Environment variable SUMO_HOME is not set properly, disabling XML validation. Set 'auto' or 'always' for web lookups.\n",
      "Error: Could not build output file 'xml_data/test1/xml_data/test1/test1.tripinfo.output.xml' (No such file or directory).\n",
      "Quitting (on error).\n",
      "Warning: Environment variable SUMO_HOME is not set properly, disabling XML validation. Set 'auto' or 'always' for web lookups.\n",
      "Error: Could not build output file 'xml_data/test1/xml_data/test1/test1.tripinfo.output.xml' (No such file or directory).\n",
      "Quitting (on error).\n",
      "Warning: Environment variable SUMO_HOME is not set properly, disabling XML validation. Set 'auto' or 'always' for web lookups.\n",
      "Error: Could not build output file 'xml_data/test1/xml_data/test1/test1.tripinfo.output.xml' (No such file or directory).\n",
      "Quitting (on error).\n",
      " 36%|███████████████                           | 36/100 [00:01<00:03, 19.82it/s]Warning: Environment variable SUMO_HOME is not set properly, disabling XML validation. Set 'auto' or 'always' for web lookups.\n",
      "Error: Could not build output file 'xml_data/test1/xml_data/test1/test1.tripinfo.output.xml' (No such file or directory).\n",
      "Quitting (on error).\n",
      "Warning: Environment variable SUMO_HOME is not set properly, disabling XML validation. Set 'auto' or 'always' for web lookups.\n",
      "Error: Could not build output file 'xml_data/test1/xml_data/test1/test1.tripinfo.output.xml' (No such file or directory).\n",
      "Quitting (on error).\n",
      "Warning: Environment variable SUMO_HOME is not set properly, disabling XML validation. Set 'auto' or 'always' for web lookups.\n",
      "Error: Could not build output file 'xml_data/test1/xml_data/test1/test1.tripinfo.output.xml' (No such file or directory).\n",
      "Quitting (on error).\n",
      " 39%|████████████████▍                         | 39/100 [00:02<00:03, 19.97it/s]Warning: Environment variable SUMO_HOME is not set properly, disabling XML validation. Set 'auto' or 'always' for web lookups.\n",
      "Error: Could not build output file 'xml_data/test1/xml_data/test1/test1.tripinfo.output.xml' (No such file or directory).\n",
      "Quitting (on error).\n",
      "Warning: Environment variable SUMO_HOME is not set properly, disabling XML validation. Set 'auto' or 'always' for web lookups.\n",
      "Error: Could not build output file 'xml_data/test1/xml_data/test1/test1.tripinfo.output.xml' (No such file or directory).\n",
      "Quitting (on error).\n",
      " 41%|█████████████████▏                        | 41/100 [00:02<00:03, 19.65it/s]Warning: Environment variable SUMO_HOME is not set properly, disabling XML validation. Set 'auto' or 'always' for web lookups.\n",
      "Error: Could not build output file 'xml_data/test1/xml_data/test1/test1.tripinfo.output.xml' (No such file or directory).\n",
      "Quitting (on error).\n",
      "Warning: Environment variable SUMO_HOME is not set properly, disabling XML validation. Set 'auto' or 'always' for web lookups.\n",
      "Error: Could not build output file 'xml_data/test1/xml_data/test1/test1.tripinfo.output.xml' (No such file or directory).\n",
      "Quitting (on error).\n",
      " 43%|██████████████████                        | 43/100 [00:02<00:03, 18.32it/s]Warning: Environment variable SUMO_HOME is not set properly, disabling XML validation. Set 'auto' or 'always' for web lookups.\n",
      "Error: Could not build output file 'xml_data/test1/xml_data/test1/test1.tripinfo.output.xml' (No such file or directory).\n",
      "Quitting (on error).\n",
      "Warning: Environment variable SUMO_HOME is not set properly, disabling XML validation. Set 'auto' or 'always' for web lookups.\n",
      "Error: Could not build output file 'xml_data/test1/xml_data/test1/test1.tripinfo.output.xml' (No such file or directory).\n",
      "Quitting (on error).\n",
      " 45%|██████████████████▉                       | 45/100 [00:02<00:02, 18.50it/s]Warning: Environment variable SUMO_HOME is not set properly, disabling XML validation. Set 'auto' or 'always' for web lookups.\n",
      "Error: Could not build output file 'xml_data/test1/xml_data/test1/test1.tripinfo.output.xml' (No such file or directory).\n",
      "Quitting (on error).\n",
      "Warning: Environment variable SUMO_HOME is not set properly, disabling XML validation. Set 'auto' or 'always' for web lookups.\n",
      "Error: Could not build output file 'xml_data/test1/xml_data/test1/test1.tripinfo.output.xml' (No such file or directory).\n",
      "Quitting (on error).\n",
      " 47%|███████████████████▋                      | 47/100 [00:02<00:02, 18.59it/s]Warning: Environment variable SUMO_HOME is not set properly, disabling XML validation. Set 'auto' or 'always' for web lookups.\n",
      "Error: Could not build output file 'xml_data/test1/xml_data/test1/test1.tripinfo.output.xml' (No such file or directory).\n",
      "Quitting (on error).\n",
      "Warning: Environment variable SUMO_HOME is not set properly, disabling XML validation. Set 'auto' or 'always' for web lookups.\n",
      "Error: Could not build output file 'xml_data/test1/xml_data/test1/test1.tripinfo.output.xml' (No such file or directory).\n",
      "Quitting (on error).\n",
      " 49%|████████████████████▌                     | 49/100 [00:02<00:02, 18.69it/s]Warning: Environment variable SUMO_HOME is not set properly, disabling XML validation. Set 'auto' or 'always' for web lookups.\n",
      "Error: Could not build output file 'xml_data/test1/xml_data/test1/test1.tripinfo.output.xml' (No such file or directory).\n",
      "Quitting (on error).\n",
      "Warning: Environment variable SUMO_HOME is not set properly, disabling XML validation. Set 'auto' or 'always' for web lookups.\n",
      "Error: Could not build output file 'xml_data/test1/xml_data/test1/test1.tripinfo.output.xml' (No such file or directory).\n",
      "Quitting (on error).\n",
      " 51%|█████████████████████▍                    | 51/100 [00:02<00:02, 18.80it/s]Warning: Environment variable SUMO_HOME is not set properly, disabling XML validation. Set 'auto' or 'always' for web lookups.\n",
      "Error: Could not build output file 'xml_data/test1/xml_data/test1/test1.tripinfo.output.xml' (No such file or directory).\n",
      "Quitting (on error).\n",
      "Warning: Environment variable SUMO_HOME is not set properly, disabling XML validation. Set 'auto' or 'always' for web lookups.\n",
      "Error: Could not build output file 'xml_data/test1/xml_data/test1/test1.tripinfo.output.xml' (No such file or directory).\n",
      "Quitting (on error).\n",
      "Warning: Environment variable SUMO_HOME is not set properly, disabling XML validation. Set 'auto' or 'always' for web lookups.\n",
      "Error: Could not build output file 'xml_data/test1/xml_data/test1/test1.tripinfo.output.xml' (No such file or directory).\n",
      "Quitting (on error).\n"
     ]
    },
    {
     "name": "stderr",
     "output_type": "stream",
     "text": [
      " 54%|██████████████████████▋                   | 54/100 [00:02<00:02, 19.48it/s]Warning: Environment variable SUMO_HOME is not set properly, disabling XML validation. Set 'auto' or 'always' for web lookups.\n",
      "Error: Could not build output file 'xml_data/test1/xml_data/test1/test1.tripinfo.output.xml' (No such file or directory).\n",
      "Quitting (on error).\n",
      "Warning: Environment variable SUMO_HOME is not set properly, disabling XML validation. Set 'auto' or 'always' for web lookups.\n",
      "Error: Could not build output file 'xml_data/test1/xml_data/test1/test1.tripinfo.output.xml' (No such file or directory).\n",
      "Quitting (on error).\n",
      "Warning: Environment variable SUMO_HOME is not set properly, disabling XML validation. Set 'auto' or 'always' for web lookups.\n",
      "Error: Could not build output file 'xml_data/test1/xml_data/test1/test1.tripinfo.output.xml' (No such file or directory).\n",
      "Quitting (on error).\n",
      " 57%|███████████████████████▉                  | 57/100 [00:02<00:02, 20.11it/s]Warning: Environment variable SUMO_HOME is not set properly, disabling XML validation. Set 'auto' or 'always' for web lookups.\n",
      "Error: Could not build output file 'xml_data/test1/xml_data/test1/test1.tripinfo.output.xml' (No such file or directory).\n",
      "Quitting (on error).\n",
      "Warning: Environment variable SUMO_HOME is not set properly, disabling XML validation. Set 'auto' or 'always' for web lookups.\n",
      "Error: Could not build output file 'xml_data/test1/xml_data/test1/test1.tripinfo.output.xml' (No such file or directory).\n",
      "Quitting (on error).\n",
      "Warning: Environment variable SUMO_HOME is not set properly, disabling XML validation. Set 'auto' or 'always' for web lookups.\n",
      "Error: Could not build output file 'xml_data/test1/xml_data/test1/test1.tripinfo.output.xml' (No such file or directory).\n",
      "Quitting (on error).\n",
      " 60%|█████████████████████████▏                | 60/100 [00:03<00:01, 20.05it/s]Warning: Environment variable SUMO_HOME is not set properly, disabling XML validation. Set 'auto' or 'always' for web lookups.\n",
      "Error: Could not build output file 'xml_data/test1/xml_data/test1/test1.tripinfo.output.xml' (No such file or directory).\n",
      "Quitting (on error).\n",
      "Warning: Environment variable SUMO_HOME is not set properly, disabling XML validation. Set 'auto' or 'always' for web lookups.\n",
      "Error: Could not build output file 'xml_data/test1/xml_data/test1/test1.tripinfo.output.xml' (No such file or directory).\n",
      "Quitting (on error).\n",
      " 62%|██████████████████████████                | 62/100 [00:03<00:01, 19.66it/s]Warning: Environment variable SUMO_HOME is not set properly, disabling XML validation. Set 'auto' or 'always' for web lookups.\n",
      "Error: Could not build output file 'xml_data/test1/xml_data/test1/test1.tripinfo.output.xml' (No such file or directory).\n",
      "Quitting (on error).\n",
      "Warning: Environment variable SUMO_HOME is not set properly, disabling XML validation. Set 'auto' or 'always' for web lookups.\n",
      "Error: Could not build output file 'xml_data/test1/xml_data/test1/test1.tripinfo.output.xml' (No such file or directory).\n",
      "Quitting (on error).\n",
      " 64%|██████████████████████████▉               | 64/100 [00:03<00:01, 19.52it/s]Warning: Environment variable SUMO_HOME is not set properly, disabling XML validation. Set 'auto' or 'always' for web lookups.\n",
      "Error: Could not build output file 'xml_data/test1/xml_data/test1/test1.tripinfo.output.xml' (No such file or directory).\n",
      "Quitting (on error).\n",
      "Warning: Environment variable SUMO_HOME is not set properly, disabling XML validation. Set 'auto' or 'always' for web lookups.\n",
      "Error: Could not build output file 'xml_data/test1/xml_data/test1/test1.tripinfo.output.xml' (No such file or directory).\n",
      "Quitting (on error).\n",
      " 66%|███████████████████████████▋              | 66/100 [00:03<00:01, 19.41it/s]Warning: Environment variable SUMO_HOME is not set properly, disabling XML validation. Set 'auto' or 'always' for web lookups.\n",
      "Error: Could not build output file 'xml_data/test1/xml_data/test1/test1.tripinfo.output.xml' (No such file or directory).\n",
      "Quitting (on error).\n",
      "Warning: Environment variable SUMO_HOME is not set properly, disabling XML validation. Set 'auto' or 'always' for web lookups.\n",
      "Error: Could not build output file 'xml_data/test1/xml_data/test1/test1.tripinfo.output.xml' (No such file or directory).\n",
      "Quitting (on error).\n",
      "Warning: Environment variable SUMO_HOME is not set properly, disabling XML validation. Set 'auto' or 'always' for web lookups.\n",
      "Error: Could not build output file 'xml_data/test1/xml_data/test1/test1.tripinfo.output.xml' (No such file or directory).\n",
      "Quitting (on error).\n",
      " 69%|████████████████████████████▉             | 69/100 [00:03<00:01, 20.01it/s]Warning: Environment variable SUMO_HOME is not set properly, disabling XML validation. Set 'auto' or 'always' for web lookups.\n",
      "Error: Could not build output file 'xml_data/test1/xml_data/test1/test1.tripinfo.output.xml' (No such file or directory).\n",
      "Quitting (on error).\n",
      "Warning: Environment variable SUMO_HOME is not set properly, disabling XML validation. Set 'auto' or 'always' for web lookups.\n",
      "Error: Could not build output file 'xml_data/test1/xml_data/test1/test1.tripinfo.output.xml' (No such file or directory).\n",
      "Quitting (on error).\n",
      "Warning: Environment variable SUMO_HOME is not set properly, disabling XML validation. Set 'auto' or 'always' for web lookups.\n",
      "Error: Could not build output file 'xml_data/test1/xml_data/test1/test1.tripinfo.output.xml' (No such file or directory).\n",
      "Quitting (on error).\n",
      " 72%|██████████████████████████████▏           | 72/100 [00:03<00:01, 20.27it/s]Warning: Environment variable SUMO_HOME is not set properly, disabling XML validation. Set 'auto' or 'always' for web lookups.\n",
      "Error: Could not build output file 'xml_data/test1/xml_data/test1/test1.tripinfo.output.xml' (No such file or directory).\n",
      "Quitting (on error).\n",
      "Warning: Environment variable SUMO_HOME is not set properly, disabling XML validation. Set 'auto' or 'always' for web lookups.\n",
      "Error: Could not build output file 'xml_data/test1/xml_data/test1/test1.tripinfo.output.xml' (No such file or directory).\n",
      "Quitting (on error).\n",
      "Warning: Environment variable SUMO_HOME is not set properly, disabling XML validation. Set 'auto' or 'always' for web lookups.\n",
      "Error: Could not build output file 'xml_data/test1/xml_data/test1/test1.tripinfo.output.xml' (No such file or directory).\n",
      "Quitting (on error).\n",
      " 75%|███████████████████████████████▌          | 75/100 [00:03<00:01, 19.91it/s]Warning: Environment variable SUMO_HOME is not set properly, disabling XML validation. Set 'auto' or 'always' for web lookups.\n",
      "Error: Could not build output file 'xml_data/test1/xml_data/test1/test1.tripinfo.output.xml' (No such file or directory).\n",
      "Quitting (on error).\n",
      "Warning: Environment variable SUMO_HOME is not set properly, disabling XML validation. Set 'auto' or 'always' for web lookups.\n",
      "Error: Could not build output file 'xml_data/test1/xml_data/test1/test1.tripinfo.output.xml' (No such file or directory).\n",
      "Quitting (on error).\n",
      " 77%|████████████████████████████████▎         | 77/100 [00:04<00:01, 19.55it/s]Warning: Environment variable SUMO_HOME is not set properly, disabling XML validation. Set 'auto' or 'always' for web lookups.\n",
      "Error: Could not build output file 'xml_data/test1/xml_data/test1/test1.tripinfo.output.xml' (No such file or directory).\n",
      "Quitting (on error).\n",
      "Warning: Environment variable SUMO_HOME is not set properly, disabling XML validation. Set 'auto' or 'always' for web lookups.\n",
      "Error: Could not build output file 'xml_data/test1/xml_data/test1/test1.tripinfo.output.xml' (No such file or directory).\n",
      "Quitting (on error).\n",
      " 79%|█████████████████████████████████▏        | 79/100 [00:04<00:01, 19.48it/s]Warning: Environment variable SUMO_HOME is not set properly, disabling XML validation. Set 'auto' or 'always' for web lookups.\n",
      "Error: Could not build output file 'xml_data/test1/xml_data/test1/test1.tripinfo.output.xml' (No such file or directory).\n",
      "Quitting (on error).\n",
      "Warning: Environment variable SUMO_HOME is not set properly, disabling XML validation. Set 'auto' or 'always' for web lookups.\n",
      "Error: Could not build output file 'xml_data/test1/xml_data/test1/test1.tripinfo.output.xml' (No such file or directory).\n",
      "Quitting (on error).\n",
      "Warning: Environment variable SUMO_HOME is not set properly, disabling XML validation. Set 'auto' or 'always' for web lookups.\n",
      "Error: Could not build output file 'xml_data/test1/xml_data/test1/test1.tripinfo.output.xml' (No such file or directory).\n",
      "Quitting (on error).\n"
     ]
    },
    {
     "name": "stderr",
     "output_type": "stream",
     "text": [
      " 82%|██████████████████████████████████▍       | 82/100 [00:04<00:00, 19.74it/s]Warning: Environment variable SUMO_HOME is not set properly, disabling XML validation. Set 'auto' or 'always' for web lookups.\n",
      "Error: Could not build output file 'xml_data/test1/xml_data/test1/test1.tripinfo.output.xml' (No such file or directory).\n",
      "Quitting (on error).\n",
      "Warning: Environment variable SUMO_HOME is not set properly, disabling XML validation. Set 'auto' or 'always' for web lookups.\n",
      "Error: Could not build output file 'xml_data/test1/xml_data/test1/test1.tripinfo.output.xml' (No such file or directory).\n",
      "Quitting (on error).\n",
      " 84%|███████████████████████████████████▎      | 84/100 [00:04<00:00, 19.57it/s]Warning: Environment variable SUMO_HOME is not set properly, disabling XML validation. Set 'auto' or 'always' for web lookups.\n",
      "Error: Could not build output file 'xml_data/test1/xml_data/test1/test1.tripinfo.output.xml' (No such file or directory).\n",
      "Quitting (on error).\n",
      "Warning: Environment variable SUMO_HOME is not set properly, disabling XML validation. Set 'auto' or 'always' for web lookups.\n",
      "Error: Could not build output file 'xml_data/test1/xml_data/test1/test1.tripinfo.output.xml' (No such file or directory).\n",
      "Quitting (on error).\n",
      " 86%|████████████████████████████████████      | 86/100 [00:04<00:00, 19.48it/s]Warning: Environment variable SUMO_HOME is not set properly, disabling XML validation. Set 'auto' or 'always' for web lookups.\n",
      "Error: Could not build output file 'xml_data/test1/xml_data/test1/test1.tripinfo.output.xml' (No such file or directory).\n",
      "Quitting (on error).\n",
      "Warning: Environment variable SUMO_HOME is not set properly, disabling XML validation. Set 'auto' or 'always' for web lookups.\n",
      "Error: Could not build output file 'xml_data/test1/xml_data/test1/test1.tripinfo.output.xml' (No such file or directory).\n",
      "Quitting (on error).\n",
      " 88%|████████████████████████████████████▉     | 88/100 [00:04<00:00, 19.47it/s]Warning: Environment variable SUMO_HOME is not set properly, disabling XML validation. Set 'auto' or 'always' for web lookups.\n",
      "Error: Could not build output file 'xml_data/test1/xml_data/test1/test1.tripinfo.output.xml' (No such file or directory).\n",
      "Quitting (on error).\n",
      "Warning: Environment variable SUMO_HOME is not set properly, disabling XML validation. Set 'auto' or 'always' for web lookups.\n",
      "Error: Could not build output file 'xml_data/test1/xml_data/test1/test1.tripinfo.output.xml' (No such file or directory).\n",
      "Quitting (on error).\n",
      " 90%|█████████████████████████████████████▊    | 90/100 [00:04<00:00, 19.36it/s]Warning: Environment variable SUMO_HOME is not set properly, disabling XML validation. Set 'auto' or 'always' for web lookups.\n",
      "Error: Could not build output file 'xml_data/test1/xml_data/test1/test1.tripinfo.output.xml' (No such file or directory).\n",
      "Quitting (on error).\n",
      "Warning: Environment variable SUMO_HOME is not set properly, disabling XML validation. Set 'auto' or 'always' for web lookups.\n",
      "Error: Could not build output file 'xml_data/test1/xml_data/test1/test1.tripinfo.output.xml' (No such file or directory).\n",
      "Quitting (on error).\n",
      " 93%|███████████████████████████████████████   | 93/100 [00:04<00:00, 20.69it/s]Warning: Environment variable SUMO_HOME is not set properly, disabling XML validation. Set 'auto' or 'always' for web lookups.\n",
      "Error: Could not build output file 'xml_data/test1/xml_data/test1/test1.tripinfo.output.xml' (No such file or directory).\n",
      "Quitting (on error).\n",
      "Warning: Environment variable SUMO_HOME is not set properly, disabling XML validation. Set 'auto' or 'always' for web lookups.\n",
      "Error: Could not build output file 'xml_data/test1/xml_data/test1/test1.tripinfo.output.xml' (No such file or directory).\n",
      "Quitting (on error).\n",
      "Warning: Environment variable SUMO_HOME is not set properly, disabling XML validation. Set 'auto' or 'always' for web lookups.\n",
      "Error: Could not build output file 'xml_data/test1/xml_data/test1/test1.tripinfo.output.xml' (No such file or directory).\n",
      "Quitting (on error).\n",
      " 96%|████████████████████████████████████████▎ | 96/100 [00:04<00:00, 20.26it/s]Warning: Environment variable SUMO_HOME is not set properly, disabling XML validation. Set 'auto' or 'always' for web lookups.\n",
      "Error: Could not build output file 'xml_data/test1/xml_data/test1/test1.tripinfo.output.xml' (No such file or directory).\n",
      "Quitting (on error).\n",
      "Warning: Environment variable SUMO_HOME is not set properly, disabling XML validation. Set 'auto' or 'always' for web lookups.\n",
      "Error: Could not build output file 'xml_data/test1/xml_data/test1/test1.tripinfo.output.xml' (No such file or directory).\n",
      "Quitting (on error).\n",
      "Warning: Environment variable SUMO_HOME is not set properly, disabling XML validation. Set 'auto' or 'always' for web lookups.\n",
      "Error: Could not build output file 'xml_data/test1/xml_data/test1/test1.tripinfo.output.xml' (No such file or directory).\n",
      "Quitting (on error).\n",
      " 99%|█████████████████████████████████████████▌| 99/100 [00:05<00:00, 19.76it/s]Warning: Environment variable SUMO_HOME is not set properly, disabling XML validation. Set 'auto' or 'always' for web lookups.\n",
      "Error: Could not build output file 'xml_data/test1/xml_data/test1/test1.tripinfo.output.xml' (No such file or directory).\n",
      "Quitting (on error).\n",
      "100%|█████████████████████████████████████████| 100/100 [00:05<00:00, 19.34it/s]\n"
     ]
    }
   ],
   "source": [
    "for _ in tqdm(list(range(100))):\n",
    "    rtFl.setVehicleType(vtype, {\n",
    "        'accel' : \"3.0\",\n",
    "        'decel' : \"6.0\",\n",
    "        'length' : \"4.0\",\n",
    "        'minGap' : str(minGap),\n",
    "        'maxSpeed' : \"50.0\",\n",
    "        'sigma' : \"0.5\"\n",
    "    })\n",
    "    rtFl.save()\n",
    "    loadConfig(filedir + '\\\\' + configfile)"
   ]
  },
  {
   "cell_type": "code",
   "execution_count": null,
   "metadata": {},
   "outputs": [],
   "source": []
  }
 ],
 "metadata": {
  "kernelspec": {
   "display_name": "Python 3 (ipykernel)",
   "language": "python",
   "name": "python3"
  },
  "language_info": {
   "codemirror_mode": {
    "name": "ipython",
    "version": 3
   },
   "file_extension": ".py",
   "mimetype": "text/x-python",
   "name": "python",
   "nbconvert_exporter": "python",
   "pygments_lexer": "ipython3",
   "version": "3.9.12"
  },
  "toc": {
   "base_numbering": 1,
   "nav_menu": {},
   "number_sections": true,
   "sideBar": true,
   "skip_h1_title": false,
   "title_cell": "Table of Contents",
   "title_sidebar": "Contents",
   "toc_cell": false,
   "toc_position": {},
   "toc_section_display": true,
   "toc_window_display": false
  }
 },
 "nbformat": 4,
 "nbformat_minor": 4
}
