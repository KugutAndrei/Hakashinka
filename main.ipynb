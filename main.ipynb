{
 "cells": [
  {
   "cell_type": "code",
   "execution_count": 66,
   "metadata": {
    "ExecuteTime": {
     "end_time": "2024-04-16T16:24:02.524408Z",
     "start_time": "2024-04-16T16:24:02.519984Z"
    }
   },
   "outputs": [],
   "source": [
    "import numpy as np\n",
    "import matplotlib.pyplot as plt\n",
    "import scipy as sc\n",
    "# import sumo as sm\n",
    "import os\n",
    "from traffic_initialization import *\n",
    "import sys\n",
    "from bs4 import BeautifulSoup\n",
    "import tqdm"
   ]
  },
  {
   "cell_type": "code",
   "execution_count": 67,
   "metadata": {
    "ExecuteTime": {
     "end_time": "2024-04-16T16:24:09.479132Z",
     "start_time": "2024-04-16T16:24:08.326494Z"
    },
    "scrolled": true
   },
   "outputs": [
    {
     "name": "stderr",
     "output_type": "stream",
     "text": [
      "Warning: Environment variable SUMO_HOME is not set properly, disabling XML validation. Set 'auto' or 'always' for web lookups.\n"
     ]
    },
    {
     "name": "stdout",
     "output_type": "stream",
     "text": [
      "Step #0.00 (2ms ~= 500.00*RT, ~1000.00UPS, vehicles TOT 2 ACT 2 BUF 1)                    \r",
      "Step #100.00 (1ms ~= 1000.00*RT, ~93000.00UPS, vehicles TOT 136 ACT 93 BUF 764)           \r",
      "Step #200.00 (1ms ~= 1000.00*RT, ~147000.00UPS, vehicles TOT 268 ACT 147 BUF 632)         \r",
      "Step #300.00 (1ms ~= 1000.00*RT, ~205000.00UPS, vehicles TOT 401 ACT 205 BUF 499)         \r",
      "Step #400.00 (0ms ?*RT. ?UPS, vehicles TOT 503 ACT 236 BUF 397)                           \r",
      "Step #500.00 (1ms ~= 1000.00*RT, ~231000.00UPS, vehicles TOT 580 ACT 231 BUF 320)         \r",
      "Step #600.00 (1ms ~= 1000.00*RT, ~237000.00UPS, vehicles TOT 653 ACT 237 BUF 247)         \r",
      "Step #700.00 (1ms ~= 1000.00*RT, ~234000.00UPS, vehicles TOT 720 ACT 234 BUF 180)         \r",
      "Step #800.00 (1ms ~= 1000.00*RT, ~238000.00UPS, vehicles TOT 795 ACT 238 BUF 105)         \r",
      "Step #900.00 (1ms ~= 1000.00*RT, ~243000.00UPS, vehicles TOT 869 ACT 243 BUF 31)          \r",
      "Step #1000.00 (1ms ~= 1000.00*RT, ~208000.00UPS, vehicles TOT 900 ACT 208 BUF 0)          \r",
      "Step #1100.00 (1ms ~= 1000.00*RT, ~131000.00UPS, vehicles TOT 900 ACT 131 BUF 0)          \r",
      "Step #1200.00 (0ms ?*RT. ?UPS, vehicles TOT 900 ACT 56 BUF 0)                             \r",
      "Step #1287.00 (0ms ?*RT. ?UPS, vehicles TOT 900 ACT 0 BUF 0)                              \r\n",
      "252.94\n"
     ]
    }
   ],
   "source": [
    "# initial xml encoding\n",
    "minGap=3\n",
    "N=300\n",
    "\n",
    "test_name = 'test5'\n",
    "\n",
    "filedir = './xml_data/' + test_name + '/'\n",
    "\n",
    "netfile = test_name + '.net.xml'\n",
    "routefile = test_name + '.rou.xml'\n",
    "configfile = test_name + '.sumocfg'\n",
    "outpufile = test_name + '.statistic.output.xml'\n",
    "\n",
    "rtFl = RouteFile(filedir + routefile)\n",
    "\n",
    "#1\n",
    "\n",
    "vtype = 'id0'\n",
    "\n",
    "rtFl.setVehicleType(vtype, {\n",
    "'accel' : \"3.0\",\n",
    "'decel' : \"6.0\",\n",
    "'length' : \"4.0\",\n",
    "'minGap' : str(minGap),\n",
    "'maxSpeed' : \"50.0\",\n",
    "'sigma' : \"0\"\n",
    "})\n",
    "\n",
    "rtFl.setVehicleFlow(vtype, source='E0', dest='E4', num=N, dur=100, speed=13.89)\n",
    "\n",
    "#2\n",
    "\n",
    "vtype = 'id1'\n",
    "\n",
    "rtFl.setVehicleType(vtype, {\n",
    "'accel' : \"3.0\",\n",
    "'decel' : \"6.0\",\n",
    "'length' : \"4.0\",\n",
    "'minGap' : str(minGap),\n",
    "'maxSpeed' : \"50.0\",\n",
    "'sigma' : \"0\"\n",
    "})\n",
    "\n",
    "rtFl.setVehicleFlow(vtype, source='E0', dest='E12', num=N, dur=100, speed=13.89)\n",
    "\n",
    "vtype = 'id2'\n",
    "\n",
    "rtFl.setVehicleType(vtype, {\n",
    "'accel' : \"3.0\",\n",
    "'decel' : \"6.0\",\n",
    "'length' : \"4.0\",\n",
    "'minGap' : str(minGap),\n",
    "'maxSpeed' : \"50.0\",\n",
    "'sigma' : \"0\"\n",
    "})\n",
    "\n",
    "rtFl.setVehicleFlow(vtype, source='E0', dest='E14', num=N, dur=100, speed=13.89)\n",
    "\n",
    "\n",
    "# #3\n",
    "\n",
    "# vtype = 'id2'\n",
    "\n",
    "# rtFl.setVehicleType(vtype, {\n",
    "# 'accel' : \"3.0\",\n",
    "# 'decel' : \"6.0\",\n",
    "# 'length' : \"4.0\",\n",
    "# 'minGap' : str(minGap),\n",
    "# 'maxSpeed' : \"50.0\",\n",
    "# 'sigma' : \"0\"\n",
    "# })\n",
    "\n",
    "# rtFl.setVehicleFlow(vtype, source='E13', dest='E4', num=N/2, dur=100, speed=13.89)\n",
    "\n",
    "# #4\n",
    "\n",
    "# vtype = 'id3'\n",
    "\n",
    "# rtFl.setVehicleType(vtype, {\n",
    "# 'accel' : \"3.0\",\n",
    "# 'decel' : \"6.0\",\n",
    "# 'length' : \"4.0\",\n",
    "# 'minGap' : str(minGap),\n",
    "# 'maxSpeed' : \"50.0\",\n",
    "# 'sigma' : \"0\"\n",
    "# })\n",
    "\n",
    "#rtFl.setVehicleFlow(vtype, source='E13', dest='E12', num=N/2, dur=100, speed=13.89)\n",
    "\n",
    "\n",
    "rtFl.save()\n",
    "\n",
    "generateConfigFile(\n",
    "filedir + configfile, \n",
    "netfile,\n",
    "routefile,\n",
    "output=['statistic', 'tripinfo']\n",
    ")\n",
    "\n",
    "loadConfig(filedir + test_name + '.sumocfg')\n",
    "# xml reading\n",
    "f_name = filedir + outpufile\n",
    "with open(f_name, 'r') as file:\n",
    "    data = file.read()\n",
    "data = BeautifulSoup(data, \"xml\")\n",
    "# average output flow is equal to N/T, where T – full model time\n",
    "ans = float(data('vehicleTripStatistics')[0]['duration'])\n",
    "#ans = N/float(data('performance')[0]['duration'])\n",
    "print(ans)"
   ]
  },
  {
   "cell_type": "code",
   "execution_count": 131,
   "metadata": {
    "ExecuteTime": {
     "end_time": "2024-04-15T20:08:42.750362Z",
     "start_time": "2024-04-15T20:08:42.729764Z"
    },
    "code_folding": [
     2,
     28,
     73,
     132,
     152
    ]
   },
   "outputs": [],
   "source": [
    "def loss(minGap, test_name, N, stat='mean'):\n",
    "\n",
    "    if(test_name=='test1'):\n",
    "        # initial xml encoding\n",
    "\n",
    "        filedir = './xml_data/test1/'\n",
    "\n",
    "        netfile = 'test1.net.xml'\n",
    "        routefile = 'test1.rou.xml'\n",
    "        configfile = 'test1.sumocfg'\n",
    "        outpufile = 'test1.statistic.output.xml'\n",
    "\n",
    "        rtFl = RouteFile(filedir + routefile)\n",
    "\n",
    "        vtype = 'id0'\n",
    "\n",
    "        rtFl.setVehicleType(vtype, {\n",
    "        'accel' : \"3.0\",\n",
    "        'decel' : \"6.0\",\n",
    "        'length' : \"4.0\",\n",
    "        'minGap' : str(minGap),\n",
    "        'maxSpeed' : \"50.0\",\n",
    "        'sigma' : \"0\"\n",
    "        })\n",
    "\n",
    "        rtFl.setVehicleFlow(vtype, source='E0', dest='E3', num=N, dur=100, speed=30)\n",
    "        rtFl.save()\n",
    "            \n",
    "    elif(test_name=='test4'):\n",
    "        \n",
    "        test_name = 'test4'\n",
    "\n",
    "        filedir = './xml_data/' + test_name + '/'\n",
    "\n",
    "        netfile = test_name + '.net.xml'\n",
    "        routefile = test_name + '.rou.xml'\n",
    "        configfile = test_name + '.sumocfg'\n",
    "        outpufile = test_name + '.statistic.output.xml'\n",
    "\n",
    "        rtFl = RouteFile(filedir + routefile)\n",
    "\n",
    "        #1\n",
    "\n",
    "        vtype = 'id0'\n",
    "\n",
    "        rtFl.setVehicleType(vtype, {\n",
    "        'accel' : \"3.0\",\n",
    "        'decel' : \"6.0\",\n",
    "        'length' : \"4.0\",\n",
    "        'minGap' : str(minGap),\n",
    "        'maxSpeed' : \"50.0\",\n",
    "        'sigma' : \"0\"\n",
    "        })\n",
    "\n",
    "        rtFl.setVehicleFlow(vtype, source='E0', dest='E4', num=N, dur=100, speed=13.89)\n",
    "\n",
    "        #2\n",
    "\n",
    "        vtype = 'id1'\n",
    "\n",
    "        rtFl.setVehicleType(vtype, {\n",
    "        'accel' : \"3.0\",\n",
    "        'decel' : \"6.0\",\n",
    "        'length' : \"4.0\",\n",
    "        'minGap' : str(minGap),\n",
    "        'maxSpeed' : \"50.0\",\n",
    "        'sigma' : \"0\"\n",
    "        })\n",
    "\n",
    "        rtFl.setVehicleFlow(vtype, source='E0', dest='E12', num=N, dur=100, speed=13.89)\n",
    "\n",
    "        rtFl.save()\n",
    "        \n",
    "    elif(test_name=='test5'):\n",
    "\n",
    "        filedir = './xml_data/' + test_name + '/'\n",
    "\n",
    "        netfile = test_name + '.net.xml'\n",
    "        routefile = test_name + '.rou.xml'\n",
    "        configfile = test_name + '.sumocfg'\n",
    "        outpufile = test_name + '.statistic.output.xml'\n",
    "\n",
    "        rtFl = RouteFile(filedir + routefile)\n",
    "\n",
    "        #1\n",
    "\n",
    "        vtype = 'id0'\n",
    "\n",
    "        rtFl.setVehicleType(vtype, {\n",
    "        'accel' : \"3.0\",\n",
    "        'decel' : \"6.0\",\n",
    "        'length' : \"4.0\",\n",
    "        'minGap' : str(minGap),\n",
    "        'maxSpeed' : \"50.0\",\n",
    "        'sigma' : \"0\"\n",
    "        })\n",
    "\n",
    "        rtFl.setVehicleFlow(vtype, source='E0', dest='E4', num=N, dur=100, speed=13)\n",
    "\n",
    "        #2\n",
    "\n",
    "        vtype = 'id1'\n",
    "\n",
    "        rtFl.setVehicleType(vtype, {\n",
    "        'accel' : \"3.0\",\n",
    "        'decel' : \"6.0\",\n",
    "        'length' : \"4.0\",\n",
    "        'minGap' : str(minGap),\n",
    "        'maxSpeed' : \"50.0\",\n",
    "        'sigma' : \"0\"\n",
    "        })\n",
    "\n",
    "        rtFl.setVehicleFlow(vtype, source='E0', dest='E12', num=N, dur=100, speed=13)\n",
    "        \n",
    "        #3\n",
    "\n",
    "        vtype = 'id2'\n",
    "\n",
    "        rtFl.setVehicleType(vtype, {\n",
    "        'accel' : \"3.0\",\n",
    "        'decel' : \"6.0\",\n",
    "        'length' : \"4.0\",\n",
    "        'minGap' : str(minGap),\n",
    "        'maxSpeed' : \"50.0\",\n",
    "        'sigma' : \"0\"\n",
    "        })\n",
    "\n",
    "        rtFl.setVehicleFlow(vtype, source='E0', dest='E14', num=N, dur=100, speed=13)\n",
    "\n",
    "        rtFl.save()\n",
    "\n",
    "        \n",
    "    if stat == 'mean':\n",
    "        generateConfigFile(\n",
    "        filedir + configfile, \n",
    "        netfile,\n",
    "        routefile,\n",
    "        output=['statistic']#, 'tripinfo']\n",
    "        )\n",
    "\n",
    "        loadConfig(filedir + test_name + '.sumocfg')\n",
    "        # xml reading\n",
    "        f_name = filedir + outpufile\n",
    "        with open(f_name, 'r') as file:\n",
    "            data = file.read()\n",
    "        data = BeautifulSoup(data, \"xml\")\n",
    "        # average output flow is equal to N/T, where T – full model time\n",
    "        #ans = float(data('vehicleTripStatistics')[0]['duration'])\n",
    "        ans = N/float(data('performance')[0]['duration'])\n",
    "\n",
    "        return ans\n",
    "\n",
    "    elif stat == 'median':\n",
    "        generateConfigFile(\n",
    "        filedir + configfile, \n",
    "        netfile,\n",
    "        routefile,\n",
    "        output=['tripinfo']\n",
    "        )\n",
    "\n",
    "        loadConfig(filedir + test_name + '.sumocfg')\n",
    "        # xml reading\n",
    "        f_name = filedir + test_name + '.tripinfo.output.xml'\n",
    "        with open(f_name, 'r') as file:\n",
    "            data = file.read()\n",
    "        data = BeautifulSoup(data, \"xml\")\n",
    "\n",
    "        arr = []\n",
    "        for sruct in data('tripinfo'):\n",
    "            arr.append(float(sruct['arrival']))\n",
    "\n",
    "        n = 5\n",
    "        arr = np.array(arr)\n",
    "        step = max(arr)/n\n",
    "        rates = []\n",
    "        for i in range(n):\n",
    "            temp = arr[arr > i*step]\n",
    "            temp = temp[temp <= (i+1)*step]\n",
    "            rates.append(temp.size)\n",
    "        return np.median(rates)\n",
    "\n",
    "\n",
    "    elif stat == 'car_time':\n",
    "        generateConfigFile(\n",
    "        filedir + configfile, \n",
    "        netfile,\n",
    "        routefile,\n",
    "        output=['tripinfo']\n",
    "        )\n",
    "\n",
    "        loadConfig(filedir + test_name + '.sumocfg')\n",
    "        # xml reading\n",
    "        f_name = filedir + outpufile\n",
    "        with open(f_name, 'r') as file:\n",
    "            data = file.read()\n",
    "        data = BeautifulSoup(data, \"xml\")\n",
    "        # average output flow is equal to N/T, where T – full model time\n",
    "        ans = float(data('vehicleTripStatistics')[0]['duration'])\n",
    "        \n",
    "        return 1/ans\n",
    "    \n",
    "    else:\n",
    "        raise Exception('Undefined statistics!')"
   ]
  },
  {
   "cell_type": "code",
   "execution_count": 135,
   "metadata": {
    "ExecuteTime": {
     "end_time": "2024-04-15T20:14:14.220012Z",
     "start_time": "2024-04-15T20:14:13.479079Z"
    },
    "scrolled": true
   },
   "outputs": [
    {
     "data": {
      "text/plain": [
       "0.23651844843897823"
      ]
     },
     "execution_count": 135,
     "metadata": {},
     "output_type": "execute_result"
    }
   ],
   "source": [
    "loss(3.8, 'test5', 250)"
   ]
  },
  {
   "cell_type": "code",
   "execution_count": 72,
   "metadata": {
    "ExecuteTime": {
     "end_time": "2024-04-16T16:28:21.320741Z",
     "start_time": "2024-04-16T16:28:21.318033Z"
    },
    "scrolled": true
   },
   "outputs": [],
   "source": [
    "# graphs\n",
    "\n",
    "X = np.linspace(0, 8, 300)\n",
    "Y = np.zeros(X.shape[0])\n",
    "\n",
    "for i in tqdm.tqdm(range(X.shape[0])):\n",
    "    \n",
    "    Y[i] = loss(X[i], 'test4', 250)"
   ]
  },
  {
   "cell_type": "code",
   "execution_count": 70,
   "metadata": {
    "ExecuteTime": {
     "end_time": "2024-04-16T16:27:46.395219Z",
     "start_time": "2024-04-16T16:27:46.386091Z"
    }
   },
   "outputs": [],
   "source": [
    "np.savez('res_data/' + 'test4_3', X=X, Y=Y, N = 250, speed=30, maxspeed=50)"
   ]
  },
  {
   "cell_type": "code",
   "execution_count": 71,
   "metadata": {
    "ExecuteTime": {
     "end_time": "2024-04-16T16:27:47.028846Z",
     "start_time": "2024-04-16T16:27:46.866314Z"
    }
   },
   "outputs": [
    {
     "data": {
      "text/plain": [
       "Text(0, 0.5, 'throughput')"
      ]
     },
     "execution_count": 71,
     "metadata": {},
     "output_type": "execute_result"
    },
    {
     "data": {
      "image/png": "[encoded data removed]",
      "text/plain": [
       "<Figure size 720x720 with 1 Axes>"
      ]
     },
     "metadata": {
      "needs_background": "light"
     },
     "output_type": "display_data"
    }
   ],
   "source": [
    "fig, ax = plt.subplots(figsize=(10, 10), layout='constrained')\n",
    "\n",
    "plt.rcParams['font.size'] = '30'\n",
    "ax.plot(X, Y)\n",
    "ax.set_xlabel('minGap')\n",
    "ax.set_ylabel('throughput')\n"
   ]
  },
  {
   "cell_type": "code",
   "execution_count": null,
   "metadata": {
    "ExecuteTime": {
     "end_time": "2024-04-15T16:54:27.395435Z",
     "start_time": "2024-04-15T16:54:27.263135Z"
    }
   },
   "outputs": [
    {
     "data": {
      "text/plain": [
       "Text(0, 0.5, 'throughput')"
      ]
     },
     "execution_count": 133,
     "metadata": {},
     "output_type": "execute_result"
    },
    {
     "data": {
      "image/png": "[encoded data removed]",
      "text/plain": [
       "<Figure size 720x720 with 1 Axes>"
      ]
     },
     "metadata": {
      "needs_background": "light"
     },
     "output_type": "display_data"
    }
   ],
   "source": [
    "fig, ax = plt.subplots(figsize=(10, 10), layout='constrained')\n",
    "\n",
    "plt.rcParams['font.size'] = '30'\n",
    "ax.plot(X, Y)\n",
    "ax.set_xlabel('minGap')\n",
    "ax.set_ylabel('throughput')\n"
   ]
  },
  {
   "cell_type": "code",
   "execution_count": 20,
   "metadata": {},
   "outputs": [
    {
     "ename": "TypeError",
     "evalue": "dual_annealing() got multiple values for argument 'bounds'",
     "output_type": "error",
     "traceback": [
      "\u001b[1;31m---------------------------------------------------------------------------\u001b[0m",
      "\u001b[1;31mTypeError\u001b[0m                                 Traceback (most recent call last)",
      "\u001b[1;32mc:\\Users\\Saviery\\BullShit\\Data scientist\\Digital department\\Hakashinka\\main.ipynb Cell 9\u001b[0m line \u001b[0;36m5\n\u001b[0;32m      <a href='vscode-notebook-cell:/c%3A/Users/Saviery/BullShit/Data%20scientist/Digital%20department/Hakashinka/main.ipynb#X11sZmlsZQ%3D%3D?line=0'>1</a>\u001b[0m \u001b[39m# simple optimization\u001b[39;00m\n\u001b[0;32m      <a href='vscode-notebook-cell:/c%3A/Users/Saviery/BullShit/Data%20scientist/Digital%20department/Hakashinka/main.ipynb#X11sZmlsZQ%3D%3D?line=2'>3</a>\u001b[0m bounds \u001b[39m=\u001b[39m (\u001b[39m0\u001b[39m, \u001b[39mNone\u001b[39;00m)\n\u001b[1;32m----> <a href='vscode-notebook-cell:/c%3A/Users/Saviery/BullShit/Data%20scientist/Digital%20department/Hakashinka/main.ipynb#X11sZmlsZQ%3D%3D?line=4'>5</a>\u001b[0m sol \u001b[39m=\u001b[39m sc\u001b[39m.\u001b[39;49moptimize\u001b[39m.\u001b[39;49mdual_annealing(loss, \u001b[39m1.0\u001b[39;49m, bounds\u001b[39m=\u001b[39;49m[bounds], args\u001b[39m=\u001b[39;49m[\u001b[39m'\u001b[39;49m\u001b[39mtest5\u001b[39;49m\u001b[39m'\u001b[39;49m, \u001b[39m250\u001b[39;49m], maxiter\u001b[39m=\u001b[39;49m\u001b[39m200\u001b[39;49m)\n\u001b[0;32m      <a href='vscode-notebook-cell:/c%3A/Users/Saviery/BullShit/Data%20scientist/Digital%20department/Hakashinka/main.ipynb#X11sZmlsZQ%3D%3D?line=5'>6</a>\u001b[0m ans \u001b[39m=\u001b[39m sol\u001b[39m.\u001b[39mx\n",
      "\u001b[1;31mTypeError\u001b[0m: dual_annealing() got multiple values for argument 'bounds'"
     ]
    }
   ],
   "source": [
    "# simple optimization\n",
    "\n",
    "bounds = (, )\n",
    "\n",
    "sol = sc.optimize.dual_annealing(loss, bounds=[bounds], args=['road', inflow], maxiter=200)\n",
    "ans = sol.x"
   ]
  },
  {
   "cell_type": "code",
   "execution_count": 136,
   "metadata": {},
   "outputs": [
    {
     "name": "stdout",
     "output_type": "stream",
     "text": [
      "  message: CONVERGENCE: NORM_OF_PROJECTED_GRADIENT_<=_PGTOL\n",
      "  success: True\n",
      "   status: 0\n",
      "      fun: -0.23651844843897823\n",
      "        x: [ 5.000e-01]\n",
      "      nit: 0\n",
      "      jac: [ 0.000e+00]\n",
      "     nfev: 2\n",
      "     njev: 1\n",
      " hess_inv: <1x1 LbfgsInvHessProduct with dtype=float64>\n"
     ]
    }
   ],
   "source": [
    "# предыдущее, у меня не работает, это, вроде работает\n",
    "# TODO: почему-то алгоритм сходится за две итерации, как будто считает, что функция = const\n",
    "def inverse_loss(minGap: float, test_name: str, N:int, stat:str='mean') -> float:\n",
    "    # print(minGap)\n",
    "    return -loss(minGap, test_name, N, stat=stat)\n",
    "    # return (minGap - 10)**2 + 1\n",
    "\n",
    "def dumb_best_dist(test_name: str, n_cars: int) -> float:\n",
    "    ans = sc.optimize.minimize(inverse_loss, 0.5, args=(test_name, n_cars), bounds=[(0.0, None)])\n",
    "    print(ans)\n",
    "\n",
    "dumb_best_dist('test5', 250)"
   ]
  },
  {
   "cell_type": "code",
   "execution_count": 46,
   "metadata": {},
   "outputs": [
    {
     "data": {
      "image/png": "[encoded data removed]",
      "text/plain": [
       "<Figure size 640x480 with 1 Axes>"
      ]
     },
     "metadata": {},
     "output_type": "display_data"
    }
   ],
   "source": [
    "x = np.arange(0, 10, 0.5)\n",
    "y = []\n",
    "for el in x:\n",
    "    y.append(loss(el, 'test4', 250))\n",
    "plt.plot(x, y)\n",
    "plt.show()"
   ]
  },
  {
   "cell_type": "code",
   "execution_count": 51,
   "metadata": {},
   "outputs": [],
   "source": [
    "import pandas as pd\n",
    "from sklearn.ensemble import GradientBoostingRegressor"
   ]
  },
  {
   "cell_type": "code",
   "execution_count": 110,
   "metadata": {
    "code_folding": []
   },
   "outputs": [],
   "source": [
    "# smart ml optimization?\n",
    "class OptinalDist():\n",
    "\n",
    "    def __init__(self, n_estimators:int = 100, max_depth: int = 3):\n",
    "        self.n_estimators = n_estimators\n",
    "        self.max_depth = max_depth\n",
    "        self.hasFit = False\n",
    "\n",
    "    def fit(self, test_name:str) -> None:\n",
    "        \"\"\"\n",
    "        Обучает модель под дорогу\n",
    "        \"\"\"\n",
    "        self.test_name = test_name\n",
    "        min_n_cars = 50\n",
    "        max_n_cars = 100\n",
    "        cars_step = 50\n",
    "        min_dist = 0\n",
    "        max_dist = 10\n",
    "        dist_step = 1\n",
    "        X = pd.DataFrame({\"n_cars\": []})\n",
    "        y = pd.Series(name=\"best_dist\")\n",
    "\n",
    "        for n_cars in range(min_n_cars, max_n_cars, cars_step):\n",
    "            max_loss = -1.0\n",
    "            best_dist = -1.0\n",
    "            for dist in np.arange(min_dist, max_dist, dist_step):\n",
    "                loss_res = loss(dist, self.test_name, n_cars)\n",
    "                if loss_res > max_loss:\n",
    "                    max_loss = loss_res\n",
    "                    best_dist = dist\n",
    "            X.loc[len(X)] = n_cars\n",
    "            y.loc[len(y)] = best_dist\n",
    "        \n",
    "        self.reg = GradientBoostingRegressor(n_estimators=self.n_estimators, max_depth=self.max_depth)\n",
    "        self.reg.fit(X, y)\n",
    "        self.hasFit = True\n",
    "\n",
    "    def predict(self, n_cars:int | np.ndarray) -> float | np.ndarray:\n",
    "        \"\"\"\n",
    "        Предсказывает наилучшую дистанцию для заданного числа машин\n",
    "        \"\"\"\n",
    "        assert self.hasFit, \"You should fit model first\"\n",
    "        y = np.array(n_cars).reshape(-1, 1)\n",
    "        y = y.reshape(len(y), -1)\n",
    "        return self.reg.predict(y)"
   ]
  },
  {
   "cell_type": "code",
   "execution_count": 111,
   "metadata": {},
   "outputs": [],
   "source": [
    "obj = OptinalDist()\n",
    "obj.fit('test5')"
   ]
  },
  {
   "cell_type": "code",
   "execution_count": 112,
   "metadata": {},
   "outputs": [
    {
     "name": "stdout",
     "output_type": "stream",
     "text": [
      "[0. 0. 0.]\n",
      "[0.]\n"
     ]
    },
    {
     "name": "stderr",
     "output_type": "stream",
     "text": [
      "C:\\Users\\Saviery\\AppData\\Local\\Packages\\PythonSoftwareFoundation.Python.3.11_qbz5n2kfra8p0\\LocalCache\\local-packages\\Python311\\site-packages\\sklearn\\base.py:493: UserWarning: X does not have valid feature names, but GradientBoostingRegressor was fitted with feature names\n",
      "  warnings.warn(\n",
      "C:\\Users\\Saviery\\AppData\\Local\\Packages\\PythonSoftwareFoundation.Python.3.11_qbz5n2kfra8p0\\LocalCache\\local-packages\\Python311\\site-packages\\sklearn\\base.py:493: UserWarning: X does not have valid feature names, but GradientBoostingRegressor was fitted with feature names\n",
      "  warnings.warn(\n"
     ]
    }
   ],
   "source": [
    "print(obj.predict([50, 60, 70]))\n",
    "print(obj.predict(100))"
   ]
  },
  {
   "cell_type": "code",
   "execution_count": 65,
   "metadata": {
    "ExecuteTime": {
     "end_time": "2024-04-16T16:23:50.782393Z",
     "start_time": "2024-04-16T16:23:50.777917Z"
    },
    "scrolled": true
   },
   "outputs": [],
   "source": [
    "# Определение функции потерь\n",
    "def model_loss(dist, n):\n",
    "    # return inverse_loss(dist, 'test5', n)\n",
    "    return (2 * dist - n)**2 + 1.0  # ваша функция потерь\n",
    "\n",
    "# Параметры для Q-обучения\n",
    "alpha = 0.1  # шаг обучения (learning rate)\n",
    "gamma = 0.9  # дисконт-фактор\n",
    "epsilon = 0.1  # эпсилон для epsilon-greedy стратегии\n",
    "max_step_in_episode = 100\n",
    "\n",
    "# Инициализация Q-таблицы\n",
    "max_n_value = 10\n",
    "max_dist_value = 10\n",
    "Q = np.zeros((max_n_value, max_dist_value))  # задайте максимальные значения для n и dist\n",
    "\n",
    "def get_new_state(current_state, action):\n",
    "    new_state = (current_state + action) % max_n_value\n",
    "    return new_state\n",
    "\n",
    "# Тренировка модели\n",
    "num_episodes = 1000  # количество эпох\n",
    "for episode in range(num_episodes):\n",
    "    # В начале каждой эпохи начальные параметры\n",
    "    n = max_n_value // 2\n",
    "    state = n\n",
    "    total_reward = 0\n",
    "    \n",
    "    for i in range(max_step_in_episode):\n",
    "        # Выбор действия (dist) с помощью epsilon-greedy стратегии\n",
    "        if np.random.uniform(0, 1) < epsilon:\n",
    "            action = np.random.randint(0, max_dist_value)\n",
    "        else:\n",
    "            action = np.argmax(Q[state, :])\n",
    "        \n",
    "        # Выполнение действия\n",
    "        dist = action\n",
    "        reward = -model_loss(dist, n)  # награда -значение функции потерь\n",
    "        \n",
    "        # Вычисление нового состояния\n",
    "        new_n = get_new_state(state, action)  # формируем новое значение n\n",
    "        \n",
    "        # Обновление Q-таблицы\n",
    "        Q[state, action] = (1 - alpha) * Q[state, action] + alpha * (reward + gamma * np.max(Q[new_n, :]))\n",
    "        \n",
    "        # Переход к новому состоянию\n",
    "        state = new_n\n",
    "        n = new_n\n",
    "        total_reward += reward\n",
    "    \n",
    "    print(f\"Episode {episode}, Total Reward: {total_reward}\")\n",
    "\n",
    "# Получение оптимального значения dist при заданном n\n",
    "def get_optimal_dist(n):\n",
    "    return np.argmax(Q[n, :])"
   ]
  },
  {
   "cell_type": "code",
   "execution_count": 139,
   "metadata": {},
   "outputs": [
    {
     "data": {
      "text/plain": [
       "2"
      ]
     },
     "execution_count": 139,
     "metadata": {},
     "output_type": "execute_result"
    }
   ],
   "source": [
    "get_optimal_dist(4)"
   ]
  }
 ],
 "metadata": {
  "kernelspec": {
   "display_name": "Python 3 (ipykernel)",
   "language": "python",
   "name": "python3"
  },
  "language_info": {
   "codemirror_mode": {
    "name": "ipython",
    "version": 3
   },
   "file_extension": ".py",
   "mimetype": "text/x-python",
   "name": "python",
   "nbconvert_exporter": "python",
   "pygments_lexer": "ipython3",
   "version": "3.9.12"
  },
  "toc": {
   "base_numbering": 1,
   "nav_menu": {},
   "number_sections": true,
   "sideBar": true,
   "skip_h1_title": false,
   "title_cell": "Table of Contents",
   "title_sidebar": "Contents",
   "toc_cell": false,
   "toc_position": {},
   "toc_section_display": true,
   "toc_window_display": false
  }
 },
 "nbformat": 4,
 "nbformat_minor": 4
}
