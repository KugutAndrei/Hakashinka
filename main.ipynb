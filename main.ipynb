{
 "cells": [
  {
   "cell_type": "code",
   "execution_count": 1,
   "metadata": {
    "ExecuteTime": {
     "end_time": "2024-04-15T10:50:10.288991Z",
     "start_time": "2024-04-15T10:50:09.797815Z"
    }
   },
   "outputs": [
    {
     "ename": "ModuleNotFoundError",
     "evalue": "No module named 'bs4'",
     "output_type": "error",
     "traceback": [
      "\u001b[1;31m---------------------------------------------------------------------------\u001b[0m",
      "\u001b[1;31mModuleNotFoundError\u001b[0m                       Traceback (most recent call last)",
      "\u001b[1;32m<ipython-input-1-8fb0dda1ff11>\u001b[0m in \u001b[0;36m<module>\u001b[1;34m\u001b[0m\n\u001b[0;32m      6\u001b[0m \u001b[1;32mfrom\u001b[0m \u001b[0mtraffic_initialization\u001b[0m \u001b[1;32mimport\u001b[0m \u001b[1;33m*\u001b[0m\u001b[1;33m\u001b[0m\u001b[1;33m\u001b[0m\u001b[0m\n\u001b[0;32m      7\u001b[0m \u001b[1;32mimport\u001b[0m \u001b[0msys\u001b[0m\u001b[1;33m\u001b[0m\u001b[1;33m\u001b[0m\u001b[0m\n\u001b[1;32m----> 8\u001b[1;33m \u001b[1;32mfrom\u001b[0m \u001b[0mbs4\u001b[0m \u001b[1;32mimport\u001b[0m \u001b[0mBeautifulSoup\u001b[0m\u001b[1;33m\u001b[0m\u001b[1;33m\u001b[0m\u001b[0m\n\u001b[0m",
      "\u001b[1;31mModuleNotFoundError\u001b[0m: No module named 'bs4'"
     ]
    }
   ],
   "source": [
    "import numpy as np\n",
    "import matplotlib as plt\n",
    "import scipy as sc\n",
    "import sumo as sm\n",
    "import os\n",
    "from traffic_initialization import *\n",
    "import sys\n",
    "from bs4 import BeautifulSoup"
   ]
  },
  {
   "cell_type": "code",
   "execution_count": null,
   "metadata": {
    "ExecuteTime": {
     "end_time": "2024-04-15T12:01:45.358434Z",
     "start_time": "2024-04-15T12:01:45.019392Z"
    },
    "scrolled": true
   },
   "outputs": [],
   "source": [
    "# initial xml encoding\n",
    "minGap=3\n",
    "inflow=500\n",
    "\n",
    "filedir = './xml_data/test1/'\n",
    "\n",
    "netfile = 'test1.net.xml'\n",
    "routefile = 'test1.rou.xml'\n",
    "configfile = 'test1.sumocfg'\n",
    "outpufile = 'test1.statistic.output.xml'\n",
    "\n",
    "rtFl = RouteFile(filedir + routefile)\n",
    "\n",
    "vtype = 'id0'\n",
    "\n",
    "rtFl.setVehicleType(vtype, {\n",
    "'accel' : \"3.0\",\n",
    "'decel' : \"6.0\",\n",
    "'length' : \"4.0\",\n",
    "'minGap' : str(minGap),\n",
    "'maxSpeed' : \"50.0\",\n",
    "'sigma' : \"0.5\"\n",
    "})\n",
    "\n",
    "rtFl.setVehicleFlow(vtype, source='E0', dest='E3', num=inflow, dur=100, speed=13.89)\n",
    "rtFl.save()\n",
    "\n",
    "generateConfigFile(\n",
    "filedir + configfile, \n",
    "netfile,\n",
    "routefile,\n",
    "output=['statistic', 'tripinfo']\n",
    ")\n",
    "\n",
    "loadConfig(filedir +'test1.sumocfg')\n",
    "\n",
    "# waiting?"
   ]
  },
  {
   "cell_type": "code",
   "execution_count": null,
   "metadata": {
    "ExecuteTime": {
     "end_time": "2024-04-15T12:01:47.936129Z",
     "start_time": "2024-04-15T12:01:47.930712Z"
    }
   },
   "outputs": [],
   "source": [
    "# xml reading\n",
    "\n",
    "f_name = filedir + outpufile\n",
    "\n",
    "with open(f_name, 'r') as file:\n",
    "    data = file.read()\n",
    "\n",
    "data = BeautifulSoup(data, \"xml\")\n",
    "ans = float(data('vehicleTripStatistics')[0]['duration'])\n",
    "print(float(data('performance')[0]['duration']))"
   ]
  },
  {
   "cell_type": "code",
   "execution_count": 2,
   "metadata": {
    "ExecuteTime": {
     "end_time": "2024-04-15T12:01:49.016261Z",
     "start_time": "2024-04-15T12:01:49.012051Z"
    }
   },
   "outputs": [
    {
     "ename": "NameError",
     "evalue": "name 'ans' is not defined",
     "output_type": "error",
     "traceback": [
      "\u001b[1;31m---------------------------------------------------------------------------\u001b[0m",
      "\u001b[1;31mNameError\u001b[0m                                 Traceback (most recent call last)",
      "\u001b[1;32m<ipython-input-2-b0e96a6ac391>\u001b[0m in \u001b[0;36m<module>\u001b[1;34m\u001b[0m\n\u001b[1;32m----> 1\u001b[1;33m \u001b[0mans\u001b[0m\u001b[1;33m\u001b[0m\u001b[1;33m\u001b[0m\u001b[0m\n\u001b[0m",
      "\u001b[1;31mNameError\u001b[0m: name 'ans' is not defined"
     ]
    }
   ],
   "source": [
    "ans"
   ]
  },
  {
   "cell_type": "code",
   "execution_count": 18,
   "metadata": {
    "ExecuteTime": {
     "end_time": "2024-04-15T11:32:36.190271Z",
     "start_time": "2024-04-15T11:32:36.183523Z"
    }
   },
   "outputs": [],
   "source": [
    "def loss(minGap, road, inflow):\n",
    "\n",
    "    # initial xml encoding\n",
    "    \n",
    "    \n",
    "    filedir = './xml_data/test1/'\n",
    "    netfile = 'test1.net.xml'\n",
    "    routefile = 'test1.rou.xml'\n",
    "    configfile = 'test1.sumocfg'\n",
    "    outpufile = 'test1.statistic.output.xml'\n",
    "    \n",
    "    rtFl = RouteFile(filedir + routefile)\n",
    "    \n",
    "    vtype = 'id0'\n",
    "    \n",
    "    rtFl.setVehicleType(vtype, {\n",
    "    'accel' : \"3.0\",\n",
    "    'decel' : \"6.0\",\n",
    "    'length' : \"4.0\",\n",
    "    'minGap' : str(minGap),\n",
    "    'maxSpeed' : \"50.0\",\n",
    "    'sigma' : \"0.5\"\n",
    "    })\n",
    "    \n",
    "    rtFl.setVehicleFlow(vtype, source='E0', dest='E3', num=inflow, dur=100, speed=13.89)\n",
    "    rtFl.save()\n",
    "    \n",
    "    generateConfigFile(\n",
    "    filedir + configfile, \n",
    "    netfile, \n",
    "    routefile,\n",
    "    output=['statistic']#, 'tripinfo']\n",
    "    )\n",
    "    \n",
    "    loadConfig(filedir +'test1.sumocfg')\n",
    "    \n",
    "    # waiting?\n",
    "    \n",
    "    # xml reading\n",
    "\n",
    "    f_name = filedir + outpufile\n",
    "\n",
    "    with open(f_name, 'r') as file:\n",
    "        data = file.read()\n",
    "\n",
    "    data = BeautifulSoup(data, \"xml\")\n",
    "    ans = float(data('vehicleTripStatistics')[0]['duration'])\n",
    "\n",
    "    return ans"
   ]
  },
  {
   "cell_type": "code",
   "execution_count": 6,
   "metadata": {
    "ExecuteTime": {
     "end_time": "2024-04-15T11:13:33.538722Z",
     "start_time": "2024-04-15T11:13:33.371499Z"
    }
   },
   "outputs": [
    {
     "name": "stdout",
     "output_type": "stream",
     "text": [
      "Step #259.00 (0ms ?*RT. ?UPS, vehicles TOT 200 ACT 0 BUF 0)                               \n"
     ]
    },
    {
     "name": "stderr",
     "output_type": "stream",
     "text": [
      "Warning: Environment variable SUMO_HOME is not set properly, disabling XML validation. Set 'auto' or 'always' for web lookups.\n",
      "Warning: Choosing new speed factor 1.21 for vehicle 'id0.101' to match departure speed 13.89 (max 13.30).\n"
     ]
    },
    {
     "ename": "IndexError",
     "evalue": "list index out of range",
     "output_type": "error",
     "traceback": [
      "\u001b[0;31m---------------------------------------------------------------------------\u001b[0m",
      "\u001b[0;31mIndexError\u001b[0m                                Traceback (most recent call last)",
      "Input \u001b[0;32mIn [6]\u001b[0m, in \u001b[0;36m<cell line: 1>\u001b[0;34m()\u001b[0m\n\u001b[0;32m----> 1\u001b[0m \u001b[43mloss\u001b[49m\u001b[43m(\u001b[49m\u001b[43mminGap\u001b[49m\u001b[38;5;241;43m=\u001b[39;49m\u001b[38;5;241;43m3\u001b[39;49m\u001b[43m,\u001b[49m\u001b[43m \u001b[49m\u001b[43mroad\u001b[49m\u001b[38;5;241;43m=\u001b[39;49m\u001b[38;5;124;43m'\u001b[39;49m\u001b[38;5;124;43mroad_1\u001b[39;49m\u001b[38;5;124;43m'\u001b[39;49m\u001b[43m,\u001b[49m\u001b[43m \u001b[49m\u001b[43minflow\u001b[49m\u001b[38;5;241;43m=\u001b[39;49m\u001b[38;5;241;43m200\u001b[39;49m\u001b[43m)\u001b[49m\n",
      "Input \u001b[0;32mIn [5]\u001b[0m, in \u001b[0;36mloss\u001b[0;34m(minGap, road, inflow)\u001b[0m\n\u001b[1;32m     44\u001b[0m     data \u001b[38;5;241m=\u001b[39m file\u001b[38;5;241m.\u001b[39mread()\n\u001b[1;32m     46\u001b[0m data \u001b[38;5;241m=\u001b[39m BeautifulSoup(data, \u001b[38;5;124m\"\u001b[39m\u001b[38;5;124mxml\u001b[39m\u001b[38;5;124m\"\u001b[39m)\n\u001b[0;32m---> 47\u001b[0m ans \u001b[38;5;241m=\u001b[39m \u001b[38;5;28mfloat\u001b[39m(\u001b[43mdata\u001b[49m\u001b[43m(\u001b[49m\u001b[38;5;124;43m'\u001b[39;49m\u001b[38;5;124;43mvehicleTripStatistics\u001b[39;49m\u001b[38;5;124;43m'\u001b[39;49m\u001b[43m)\u001b[49m\u001b[43m[\u001b[49m\u001b[38;5;241;43m0\u001b[39;49m\u001b[43m]\u001b[49m[\u001b[38;5;124m'\u001b[39m\u001b[38;5;124mduration\u001b[39m\u001b[38;5;124m'\u001b[39m])\n\u001b[1;32m     49\u001b[0m \u001b[38;5;28;01mreturn\u001b[39;00m ans\n",
      "\u001b[0;31mIndexError\u001b[0m: list index out of range"
     ]
    }
   ],
   "source": [
    "loss(minGap=3, road='road_1', inflow=200)"
   ]
  },
  {
   "cell_type": "code",
   "execution_count": null,
   "metadata": {},
   "outputs": [],
   "source": [
    "# graphs\n",
    "\n",
    "X = np.asarray([])\n",
    "Y = np.zeros(X.shape[0])\n",
    "\n",
    "for i in range(X.shape[0]):\n",
    "    \n",
    "    Y[i] = loss(X[i], '', inflow)\n",
    "\n",
    "plt.plot(X, Y)"
   ]
  },
  {
   "cell_type": "code",
   "execution_count": null,
   "metadata": {},
   "outputs": [],
   "source": [
    "# simple optimization\n",
    "\n",
    "bounds = (, )\n",
    "\n",
    "sol = sc.optimize.dual_annealing(loss, bounds=[bounds], args=['road', inflow], maxiter=200)\n",
    "ans = sol.x"
   ]
  },
  {
   "cell_type": "code",
   "execution_count": null,
   "metadata": {
    "code_folding": []
   },
   "outputs": [],
   "source": [
    "# smart ml optimization?"
   ]
  }
 ],
 "metadata": {
  "kernelspec": {
   "display_name": "Python 3",
   "language": "python",
   "name": "python3"
  },
  "language_info": {
   "codemirror_mode": {
    "name": "ipython",
    "version": 3
   },
   "file_extension": ".py",
   "mimetype": "text/x-python",
   "name": "python",
   "nbconvert_exporter": "python",
   "pygments_lexer": "ipython3",
   "version": "3.9.0"
  },
  "toc": {
   "base_numbering": 1,
   "nav_menu": {},
   "number_sections": true,
   "sideBar": true,
   "skip_h1_title": false,
   "title_cell": "Table of Contents",
   "title_sidebar": "Contents",
   "toc_cell": false,
   "toc_position": {},
   "toc_section_display": true,
   "toc_window_display": false
  }
 },
 "nbformat": 4,
 "nbformat_minor": 4
}
