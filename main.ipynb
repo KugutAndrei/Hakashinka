{
 "cells": [
  {
   "cell_type": "code",
   "execution_count": 1,
   "metadata": {
    "ExecuteTime": {
     "end_time": "2024-04-15T14:54:38.315620Z",
     "start_time": "2024-04-15T14:54:37.626252Z"
    }
   },
   "outputs": [],
   "source": [
    "import numpy as np\n",
    "import matplotlib.pyplot as plt\n",
    "import scipy as sc\n",
    "import sumo as sm\n",
    "import os\n",
    "from traffic_initialization import *\n",
    "import sys\n",
    "from bs4 import BeautifulSoup\n",
    "import tqdm"
   ]
  },
  {
   "cell_type": "code",
   "execution_count": 14,
   "metadata": {
    "ExecuteTime": {
     "end_time": "2024-04-15T15:17:46.520637Z",
     "start_time": "2024-04-15T15:17:46.036716Z"
    },
    "scrolled": true
   },
   "outputs": [
    {
     "name": "stderr",
     "output_type": "stream",
     "text": [
      "Warning: Environment variable SUMO_HOME is not set properly, disabling XML validation. Set 'auto' or 'always' for web lookups.\n"
     ]
    },
    {
     "name": "stdout",
     "output_type": "stream",
     "text": [
      "Step #0.00 (0ms ?*RT. ?UPS, vehicles TOT 1 ACT 1 BUF 0)                                   \r",
      "Step #100.00 (1ms ~= 1000.00*RT, ~80000.00UPS, vehicles TOT 125 ACT 80 BUF 375)           \r",
      "Step #200.00 (1ms ~= 1000.00*RT, ~101000.00UPS, vehicles TOT 207 ACT 101 BUF 293)         \r",
      "Step #300.00 (1ms ~= 1000.00*RT, ~117000.00UPS, vehicles TOT 283 ACT 117 BUF 217)         \r",
      "Step #400.00 (1ms ~= 1000.00*RT, ~94000.00UPS, vehicles TOT 322 ACT 94 BUF 178)           \r",
      "Step #500.00 (0ms ?*RT. ?UPS, vehicles TOT 385 ACT 101 BUF 115)                           \r",
      "Step #600.00 (1ms ~= 1000.00*RT, ~93000.00UPS, vehicles TOT 435 ACT 93 BUF 65)            \r",
      "Step #700.00 (1ms ~= 1000.00*RT, ~97000.00UPS, vehicles TOT 500 ACT 97 BUF 0)             \r",
      "Step #800.00 (0ms ?*RT. ?UPS, vehicles TOT 500 ACT 36 BUF 0)                              \r",
      "Step #858.00 (0ms ?*RT. ?UPS, vehicles TOT 500 ACT 0 BUF 0)                               \r\n",
      "0.5827505827505828\n"
     ]
    }
   ],
   "source": [
    "# initial xml encoding\n",
    "minGap=4\n",
    "N=500\n",
    "\n",
    "filedir = './xml_data/test1/'\n",
    "\n",
    "netfile = 'test1.net.xml'\n",
    "routefile = 'test1.rou.xml'\n",
    "configfile = 'test1.sumocfg'\n",
    "outpufile = 'test1.statistic.output.xml'\n",
    "\n",
    "rtFl = RouteFile(filedir + routefile)\n",
    "\n",
    "vtype = 'id0'\n",
    "\n",
    "rtFl.setVehicleType(vtype, {\n",
    "'accel' : \"3.0\",\n",
    "'decel' : \"6.0\",\n",
    "'length' : \"4.0\",\n",
    "'minGap' : str(minGap),\n",
    "'maxSpeed' : \"50.0\",\n",
    "'sigma' : \"0\"\n",
    "})\n",
    "\n",
    "rtFl.setVehicleFlow(vtype, source='E0', dest='E3', num=N, dur=100, speed=13.89)\n",
    "rtFl.save()\n",
    "\n",
    "generateConfigFile(\n",
    "filedir + configfile, \n",
    "netfile,\n",
    "routefile,\n",
    "output=['statistic']#, 'tripinfo']\n",
    ")\n",
    "\n",
    "loadConfig(filedir +'test1.sumocfg')\n",
    "# xml reading\n",
    "f_name = filedir + outpufile\n",
    "with open(f_name, 'r') as file:\n",
    "    data = file.read()\n",
    "data = BeautifulSoup(data, \"xml\")\n",
    "# average output flow is equal to N/T, where T – full model time\n",
    "#ans = float(data('vehicleTripStatistics')[0]['duration'])\n",
    "ans = N/float(data('performance')[0]['duration'])\n",
    "print(ans)"
   ]
  },
  {
   "cell_type": "code",
   "execution_count": 130,
   "metadata": {
    "ExecuteTime": {
     "end_time": "2024-04-15T16:54:08.866406Z",
     "start_time": "2024-04-15T16:54:08.853291Z"
    },
    "code_folding": []
   },
   "outputs": [],
   "source": [
    "def loss(minGap, road, N, stat='mean'):\n",
    "\n",
    "    # initial xml encoding\n",
    "\n",
    "    filedir = './xml_data/test1/'\n",
    "\n",
    "    netfile = 'test1.net.xml'\n",
    "    routefile = 'test1.rou.xml'\n",
    "    configfile = 'test1.sumocfg'\n",
    "    outpufile = 'test1.statistic.output.xml'\n",
    "\n",
    "    rtFl = RouteFile(filedir + routefile)\n",
    "\n",
    "    vtype = 'id0'\n",
    "\n",
    "    rtFl.setVehicleType(vtype, {\n",
    "    'accel' : \"3.0\",\n",
    "    'decel' : \"6.0\",\n",
    "    'length' : \"4.0\",\n",
    "    'minGap' : str(minGap),\n",
    "    'maxSpeed' : \"50.0\",\n",
    "    'sigma' : \"0\"\n",
    "    })\n",
    "\n",
    "    rtFl.setVehicleFlow(vtype, source='E0', dest='E3', num=N, dur=100, speed=30)\n",
    "    rtFl.save()\n",
    "    \n",
    "    if stat == 'mean':\n",
    "        generateConfigFile(\n",
    "        filedir + configfile, \n",
    "        netfile,\n",
    "        routefile,\n",
    "        output=['statistic']#, 'tripinfo']\n",
    "        )\n",
    "\n",
    "        loadConfig(filedir +'test1.sumocfg')\n",
    "        # xml reading\n",
    "        f_name = filedir + outpufile\n",
    "        with open(f_name, 'r') as file:\n",
    "            data = file.read()\n",
    "        data = BeautifulSoup(data, \"xml\")\n",
    "        # average output flow is equal to N/T, where T – full model time\n",
    "        #ans = float(data('vehicleTripStatistics')[0]['duration'])\n",
    "        ans = N/float(data('performance')[0]['duration'])\n",
    "\n",
    "        return ans\n",
    "    \n",
    "    elif stat == 'median':\n",
    "        generateConfigFile(\n",
    "        filedir + configfile, \n",
    "        netfile,\n",
    "        routefile,\n",
    "        output=['tripinfo']\n",
    "        )\n",
    "        \n",
    "        loadConfig(filedir +'test1.sumocfg')\n",
    "        # xml reading\n",
    "        f_name = filedir + 'test1.tripinfo.output.xml'\n",
    "        with open(f_name, 'r') as file:\n",
    "            data = file.read()\n",
    "        data = BeautifulSoup(data, \"xml\")\n",
    "        \n",
    "        arr = []\n",
    "        for sruct in data('tripinfo'):\n",
    "            arr.append(float(sruct['arrival']))\n",
    "        \n",
    "        n = 5\n",
    "        arr = np.array(arr)\n",
    "        step = max(arr)/n\n",
    "        rates = []\n",
    "        for i in range(n):\n",
    "            temp = arr[arr > i*step]\n",
    "            temp = temp[temp <= (i+1)*step]\n",
    "            rates.append(temp.size)\n",
    "        return np.median(rates)\n",
    "            \n",
    "        \n",
    "    elif stat == 'fit':\n",
    "        generateConfigFile(\n",
    "        filedir + configfile, \n",
    "        netfile,\n",
    "        routefile,\n",
    "        output=['tripinfo']\n",
    "        )\n",
    "        \n",
    "        loadConfig(filedir +'test1.sumocfg')\n",
    "        # xml reading\n",
    "        f_name = filedir + 'test1.tripinfo.output.xml'\n",
    "        with open(f_name, 'r') as file:\n",
    "            data = file.read()\n",
    "        data = BeautifulSoup(data, \"xml\")\n",
    "        \n",
    "        arr = []\n",
    "        for sruct in data('tripinfo'):\n",
    "            arr.append(float(sruct['arrival']))\n",
    "            \n",
    "        x = np.arange(len(arr))\n",
    "        A = np.vstack([x, np.ones(len(x))]).T\n",
    "        ans, _ = np.linalg.lstsq(A, arr, rcond=None)[0]\n",
    "        return 1/ans\n",
    "        \n",
    "    else:\n",
    "        raise Exception('Undefined statistics!')"
   ]
  },
  {
   "cell_type": "code",
   "execution_count": 108,
   "metadata": {
    "ExecuteTime": {
     "end_time": "2024-04-15T16:45:19.822585Z",
     "start_time": "2024-04-15T16:45:18.768565Z"
    },
    "scrolled": true
   },
   "outputs": [
    {
     "name": "stderr",
     "output_type": "stream",
     "text": [
      "Warning: Environment variable SUMO_HOME is not set properly, disabling XML validation. Set 'auto' or 'always' for web lookups.\n"
     ]
    },
    {
     "name": "stdout",
     "output_type": "stream",
     "text": [
      "Step #0.00 (0ms ?*RT. ?UPS, vehicles TOT 1 ACT 1 BUF 0)                                   \r",
      "Step #100.00 (1ms ~= 1000.00*RT, ~75000.00UPS, vehicles TOT 133 ACT 75 BUF 867)           \r",
      "Step #200.00 (1ms ~= 1000.00*RT, ~105000.00UPS, vehicles TOT 220 ACT 105 BUF 780)         \r",
      "Step #300.00 (1ms ~= 1000.00*RT, ~92000.00UPS, vehicles TOT 262 ACT 92 BUF 738)           \r",
      "Step #400.00 (1ms ~= 1000.00*RT, ~110000.00UPS, vehicles TOT 339 ACT 110 BUF 661)         \r",
      "Step #500.00 (1ms ~= 1000.00*RT, ~82000.00UPS, vehicles TOT 371 ACT 82 BUF 629)           \r",
      "Step #600.00 (1ms ~= 1000.00*RT, ~89000.00UPS, vehicles TOT 442 ACT 89 BUF 558)           \r",
      "Step #700.00 (0ms ?*RT. ?UPS, vehicles TOT 500 ACT 77 BUF 500)                            \r",
      "Step #800.00 (1ms ~= 1000.00*RT, ~100000.00UPS, vehicles TOT 582 ACT 100 BUF 418)         \r",
      "Step #900.00 (0ms ?*RT. ?UPS, vehicles TOT 625 ACT 80 BUF 375)                            \r",
      "Step #1000.00 (1ms ~= 1000.00*RT, ~102000.00UPS, vehicles TOT 711 ACT 102 BUF 289)        \r",
      "Step #1100.00 (0ms ?*RT. ?UPS, vehicles TOT 761 ACT 87 BUF 239)                           \r",
      "Step #1200.00 (1ms ~= 1000.00*RT, ~109000.00UPS, vehicles TOT 845 ACT 109 BUF 155)        \r",
      "Step #1300.00 (1ms ~= 1000.00*RT, ~90000.00UPS, vehicles TOT 889 ACT 90 BUF 111)          \r",
      "Step #1400.00 (0ms ?*RT. ?UPS, vehicles TOT 958 ACT 100 BUF 42)                           \r",
      "Step #1500.00 (0ms ?*RT. ?UPS, vehicles TOT 1000 ACT 83 BUF 0)                            \r",
      "Step #1600.00 (0ms ?*RT. ?UPS, vehicles TOT 1000 ACT 18 BUF 0)                            \r",
      "Step #1623.00 (0ms ?*RT. ?UPS, vehicles TOT 1000 ACT 0 BUF 0)                             \r\n"
     ]
    },
    {
     "data": {
      "text/plain": [
       "101.5"
      ]
     },
     "execution_count": 108,
     "metadata": {},
     "output_type": "execute_result"
    }
   ],
   "source": [
    "loss(3.4, '1', 1000, stat='median')"
   ]
  },
  {
   "cell_type": "code",
   "execution_count": 135,
   "metadata": {
    "ExecuteTime": {
     "end_time": "2024-04-15T17:52:24.127180Z",
     "start_time": "2024-04-15T17:47:04.394540Z"
    },
    "scrolled": true
   },
   "outputs": [
    {
     "name": "stderr",
     "output_type": "stream",
     "text": [
      "  0%|                                                   | 0/500 [00:00<?, ?it/s]Warning: Environment variable SUMO_HOME is not set properly, disabling XML validation. Set 'auto' or 'always' for web lookups.\n",
      "  0%|                                           | 1/500 [00:00<04:41,  1.77it/s]"
     ]
    },
    {
     "name": "stdout",
     "output_type": "stream",
     "text": [
      "Step #0.00 (0ms ?*RT. ?UPS, vehicles TOT 1 ACT 1 BUF 0)                                   \r",
      "Step #100.00 (1ms ~= 1000.00*RT, ~103000.00UPS, vehicles TOT 160 ACT 103 BUF 340)         \r",
      "Step #200.00 (1ms ~= 1000.00*RT, ~144000.00UPS, vehicles TOT 271 ACT 144 BUF 229)         \r",
      "Step #300.00 (0ms ?*RT. ?UPS, vehicles TOT 344 ACT 150 BUF 156)                           \r",
      "Step #400.00 (1ms ~= 1000.00*RT, ~162000.00UPS, vehicles TOT 427 ACT 162 BUF 73)          \r",
      "Step #500.00 (1ms ~= 1000.00*RT, ~153000.00UPS, vehicles TOT 484 ACT 153 BUF 16)          \r",
      "Step #600.00 (0ms ?*RT. ?UPS, vehicles TOT 500 ACT 93 BUF 0)                              \r",
      "Step #700.00 (0ms ?*RT. ?UPS, vehicles TOT 500 ACT 11 BUF 0)                              \r",
      "Step #713.00 (0ms ?*RT. ?UPS, vehicles TOT 500 ACT 0 BUF 0)                               \r\n"
     ]
    },
    {
     "name": "stderr",
     "output_type": "stream",
     "text": [
      "Warning: Environment variable SUMO_HOME is not set properly, disabling XML validation. Set 'auto' or 'always' for web lookups.\n",
      "  0%|▏                                          | 2/500 [00:01<04:42,  1.76it/s]"
     ]
    },
    {
     "name": "stdout",
     "output_type": "stream",
     "text": [
      "Step #0.00 (0ms ?*RT. ?UPS, vehicles TOT 1 ACT 1 BUF 0)                                   \r",
      "Step #100.00 (1ms ~= 1000.00*RT, ~110000.00UPS, vehicles TOT 170 ACT 110 BUF 330)         \r",
      "Step #200.00 (1ms ~= 1000.00*RT, ~161000.00UPS, vehicles TOT 289 ACT 161 BUF 211)         \r",
      "Step #300.00 (0ms ?*RT. ?UPS, vehicles TOT 358 ACT 164 BUF 142)                           \r",
      "Step #400.00 (1ms ~= 1000.00*RT, ~174000.00UPS, vehicles TOT 437 ACT 174 BUF 63)          \r",
      "Step #500.00 (1ms ~= 1000.00*RT, ~161000.00UPS, vehicles TOT 493 ACT 161 BUF 7)           \r",
      "Step #600.00 (1ms ~= 1000.00*RT, ~102000.00UPS, vehicles TOT 500 ACT 102 BUF 0)           \r",
      "Step #700.00 (0ms ?*RT. ?UPS, vehicles TOT 500 ACT 23 BUF 0)                              \r",
      "Step #727.00 (0ms ?*RT. ?UPS, vehicles TOT 500 ACT 0 BUF 0)                               \r\n"
     ]
    },
    {
     "name": "stderr",
     "output_type": "stream",
     "text": [
      "Warning: Environment variable SUMO_HOME is not set properly, disabling XML validation. Set 'auto' or 'always' for web lookups.\n",
      "  1%|▎                                          | 3/500 [00:01<04:41,  1.76it/s]"
     ]
    },
    {
     "name": "stdout",
     "output_type": "stream",
     "text": [
      "Step #0.00 (0ms ?*RT. ?UPS, vehicles TOT 1 ACT 1 BUF 0)                                   \r",
      "Step #100.00 (1ms ~= 1000.00*RT, ~107000.00UPS, vehicles TOT 165 ACT 107 BUF 335)         \r",
      "Step #200.00 (1ms ~= 1000.00*RT, ~167000.00UPS, vehicles TOT 293 ACT 167 BUF 207)         \r",
      "Step #300.00 (1ms ~= 1000.00*RT, ~188000.00UPS, vehicles TOT 385 ACT 188 BUF 115)         \r",
      "Step #400.00 (0ms ?*RT. ?UPS, vehicles TOT 426 ACT 160 BUF 74)                            \r",
      "Step #500.00 (1ms ~= 1000.00*RT, ~164000.00UPS, vehicles TOT 500 ACT 164 BUF 0)           \r",
      "Step #600.00 (1ms ~= 1000.00*RT, ~100000.00UPS, vehicles TOT 500 ACT 100 BUF 0)           \r",
      "Step #700.00 (1ms ~= 1000.00*RT, ~17000.00UPS, vehicles TOT 500 ACT 17 BUF 0)             \r",
      "Step #721.00 (0ms ?*RT. ?UPS, vehicles TOT 500 ACT 0 BUF 0)                               \r\n"
     ]
    },
    {
     "name": "stderr",
     "output_type": "stream",
     "text": [
      "Warning: Environment variable SUMO_HOME is not set properly, disabling XML validation. Set 'auto' or 'always' for web lookups.\n",
      "  1%|▎                                          | 4/500 [00:02<04:45,  1.74it/s]"
     ]
    },
    {
     "name": "stdout",
     "output_type": "stream",
     "text": [
      "Step #0.00 (0ms ?*RT. ?UPS, vehicles TOT 1 ACT 1 BUF 0)                                   \r",
      "Step #100.00 (1ms ~= 1000.00*RT, ~110000.00UPS, vehicles TOT 171 ACT 110 BUF 329)         \r",
      "Step #200.00 (2ms ~= 500.00*RT, ~85500.00UPS, vehicles TOT 297 ACT 171 BUF 203)           \r",
      "Step #300.00 (1ms ~= 1000.00*RT, ~159000.00UPS, vehicles TOT 357 ACT 159 BUF 143)         \r",
      "Step #400.00 (1ms ~= 1000.00*RT, ~148000.00UPS, vehicles TOT 419 ACT 148 BUF 81)          \r",
      "Step #500.00 (1ms ~= 1000.00*RT, ~151000.00UPS, vehicles TOT 495 ACT 151 BUF 5)           \r",
      "Step #600.00 (1ms ~= 1000.00*RT, ~93000.00UPS, vehicles TOT 500 ACT 93 BUF 0)             \r",
      "Step #700.00 (0ms ?*RT. ?UPS, vehicles TOT 500 ACT 10 BUF 0)                              \r",
      "Step #712.00 (0ms ?*RT. ?UPS, vehicles TOT 500 ACT 0 BUF 0)                               \r\n"
     ]
    },
    {
     "name": "stderr",
     "output_type": "stream",
     "text": [
      "Warning: Environment variable SUMO_HOME is not set properly, disabling XML validation. Set 'auto' or 'always' for web lookups.\n",
      "  1%|▍                                          | 5/500 [00:02<05:05,  1.62it/s]"
     ]
    },
    {
     "name": "stdout",
     "output_type": "stream",
     "text": [
      "Step #0.00 (0ms ?*RT. ?UPS, vehicles TOT 1 ACT 1 BUF 0)                                   \r",
      "Step #100.00 (1ms ~= 1000.00*RT, ~112000.00UPS, vehicles TOT 169 ACT 112 BUF 331)         \r",
      "Step #200.00 (1ms ~= 1000.00*RT, ~131000.00UPS, vehicles TOT 256 ACT 131 BUF 244)         \r",
      "Step #300.00 (1ms ~= 1000.00*RT, ~181000.00UPS, vehicles TOT 375 ACT 181 BUF 125)         \r",
      "Step #400.00 (1ms ~= 1000.00*RT, ~183000.00UPS, vehicles TOT 446 ACT 183 BUF 54)          \r",
      "Step #500.00 (2ms ~= 500.00*RT, ~74500.00UPS, vehicles TOT 482 ACT 149 BUF 18)            \r",
      "Step #600.00 (0ms ?*RT. ?UPS, vehicles TOT 500 ACT 92 BUF 0)                              \r",
      "Step #700.00 (0ms ?*RT. ?UPS, vehicles TOT 500 ACT 11 BUF 0)                              \r",
      "Step #713.00 (0ms ?*RT. ?UPS, vehicles TOT 500 ACT 0 BUF 0)                               \r\n"
     ]
    },
    {
     "name": "stderr",
     "output_type": "stream",
     "text": [
      "Warning: Environment variable SUMO_HOME is not set properly, disabling XML validation. Set 'auto' or 'always' for web lookups.\n",
      "  1%|▌                                          | 6/500 [00:03<05:05,  1.62it/s]"
     ]
    },
    {
     "name": "stdout",
     "output_type": "stream",
     "text": [
      "Step #0.00 (0ms ?*RT. ?UPS, vehicles TOT 1 ACT 1 BUF 0)                                   \r",
      "Step #100.00 (1ms ~= 1000.00*RT, ~113000.00UPS, vehicles TOT 167 ACT 113 BUF 333)         \r",
      "Step #200.00 (1ms ~= 1000.00*RT, ~162000.00UPS, vehicles TOT 286 ACT 162 BUF 214)         \r",
      "Step #300.00 (1ms ~= 1000.00*RT, ~168000.00UPS, vehicles TOT 357 ACT 168 BUF 143)         \r",
      "Step #400.00 (1ms ~= 1000.00*RT, ~171000.00UPS, vehicles TOT 431 ACT 171 BUF 69)          \r",
      "Step #500.00 (1ms ~= 1000.00*RT, ~166000.00UPS, vehicles TOT 493 ACT 166 BUF 7)           \r",
      "Step #600.00 (0ms ?*RT. ?UPS, vehicles TOT 500 ACT 110 BUF 0)                             \r",
      "Step #700.00 (0ms ?*RT. ?UPS, vehicles TOT 500 ACT 37 BUF 0)                              \r",
      "Step #743.00 (0ms ?*RT. ?UPS, vehicles TOT 500 ACT 0 BUF 0)                               \r\n"
     ]
    },
    {
     "name": "stderr",
     "output_type": "stream",
     "text": [
      "Warning: Environment variable SUMO_HOME is not set properly, disabling XML validation. Set 'auto' or 'always' for web lookups.\n",
      "  1%|▌                                          | 7/500 [00:04<05:03,  1.63it/s]"
     ]
    },
    {
     "name": "stdout",
     "output_type": "stream",
     "text": [
      "Step #0.00 (1ms ~= 1000.00*RT, ~1000.00UPS, vehicles TOT 1 ACT 1 BUF 0)                   \r",
      "Step #100.00 (0ms ?*RT. ?UPS, vehicles TOT 162 ACT 104 BUF 338)                           \r",
      "Step #200.00 (1ms ~= 1000.00*RT, ~169000.00UPS, vehicles TOT 295 ACT 169 BUF 205)         \r",
      "Step #300.00 (1ms ~= 1000.00*RT, ~170000.00UPS, vehicles TOT 369 ACT 170 BUF 131)         \r",
      "Step #400.00 (1ms ~= 1000.00*RT, ~160000.00UPS, vehicles TOT 429 ACT 160 BUF 71)          \r",
      "Step #500.00 (1ms ~= 1000.00*RT, ~157000.00UPS, vehicles TOT 500 ACT 157 BUF 0)           \r",
      "Step #600.00 (0ms ?*RT. ?UPS, vehicles TOT 500 ACT 89 BUF 0)                              \r",
      "Step #700.00 (0ms ?*RT. ?UPS, vehicles TOT 500 ACT 9 BUF 0)                               \r",
      "Step #712.00 (0ms ?*RT. ?UPS, vehicles TOT 500 ACT 0 BUF 0)                               \r\n"
     ]
    },
    {
     "name": "stderr",
     "output_type": "stream",
     "text": [
      "Warning: Environment variable SUMO_HOME is not set properly, disabling XML validation. Set 'auto' or 'always' for web lookups.\n",
      "  2%|▋                                          | 8/500 [00:04<04:57,  1.65it/s]"
     ]
    },
    {
     "name": "stdout",
     "output_type": "stream",
     "text": [
      "Step #0.00 (0ms ?*RT. ?UPS, vehicles TOT 1 ACT 1 BUF 0)                                   \r",
      "Step #100.00 (0ms ?*RT. ?UPS, vehicles TOT 167 ACT 109 BUF 333)                           \r",
      "Step #200.00 (1ms ~= 1000.00*RT, ~159000.00UPS, vehicles TOT 284 ACT 159 BUF 216)         \r",
      "Step #300.00 (1ms ~= 1000.00*RT, ~166000.00UPS, vehicles TOT 361 ACT 166 BUF 139)         \r",
      "Step #400.00 (1ms ~= 1000.00*RT, ~170000.00UPS, vehicles TOT 430 ACT 170 BUF 70)          \r",
      "Step #500.00 (1ms ~= 1000.00*RT, ~163000.00UPS, vehicles TOT 487 ACT 163 BUF 13)          \r",
      "Step #600.00 (0ms ?*RT. ?UPS, vehicles TOT 500 ACT 105 BUF 0)                             \r",
      "Step #700.00 (0ms ?*RT. ?UPS, vehicles TOT 500 ACT 29 BUF 0)                              \r",
      "Step #733.00 (0ms ?*RT. ?UPS, vehicles TOT 500 ACT 0 BUF 0)                               \r\n"
     ]
    },
    {
     "name": "stderr",
     "output_type": "stream",
     "text": [
      "Warning: Environment variable SUMO_HOME is not set properly, disabling XML validation. Set 'auto' or 'always' for web lookups.\n",
      "  2%|▊                                          | 9/500 [00:05<04:53,  1.67it/s]"
     ]
    },
    {
     "name": "stdout",
     "output_type": "stream",
     "text": [
      "Step #0.00 (0ms ?*RT. ?UPS, vehicles TOT 1 ACT 1 BUF 0)                                   \r",
      "Step #100.00 (1ms ~= 1000.00*RT, ~110000.00UPS, vehicles TOT 170 ACT 110 BUF 330)         \r",
      "Step #200.00 (1ms ~= 1000.00*RT, ~168000.00UPS, vehicles TOT 296 ACT 168 BUF 204)         \r",
      "Step #300.00 (1ms ~= 1000.00*RT, ~175000.00UPS, vehicles TOT 377 ACT 175 BUF 123)         \r",
      "Step #400.00 (1ms ~= 1000.00*RT, ~155000.00UPS, vehicles TOT 428 ACT 155 BUF 72)          \r",
      "Step #500.00 (0ms ?*RT. ?UPS, vehicles TOT 492 ACT 154 BUF 8)                             \r",
      "Step #600.00 (0ms ?*RT. ?UPS, vehicles TOT 500 ACT 97 BUF 0)                              \r",
      "Step #700.00 (0ms ?*RT. ?UPS, vehicles TOT 500 ACT 17 BUF 0)                              \r",
      "Step #721.00 (0ms ?*RT. ?UPS, vehicles TOT 500 ACT 0 BUF 0)                               \r\n"
     ]
    },
    {
     "name": "stderr",
     "output_type": "stream",
     "text": [
      "Warning: Environment variable SUMO_HOME is not set properly, disabling XML validation. Set 'auto' or 'always' for web lookups.\n",
      "  2%|▊                                         | 10/500 [00:05<04:55,  1.66it/s]"
     ]
    },
    {
     "name": "stdout",
     "output_type": "stream",
     "text": [
      "Step #0.00 (0ms ?*RT. ?UPS, vehicles TOT 1 ACT 1 BUF 0)                                   \r",
      "Step #100.00 (0ms ?*RT. ?UPS, vehicles TOT 167 ACT 109 BUF 333)                           \r",
      "Step #200.00 (1ms ~= 1000.00*RT, ~173000.00UPS, vehicles TOT 294 ACT 173 BUF 206)         \r",
      "Step #300.00 (1ms ~= 1000.00*RT, ~184000.00UPS, vehicles TOT 369 ACT 184 BUF 131)         \r",
      "Step #400.00 (1ms ~= 1000.00*RT, ~164000.00UPS, vehicles TOT 414 ACT 164 BUF 86)          \r",
      "Step #500.00 (1ms ~= 1000.00*RT, ~157000.00UPS, vehicles TOT 474 ACT 157 BUF 26)          \r",
      "Step #600.00 (1ms ~= 1000.00*RT, ~112000.00UPS, vehicles TOT 500 ACT 112 BUF 0)           \r",
      "Step #700.00 (0ms ?*RT. ?UPS, vehicles TOT 500 ACT 37 BUF 0)                              \r",
      "Step #743.00 (0ms ?*RT. ?UPS, vehicles TOT 500 ACT 0 BUF 0)                               \r\n"
     ]
    },
    {
     "name": "stderr",
     "output_type": "stream",
     "text": [
      "Warning: Environment variable SUMO_HOME is not set properly, disabling XML validation. Set 'auto' or 'always' for web lookups.\n",
      "  2%|▉                                         | 11/500 [00:06<04:53,  1.66it/s]"
     ]
    },
    {
     "name": "stdout",
     "output_type": "stream",
     "text": [
      "Step #0.00 (1ms ~= 1000.00*RT, ~1000.00UPS, vehicles TOT 1 ACT 1 BUF 0)                   \r",
      "Step #100.00 (1ms ~= 1000.00*RT, ~106000.00UPS, vehicles TOT 166 ACT 106 BUF 334)         \r",
      "Step #200.00 (1ms ~= 1000.00*RT, ~162000.00UPS, vehicles TOT 289 ACT 162 BUF 211)         \r",
      "Step #300.00 (1ms ~= 1000.00*RT, ~172000.00UPS, vehicles TOT 364 ACT 172 BUF 136)         \r",
      "Step #400.00 (1ms ~= 1000.00*RT, ~153000.00UPS, vehicles TOT 411 ACT 153 BUF 89)          \r",
      "Step #500.00 (1ms ~= 1000.00*RT, ~151000.00UPS, vehicles TOT 482 ACT 151 BUF 18)          \r",
      "Step #600.00 (1ms ~= 1000.00*RT, ~102000.00UPS, vehicles TOT 500 ACT 102 BUF 0)           \r",
      "Step #700.00 (0ms ?*RT. ?UPS, vehicles TOT 500 ACT 26 BUF 0)                              \r",
      "Step #730.00 (0ms ?*RT. ?UPS, vehicles TOT 500 ACT 0 BUF 0)                               \r\n"
     ]
    },
    {
     "name": "stderr",
     "output_type": "stream",
     "text": [
      "Warning: Environment variable SUMO_HOME is not set properly, disabling XML validation. Set 'auto' or 'always' for web lookups.\n",
      "  2%|█                                         | 12/500 [00:07<04:51,  1.67it/s]"
     ]
    },
    {
     "name": "stdout",
     "output_type": "stream",
     "text": [
      "Step #0.00 (0ms ?*RT. ?UPS, vehicles TOT 1 ACT 1 BUF 0)                                   \r",
      "Step #100.00 (0ms ?*RT. ?UPS, vehicles TOT 156 ACT 99 BUF 344)                            \r",
      "Step #200.00 (1ms ~= 1000.00*RT, ~160000.00UPS, vehicles TOT 285 ACT 160 BUF 215)         \r",
      "Step #300.00 (1ms ~= 1000.00*RT, ~163000.00UPS, vehicles TOT 357 ACT 163 BUF 143)         \r",
      "Step #400.00 (1ms ~= 1000.00*RT, ~175000.00UPS, vehicles TOT 433 ACT 175 BUF 67)          \r",
      "Step #500.00 (2ms ~= 500.00*RT, ~82000.00UPS, vehicles TOT 490 ACT 164 BUF 10)            \r",
      "Step #600.00 (0ms ?*RT. ?UPS, vehicles TOT 500 ACT 110 BUF 0)                             \r",
      "Step #700.00 (0ms ?*RT. ?UPS, vehicles TOT 500 ACT 34 BUF 0)                              \r",
      "Step #740.00 (0ms ?*RT. ?UPS, vehicles TOT 500 ACT 0 BUF 0)                               \r\n"
     ]
    },
    {
     "name": "stderr",
     "output_type": "stream",
     "text": [
      "Warning: Environment variable SUMO_HOME is not set properly, disabling XML validation. Set 'auto' or 'always' for web lookups.\n",
      "  3%|█                                         | 13/500 [00:07<04:48,  1.69it/s]"
     ]
    },
    {
     "name": "stdout",
     "output_type": "stream",
     "text": [
      "Step #0.00 (0ms ?*RT. ?UPS, vehicles TOT 1 ACT 1 BUF 0)                                   \r",
      "Step #100.00 (1ms ~= 1000.00*RT, ~109000.00UPS, vehicles TOT 164 ACT 109 BUF 336)         \r",
      "Step #200.00 (1ms ~= 1000.00*RT, ~166000.00UPS, vehicles TOT 294 ACT 166 BUF 206)         \r",
      "Step #300.00 (1ms ~= 1000.00*RT, ~164000.00UPS, vehicles TOT 359 ACT 164 BUF 141)         \r",
      "Step #400.00 (0ms ?*RT. ?UPS, vehicles TOT 413 ACT 153 BUF 87)                            \r",
      "Step #500.00 (1ms ~= 1000.00*RT, ~173000.00UPS, vehicles TOT 500 ACT 173 BUF 0)           \r",
      "Step #600.00 (0ms ?*RT. ?UPS, vehicles TOT 500 ACT 104 BUF 0)                             \r",
      "Step #700.00 (1ms ~= 1000.00*RT, ~27000.00UPS, vehicles TOT 500 ACT 27 BUF 0)             \r",
      "Step #732.00 (0ms ?*RT. ?UPS, vehicles TOT 500 ACT 0 BUF 0)                               \r\n"
     ]
    },
    {
     "name": "stderr",
     "output_type": "stream",
     "text": [
      "Warning: Environment variable SUMO_HOME is not set properly, disabling XML validation. Set 'auto' or 'always' for web lookups.\n",
      "  3%|█▏                                        | 14/500 [00:08<04:47,  1.69it/s]"
     ]
    },
    {
     "name": "stdout",
     "output_type": "stream",
     "text": [
      "Step #0.00 (0ms ?*RT. ?UPS, vehicles TOT 1 ACT 1 BUF 0)                                   \r",
      "Step #100.00 (1ms ~= 1000.00*RT, ~115000.00UPS, vehicles TOT 169 ACT 115 BUF 331)         \r",
      "Step #200.00 (0ms ?*RT. ?UPS, vehicles TOT 271 ACT 153 BUF 229)                           \r",
      "Step #300.00 (1ms ~= 1000.00*RT, ~159000.00UPS, vehicles TOT 345 ACT 159 BUF 155)         \r",
      "Step #400.00 (1ms ~= 1000.00*RT, ~159000.00UPS, vehicles TOT 413 ACT 159 BUF 87)          \r",
      "Step #500.00 (1ms ~= 1000.00*RT, ~176000.00UPS, vehicles TOT 500 ACT 176 BUF 0)           \r",
      "Step #600.00 (1ms ~= 1000.00*RT, ~98000.00UPS, vehicles TOT 500 ACT 98 BUF 0)             \r",
      "Step #700.00 (0ms ?*RT. ?UPS, vehicles TOT 500 ACT 23 BUF 0)                              \r",
      "Step #728.00 (0ms ?*RT. ?UPS, vehicles TOT 500 ACT 0 BUF 0)                               \r\n"
     ]
    },
    {
     "name": "stderr",
     "output_type": "stream",
     "text": [
      "Warning: Environment variable SUMO_HOME is not set properly, disabling XML validation. Set 'auto' or 'always' for web lookups.\n",
      "  3%|█▎                                        | 15/500 [00:08<04:52,  1.66it/s]"
     ]
    },
    {
     "name": "stdout",
     "output_type": "stream",
     "text": [
      "Step #0.00 (1ms ~= 1000.00*RT, ~1000.00UPS, vehicles TOT 1 ACT 1 BUF 0)                   \r",
      "Step #100.00 (1ms ~= 1000.00*RT, ~107000.00UPS, vehicles TOT 164 ACT 107 BUF 336)         \r",
      "Step #200.00 (1ms ~= 1000.00*RT, ~170000.00UPS, vehicles TOT 292 ACT 170 BUF 208)         \r",
      "Step #300.00 (1ms ~= 1000.00*RT, ~184000.00UPS, vehicles TOT 375 ACT 184 BUF 125)         \r",
      "Step #400.00 (1ms ~= 1000.00*RT, ~176000.00UPS, vehicles TOT 435 ACT 176 BUF 65)          \r",
      "Step #500.00 (1ms ~= 1000.00*RT, ~163000.00UPS, vehicles TOT 491 ACT 163 BUF 9)           \r",
      "Step #600.00 (0ms ?*RT. ?UPS, vehicles TOT 500 ACT 106 BUF 0)                             \r",
      "Step #700.00 (0ms ?*RT. ?UPS, vehicles TOT 500 ACT 31 BUF 0)                              \r",
      "Step #736.00 (0ms ?*RT. ?UPS, vehicles TOT 500 ACT 0 BUF 0)                               \r\n"
     ]
    },
    {
     "name": "stderr",
     "output_type": "stream",
     "text": [
      "Warning: Environment variable SUMO_HOME is not set properly, disabling XML validation. Set 'auto' or 'always' for web lookups.\n",
      "  3%|█▎                                        | 16/500 [00:09<04:50,  1.66it/s]"
     ]
    },
    {
     "name": "stdout",
     "output_type": "stream",
     "text": [
      "Step #0.00 (1ms ~= 1000.00*RT, ~1000.00UPS, vehicles TOT 1 ACT 1 BUF 0)                   \r",
      "Step #100.00 (0ms ?*RT. ?UPS, vehicles TOT 160 ACT 102 BUF 340)                           \r",
      "Step #200.00 (1ms ~= 1000.00*RT, ~153000.00UPS, vehicles TOT 279 ACT 153 BUF 221)         \r",
      "Step #300.00 (2ms ~= 500.00*RT, ~93500.00UPS, vehicles TOT 379 ACT 187 BUF 121)           \r",
      "Step #400.00 (0ms ?*RT. ?UPS, vehicles TOT 414 ACT 159 BUF 86)                            \r",
      "Step #500.00 (1ms ~= 1000.00*RT, ~144000.00UPS, vehicles TOT 468 ACT 144 BUF 32)          \r",
      "Step #600.00 (0ms ?*RT. ?UPS, vehicles TOT 500 ACT 101 BUF 0)                             \r",
      "Step #700.00 (0ms ?*RT. ?UPS, vehicles TOT 500 ACT 25 BUF 0)                              \r",
      "Step #729.00 (0ms ?*RT. ?UPS, vehicles TOT 500 ACT 0 BUF 0)                               \r\n"
     ]
    },
    {
     "name": "stderr",
     "output_type": "stream",
     "text": [
      "Warning: Environment variable SUMO_HOME is not set properly, disabling XML validation. Set 'auto' or 'always' for web lookups.\n",
      "  3%|█▍                                        | 17/500 [00:10<04:42,  1.71it/s]"
     ]
    },
    {
     "name": "stdout",
     "output_type": "stream",
     "text": [
      "Step #0.00 (0ms ?*RT. ?UPS, vehicles TOT 1 ACT 1 BUF 0)                                   \r",
      "Step #100.00 (1ms ~= 1000.00*RT, ~105000.00UPS, vehicles TOT 163 ACT 105 BUF 337)         \r",
      "Step #200.00 (1ms ~= 1000.00*RT, ~169000.00UPS, vehicles TOT 293 ACT 169 BUF 207)         \r",
      "Step #300.00 (1ms ~= 1000.00*RT, ~157000.00UPS, vehicles TOT 350 ACT 157 BUF 150)         \r",
      "Step #400.00 (0ms ?*RT. ?UPS, vehicles TOT 407 ACT 147 BUF 93)                            \r",
      "Step #500.00 (0ms ?*RT. ?UPS, vehicles TOT 461 ACT 130 BUF 39)                            \r",
      "Step #600.00 (1ms ~= 1000.00*RT, ~106000.00UPS, vehicles TOT 500 ACT 106 BUF 0)           \r",
      "Step #700.00 (0ms ?*RT. ?UPS, vehicles TOT 500 ACT 30 BUF 0)                              \r",
      "Step #735.00 (0ms ?*RT. ?UPS, vehicles TOT 500 ACT 0 BUF 0)                               \r\n"
     ]
    },
    {
     "name": "stderr",
     "output_type": "stream",
     "text": [
      "Warning: Environment variable SUMO_HOME is not set properly, disabling XML validation. Set 'auto' or 'always' for web lookups.\n",
      "  4%|█▌                                        | 18/500 [00:10<04:36,  1.74it/s]"
     ]
    },
    {
     "name": "stdout",
     "output_type": "stream",
     "text": [
      "Step #0.00 (0ms ?*RT. ?UPS, vehicles TOT 1 ACT 1 BUF 0)                                   \r",
      "Step #100.00 (0ms ?*RT. ?UPS, vehicles TOT 167 ACT 108 BUF 333)                           \r",
      "Step #200.00 (1ms ~= 1000.00*RT, ~148000.00UPS, vehicles TOT 274 ACT 148 BUF 226)         \r",
      "Step #300.00 (1ms ~= 1000.00*RT, ~164000.00UPS, vehicles TOT 361 ACT 164 BUF 139)         \r",
      "Step #400.00 (0ms ?*RT. ?UPS, vehicles TOT 408 ACT 140 BUF 92)                            \r",
      "Step #500.00 (1ms ~= 1000.00*RT, ~161000.00UPS, vehicles TOT 500 ACT 161 BUF 0)           \r",
      "Step #600.00 (1ms ~= 1000.00*RT, ~95000.00UPS, vehicles TOT 500 ACT 95 BUF 0)             \r",
      "Step #700.00 (1ms ~= 1000.00*RT, ~20000.00UPS, vehicles TOT 500 ACT 20 BUF 0)             \r",
      "Step #724.00 (0ms ?*RT. ?UPS, vehicles TOT 500 ACT 0 BUF 0)                               \r\n"
     ]
    },
    {
     "name": "stderr",
     "output_type": "stream",
     "text": [
      "Warning: Environment variable SUMO_HOME is not set properly, disabling XML validation. Set 'auto' or 'always' for web lookups.\n",
      "  4%|█▌                                        | 19/500 [00:11<04:46,  1.68it/s]"
     ]
    },
    {
     "name": "stdout",
     "output_type": "stream",
     "text": [
      "Step #0.00 (0ms ?*RT. ?UPS, vehicles TOT 1 ACT 1 BUF 0)                                   \r",
      "Step #100.00 (1ms ~= 1000.00*RT, ~103000.00UPS, vehicles TOT 162 ACT 103 BUF 338)         \r",
      "Step #200.00 (1ms ~= 1000.00*RT, ~155000.00UPS, vehicles TOT 286 ACT 155 BUF 214)         \r",
      "Step #300.00 (1ms ~= 1000.00*RT, ~175000.00UPS, vehicles TOT 376 ACT 175 BUF 124)         \r",
      "Step #400.00 (1ms ~= 1000.00*RT, ~154000.00UPS, vehicles TOT 420 ACT 154 BUF 80)          \r",
      "Step #500.00 (1ms ~= 1000.00*RT, ~167000.00UPS, vehicles TOT 500 ACT 167 BUF 0)           \r",
      "Step #600.00 (0ms ?*RT. ?UPS, vehicles TOT 500 ACT 96 BUF 0)                              \r",
      "Step #700.00 (0ms ?*RT. ?UPS, vehicles TOT 500 ACT 20 BUF 0)                              \r",
      "Step #724.00 (0ms ?*RT. ?UPS, vehicles TOT 500 ACT 0 BUF 0)                               \r\n"
     ]
    },
    {
     "name": "stderr",
     "output_type": "stream",
     "text": [
      "Warning: Environment variable SUMO_HOME is not set properly, disabling XML validation. Set 'auto' or 'always' for web lookups.\n",
      "  4%|█▋                                        | 20/500 [00:11<04:38,  1.72it/s]"
     ]
    },
    {
     "name": "stdout",
     "output_type": "stream",
     "text": [
      "Step #0.00 (0ms ?*RT. ?UPS, vehicles TOT 1 ACT 1 BUF 0)                                   \r",
      "Step #100.00 (1ms ~= 1000.00*RT, ~100000.00UPS, vehicles TOT 155 ACT 100 BUF 345)         \r",
      "Step #200.00 (1ms ~= 1000.00*RT, ~160000.00UPS, vehicles TOT 284 ACT 160 BUF 216)         \r",
      "Step #300.00 (1ms ~= 1000.00*RT, ~155000.00UPS, vehicles TOT 347 ACT 155 BUF 153)         \r",
      "Step #400.00 (1ms ~= 1000.00*RT, ~143000.00UPS, vehicles TOT 403 ACT 143 BUF 97)          \r",
      "Step #500.00 (0ms ?*RT. ?UPS, vehicles TOT 491 ACT 165 BUF 9)                             \r",
      "Step #600.00 (1ms ~= 1000.00*RT, ~107000.00UPS, vehicles TOT 500 ACT 107 BUF 0)           \r",
      "Step #700.00 (0ms ?*RT. ?UPS, vehicles TOT 500 ACT 34 BUF 0)                              \r",
      "Step #740.00 (0ms ?*RT. ?UPS, vehicles TOT 500 ACT 0 BUF 0)                               \r\n"
     ]
    },
    {
     "name": "stderr",
     "output_type": "stream",
     "text": [
      "Warning: Environment variable SUMO_HOME is not set properly, disabling XML validation. Set 'auto' or 'always' for web lookups.\n",
      "  4%|█▊                                        | 21/500 [00:12<04:36,  1.73it/s]"
     ]
    },
    {
     "name": "stdout",
     "output_type": "stream",
     "text": [
      "Step #0.00 (0ms ?*RT. ?UPS, vehicles TOT 1 ACT 1 BUF 0)                                   \r",
      "Step #100.00 (1ms ~= 1000.00*RT, ~106000.00UPS, vehicles TOT 161 ACT 106 BUF 339)         \r",
      "Step #200.00 (1ms ~= 1000.00*RT, ~161000.00UPS, vehicles TOT 282 ACT 161 BUF 218)         \r",
      "Step #300.00 (1ms ~= 1000.00*RT, ~154000.00UPS, vehicles TOT 349 ACT 154 BUF 151)         \r",
      "Step #400.00 (1ms ~= 1000.00*RT, ~150000.00UPS, vehicles TOT 414 ACT 150 BUF 86)          \r",
      "Step #500.00 (0ms ?*RT. ?UPS, vehicles TOT 477 ACT 151 BUF 23)                            \r",
      "Step #600.00 (1ms ~= 1000.00*RT, ~109000.00UPS, vehicles TOT 500 ACT 109 BUF 0)           \r",
      "Step #700.00 (0ms ?*RT. ?UPS, vehicles TOT 500 ACT 34 BUF 0)                              \r",
      "Step #740.00 (0ms ?*RT. ?UPS, vehicles TOT 500 ACT 0 BUF 0)                               \r\n"
     ]
    },
    {
     "name": "stderr",
     "output_type": "stream",
     "text": [
      "Warning: Environment variable SUMO_HOME is not set properly, disabling XML validation. Set 'auto' or 'always' for web lookups.\n",
      "  4%|█▊                                        | 22/500 [00:13<04:38,  1.71it/s]"
     ]
    },
    {
     "name": "stdout",
     "output_type": "stream",
     "text": [
      "Step #0.00 (0ms ?*RT. ?UPS, vehicles TOT 1 ACT 1 BUF 0)                                   \r",
      "Step #100.00 (1ms ~= 1000.00*RT, ~104000.00UPS, vehicles TOT 162 ACT 104 BUF 338)         \r",
      "Step #200.00 (1ms ~= 1000.00*RT, ~180000.00UPS, vehicles TOT 304 ACT 180 BUF 196)         \r",
      "Step #300.00 (0ms ?*RT. ?UPS, vehicles TOT 355 ACT 162 BUF 145)                           \r",
      "Step #400.00 (0ms ?*RT. ?UPS, vehicles TOT 395 ACT 140 BUF 105)                           \r",
      "Step #500.00 (1ms ~= 1000.00*RT, ~173000.00UPS, vehicles TOT 493 ACT 173 BUF 7)           \r",
      "Step #600.00 (1ms ~= 1000.00*RT, ~113000.00UPS, vehicles TOT 500 ACT 113 BUF 0)           \r",
      "Step #700.00 (0ms ?*RT. ?UPS, vehicles TOT 500 ACT 43 BUF 0)                              \r",
      "Step #750.00 (0ms ?*RT. ?UPS, vehicles TOT 500 ACT 0 BUF 0)                               \r\n"
     ]
    },
    {
     "name": "stderr",
     "output_type": "stream",
     "text": [
      "Warning: Environment variable SUMO_HOME is not set properly, disabling XML validation. Set 'auto' or 'always' for web lookups.\n",
      "  5%|█▉                                        | 23/500 [00:13<04:33,  1.74it/s]"
     ]
    },
    {
     "name": "stdout",
     "output_type": "stream",
     "text": [
      "Step #0.00 (0ms ?*RT. ?UPS, vehicles TOT 1 ACT 1 BUF 0)                                   \r",
      "Step #100.00 (1ms ~= 1000.00*RT, ~104000.00UPS, vehicles TOT 166 ACT 104 BUF 334)         \r",
      "Step #200.00 (1ms ~= 1000.00*RT, ~156000.00UPS, vehicles TOT 285 ACT 156 BUF 215)         \r",
      "Step #300.00 (1ms ~= 1000.00*RT, ~151000.00UPS, vehicles TOT 348 ACT 151 BUF 152)         \r",
      "Step #400.00 (1ms ~= 1000.00*RT, ~162000.00UPS, vehicles TOT 430 ACT 162 BUF 70)          \r",
      "Step #500.00 (1ms ~= 1000.00*RT, ~163000.00UPS, vehicles TOT 498 ACT 163 BUF 2)           \r",
      "Step #600.00 (0ms ?*RT. ?UPS, vehicles TOT 500 ACT 98 BUF 0)                              \r",
      "Step #700.00 (0ms ?*RT. ?UPS, vehicles TOT 500 ACT 18 BUF 0)                              \r",
      "Step #721.00 (0ms ?*RT. ?UPS, vehicles TOT 500 ACT 0 BUF 0)                               \r\n"
     ]
    },
    {
     "name": "stderr",
     "output_type": "stream",
     "text": [
      "Warning: Environment variable SUMO_HOME is not set properly, disabling XML validation. Set 'auto' or 'always' for web lookups.\n",
      "  5%|██                                        | 24/500 [00:14<04:30,  1.76it/s]"
     ]
    },
    {
     "name": "stdout",
     "output_type": "stream",
     "text": [
      "Step #0.00 (0ms ?*RT. ?UPS, vehicles TOT 1 ACT 1 BUF 0)                                   \r",
      "Step #100.00 (1ms ~= 1000.00*RT, ~112000.00UPS, vehicles TOT 167 ACT 112 BUF 333)         \r",
      "Step #200.00 (1ms ~= 1000.00*RT, ~153000.00UPS, vehicles TOT 274 ACT 153 BUF 226)         \r",
      "Step #300.00 (1ms ~= 1000.00*RT, ~137000.00UPS, vehicles TOT 322 ACT 137 BUF 178)         \r",
      "Step #400.00 (0ms ?*RT. ?UPS, vehicles TOT 410 ACT 161 BUF 90)                            \r",
      "Step #500.00 (1ms ~= 1000.00*RT, ~162000.00UPS, vehicles TOT 480 ACT 162 BUF 20)          \r",
      "Step #600.00 (0ms ?*RT. ?UPS, vehicles TOT 500 ACT 116 BUF 0)                             \r",
      "Step #700.00 (0ms ?*RT. ?UPS, vehicles TOT 500 ACT 43 BUF 0)                              \r",
      "Step #751.00 (0ms ?*RT. ?UPS, vehicles TOT 500 ACT 0 BUF 0)                               \r\n"
     ]
    },
    {
     "name": "stderr",
     "output_type": "stream",
     "text": [
      "Warning: Environment variable SUMO_HOME is not set properly, disabling XML validation. Set 'auto' or 'always' for web lookups.\n",
      "  5%|██                                        | 25/500 [00:14<04:30,  1.75it/s]"
     ]
    },
    {
     "name": "stdout",
     "output_type": "stream",
     "text": [
      "Step #0.00 (0ms ?*RT. ?UPS, vehicles TOT 1 ACT 1 BUF 0)                                   \r",
      "Step #100.00 (1ms ~= 1000.00*RT, ~102000.00UPS, vehicles TOT 158 ACT 102 BUF 342)         \r",
      "Step #200.00 (1ms ~= 1000.00*RT, ~169000.00UPS, vehicles TOT 289 ACT 169 BUF 211)         \r",
      "Step #300.00 (1ms ~= 1000.00*RT, ~169000.00UPS, vehicles TOT 360 ACT 169 BUF 140)         \r",
      "Step #400.00 (0ms ?*RT. ?UPS, vehicles TOT 412 ACT 154 BUF 88)                            \r",
      "Step #500.00 (1ms ~= 1000.00*RT, ~173000.00UPS, vehicles TOT 499 ACT 173 BUF 1)           \r",
      "Step #600.00 (1ms ~= 1000.00*RT, ~107000.00UPS, vehicles TOT 500 ACT 107 BUF 0)           \r",
      "Step #700.00 (0ms ?*RT. ?UPS, vehicles TOT 500 ACT 37 BUF 0)                              \r",
      "Step #744.00 (0ms ?*RT. ?UPS, vehicles TOT 500 ACT 0 BUF 0)                               \r\n"
     ]
    },
    {
     "name": "stderr",
     "output_type": "stream",
     "text": [
      "Warning: Environment variable SUMO_HOME is not set properly, disabling XML validation. Set 'auto' or 'always' for web lookups.\n",
      "  5%|██▏                                       | 26/500 [00:15<05:13,  1.51it/s]"
     ]
    },
    {
     "name": "stdout",
     "output_type": "stream",
     "text": [
      "Step #0.00 (0ms ?*RT. ?UPS, vehicles TOT 1 ACT 1 BUF 0)                                   \r",
      "Step #100.00 (1ms ~= 1000.00*RT, ~109000.00UPS, vehicles TOT 165 ACT 109 BUF 335)         \r",
      "Step #200.00 (1ms ~= 1000.00*RT, ~157000.00UPS, vehicles TOT 284 ACT 157 BUF 216)         \r",
      "Step #300.00 (2ms ~= 500.00*RT, ~74500.00UPS, vehicles TOT 343 ACT 149 BUF 157)           \r",
      "Step #400.00 (2ms ~= 500.00*RT, ~78500.00UPS, vehicles TOT 413 ACT 157 BUF 87)            \r",
      "Step #500.00 (1ms ~= 1000.00*RT, ~173000.00UPS, vehicles TOT 500 ACT 173 BUF 0)           \r",
      "Step #600.00 (1ms ~= 1000.00*RT, ~109000.00UPS, vehicles TOT 500 ACT 109 BUF 0)           \r",
      "Step #700.00 (1ms ~= 1000.00*RT, ~36000.00UPS, vehicles TOT 500 ACT 36 BUF 0)             \r",
      "Step #742.00 (0ms ?*RT. ?UPS, vehicles TOT 500 ACT 0 BUF 0)                               \r\n"
     ]
    },
    {
     "name": "stderr",
     "output_type": "stream",
     "text": [
      "Warning: Environment variable SUMO_HOME is not set properly, disabling XML validation. Set 'auto' or 'always' for web lookups.\n",
      "  5%|██▎                                       | 27/500 [00:16<05:54,  1.34it/s]"
     ]
    },
    {
     "name": "stdout",
     "output_type": "stream",
     "text": [
      "Step #0.00 (0ms ?*RT. ?UPS, vehicles TOT 1 ACT 1 BUF 0)                                   \r",
      "Step #100.00 (1ms ~= 1000.00*RT, ~104000.00UPS, vehicles TOT 165 ACT 104 BUF 335)         \r",
      "Step #200.00 (1ms ~= 1000.00*RT, ~145000.00UPS, vehicles TOT 273 ACT 145 BUF 227)         \r",
      "Step #300.00 (1ms ~= 1000.00*RT, ~144000.00UPS, vehicles TOT 343 ACT 144 BUF 157)         \r",
      "Step #400.00 (1ms ~= 1000.00*RT, ~161000.00UPS, vehicles TOT 425 ACT 161 BUF 75)          \r",
      "Step #500.00 (2ms ~= 500.00*RT, ~83000.00UPS, vehicles TOT 498 ACT 166 BUF 2)             \r",
      "Step #600.00 (1ms ~= 1000.00*RT, ~96000.00UPS, vehicles TOT 500 ACT 96 BUF 0)             \r",
      "Step #700.00 (0ms ?*RT. ?UPS, vehicles TOT 500 ACT 25 BUF 0)                              \r",
      "Step #730.00 (1ms ~= 1000.00*RT, ~0.00UPS, vehicles TOT 500 ACT 0 BUF 0)                  \r\n"
     ]
    },
    {
     "name": "stderr",
     "output_type": "stream",
     "text": [
      "Warning: Environment variable SUMO_HOME is not set properly, disabling XML validation. Set 'auto' or 'always' for web lookups.\n",
      "  6%|██▎                                       | 28/500 [00:17<06:25,  1.22it/s]"
     ]
    },
    {
     "name": "stdout",
     "output_type": "stream",
     "text": [
      "Step #0.00 (0ms ?*RT. ?UPS, vehicles TOT 1 ACT 1 BUF 0)                                   \r",
      "Step #100.00 (2ms ~= 500.00*RT, ~52000.00UPS, vehicles TOT 163 ACT 104 BUF 337)           \r",
      "Step #200.00 (2ms ~= 500.00*RT, ~79500.00UPS, vehicles TOT 285 ACT 159 BUF 215)           \r",
      "Step #300.00 (1ms ~= 1000.00*RT, ~183000.00UPS, vehicles TOT 377 ACT 183 BUF 123)         \r",
      "Step #400.00 (1ms ~= 1000.00*RT, ~132000.00UPS, vehicles TOT 393 ACT 132 BUF 107)         \r",
      "Step #500.00 (1ms ~= 1000.00*RT, ~161000.00UPS, vehicles TOT 492 ACT 161 BUF 8)           \r",
      "Step #600.00 (1ms ~= 1000.00*RT, ~100000.00UPS, vehicles TOT 500 ACT 100 BUF 0)           \r",
      "Step #700.00 (0ms ?*RT. ?UPS, vehicles TOT 500 ACT 24 BUF 0)                              \r",
      "Step #729.00 (0ms ?*RT. ?UPS, vehicles TOT 500 ACT 0 BUF 0)                               \r\n"
     ]
    },
    {
     "name": "stderr",
     "output_type": "stream",
     "text": [
      "Warning: Environment variable SUMO_HOME is not set properly, disabling XML validation. Set 'auto' or 'always' for web lookups.\n",
      "  6%|██▍                                       | 29/500 [00:18<06:47,  1.16it/s]"
     ]
    },
    {
     "name": "stdout",
     "output_type": "stream",
     "text": [
      "Step #0.00 (0ms ?*RT. ?UPS, vehicles TOT 1 ACT 1 BUF 0)                                   \r",
      "Step #100.00 (2ms ~= 500.00*RT, ~51000.00UPS, vehicles TOT 163 ACT 102 BUF 337)           \r",
      "Step #200.00 (2ms ~= 500.00*RT, ~76500.00UPS, vehicles TOT 280 ACT 153 BUF 220)           \r",
      "Step #300.00 (1ms ~= 1000.00*RT, ~154000.00UPS, vehicles TOT 345 ACT 154 BUF 155)         \r",
      "Step #400.00 (1ms ~= 1000.00*RT, ~144000.00UPS, vehicles TOT 400 ACT 144 BUF 100)         \r",
      "Step #500.00 (1ms ~= 1000.00*RT, ~154000.00UPS, vehicles TOT 474 ACT 154 BUF 26)          \r",
      "Step #600.00 (1ms ~= 1000.00*RT, ~110000.00UPS, vehicles TOT 500 ACT 110 BUF 0)           \r",
      "Step #700.00 (1ms ~= 1000.00*RT, ~38000.00UPS, vehicles TOT 500 ACT 38 BUF 0)             \r",
      "Step #744.00 (0ms ?*RT. ?UPS, vehicles TOT 500 ACT 0 BUF 0)                               \r\n"
     ]
    },
    {
     "name": "stderr",
     "output_type": "stream",
     "text": [
      "Warning: Environment variable SUMO_HOME is not set properly, disabling XML validation. Set 'auto' or 'always' for web lookups.\n",
      "  6%|██▌                                       | 30/500 [00:19<06:33,  1.20it/s]"
     ]
    },
    {
     "name": "stdout",
     "output_type": "stream",
     "text": [
      "Step #0.00 (0ms ?*RT. ?UPS, vehicles TOT 1 ACT 1 BUF 0)                                   \r",
      "Step #100.00 (2ms ~= 500.00*RT, ~53500.00UPS, vehicles TOT 164 ACT 107 BUF 336)           \r",
      "Step #200.00 (2ms ~= 500.00*RT, ~79500.00UPS, vehicles TOT 281 ACT 159 BUF 219)           \r",
      "Step #300.00 (1ms ~= 1000.00*RT, ~155000.00UPS, vehicles TOT 348 ACT 155 BUF 152)         \r",
      "Step #400.00 (1ms ~= 1000.00*RT, ~133000.00UPS, vehicles TOT 392 ACT 133 BUF 108)         \r",
      "Step #500.00 (1ms ~= 1000.00*RT, ~163000.00UPS, vehicles TOT 488 ACT 163 BUF 12)          \r",
      "Step #600.00 (1ms ~= 1000.00*RT, ~109000.00UPS, vehicles TOT 500 ACT 109 BUF 0)           \r",
      "Step #700.00 (1ms ~= 1000.00*RT, ~40000.00UPS, vehicles TOT 500 ACT 40 BUF 0)             \r",
      "Step #747.00 (0ms ?*RT. ?UPS, vehicles TOT 500 ACT 0 BUF 0)                               \r\n"
     ]
    },
    {
     "name": "stderr",
     "output_type": "stream",
     "text": [
      "Warning: Environment variable SUMO_HOME is not set properly, disabling XML validation. Set 'auto' or 'always' for web lookups.\n",
      "  6%|██▌                                       | 31/500 [00:19<05:54,  1.32it/s]"
     ]
    },
    {
     "name": "stdout",
     "output_type": "stream",
     "text": [
      "Step #0.00 (0ms ?*RT. ?UPS, vehicles TOT 1 ACT 1 BUF 0)                                   \r",
      "Step #100.00 (1ms ~= 1000.00*RT, ~107000.00UPS, vehicles TOT 163 ACT 107 BUF 337)         \r",
      "Step #200.00 (1ms ~= 1000.00*RT, ~153000.00UPS, vehicles TOT 276 ACT 153 BUF 224)         \r",
      "Step #300.00 (1ms ~= 1000.00*RT, ~142000.00UPS, vehicles TOT 333 ACT 142 BUF 167)         \r",
      "Step #400.00 (1ms ~= 1000.00*RT, ~159000.00UPS, vehicles TOT 414 ACT 159 BUF 86)          \r",
      "Step #500.00 (1ms ~= 1000.00*RT, ~157000.00UPS, vehicles TOT 478 ACT 157 BUF 22)          \r",
      "Step #600.00 (0ms ?*RT. ?UPS, vehicles TOT 500 ACT 110 BUF 0)                             \r",
      "Step #700.00 (1ms ~= 1000.00*RT, ~41000.00UPS, vehicles TOT 500 ACT 41 BUF 0)             \r",
      "Step #748.00 (0ms ?*RT. ?UPS, vehicles TOT 500 ACT 0 BUF 0)                               \r\n"
     ]
    },
    {
     "name": "stderr",
     "output_type": "stream",
     "text": [
      "Warning: Environment variable SUMO_HOME is not set properly, disabling XML validation. Set 'auto' or 'always' for web lookups.\n",
      "  6%|██▋                                       | 32/500 [00:20<05:27,  1.43it/s]"
     ]
    },
    {
     "name": "stdout",
     "output_type": "stream",
     "text": [
      "Step #0.00 (1ms ~= 1000.00*RT, ~1000.00UPS, vehicles TOT 1 ACT 1 BUF 0)                   \r",
      "Step #100.00 (1ms ~= 1000.00*RT, ~108000.00UPS, vehicles TOT 165 ACT 108 BUF 335)         \r",
      "Step #200.00 (1ms ~= 1000.00*RT, ~153000.00UPS, vehicles TOT 280 ACT 153 BUF 220)         \r",
      "Step #300.00 (1ms ~= 1000.00*RT, ~165000.00UPS, vehicles TOT 358 ACT 165 BUF 142)         \r",
      "Step #400.00 (1ms ~= 1000.00*RT, ~167000.00UPS, vehicles TOT 420 ACT 167 BUF 80)          \r",
      "Step #500.00 (1ms ~= 1000.00*RT, ~146000.00UPS, vehicles TOT 467 ACT 146 BUF 33)          \r",
      "Step #600.00 (0ms ?*RT. ?UPS, vehicles TOT 500 ACT 103 BUF 0)                             \r",
      "Step #700.00 (0ms ?*RT. ?UPS, vehicles TOT 500 ACT 28 BUF 0)                              \r",
      "Step #733.00 (0ms ?*RT. ?UPS, vehicles TOT 500 ACT 0 BUF 0)                               \r\n"
     ]
    },
    {
     "name": "stderr",
     "output_type": "stream",
     "text": [
      "Warning: Environment variable SUMO_HOME is not set properly, disabling XML validation. Set 'auto' or 'always' for web lookups.\n",
      "  7%|██▊                                       | 33/500 [00:20<05:09,  1.51it/s]"
     ]
    },
    {
     "name": "stdout",
     "output_type": "stream",
     "text": [
      "Step #0.00 (0ms ?*RT. ?UPS, vehicles TOT 1 ACT 1 BUF 0)                                   \r",
      "Step #100.00 (1ms ~= 1000.00*RT, ~112000.00UPS, vehicles TOT 165 ACT 112 BUF 335)         \r",
      "Step #200.00 (1ms ~= 1000.00*RT, ~151000.00UPS, vehicles TOT 269 ACT 151 BUF 231)         \r",
      "Step #300.00 (0ms ?*RT. ?UPS, vehicles TOT 342 ACT 156 BUF 158)                           \r",
      "Step #400.00 (1ms ~= 1000.00*RT, ~152000.00UPS, vehicles TOT 408 ACT 152 BUF 92)          \r",
      "Step #500.00 (1ms ~= 1000.00*RT, ~185000.00UPS, vehicles TOT 499 ACT 185 BUF 1)           \r",
      "Step #600.00 (1ms ~= 1000.00*RT, ~118000.00UPS, vehicles TOT 500 ACT 118 BUF 0)           \r",
      "Step #700.00 (0ms ?*RT. ?UPS, vehicles TOT 500 ACT 47 BUF 0)                              \r",
      "Step #755.00 (0ms ?*RT. ?UPS, vehicles TOT 500 ACT 0 BUF 0)                               \r\n"
     ]
    },
    {
     "name": "stderr",
     "output_type": "stream",
     "text": [
      "Warning: Environment variable SUMO_HOME is not set properly, disabling XML validation. Set 'auto' or 'always' for web lookups.\n",
      "  7%|██▊                                       | 34/500 [00:21<04:52,  1.59it/s]"
     ]
    },
    {
     "name": "stdout",
     "output_type": "stream",
     "text": [
      "Step #0.00 (0ms ?*RT. ?UPS, vehicles TOT 1 ACT 1 BUF 0)                                   \r",
      "Step #100.00 (1ms ~= 1000.00*RT, ~108000.00UPS, vehicles TOT 163 ACT 108 BUF 337)         \r",
      "Step #200.00 (1ms ~= 1000.00*RT, ~154000.00UPS, vehicles TOT 279 ACT 154 BUF 221)         \r",
      "Step #300.00 (0ms ?*RT. ?UPS, vehicles TOT 362 ACT 166 BUF 138)                           \r",
      "Step #400.00 (1ms ~= 1000.00*RT, ~143000.00UPS, vehicles TOT 403 ACT 143 BUF 97)          \r",
      "Step #500.00 (1ms ~= 1000.00*RT, ~171000.00UPS, vehicles TOT 500 ACT 171 BUF 0)           \r",
      "Step #600.00 (1ms ~= 1000.00*RT, ~102000.00UPS, vehicles TOT 500 ACT 102 BUF 0)           \r",
      "Step #700.00 (0ms ?*RT. ?UPS, vehicles TOT 500 ACT 31 BUF 0)                              \r",
      "Step #736.00 (1ms ~= 1000.00*RT, ~0.00UPS, vehicles TOT 500 ACT 0 BUF 0)                  \r\n"
     ]
    },
    {
     "name": "stderr",
     "output_type": "stream",
     "text": [
      "Warning: Environment variable SUMO_HOME is not set properly, disabling XML validation. Set 'auto' or 'always' for web lookups.\n",
      "  7%|██▉                                       | 35/500 [00:22<04:46,  1.63it/s]"
     ]
    },
    {
     "name": "stdout",
     "output_type": "stream",
     "text": [
      "Step #0.00 (0ms ?*RT. ?UPS, vehicles TOT 1 ACT 1 BUF 0)                                   \r",
      "Step #100.00 (1ms ~= 1000.00*RT, ~108000.00UPS, vehicles TOT 162 ACT 108 BUF 338)         \r",
      "Step #200.00 (1ms ~= 1000.00*RT, ~162000.00UPS, vehicles TOT 282 ACT 162 BUF 218)         \r",
      "Step #300.00 (1ms ~= 1000.00*RT, ~167000.00UPS, vehicles TOT 353 ACT 167 BUF 147)         \r",
      "Step #400.00 (0ms ?*RT. ?UPS, vehicles TOT 407 ACT 155 BUF 93)                            \r",
      "Step #500.00 (1ms ~= 1000.00*RT, ~167000.00UPS, vehicles TOT 493 ACT 167 BUF 7)           \r",
      "Step #600.00 (1ms ~= 1000.00*RT, ~107000.00UPS, vehicles TOT 500 ACT 107 BUF 0)           \r",
      "Step #700.00 (0ms ?*RT. ?UPS, vehicles TOT 500 ACT 35 BUF 0)                              \r",
      "Step #742.00 (0ms ?*RT. ?UPS, vehicles TOT 500 ACT 0 BUF 0)                               \r\n"
     ]
    },
    {
     "name": "stderr",
     "output_type": "stream",
     "text": [
      "Warning: Environment variable SUMO_HOME is not set properly, disabling XML validation. Set 'auto' or 'always' for web lookups.\n",
      "  7%|███                                       | 36/500 [00:22<04:34,  1.69it/s]"
     ]
    },
    {
     "name": "stdout",
     "output_type": "stream",
     "text": [
      "Step #0.00 (0ms ?*RT. ?UPS, vehicles TOT 1 ACT 1 BUF 0)                                   \r",
      "Step #100.00 (1ms ~= 1000.00*RT, ~103000.00UPS, vehicles TOT 160 ACT 103 BUF 340)         \r",
      "Step #200.00 (1ms ~= 1000.00*RT, ~158000.00UPS, vehicles TOT 281 ACT 158 BUF 219)         \r",
      "Step #300.00 (0ms ?*RT. ?UPS, vehicles TOT 349 ACT 158 BUF 151)                           \r",
      "Step #400.00 (0ms ?*RT. ?UPS, vehicles TOT 399 ACT 140 BUF 101)                           \r",
      "Step #500.00 (1ms ~= 1000.00*RT, ~164000.00UPS, vehicles TOT 489 ACT 164 BUF 11)          \r",
      "Step #600.00 (1ms ~= 1000.00*RT, ~107000.00UPS, vehicles TOT 500 ACT 107 BUF 0)           \r",
      "Step #700.00 (1ms ~= 1000.00*RT, ~36000.00UPS, vehicles TOT 500 ACT 36 BUF 0)             \r",
      "Step #743.00 (0ms ?*RT. ?UPS, vehicles TOT 500 ACT 0 BUF 0)                               \r\n"
     ]
    },
    {
     "name": "stderr",
     "output_type": "stream",
     "text": [
      "Warning: Environment variable SUMO_HOME is not set properly, disabling XML validation. Set 'auto' or 'always' for web lookups.\n",
      "  7%|███                                       | 37/500 [00:23<04:28,  1.72it/s]"
     ]
    },
    {
     "name": "stdout",
     "output_type": "stream",
     "text": [
      "Step #0.00 (0ms ?*RT. ?UPS, vehicles TOT 1 ACT 1 BUF 0)                                   \r",
      "Step #100.00 (1ms ~= 1000.00*RT, ~107000.00UPS, vehicles TOT 163 ACT 107 BUF 337)         \r",
      "Step #200.00 (1ms ~= 1000.00*RT, ~154000.00UPS, vehicles TOT 276 ACT 154 BUF 224)         \r",
      "Step #300.00 (0ms ?*RT. ?UPS, vehicles TOT 345 ACT 151 BUF 155)                           \r",
      "Step #400.00 (1ms ~= 1000.00*RT, ~157000.00UPS, vehicles TOT 420 ACT 157 BUF 80)          \r",
      "Step #500.00 (1ms ~= 1000.00*RT, ~157000.00UPS, vehicles TOT 488 ACT 157 BUF 12)          \r",
      "Step #600.00 (0ms ?*RT. ?UPS, vehicles TOT 500 ACT 97 BUF 0)                              \r",
      "Step #700.00 (0ms ?*RT. ?UPS, vehicles TOT 500 ACT 21 BUF 0)                              \r",
      "Step #725.00 (0ms ?*RT. ?UPS, vehicles TOT 500 ACT 0 BUF 0)                               \r\n"
     ]
    },
    {
     "name": "stderr",
     "output_type": "stream",
     "text": [
      "Warning: Environment variable SUMO_HOME is not set properly, disabling XML validation. Set 'auto' or 'always' for web lookups.\n",
      "  8%|███▏                                      | 38/500 [00:23<04:23,  1.76it/s]"
     ]
    },
    {
     "name": "stdout",
     "output_type": "stream",
     "text": [
      "Step #0.00 (0ms ?*RT. ?UPS, vehicles TOT 1 ACT 1 BUF 0)                                   \r",
      "Step #100.00 (0ms ?*RT. ?UPS, vehicles TOT 159 ACT 102 BUF 341)                           \r",
      "Step #200.00 (1ms ~= 1000.00*RT, ~155000.00UPS, vehicles TOT 273 ACT 155 BUF 227)         \r",
      "Step #300.00 (1ms ~= 1000.00*RT, ~147000.00UPS, vehicles TOT 329 ACT 147 BUF 171)         \r",
      "Step #400.00 (1ms ~= 1000.00*RT, ~182000.00UPS, vehicles TOT 433 ACT 182 BUF 67)          \r",
      "Step #500.00 (1ms ~= 1000.00*RT, ~143000.00UPS, vehicles TOT 465 ACT 143 BUF 35)          \r",
      "Step #600.00 (1ms ~= 1000.00*RT, ~109000.00UPS, vehicles TOT 500 ACT 109 BUF 0)           \r",
      "Step #700.00 (0ms ?*RT. ?UPS, vehicles TOT 500 ACT 37 BUF 0)                              \r",
      "Step #743.00 (0ms ?*RT. ?UPS, vehicles TOT 500 ACT 0 BUF 0)                               \r\n"
     ]
    },
    {
     "name": "stderr",
     "output_type": "stream",
     "text": [
      "Warning: Environment variable SUMO_HOME is not set properly, disabling XML validation. Set 'auto' or 'always' for web lookups.\n",
      "  8%|███▎                                      | 39/500 [00:24<04:20,  1.77it/s]"
     ]
    },
    {
     "name": "stdout",
     "output_type": "stream",
     "text": [
      "Step #0.00 (0ms ?*RT. ?UPS, vehicles TOT 1 ACT 1 BUF 0)                                   \r",
      "Step #100.00 (1ms ~= 1000.00*RT, ~104000.00UPS, vehicles TOT 163 ACT 104 BUF 337)         \r",
      "Step #200.00 (1ms ~= 1000.00*RT, ~141000.00UPS, vehicles TOT 265 ACT 141 BUF 235)         \r",
      "Step #300.00 (0ms ?*RT. ?UPS, vehicles TOT 356 ACT 165 BUF 144)                           \r",
      "Step #400.00 (1ms ~= 1000.00*RT, ~182000.00UPS, vehicles TOT 442 ACT 182 BUF 58)          \r",
      "Step #500.00 (0ms ?*RT. ?UPS, vehicles TOT 473 ACT 146 BUF 27)                            \r",
      "Step #600.00 (1ms ~= 1000.00*RT, ~106000.00UPS, vehicles TOT 500 ACT 106 BUF 0)           \r",
      "Step #700.00 (0ms ?*RT. ?UPS, vehicles TOT 500 ACT 30 BUF 0)                              \r",
      "Step #736.00 (0ms ?*RT. ?UPS, vehicles TOT 500 ACT 0 BUF 0)                               \r\n"
     ]
    },
    {
     "name": "stderr",
     "output_type": "stream",
     "text": [
      "Warning: Environment variable SUMO_HOME is not set properly, disabling XML validation. Set 'auto' or 'always' for web lookups.\n",
      "  8%|███▎                                      | 40/500 [00:24<04:15,  1.80it/s]"
     ]
    },
    {
     "name": "stdout",
     "output_type": "stream",
     "text": [
      "Step #0.00 (0ms ?*RT. ?UPS, vehicles TOT 1 ACT 1 BUF 0)                                   \r",
      "Step #100.00 (1ms ~= 1000.00*RT, ~103000.00UPS, vehicles TOT 159 ACT 103 BUF 341)         \r",
      "Step #200.00 (1ms ~= 1000.00*RT, ~154000.00UPS, vehicles TOT 276 ACT 154 BUF 224)         \r",
      "Step #300.00 (0ms ?*RT. ?UPS, vehicles TOT 335 ACT 146 BUF 165)                           \r",
      "Step #400.00 (1ms ~= 1000.00*RT, ~133000.00UPS, vehicles TOT 387 ACT 133 BUF 113)         \r",
      "Step #500.00 (1ms ~= 1000.00*RT, ~155000.00UPS, vehicles TOT 474 ACT 155 BUF 26)          \r",
      "Step #600.00 (0ms ?*RT. ?UPS, vehicles TOT 500 ACT 117 BUF 0)                             \r",
      "Step #700.00 (1ms ~= 1000.00*RT, ~41000.00UPS, vehicles TOT 500 ACT 41 BUF 0)             \r",
      "Step #749.00 (0ms ?*RT. ?UPS, vehicles TOT 500 ACT 0 BUF 0)                               \r\n"
     ]
    },
    {
     "name": "stderr",
     "output_type": "stream",
     "text": [
      "Warning: Environment variable SUMO_HOME is not set properly, disabling XML validation. Set 'auto' or 'always' for web lookups.\n",
      "  8%|███▍                                      | 41/500 [00:25<04:13,  1.81it/s]"
     ]
    },
    {
     "name": "stdout",
     "output_type": "stream",
     "text": [
      "Step #0.00 (0ms ?*RT. ?UPS, vehicles TOT 1 ACT 1 BUF 0)                                   \r",
      "Step #100.00 (1ms ~= 1000.00*RT, ~106000.00UPS, vehicles TOT 161 ACT 106 BUF 339)         \r",
      "Step #200.00 (1ms ~= 1000.00*RT, ~134000.00UPS, vehicles TOT 260 ACT 134 BUF 240)         \r",
      "Step #300.00 (0ms ?*RT. ?UPS, vehicles TOT 332 ACT 141 BUF 168)                           \r",
      "Step #400.00 (1ms ~= 1000.00*RT, ~156000.00UPS, vehicles TOT 418 ACT 156 BUF 82)          \r",
      "Step #500.00 (0ms ?*RT. ?UPS, vehicles TOT 482 ACT 150 BUF 18)                            \r",
      "Step #600.00 (1ms ~= 1000.00*RT, ~103000.00UPS, vehicles TOT 500 ACT 103 BUF 0)           \r",
      "Step #700.00 (0ms ?*RT. ?UPS, vehicles TOT 500 ACT 31 BUF 0)                              \r",
      "Step #737.00 (0ms ?*RT. ?UPS, vehicles TOT 500 ACT 0 BUF 0)                               \r\n"
     ]
    },
    {
     "name": "stderr",
     "output_type": "stream",
     "text": [
      "Warning: Environment variable SUMO_HOME is not set properly, disabling XML validation. Set 'auto' or 'always' for web lookups.\n",
      "  8%|███▌                                      | 42/500 [00:25<04:12,  1.82it/s]"
     ]
    },
    {
     "name": "stdout",
     "output_type": "stream",
     "text": [
      "Step #0.00 (0ms ?*RT. ?UPS, vehicles TOT 1 ACT 1 BUF 0)                                   \r",
      "Step #100.00 (1ms ~= 1000.00*RT, ~103000.00UPS, vehicles TOT 159 ACT 103 BUF 341)         \r",
      "Step #200.00 (1ms ~= 1000.00*RT, ~161000.00UPS, vehicles TOT 275 ACT 161 BUF 225)         \r",
      "Step #300.00 (0ms ?*RT. ?UPS, vehicles TOT 323 ACT 137 BUF 177)                           \r",
      "Step #400.00 (0ms ?*RT. ?UPS, vehicles TOT 433 ACT 177 BUF 67)                            \r",
      "Step #500.00 (1ms ~= 1000.00*RT, ~146000.00UPS, vehicles TOT 468 ACT 146 BUF 32)          \r",
      "Step #600.00 (0ms ?*RT. ?UPS, vehicles TOT 500 ACT 117 BUF 0)                             \r",
      "Step #700.00 (0ms ?*RT. ?UPS, vehicles TOT 500 ACT 42 BUF 0)                              \r",
      "Step #750.00 (0ms ?*RT. ?UPS, vehicles TOT 500 ACT 0 BUF 0)                               \r\n"
     ]
    },
    {
     "name": "stderr",
     "output_type": "stream",
     "text": [
      "Warning: Environment variable SUMO_HOME is not set properly, disabling XML validation. Set 'auto' or 'always' for web lookups.\n",
      "  9%|███▌                                      | 43/500 [00:26<04:12,  1.81it/s]"
     ]
    },
    {
     "name": "stdout",
     "output_type": "stream",
     "text": [
      "Step #0.00 (0ms ?*RT. ?UPS, vehicles TOT 1 ACT 1 BUF 0)                                   \r",
      "Step #100.00 (1ms ~= 1000.00*RT, ~99000.00UPS, vehicles TOT 155 ACT 99 BUF 345)           \r",
      "Step #200.00 (1ms ~= 1000.00*RT, ~151000.00UPS, vehicles TOT 269 ACT 151 BUF 231)         \r",
      "Step #300.00 (1ms ~= 1000.00*RT, ~180000.00UPS, vehicles TOT 368 ACT 180 BUF 132)         \r",
      "Step #400.00 (0ms ?*RT. ?UPS, vehicles TOT 391 ACT 139 BUF 109)                           \r",
      "Step #500.00 (0ms ?*RT. ?UPS, vehicles TOT 477 ACT 151 BUF 23)                            \r",
      "Step #600.00 (0ms ?*RT. ?UPS, vehicles TOT 500 ACT 113 BUF 0)                             \r",
      "Step #700.00 (0ms ?*RT. ?UPS, vehicles TOT 500 ACT 46 BUF 0)                              \r",
      "Step #754.00 (0ms ?*RT. ?UPS, vehicles TOT 500 ACT 0 BUF 0)                               \r\n"
     ]
    },
    {
     "name": "stderr",
     "output_type": "stream",
     "text": [
      "Warning: Environment variable SUMO_HOME is not set properly, disabling XML validation. Set 'auto' or 'always' for web lookups.\n",
      "  9%|███▋                                      | 44/500 [00:27<04:31,  1.68it/s]"
     ]
    },
    {
     "name": "stdout",
     "output_type": "stream",
     "text": [
      "Step #0.00 (1ms ~= 1000.00*RT, ~1000.00UPS, vehicles TOT 1 ACT 1 BUF 0)                   \r",
      "Step #100.00 (1ms ~= 1000.00*RT, ~110000.00UPS, vehicles TOT 165 ACT 110 BUF 335)         \r",
      "Step #200.00 (0ms ?*RT. ?UPS, vehicles TOT 252 ACT 129 BUF 248)                           \r",
      "Step #300.00 (1ms ~= 1000.00*RT, ~169000.00UPS, vehicles TOT 359 ACT 169 BUF 141)         \r",
      "Step #400.00 (1ms ~= 1000.00*RT, ~157000.00UPS, vehicles TOT 416 ACT 157 BUF 84)          \r",
      "Step #500.00 (1ms ~= 1000.00*RT, ~168000.00UPS, vehicles TOT 491 ACT 168 BUF 9)           \r",
      "Step #600.00 (1ms ~= 1000.00*RT, ~112000.00UPS, vehicles TOT 500 ACT 112 BUF 0)           \r",
      "Step #700.00 (1ms ~= 1000.00*RT, ~43000.00UPS, vehicles TOT 500 ACT 43 BUF 0)             \r",
      "Step #750.00 (0ms ?*RT. ?UPS, vehicles TOT 500 ACT 0 BUF 0)                               \r\n"
     ]
    },
    {
     "name": "stderr",
     "output_type": "stream",
     "text": [
      "Warning: Environment variable SUMO_HOME is not set properly, disabling XML validation. Set 'auto' or 'always' for web lookups.\n",
      "  9%|███▊                                      | 45/500 [00:28<05:20,  1.42it/s]"
     ]
    },
    {
     "name": "stdout",
     "output_type": "stream",
     "text": [
      "Step #0.00 (1ms ~= 1000.00*RT, ~1000.00UPS, vehicles TOT 1 ACT 1 BUF 0)                   \r",
      "Step #100.00 (2ms ~= 500.00*RT, ~48500.00UPS, vehicles TOT 152 ACT 97 BUF 348)            \r",
      "Step #200.00 (2ms ~= 500.00*RT, ~76500.00UPS, vehicles TOT 269 ACT 153 BUF 231)           \r",
      "Step #300.00 (2ms ~= 500.00*RT, ~78000.00UPS, vehicles TOT 338 ACT 156 BUF 162)           \r",
      "Step #400.00 (1ms ~= 1000.00*RT, ~140000.00UPS, vehicles TOT 388 ACT 140 BUF 112)         \r",
      "Step #500.00 (1ms ~= 1000.00*RT, ~145000.00UPS, vehicles TOT 457 ACT 145 BUF 43)          \r",
      "Step #600.00 (1ms ~= 1000.00*RT, ~120000.00UPS, vehicles TOT 500 ACT 120 BUF 0)           \r",
      "Step #700.00 (0ms ?*RT. ?UPS, vehicles TOT 500 ACT 51 BUF 0)                              \r",
      "Step #760.00 (0ms ?*RT. ?UPS, vehicles TOT 500 ACT 0 BUF 0)                               \r\n"
     ]
    },
    {
     "name": "stderr",
     "output_type": "stream",
     "text": [
      "Warning: Environment variable SUMO_HOME is not set properly, disabling XML validation. Set 'auto' or 'always' for web lookups.\n",
      "  9%|███▊                                      | 46/500 [00:29<05:59,  1.26it/s]"
     ]
    },
    {
     "name": "stdout",
     "output_type": "stream",
     "text": [
      "Step #0.00 (0ms ?*RT. ?UPS, vehicles TOT 1 ACT 1 BUF 0)                                   \r",
      "Step #100.00 (1ms ~= 1000.00*RT, ~106000.00UPS, vehicles TOT 161 ACT 106 BUF 339)         \r",
      "Step #200.00 (2ms ~= 500.00*RT, ~71500.00UPS, vehicles TOT 260 ACT 143 BUF 240)           \r",
      "Step #300.00 (1ms ~= 1000.00*RT, ~140000.00UPS, vehicles TOT 322 ACT 140 BUF 178)         \r",
      "Step #400.00 (2ms ~= 500.00*RT, ~82000.00UPS, vehicles TOT 412 ACT 164 BUF 88)            \r",
      "Step #500.00 (1ms ~= 1000.00*RT, ~151000.00UPS, vehicles TOT 462 ACT 151 BUF 38)          \r",
      "Step #600.00 (2ms ~= 500.00*RT, ~61500.00UPS, vehicles TOT 500 ACT 123 BUF 0)             \r",
      "Step #700.00 (1ms ~= 1000.00*RT, ~49000.00UPS, vehicles TOT 500 ACT 49 BUF 0)             \r",
      "Step #758.00 (0ms ?*RT. ?UPS, vehicles TOT 500 ACT 0 BUF 0)                               \r\n"
     ]
    },
    {
     "name": "stderr",
     "output_type": "stream",
     "text": [
      "Warning: Environment variable SUMO_HOME is not set properly, disabling XML validation. Set 'auto' or 'always' for web lookups.\n",
      "  9%|███▉                                      | 47/500 [00:30<06:22,  1.19it/s]"
     ]
    },
    {
     "name": "stdout",
     "output_type": "stream",
     "text": [
      "Step #0.00 (0ms ?*RT. ?UPS, vehicles TOT 1 ACT 1 BUF 0)                                   \r",
      "Step #100.00 (2ms ~= 500.00*RT, ~51000.00UPS, vehicles TOT 157 ACT 102 BUF 343)           \r",
      "Step #200.00 (1ms ~= 1000.00*RT, ~157000.00UPS, vehicles TOT 274 ACT 157 BUF 226)         \r",
      "Step #300.00 (1ms ~= 1000.00*RT, ~136000.00UPS, vehicles TOT 317 ACT 136 BUF 183)         \r",
      "Step #400.00 (2ms ~= 500.00*RT, ~76500.00UPS, vehicles TOT 405 ACT 153 BUF 95)            \r",
      "Step #500.00 (2ms ~= 500.00*RT, ~71000.00UPS, vehicles TOT 457 ACT 142 BUF 43)            \r",
      "Step #600.00 (1ms ~= 1000.00*RT, ~119000.00UPS, vehicles TOT 500 ACT 119 BUF 0)           \r",
      "Step #700.00 (0ms ?*RT. ?UPS, vehicles TOT 500 ACT 52 BUF 0)                              \r",
      "Step #761.00 (0ms ?*RT. ?UPS, vehicles TOT 500 ACT 0 BUF 0)                               \r\n"
     ]
    },
    {
     "name": "stderr",
     "output_type": "stream",
     "text": [
      "Warning: Environment variable SUMO_HOME is not set properly, disabling XML validation. Set 'auto' or 'always' for web lookups.\n",
      " 10%|████                                      | 48/500 [00:31<06:33,  1.15it/s]"
     ]
    },
    {
     "name": "stdout",
     "output_type": "stream",
     "text": [
      "Step #0.00 (0ms ?*RT. ?UPS, vehicles TOT 1 ACT 1 BUF 0)                                   \r",
      "Step #100.00 (1ms ~= 1000.00*RT, ~101000.00UPS, vehicles TOT 157 ACT 101 BUF 343)         \r",
      "Step #200.00 (1ms ~= 1000.00*RT, ~135000.00UPS, vehicles TOT 257 ACT 135 BUF 243)         \r",
      "Step #300.00 (2ms ~= 500.00*RT, ~67000.00UPS, vehicles TOT 321 ACT 134 BUF 179)           \r",
      "Step #400.00 (1ms ~= 1000.00*RT, ~152000.00UPS, vehicles TOT 411 ACT 152 BUF 89)          \r",
      "Step #500.00 (1ms ~= 1000.00*RT, ~142000.00UPS, vehicles TOT 466 ACT 142 BUF 34)          \r",
      "Step #600.00 (1ms ~= 1000.00*RT, ~109000.00UPS, vehicles TOT 500 ACT 109 BUF 0)           \r",
      "Step #700.00 (1ms ~= 1000.00*RT, ~41000.00UPS, vehicles TOT 500 ACT 41 BUF 0)             \r",
      "Step #748.00 (1ms ~= 1000.00*RT, ~0.00UPS, vehicles TOT 500 ACT 0 BUF 0)                  \r\n"
     ]
    },
    {
     "name": "stderr",
     "output_type": "stream",
     "text": [
      "Warning: Environment variable SUMO_HOME is not set properly, disabling XML validation. Set 'auto' or 'always' for web lookups.\n",
      " 10%|████                                      | 49/500 [00:31<06:45,  1.11it/s]"
     ]
    },
    {
     "name": "stdout",
     "output_type": "stream",
     "text": [
      "Step #0.00 (1ms ~= 1000.00*RT, ~1000.00UPS, vehicles TOT 1 ACT 1 BUF 0)                   \r",
      "Step #100.00 (2ms ~= 500.00*RT, ~51500.00UPS, vehicles TOT 160 ACT 103 BUF 340)           \r",
      "Step #200.00 (1ms ~= 1000.00*RT, ~151000.00UPS, vehicles TOT 270 ACT 151 BUF 230)         \r",
      "Step #300.00 (2ms ~= 500.00*RT, ~74000.00UPS, vehicles TOT 335 ACT 148 BUF 165)           \r",
      "Step #400.00 (1ms ~= 1000.00*RT, ~151000.00UPS, vehicles TOT 408 ACT 151 BUF 92)          \r",
      "Step #500.00 (2ms ~= 500.00*RT, ~71500.00UPS, vehicles TOT 466 ACT 143 BUF 34)            \r",
      "Step #600.00 (1ms ~= 1000.00*RT, ~113000.00UPS, vehicles TOT 500 ACT 113 BUF 0)           \r",
      "Step #700.00 (1ms ~= 1000.00*RT, ~46000.00UPS, vehicles TOT 500 ACT 46 BUF 0)             \r",
      "Step #754.00 (0ms ?*RT. ?UPS, vehicles TOT 500 ACT 0 BUF 0)                               \r\n"
     ]
    },
    {
     "name": "stderr",
     "output_type": "stream",
     "text": [
      "Warning: Environment variable SUMO_HOME is not set properly, disabling XML validation. Set 'auto' or 'always' for web lookups.\n",
      " 10%|████▏                                     | 50/500 [00:32<06:47,  1.11it/s]"
     ]
    },
    {
     "name": "stdout",
     "output_type": "stream",
     "text": [
      "Step #0.00 (1ms ~= 1000.00*RT, ~1000.00UPS, vehicles TOT 1 ACT 1 BUF 0)                   \r",
      "Step #100.00 (1ms ~= 1000.00*RT, ~106000.00UPS, vehicles TOT 163 ACT 106 BUF 337)         \r",
      "Step #200.00 (2ms ~= 500.00*RT, ~74500.00UPS, vehicles TOT 272 ACT 149 BUF 228)           \r",
      "Step #300.00 (1ms ~= 1000.00*RT, ~122000.00UPS, vehicles TOT 317 ACT 122 BUF 183)         \r",
      "Step #400.00 (1ms ~= 1000.00*RT, ~130000.00UPS, vehicles TOT 390 ACT 130 BUF 110)         \r",
      "Step #500.00 (2ms ~= 500.00*RT, ~70500.00UPS, vehicles TOT 471 ACT 141 BUF 29)            \r",
      "Step #600.00 (1ms ~= 1000.00*RT, ~102000.00UPS, vehicles TOT 500 ACT 102 BUF 0)           \r",
      "Step #700.00 (0ms ?*RT. ?UPS, vehicles TOT 500 ACT 32 BUF 0)                              \r",
      "Step #738.00 (0ms ?*RT. ?UPS, vehicles TOT 500 ACT 0 BUF 0)                               \r\n"
     ]
    },
    {
     "name": "stderr",
     "output_type": "stream",
     "text": [
      "Warning: Environment variable SUMO_HOME is not set properly, disabling XML validation. Set 'auto' or 'always' for web lookups.\n",
      " 10%|████▎                                     | 51/500 [00:33<06:57,  1.08it/s]"
     ]
    },
    {
     "name": "stdout",
     "output_type": "stream",
     "text": [
      "Step #0.00 (0ms ?*RT. ?UPS, vehicles TOT 1 ACT 1 BUF 0)                                   \r",
      "Step #100.00 (2ms ~= 500.00*RT, ~51500.00UPS, vehicles TOT 159 ACT 103 BUF 341)           \r",
      "Step #200.00 (1ms ~= 1000.00*RT, ~155000.00UPS, vehicles TOT 272 ACT 155 BUF 228)         \r",
      "Step #300.00 (2ms ~= 500.00*RT, ~62500.00UPS, vehicles TOT 309 ACT 125 BUF 191)           \r",
      "Step #400.00 (2ms ~= 500.00*RT, ~80000.00UPS, vehicles TOT 410 ACT 160 BUF 90)            \r",
      "Step #500.00 (1ms ~= 1000.00*RT, ~131000.00UPS, vehicles TOT 447 ACT 131 BUF 53)          \r",
      "Step #600.00 (1ms ~= 1000.00*RT, ~121000.00UPS, vehicles TOT 500 ACT 121 BUF 0)           \r",
      "Step #700.00 (0ms ?*RT. ?UPS, vehicles TOT 500 ACT 47 BUF 0)                              \r",
      "Step #755.00 (0ms ?*RT. ?UPS, vehicles TOT 500 ACT 0 BUF 0)                               \r\n"
     ]
    },
    {
     "name": "stderr",
     "output_type": "stream",
     "text": [
      "Warning: Environment variable SUMO_HOME is not set properly, disabling XML validation. Set 'auto' or 'always' for web lookups.\n",
      " 10%|████▎                                     | 52/500 [00:34<07:00,  1.07it/s]"
     ]
    },
    {
     "name": "stdout",
     "output_type": "stream",
     "text": [
      "Step #0.00 (0ms ?*RT. ?UPS, vehicles TOT 1 ACT 1 BUF 0)                                   \r",
      "Step #100.00 (2ms ~= 500.00*RT, ~53000.00UPS, vehicles TOT 160 ACT 106 BUF 340)           \r",
      "Step #200.00 (1ms ~= 1000.00*RT, ~152000.00UPS, vehicles TOT 271 ACT 152 BUF 229)         \r",
      "Step #300.00 (1ms ~= 1000.00*RT, ~140000.00UPS, vehicles TOT 324 ACT 140 BUF 176)         \r",
      "Step #400.00 (1ms ~= 1000.00*RT, ~146000.00UPS, vehicles TOT 399 ACT 146 BUF 101)         \r",
      "Step #500.00 (1ms ~= 1000.00*RT, ~132000.00UPS, vehicles TOT 450 ACT 132 BUF 50)          \r",
      "Step #600.00 (1ms ~= 1000.00*RT, ~117000.00UPS, vehicles TOT 500 ACT 117 BUF 0)           \r",
      "Step #700.00 (0ms ?*RT. ?UPS, vehicles TOT 500 ACT 49 BUF 0)                              \r",
      "Step #758.00 (0ms ?*RT. ?UPS, vehicles TOT 500 ACT 0 BUF 0)                               \r\n"
     ]
    },
    {
     "name": "stderr",
     "output_type": "stream",
     "text": [
      "Warning: Environment variable SUMO_HOME is not set properly, disabling XML validation. Set 'auto' or 'always' for web lookups.\n",
      " 11%|████▍                                     | 53/500 [00:35<06:15,  1.19it/s]"
     ]
    },
    {
     "name": "stdout",
     "output_type": "stream",
     "text": [
      "Step #0.00 (1ms ~= 1000.00*RT, ~1000.00UPS, vehicles TOT 1 ACT 1 BUF 0)                   \r",
      "Step #100.00 (1ms ~= 1000.00*RT, ~104000.00UPS, vehicles TOT 159 ACT 104 BUF 341)         \r",
      "Step #200.00 (1ms ~= 1000.00*RT, ~154000.00UPS, vehicles TOT 275 ACT 154 BUF 225)         \r",
      "Step #300.00 (1ms ~= 1000.00*RT, ~134000.00UPS, vehicles TOT 322 ACT 134 BUF 178)         \r",
      "Step #400.00 (0ms ?*RT. ?UPS, vehicles TOT 398 ACT 141 BUF 102)                           \r",
      "Step #500.00 (1ms ~= 1000.00*RT, ~150000.00UPS, vehicles TOT 470 ACT 150 BUF 30)          \r",
      "Step #600.00 (1ms ~= 1000.00*RT, ~120000.00UPS, vehicles TOT 500 ACT 120 BUF 0)           \r",
      "Step #700.00 (0ms ?*RT. ?UPS, vehicles TOT 500 ACT 49 BUF 0)                              \r",
      "Step #757.00 (0ms ?*RT. ?UPS, vehicles TOT 500 ACT 0 BUF 0)                               \r\n"
     ]
    },
    {
     "name": "stderr",
     "output_type": "stream",
     "text": [
      "Warning: Environment variable SUMO_HOME is not set properly, disabling XML validation. Set 'auto' or 'always' for web lookups.\n",
      " 11%|████▌                                     | 54/500 [00:36<05:47,  1.28it/s]"
     ]
    },
    {
     "name": "stdout",
     "output_type": "stream",
     "text": [
      "Step #0.00 (0ms ?*RT. ?UPS, vehicles TOT 1 ACT 1 BUF 0)                                   \r",
      "Step #100.00 (1ms ~= 1000.00*RT, ~104000.00UPS, vehicles TOT 158 ACT 104 BUF 342)         \r",
      "Step #200.00 (1ms ~= 1000.00*RT, ~148000.00UPS, vehicles TOT 269 ACT 148 BUF 231)         \r",
      "Step #300.00 (1ms ~= 1000.00*RT, ~152000.00UPS, vehicles TOT 337 ACT 152 BUF 163)         \r",
      "Step #400.00 (1ms ~= 1000.00*RT, ~154000.00UPS, vehicles TOT 401 ACT 154 BUF 99)          \r",
      "Step #500.00 (1ms ~= 1000.00*RT, ~133000.00UPS, vehicles TOT 448 ACT 133 BUF 52)          \r",
      "Step #600.00 (0ms ?*RT. ?UPS, vehicles TOT 500 ACT 117 BUF 0)                             \r",
      "Step #700.00 (0ms ?*RT. ?UPS, vehicles TOT 500 ACT 55 BUF 0)                              \r",
      "Step #769.00 (0ms ?*RT. ?UPS, vehicles TOT 500 ACT 0 BUF 0)                               \r\n"
     ]
    },
    {
     "name": "stderr",
     "output_type": "stream",
     "text": [
      "Warning: Environment variable SUMO_HOME is not set properly, disabling XML validation. Set 'auto' or 'always' for web lookups.\n",
      " 11%|████▌                                     | 55/500 [00:36<05:23,  1.38it/s]"
     ]
    },
    {
     "name": "stdout",
     "output_type": "stream",
     "text": [
      "Step #0.00 (0ms ?*RT. ?UPS, vehicles TOT 1 ACT 1 BUF 0)                                   \r",
      "Step #100.00 (1ms ~= 1000.00*RT, ~97000.00UPS, vehicles TOT 153 ACT 97 BUF 347)           \r",
      "Step #200.00 (1ms ~= 1000.00*RT, ~143000.00UPS, vehicles TOT 262 ACT 143 BUF 238)         \r",
      "Step #300.00 (1ms ~= 1000.00*RT, ~141000.00UPS, vehicles TOT 327 ACT 141 BUF 173)         \r",
      "Step #400.00 (1ms ~= 1000.00*RT, ~143000.00UPS, vehicles TOT 393 ACT 143 BUF 107)         \r",
      "Step #500.00 (1ms ~= 1000.00*RT, ~134000.00UPS, vehicles TOT 452 ACT 134 BUF 48)          \r",
      "Step #600.00 (1ms ~= 1000.00*RT, ~120000.00UPS, vehicles TOT 500 ACT 120 BUF 0)           \r",
      "Step #700.00 (0ms ?*RT. ?UPS, vehicles TOT 500 ACT 51 BUF 0)                              \r",
      "Step #760.00 (0ms ?*RT. ?UPS, vehicles TOT 500 ACT 0 BUF 0)                               \r\n"
     ]
    },
    {
     "name": "stderr",
     "output_type": "stream",
     "text": [
      "Warning: Environment variable SUMO_HOME is not set properly, disabling XML validation. Set 'auto' or 'always' for web lookups.\n",
      " 11%|████▋                                     | 56/500 [00:37<05:02,  1.47it/s]"
     ]
    },
    {
     "name": "stdout",
     "output_type": "stream",
     "text": [
      "Step #0.00 (0ms ?*RT. ?UPS, vehicles TOT 1 ACT 1 BUF 0)                                   \r",
      "Step #100.00 (1ms ~= 1000.00*RT, ~99000.00UPS, vehicles TOT 153 ACT 99 BUF 347)           \r",
      "Step #200.00 (1ms ~= 1000.00*RT, ~145000.00UPS, vehicles TOT 264 ACT 145 BUF 236)         \r",
      "Step #300.00 (1ms ~= 1000.00*RT, ~148000.00UPS, vehicles TOT 338 ACT 148 BUF 162)         \r",
      "Step #400.00 (1ms ~= 1000.00*RT, ~130000.00UPS, vehicles TOT 385 ACT 130 BUF 115)         \r",
      "Step #500.00 (1ms ~= 1000.00*RT, ~168000.00UPS, vehicles TOT 489 ACT 168 BUF 11)          \r",
      "Step #600.00 (0ms ?*RT. ?UPS, vehicles TOT 500 ACT 117 BUF 0)                             \r",
      "Step #700.00 (0ms ?*RT. ?UPS, vehicles TOT 500 ACT 52 BUF 0)                              \r",
      "Step #761.00 (0ms ?*RT. ?UPS, vehicles TOT 500 ACT 0 BUF 0)                               \r\n"
     ]
    },
    {
     "name": "stderr",
     "output_type": "stream",
     "text": [
      "Warning: Environment variable SUMO_HOME is not set properly, disabling XML validation. Set 'auto' or 'always' for web lookups.\n",
      " 11%|████▊                                     | 57/500 [00:37<04:47,  1.54it/s]"
     ]
    },
    {
     "name": "stdout",
     "output_type": "stream",
     "text": [
      "Step #0.00 (1ms ~= 1000.00*RT, ~1000.00UPS, vehicles TOT 1 ACT 1 BUF 0)                   \r",
      "Step #100.00 (1ms ~= 1000.00*RT, ~95000.00UPS, vehicles TOT 150 ACT 95 BUF 350)           \r",
      "Step #200.00 (1ms ~= 1000.00*RT, ~139000.00UPS, vehicles TOT 261 ACT 139 BUF 239)         \r",
      "Step #300.00 (0ms ?*RT. ?UPS, vehicles TOT 329 ACT 139 BUF 171)                           \r",
      "Step #400.00 (1ms ~= 1000.00*RT, ~125000.00UPS, vehicles TOT 388 ACT 125 BUF 112)         \r",
      "Step #500.00 (1ms ~= 1000.00*RT, ~137000.00UPS, vehicles TOT 463 ACT 137 BUF 37)          \r",
      "Step #600.00 (1ms ~= 1000.00*RT, ~113000.00UPS, vehicles TOT 500 ACT 113 BUF 0)           \r",
      "Step #700.00 (0ms ?*RT. ?UPS, vehicles TOT 500 ACT 40 BUF 0)                              \r",
      "Step #747.00 (0ms ?*RT. ?UPS, vehicles TOT 500 ACT 0 BUF 0)                               \r\n"
     ]
    },
    {
     "name": "stderr",
     "output_type": "stream",
     "text": [
      "Warning: Environment variable SUMO_HOME is not set properly, disabling XML validation. Set 'auto' or 'always' for web lookups.\n",
      " 12%|████▊                                     | 58/500 [00:38<04:35,  1.61it/s]"
     ]
    },
    {
     "name": "stdout",
     "output_type": "stream",
     "text": [
      "Step #0.00 (0ms ?*RT. ?UPS, vehicles TOT 1 ACT 1 BUF 0)                                   \r",
      "Step #100.00 (1ms ~= 1000.00*RT, ~98000.00UPS, vehicles TOT 153 ACT 98 BUF 347)           \r",
      "Step #200.00 (0ms ?*RT. ?UPS, vehicles TOT 228 ACT 107 BUF 272)                           \r",
      "Step #300.00 (0ms ?*RT. ?UPS, vehicles TOT 322 ACT 138 BUF 178)                           \r",
      "Step #400.00 (1ms ~= 1000.00*RT, ~126000.00UPS, vehicles TOT 377 ACT 126 BUF 123)         \r",
      "Step #500.00 (1ms ~= 1000.00*RT, ~148000.00UPS, vehicles TOT 467 ACT 148 BUF 33)          \r",
      "Step #600.00 (1ms ~= 1000.00*RT, ~118000.00UPS, vehicles TOT 500 ACT 118 BUF 0)           \r",
      "Step #700.00 (1ms ~= 1000.00*RT, ~52000.00UPS, vehicles TOT 500 ACT 52 BUF 0)             \r",
      "Step #761.00 (0ms ?*RT. ?UPS, vehicles TOT 500 ACT 0 BUF 0)                               \r\n"
     ]
    },
    {
     "name": "stderr",
     "output_type": "stream",
     "text": [
      "Warning: Environment variable SUMO_HOME is not set properly, disabling XML validation. Set 'auto' or 'always' for web lookups.\n",
      " 12%|████▉                                     | 59/500 [00:38<04:29,  1.64it/s]"
     ]
    },
    {
     "name": "stdout",
     "output_type": "stream",
     "text": [
      "Step #0.00 (0ms ?*RT. ?UPS, vehicles TOT 1 ACT 1 BUF 0)                                   \r",
      "Step #100.00 (1ms ~= 1000.00*RT, ~95000.00UPS, vehicles TOT 151 ACT 95 BUF 349)           \r",
      "Step #200.00 (0ms ?*RT. ?UPS, vehicles TOT 266 ACT 146 BUF 234)                           \r",
      "Step #300.00 (1ms ~= 1000.00*RT, ~148000.00UPS, vehicles TOT 329 ACT 148 BUF 171)         \r",
      "Step #400.00 (0ms ?*RT. ?UPS, vehicles TOT 371 ACT 129 BUF 129)                           \r",
      "Step #500.00 (0ms ?*RT. ?UPS, vehicles TOT 440 ACT 132 BUF 60)                            \r",
      "Step #600.00 (1ms ~= 1000.00*RT, ~126000.00UPS, vehicles TOT 500 ACT 126 BUF 0)           \r",
      "Step #700.00 (0ms ?*RT. ?UPS, vehicles TOT 500 ACT 64 BUF 0)                              \r",
      "Step #777.00 (1ms ~= 1000.00*RT, ~0.00UPS, vehicles TOT 500 ACT 0 BUF 0)                  \r\n"
     ]
    },
    {
     "name": "stderr",
     "output_type": "stream",
     "text": [
      "Warning: Environment variable SUMO_HOME is not set properly, disabling XML validation. Set 'auto' or 'always' for web lookups.\n",
      " 12%|█████                                     | 60/500 [00:39<04:24,  1.67it/s]"
     ]
    },
    {
     "name": "stdout",
     "output_type": "stream",
     "text": [
      "Step #0.00 (0ms ?*RT. ?UPS, vehicles TOT 1 ACT 1 BUF 0)                                   \r",
      "Step #100.00 (1ms ~= 1000.00*RT, ~99000.00UPS, vehicles TOT 152 ACT 99 BUF 348)           \r",
      "Step #200.00 (1ms ~= 1000.00*RT, ~153000.00UPS, vehicles TOT 267 ACT 153 BUF 233)         \r",
      "Step #300.00 (1ms ~= 1000.00*RT, ~135000.00UPS, vehicles TOT 312 ACT 135 BUF 188)         \r",
      "Step #400.00 (0ms ?*RT. ?UPS, vehicles TOT 376 ACT 134 BUF 124)                           \r",
      "Step #500.00 (1ms ~= 1000.00*RT, ~134000.00UPS, vehicles TOT 445 ACT 134 BUF 55)          \r",
      "Step #600.00 (0ms ?*RT. ?UPS, vehicles TOT 500 ACT 127 BUF 0)                             \r",
      "Step #700.00 (1ms ~= 1000.00*RT, ~64000.00UPS, vehicles TOT 500 ACT 64 BUF 0)             \r",
      "Step #780.00 (0ms ?*RT. ?UPS, vehicles TOT 500 ACT 0 BUF 0)                               \r\n"
     ]
    },
    {
     "name": "stderr",
     "output_type": "stream",
     "text": [
      "Warning: Environment variable SUMO_HOME is not set properly, disabling XML validation. Set 'auto' or 'always' for web lookups.\n",
      " 12%|█████                                     | 61/500 [00:40<04:18,  1.70it/s]"
     ]
    },
    {
     "name": "stdout",
     "output_type": "stream",
     "text": [
      "Step #0.00 (0ms ?*RT. ?UPS, vehicles TOT 1 ACT 1 BUF 0)                                   \r",
      "Step #100.00 (1ms ~= 1000.00*RT, ~103000.00UPS, vehicles TOT 157 ACT 103 BUF 343)         \r",
      "Step #200.00 (1ms ~= 1000.00*RT, ~151000.00UPS, vehicles TOT 269 ACT 151 BUF 231)         \r",
      "Step #300.00 (0ms ?*RT. ?UPS, vehicles TOT 327 ACT 144 BUF 173)                           \r",
      "Step #400.00 (0ms ?*RT. ?UPS, vehicles TOT 392 ACT 143 BUF 108)                           \r",
      "Step #500.00 (1ms ~= 1000.00*RT, ~142000.00UPS, vehicles TOT 454 ACT 142 BUF 46)          \r",
      "Step #600.00 (0ms ?*RT. ?UPS, vehicles TOT 500 ACT 122 BUF 0)                             \r",
      "Step #700.00 (0ms ?*RT. ?UPS, vehicles TOT 500 ACT 59 BUF 0)                              \r",
      "Step #769.00 (0ms ?*RT. ?UPS, vehicles TOT 500 ACT 0 BUF 0)                               \r\n"
     ]
    },
    {
     "name": "stderr",
     "output_type": "stream",
     "text": [
      "Warning: Environment variable SUMO_HOME is not set properly, disabling XML validation. Set 'auto' or 'always' for web lookups.\n",
      " 12%|█████▏                                    | 62/500 [00:40<04:14,  1.72it/s]"
     ]
    },
    {
     "name": "stdout",
     "output_type": "stream",
     "text": [
      "Step #0.00 (0ms ?*RT. ?UPS, vehicles TOT 1 ACT 1 BUF 0)                                   \r",
      "Step #100.00 (1ms ~= 1000.00*RT, ~102000.00UPS, vehicles TOT 156 ACT 102 BUF 344)         \r",
      "Step #200.00 (0ms ?*RT. ?UPS, vehicles TOT 275 ACT 156 BUF 225)                           \r",
      "Step #300.00 (0ms ?*RT. ?UPS, vehicles TOT 313 ACT 130 BUF 187)                           \r",
      "Step #400.00 (1ms ~= 1000.00*RT, ~138000.00UPS, vehicles TOT 381 ACT 138 BUF 119)         \r",
      "Step #500.00 (1ms ~= 1000.00*RT, ~138000.00UPS, vehicles TOT 446 ACT 138 BUF 54)          \r",
      "Step #600.00 (1ms ~= 1000.00*RT, ~128000.00UPS, vehicles TOT 500 ACT 128 BUF 0)           \r",
      "Step #700.00 (0ms ?*RT. ?UPS, vehicles TOT 500 ACT 66 BUF 0)                              \r",
      "Step #787.00 (0ms ?*RT. ?UPS, vehicles TOT 500 ACT 0 BUF 0)                               \r\n"
     ]
    },
    {
     "name": "stderr",
     "output_type": "stream",
     "text": [
      "Warning: Environment variable SUMO_HOME is not set properly, disabling XML validation. Set 'auto' or 'always' for web lookups.\n",
      " 13%|█████▎                                    | 63/500 [00:41<04:11,  1.74it/s]"
     ]
    },
    {
     "name": "stdout",
     "output_type": "stream",
     "text": [
      "Step #0.00 (0ms ?*RT. ?UPS, vehicles TOT 1 ACT 1 BUF 0)                                   \r",
      "Step #100.00 (1ms ~= 1000.00*RT, ~93000.00UPS, vehicles TOT 148 ACT 93 BUF 352)           \r",
      "Step #200.00 (0ms ?*RT. ?UPS, vehicles TOT 271 ACT 153 BUF 229)                           \r",
      "Step #300.00 (1ms ~= 1000.00*RT, ~140000.00UPS, vehicles TOT 324 ACT 140 BUF 176)         \r",
      "Step #400.00 (1ms ~= 1000.00*RT, ~147000.00UPS, vehicles TOT 399 ACT 147 BUF 101)         \r",
      "Step #500.00 (0ms ?*RT. ?UPS, vehicles TOT 440 ACT 125 BUF 60)                            \r",
      "Step #600.00 (1ms ~= 1000.00*RT, ~124000.00UPS, vehicles TOT 500 ACT 124 BUF 0)           \r",
      "Step #700.00 (0ms ?*RT. ?UPS, vehicles TOT 500 ACT 55 BUF 0)                              \r",
      "Step #768.00 (0ms ?*RT. ?UPS, vehicles TOT 500 ACT 0 BUF 0)                               \r\n"
     ]
    },
    {
     "name": "stderr",
     "output_type": "stream",
     "text": [
      "Warning: Environment variable SUMO_HOME is not set properly, disabling XML validation. Set 'auto' or 'always' for web lookups.\n",
      " 13%|█████▍                                    | 64/500 [00:41<04:06,  1.77it/s]"
     ]
    },
    {
     "name": "stdout",
     "output_type": "stream",
     "text": [
      "Step #0.00 (0ms ?*RT. ?UPS, vehicles TOT 1 ACT 1 BUF 0)                                   \r",
      "Step #100.00 (1ms ~= 1000.00*RT, ~82000.00UPS, vehicles TOT 140 ACT 82 BUF 360)           \r",
      "Step #200.00 (1ms ~= 1000.00*RT, ~121000.00UPS, vehicles TOT 241 ACT 121 BUF 259)         \r",
      "Step #300.00 (1ms ~= 1000.00*RT, ~153000.00UPS, vehicles TOT 340 ACT 153 BUF 160)         \r",
      "Step #400.00 (0ms ?*RT. ?UPS, vehicles TOT 397 ACT 138 BUF 103)                           \r",
      "Step #500.00 (1ms ~= 1000.00*RT, ~153000.00UPS, vehicles TOT 473 ACT 153 BUF 27)          \r",
      "Step #600.00 (0ms ?*RT. ?UPS, vehicles TOT 500 ACT 111 BUF 0)                             \r",
      "Step #700.00 (0ms ?*RT. ?UPS, vehicles TOT 500 ACT 44 BUF 0)                              \r",
      "Step #752.00 (0ms ?*RT. ?UPS, vehicles TOT 500 ACT 0 BUF 0)                               \r\n"
     ]
    },
    {
     "name": "stderr",
     "output_type": "stream",
     "text": [
      "Warning: Environment variable SUMO_HOME is not set properly, disabling XML validation. Set 'auto' or 'always' for web lookups.\n",
      " 13%|█████▍                                    | 65/500 [00:42<04:49,  1.50it/s]"
     ]
    },
    {
     "name": "stdout",
     "output_type": "stream",
     "text": [
      "Step #0.00 (0ms ?*RT. ?UPS, vehicles TOT 1 ACT 1 BUF 0)                                   \r",
      "Step #100.00 (2ms ~= 500.00*RT, ~49000.00UPS, vehicles TOT 157 ACT 98 BUF 343)            \r",
      "Step #200.00 (1ms ~= 1000.00*RT, ~140000.00UPS, vehicles TOT 265 ACT 140 BUF 235)         \r",
      "Step #300.00 (1ms ~= 1000.00*RT, ~121000.00UPS, vehicles TOT 312 ACT 121 BUF 188)         \r",
      "Step #400.00 (1ms ~= 1000.00*RT, ~131000.00UPS, vehicles TOT 385 ACT 131 BUF 115)         \r",
      "Step #500.00 (1ms ~= 1000.00*RT, ~123000.00UPS, vehicles TOT 440 ACT 123 BUF 60)          \r",
      "Step #600.00 (1ms ~= 1000.00*RT, ~119000.00UPS, vehicles TOT 500 ACT 119 BUF 0)           \r",
      "Step #700.00 (1ms ~= 1000.00*RT, ~52000.00UPS, vehicles TOT 500 ACT 52 BUF 0)             \r",
      "Step #764.00 (0ms ?*RT. ?UPS, vehicles TOT 500 ACT 0 BUF 0)                               \r\n"
     ]
    },
    {
     "name": "stderr",
     "output_type": "stream",
     "text": [
      "Warning: Environment variable SUMO_HOME is not set properly, disabling XML validation. Set 'auto' or 'always' for web lookups.\n",
      " 13%|█████▌                                    | 66/500 [00:43<05:31,  1.31it/s]"
     ]
    },
    {
     "name": "stdout",
     "output_type": "stream",
     "text": [
      "Step #0.00 (1ms ~= 1000.00*RT, ~1000.00UPS, vehicles TOT 1 ACT 1 BUF 0)                   \r",
      "Step #100.00 (1ms ~= 1000.00*RT, ~99000.00UPS, vehicles TOT 155 ACT 99 BUF 345)           \r",
      "Step #200.00 (1ms ~= 1000.00*RT, ~142000.00UPS, vehicles TOT 258 ACT 142 BUF 242)         \r",
      "Step #300.00 (1ms ~= 1000.00*RT, ~120000.00UPS, vehicles TOT 301 ACT 120 BUF 199)         \r",
      "Step #400.00 (2ms ~= 500.00*RT, ~69000.00UPS, vehicles TOT 378 ACT 138 BUF 122)           \r",
      "Step #500.00 (2ms ~= 500.00*RT, ~78000.00UPS, vehicles TOT 460 ACT 156 BUF 40)            \r",
      "Step #600.00 (1ms ~= 1000.00*RT, ~132000.00UPS, vehicles TOT 500 ACT 132 BUF 0)           \r",
      "Step #700.00 (1ms ~= 1000.00*RT, ~64000.00UPS, vehicles TOT 500 ACT 64 BUF 0)             \r",
      "Step #781.00 (0ms ?*RT. ?UPS, vehicles TOT 500 ACT 0 BUF 0)                               \r\n"
     ]
    },
    {
     "name": "stderr",
     "output_type": "stream",
     "text": [
      "Warning: Environment variable SUMO_HOME is not set properly, disabling XML validation. Set 'auto' or 'always' for web lookups.\n",
      " 13%|█████▋                                    | 67/500 [00:44<05:58,  1.21it/s]"
     ]
    },
    {
     "name": "stdout",
     "output_type": "stream",
     "text": [
      "Step #0.00 (0ms ?*RT. ?UPS, vehicles TOT 1 ACT 1 BUF 0)                                   \r",
      "Step #100.00 (2ms ~= 500.00*RT, ~39000.00UPS, vehicles TOT 137 ACT 78 BUF 363)            \r",
      "Step #200.00 (2ms ~= 500.00*RT, ~69000.00UPS, vehicles TOT 263 ACT 138 BUF 237)           \r",
      "Step #300.00 (1ms ~= 1000.00*RT, ~142000.00UPS, vehicles TOT 328 ACT 142 BUF 172)         \r",
      "Step #400.00 (1ms ~= 1000.00*RT, ~162000.00UPS, vehicles TOT 413 ACT 162 BUF 87)          \r",
      "Step #500.00 (1ms ~= 1000.00*RT, ~129000.00UPS, vehicles TOT 445 ACT 129 BUF 55)          \r",
      "Step #600.00 (1ms ~= 1000.00*RT, ~120000.00UPS, vehicles TOT 500 ACT 120 BUF 0)           \r",
      "Step #700.00 (0ms ?*RT. ?UPS, vehicles TOT 500 ACT 61 BUF 0)                              \r",
      "Step #775.00 (1ms ~= 1000.00*RT, ~0.00UPS, vehicles TOT 500 ACT 0 BUF 0)                  \r\n"
     ]
    },
    {
     "name": "stderr",
     "output_type": "stream",
     "text": [
      "Warning: Environment variable SUMO_HOME is not set properly, disabling XML validation. Set 'auto' or 'always' for web lookups.\n",
      " 14%|█████▋                                    | 68/500 [00:45<06:08,  1.17it/s]"
     ]
    },
    {
     "name": "stdout",
     "output_type": "stream",
     "text": [
      "Step #0.00 (0ms ?*RT. ?UPS, vehicles TOT 1 ACT 1 BUF 0)                                   \r",
      "Step #100.00 (2ms ~= 500.00*RT, ~48500.00UPS, vehicles TOT 155 ACT 97 BUF 345)            \r",
      "Step #200.00 (1ms ~= 1000.00*RT, ~131000.00UPS, vehicles TOT 250 ACT 131 BUF 250)         \r",
      "Step #300.00 (1ms ~= 1000.00*RT, ~124000.00UPS, vehicles TOT 309 ACT 124 BUF 191)         \r",
      "Step #400.00 (2ms ~= 500.00*RT, ~79500.00UPS, vehicles TOT 410 ACT 159 BUF 90)            \r",
      "Step #500.00 (1ms ~= 1000.00*RT, ~117000.00UPS, vehicles TOT 437 ACT 117 BUF 63)          \r",
      "Step #600.00 (1ms ~= 1000.00*RT, ~114000.00UPS, vehicles TOT 500 ACT 114 BUF 0)           \r",
      "Step #700.00 (0ms ?*RT. ?UPS, vehicles TOT 500 ACT 49 BUF 0)                              \r",
      "Step #759.00 (0ms ?*RT. ?UPS, vehicles TOT 500 ACT 0 BUF 0)                               \r\n"
     ]
    },
    {
     "name": "stderr",
     "output_type": "stream",
     "text": [
      "Warning: Environment variable SUMO_HOME is not set properly, disabling XML validation. Set 'auto' or 'always' for web lookups.\n",
      " 14%|█████▊                                    | 69/500 [00:46<06:25,  1.12it/s]"
     ]
    },
    {
     "name": "stdout",
     "output_type": "stream",
     "text": [
      "Step #0.00 (0ms ?*RT. ?UPS, vehicles TOT 1 ACT 1 BUF 0)                                   \r",
      "Step #100.00 (1ms ~= 1000.00*RT, ~99000.00UPS, vehicles TOT 157 ACT 99 BUF 343)           \r",
      "Step #200.00 (2ms ~= 500.00*RT, ~72000.00UPS, vehicles TOT 265 ACT 144 BUF 235)           \r",
      "Step #300.00 (1ms ~= 1000.00*RT, ~115000.00UPS, vehicles TOT 298 ACT 115 BUF 202)         \r",
      "Step #400.00 (2ms ~= 500.00*RT, ~74000.00UPS, vehicles TOT 396 ACT 148 BUF 104)           \r",
      "Step #500.00 (1ms ~= 1000.00*RT, ~151000.00UPS, vehicles TOT 463 ACT 151 BUF 37)          \r",
      "Step #600.00 (1ms ~= 1000.00*RT, ~127000.00UPS, vehicles TOT 500 ACT 127 BUF 0)           \r",
      "Step #700.00 (1ms ~= 1000.00*RT, ~63000.00UPS, vehicles TOT 500 ACT 63 BUF 0)             \r",
      "Step #776.00 (0ms ?*RT. ?UPS, vehicles TOT 500 ACT 0 BUF 0)                               \r\n"
     ]
    },
    {
     "name": "stderr",
     "output_type": "stream",
     "text": [
      "Warning: Environment variable SUMO_HOME is not set properly, disabling XML validation. Set 'auto' or 'always' for web lookups.\n",
      " 14%|█████▉                                    | 70/500 [00:47<06:24,  1.12it/s]"
     ]
    },
    {
     "name": "stdout",
     "output_type": "stream",
     "text": [
      "Step #0.00 (0ms ?*RT. ?UPS, vehicles TOT 1 ACT 1 BUF 0)                                   \r",
      "Step #100.00 (1ms ~= 1000.00*RT, ~93000.00UPS, vehicles TOT 151 ACT 93 BUF 349)           \r",
      "Step #200.00 (1ms ~= 1000.00*RT, ~149000.00UPS, vehicles TOT 271 ACT 149 BUF 229)         \r",
      "Step #300.00 (1ms ~= 1000.00*RT, ~127000.00UPS, vehicles TOT 319 ACT 127 BUF 181)         \r",
      "Step #400.00 (1ms ~= 1000.00*RT, ~118000.00UPS, vehicles TOT 384 ACT 118 BUF 116)         \r",
      "Step #500.00 (2ms ~= 500.00*RT, ~68500.00UPS, vehicles TOT 470 ACT 137 BUF 30)            \r",
      "Step #600.00 (0ms ?*RT. ?UPS, vehicles TOT 500 ACT 104 BUF 0)                             \r",
      "Step #700.00 (0ms ?*RT. ?UPS, vehicles TOT 500 ACT 34 BUF 0)                              \r",
      "Step #741.00 (0ms ?*RT. ?UPS, vehicles TOT 500 ACT 0 BUF 0)                               \r\n"
     ]
    },
    {
     "name": "stderr",
     "output_type": "stream",
     "text": [
      "Warning: Environment variable SUMO_HOME is not set properly, disabling XML validation. Set 'auto' or 'always' for web lookups.\n",
      " 14%|█████▉                                    | 71/500 [00:48<06:29,  1.10it/s]"
     ]
    },
    {
     "name": "stdout",
     "output_type": "stream",
     "text": [
      "Step #0.00 (0ms ?*RT. ?UPS, vehicles TOT 1 ACT 1 BUF 0)                                   \r",
      "Step #100.00 (1ms ~= 1000.00*RT, ~95000.00UPS, vehicles TOT 152 ACT 95 BUF 348)           \r",
      "Step #200.00 (1ms ~= 1000.00*RT, ~146000.00UPS, vehicles TOT 265 ACT 146 BUF 235)         \r",
      "Step #300.00 (2ms ~= 500.00*RT, ~71000.00UPS, vehicles TOT 329 ACT 142 BUF 171)           \r",
      "Step #400.00 (1ms ~= 1000.00*RT, ~140000.00UPS, vehicles TOT 390 ACT 140 BUF 110)         \r",
      "Step #500.00 (1ms ~= 1000.00*RT, ~134000.00UPS, vehicles TOT 446 ACT 134 BUF 54)          \r",
      "Step #600.00 (1ms ~= 1000.00*RT, ~120000.00UPS, vehicles TOT 500 ACT 120 BUF 0)           \r",
      "Step #700.00 (1ms ~= 1000.00*RT, ~53000.00UPS, vehicles TOT 500 ACT 53 BUF 0)             \r",
      "Step #765.00 (0ms ?*RT. ?UPS, vehicles TOT 500 ACT 0 BUF 0)                               \r\n"
     ]
    },
    {
     "name": "stderr",
     "output_type": "stream",
     "text": [
      "Warning: Environment variable SUMO_HOME is not set properly, disabling XML validation. Set 'auto' or 'always' for web lookups.\n",
      " 14%|██████                                    | 72/500 [00:49<06:36,  1.08it/s]"
     ]
    },
    {
     "name": "stdout",
     "output_type": "stream",
     "text": [
      "Step #0.00 (0ms ?*RT. ?UPS, vehicles TOT 1 ACT 1 BUF 0)                                   \r",
      "Step #100.00 (2ms ~= 500.00*RT, ~49000.00UPS, vehicles TOT 155 ACT 98 BUF 345)            \r",
      "Step #200.00 (1ms ~= 1000.00*RT, ~149000.00UPS, vehicles TOT 265 ACT 149 BUF 235)         \r",
      "Step #300.00 (1ms ~= 1000.00*RT, ~125000.00UPS, vehicles TOT 303 ACT 125 BUF 197)         \r",
      "Step #400.00 (1ms ~= 1000.00*RT, ~137000.00UPS, vehicles TOT 383 ACT 137 BUF 117)         \r",
      "Step #500.00 (1ms ~= 1000.00*RT, ~135000.00UPS, vehicles TOT 449 ACT 135 BUF 51)          \r",
      "Step #600.00 (1ms ~= 1000.00*RT, ~122000.00UPS, vehicles TOT 500 ACT 122 BUF 0)           \r",
      "Step #700.00 (0ms ?*RT. ?UPS, vehicles TOT 500 ACT 54 BUF 0)                              \r",
      "Step #769.00 (0ms ?*RT. ?UPS, vehicles TOT 500 ACT 0 BUF 0)                               \r\n"
     ]
    },
    {
     "name": "stderr",
     "output_type": "stream",
     "text": [
      "Warning: Environment variable SUMO_HOME is not set properly, disabling XML validation. Set 'auto' or 'always' for web lookups.\n",
      " 15%|██████▏                                   | 73/500 [00:50<06:34,  1.08it/s]"
     ]
    },
    {
     "name": "stdout",
     "output_type": "stream",
     "text": [
      "Step #0.00 (1ms ~= 1000.00*RT, ~1000.00UPS, vehicles TOT 1 ACT 1 BUF 0)                   \r",
      "Step #100.00 (1ms ~= 1000.00*RT, ~92000.00UPS, vehicles TOT 148 ACT 92 BUF 352)           \r",
      "Step #200.00 (2ms ~= 500.00*RT, ~61000.00UPS, vehicles TOT 246 ACT 122 BUF 254)           \r",
      "Step #300.00 (1ms ~= 1000.00*RT, ~132000.00UPS, vehicles TOT 318 ACT 132 BUF 182)         \r",
      "Step #400.00 (2ms ~= 500.00*RT, ~67500.00UPS, vehicles TOT 385 ACT 135 BUF 115)           \r",
      "Step #500.00 (1ms ~= 1000.00*RT, ~123000.00UPS, vehicles TOT 435 ACT 123 BUF 65)          \r",
      "Step #600.00 (1ms ~= 1000.00*RT, ~122000.00UPS, vehicles TOT 500 ACT 122 BUF 0)           \r",
      "Step #700.00 (1ms ~= 1000.00*RT, ~54000.00UPS, vehicles TOT 500 ACT 54 BUF 0)             \r",
      "Step #767.00 (0ms ?*RT. ?UPS, vehicles TOT 500 ACT 0 BUF 0)                               \r\n"
     ]
    },
    {
     "name": "stderr",
     "output_type": "stream",
     "text": [
      "Warning: Environment variable SUMO_HOME is not set properly, disabling XML validation. Set 'auto' or 'always' for web lookups.\n",
      " 15%|██████▏                                   | 74/500 [00:51<06:32,  1.09it/s]"
     ]
    },
    {
     "name": "stdout",
     "output_type": "stream",
     "text": [
      "Step #0.00 (0ms ?*RT. ?UPS, vehicles TOT 1 ACT 1 BUF 0)                                   \r",
      "Step #100.00 (1ms ~= 1000.00*RT, ~96000.00UPS, vehicles TOT 152 ACT 96 BUF 348)           \r",
      "Step #200.00 (2ms ~= 500.00*RT, ~72000.00UPS, vehicles TOT 261 ACT 144 BUF 239)           \r",
      "Step #300.00 (1ms ~= 1000.00*RT, ~131000.00UPS, vehicles TOT 312 ACT 131 BUF 188)         \r",
      "Step #400.00 (2ms ~= 500.00*RT, ~59500.00UPS, vehicles TOT 368 ACT 119 BUF 132)           \r",
      "Step #500.00 (1ms ~= 1000.00*RT, ~149000.00UPS, vehicles TOT 466 ACT 149 BUF 34)          \r",
      "Step #600.00 (1ms ~= 1000.00*RT, ~118000.00UPS, vehicles TOT 500 ACT 118 BUF 0)           \r",
      "Step #700.00 (0ms ?*RT. ?UPS, vehicles TOT 500 ACT 45 BUF 0)                              \r",
      "Step #754.00 (0ms ?*RT. ?UPS, vehicles TOT 500 ACT 0 BUF 0)                               \r\n"
     ]
    },
    {
     "name": "stderr",
     "output_type": "stream",
     "text": [
      "Warning: Environment variable SUMO_HOME is not set properly, disabling XML validation. Set 'auto' or 'always' for web lookups.\n",
      " 15%|██████▎                                   | 75/500 [00:52<06:17,  1.13it/s]"
     ]
    },
    {
     "name": "stdout",
     "output_type": "stream",
     "text": [
      "Step #0.00 (0ms ?*RT. ?UPS, vehicles TOT 1 ACT 1 BUF 0)                                   \r",
      "Step #100.00 (1ms ~= 1000.00*RT, ~99000.00UPS, vehicles TOT 152 ACT 99 BUF 348)           \r",
      "Step #200.00 (1ms ~= 1000.00*RT, ~144000.00UPS, vehicles TOT 264 ACT 144 BUF 236)         \r",
      "Step #300.00 (1ms ~= 1000.00*RT, ~120000.00UPS, vehicles TOT 307 ACT 120 BUF 193)         \r",
      "Step #400.00 (2ms ~= 500.00*RT, ~73500.00UPS, vehicles TOT 401 ACT 147 BUF 99)            \r",
      "Step #500.00 (1ms ~= 1000.00*RT, ~136000.00UPS, vehicles TOT 455 ACT 136 BUF 45)          \r",
      "Step #600.00 (0ms ?*RT. ?UPS, vehicles TOT 500 ACT 112 BUF 0)                             \r",
      "Step #700.00 (0ms ?*RT. ?UPS, vehicles TOT 500 ACT 46 BUF 0)                              \r",
      "Step #755.00 (0ms ?*RT. ?UPS, vehicles TOT 500 ACT 0 BUF 0)                               \r\n"
     ]
    },
    {
     "name": "stderr",
     "output_type": "stream",
     "text": [
      "Warning: Environment variable SUMO_HOME is not set properly, disabling XML validation. Set 'auto' or 'always' for web lookups.\n",
      " 15%|██████▍                                   | 76/500 [00:52<05:37,  1.26it/s]"
     ]
    },
    {
     "name": "stdout",
     "output_type": "stream",
     "text": [
      "Step #0.00 (0ms ?*RT. ?UPS, vehicles TOT 1 ACT 1 BUF 0)                                   \r",
      "Step #100.00 (1ms ~= 1000.00*RT, ~98000.00UPS, vehicles TOT 152 ACT 98 BUF 348)           \r",
      "Step #200.00 (1ms ~= 1000.00*RT, ~150000.00UPS, vehicles TOT 267 ACT 150 BUF 233)         \r",
      "Step #300.00 (1ms ~= 1000.00*RT, ~121000.00UPS, vehicles TOT 303 ACT 121 BUF 197)         \r",
      "Step #400.00 (1ms ~= 1000.00*RT, ~146000.00UPS, vehicles TOT 392 ACT 146 BUF 108)         \r",
      "Step #500.00 (1ms ~= 1000.00*RT, ~116000.00UPS, vehicles TOT 426 ACT 116 BUF 74)          \r",
      "Step #600.00 (0ms ?*RT. ?UPS, vehicles TOT 500 ACT 128 BUF 0)                             \r",
      "Step #700.00 (1ms ~= 1000.00*RT, ~66000.00UPS, vehicles TOT 500 ACT 66 BUF 0)             \r",
      "Step #781.00 (0ms ?*RT. ?UPS, vehicles TOT 500 ACT 0 BUF 0)                               \r\n"
     ]
    },
    {
     "name": "stderr",
     "output_type": "stream",
     "text": [
      "Warning: Environment variable SUMO_HOME is not set properly, disabling XML validation. Set 'auto' or 'always' for web lookups.\n",
      " 15%|██████▍                                   | 77/500 [00:53<05:05,  1.39it/s]"
     ]
    },
    {
     "name": "stdout",
     "output_type": "stream",
     "text": [
      "Step #0.00 (0ms ?*RT. ?UPS, vehicles TOT 1 ACT 1 BUF 0)                                   \r",
      "Step #100.00 (1ms ~= 1000.00*RT, ~95000.00UPS, vehicles TOT 151 ACT 95 BUF 349)           \r",
      "Step #200.00 (1ms ~= 1000.00*RT, ~126000.00UPS, vehicles TOT 244 ACT 126 BUF 256)         \r",
      "Step #300.00 (1ms ~= 1000.00*RT, ~123000.00UPS, vehicles TOT 311 ACT 123 BUF 189)         \r",
      "Step #400.00 (1ms ~= 1000.00*RT, ~131000.00UPS, vehicles TOT 386 ACT 131 BUF 114)         \r",
      "Step #500.00 (0ms ?*RT. ?UPS, vehicles TOT 443 ACT 127 BUF 57)                            \r",
      "Step #600.00 (1ms ~= 1000.00*RT, ~118000.00UPS, vehicles TOT 500 ACT 118 BUF 0)           \r",
      "Step #700.00 (1ms ~= 1000.00*RT, ~53000.00UPS, vehicles TOT 500 ACT 53 BUF 0)             \r",
      "Step #764.00 (0ms ?*RT. ?UPS, vehicles TOT 500 ACT 0 BUF 0)                               \r\n"
     ]
    },
    {
     "name": "stderr",
     "output_type": "stream",
     "text": [
      "Warning: Environment variable SUMO_HOME is not set properly, disabling XML validation. Set 'auto' or 'always' for web lookups.\n",
      " 16%|██████▌                                   | 78/500 [00:53<04:43,  1.49it/s]"
     ]
    },
    {
     "name": "stdout",
     "output_type": "stream",
     "text": [
      "Step #0.00 (0ms ?*RT. ?UPS, vehicles TOT 1 ACT 1 BUF 0)                                   \r",
      "Step #100.00 (1ms ~= 1000.00*RT, ~94000.00UPS, vehicles TOT 149 ACT 94 BUF 351)           \r",
      "Step #200.00 (1ms ~= 1000.00*RT, ~134000.00UPS, vehicles TOT 254 ACT 134 BUF 246)         \r",
      "Step #300.00 (1ms ~= 1000.00*RT, ~151000.00UPS, vehicles TOT 336 ACT 151 BUF 164)         \r",
      "Step #400.00 (0ms ?*RT. ?UPS, vehicles TOT 356 ACT 105 BUF 144)                           \r",
      "Step #500.00 (1ms ~= 1000.00*RT, ~123000.00UPS, vehicles TOT 437 ACT 123 BUF 63)          \r",
      "Step #600.00 (1ms ~= 1000.00*RT, ~120000.00UPS, vehicles TOT 500 ACT 120 BUF 0)           \r",
      "Step #700.00 (1ms ~= 1000.00*RT, ~57000.00UPS, vehicles TOT 500 ACT 57 BUF 0)             \r",
      "Step #770.00 (0ms ?*RT. ?UPS, vehicles TOT 500 ACT 0 BUF 0)                               \r\n"
     ]
    },
    {
     "name": "stderr",
     "output_type": "stream",
     "text": [
      "Warning: Environment variable SUMO_HOME is not set properly, disabling XML validation. Set 'auto' or 'always' for web lookups.\n",
      " 16%|██████▋                                   | 79/500 [00:54<04:24,  1.59it/s]"
     ]
    },
    {
     "name": "stdout",
     "output_type": "stream",
     "text": [
      "Step #0.00 (0ms ?*RT. ?UPS, vehicles TOT 1 ACT 1 BUF 0)                                   \r",
      "Step #100.00 (1ms ~= 1000.00*RT, ~87000.00UPS, vehicles TOT 141 ACT 87 BUF 359)           \r",
      "Step #200.00 (1ms ~= 1000.00*RT, ~124000.00UPS, vehicles TOT 237 ACT 124 BUF 263)         \r",
      "Step #300.00 (1ms ~= 1000.00*RT, ~142000.00UPS, vehicles TOT 322 ACT 142 BUF 178)         \r",
      "Step #400.00 (0ms ?*RT. ?UPS, vehicles TOT 382 ACT 139 BUF 118)                           \r",
      "Step #500.00 (0ms ?*RT. ?UPS, vehicles TOT 424 ACT 125 BUF 76)                            \r",
      "Step #600.00 (0ms ?*RT. ?UPS, vehicles TOT 481 ACT 120 BUF 19)                            \r",
      "Step #700.00 (0ms ?*RT. ?UPS, vehicles TOT 500 ACT 74 BUF 0)                              \r",
      "Step #796.00 (0ms ?*RT. ?UPS, vehicles TOT 500 ACT 0 BUF 0)                               \r\n"
     ]
    },
    {
     "name": "stderr",
     "output_type": "stream",
     "text": [
      "Warning: Environment variable SUMO_HOME is not set properly, disabling XML validation. Set 'auto' or 'always' for web lookups.\n",
      " 16%|██████▋                                   | 80/500 [00:54<04:10,  1.68it/s]"
     ]
    },
    {
     "name": "stdout",
     "output_type": "stream",
     "text": [
      "Step #0.00 (1ms ~= 1000.00*RT, ~1000.00UPS, vehicles TOT 1 ACT 1 BUF 0)                   \r",
      "Step #100.00 (0ms ?*RT. ?UPS, vehicles TOT 147 ACT 94 BUF 353)                            \r",
      "Step #200.00 (1ms ~= 1000.00*RT, ~121000.00UPS, vehicles TOT 240 ACT 121 BUF 260)         \r",
      "Step #300.00 (1ms ~= 1000.00*RT, ~148000.00UPS, vehicles TOT 330 ACT 148 BUF 170)         \r",
      "Step #400.00 (0ms ?*RT. ?UPS, vehicles TOT 374 ACT 129 BUF 126)                           \r",
      "Step #500.00 (1ms ~= 1000.00*RT, ~142000.00UPS, vehicles TOT 452 ACT 142 BUF 48)          \r",
      "Step #600.00 (1ms ~= 1000.00*RT, ~122000.00UPS, vehicles TOT 500 ACT 122 BUF 0)           \r",
      "Step #700.00 (0ms ?*RT. ?UPS, vehicles TOT 500 ACT 52 BUF 0)                              \r",
      "Step #766.00 (0ms ?*RT. ?UPS, vehicles TOT 500 ACT 0 BUF 0)                               \r\n"
     ]
    },
    {
     "name": "stderr",
     "output_type": "stream",
     "text": [
      "Warning: Environment variable SUMO_HOME is not set properly, disabling XML validation. Set 'auto' or 'always' for web lookups.\n",
      " 16%|██████▊                                   | 81/500 [00:55<03:59,  1.75it/s]"
     ]
    },
    {
     "name": "stdout",
     "output_type": "stream",
     "text": [
      "Step #0.00 (1ms ~= 1000.00*RT, ~1000.00UPS, vehicles TOT 1 ACT 1 BUF 0)                   \r",
      "Step #100.00 (0ms ?*RT. ?UPS, vehicles TOT 149 ACT 94 BUF 351)                            \r",
      "Step #200.00 (1ms ~= 1000.00*RT, ~131000.00UPS, vehicles TOT 255 ACT 131 BUF 245)         \r",
      "Step #300.00 (0ms ?*RT. ?UPS, vehicles TOT 316 ACT 125 BUF 184)                           \r",
      "Step #400.00 (0ms ?*RT. ?UPS, vehicles TOT 384 ACT 126 BUF 116)                           \r",
      "Step #500.00 (1ms ~= 1000.00*RT, ~115000.00UPS, vehicles TOT 435 ACT 115 BUF 65)          \r",
      "Step #600.00 (0ms ?*RT. ?UPS, vehicles TOT 500 ACT 114 BUF 0)                             \r",
      "Step #700.00 (0ms ?*RT. ?UPS, vehicles TOT 500 ACT 51 BUF 0)                              \r",
      "Step #761.00 (0ms ?*RT. ?UPS, vehicles TOT 500 ACT 0 BUF 0)                               \r\n"
     ]
    },
    {
     "name": "stderr",
     "output_type": "stream",
     "text": [
      "Warning: Environment variable SUMO_HOME is not set properly, disabling XML validation. Set 'auto' or 'always' for web lookups.\n",
      " 16%|██████▉                                   | 82/500 [00:55<03:56,  1.76it/s]"
     ]
    },
    {
     "name": "stdout",
     "output_type": "stream",
     "text": [
      "Step #0.00 (0ms ?*RT. ?UPS, vehicles TOT 1 ACT 1 BUF 0)                                   \r",
      "Step #100.00 (1ms ~= 1000.00*RT, ~92000.00UPS, vehicles TOT 147 ACT 92 BUF 353)           \r",
      "Step #200.00 (1ms ~= 1000.00*RT, ~100000.00UPS, vehicles TOT 223 ACT 100 BUF 277)         \r",
      "Step #300.00 (0ms ?*RT. ?UPS, vehicles TOT 319 ACT 134 BUF 181)                           \r",
      "Step #400.00 (1ms ~= 1000.00*RT, ~117000.00UPS, vehicles TOT 363 ACT 117 BUF 137)         \r",
      "Step #500.00 (1ms ~= 1000.00*RT, ~156000.00UPS, vehicles TOT 468 ACT 156 BUF 32)          \r",
      "Step #600.00 (1ms ~= 1000.00*RT, ~115000.00UPS, vehicles TOT 490 ACT 115 BUF 10)          \r",
      "Step #700.00 (1ms ~= 1000.00*RT, ~63000.00UPS, vehicles TOT 500 ACT 63 BUF 0)             \r",
      "Step #780.00 (0ms ?*RT. ?UPS, vehicles TOT 500 ACT 0 BUF 0)                               \r\n"
     ]
    },
    {
     "name": "stderr",
     "output_type": "stream",
     "text": [
      "Warning: Environment variable SUMO_HOME is not set properly, disabling XML validation. Set 'auto' or 'always' for web lookups.\n",
      " 17%|██████▉                                   | 83/500 [00:56<03:52,  1.80it/s]"
     ]
    },
    {
     "name": "stdout",
     "output_type": "stream",
     "text": [
      "Step #0.00 (0ms ?*RT. ?UPS, vehicles TOT 1 ACT 1 BUF 0)                                   \r",
      "Step #100.00 (1ms ~= 1000.00*RT, ~100000.00UPS, vehicles TOT 156 ACT 100 BUF 344)         \r",
      "Step #200.00 (0ms ?*RT. ?UPS, vehicles TOT 258 ACT 142 BUF 242)                           \r",
      "Step #300.00 (1ms ~= 1000.00*RT, ~119000.00UPS, vehicles TOT 303 ACT 119 BUF 197)         \r",
      "Step #400.00 (1ms ~= 1000.00*RT, ~138000.00UPS, vehicles TOT 389 ACT 138 BUF 111)         \r",
      "Step #500.00 (1ms ~= 1000.00*RT, ~118000.00UPS, vehicles TOT 434 ACT 118 BUF 66)          \r",
      "Step #600.00 (1ms ~= 1000.00*RT, ~121000.00UPS, vehicles TOT 500 ACT 121 BUF 0)           \r",
      "Step #700.00 (1ms ~= 1000.00*RT, ~56000.00UPS, vehicles TOT 500 ACT 56 BUF 0)             \r",
      "Step #770.00 (0ms ?*RT. ?UPS, vehicles TOT 500 ACT 0 BUF 0)                               \r\n"
     ]
    },
    {
     "name": "stderr",
     "output_type": "stream",
     "text": [
      "Warning: Environment variable SUMO_HOME is not set properly, disabling XML validation. Set 'auto' or 'always' for web lookups.\n",
      " 17%|███████                                   | 84/500 [00:56<03:47,  1.83it/s]"
     ]
    },
    {
     "name": "stdout",
     "output_type": "stream",
     "text": [
      "Step #0.00 (0ms ?*RT. ?UPS, vehicles TOT 1 ACT 1 BUF 0)                                   \r",
      "Step #100.00 (1ms ~= 1000.00*RT, ~95000.00UPS, vehicles TOT 150 ACT 95 BUF 350)           \r",
      "Step #200.00 (1ms ~= 1000.00*RT, ~128000.00UPS, vehicles TOT 251 ACT 128 BUF 249)         \r",
      "Step #300.00 (1ms ~= 1000.00*RT, ~137000.00UPS, vehicles TOT 327 ACT 137 BUF 173)         \r",
      "Step #400.00 (0ms ?*RT. ?UPS, vehicles TOT 386 ACT 130 BUF 114)                           \r",
      "Step #500.00 (1ms ~= 1000.00*RT, ~129000.00UPS, vehicles TOT 447 ACT 129 BUF 53)          \r",
      "Step #600.00 (1ms ~= 1000.00*RT, ~116000.00UPS, vehicles TOT 493 ACT 116 BUF 7)           \r",
      "Step #700.00 (0ms ?*RT. ?UPS, vehicles TOT 500 ACT 59 BUF 0)                              \r",
      "Step #775.00 (0ms ?*RT. ?UPS, vehicles TOT 500 ACT 0 BUF 0)                               \r\n"
     ]
    },
    {
     "name": "stderr",
     "output_type": "stream",
     "text": [
      "Warning: Environment variable SUMO_HOME is not set properly, disabling XML validation. Set 'auto' or 'always' for web lookups.\n",
      " 17%|███████▏                                  | 85/500 [00:57<03:45,  1.84it/s]"
     ]
    },
    {
     "name": "stdout",
     "output_type": "stream",
     "text": [
      "Step #0.00 (0ms ?*RT. ?UPS, vehicles TOT 1 ACT 1 BUF 0)                                   \r",
      "Step #100.00 (1ms ~= 1000.00*RT, ~98000.00UPS, vehicles TOT 151 ACT 98 BUF 349)           \r",
      "Step #200.00 (1ms ~= 1000.00*RT, ~113000.00UPS, vehicles TOT 230 ACT 113 BUF 270)         \r",
      "Step #300.00 (1ms ~= 1000.00*RT, ~143000.00UPS, vehicles TOT 327 ACT 143 BUF 173)         \r",
      "Step #400.00 (1ms ~= 1000.00*RT, ~130000.00UPS, vehicles TOT 379 ACT 130 BUF 121)         \r",
      "Step #500.00 (1ms ~= 1000.00*RT, ~125000.00UPS, vehicles TOT 435 ACT 125 BUF 65)          \r",
      "Step #600.00 (1ms ~= 1000.00*RT, ~121000.00UPS, vehicles TOT 500 ACT 121 BUF 0)           \r",
      "Step #700.00 (0ms ?*RT. ?UPS, vehicles TOT 500 ACT 56 BUF 0)                              \r",
      "Step #770.00 (0ms ?*RT. ?UPS, vehicles TOT 500 ACT 0 BUF 0)                               \r\n"
     ]
    },
    {
     "name": "stderr",
     "output_type": "stream",
     "text": [
      "Warning: Environment variable SUMO_HOME is not set properly, disabling XML validation. Set 'auto' or 'always' for web lookups.\n",
      " 17%|███████▏                                  | 86/500 [00:58<03:58,  1.74it/s]"
     ]
    },
    {
     "name": "stdout",
     "output_type": "stream",
     "text": [
      "Step #0.00 (1ms ~= 1000.00*RT, ~1000.00UPS, vehicles TOT 1 ACT 1 BUF 0)                   \r",
      "Step #100.00 (1ms ~= 1000.00*RT, ~99000.00UPS, vehicles TOT 153 ACT 99 BUF 347)           \r",
      "Step #200.00 (1ms ~= 1000.00*RT, ~142000.00UPS, vehicles TOT 259 ACT 142 BUF 241)         \r",
      "Step #300.00 (0ms ?*RT. ?UPS, vehicles TOT 300 ACT 122 BUF 200)                           \r",
      "Step #400.00 (1ms ~= 1000.00*RT, ~143000.00UPS, vehicles TOT 384 ACT 143 BUF 116)         \r",
      "Step #500.00 (0ms ?*RT. ?UPS, vehicles TOT 424 ACT 124 BUF 76)                            \r",
      "Step #600.00 (1ms ~= 1000.00*RT, ~132000.00UPS, vehicles TOT 496 ACT 132 BUF 4)           \r",
      "Step #700.00 (0ms ?*RT. ?UPS, vehicles TOT 500 ACT 70 BUF 0)                              \r",
      "Step #789.00 (0ms ?*RT. ?UPS, vehicles TOT 500 ACT 0 BUF 0)                               \r\n"
     ]
    },
    {
     "name": "stderr",
     "output_type": "stream",
     "text": [
      "Warning: Environment variable SUMO_HOME is not set properly, disabling XML validation. Set 'auto' or 'always' for web lookups.\n",
      " 17%|███████▎                                  | 87/500 [00:58<03:52,  1.77it/s]"
     ]
    },
    {
     "name": "stdout",
     "output_type": "stream",
     "text": [
      "Step #0.00 (0ms ?*RT. ?UPS, vehicles TOT 1 ACT 1 BUF 0)                                   \r",
      "Step #100.00 (1ms ~= 1000.00*RT, ~94000.00UPS, vehicles TOT 152 ACT 94 BUF 348)           \r",
      "Step #200.00 (1ms ~= 1000.00*RT, ~129000.00UPS, vehicles TOT 249 ACT 129 BUF 251)         \r",
      "Step #300.00 (0ms ?*RT. ?UPS, vehicles TOT 310 ACT 126 BUF 190)                           \r",
      "Step #400.00 (1ms ~= 1000.00*RT, ~127000.00UPS, vehicles TOT 381 ACT 127 BUF 119)         \r",
      "Step #500.00 (1ms ~= 1000.00*RT, ~135000.00UPS, vehicles TOT 449 ACT 135 BUF 51)          \r",
      "Step #600.00 (0ms ?*RT. ?UPS, vehicles TOT 500 ACT 125 BUF 0)                             \r",
      "Step #700.00 (0ms ?*RT. ?UPS, vehicles TOT 500 ACT 63 BUF 0)                              \r",
      "Step #782.00 (0ms ?*RT. ?UPS, vehicles TOT 500 ACT 0 BUF 0)                               \r\n"
     ]
    },
    {
     "name": "stderr",
     "output_type": "stream",
     "text": [
      "Warning: Environment variable SUMO_HOME is not set properly, disabling XML validation. Set 'auto' or 'always' for web lookups.\n",
      " 18%|███████▍                                  | 88/500 [00:59<03:48,  1.80it/s]"
     ]
    },
    {
     "name": "stdout",
     "output_type": "stream",
     "text": [
      "Step #0.00 (1ms ~= 1000.00*RT, ~1000.00UPS, vehicles TOT 1 ACT 1 BUF 0)                   \r",
      "Step #100.00 (1ms ~= 1000.00*RT, ~92000.00UPS, vehicles TOT 149 ACT 92 BUF 351)           \r",
      "Step #200.00 (1ms ~= 1000.00*RT, ~115000.00UPS, vehicles TOT 233 ACT 115 BUF 267)         \r",
      "Step #300.00 (0ms ?*RT. ?UPS, vehicles TOT 312 ACT 128 BUF 188)                           \r",
      "Step #400.00 (0ms ?*RT. ?UPS, vehicles TOT 367 ACT 122 BUF 133)                           \r",
      "Step #500.00 (1ms ~= 1000.00*RT, ~127000.00UPS, vehicles TOT 435 ACT 127 BUF 65)          \r",
      "Step #600.00 (1ms ~= 1000.00*RT, ~127000.00UPS, vehicles TOT 498 ACT 127 BUF 2)           \r",
      "Step #700.00 (0ms ?*RT. ?UPS, vehicles TOT 500 ACT 63 BUF 0)                              \r",
      "Step #781.00 (0ms ?*RT. ?UPS, vehicles TOT 500 ACT 0 BUF 0)                               \r\n"
     ]
    },
    {
     "name": "stderr",
     "output_type": "stream",
     "text": [
      "Warning: Environment variable SUMO_HOME is not set properly, disabling XML validation. Set 'auto' or 'always' for web lookups.\n",
      " 18%|███████▍                                  | 89/500 [00:59<03:41,  1.85it/s]"
     ]
    },
    {
     "name": "stdout",
     "output_type": "stream",
     "text": [
      "Step #0.00 (0ms ?*RT. ?UPS, vehicles TOT 1 ACT 1 BUF 0)                                   \r",
      "Step #100.00 (1ms ~= 1000.00*RT, ~92000.00UPS, vehicles TOT 150 ACT 92 BUF 350)           \r",
      "Step #200.00 (1ms ~= 1000.00*RT, ~104000.00UPS, vehicles TOT 228 ACT 104 BUF 272)         \r",
      "Step #300.00 (1ms ~= 1000.00*RT, ~117000.00UPS, vehicles TOT 306 ACT 117 BUF 194)         \r",
      "Step #400.00 (1ms ~= 1000.00*RT, ~126000.00UPS, vehicles TOT 376 ACT 126 BUF 124)         \r",
      "Step #500.00 (0ms ?*RT. ?UPS, vehicles TOT 441 ACT 130 BUF 59)                            \r",
      "Step #600.00 (1ms ~= 1000.00*RT, ~127000.00UPS, vehicles TOT 500 ACT 127 BUF 0)           \r",
      "Step #700.00 (0ms ?*RT. ?UPS, vehicles TOT 500 ACT 63 BUF 0)                              \r",
      "Step #782.00 (0ms ?*RT. ?UPS, vehicles TOT 500 ACT 0 BUF 0)                               \r\n"
     ]
    },
    {
     "name": "stderr",
     "output_type": "stream",
     "text": [
      "Warning: Environment variable SUMO_HOME is not set properly, disabling XML validation. Set 'auto' or 'always' for web lookups.\n",
      " 18%|███████▌                                  | 90/500 [01:00<03:35,  1.90it/s]"
     ]
    },
    {
     "name": "stdout",
     "output_type": "stream",
     "text": [
      "Step #0.00 (0ms ?*RT. ?UPS, vehicles TOT 1 ACT 1 BUF 0)                                   \r",
      "Step #100.00 (1ms ~= 1000.00*RT, ~89000.00UPS, vehicles TOT 145 ACT 89 BUF 355)           \r",
      "Step #200.00 (0ms ?*RT. ?UPS, vehicles TOT 250 ACT 135 BUF 250)                           \r",
      "Step #300.00 (1ms ~= 1000.00*RT, ~131000.00UPS, vehicles TOT 313 ACT 131 BUF 187)         \r",
      "Step #400.00 (1ms ~= 1000.00*RT, ~124000.00UPS, vehicles TOT 373 ACT 124 BUF 127)         \r",
      "Step #500.00 (1ms ~= 1000.00*RT, ~127000.00UPS, vehicles TOT 444 ACT 127 BUF 56)          \r",
      "Step #600.00 (0ms ?*RT. ?UPS, vehicles TOT 500 ACT 119 BUF 0)                             \r",
      "Step #700.00 (1ms ~= 1000.00*RT, ~56000.00UPS, vehicles TOT 500 ACT 56 BUF 0)             \r",
      "Step #771.00 (0ms ?*RT. ?UPS, vehicles TOT 500 ACT 0 BUF 0)                               \r\n"
     ]
    },
    {
     "name": "stderr",
     "output_type": "stream",
     "text": [
      "Warning: Environment variable SUMO_HOME is not set properly, disabling XML validation. Set 'auto' or 'always' for web lookups.\n",
      " 18%|███████▋                                  | 91/500 [01:00<03:32,  1.92it/s]"
     ]
    },
    {
     "name": "stdout",
     "output_type": "stream",
     "text": [
      "Step #0.00 (1ms ~= 1000.00*RT, ~1000.00UPS, vehicles TOT 1 ACT 1 BUF 0)                   \r",
      "Step #100.00 (0ms ?*RT. ?UPS, vehicles TOT 147 ACT 88 BUF 353)                            \r",
      "Step #200.00 (1ms ~= 1000.00*RT, ~122000.00UPS, vehicles TOT 244 ACT 122 BUF 256)         \r",
      "Step #300.00 (1ms ~= 1000.00*RT, ~131000.00UPS, vehicles TOT 322 ACT 131 BUF 178)         \r",
      "Step #400.00 (1ms ~= 1000.00*RT, ~113000.00UPS, vehicles TOT 363 ACT 113 BUF 137)         \r",
      "Step #500.00 (0ms ?*RT. ?UPS, vehicles TOT 454 ACT 139 BUF 46)                            \r",
      "Step #600.00 (1ms ~= 1000.00*RT, ~121000.00UPS, vehicles TOT 500 ACT 121 BUF 0)           \r",
      "Step #700.00 (0ms ?*RT. ?UPS, vehicles TOT 500 ACT 55 BUF 0)                              \r",
      "Step #771.00 (0ms ?*RT. ?UPS, vehicles TOT 500 ACT 0 BUF 0)                               \r\n"
     ]
    },
    {
     "name": "stderr",
     "output_type": "stream",
     "text": [
      "Warning: Environment variable SUMO_HOME is not set properly, disabling XML validation. Set 'auto' or 'always' for web lookups.\n",
      " 18%|███████▋                                  | 92/500 [01:01<03:28,  1.96it/s]"
     ]
    },
    {
     "name": "stdout",
     "output_type": "stream",
     "text": [
      "Step #0.00 (1ms ~= 1000.00*RT, ~1000.00UPS, vehicles TOT 1 ACT 1 BUF 0)                   \r",
      "Step #100.00 (1ms ~= 1000.00*RT, ~81000.00UPS, vehicles TOT 135 ACT 81 BUF 365)           \r",
      "Step #200.00 (1ms ~= 1000.00*RT, ~116000.00UPS, vehicles TOT 233 ACT 116 BUF 267)         \r",
      "Step #300.00 (0ms ?*RT. ?UPS, vehicles TOT 283 ACT 100 BUF 217)                           \r",
      "Step #400.00 (1ms ~= 1000.00*RT, ~110000.00UPS, vehicles TOT 363 ACT 110 BUF 137)         \r",
      "Step #500.00 (0ms ?*RT. ?UPS, vehicles TOT 456 ACT 139 BUF 44)                            \r",
      "Step #600.00 (1ms ~= 1000.00*RT, ~120000.00UPS, vehicles TOT 500 ACT 120 BUF 0)           \r",
      "Step #700.00 (1ms ~= 1000.00*RT, ~56000.00UPS, vehicles TOT 500 ACT 56 BUF 0)             \r",
      "Step #770.00 (0ms ?*RT. ?UPS, vehicles TOT 500 ACT 0 BUF 0)                               \r\n"
     ]
    },
    {
     "name": "stderr",
     "output_type": "stream",
     "text": [
      "Warning: Environment variable SUMO_HOME is not set properly, disabling XML validation. Set 'auto' or 'always' for web lookups.\n",
      " 19%|███████▊                                  | 93/500 [01:01<03:28,  1.96it/s]"
     ]
    },
    {
     "name": "stdout",
     "output_type": "stream",
     "text": [
      "Step #0.00 (0ms ?*RT. ?UPS, vehicles TOT 1 ACT 1 BUF 0)                                   \r",
      "Step #100.00 (1ms ~= 1000.00*RT, ~91000.00UPS, vehicles TOT 144 ACT 91 BUF 356)           \r",
      "Step #200.00 (1ms ~= 1000.00*RT, ~115000.00UPS, vehicles TOT 233 ACT 115 BUF 267)         \r",
      "Step #300.00 (0ms ?*RT. ?UPS, vehicles TOT 296 ACT 115 BUF 204)                           \r",
      "Step #400.00 (1ms ~= 1000.00*RT, ~141000.00UPS, vehicles TOT 386 ACT 141 BUF 114)         \r",
      "Step #500.00 (0ms ?*RT. ?UPS, vehicles TOT 432 ACT 125 BUF 68)                            \r",
      "Step #600.00 (1ms ~= 1000.00*RT, ~129000.00UPS, vehicles TOT 500 ACT 129 BUF 0)           \r",
      "Step #700.00 (0ms ?*RT. ?UPS, vehicles TOT 500 ACT 64 BUF 0)                              \r",
      "Step #782.00 (0ms ?*RT. ?UPS, vehicles TOT 500 ACT 0 BUF 0)                               \r\n"
     ]
    },
    {
     "name": "stderr",
     "output_type": "stream",
     "text": [
      "Warning: Environment variable SUMO_HOME is not set properly, disabling XML validation. Set 'auto' or 'always' for web lookups.\n",
      " 19%|███████▉                                  | 94/500 [01:02<03:56,  1.72it/s]"
     ]
    },
    {
     "name": "stdout",
     "output_type": "stream",
     "text": [
      "Step #0.00 (1ms ~= 1000.00*RT, ~1000.00UPS, vehicles TOT 1 ACT 1 BUF 0)                   \r",
      "Step #100.00 (0ms ?*RT. ?UPS, vehicles TOT 145 ACT 91 BUF 355)                            \r",
      "Step #200.00 (1ms ~= 1000.00*RT, ~138000.00UPS, vehicles TOT 256 ACT 138 BUF 244)         \r",
      "Step #300.00 (1ms ~= 1000.00*RT, ~127000.00UPS, vehicles TOT 307 ACT 127 BUF 193)         \r",
      "Step #400.00 (2ms ~= 500.00*RT, ~62000.00UPS, vehicles TOT 370 ACT 124 BUF 130)           \r",
      "Step #500.00 (1ms ~= 1000.00*RT, ~125000.00UPS, vehicles TOT 437 ACT 125 BUF 63)          \r",
      "Step #600.00 (1ms ~= 1000.00*RT, ~120000.00UPS, vehicles TOT 500 ACT 120 BUF 0)           \r",
      "Step #700.00 (1ms ~= 1000.00*RT, ~51000.00UPS, vehicles TOT 500 ACT 51 BUF 0)             \r",
      "Step #764.00 (0ms ?*RT. ?UPS, vehicles TOT 500 ACT 0 BUF 0)                               \r\n"
     ]
    },
    {
     "name": "stderr",
     "output_type": "stream",
     "text": [
      "Warning: Environment variable SUMO_HOME is not set properly, disabling XML validation. Set 'auto' or 'always' for web lookups.\n",
      " 19%|███████▉                                  | 95/500 [01:03<04:38,  1.45it/s]"
     ]
    },
    {
     "name": "stdout",
     "output_type": "stream",
     "text": [
      "Step #0.00 (0ms ?*RT. ?UPS, vehicles TOT 1 ACT 1 BUF 0)                                   \r",
      "Step #100.00 (1ms ~= 1000.00*RT, ~91000.00UPS, vehicles TOT 147 ACT 91 BUF 353)           \r",
      "Step #200.00 (1ms ~= 1000.00*RT, ~131000.00UPS, vehicles TOT 255 ACT 131 BUF 245)         \r",
      "Step #300.00 (1ms ~= 1000.00*RT, ~135000.00UPS, vehicles TOT 325 ACT 135 BUF 175)         \r",
      "Step #400.00 (1ms ~= 1000.00*RT, ~132000.00UPS, vehicles TOT 383 ACT 132 BUF 117)         \r",
      "Step #500.00 (2ms ~= 500.00*RT, ~69000.00UPS, vehicles TOT 453 ACT 138 BUF 47)            \r",
      "Step #600.00 (1ms ~= 1000.00*RT, ~122000.00UPS, vehicles TOT 500 ACT 122 BUF 0)           \r",
      "Step #700.00 (0ms ?*RT. ?UPS, vehicles TOT 500 ACT 58 BUF 0)                              \r",
      "Step #773.00 (0ms ?*RT. ?UPS, vehicles TOT 500 ACT 0 BUF 0)                               \r\n"
     ]
    },
    {
     "name": "stderr",
     "output_type": "stream",
     "text": [
      "Warning: Environment variable SUMO_HOME is not set properly, disabling XML validation. Set 'auto' or 'always' for web lookups.\n",
      " 19%|████████                                  | 96/500 [01:04<05:09,  1.30it/s]"
     ]
    },
    {
     "name": "stdout",
     "output_type": "stream",
     "text": [
      "Step #0.00 (1ms ~= 1000.00*RT, ~1000.00UPS, vehicles TOT 1 ACT 1 BUF 0)                   \r",
      "Step #100.00 (1ms ~= 1000.00*RT, ~95000.00UPS, vehicles TOT 150 ACT 95 BUF 350)           \r",
      "Step #200.00 (1ms ~= 1000.00*RT, ~134000.00UPS, vehicles TOT 252 ACT 134 BUF 248)         \r",
      "Step #300.00 (1ms ~= 1000.00*RT, ~130000.00UPS, vehicles TOT 310 ACT 130 BUF 190)         \r",
      "Step #400.00 (1ms ~= 1000.00*RT, ~127000.00UPS, vehicles TOT 375 ACT 127 BUF 125)         \r",
      "Step #500.00 (1ms ~= 1000.00*RT, ~111000.00UPS, vehicles TOT 425 ACT 111 BUF 75)          \r",
      "Step #600.00 (1ms ~= 1000.00*RT, ~125000.00UPS, vehicles TOT 500 ACT 125 BUF 0)           \r",
      "Step #700.00 (0ms ?*RT. ?UPS, vehicles TOT 500 ACT 64 BUF 0)                              \r",
      "Step #780.00 (0ms ?*RT. ?UPS, vehicles TOT 500 ACT 0 BUF 0)                               \r\n"
     ]
    },
    {
     "name": "stderr",
     "output_type": "stream",
     "text": [
      "Warning: Environment variable SUMO_HOME is not set properly, disabling XML validation. Set 'auto' or 'always' for web lookups.\n",
      " 19%|████████▏                                 | 97/500 [01:05<05:33,  1.21it/s]"
     ]
    },
    {
     "name": "stdout",
     "output_type": "stream",
     "text": [
      "Step #0.00 (0ms ?*RT. ?UPS, vehicles TOT 1 ACT 1 BUF 0)                                   \r",
      "Step #100.00 (1ms ~= 1000.00*RT, ~95000.00UPS, vehicles TOT 151 ACT 95 BUF 349)           \r",
      "Step #200.00 (1ms ~= 1000.00*RT, ~134000.00UPS, vehicles TOT 252 ACT 134 BUF 248)         \r",
      "Step #300.00 (1ms ~= 1000.00*RT, ~116000.00UPS, vehicles TOT 298 ACT 116 BUF 202)         \r",
      "Step #400.00 (2ms ~= 500.00*RT, ~75500.00UPS, vehicles TOT 396 ACT 151 BUF 104)           \r",
      "Step #500.00 (1ms ~= 1000.00*RT, ~120000.00UPS, vehicles TOT 425 ACT 120 BUF 75)          \r",
      "Step #600.00 (1ms ~= 1000.00*RT, ~129000.00UPS, vehicles TOT 495 ACT 129 BUF 5)           \r",
      "Step #700.00 (1ms ~= 1000.00*RT, ~73000.00UPS, vehicles TOT 500 ACT 73 BUF 0)             \r",
      "Step #797.00 (0ms ?*RT. ?UPS, vehicles TOT 500 ACT 0 BUF 0)                               \r\n"
     ]
    },
    {
     "name": "stderr",
     "output_type": "stream",
     "text": [
      "Warning: Environment variable SUMO_HOME is not set properly, disabling XML validation. Set 'auto' or 'always' for web lookups.\n",
      " 20%|████████▏                                 | 98/500 [01:06<05:42,  1.17it/s]"
     ]
    },
    {
     "name": "stdout",
     "output_type": "stream",
     "text": [
      "Step #0.00 (1ms ~= 1000.00*RT, ~1000.00UPS, vehicles TOT 1 ACT 1 BUF 0)                   \r",
      "Step #100.00 (1ms ~= 1000.00*RT, ~89000.00UPS, vehicles TOT 143 ACT 89 BUF 357)           \r",
      "Step #200.00 (1ms ~= 1000.00*RT, ~133000.00UPS, vehicles TOT 248 ACT 133 BUF 252)         \r",
      "Step #300.00 (1ms ~= 1000.00*RT, ~107000.00UPS, vehicles TOT 288 ACT 107 BUF 212)         \r",
      "Step #400.00 (1ms ~= 1000.00*RT, ~109000.00UPS, vehicles TOT 354 ACT 109 BUF 146)         \r",
      "Step #500.00 (1ms ~= 1000.00*RT, ~111000.00UPS, vehicles TOT 416 ACT 111 BUF 84)          \r",
      "Step #600.00 (1ms ~= 1000.00*RT, ~122000.00UPS, vehicles TOT 491 ACT 122 BUF 9)           \r",
      "Step #700.00 (1ms ~= 1000.00*RT, ~66000.00UPS, vehicles TOT 500 ACT 66 BUF 0)             \r",
      "Step #791.00 (0ms ?*RT. ?UPS, vehicles TOT 500 ACT 0 BUF 0)                               \r\n"
     ]
    },
    {
     "name": "stderr",
     "output_type": "stream",
     "text": [
      "Warning: Environment variable SUMO_HOME is not set properly, disabling XML validation. Set 'auto' or 'always' for web lookups.\n",
      " 20%|████████▎                                 | 99/500 [01:07<05:47,  1.15it/s]"
     ]
    },
    {
     "name": "stdout",
     "output_type": "stream",
     "text": [
      "Step #0.00 (1ms ~= 1000.00*RT, ~1000.00UPS, vehicles TOT 1 ACT 1 BUF 0)                   \r",
      "Step #100.00 (1ms ~= 1000.00*RT, ~91000.00UPS, vehicles TOT 148 ACT 91 BUF 352)           \r",
      "Step #200.00 (2ms ~= 500.00*RT, ~64500.00UPS, vehicles TOT 253 ACT 129 BUF 247)           \r",
      "Step #300.00 (1ms ~= 1000.00*RT, ~110000.00UPS, vehicles TOT 297 ACT 110 BUF 203)         \r",
      "Step #400.00 (1ms ~= 1000.00*RT, ~122000.00UPS, vehicles TOT 372 ACT 122 BUF 128)         \r",
      "Step #500.00 (1ms ~= 1000.00*RT, ~127000.00UPS, vehicles TOT 439 ACT 127 BUF 61)          \r",
      "Step #600.00 (1ms ~= 1000.00*RT, ~126000.00UPS, vehicles TOT 499 ACT 126 BUF 1)           \r",
      "Step #700.00 (1ms ~= 1000.00*RT, ~64000.00UPS, vehicles TOT 500 ACT 64 BUF 0)             \r",
      "Step #785.00 (0ms ?*RT. ?UPS, vehicles TOT 500 ACT 0 BUF 0)                               \r\n"
     ]
    },
    {
     "name": "stderr",
     "output_type": "stream",
     "text": [
      "Warning: Environment variable SUMO_HOME is not set properly, disabling XML validation. Set 'auto' or 'always' for web lookups.\n",
      " 20%|████████▏                                | 100/500 [01:07<05:52,  1.13it/s]"
     ]
    },
    {
     "name": "stdout",
     "output_type": "stream",
     "text": [
      "Step #0.00 (0ms ?*RT. ?UPS, vehicles TOT 1 ACT 1 BUF 0)                                   \r",
      "Step #100.00 (1ms ~= 1000.00*RT, ~87000.00UPS, vehicles TOT 144 ACT 87 BUF 356)           \r",
      "Step #200.00 (1ms ~= 1000.00*RT, ~129000.00UPS, vehicles TOT 250 ACT 129 BUF 250)         \r",
      "Step #300.00 (1ms ~= 1000.00*RT, ~118000.00UPS, vehicles TOT 305 ACT 118 BUF 195)         \r",
      "Step #400.00 (1ms ~= 1000.00*RT, ~126000.00UPS, vehicles TOT 378 ACT 126 BUF 122)         \r",
      "Step #500.00 (1ms ~= 1000.00*RT, ~149000.00UPS, vehicles TOT 464 ACT 149 BUF 36)          \r",
      "Step #600.00 (1ms ~= 1000.00*RT, ~119000.00UPS, vehicles TOT 500 ACT 119 BUF 0)           \r",
      "Step #700.00 (0ms ?*RT. ?UPS, vehicles TOT 500 ACT 53 BUF 0)                              \r",
      "Step #766.00 (0ms ?*RT. ?UPS, vehicles TOT 500 ACT 0 BUF 0)                               \r\n"
     ]
    },
    {
     "name": "stderr",
     "output_type": "stream",
     "text": [
      "Warning: Environment variable SUMO_HOME is not set properly, disabling XML validation. Set 'auto' or 'always' for web lookups.\n",
      " 20%|████████▎                                | 101/500 [01:08<05:52,  1.13it/s]"
     ]
    },
    {
     "name": "stdout",
     "output_type": "stream",
     "text": [
      "Step #0.00 (0ms ?*RT. ?UPS, vehicles TOT 1 ACT 1 BUF 0)                                   \r",
      "Step #100.00 (2ms ~= 500.00*RT, ~42500.00UPS, vehicles TOT 145 ACT 85 BUF 355)            \r",
      "Step #200.00 (1ms ~= 1000.00*RT, ~110000.00UPS, vehicles TOT 239 ACT 110 BUF 261)         \r",
      "Step #300.00 (1ms ~= 1000.00*RT, ~132000.00UPS, vehicles TOT 324 ACT 132 BUF 176)         \r",
      "Step #400.00 (1ms ~= 1000.00*RT, ~105000.00UPS, vehicles TOT 365 ACT 105 BUF 135)         \r",
      "Step #500.00 (2ms ~= 500.00*RT, ~65500.00UPS, vehicles TOT 453 ACT 131 BUF 47)            \r",
      "Step #600.00 (1ms ~= 1000.00*RT, ~112000.00UPS, vehicles TOT 500 ACT 112 BUF 0)           \r",
      "Step #700.00 (0ms ?*RT. ?UPS, vehicles TOT 500 ACT 53 BUF 0)                              \r",
      "Step #769.00 (0ms ?*RT. ?UPS, vehicles TOT 500 ACT 0 BUF 0)                               \r\n"
     ]
    },
    {
     "name": "stderr",
     "output_type": "stream",
     "text": [
      "Warning: Environment variable SUMO_HOME is not set properly, disabling XML validation. Set 'auto' or 'always' for web lookups.\n",
      " 20%|████████▎                                | 102/500 [01:09<05:50,  1.13it/s]"
     ]
    },
    {
     "name": "stdout",
     "output_type": "stream",
     "text": [
      "Step #0.00 (1ms ~= 1000.00*RT, ~1000.00UPS, vehicles TOT 1 ACT 1 BUF 0)                   \r",
      "Step #100.00 (2ms ~= 500.00*RT, ~46500.00UPS, vehicles TOT 148 ACT 93 BUF 352)            \r",
      "Step #200.00 (1ms ~= 1000.00*RT, ~108000.00UPS, vehicles TOT 234 ACT 108 BUF 266)         \r",
      "Step #300.00 (1ms ~= 1000.00*RT, ~113000.00UPS, vehicles TOT 302 ACT 113 BUF 198)         \r",
      "Step #400.00 (1ms ~= 1000.00*RT, ~121000.00UPS, vehicles TOT 374 ACT 121 BUF 126)         \r",
      "Step #500.00 (1ms ~= 1000.00*RT, ~116000.00UPS, vehicles TOT 432 ACT 116 BUF 68)          \r",
      "Step #600.00 (1ms ~= 1000.00*RT, ~121000.00UPS, vehicles TOT 500 ACT 121 BUF 0)           \r",
      "Step #700.00 (1ms ~= 1000.00*RT, ~57000.00UPS, vehicles TOT 500 ACT 57 BUF 0)             \r",
      "Step #773.00 (0ms ?*RT. ?UPS, vehicles TOT 500 ACT 0 BUF 0)                               \r\n"
     ]
    },
    {
     "name": "stderr",
     "output_type": "stream",
     "text": [
      "Warning: Environment variable SUMO_HOME is not set properly, disabling XML validation. Set 'auto' or 'always' for web lookups.\n",
      " 21%|████████▍                                | 103/500 [01:10<05:52,  1.13it/s]"
     ]
    },
    {
     "name": "stdout",
     "output_type": "stream",
     "text": [
      "Step #0.00 (1ms ~= 1000.00*RT, ~1000.00UPS, vehicles TOT 1 ACT 1 BUF 0)                   \r",
      "Step #100.00 (1ms ~= 1000.00*RT, ~90000.00UPS, vehicles TOT 145 ACT 90 BUF 355)           \r",
      "Step #200.00 (1ms ~= 1000.00*RT, ~112000.00UPS, vehicles TOT 229 ACT 112 BUF 271)         \r",
      "Step #300.00 (1ms ~= 1000.00*RT, ~121000.00UPS, vehicles TOT 296 ACT 121 BUF 204)         \r",
      "Step #400.00 (1ms ~= 1000.00*RT, ~126000.00UPS, vehicles TOT 363 ACT 126 BUF 137)         \r",
      "Step #500.00 (1ms ~= 1000.00*RT, ~117000.00UPS, vehicles TOT 416 ACT 117 BUF 84)          \r",
      "Step #600.00 (1ms ~= 1000.00*RT, ~118000.00UPS, vehicles TOT 478 ACT 118 BUF 22)          \r",
      "Step #700.00 (0ms ?*RT. ?UPS, vehicles TOT 500 ACT 72 BUF 0)                              \r",
      "Step #799.00 (0ms ?*RT. ?UPS, vehicles TOT 500 ACT 0 BUF 0)                               \r\n"
     ]
    },
    {
     "name": "stderr",
     "output_type": "stream",
     "text": [
      "Warning: Environment variable SUMO_HOME is not set properly, disabling XML validation. Set 'auto' or 'always' for web lookups.\n",
      " 21%|████████▌                                | 104/500 [01:11<05:55,  1.11it/s]"
     ]
    },
    {
     "name": "stdout",
     "output_type": "stream",
     "text": [
      "Step #0.00 (1ms ~= 1000.00*RT, ~1000.00UPS, vehicles TOT 1 ACT 1 BUF 0)                   \r",
      "Step #100.00 (1ms ~= 1000.00*RT, ~88000.00UPS, vehicles TOT 144 ACT 88 BUF 356)           \r",
      "Step #200.00 (1ms ~= 1000.00*RT, ~131000.00UPS, vehicles TOT 245 ACT 131 BUF 255)         \r",
      "Step #300.00 (1ms ~= 1000.00*RT, ~101000.00UPS, vehicles TOT 278 ACT 101 BUF 222)         \r",
      "Step #400.00 (1ms ~= 1000.00*RT, ~132000.00UPS, vehicles TOT 371 ACT 132 BUF 129)         \r",
      "Step #500.00 (1ms ~= 1000.00*RT, ~120000.00UPS, vehicles TOT 421 ACT 120 BUF 79)          \r",
      "Step #600.00 (1ms ~= 1000.00*RT, ~120000.00UPS, vehicles TOT 485 ACT 120 BUF 15)          \r",
      "Step #700.00 (1ms ~= 1000.00*RT, ~69000.00UPS, vehicles TOT 500 ACT 69 BUF 0)             \r",
      "Step #795.00 (0ms ?*RT. ?UPS, vehicles TOT 500 ACT 0 BUF 0)                               \r\n"
     ]
    },
    {
     "name": "stderr",
     "output_type": "stream",
     "text": [
      "Warning: Environment variable SUMO_HOME is not set properly, disabling XML validation. Set 'auto' or 'always' for web lookups.\n",
      " 21%|████████▌                                | 105/500 [01:12<05:22,  1.22it/s]"
     ]
    },
    {
     "name": "stdout",
     "output_type": "stream",
     "text": [
      "Step #0.00 (0ms ?*RT. ?UPS, vehicles TOT 1 ACT 1 BUF 0)                                   \r",
      "Step #100.00 (1ms ~= 1000.00*RT, ~83000.00UPS, vehicles TOT 140 ACT 83 BUF 360)           \r",
      "Step #200.00 (1ms ~= 1000.00*RT, ~125000.00UPS, vehicles TOT 242 ACT 125 BUF 258)         \r",
      "Step #300.00 (1ms ~= 1000.00*RT, ~104000.00UPS, vehicles TOT 286 ACT 104 BUF 214)         \r",
      "Step #400.00 (1ms ~= 1000.00*RT, ~122000.00UPS, vehicles TOT 366 ACT 122 BUF 134)         \r",
      "Step #500.00 (0ms ?*RT. ?UPS, vehicles TOT 420 ACT 108 BUF 80)                            \r",
      "Step #600.00 (1ms ~= 1000.00*RT, ~126000.00UPS, vehicles TOT 500 ACT 126 BUF 0)           \r",
      "Step #700.00 (1ms ~= 1000.00*RT, ~57000.00UPS, vehicles TOT 500 ACT 57 BUF 0)             \r",
      "Step #773.00 (0ms ?*RT. ?UPS, vehicles TOT 500 ACT 0 BUF 0)                               \r\n"
     ]
    },
    {
     "name": "stderr",
     "output_type": "stream",
     "text": [
      "Warning: Environment variable SUMO_HOME is not set properly, disabling XML validation. Set 'auto' or 'always' for web lookups.\n",
      " 21%|████████▋                                | 106/500 [01:12<04:49,  1.36it/s]"
     ]
    },
    {
     "name": "stdout",
     "output_type": "stream",
     "text": [
      "Step #0.00 (0ms ?*RT. ?UPS, vehicles TOT 1 ACT 1 BUF 0)                                   \r",
      "Step #100.00 (0ms ?*RT. ?UPS, vehicles TOT 146 ACT 90 BUF 354)                            \r",
      "Step #200.00 (1ms ~= 1000.00*RT, ~108000.00UPS, vehicles TOT 223 ACT 108 BUF 277)         \r",
      "Step #300.00 (0ms ?*RT. ?UPS, vehicles TOT 293 ACT 120 BUF 207)                           \r",
      "Step #400.00 (0ms ?*RT. ?UPS, vehicles TOT 353 ACT 115 BUF 147)                           \r",
      "Step #500.00 (0ms ?*RT. ?UPS, vehicles TOT 435 ACT 131 BUF 65)                            \r",
      "Step #600.00 (0ms ?*RT. ?UPS, vehicles TOT 481 ACT 111 BUF 19)                            \r",
      "Step #700.00 (1ms ~= 1000.00*RT, ~66000.00UPS, vehicles TOT 500 ACT 66 BUF 0)             \r",
      "Step #789.00 (0ms ?*RT. ?UPS, vehicles TOT 500 ACT 0 BUF 0)                               \r\n"
     ]
    },
    {
     "name": "stderr",
     "output_type": "stream",
     "text": [
      "Warning: Environment variable SUMO_HOME is not set properly, disabling XML validation. Set 'auto' or 'always' for web lookups.\n",
      " 21%|████████▊                                | 107/500 [01:13<04:26,  1.47it/s]"
     ]
    },
    {
     "name": "stdout",
     "output_type": "stream",
     "text": [
      "Step #0.00 (1ms ~= 1000.00*RT, ~1000.00UPS, vehicles TOT 1 ACT 1 BUF 0)                   \r",
      "Step #100.00 (1ms ~= 1000.00*RT, ~92000.00UPS, vehicles TOT 147 ACT 92 BUF 353)           \r",
      "Step #200.00 (1ms ~= 1000.00*RT, ~139000.00UPS, vehicles TOT 254 ACT 139 BUF 246)         \r",
      "Step #300.00 (1ms ~= 1000.00*RT, ~140000.00UPS, vehicles TOT 322 ACT 140 BUF 178)         \r",
      "Step #400.00 (1ms ~= 1000.00*RT, ~107000.00UPS, vehicles TOT 352 ACT 107 BUF 148)         \r",
      "Step #500.00 (0ms ?*RT. ?UPS, vehicles TOT 430 ACT 120 BUF 70)                            \r",
      "Step #600.00 (1ms ~= 1000.00*RT, ~124000.00UPS, vehicles TOT 497 ACT 124 BUF 3)           \r",
      "Step #700.00 (1ms ~= 1000.00*RT, ~62000.00UPS, vehicles TOT 500 ACT 62 BUF 0)             \r",
      "Step #783.00 (0ms ?*RT. ?UPS, vehicles TOT 500 ACT 0 BUF 0)                               \r\n"
     ]
    },
    {
     "name": "stderr",
     "output_type": "stream",
     "text": [
      "Warning: Environment variable SUMO_HOME is not set properly, disabling XML validation. Set 'auto' or 'always' for web lookups.\n",
      " 22%|████████▊                                | 108/500 [01:13<04:10,  1.56it/s]"
     ]
    },
    {
     "name": "stdout",
     "output_type": "stream",
     "text": [
      "Step #0.00 (0ms ?*RT. ?UPS, vehicles TOT 1 ACT 1 BUF 0)                                   \r",
      "Step #100.00 (1ms ~= 1000.00*RT, ~92000.00UPS, vehicles TOT 146 ACT 92 BUF 354)           \r",
      "Step #200.00 (1ms ~= 1000.00*RT, ~133000.00UPS, vehicles TOT 251 ACT 133 BUF 249)         \r",
      "Step #300.00 (0ms ?*RT. ?UPS, vehicles TOT 290 ACT 107 BUF 210)                           \r",
      "Step #400.00 (0ms ?*RT. ?UPS, vehicles TOT 370 ACT 116 BUF 130)                           \r",
      "Step #500.00 (1ms ~= 1000.00*RT, ~140000.00UPS, vehicles TOT 457 ACT 140 BUF 43)          \r",
      "Step #600.00 (0ms ?*RT. ?UPS, vehicles TOT 500 ACT 119 BUF 0)                             \r",
      "Step #700.00 (0ms ?*RT. ?UPS, vehicles TOT 500 ACT 58 BUF 0)                              \r",
      "Step #779.00 (0ms ?*RT. ?UPS, vehicles TOT 500 ACT 0 BUF 0)                               \r\n"
     ]
    },
    {
     "name": "stderr",
     "output_type": "stream",
     "text": [
      "Warning: Environment variable SUMO_HOME is not set properly, disabling XML validation. Set 'auto' or 'always' for web lookups.\n",
      " 22%|████████▉                                | 109/500 [01:14<03:56,  1.65it/s]"
     ]
    },
    {
     "name": "stdout",
     "output_type": "stream",
     "text": [
      "Step #0.00 (0ms ?*RT. ?UPS, vehicles TOT 1 ACT 1 BUF 0)                                   \r",
      "Step #100.00 (1ms ~= 1000.00*RT, ~91000.00UPS, vehicles TOT 144 ACT 91 BUF 356)           \r",
      "Step #200.00 (0ms ?*RT. ?UPS, vehicles TOT 238 ACT 112 BUF 262)                           \r",
      "Step #300.00 (1ms ~= 1000.00*RT, ~106000.00UPS, vehicles TOT 293 ACT 106 BUF 207)         \r",
      "Step #400.00 (1ms ~= 1000.00*RT, ~133000.00UPS, vehicles TOT 386 ACT 133 BUF 114)         \r",
      "Step #500.00 (1ms ~= 1000.00*RT, ~108000.00UPS, vehicles TOT 423 ACT 108 BUF 77)          \r",
      "Step #600.00 (1ms ~= 1000.00*RT, ~121000.00UPS, vehicles TOT 497 ACT 121 BUF 3)           \r",
      "Step #700.00 (1ms ~= 1000.00*RT, ~61000.00UPS, vehicles TOT 500 ACT 61 BUF 0)             \r",
      "Step #786.00 (0ms ?*RT. ?UPS, vehicles TOT 500 ACT 0 BUF 0)                               \r\n"
     ]
    },
    {
     "name": "stderr",
     "output_type": "stream",
     "text": [
      "Warning: Environment variable SUMO_HOME is not set properly, disabling XML validation. Set 'auto' or 'always' for web lookups.\n",
      " 22%|█████████                                | 110/500 [01:14<03:43,  1.74it/s]"
     ]
    },
    {
     "name": "stdout",
     "output_type": "stream",
     "text": [
      "Step #0.00 (0ms ?*RT. ?UPS, vehicles TOT 1 ACT 1 BUF 0)                                   \r",
      "Step #100.00 (1ms ~= 1000.00*RT, ~88000.00UPS, vehicles TOT 144 ACT 88 BUF 356)           \r",
      "Step #200.00 (1ms ~= 1000.00*RT, ~125000.00UPS, vehicles TOT 242 ACT 125 BUF 258)         \r",
      "Step #300.00 (0ms ?*RT. ?UPS, vehicles TOT 290 ACT 106 BUF 210)                           \r",
      "Step #400.00 (1ms ~= 1000.00*RT, ~117000.00UPS, vehicles TOT 370 ACT 117 BUF 130)         \r",
      "Step #500.00 (1ms ~= 1000.00*RT, ~130000.00UPS, vehicles TOT 454 ACT 130 BUF 46)          \r",
      "Step #600.00 (1ms ~= 1000.00*RT, ~107000.00UPS, vehicles TOT 496 ACT 107 BUF 4)           \r",
      "Step #700.00 (0ms ?*RT. ?UPS, vehicles TOT 500 ACT 49 BUF 0)                              \r",
      "Step #763.00 (0ms ?*RT. ?UPS, vehicles TOT 500 ACT 0 BUF 0)                               \r\n"
     ]
    },
    {
     "name": "stderr",
     "output_type": "stream",
     "text": [
      "Warning: Environment variable SUMO_HOME is not set properly, disabling XML validation. Set 'auto' or 'always' for web lookups.\n",
      " 22%|█████████                                | 111/500 [01:15<03:38,  1.78it/s]"
     ]
    },
    {
     "name": "stdout",
     "output_type": "stream",
     "text": [
      "Step #0.00 (1ms ~= 1000.00*RT, ~1000.00UPS, vehicles TOT 1 ACT 1 BUF 0)                   \r",
      "Step #100.00 (1ms ~= 1000.00*RT, ~89000.00UPS, vehicles TOT 144 ACT 89 BUF 356)           \r",
      "Step #200.00 (1ms ~= 1000.00*RT, ~122000.00UPS, vehicles TOT 240 ACT 122 BUF 260)         \r",
      "Step #300.00 (1ms ~= 1000.00*RT, ~122000.00UPS, vehicles TOT 304 ACT 122 BUF 196)         \r",
      "Step #400.00 (0ms ?*RT. ?UPS, vehicles TOT 366 ACT 121 BUF 134)                           \r",
      "Step #500.00 (1ms ~= 1000.00*RT, ~139000.00UPS, vehicles TOT 450 ACT 139 BUF 50)          \r",
      "Step #600.00 (0ms ?*RT. ?UPS, vehicles TOT 488 ACT 116 BUF 12)                            \r",
      "Step #700.00 (0ms ?*RT. ?UPS, vehicles TOT 500 ACT 64 BUF 0)                              \r",
      "Step #786.00 (0ms ?*RT. ?UPS, vehicles TOT 500 ACT 0 BUF 0)                               \r\n"
     ]
    },
    {
     "name": "stderr",
     "output_type": "stream",
     "text": [
      "Warning: Environment variable SUMO_HOME is not set properly, disabling XML validation. Set 'auto' or 'always' for web lookups.\n",
      " 22%|█████████▏                               | 112/500 [01:15<03:38,  1.77it/s]"
     ]
    },
    {
     "name": "stdout",
     "output_type": "stream",
     "text": [
      "Step #0.00 (0ms ?*RT. ?UPS, vehicles TOT 1 ACT 1 BUF 0)                                   \r",
      "Step #100.00 (1ms ~= 1000.00*RT, ~90000.00UPS, vehicles TOT 146 ACT 90 BUF 354)           \r",
      "Step #200.00 (1ms ~= 1000.00*RT, ~128000.00UPS, vehicles TOT 247 ACT 128 BUF 253)         \r",
      "Step #300.00 (1ms ~= 1000.00*RT, ~127000.00UPS, vehicles TOT 306 ACT 127 BUF 194)         \r",
      "Step #400.00 (1ms ~= 1000.00*RT, ~148000.00UPS, vehicles TOT 395 ACT 148 BUF 105)         \r",
      "Step #500.00 (0ms ?*RT. ?UPS, vehicles TOT 445 ACT 133 BUF 55)                            \r",
      "Step #600.00 (1ms ~= 1000.00*RT, ~116000.00UPS, vehicles TOT 493 ACT 116 BUF 7)           \r",
      "Step #700.00 (1ms ~= 1000.00*RT, ~62000.00UPS, vehicles TOT 500 ACT 62 BUF 0)             \r",
      "Step #782.00 (0ms ?*RT. ?UPS, vehicles TOT 500 ACT 0 BUF 0)                               \r\n"
     ]
    },
    {
     "name": "stderr",
     "output_type": "stream",
     "text": [
      "Warning: Environment variable SUMO_HOME is not set properly, disabling XML validation. Set 'auto' or 'always' for web lookups.\n",
      " 23%|█████████▎                               | 113/500 [01:16<03:37,  1.78it/s]"
     ]
    },
    {
     "name": "stdout",
     "output_type": "stream",
     "text": [
      "Step #0.00 (0ms ?*RT. ?UPS, vehicles TOT 1 ACT 1 BUF 0)                                   \r",
      "Step #100.00 (1ms ~= 1000.00*RT, ~87000.00UPS, vehicles TOT 147 ACT 87 BUF 353)           \r",
      "Step #200.00 (1ms ~= 1000.00*RT, ~122000.00UPS, vehicles TOT 247 ACT 122 BUF 253)         \r",
      "Step #300.00 (0ms ?*RT. ?UPS, vehicles TOT 306 ACT 115 BUF 194)                           \r",
      "Step #400.00 (0ms ?*RT. ?UPS, vehicles TOT 366 ACT 112 BUF 134)                           \r",
      "Step #500.00 (1ms ~= 1000.00*RT, ~113000.00UPS, vehicles TOT 428 ACT 113 BUF 72)          \r",
      "Step #600.00 (0ms ?*RT. ?UPS, vehicles TOT 494 ACT 119 BUF 6)                             \r",
      "Step #700.00 (0ms ?*RT. ?UPS, vehicles TOT 500 ACT 56 BUF 0)                              \r",
      "Step #774.00 (0ms ?*RT. ?UPS, vehicles TOT 500 ACT 0 BUF 0)                               \r\n"
     ]
    },
    {
     "name": "stderr",
     "output_type": "stream",
     "text": [
      "Warning: Environment variable SUMO_HOME is not set properly, disabling XML validation. Set 'auto' or 'always' for web lookups.\n",
      " 23%|█████████▎                               | 114/500 [01:17<03:33,  1.80it/s]"
     ]
    },
    {
     "name": "stdout",
     "output_type": "stream",
     "text": [
      "Step #0.00 (1ms ~= 1000.00*RT, ~1000.00UPS, vehicles TOT 1 ACT 1 BUF 0)                   \r",
      "Step #100.00 (1ms ~= 1000.00*RT, ~91000.00UPS, vehicles TOT 145 ACT 91 BUF 355)           \r",
      "Step #200.00 (0ms ?*RT. ?UPS, vehicles TOT 247 ACT 135 BUF 253)                           \r",
      "Step #300.00 (1ms ~= 1000.00*RT, ~122000.00UPS, vehicles TOT 298 ACT 122 BUF 202)         \r",
      "Step #400.00 (1ms ~= 1000.00*RT, ~124000.00UPS, vehicles TOT 362 ACT 124 BUF 138)         \r",
      "Step #500.00 (1ms ~= 1000.00*RT, ~98000.00UPS, vehicles TOT 401 ACT 98 BUF 99)            \r",
      "Step #600.00 (1ms ~= 1000.00*RT, ~135000.00UPS, vehicles TOT 498 ACT 135 BUF 2)           \r",
      "Step #700.00 (1ms ~= 1000.00*RT, ~74000.00UPS, vehicles TOT 500 ACT 74 BUF 0)             \r",
      "Step #800.00 (0ms ?*RT. ?UPS, vehicles TOT 500 ACT 1 BUF 0)                               \r",
      "Step #803.00 (0ms ?*RT. ?UPS, vehicles TOT 500 ACT 0 BUF 0)                               \r\n"
     ]
    },
    {
     "name": "stderr",
     "output_type": "stream",
     "text": [
      "Warning: Environment variable SUMO_HOME is not set properly, disabling XML validation. Set 'auto' or 'always' for web lookups.\n",
      " 23%|█████████▍                               | 115/500 [01:17<03:28,  1.85it/s]"
     ]
    },
    {
     "name": "stdout",
     "output_type": "stream",
     "text": [
      "Step #0.00 (0ms ?*RT. ?UPS, vehicles TOT 1 ACT 1 BUF 0)                                   \r",
      "Step #100.00 (0ms ?*RT. ?UPS, vehicles TOT 143 ACT 88 BUF 357)                            \r",
      "Step #200.00 (0ms ?*RT. ?UPS, vehicles TOT 222 ACT 101 BUF 278)                           \r",
      "Step #300.00 (1ms ~= 1000.00*RT, ~117000.00UPS, vehicles TOT 298 ACT 117 BUF 202)         \r",
      "Step #400.00 (1ms ~= 1000.00*RT, ~113000.00UPS, vehicles TOT 366 ACT 113 BUF 134)         \r",
      "Step #500.00 (1ms ~= 1000.00*RT, ~145000.00UPS, vehicles TOT 462 ACT 145 BUF 38)          \r",
      "Step #600.00 (1ms ~= 1000.00*RT, ~113000.00UPS, vehicles TOT 492 ACT 113 BUF 8)           \r",
      "Step #700.00 (0ms ?*RT. ?UPS, vehicles TOT 500 ACT 58 BUF 0)                              \r",
      "Step #774.00 (0ms ?*RT. ?UPS, vehicles TOT 500 ACT 0 BUF 0)                               \r\n"
     ]
    },
    {
     "name": "stderr",
     "output_type": "stream",
     "text": [
      "Warning: Environment variable SUMO_HOME is not set properly, disabling XML validation. Set 'auto' or 'always' for web lookups.\n",
      " 23%|█████████▌                               | 116/500 [01:18<03:23,  1.89it/s]"
     ]
    },
    {
     "name": "stdout",
     "output_type": "stream",
     "text": [
      "Step #0.00 (0ms ?*RT. ?UPS, vehicles TOT 1 ACT 1 BUF 0)                                   \r",
      "Step #100.00 (1ms ~= 1000.00*RT, ~91000.00UPS, vehicles TOT 147 ACT 91 BUF 353)           \r",
      "Step #200.00 (1ms ~= 1000.00*RT, ~118000.00UPS, vehicles TOT 240 ACT 118 BUF 260)         \r",
      "Step #300.00 (1ms ~= 1000.00*RT, ~117000.00UPS, vehicles TOT 309 ACT 117 BUF 191)         \r",
      "Step #400.00 (1ms ~= 1000.00*RT, ~104000.00UPS, vehicles TOT 357 ACT 104 BUF 143)         \r",
      "Step #500.00 (0ms ?*RT. ?UPS, vehicles TOT 440 ACT 125 BUF 60)                            \r",
      "Step #600.00 (0ms ?*RT. ?UPS, vehicles TOT 490 ACT 110 BUF 10)                            \r",
      "Step #700.00 (1ms ~= 1000.00*RT, ~50000.00UPS, vehicles TOT 500 ACT 50 BUF 0)             \r",
      "Step #766.00 (0ms ?*RT. ?UPS, vehicles TOT 500 ACT 0 BUF 0)                               \r\n"
     ]
    },
    {
     "name": "stderr",
     "output_type": "stream",
     "text": [
      "Warning: Environment variable SUMO_HOME is not set properly, disabling XML validation. Set 'auto' or 'always' for web lookups.\n",
      " 23%|█████████▌                               | 117/500 [01:18<03:20,  1.91it/s]"
     ]
    },
    {
     "name": "stdout",
     "output_type": "stream",
     "text": [
      "Step #0.00 (0ms ?*RT. ?UPS, vehicles TOT 1 ACT 1 BUF 0)                                   \r",
      "Step #100.00 (1ms ~= 1000.00*RT, ~89000.00UPS, vehicles TOT 143 ACT 89 BUF 357)           \r",
      "Step #200.00 (1ms ~= 1000.00*RT, ~127000.00UPS, vehicles TOT 241 ACT 127 BUF 259)         \r",
      "Step #300.00 (0ms ?*RT. ?UPS, vehicles TOT 319 ACT 145 BUF 181)                           \r",
      "Step #400.00 (1ms ~= 1000.00*RT, ~106000.00UPS, vehicles TOT 346 ACT 106 BUF 154)         \r",
      "Step #500.00 (1ms ~= 1000.00*RT, ~100000.00UPS, vehicles TOT 399 ACT 100 BUF 101)         \r",
      "Step #600.00 (1ms ~= 1000.00*RT, ~108000.00UPS, vehicles TOT 471 ACT 108 BUF 29)          \r",
      "Step #700.00 (0ms ?*RT. ?UPS, vehicles TOT 500 ACT 74 BUF 0)                              \r",
      "Step #800.00 (1ms ~= 1000.00*RT, ~1000.00UPS, vehicles TOT 500 ACT 1 BUF 0)               \r",
      "Step #802.00 (0ms ?*RT. ?UPS, vehicles TOT 500 ACT 0 BUF 0)                               \r\n"
     ]
    },
    {
     "name": "stderr",
     "output_type": "stream",
     "text": [
      "Warning: Environment variable SUMO_HOME is not set properly, disabling XML validation. Set 'auto' or 'always' for web lookups.\n",
      " 24%|█████████▋                               | 118/500 [01:19<03:20,  1.91it/s]"
     ]
    },
    {
     "name": "stdout",
     "output_type": "stream",
     "text": [
      "Step #0.00 (0ms ?*RT. ?UPS, vehicles TOT 1 ACT 1 BUF 0)                                   \r",
      "Step #100.00 (0ms ?*RT. ?UPS, vehicles TOT 142 ACT 86 BUF 358)                            \r",
      "Step #200.00 (1ms ~= 1000.00*RT, ~128000.00UPS, vehicles TOT 248 ACT 128 BUF 252)         \r",
      "Step #300.00 (1ms ~= 1000.00*RT, ~126000.00UPS, vehicles TOT 315 ACT 126 BUF 185)         \r",
      "Step #400.00 (1ms ~= 1000.00*RT, ~107000.00UPS, vehicles TOT 360 ACT 107 BUF 140)         \r",
      "Step #500.00 (0ms ?*RT. ?UPS, vehicles TOT 454 ACT 142 BUF 46)                            \r",
      "Step #600.00 (0ms ?*RT. ?UPS, vehicles TOT 491 ACT 115 BUF 9)                             \r",
      "Step #700.00 (0ms ?*RT. ?UPS, vehicles TOT 500 ACT 61 BUF 0)                              \r",
      "Step #781.00 (0ms ?*RT. ?UPS, vehicles TOT 500 ACT 0 BUF 0)                               \r\n"
     ]
    },
    {
     "name": "stderr",
     "output_type": "stream",
     "text": [
      "Warning: Environment variable SUMO_HOME is not set properly, disabling XML validation. Set 'auto' or 'always' for web lookups.\n",
      " 24%|█████████▊                               | 119/500 [01:19<03:20,  1.90it/s]"
     ]
    },
    {
     "name": "stdout",
     "output_type": "stream",
     "text": [
      "Step #0.00 (0ms ?*RT. ?UPS, vehicles TOT 1 ACT 1 BUF 0)                                   \r",
      "Step #100.00 (0ms ?*RT. ?UPS, vehicles TOT 141 ACT 85 BUF 359)                            \r",
      "Step #200.00 (0ms ?*RT. ?UPS, vehicles TOT 238 ACT 122 BUF 262)                           \r",
      "Step #300.00 (1ms ~= 1000.00*RT, ~94000.00UPS, vehicles TOT 271 ACT 94 BUF 229)           \r",
      "Step #400.00 (0ms ?*RT. ?UPS, vehicles TOT 367 ACT 127 BUF 133)                           \r",
      "Step #500.00 (1ms ~= 1000.00*RT, ~134000.00UPS, vehicles TOT 440 ACT 134 BUF 60)          \r",
      "Step #600.00 (1ms ~= 1000.00*RT, ~104000.00UPS, vehicles TOT 470 ACT 104 BUF 30)          \r",
      "Step #700.00 (1ms ~= 1000.00*RT, ~73000.00UPS, vehicles TOT 500 ACT 73 BUF 0)             \r",
      "Step #797.00 (0ms ?*RT. ?UPS, vehicles TOT 500 ACT 0 BUF 0)                               \r\n"
     ]
    },
    {
     "name": "stderr",
     "output_type": "stream",
     "text": [
      "Warning: Environment variable SUMO_HOME is not set properly, disabling XML validation. Set 'auto' or 'always' for web lookups.\n",
      " 24%|█████████▊                               | 120/500 [01:20<03:41,  1.72it/s]"
     ]
    },
    {
     "name": "stdout",
     "output_type": "stream",
     "text": [
      "Step #0.00 (0ms ?*RT. ?UPS, vehicles TOT 1 ACT 1 BUF 0)                                   \r",
      "Step #100.00 (1ms ~= 1000.00*RT, ~90000.00UPS, vehicles TOT 146 ACT 90 BUF 354)           \r",
      "Step #200.00 (1ms ~= 1000.00*RT, ~114000.00UPS, vehicles TOT 229 ACT 114 BUF 271)         \r",
      "Step #300.00 (1ms ~= 1000.00*RT, ~116000.00UPS, vehicles TOT 297 ACT 116 BUF 203)         \r",
      "Step #400.00 (1ms ~= 1000.00*RT, ~112000.00UPS, vehicles TOT 359 ACT 112 BUF 141)         \r",
      "Step #500.00 (1ms ~= 1000.00*RT, ~110000.00UPS, vehicles TOT 423 ACT 110 BUF 77)          \r",
      "Step #600.00 (1ms ~= 1000.00*RT, ~124000.00UPS, vehicles TOT 500 ACT 124 BUF 0)           \r",
      "Step #700.00 (0ms ?*RT. ?UPS, vehicles TOT 500 ACT 60 BUF 0)                              \r",
      "Step #777.00 (0ms ?*RT. ?UPS, vehicles TOT 500 ACT 0 BUF 0)                               \r\n"
     ]
    },
    {
     "name": "stderr",
     "output_type": "stream",
     "text": [
      "Warning: Environment variable SUMO_HOME is not set properly, disabling XML validation. Set 'auto' or 'always' for web lookups.\n",
      " 24%|█████████▉                               | 121/500 [01:21<04:15,  1.48it/s]"
     ]
    },
    {
     "name": "stdout",
     "output_type": "stream",
     "text": [
      "Step #0.00 (1ms ~= 1000.00*RT, ~1000.00UPS, vehicles TOT 1 ACT 1 BUF 0)                   \r",
      "Step #100.00 (1ms ~= 1000.00*RT, ~87000.00UPS, vehicles TOT 141 ACT 87 BUF 359)           \r",
      "Step #200.00 (1ms ~= 1000.00*RT, ~125000.00UPS, vehicles TOT 239 ACT 125 BUF 261)         \r",
      "Step #300.00 (2ms ~= 500.00*RT, ~59000.00UPS, vehicles TOT 302 ACT 118 BUF 198)           \r",
      "Step #400.00 (2ms ~= 500.00*RT, ~60000.00UPS, vehicles TOT 361 ACT 120 BUF 139)           \r",
      "Step #500.00 (1ms ~= 1000.00*RT, ~111000.00UPS, vehicles TOT 420 ACT 111 BUF 80)          \r",
      "Step #600.00 (1ms ~= 1000.00*RT, ~122000.00UPS, vehicles TOT 498 ACT 122 BUF 2)           \r",
      "Step #700.00 (0ms ?*RT. ?UPS, vehicles TOT 500 ACT 62 BUF 0)                              \r",
      "Step #786.00 (0ms ?*RT. ?UPS, vehicles TOT 500 ACT 0 BUF 0)                               \r\n"
     ]
    },
    {
     "name": "stderr",
     "output_type": "stream",
     "text": [
      "Warning: Environment variable SUMO_HOME is not set properly, disabling XML validation. Set 'auto' or 'always' for web lookups.\n",
      " 24%|██████████                               | 122/500 [01:22<04:40,  1.35it/s]"
     ]
    },
    {
     "name": "stdout",
     "output_type": "stream",
     "text": [
      "Step #0.00 (0ms ?*RT. ?UPS, vehicles TOT 1 ACT 1 BUF 0)                                   \r",
      "Step #100.00 (2ms ~= 500.00*RT, ~46000.00UPS, vehicles TOT 146 ACT 92 BUF 354)            \r",
      "Step #200.00 (1ms ~= 1000.00*RT, ~120000.00UPS, vehicles TOT 237 ACT 120 BUF 263)         \r",
      "Step #300.00 (1ms ~= 1000.00*RT, ~124000.00UPS, vehicles TOT 307 ACT 124 BUF 193)         \r",
      "Step #400.00 (1ms ~= 1000.00*RT, ~149000.00UPS, vehicles TOT 389 ACT 149 BUF 111)         \r",
      "Step #500.00 (1ms ~= 1000.00*RT, ~113000.00UPS, vehicles TOT 426 ACT 113 BUF 74)          \r",
      "Step #600.00 (1ms ~= 1000.00*RT, ~117000.00UPS, vehicles TOT 499 ACT 117 BUF 1)           \r",
      "Step #700.00 (1ms ~= 1000.00*RT, ~51000.00UPS, vehicles TOT 500 ACT 51 BUF 0)             \r",
      "Step #772.00 (0ms ?*RT. ?UPS, vehicles TOT 500 ACT 0 BUF 0)                               \r\n"
     ]
    },
    {
     "name": "stderr",
     "output_type": "stream",
     "text": [
      "Warning: Environment variable SUMO_HOME is not set properly, disabling XML validation. Set 'auto' or 'always' for web lookups.\n",
      " 25%|██████████                               | 123/500 [01:22<04:52,  1.29it/s]"
     ]
    },
    {
     "name": "stdout",
     "output_type": "stream",
     "text": [
      "Step #0.00 (1ms ~= 1000.00*RT, ~1000.00UPS, vehicles TOT 1 ACT 1 BUF 0)                   \r",
      "Step #100.00 (1ms ~= 1000.00*RT, ~85000.00UPS, vehicles TOT 142 ACT 85 BUF 358)           \r",
      "Step #200.00 (1ms ~= 1000.00*RT, ~114000.00UPS, vehicles TOT 235 ACT 114 BUF 265)         \r",
      "Step #300.00 (1ms ~= 1000.00*RT, ~106000.00UPS, vehicles TOT 289 ACT 106 BUF 211)         \r",
      "Step #400.00 (1ms ~= 1000.00*RT, ~113000.00UPS, vehicles TOT 360 ACT 113 BUF 140)         \r",
      "Step #500.00 (1ms ~= 1000.00*RT, ~120000.00UPS, vehicles TOT 434 ACT 120 BUF 66)          \r",
      "Step #600.00 (1ms ~= 1000.00*RT, ~105000.00UPS, vehicles TOT 481 ACT 105 BUF 19)          \r",
      "Step #700.00 (0ms ?*RT. ?UPS, vehicles TOT 500 ACT 58 BUF 0)                              \r",
      "Step #779.00 (0ms ?*RT. ?UPS, vehicles TOT 500 ACT 0 BUF 0)                               \r\n"
     ]
    },
    {
     "name": "stderr",
     "output_type": "stream",
     "text": [
      "Warning: Environment variable SUMO_HOME is not set properly, disabling XML validation. Set 'auto' or 'always' for web lookups.\n",
      " 25%|██████████▏                              | 124/500 [01:23<05:03,  1.24it/s]"
     ]
    },
    {
     "name": "stdout",
     "output_type": "stream",
     "text": [
      "Step #0.00 (0ms ?*RT. ?UPS, vehicles TOT 1 ACT 1 BUF 0)                                   \r",
      "Step #100.00 (1ms ~= 1000.00*RT, ~82000.00UPS, vehicles TOT 137 ACT 82 BUF 363)           \r",
      "Step #200.00 (1ms ~= 1000.00*RT, ~120000.00UPS, vehicles TOT 238 ACT 120 BUF 262)         \r",
      "Step #300.00 (1ms ~= 1000.00*RT, ~102000.00UPS, vehicles TOT 286 ACT 102 BUF 214)         \r",
      "Step #400.00 (1ms ~= 1000.00*RT, ~122000.00UPS, vehicles TOT 370 ACT 122 BUF 130)         \r",
      "Step #500.00 (1ms ~= 1000.00*RT, ~120000.00UPS, vehicles TOT 433 ACT 120 BUF 67)          \r",
      "Step #600.00 (1ms ~= 1000.00*RT, ~107000.00UPS, vehicles TOT 486 ACT 107 BUF 14)          \r",
      "Step #700.00 (1ms ~= 1000.00*RT, ~54000.00UPS, vehicles TOT 500 ACT 54 BUF 0)             \r",
      "Step #771.00 (0ms ?*RT. ?UPS, vehicles TOT 500 ACT 0 BUF 0)                               \r\n"
     ]
    },
    {
     "name": "stderr",
     "output_type": "stream",
     "text": [
      "Warning: Environment variable SUMO_HOME is not set properly, disabling XML validation. Set 'auto' or 'always' for web lookups.\n",
      " 25%|██████████▎                              | 125/500 [01:24<05:13,  1.20it/s]"
     ]
    },
    {
     "name": "stdout",
     "output_type": "stream",
     "text": [
      "Step #0.00 (1ms ~= 1000.00*RT, ~1000.00UPS, vehicles TOT 1 ACT 1 BUF 0)                   \r",
      "Step #100.00 (1ms ~= 1000.00*RT, ~88000.00UPS, vehicles TOT 145 ACT 88 BUF 355)           \r",
      "Step #200.00 (1ms ~= 1000.00*RT, ~124000.00UPS, vehicles TOT 243 ACT 124 BUF 257)         \r",
      "Step #300.00 (1ms ~= 1000.00*RT, ~103000.00UPS, vehicles TOT 287 ACT 103 BUF 213)         \r",
      "Step #400.00 (1ms ~= 1000.00*RT, ~136000.00UPS, vehicles TOT 380 ACT 136 BUF 120)         \r",
      "Step #500.00 (1ms ~= 1000.00*RT, ~117000.00UPS, vehicles TOT 426 ACT 117 BUF 74)          \r",
      "Step #600.00 (2ms ~= 500.00*RT, ~62500.00UPS, vehicles TOT 492 ACT 125 BUF 8)             \r",
      "Step #700.00 (1ms ~= 1000.00*RT, ~73000.00UPS, vehicles TOT 500 ACT 73 BUF 0)             \r",
      "Step #799.00 (0ms ?*RT. ?UPS, vehicles TOT 500 ACT 0 BUF 0)                               \r\n"
     ]
    },
    {
     "name": "stderr",
     "output_type": "stream",
     "text": [
      "Warning: Environment variable SUMO_HOME is not set properly, disabling XML validation. Set 'auto' or 'always' for web lookups.\n",
      " 25%|██████████▎                              | 126/500 [01:25<05:16,  1.18it/s]"
     ]
    },
    {
     "name": "stdout",
     "output_type": "stream",
     "text": [
      "Step #0.00 (0ms ?*RT. ?UPS, vehicles TOT 1 ACT 1 BUF 0)                                   \r",
      "Step #100.00 (1ms ~= 1000.00*RT, ~88000.00UPS, vehicles TOT 142 ACT 88 BUF 358)           \r",
      "Step #200.00 (1ms ~= 1000.00*RT, ~113000.00UPS, vehicles TOT 236 ACT 113 BUF 264)         \r",
      "Step #300.00 (1ms ~= 1000.00*RT, ~125000.00UPS, vehicles TOT 311 ACT 125 BUF 189)         \r",
      "Step #400.00 (2ms ~= 500.00*RT, ~55000.00UPS, vehicles TOT 358 ACT 110 BUF 142)           \r",
      "Step #500.00 (1ms ~= 1000.00*RT, ~104000.00UPS, vehicles TOT 421 ACT 104 BUF 79)          \r",
      "Step #600.00 (1ms ~= 1000.00*RT, ~119000.00UPS, vehicles TOT 500 ACT 119 BUF 0)           \r",
      "Step #700.00 (0ms ?*RT. ?UPS, vehicles TOT 500 ACT 59 BUF 0)                              \r",
      "Step #779.00 (0ms ?*RT. ?UPS, vehicles TOT 500 ACT 0 BUF 0)                               \r\n"
     ]
    },
    {
     "name": "stderr",
     "output_type": "stream",
     "text": [
      "Warning: Environment variable SUMO_HOME is not set properly, disabling XML validation. Set 'auto' or 'always' for web lookups.\n",
      " 25%|██████████▍                              | 127/500 [01:26<05:22,  1.16it/s]"
     ]
    },
    {
     "name": "stdout",
     "output_type": "stream",
     "text": [
      "Step #0.00 (1ms ~= 1000.00*RT, ~1000.00UPS, vehicles TOT 1 ACT 1 BUF 0)                   \r",
      "Step #100.00 (1ms ~= 1000.00*RT, ~77000.00UPS, vehicles TOT 134 ACT 77 BUF 366)           \r",
      "Step #200.00 (2ms ~= 500.00*RT, ~61500.00UPS, vehicles TOT 241 ACT 123 BUF 259)           \r",
      "Step #300.00 (1ms ~= 1000.00*RT, ~106000.00UPS, vehicles TOT 293 ACT 106 BUF 207)         \r",
      "Step #400.00 (1ms ~= 1000.00*RT, ~118000.00UPS, vehicles TOT 367 ACT 118 BUF 133)         \r",
      "Step #500.00 (1ms ~= 1000.00*RT, ~136000.00UPS, vehicles TOT 445 ACT 136 BUF 55)          \r",
      "Step #600.00 (1ms ~= 1000.00*RT, ~105000.00UPS, vehicles TOT 485 ACT 105 BUF 15)          \r",
      "Step #700.00 (1ms ~= 1000.00*RT, ~54000.00UPS, vehicles TOT 500 ACT 54 BUF 0)             \r",
      "Step #774.00 (0ms ?*RT. ?UPS, vehicles TOT 500 ACT 0 BUF 0)                               \r\n"
     ]
    },
    {
     "name": "stderr",
     "output_type": "stream",
     "text": [
      "Warning: Environment variable SUMO_HOME is not set properly, disabling XML validation. Set 'auto' or 'always' for web lookups.\n",
      " 26%|██████████▍                              | 128/500 [01:27<05:25,  1.14it/s]"
     ]
    },
    {
     "name": "stdout",
     "output_type": "stream",
     "text": [
      "Step #0.00 (0ms ?*RT. ?UPS, vehicles TOT 1 ACT 1 BUF 0)                                   \r",
      "Step #100.00 (1ms ~= 1000.00*RT, ~87000.00UPS, vehicles TOT 141 ACT 87 BUF 359)           \r",
      "Step #200.00 (1ms ~= 1000.00*RT, ~120000.00UPS, vehicles TOT 238 ACT 120 BUF 262)         \r",
      "Step #300.00 (1ms ~= 1000.00*RT, ~122000.00UPS, vehicles TOT 301 ACT 122 BUF 199)         \r",
      "Step #400.00 (1ms ~= 1000.00*RT, ~122000.00UPS, vehicles TOT 367 ACT 122 BUF 133)         \r",
      "Step #500.00 (1ms ~= 1000.00*RT, ~117000.00UPS, vehicles TOT 426 ACT 117 BUF 74)          \r",
      "Step #600.00 (1ms ~= 1000.00*RT, ~109000.00UPS, vehicles TOT 479 ACT 109 BUF 21)          \r",
      "Step #700.00 (1ms ~= 1000.00*RT, ~68000.00UPS, vehicles TOT 500 ACT 68 BUF 0)             \r",
      "Step #788.00 (0ms ?*RT. ?UPS, vehicles TOT 500 ACT 0 BUF 0)                               \r\n"
     ]
    },
    {
     "name": "stderr",
     "output_type": "stream",
     "text": [
      "Warning: Environment variable SUMO_HOME is not set properly, disabling XML validation. Set 'auto' or 'always' for web lookups.\n",
      " 26%|██████████▌                              | 129/500 [01:28<05:30,  1.12it/s]"
     ]
    },
    {
     "name": "stdout",
     "output_type": "stream",
     "text": [
      "Step #0.00 (0ms ?*RT. ?UPS, vehicles TOT 1 ACT 1 BUF 0)                                   \r",
      "Step #100.00 (2ms ~= 500.00*RT, ~46000.00UPS, vehicles TOT 145 ACT 92 BUF 355)            \r",
      "Step #200.00 (2ms ~= 500.00*RT, ~65500.00UPS, vehicles TOT 247 ACT 131 BUF 253)           \r",
      "Step #300.00 (1ms ~= 1000.00*RT, ~126000.00UPS, vehicles TOT 307 ACT 126 BUF 193)         \r",
      "Step #400.00 (2ms ~= 500.00*RT, ~67000.00UPS, vehicles TOT 383 ACT 134 BUF 117)           \r",
      "Step #500.00 (1ms ~= 1000.00*RT, ~123000.00UPS, vehicles TOT 434 ACT 123 BUF 66)          \r",
      "Step #600.00 (1ms ~= 1000.00*RT, ~119000.00UPS, vehicles TOT 492 ACT 119 BUF 8)           \r",
      "Step #700.00 (0ms ?*RT. ?UPS, vehicles TOT 500 ACT 68 BUF 0)                              \r",
      "Step #794.00 (0ms ?*RT. ?UPS, vehicles TOT 500 ACT 0 BUF 0)                               \r\n"
     ]
    },
    {
     "name": "stderr",
     "output_type": "stream",
     "text": [
      "Warning: Environment variable SUMO_HOME is not set properly, disabling XML validation. Set 'auto' or 'always' for web lookups.\n",
      " 26%|██████████▋                              | 130/500 [01:29<05:27,  1.13it/s]"
     ]
    },
    {
     "name": "stdout",
     "output_type": "stream",
     "text": [
      "Step #0.00 (1ms ~= 1000.00*RT, ~1000.00UPS, vehicles TOT 1 ACT 1 BUF 0)                   \r",
      "Step #100.00 (1ms ~= 1000.00*RT, ~90000.00UPS, vehicles TOT 143 ACT 90 BUF 357)           \r",
      "Step #200.00 (1ms ~= 1000.00*RT, ~125000.00UPS, vehicles TOT 239 ACT 125 BUF 261)         \r",
      "Step #300.00 (1ms ~= 1000.00*RT, ~101000.00UPS, vehicles TOT 282 ACT 101 BUF 218)         \r",
      "Step #400.00 (1ms ~= 1000.00*RT, ~128000.00UPS, vehicles TOT 375 ACT 128 BUF 125)         \r",
      "Step #500.00 (1ms ~= 1000.00*RT, ~114000.00UPS, vehicles TOT 420 ACT 114 BUF 80)          \r",
      "Step #600.00 (1ms ~= 1000.00*RT, ~91000.00UPS, vehicles TOT 468 ACT 91 BUF 32)            \r",
      "Step #700.00 (1ms ~= 1000.00*RT, ~57000.00UPS, vehicles TOT 500 ACT 57 BUF 0)             \r",
      "Step #775.00 (0ms ?*RT. ?UPS, vehicles TOT 500 ACT 0 BUF 0)                               \r\n"
     ]
    },
    {
     "name": "stderr",
     "output_type": "stream",
     "text": [
      "Warning: Environment variable SUMO_HOME is not set properly, disabling XML validation. Set 'auto' or 'always' for web lookups.\n",
      " 26%|██████████▋                              | 131/500 [01:30<05:26,  1.13it/s]"
     ]
    },
    {
     "name": "stdout",
     "output_type": "stream",
     "text": [
      "Step #0.00 (1ms ~= 1000.00*RT, ~1000.00UPS, vehicles TOT 1 ACT 1 BUF 0)                   \r",
      "Step #100.00 (1ms ~= 1000.00*RT, ~89000.00UPS, vehicles TOT 143 ACT 89 BUF 357)           \r",
      "Step #200.00 (2ms ~= 500.00*RT, ~65500.00UPS, vehicles TOT 246 ACT 131 BUF 254)           \r",
      "Step #300.00 (1ms ~= 1000.00*RT, ~102000.00UPS, vehicles TOT 285 ACT 102 BUF 215)         \r",
      "Step #400.00 (1ms ~= 1000.00*RT, ~136000.00UPS, vehicles TOT 378 ACT 136 BUF 122)         \r",
      "Step #500.00 (1ms ~= 1000.00*RT, ~97000.00UPS, vehicles TOT 402 ACT 97 BUF 98)            \r",
      "Step #600.00 (2ms ~= 500.00*RT, ~58500.00UPS, vehicles TOT 488 ACT 117 BUF 12)            \r",
      "Step #700.00 (1ms ~= 1000.00*RT, ~66000.00UPS, vehicles TOT 500 ACT 66 BUF 0)             \r",
      "Step #787.00 (0ms ?*RT. ?UPS, vehicles TOT 500 ACT 0 BUF 0)                               \r\n"
     ]
    },
    {
     "name": "stderr",
     "output_type": "stream",
     "text": [
      "Warning: Environment variable SUMO_HOME is not set properly, disabling XML validation. Set 'auto' or 'always' for web lookups.\n",
      " 26%|██████████▊                              | 132/500 [01:30<05:18,  1.15it/s]"
     ]
    },
    {
     "name": "stdout",
     "output_type": "stream",
     "text": [
      "Step #0.00 (0ms ?*RT. ?UPS, vehicles TOT 1 ACT 1 BUF 0)                                   \r",
      "Step #100.00 (2ms ~= 500.00*RT, ~44000.00UPS, vehicles TOT 145 ACT 88 BUF 355)            \r",
      "Step #200.00 (1ms ~= 1000.00*RT, ~114000.00UPS, vehicles TOT 235 ACT 114 BUF 265)         \r",
      "Step #300.00 (1ms ~= 1000.00*RT, ~104000.00UPS, vehicles TOT 288 ACT 104 BUF 212)         \r",
      "Step #400.00 (1ms ~= 1000.00*RT, ~131000.00UPS, vehicles TOT 376 ACT 131 BUF 124)         \r",
      "Step #500.00 (1ms ~= 1000.00*RT, ~129000.00UPS, vehicles TOT 435 ACT 129 BUF 65)          \r",
      "Step #600.00 (1ms ~= 1000.00*RT, ~127000.00UPS, vehicles TOT 493 ACT 127 BUF 7)           \r",
      "Step #700.00 (1ms ~= 1000.00*RT, ~64000.00UPS, vehicles TOT 500 ACT 64 BUF 0)             \r",
      "Step #785.00 (0ms ?*RT. ?UPS, vehicles TOT 500 ACT 0 BUF 0)                               \r\n"
     ]
    },
    {
     "name": "stderr",
     "output_type": "stream",
     "text": [
      "Warning: Environment variable SUMO_HOME is not set properly, disabling XML validation. Set 'auto' or 'always' for web lookups.\n",
      " 27%|██████████▉                              | 133/500 [01:31<04:43,  1.29it/s]"
     ]
    },
    {
     "name": "stdout",
     "output_type": "stream",
     "text": [
      "Step #0.00 (1ms ~= 1000.00*RT, ~1000.00UPS, vehicles TOT 1 ACT 1 BUF 0)                   \r",
      "Step #100.00 (0ms ?*RT. ?UPS, vehicles TOT 146 ACT 93 BUF 354)                            \r",
      "Step #200.00 (0ms ?*RT. ?UPS, vehicles TOT 232 ACT 115 BUF 268)                           \r",
      "Step #300.00 (1ms ~= 1000.00*RT, ~121000.00UPS, vehicles TOT 303 ACT 121 BUF 197)         \r",
      "Step #400.00 (0ms ?*RT. ?UPS, vehicles TOT 366 ACT 126 BUF 134)                           \r",
      "Step #500.00 (1ms ~= 1000.00*RT, ~122000.00UPS, vehicles TOT 426 ACT 122 BUF 74)          \r",
      "Step #600.00 (0ms ?*RT. ?UPS, vehicles TOT 473 ACT 104 BUF 27)                            \r",
      "Step #700.00 (1ms ~= 1000.00*RT, ~69000.00UPS, vehicles TOT 500 ACT 69 BUF 0)             \r",
      "Step #790.00 (0ms ?*RT. ?UPS, vehicles TOT 500 ACT 0 BUF 0)                               \r\n"
     ]
    },
    {
     "name": "stderr",
     "output_type": "stream",
     "text": [
      "Warning: Environment variable SUMO_HOME is not set properly, disabling XML validation. Set 'auto' or 'always' for web lookups.\n",
      " 27%|██████████▉                              | 134/500 [01:32<04:16,  1.43it/s]"
     ]
    },
    {
     "name": "stdout",
     "output_type": "stream",
     "text": [
      "Step #0.00 (1ms ~= 1000.00*RT, ~1000.00UPS, vehicles TOT 1 ACT 1 BUF 0)                   \r",
      "Step #100.00 (1ms ~= 1000.00*RT, ~90000.00UPS, vehicles TOT 144 ACT 90 BUF 356)           \r",
      "Step #200.00 (1ms ~= 1000.00*RT, ~116000.00UPS, vehicles TOT 229 ACT 116 BUF 271)         \r",
      "Step #300.00 (0ms ?*RT. ?UPS, vehicles TOT 285 ACT 102 BUF 215)                           \r",
      "Step #400.00 (1ms ~= 1000.00*RT, ~123000.00UPS, vehicles TOT 368 ACT 123 BUF 132)         \r",
      "Step #500.00 (0ms ?*RT. ?UPS, vehicles TOT 404 ACT 96 BUF 96)                             \r",
      "Step #600.00 (1ms ~= 1000.00*RT, ~120000.00UPS, vehicles TOT 485 ACT 120 BUF 15)          \r",
      "Step #700.00 (1ms ~= 1000.00*RT, ~66000.00UPS, vehicles TOT 500 ACT 66 BUF 0)             \r",
      "Step #791.00 (0ms ?*RT. ?UPS, vehicles TOT 500 ACT 0 BUF 0)                               \r\n"
     ]
    },
    {
     "name": "stderr",
     "output_type": "stream",
     "text": [
      "Warning: Environment variable SUMO_HOME is not set properly, disabling XML validation. Set 'auto' or 'always' for web lookups.\n",
      " 27%|███████████                              | 135/500 [01:32<03:54,  1.56it/s]"
     ]
    },
    {
     "name": "stdout",
     "output_type": "stream",
     "text": [
      "Step #0.00 (0ms ?*RT. ?UPS, vehicles TOT 1 ACT 1 BUF 0)                                   \r",
      "Step #100.00 (1ms ~= 1000.00*RT, ~85000.00UPS, vehicles TOT 140 ACT 85 BUF 360)           \r",
      "Step #200.00 (0ms ?*RT. ?UPS, vehicles TOT 234 ACT 114 BUF 266)                           \r",
      "Step #300.00 (0ms ?*RT. ?UPS, vehicles TOT 295 ACT 109 BUF 205)                           \r",
      "Step #400.00 (1ms ~= 1000.00*RT, ~128000.00UPS, vehicles TOT 374 ACT 128 BUF 126)         \r",
      "Step #500.00 (1ms ~= 1000.00*RT, ~103000.00UPS, vehicles TOT 410 ACT 103 BUF 90)          \r",
      "Step #600.00 (1ms ~= 1000.00*RT, ~125000.00UPS, vehicles TOT 495 ACT 125 BUF 5)           \r",
      "Step #700.00 (0ms ?*RT. ?UPS, vehicles TOT 500 ACT 66 BUF 0)                              \r",
      "Step #785.00 (0ms ?*RT. ?UPS, vehicles TOT 500 ACT 0 BUF 0)                               \r\n"
     ]
    },
    {
     "name": "stderr",
     "output_type": "stream",
     "text": [
      "Warning: Environment variable SUMO_HOME is not set properly, disabling XML validation. Set 'auto' or 'always' for web lookups.\n",
      " 27%|███████████▏                             | 136/500 [01:33<03:43,  1.63it/s]"
     ]
    },
    {
     "name": "stdout",
     "output_type": "stream",
     "text": [
      "Step #0.00 (0ms ?*RT. ?UPS, vehicles TOT 1 ACT 1 BUF 0)                                   \r",
      "Step #100.00 (0ms ?*RT. ?UPS, vehicles TOT 140 ACT 83 BUF 360)                            \r",
      "Step #200.00 (1ms ~= 1000.00*RT, ~104000.00UPS, vehicles TOT 221 ACT 104 BUF 279)         \r",
      "Step #300.00 (1ms ~= 1000.00*RT, ~111000.00UPS, vehicles TOT 288 ACT 111 BUF 212)         \r",
      "Step #400.00 (0ms ?*RT. ?UPS, vehicles TOT 365 ACT 129 BUF 135)                           \r",
      "Step #500.00 (0ms ?*RT. ?UPS, vehicles TOT 424 ACT 124 BUF 76)                            \r",
      "Step #600.00 (1ms ~= 1000.00*RT, ~93000.00UPS, vehicles TOT 453 ACT 93 BUF 47)            \r",
      "Step #700.00 (0ms ?*RT. ?UPS, vehicles TOT 500 ACT 82 BUF 0)                              \r",
      "Step #800.00 (0ms ?*RT. ?UPS, vehicles TOT 500 ACT 11 BUF 0)                              \r",
      "Step #814.00 (0ms ?*RT. ?UPS, vehicles TOT 500 ACT 0 BUF 0)                               \r\n"
     ]
    },
    {
     "name": "stderr",
     "output_type": "stream",
     "text": [
      "Warning: Environment variable SUMO_HOME is not set properly, disabling XML validation. Set 'auto' or 'always' for web lookups.\n",
      " 27%|███████████▏                             | 137/500 [01:33<03:34,  1.69it/s]"
     ]
    },
    {
     "name": "stdout",
     "output_type": "stream",
     "text": [
      "Step #0.00 (0ms ?*RT. ?UPS, vehicles TOT 1 ACT 1 BUF 0)                                   \r",
      "Step #100.00 (0ms ?*RT. ?UPS, vehicles TOT 138 ACT 79 BUF 362)                            \r",
      "Step #200.00 (0ms ?*RT. ?UPS, vehicles TOT 241 ACT 121 BUF 259)                           \r",
      "Step #300.00 (0ms ?*RT. ?UPS, vehicles TOT 304 ACT 121 BUF 196)                           \r",
      "Step #400.00 (1ms ~= 1000.00*RT, ~108000.00UPS, vehicles TOT 357 ACT 108 BUF 143)         \r",
      "Step #500.00 (0ms ?*RT. ?UPS, vehicles TOT 416 ACT 103 BUF 84)                            \r",
      "Step #600.00 (0ms ?*RT. ?UPS, vehicles TOT 488 ACT 112 BUF 12)                            \r",
      "Step #700.00 (0ms ?*RT. ?UPS, vehicles TOT 500 ACT 58 BUF 0)                              \r",
      "Step #777.00 (0ms ?*RT. ?UPS, vehicles TOT 500 ACT 0 BUF 0)                               \r\n"
     ]
    },
    {
     "name": "stderr",
     "output_type": "stream",
     "text": [
      "Warning: Environment variable SUMO_HOME is not set properly, disabling XML validation. Set 'auto' or 'always' for web lookups.\n",
      " 28%|███████████▎                             | 138/500 [01:34<03:30,  1.72it/s]"
     ]
    },
    {
     "name": "stdout",
     "output_type": "stream",
     "text": [
      "Step #0.00 (0ms ?*RT. ?UPS, vehicles TOT 1 ACT 1 BUF 0)                                   \r",
      "Step #100.00 (1ms ~= 1000.00*RT, ~85000.00UPS, vehicles TOT 138 ACT 85 BUF 362)           \r",
      "Step #200.00 (1ms ~= 1000.00*RT, ~118000.00UPS, vehicles TOT 234 ACT 118 BUF 266)         \r",
      "Step #300.00 (1ms ~= 1000.00*RT, ~101000.00UPS, vehicles TOT 279 ACT 101 BUF 221)         \r",
      "Step #400.00 (0ms ?*RT. ?UPS, vehicles TOT 366 ACT 130 BUF 134)                           \r",
      "Step #500.00 (1ms ~= 1000.00*RT, ~98000.00UPS, vehicles TOT 402 ACT 98 BUF 98)            \r",
      "Step #600.00 (1ms ~= 1000.00*RT, ~108000.00UPS, vehicles TOT 476 ACT 108 BUF 24)          \r",
      "Step #700.00 (0ms ?*RT. ?UPS, vehicles TOT 500 ACT 74 BUF 0)                              \r",
      "Step #800.00 (0ms ?*RT. ?UPS, vehicles TOT 500 ACT 3 BUF 0)                               \r",
      "Step #805.00 (0ms ?*RT. ?UPS, vehicles TOT 500 ACT 0 BUF 0)                               \r\n"
     ]
    },
    {
     "name": "stderr",
     "output_type": "stream",
     "text": [
      "Warning: Environment variable SUMO_HOME is not set properly, disabling XML validation. Set 'auto' or 'always' for web lookups.\n",
      " 28%|███████████▍                             | 139/500 [01:34<03:24,  1.76it/s]"
     ]
    },
    {
     "name": "stdout",
     "output_type": "stream",
     "text": [
      "Step #0.00 (0ms ?*RT. ?UPS, vehicles TOT 1 ACT 1 BUF 0)                                   \r",
      "Step #100.00 (2ms ~= 500.00*RT, ~40500.00UPS, vehicles TOT 138 ACT 81 BUF 362)            \r",
      "Step #200.00 (1ms ~= 1000.00*RT, ~123000.00UPS, vehicles TOT 235 ACT 123 BUF 265)         \r",
      "Step #300.00 (0ms ?*RT. ?UPS, vehicles TOT 292 ACT 120 BUF 208)                           \r",
      "Step #400.00 (1ms ~= 1000.00*RT, ~93000.00UPS, vehicles TOT 333 ACT 93 BUF 167)           \r",
      "Step #500.00 (0ms ?*RT. ?UPS, vehicles TOT 426 ACT 129 BUF 74)                            \r",
      "Step #600.00 (0ms ?*RT. ?UPS, vehicles TOT 472 ACT 112 BUF 28)                            \r",
      "Step #700.00 (0ms ?*RT. ?UPS, vehicles TOT 500 ACT 77 BUF 0)                              \r",
      "Step #800.00 (0ms ?*RT. ?UPS, vehicles TOT 500 ACT 4 BUF 0)                               \r",
      "Step #806.00 (0ms ?*RT. ?UPS, vehicles TOT 500 ACT 0 BUF 0)                               \r\n"
     ]
    },
    {
     "name": "stderr",
     "output_type": "stream",
     "text": [
      "Warning: Environment variable SUMO_HOME is not set properly, disabling XML validation. Set 'auto' or 'always' for web lookups.\n",
      " 28%|███████████▍                             | 140/500 [01:35<03:19,  1.80it/s]"
     ]
    },
    {
     "name": "stdout",
     "output_type": "stream",
     "text": [
      "Step #0.00 (0ms ?*RT. ?UPS, vehicles TOT 1 ACT 1 BUF 0)                                   \r",
      "Step #100.00 (1ms ~= 1000.00*RT, ~92000.00UPS, vehicles TOT 145 ACT 92 BUF 355)           \r",
      "Step #200.00 (1ms ~= 1000.00*RT, ~119000.00UPS, vehicles TOT 234 ACT 119 BUF 266)         \r",
      "Step #300.00 (0ms ?*RT. ?UPS, vehicles TOT 276 ACT 95 BUF 224)                            \r",
      "Step #400.00 (1ms ~= 1000.00*RT, ~109000.00UPS, vehicles TOT 352 ACT 109 BUF 148)         \r",
      "Step #500.00 (0ms ?*RT. ?UPS, vehicles TOT 427 ACT 123 BUF 73)                            \r",
      "Step #600.00 (1ms ~= 1000.00*RT, ~132000.00UPS, vehicles TOT 496 ACT 132 BUF 4)           \r",
      "Step #700.00 (0ms ?*RT. ?UPS, vehicles TOT 500 ACT 73 BUF 0)                              \r",
      "Step #800.00 (0ms ?*RT. ?UPS, vehicles TOT 500 ACT 2 BUF 0)                               \r",
      "Step #803.00 (0ms ?*RT. ?UPS, vehicles TOT 500 ACT 0 BUF 0)                               \r\n"
     ]
    },
    {
     "name": "stderr",
     "output_type": "stream",
     "text": [
      "Warning: Environment variable SUMO_HOME is not set properly, disabling XML validation. Set 'auto' or 'always' for web lookups.\n",
      " 28%|███████████▌                             | 141/500 [01:35<03:14,  1.85it/s]"
     ]
    },
    {
     "name": "stdout",
     "output_type": "stream",
     "text": [
      "Step #0.00 (0ms ?*RT. ?UPS, vehicles TOT 1 ACT 1 BUF 0)                                   \r",
      "Step #100.00 (0ms ?*RT. ?UPS, vehicles TOT 142 ACT 88 BUF 358)                            \r",
      "Step #200.00 (1ms ~= 1000.00*RT, ~120000.00UPS, vehicles TOT 236 ACT 120 BUF 264)         \r",
      "Step #300.00 (0ms ?*RT. ?UPS, vehicles TOT 286 ACT 109 BUF 214)                           \r",
      "Step #400.00 (1ms ~= 1000.00*RT, ~111000.00UPS, vehicles TOT 354 ACT 111 BUF 146)         \r",
      "Step #500.00 (1ms ~= 1000.00*RT, ~108000.00UPS, vehicles TOT 418 ACT 108 BUF 82)          \r",
      "Step #600.00 (1ms ~= 1000.00*RT, ~121000.00UPS, vehicles TOT 492 ACT 121 BUF 8)           \r",
      "Step #700.00 (1ms ~= 1000.00*RT, ~64000.00UPS, vehicles TOT 500 ACT 64 BUF 0)             \r",
      "Step #788.00 (0ms ?*RT. ?UPS, vehicles TOT 500 ACT 0 BUF 0)                               \r\n"
     ]
    },
    {
     "name": "stderr",
     "output_type": "stream",
     "text": [
      "Warning: Environment variable SUMO_HOME is not set properly, disabling XML validation. Set 'auto' or 'always' for web lookups.\n",
      " 28%|███████████▋                             | 142/500 [01:36<03:08,  1.90it/s]"
     ]
    },
    {
     "name": "stdout",
     "output_type": "stream",
     "text": [
      "Step #0.00 (0ms ?*RT. ?UPS, vehicles TOT 1 ACT 1 BUF 0)                                   \r",
      "Step #100.00 (1ms ~= 1000.00*RT, ~89000.00UPS, vehicles TOT 144 ACT 89 BUF 356)           \r",
      "Step #200.00 (1ms ~= 1000.00*RT, ~105000.00UPS, vehicles TOT 219 ACT 105 BUF 281)         \r",
      "Step #300.00 (0ms ?*RT. ?UPS, vehicles TOT 279 ACT 101 BUF 221)                           \r",
      "Step #400.00 (1ms ~= 1000.00*RT, ~112000.00UPS, vehicles TOT 348 ACT 112 BUF 152)         \r",
      "Step #500.00 (1ms ~= 1000.00*RT, ~109000.00UPS, vehicles TOT 409 ACT 109 BUF 91)          \r",
      "Step #600.00 (1ms ~= 1000.00*RT, ~109000.00UPS, vehicles TOT 469 ACT 109 BUF 31)          \r",
      "Step #700.00 (1ms ~= 1000.00*RT, ~75000.00UPS, vehicles TOT 500 ACT 75 BUF 0)             \r",
      "Step #800.00 (0ms ?*RT. ?UPS, vehicles TOT 500 ACT 0 BUF 0)                               \r\n"
     ]
    },
    {
     "name": "stderr",
     "output_type": "stream",
     "text": [
      "Warning: Environment variable SUMO_HOME is not set properly, disabling XML validation. Set 'auto' or 'always' for web lookups.\n",
      " 29%|███████████▋                             | 143/500 [01:36<03:04,  1.94it/s]"
     ]
    },
    {
     "name": "stdout",
     "output_type": "stream",
     "text": [
      "Step #0.00 (0ms ?*RT. ?UPS, vehicles TOT 1 ACT 1 BUF 0)                                   \r",
      "Step #100.00 (0ms ?*RT. ?UPS, vehicles TOT 134 ACT 80 BUF 366)                            \r",
      "Step #200.00 (0ms ?*RT. ?UPS, vehicles TOT 237 ACT 120 BUF 263)                           \r",
      "Step #300.00 (1ms ~= 1000.00*RT, ~118000.00UPS, vehicles TOT 297 ACT 118 BUF 203)         \r",
      "Step #400.00 (0ms ?*RT. ?UPS, vehicles TOT 347 ACT 108 BUF 153)                           \r",
      "Step #500.00 (0ms ?*RT. ?UPS, vehicles TOT 401 ACT 98 BUF 99)                             \r",
      "Step #600.00 (1ms ~= 1000.00*RT, ~114000.00UPS, vehicles TOT 478 ACT 114 BUF 22)          \r",
      "Step #700.00 (1ms ~= 1000.00*RT, ~77000.00UPS, vehicles TOT 500 ACT 77 BUF 0)             \r",
      "Step #800.00 (1ms ~= 1000.00*RT, ~7000.00UPS, vehicles TOT 500 ACT 7 BUF 0)               \r",
      "Step #809.00 (0ms ?*RT. ?UPS, vehicles TOT 500 ACT 0 BUF 0)                               \r\n"
     ]
    },
    {
     "name": "stderr",
     "output_type": "stream",
     "text": [
      "Warning: Environment variable SUMO_HOME is not set properly, disabling XML validation. Set 'auto' or 'always' for web lookups.\n",
      " 29%|███████████▊                             | 144/500 [01:37<03:00,  1.98it/s]"
     ]
    },
    {
     "name": "stdout",
     "output_type": "stream",
     "text": [
      "Step #0.00 (0ms ?*RT. ?UPS, vehicles TOT 1 ACT 1 BUF 0)                                   \r",
      "Step #100.00 (1ms ~= 1000.00*RT, ~86000.00UPS, vehicles TOT 140 ACT 86 BUF 360)           \r",
      "Step #200.00 (0ms ?*RT. ?UPS, vehicles TOT 241 ACT 130 BUF 259)                           \r",
      "Step #300.00 (1ms ~= 1000.00*RT, ~104000.00UPS, vehicles TOT 280 ACT 104 BUF 220)         \r",
      "Step #400.00 (0ms ?*RT. ?UPS, vehicles TOT 356 ACT 115 BUF 144)                           \r",
      "Step #500.00 (0ms ?*RT. ?UPS, vehicles TOT 413 ACT 105 BUF 87)                            \r",
      "Step #600.00 (1ms ~= 1000.00*RT, ~112000.00UPS, vehicles TOT 483 ACT 112 BUF 17)          \r",
      "Step #700.00 (1ms ~= 1000.00*RT, ~58000.00UPS, vehicles TOT 500 ACT 58 BUF 0)             \r",
      "Step #776.00 (0ms ?*RT. ?UPS, vehicles TOT 500 ACT 0 BUF 0)                               \r\n"
     ]
    },
    {
     "name": "stderr",
     "output_type": "stream",
     "text": [
      "Warning: Environment variable SUMO_HOME is not set properly, disabling XML validation. Set 'auto' or 'always' for web lookups.\n",
      " 29%|███████████▉                             | 145/500 [01:37<02:56,  2.01it/s]"
     ]
    },
    {
     "name": "stdout",
     "output_type": "stream",
     "text": [
      "Step #0.00 (0ms ?*RT. ?UPS, vehicles TOT 1 ACT 1 BUF 0)                                   \r",
      "Step #100.00 (1ms ~= 1000.00*RT, ~85000.00UPS, vehicles TOT 141 ACT 85 BUF 359)           \r",
      "Step #200.00 (1ms ~= 1000.00*RT, ~98000.00UPS, vehicles TOT 219 ACT 98 BUF 281)           \r",
      "Step #300.00 (1ms ~= 1000.00*RT, ~94000.00UPS, vehicles TOT 274 ACT 94 BUF 226)           \r",
      "Step #400.00 (0ms ?*RT. ?UPS, vehicles TOT 365 ACT 121 BUF 135)                           \r",
      "Step #500.00 (1ms ~= 1000.00*RT, ~114000.00UPS, vehicles TOT 423 ACT 114 BUF 77)          \r",
      "Step #600.00 (1ms ~= 1000.00*RT, ~94000.00UPS, vehicles TOT 466 ACT 94 BUF 34)            \r",
      "Step #700.00 (0ms ?*RT. ?UPS, vehicles TOT 500 ACT 69 BUF 0)                              \r",
      "Step #800.00 (0ms ?*RT. ?UPS, vehicles TOT 500 ACT 0 BUF 0)                               \r\n"
     ]
    },
    {
     "name": "stderr",
     "output_type": "stream",
     "text": [
      "Warning: Environment variable SUMO_HOME is not set properly, disabling XML validation. Set 'auto' or 'always' for web lookups.\n",
      " 29%|███████████▉                             | 146/500 [01:38<03:24,  1.73it/s]"
     ]
    },
    {
     "name": "stdout",
     "output_type": "stream",
     "text": [
      "Step #0.00 (0ms ?*RT. ?UPS, vehicles TOT 1 ACT 1 BUF 0)                                   \r",
      "Step #100.00 (1ms ~= 1000.00*RT, ~89000.00UPS, vehicles TOT 142 ACT 89 BUF 358)           \r",
      "Step #200.00 (1ms ~= 1000.00*RT, ~118000.00UPS, vehicles TOT 230 ACT 118 BUF 270)         \r",
      "Step #300.00 (1ms ~= 1000.00*RT, ~100000.00UPS, vehicles TOT 274 ACT 100 BUF 226)         \r",
      "Step #400.00 (1ms ~= 1000.00*RT, ~105000.00UPS, vehicles TOT 341 ACT 105 BUF 159)         \r",
      "Step #500.00 (1ms ~= 1000.00*RT, ~113000.00UPS, vehicles TOT 411 ACT 113 BUF 89)          \r",
      "Step #600.00 (1ms ~= 1000.00*RT, ~117000.00UPS, vehicles TOT 477 ACT 117 BUF 23)          \r",
      "Step #700.00 (1ms ~= 1000.00*RT, ~77000.00UPS, vehicles TOT 500 ACT 77 BUF 0)             \r",
      "Step #800.00 (0ms ?*RT. ?UPS, vehicles TOT 500 ACT 6 BUF 0)                               \r",
      "Step #809.00 (0ms ?*RT. ?UPS, vehicles TOT 500 ACT 0 BUF 0)                               \r\n"
     ]
    },
    {
     "name": "stderr",
     "output_type": "stream",
     "text": [
      "Warning: Environment variable SUMO_HOME is not set properly, disabling XML validation. Set 'auto' or 'always' for web lookups.\n",
      " 29%|████████████                             | 147/500 [01:39<03:56,  1.49it/s]"
     ]
    },
    {
     "name": "stdout",
     "output_type": "stream",
     "text": [
      "Step #0.00 (1ms ~= 1000.00*RT, ~1000.00UPS, vehicles TOT 1 ACT 1 BUF 0)                   \r",
      "Step #100.00 (1ms ~= 1000.00*RT, ~84000.00UPS, vehicles TOT 136 ACT 84 BUF 364)           \r",
      "Step #200.00 (1ms ~= 1000.00*RT, ~117000.00UPS, vehicles TOT 233 ACT 117 BUF 267)         \r",
      "Step #300.00 (1ms ~= 1000.00*RT, ~117000.00UPS, vehicles TOT 291 ACT 117 BUF 209)         \r",
      "Step #400.00 (1ms ~= 1000.00*RT, ~136000.00UPS, vehicles TOT 371 ACT 136 BUF 129)         \r",
      "Step #500.00 (1ms ~= 1000.00*RT, ~101000.00UPS, vehicles TOT 398 ACT 101 BUF 102)         \r",
      "Step #600.00 (1ms ~= 1000.00*RT, ~108000.00UPS, vehicles TOT 470 ACT 108 BUF 30)          \r",
      "Step #700.00 (1ms ~= 1000.00*RT, ~76000.00UPS, vehicles TOT 500 ACT 76 BUF 0)             \r",
      "Step #800.00 (0ms ?*RT. ?UPS, vehicles TOT 500 ACT 7 BUF 0)                               \r",
      "Step #809.00 (0ms ?*RT. ?UPS, vehicles TOT 500 ACT 0 BUF 0)                               \r\n"
     ]
    },
    {
     "name": "stderr",
     "output_type": "stream",
     "text": [
      "Warning: Environment variable SUMO_HOME is not set properly, disabling XML validation. Set 'auto' or 'always' for web lookups.\n",
      " 30%|████████████▏                            | 148/500 [01:40<04:14,  1.38it/s]"
     ]
    },
    {
     "name": "stdout",
     "output_type": "stream",
     "text": [
      "Step #0.00 (1ms ~= 1000.00*RT, ~1000.00UPS, vehicles TOT 1 ACT 1 BUF 0)                   \r",
      "Step #100.00 (2ms ~= 500.00*RT, ~43000.00UPS, vehicles TOT 139 ACT 86 BUF 361)            \r",
      "Step #200.00 (1ms ~= 1000.00*RT, ~116000.00UPS, vehicles TOT 231 ACT 116 BUF 269)         \r",
      "Step #300.00 (1ms ~= 1000.00*RT, ~112000.00UPS, vehicles TOT 289 ACT 112 BUF 211)         \r",
      "Step #400.00 (1ms ~= 1000.00*RT, ~129000.00UPS, vehicles TOT 369 ACT 129 BUF 131)         \r",
      "Step #500.00 (1ms ~= 1000.00*RT, ~108000.00UPS, vehicles TOT 415 ACT 108 BUF 85)          \r",
      "Step #600.00 (1ms ~= 1000.00*RT, ~104000.00UPS, vehicles TOT 474 ACT 104 BUF 26)          \r",
      "Step #700.00 (0ms ?*RT. ?UPS, vehicles TOT 500 ACT 65 BUF 0)                              \r",
      "Step #785.00 (0ms ?*RT. ?UPS, vehicles TOT 500 ACT 0 BUF 0)                               \r\n"
     ]
    },
    {
     "name": "stderr",
     "output_type": "stream",
     "text": [
      "Warning: Environment variable SUMO_HOME is not set properly, disabling XML validation. Set 'auto' or 'always' for web lookups.\n",
      " 30%|████████████▏                            | 149/500 [01:41<04:36,  1.27it/s]"
     ]
    },
    {
     "name": "stdout",
     "output_type": "stream",
     "text": [
      "Step #0.00 (0ms ?*RT. ?UPS, vehicles TOT 1 ACT 1 BUF 0)                                   \r",
      "Step #100.00 (1ms ~= 1000.00*RT, ~85000.00UPS, vehicles TOT 137 ACT 85 BUF 363)           \r",
      "Step #200.00 (1ms ~= 1000.00*RT, ~127000.00UPS, vehicles TOT 240 ACT 127 BUF 260)         \r",
      "Step #300.00 (1ms ~= 1000.00*RT, ~99000.00UPS, vehicles TOT 275 ACT 99 BUF 225)           \r",
      "Step #400.00 (1ms ~= 1000.00*RT, ~101000.00UPS, vehicles TOT 337 ACT 101 BUF 163)         \r",
      "Step #500.00 (1ms ~= 1000.00*RT, ~117000.00UPS, vehicles TOT 409 ACT 117 BUF 91)          \r",
      "Step #600.00 (1ms ~= 1000.00*RT, ~86000.00UPS, vehicles TOT 446 ACT 86 BUF 54)            \r",
      "Step #700.00 (1ms ~= 1000.00*RT, ~80000.00UPS, vehicles TOT 500 ACT 80 BUF 0)             \r",
      "Step #800.00 (0ms ?*RT. ?UPS, vehicles TOT 500 ACT 6 BUF 0)                               \r",
      "Step #808.00 (1ms ~= 1000.00*RT, ~0.00UPS, vehicles TOT 500 ACT 0 BUF 0)                  \r\n"
     ]
    },
    {
     "name": "stderr",
     "output_type": "stream",
     "text": [
      "Warning: Environment variable SUMO_HOME is not set properly, disabling XML validation. Set 'auto' or 'always' for web lookups.\n",
      " 30%|████████████▎                            | 150/500 [01:42<04:43,  1.23it/s]"
     ]
    },
    {
     "name": "stdout",
     "output_type": "stream",
     "text": [
      "Step #0.00 (0ms ?*RT. ?UPS, vehicles TOT 1 ACT 1 BUF 0)                                   \r",
      "Step #100.00 (1ms ~= 1000.00*RT, ~94000.00UPS, vehicles TOT 145 ACT 94 BUF 355)           \r",
      "Step #200.00 (1ms ~= 1000.00*RT, ~101000.00UPS, vehicles TOT 217 ACT 101 BUF 283)         \r",
      "Step #300.00 (2ms ~= 500.00*RT, ~61500.00UPS, vehicles TOT 296 ACT 123 BUF 204)           \r",
      "Step #400.00 (1ms ~= 1000.00*RT, ~115000.00UPS, vehicles TOT 354 ACT 115 BUF 146)         \r",
      "Step #500.00 (1ms ~= 1000.00*RT, ~101000.00UPS, vehicles TOT 401 ACT 101 BUF 99)          \r",
      "Step #600.00 (1ms ~= 1000.00*RT, ~103000.00UPS, vehicles TOT 464 ACT 103 BUF 36)          \r",
      "Step #700.00 (0ms ?*RT. ?UPS, vehicles TOT 500 ACT 73 BUF 0)                              \r",
      "Step #800.00 (0ms ?*RT. ?UPS, vehicles TOT 500 ACT 0 BUF 0)                               \r\n"
     ]
    },
    {
     "name": "stderr",
     "output_type": "stream",
     "text": [
      "Warning: Environment variable SUMO_HOME is not set properly, disabling XML validation. Set 'auto' or 'always' for web lookups.\n",
      " 30%|████████████▍                            | 151/500 [01:42<04:44,  1.23it/s]"
     ]
    },
    {
     "name": "stdout",
     "output_type": "stream",
     "text": [
      "Step #0.00 (0ms ?*RT. ?UPS, vehicles TOT 1 ACT 1 BUF 0)                                   \r",
      "Step #100.00 (2ms ~= 500.00*RT, ~41000.00UPS, vehicles TOT 135 ACT 82 BUF 365)            \r",
      "Step #200.00 (1ms ~= 1000.00*RT, ~101000.00UPS, vehicles TOT 223 ACT 101 BUF 277)         \r",
      "Step #300.00 (1ms ~= 1000.00*RT, ~108000.00UPS, vehicles TOT 291 ACT 108 BUF 209)         \r",
      "Step #400.00 (1ms ~= 1000.00*RT, ~112000.00UPS, vehicles TOT 357 ACT 112 BUF 143)         \r",
      "Step #500.00 (1ms ~= 1000.00*RT, ~103000.00UPS, vehicles TOT 409 ACT 103 BUF 91)          \r",
      "Step #600.00 (1ms ~= 1000.00*RT, ~95000.00UPS, vehicles TOT 463 ACT 95 BUF 37)            \r",
      "Step #700.00 (1ms ~= 1000.00*RT, ~65000.00UPS, vehicles TOT 500 ACT 65 BUF 0)             \r",
      "Step #791.00 (0ms ?*RT. ?UPS, vehicles TOT 500 ACT 0 BUF 0)                               \r\n"
     ]
    },
    {
     "name": "stderr",
     "output_type": "stream",
     "text": [
      "Warning: Environment variable SUMO_HOME is not set properly, disabling XML validation. Set 'auto' or 'always' for web lookups.\n",
      " 30%|████████████▍                            | 152/500 [01:43<04:51,  1.20it/s]"
     ]
    },
    {
     "name": "stdout",
     "output_type": "stream",
     "text": [
      "Step #0.00 (0ms ?*RT. ?UPS, vehicles TOT 1 ACT 1 BUF 0)                                   \r",
      "Step #100.00 (2ms ~= 500.00*RT, ~44000.00UPS, vehicles TOT 140 ACT 88 BUF 360)            \r",
      "Step #200.00 (1ms ~= 1000.00*RT, ~88000.00UPS, vehicles TOT 198 ACT 88 BUF 302)           \r",
      "Step #300.00 (1ms ~= 1000.00*RT, ~126000.00UPS, vehicles TOT 298 ACT 126 BUF 202)         \r",
      "Step #400.00 (1ms ~= 1000.00*RT, ~127000.00UPS, vehicles TOT 360 ACT 127 BUF 140)         \r",
      "Step #500.00 (1ms ~= 1000.00*RT, ~105000.00UPS, vehicles TOT 403 ACT 105 BUF 97)          \r",
      "Step #600.00 (0ms ?*RT. ?UPS, vehicles TOT 465 ACT 105 BUF 35)                            \r",
      "Step #700.00 (1ms ~= 1000.00*RT, ~78000.00UPS, vehicles TOT 500 ACT 78 BUF 0)             \r",
      "Step #800.00 (0ms ?*RT. ?UPS, vehicles TOT 500 ACT 12 BUF 0)                              \r",
      "Step #815.00 (0ms ?*RT. ?UPS, vehicles TOT 500 ACT 0 BUF 0)                               \r\n"
     ]
    },
    {
     "name": "stderr",
     "output_type": "stream",
     "text": [
      "Warning: Environment variable SUMO_HOME is not set properly, disabling XML validation. Set 'auto' or 'always' for web lookups.\n",
      " 31%|████████████▌                            | 153/500 [01:44<04:50,  1.19it/s]"
     ]
    },
    {
     "name": "stdout",
     "output_type": "stream",
     "text": [
      "Step #0.00 (0ms ?*RT. ?UPS, vehicles TOT 1 ACT 1 BUF 0)                                   \r",
      "Step #100.00 (2ms ~= 500.00*RT, ~44000.00UPS, vehicles TOT 139 ACT 88 BUF 361)            \r",
      "Step #200.00 (1ms ~= 1000.00*RT, ~106000.00UPS, vehicles TOT 222 ACT 106 BUF 278)         \r",
      "Step #300.00 (1ms ~= 1000.00*RT, ~112000.00UPS, vehicles TOT 286 ACT 112 BUF 214)         \r",
      "Step #400.00 (1ms ~= 1000.00*RT, ~111000.00UPS, vehicles TOT 352 ACT 111 BUF 148)         \r",
      "Step #500.00 (1ms ~= 1000.00*RT, ~111000.00UPS, vehicles TOT 418 ACT 111 BUF 82)          \r",
      "Step #600.00 (1ms ~= 1000.00*RT, ~101000.00UPS, vehicles TOT 472 ACT 101 BUF 28)          \r",
      "Step #700.00 (1ms ~= 1000.00*RT, ~63000.00UPS, vehicles TOT 500 ACT 63 BUF 0)             \r",
      "Step #789.00 (0ms ?*RT. ?UPS, vehicles TOT 500 ACT 0 BUF 0)                               \r\n"
     ]
    },
    {
     "name": "stderr",
     "output_type": "stream",
     "text": [
      "Warning: Environment variable SUMO_HOME is not set properly, disabling XML validation. Set 'auto' or 'always' for web lookups.\n",
      " 31%|████████████▋                            | 154/500 [01:45<04:51,  1.19it/s]"
     ]
    },
    {
     "name": "stdout",
     "output_type": "stream",
     "text": [
      "Step #0.00 (1ms ~= 1000.00*RT, ~1000.00UPS, vehicles TOT 1 ACT 1 BUF 0)                   \r",
      "Step #100.00 (1ms ~= 1000.00*RT, ~81000.00UPS, vehicles TOT 136 ACT 81 BUF 364)           \r",
      "Step #200.00 (1ms ~= 1000.00*RT, ~100000.00UPS, vehicles TOT 217 ACT 100 BUF 283)         \r",
      "Step #300.00 (1ms ~= 1000.00*RT, ~103000.00UPS, vehicles TOT 275 ACT 103 BUF 225)         \r",
      "Step #400.00 (1ms ~= 1000.00*RT, ~109000.00UPS, vehicles TOT 343 ACT 109 BUF 157)         \r",
      "Step #500.00 (1ms ~= 1000.00*RT, ~104000.00UPS, vehicles TOT 403 ACT 104 BUF 97)          \r",
      "Step #600.00 (1ms ~= 1000.00*RT, ~118000.00UPS, vehicles TOT 488 ACT 118 BUF 12)          \r",
      "Step #700.00 (1ms ~= 1000.00*RT, ~64000.00UPS, vehicles TOT 500 ACT 64 BUF 0)             \r",
      "Step #796.00 (0ms ?*RT. ?UPS, vehicles TOT 500 ACT 0 BUF 0)                               \r\n"
     ]
    },
    {
     "name": "stderr",
     "output_type": "stream",
     "text": [
      "Warning: Environment variable SUMO_HOME is not set properly, disabling XML validation. Set 'auto' or 'always' for web lookups.\n",
      " 31%|████████████▋                            | 155/500 [01:46<04:49,  1.19it/s]"
     ]
    },
    {
     "name": "stdout",
     "output_type": "stream",
     "text": [
      "Step #0.00 (0ms ?*RT. ?UPS, vehicles TOT 1 ACT 1 BUF 0)                                   \r",
      "Step #100.00 (1ms ~= 1000.00*RT, ~74000.00UPS, vehicles TOT 130 ACT 74 BUF 370)           \r",
      "Step #200.00 (1ms ~= 1000.00*RT, ~102000.00UPS, vehicles TOT 224 ACT 102 BUF 276)         \r",
      "Step #300.00 (1ms ~= 1000.00*RT, ~97000.00UPS, vehicles TOT 284 ACT 97 BUF 216)           \r",
      "Step #400.00 (1ms ~= 1000.00*RT, ~116000.00UPS, vehicles TOT 361 ACT 116 BUF 139)         \r",
      "Step #500.00 (1ms ~= 1000.00*RT, ~112000.00UPS, vehicles TOT 423 ACT 112 BUF 77)          \r",
      "Step #600.00 (1ms ~= 1000.00*RT, ~99000.00UPS, vehicles TOT 473 ACT 99 BUF 27)            \r",
      "Step #700.00 (0ms ?*RT. ?UPS, vehicles TOT 500 ACT 64 BUF 0)                              \r",
      "Step #790.00 (0ms ?*RT. ?UPS, vehicles TOT 500 ACT 0 BUF 0)                               \r\n"
     ]
    },
    {
     "name": "stderr",
     "output_type": "stream",
     "text": [
      "Warning: Environment variable SUMO_HOME is not set properly, disabling XML validation. Set 'auto' or 'always' for web lookups.\n",
      " 31%|████████████▊                            | 156/500 [01:46<04:39,  1.23it/s]"
     ]
    },
    {
     "name": "stdout",
     "output_type": "stream",
     "text": [
      "Step #0.00 (1ms ~= 1000.00*RT, ~1000.00UPS, vehicles TOT 1 ACT 1 BUF 0)                   \r",
      "Step #100.00 (1ms ~= 1000.00*RT, ~83000.00UPS, vehicles TOT 136 ACT 83 BUF 364)           \r",
      "Step #200.00 (1ms ~= 1000.00*RT, ~105000.00UPS, vehicles TOT 218 ACT 105 BUF 282)         \r",
      "Step #300.00 (1ms ~= 1000.00*RT, ~121000.00UPS, vehicles TOT 297 ACT 121 BUF 203)         \r",
      "Step #400.00 (1ms ~= 1000.00*RT, ~101000.00UPS, vehicles TOT 345 ACT 101 BUF 155)         \r",
      "Step #500.00 (1ms ~= 1000.00*RT, ~129000.00UPS, vehicles TOT 435 ACT 129 BUF 65)          \r",
      "Step #600.00 (0ms ?*RT. ?UPS, vehicles TOT 475 ACT 102 BUF 25)                            \r",
      "Step #700.00 (0ms ?*RT. ?UPS, vehicles TOT 500 ACT 66 BUF 0)                              \r",
      "Step #792.00 (0ms ?*RT. ?UPS, vehicles TOT 500 ACT 0 BUF 0)                               \r\n"
     ]
    },
    {
     "name": "stderr",
     "output_type": "stream",
     "text": [
      "Warning: Environment variable SUMO_HOME is not set properly, disabling XML validation. Set 'auto' or 'always' for web lookups.\n",
      " 31%|████████████▊                            | 157/500 [01:47<04:02,  1.41it/s]"
     ]
    },
    {
     "name": "stdout",
     "output_type": "stream",
     "text": [
      "Step #0.00 (0ms ?*RT. ?UPS, vehicles TOT 1 ACT 1 BUF 0)                                   \r",
      "Step #100.00 (1ms ~= 1000.00*RT, ~77000.00UPS, vehicles TOT 133 ACT 77 BUF 367)           \r",
      "Step #200.00 (0ms ?*RT. ?UPS, vehicles TOT 222 ACT 106 BUF 278)                           \r",
      "Step #300.00 (1ms ~= 1000.00*RT, ~109000.00UPS, vehicles TOT 289 ACT 109 BUF 211)         \r",
      "Step #400.00 (0ms ?*RT. ?UPS, vehicles TOT 352 ACT 106 BUF 148)                           \r",
      "Step #500.00 (0ms ?*RT. ?UPS, vehicles TOT 421 ACT 107 BUF 79)                            \r",
      "Step #600.00 (1ms ~= 1000.00*RT, ~108000.00UPS, vehicles TOT 484 ACT 108 BUF 16)          \r",
      "Step #700.00 (1ms ~= 1000.00*RT, ~63000.00UPS, vehicles TOT 500 ACT 63 BUF 0)             \r",
      "Step #789.00 (0ms ?*RT. ?UPS, vehicles TOT 500 ACT 0 BUF 0)                               \r\n"
     ]
    },
    {
     "name": "stderr",
     "output_type": "stream",
     "text": [
      "Warning: Environment variable SUMO_HOME is not set properly, disabling XML validation. Set 'auto' or 'always' for web lookups.\n",
      " 32%|████████████▉                            | 158/500 [01:47<03:37,  1.57it/s]"
     ]
    },
    {
     "name": "stdout",
     "output_type": "stream",
     "text": [
      "Step #0.00 (0ms ?*RT. ?UPS, vehicles TOT 1 ACT 1 BUF 0)                                   \r",
      "Step #100.00 (0ms ?*RT. ?UPS, vehicles TOT 139 ACT 86 BUF 361)                            \r",
      "Step #200.00 (1ms ~= 1000.00*RT, ~107000.00UPS, vehicles TOT 220 ACT 107 BUF 280)         \r",
      "Step #300.00 (0ms ?*RT. ?UPS, vehicles TOT 296 ACT 121 BUF 204)                           \r",
      "Step #400.00 (0ms ?*RT. ?UPS, vehicles TOT 363 ACT 121 BUF 137)                           \r",
      "Step #500.00 (0ms ?*RT. ?UPS, vehicles TOT 404 ACT 99 BUF 96)                             \r",
      "Step #600.00 (0ms ?*RT. ?UPS, vehicles TOT 472 ACT 101 BUF 28)                            \r",
      "Step #700.00 (1ms ~= 1000.00*RT, ~63000.00UPS, vehicles TOT 500 ACT 63 BUF 0)             \r",
      "Step #784.00 (0ms ?*RT. ?UPS, vehicles TOT 500 ACT 0 BUF 0)                               \r\n"
     ]
    },
    {
     "name": "stderr",
     "output_type": "stream",
     "text": [
      "Warning: Environment variable SUMO_HOME is not set properly, disabling XML validation. Set 'auto' or 'always' for web lookups.\n",
      " 32%|█████████████                            | 159/500 [01:48<03:21,  1.69it/s]"
     ]
    },
    {
     "name": "stdout",
     "output_type": "stream",
     "text": [
      "Step #0.00 (0ms ?*RT. ?UPS, vehicles TOT 1 ACT 1 BUF 0)                                   \r",
      "Step #100.00 (1ms ~= 1000.00*RT, ~83000.00UPS, vehicles TOT 139 ACT 83 BUF 361)           \r",
      "Step #200.00 (1ms ~= 1000.00*RT, ~103000.00UPS, vehicles TOT 218 ACT 103 BUF 282)         \r",
      "Step #300.00 (0ms ?*RT. ?UPS, vehicles TOT 289 ACT 115 BUF 211)                           \r",
      "Step #400.00 (0ms ?*RT. ?UPS, vehicles TOT 333 ACT 95 BUF 167)                            \r",
      "Step #500.00 (1ms ~= 1000.00*RT, ~114000.00UPS, vehicles TOT 416 ACT 114 BUF 84)          \r",
      "Step #600.00 (1ms ~= 1000.00*RT, ~126000.00UPS, vehicles TOT 485 ACT 126 BUF 15)          \r",
      "Step #700.00 (0ms ?*RT. ?UPS, vehicles TOT 500 ACT 81 BUF 0)                              \r",
      "Step #800.00 (0ms ?*RT. ?UPS, vehicles TOT 500 ACT 12 BUF 0)                              \r",
      "Step #815.00 (1ms ~= 1000.00*RT, ~0.00UPS, vehicles TOT 500 ACT 0 BUF 0)                  \r\n"
     ]
    },
    {
     "name": "stderr",
     "output_type": "stream",
     "text": [
      "Warning: Environment variable SUMO_HOME is not set properly, disabling XML validation. Set 'auto' or 'always' for web lookups.\n",
      " 32%|█████████████                            | 160/500 [01:48<03:12,  1.77it/s]"
     ]
    },
    {
     "name": "stdout",
     "output_type": "stream",
     "text": [
      "Step #0.00 (1ms ~= 1000.00*RT, ~1000.00UPS, vehicles TOT 1 ACT 1 BUF 0)                   \r",
      "Step #100.00 (1ms ~= 1000.00*RT, ~81000.00UPS, vehicles TOT 133 ACT 81 BUF 367)           \r",
      "Step #200.00 (1ms ~= 1000.00*RT, ~103000.00UPS, vehicles TOT 215 ACT 103 BUF 285)         \r",
      "Step #300.00 (1ms ~= 1000.00*RT, ~110000.00UPS, vehicles TOT 285 ACT 110 BUF 215)         \r",
      "Step #400.00 (1ms ~= 1000.00*RT, ~110000.00UPS, vehicles TOT 354 ACT 110 BUF 146)         \r",
      "Step #500.00 (1ms ~= 1000.00*RT, ~118000.00UPS, vehicles TOT 421 ACT 118 BUF 79)          \r",
      "Step #600.00 (0ms ?*RT. ?UPS, vehicles TOT 469 ACT 111 BUF 31)                            \r",
      "Step #700.00 (0ms ?*RT. ?UPS, vehicles TOT 500 ACT 73 BUF 0)                              \r",
      "Step #800.00 (0ms ?*RT. ?UPS, vehicles TOT 500 ACT 8 BUF 0)                               \r",
      "Step #810.00 (0ms ?*RT. ?UPS, vehicles TOT 500 ACT 0 BUF 0)                               \r\n"
     ]
    },
    {
     "name": "stderr",
     "output_type": "stream",
     "text": [
      "Warning: Environment variable SUMO_HOME is not set properly, disabling XML validation. Set 'auto' or 'always' for web lookups.\n",
      " 32%|█████████████▏                           | 161/500 [01:49<03:14,  1.74it/s]"
     ]
    },
    {
     "name": "stdout",
     "output_type": "stream",
     "text": [
      "Step #0.00 (0ms ?*RT. ?UPS, vehicles TOT 1 ACT 1 BUF 0)                                   \r",
      "Step #100.00 (1ms ~= 1000.00*RT, ~85000.00UPS, vehicles TOT 138 ACT 85 BUF 362)           \r",
      "Step #200.00 (1ms ~= 1000.00*RT, ~97000.00UPS, vehicles TOT 213 ACT 97 BUF 287)           \r",
      "Step #300.00 (1ms ~= 1000.00*RT, ~120000.00UPS, vehicles TOT 299 ACT 120 BUF 201)         \r",
      "Step #400.00 (0ms ?*RT. ?UPS, vehicles TOT 334 ACT 89 BUF 166)                            \r",
      "Step #500.00 (1ms ~= 1000.00*RT, ~99000.00UPS, vehicles TOT 414 ACT 99 BUF 86)            \r",
      "Step #600.00 (0ms ?*RT. ?UPS, vehicles TOT 476 ACT 95 BUF 24)                             \r",
      "Step #700.00 (0ms ?*RT. ?UPS, vehicles TOT 500 ACT 57 BUF 0)                              \r",
      "Step #781.00 (0ms ?*RT. ?UPS, vehicles TOT 500 ACT 0 BUF 0)                               \r\n"
     ]
    },
    {
     "name": "stderr",
     "output_type": "stream",
     "text": [
      "Warning: Environment variable SUMO_HOME is not set properly, disabling XML validation. Set 'auto' or 'always' for web lookups.\n",
      " 32%|█████████████▎                           | 162/500 [01:49<03:04,  1.83it/s]"
     ]
    },
    {
     "name": "stdout",
     "output_type": "stream",
     "text": [
      "Step #0.00 (0ms ?*RT. ?UPS, vehicles TOT 1 ACT 1 BUF 0)                                   \r",
      "Step #100.00 (1ms ~= 1000.00*RT, ~87000.00UPS, vehicles TOT 139 ACT 87 BUF 361)           \r",
      "Step #200.00 (1ms ~= 1000.00*RT, ~116000.00UPS, vehicles TOT 229 ACT 116 BUF 271)         \r",
      "Step #300.00 (0ms ?*RT. ?UPS, vehicles TOT 270 ACT 100 BUF 230)                           \r",
      "Step #400.00 (0ms ?*RT. ?UPS, vehicles TOT 328 ACT 99 BUF 172)                            \r",
      "Step #500.00 (0ms ?*RT. ?UPS, vehicles TOT 396 ACT 109 BUF 104)                           \r",
      "Step #600.00 (0ms ?*RT. ?UPS, vehicles TOT 454 ACT 101 BUF 46)                            \r",
      "Step #700.00 (0ms ?*RT. ?UPS, vehicles TOT 500 ACT 84 BUF 0)                              \r",
      "Step #800.00 (0ms ?*RT. ?UPS, vehicles TOT 500 ACT 16 BUF 0)                              \r",
      "Step #820.00 (0ms ?*RT. ?UPS, vehicles TOT 500 ACT 0 BUF 0)                               \r\n"
     ]
    },
    {
     "name": "stderr",
     "output_type": "stream",
     "text": [
      "Warning: Environment variable SUMO_HOME is not set properly, disabling XML validation. Set 'auto' or 'always' for web lookups.\n",
      " 33%|█████████████▎                           | 163/500 [01:50<02:56,  1.91it/s]"
     ]
    },
    {
     "name": "stdout",
     "output_type": "stream",
     "text": [
      "Step #0.00 (1ms ~= 1000.00*RT, ~1000.00UPS, vehicles TOT 1 ACT 1 BUF 0)                   \r",
      "Step #100.00 (1ms ~= 1000.00*RT, ~85000.00UPS, vehicles TOT 140 ACT 85 BUF 360)           \r",
      "Step #200.00 (1ms ~= 1000.00*RT, ~93000.00UPS, vehicles TOT 211 ACT 93 BUF 289)           \r",
      "Step #300.00 (1ms ~= 1000.00*RT, ~118000.00UPS, vehicles TOT 293 ACT 118 BUF 207)         \r",
      "Step #400.00 (0ms ?*RT. ?UPS, vehicles TOT 338 ACT 101 BUF 162)                           \r",
      "Step #500.00 (1ms ~= 1000.00*RT, ~98000.00UPS, vehicles TOT 396 ACT 98 BUF 104)           \r",
      "Step #600.00 (0ms ?*RT. ?UPS, vehicles TOT 466 ACT 106 BUF 34)                            \r",
      "Step #700.00 (0ms ?*RT. ?UPS, vehicles TOT 500 ACT 74 BUF 0)                              \r",
      "Step #800.00 (0ms ?*RT. ?UPS, vehicles TOT 500 ACT 0 BUF 0)                               \r\n"
     ]
    },
    {
     "name": "stderr",
     "output_type": "stream",
     "text": [
      "Warning: Environment variable SUMO_HOME is not set properly, disabling XML validation. Set 'auto' or 'always' for web lookups.\n",
      " 33%|█████████████▍                           | 164/500 [01:50<02:49,  1.99it/s]"
     ]
    },
    {
     "name": "stdout",
     "output_type": "stream",
     "text": [
      "Step #0.00 (0ms ?*RT. ?UPS, vehicles TOT 1 ACT 1 BUF 0)                                   \r",
      "Step #100.00 (0ms ?*RT. ?UPS, vehicles TOT 136 ACT 82 BUF 364)                            \r",
      "Step #200.00 (1ms ~= 1000.00*RT, ~98000.00UPS, vehicles TOT 216 ACT 98 BUF 284)           \r",
      "Step #300.00 (1ms ~= 1000.00*RT, ~105000.00UPS, vehicles TOT 285 ACT 105 BUF 215)         \r",
      "Step #400.00 (0ms ?*RT. ?UPS, vehicles TOT 352 ACT 107 BUF 148)                           \r",
      "Step #500.00 (0ms ?*RT. ?UPS, vehicles TOT 407 ACT 96 BUF 93)                             \r",
      "Step #600.00 (1ms ~= 1000.00*RT, ~98000.00UPS, vehicles TOT 472 ACT 98 BUF 28)            \r",
      "Step #700.00 (0ms ?*RT. ?UPS, vehicles TOT 500 ACT 63 BUF 0)                              \r",
      "Step #783.00 (0ms ?*RT. ?UPS, vehicles TOT 500 ACT 0 BUF 0)                               \r\n"
     ]
    },
    {
     "name": "stderr",
     "output_type": "stream",
     "text": [
      "Warning: Environment variable SUMO_HOME is not set properly, disabling XML validation. Set 'auto' or 'always' for web lookups.\n",
      " 33%|█████████████▌                           | 165/500 [01:51<02:44,  2.04it/s]"
     ]
    },
    {
     "name": "stdout",
     "output_type": "stream",
     "text": [
      "Step #0.00 (0ms ?*RT. ?UPS, vehicles TOT 1 ACT 1 BUF 0)                                   \r",
      "Step #100.00 (1ms ~= 1000.00*RT, ~71000.00UPS, vehicles TOT 126 ACT 71 BUF 374)           \r",
      "Step #200.00 (0ms ?*RT. ?UPS, vehicles TOT 224 ACT 108 BUF 276)                           \r",
      "Step #300.00 (0ms ?*RT. ?UPS, vehicles TOT 272 ACT 92 BUF 228)                            \r",
      "Step #400.00 (0ms ?*RT. ?UPS, vehicles TOT 330 ACT 86 BUF 170)                            \r",
      "Step #500.00 (0ms ?*RT. ?UPS, vehicles TOT 425 ACT 122 BUF 75)                            \r",
      "Step #600.00 (1ms ~= 1000.00*RT, ~85000.00UPS, vehicles TOT 450 ACT 85 BUF 50)            \r",
      "Step #700.00 (0ms ?*RT. ?UPS, vehicles TOT 500 ACT 70 BUF 0)                              \r",
      "Step #800.00 (0ms ?*RT. ?UPS, vehicles TOT 500 ACT 1 BUF 0)                               \r",
      "Step #802.00 (0ms ?*RT. ?UPS, vehicles TOT 500 ACT 0 BUF 0)                               \r\n"
     ]
    },
    {
     "name": "stderr",
     "output_type": "stream",
     "text": [
      "Warning: Environment variable SUMO_HOME is not set properly, disabling XML validation. Set 'auto' or 'always' for web lookups.\n",
      " 33%|█████████████▌                           | 166/500 [01:51<02:43,  2.04it/s]"
     ]
    },
    {
     "name": "stdout",
     "output_type": "stream",
     "text": [
      "Step #0.00 (0ms ?*RT. ?UPS, vehicles TOT 1 ACT 1 BUF 0)                                   \r",
      "Step #100.00 (0ms ?*RT. ?UPS, vehicles TOT 127 ACT 71 BUF 373)                            \r",
      "Step #200.00 (1ms ~= 1000.00*RT, ~111000.00UPS, vehicles TOT 227 ACT 111 BUF 273)         \r",
      "Step #300.00 (1ms ~= 1000.00*RT, ~106000.00UPS, vehicles TOT 283 ACT 106 BUF 217)         \r",
      "Step #400.00 (1ms ~= 1000.00*RT, ~129000.00UPS, vehicles TOT 366 ACT 129 BUF 134)         \r",
      "Step #500.00 (0ms ?*RT. ?UPS, vehicles TOT 404 ACT 110 BUF 96)                            \r",
      "Step #600.00 (0ms ?*RT. ?UPS, vehicles TOT 456 ACT 100 BUF 44)                            \r",
      "Step #700.00 (0ms ?*RT. ?UPS, vehicles TOT 500 ACT 76 BUF 0)                              \r",
      "Step #800.00 (0ms ?*RT. ?UPS, vehicles TOT 500 ACT 4 BUF 0)                               \r",
      "Step #805.00 (0ms ?*RT. ?UPS, vehicles TOT 500 ACT 0 BUF 0)                               \r\n"
     ]
    },
    {
     "name": "stderr",
     "output_type": "stream",
     "text": [
      "Warning: Environment variable SUMO_HOME is not set properly, disabling XML validation. Set 'auto' or 'always' for web lookups.\n",
      " 33%|█████████████▋                           | 167/500 [01:52<02:40,  2.08it/s]"
     ]
    },
    {
     "name": "stdout",
     "output_type": "stream",
     "text": [
      "Step #0.00 (0ms ?*RT. ?UPS, vehicles TOT 1 ACT 1 BUF 0)                                   \r",
      "Step #100.00 (0ms ?*RT. ?UPS, vehicles TOT 134 ACT 78 BUF 366)                            \r",
      "Step #200.00 (1ms ~= 1000.00*RT, ~106000.00UPS, vehicles TOT 222 ACT 106 BUF 278)         \r",
      "Step #300.00 (1ms ~= 1000.00*RT, ~101000.00UPS, vehicles TOT 285 ACT 101 BUF 215)         \r",
      "Step #400.00 (0ms ?*RT. ?UPS, vehicles TOT 347 ACT 97 BUF 153)                            \r",
      "Step #500.00 (0ms ?*RT. ?UPS, vehicles TOT 403 ACT 89 BUF 97)                             \r",
      "Step #600.00 (1ms ~= 1000.00*RT, ~117000.00UPS, vehicles TOT 489 ACT 117 BUF 11)          \r",
      "Step #700.00 (0ms ?*RT. ?UPS, vehicles TOT 500 ACT 56 BUF 0)                              \r",
      "Step #779.00 (0ms ?*RT. ?UPS, vehicles TOT 500 ACT 0 BUF 0)                               \r\n"
     ]
    },
    {
     "name": "stderr",
     "output_type": "stream",
     "text": [
      "Warning: Environment variable SUMO_HOME is not set properly, disabling XML validation. Set 'auto' or 'always' for web lookups.\n",
      " 34%|█████████████▊                           | 168/500 [01:52<02:38,  2.09it/s]"
     ]
    },
    {
     "name": "stdout",
     "output_type": "stream",
     "text": [
      "Step #0.00 (1ms ~= 1000.00*RT, ~1000.00UPS, vehicles TOT 1 ACT 1 BUF 0)                   \r",
      "Step #100.00 (1ms ~= 1000.00*RT, ~81000.00UPS, vehicles TOT 136 ACT 81 BUF 364)           \r",
      "Step #200.00 (0ms ?*RT. ?UPS, vehicles TOT 226 ACT 109 BUF 274)                           \r",
      "Step #300.00 (0ms ?*RT. ?UPS, vehicles TOT 266 ACT 85 BUF 234)                            \r",
      "Step #400.00 (1ms ~= 1000.00*RT, ~105000.00UPS, vehicles TOT 345 ACT 105 BUF 155)         \r",
      "Step #500.00 (0ms ?*RT. ?UPS, vehicles TOT 412 ACT 112 BUF 88)                            \r",
      "Step #600.00 (1ms ~= 1000.00*RT, ~98000.00UPS, vehicles TOT 464 ACT 98 BUF 36)            \r",
      "Step #700.00 (0ms ?*RT. ?UPS, vehicles TOT 500 ACT 73 BUF 0)                              \r",
      "Step #800.00 (0ms ?*RT. ?UPS, vehicles TOT 500 ACT 6 BUF 0)                               \r",
      "Step #808.00 (0ms ?*RT. ?UPS, vehicles TOT 500 ACT 0 BUF 0)                               \r\n"
     ]
    },
    {
     "name": "stderr",
     "output_type": "stream",
     "text": [
      "Warning: Environment variable SUMO_HOME is not set properly, disabling XML validation. Set 'auto' or 'always' for web lookups.\n",
      " 34%|█████████████▊                           | 169/500 [01:53<02:38,  2.09it/s]"
     ]
    },
    {
     "name": "stdout",
     "output_type": "stream",
     "text": [
      "Step #0.00 (0ms ?*RT. ?UPS, vehicles TOT 1 ACT 1 BUF 0)                                   \r",
      "Step #100.00 (0ms ?*RT. ?UPS, vehicles TOT 127 ACT 73 BUF 373)                            \r",
      "Step #200.00 (1ms ~= 1000.00*RT, ~110000.00UPS, vehicles TOT 222 ACT 110 BUF 278)         \r",
      "Step #300.00 (1ms ~= 1000.00*RT, ~87000.00UPS, vehicles TOT 260 ACT 87 BUF 240)           \r",
      "Step #400.00 (1ms ~= 1000.00*RT, ~87000.00UPS, vehicles TOT 326 ACT 87 BUF 174)           \r",
      "Step #500.00 (0ms ?*RT. ?UPS, vehicles TOT 418 ACT 115 BUF 82)                            \r",
      "Step #600.00 (0ms ?*RT. ?UPS, vehicles TOT 474 ACT 115 BUF 26)                            \r",
      "Step #700.00 (0ms ?*RT. ?UPS, vehicles TOT 500 ACT 74 BUF 0)                              \r",
      "Step #800.00 (0ms ?*RT. ?UPS, vehicles TOT 500 ACT 3 BUF 0)                               \r",
      "Step #805.00 (0ms ?*RT. ?UPS, vehicles TOT 500 ACT 0 BUF 0)                               \r\n"
     ]
    },
    {
     "name": "stderr",
     "output_type": "stream",
     "text": [
      "Warning: Environment variable SUMO_HOME is not set properly, disabling XML validation. Set 'auto' or 'always' for web lookups.\n",
      " 34%|█████████████▉                           | 170/500 [01:53<02:40,  2.05it/s]"
     ]
    },
    {
     "name": "stdout",
     "output_type": "stream",
     "text": [
      "Step #0.00 (1ms ~= 1000.00*RT, ~1000.00UPS, vehicles TOT 1 ACT 1 BUF 0)                   \r",
      "Step #100.00 (1ms ~= 1000.00*RT, ~78000.00UPS, vehicles TOT 133 ACT 78 BUF 367)           \r",
      "Step #200.00 (0ms ?*RT. ?UPS, vehicles TOT 203 ACT 90 BUF 297)                            \r",
      "Step #300.00 (1ms ~= 1000.00*RT, ~100000.00UPS, vehicles TOT 274 ACT 100 BUF 226)         \r",
      "Step #400.00 (1ms ~= 1000.00*RT, ~124000.00UPS, vehicles TOT 358 ACT 124 BUF 142)         \r",
      "Step #500.00 (1ms ~= 1000.00*RT, ~96000.00UPS, vehicles TOT 386 ACT 96 BUF 114)           \r",
      "Step #600.00 (1ms ~= 1000.00*RT, ~116000.00UPS, vehicles TOT 463 ACT 116 BUF 37)          \r",
      "Step #700.00 (1ms ~= 1000.00*RT, ~94000.00UPS, vehicles TOT 500 ACT 94 BUF 0)             \r",
      "Step #800.00 (0ms ?*RT. ?UPS, vehicles TOT 500 ACT 36 BUF 0)                              \r",
      "Step #846.00 (0ms ?*RT. ?UPS, vehicles TOT 500 ACT 0 BUF 0)                               \r\n"
     ]
    },
    {
     "name": "stderr",
     "output_type": "stream",
     "text": [
      "Warning: Environment variable SUMO_HOME is not set properly, disabling XML validation. Set 'auto' or 'always' for web lookups.\n",
      " 34%|██████████████                           | 171/500 [01:54<02:42,  2.03it/s]"
     ]
    },
    {
     "name": "stdout",
     "output_type": "stream",
     "text": [
      "Step #0.00 (0ms ?*RT. ?UPS, vehicles TOT 1 ACT 1 BUF 0)                                   \r",
      "Step #100.00 (1ms ~= 1000.00*RT, ~78000.00UPS, vehicles TOT 131 ACT 78 BUF 369)           \r",
      "Step #200.00 (1ms ~= 1000.00*RT, ~124000.00UPS, vehicles TOT 237 ACT 124 BUF 263)         \r",
      "Step #300.00 (1ms ~= 1000.00*RT, ~98000.00UPS, vehicles TOT 269 ACT 98 BUF 231)           \r",
      "Step #400.00 (0ms ?*RT. ?UPS, vehicles TOT 341 ACT 109 BUF 159)                           \r",
      "Step #500.00 (1ms ~= 1000.00*RT, ~108000.00UPS, vehicles TOT 409 ACT 108 BUF 91)          \r",
      "Step #600.00 (1ms ~= 1000.00*RT, ~111000.00UPS, vehicles TOT 473 ACT 111 BUF 27)          \r",
      "Step #700.00 (0ms ?*RT. ?UPS, vehicles TOT 500 ACT 80 BUF 0)                              \r",
      "Step #800.00 (1ms ~= 1000.00*RT, ~17000.00UPS, vehicles TOT 500 ACT 17 BUF 0)             \r",
      "Step #821.00 (0ms ?*RT. ?UPS, vehicles TOT 500 ACT 0 BUF 0)                               \r\n"
     ]
    },
    {
     "name": "stderr",
     "output_type": "stream",
     "text": [
      "Warning: Environment variable SUMO_HOME is not set properly, disabling XML validation. Set 'auto' or 'always' for web lookups.\n",
      " 34%|██████████████                           | 172/500 [01:54<02:40,  2.04it/s]"
     ]
    },
    {
     "name": "stdout",
     "output_type": "stream",
     "text": [
      "Step #0.00 (0ms ?*RT. ?UPS, vehicles TOT 1 ACT 1 BUF 0)                                   \r",
      "Step #100.00 (0ms ?*RT. ?UPS, vehicles TOT 127 ACT 72 BUF 373)                            \r",
      "Step #200.00 (1ms ~= 1000.00*RT, ~118000.00UPS, vehicles TOT 230 ACT 118 BUF 270)         \r",
      "Step #300.00 (1ms ~= 1000.00*RT, ~93000.00UPS, vehicles TOT 271 ACT 93 BUF 229)           \r",
      "Step #400.00 (1ms ~= 1000.00*RT, ~116000.00UPS, vehicles TOT 353 ACT 116 BUF 147)         \r",
      "Step #500.00 (1ms ~= 1000.00*RT, ~101000.00UPS, vehicles TOT 398 ACT 101 BUF 102)         \r",
      "Step #600.00 (0ms ?*RT. ?UPS, vehicles TOT 446 ACT 84 BUF 54)                             \r",
      "Step #700.00 (0ms ?*RT. ?UPS, vehicles TOT 500 ACT 75 BUF 0)                              \r",
      "Step #800.00 (0ms ?*RT. ?UPS, vehicles TOT 500 ACT 5 BUF 0)                               \r",
      "Step #807.00 (1ms ~= 1000.00*RT, ~0.00UPS, vehicles TOT 500 ACT 0 BUF 0)                  \r\n"
     ]
    },
    {
     "name": "stderr",
     "output_type": "stream",
     "text": [
      "Warning: Environment variable SUMO_HOME is not set properly, disabling XML validation. Set 'auto' or 'always' for web lookups.\n",
      " 35%|██████████████▏                          | 173/500 [01:55<02:37,  2.07it/s]"
     ]
    },
    {
     "name": "stdout",
     "output_type": "stream",
     "text": [
      "Step #0.00 (0ms ?*RT. ?UPS, vehicles TOT 1 ACT 1 BUF 0)                                   \r",
      "Step #100.00 (0ms ?*RT. ?UPS, vehicles TOT 139 ACT 82 BUF 361)                            \r",
      "Step #200.00 (1ms ~= 1000.00*RT, ~114000.00UPS, vehicles TOT 232 ACT 114 BUF 268)         \r",
      "Step #300.00 (0ms ?*RT. ?UPS, vehicles TOT 291 ACT 107 BUF 209)                           \r",
      "Step #400.00 (0ms ?*RT. ?UPS, vehicles TOT 348 ACT 100 BUF 152)                           \r",
      "Step #500.00 (1ms ~= 1000.00*RT, ~101000.00UPS, vehicles TOT 412 ACT 101 BUF 88)          \r",
      "Step #600.00 (1ms ~= 1000.00*RT, ~89000.00UPS, vehicles TOT 462 ACT 89 BUF 38)            \r",
      "Step #700.00 (0ms ?*RT. ?UPS, vehicles TOT 500 ACT 60 BUF 0)                              \r",
      "Step #780.00 (0ms ?*RT. ?UPS, vehicles TOT 500 ACT 0 BUF 0)                               \r\n"
     ]
    },
    {
     "name": "stderr",
     "output_type": "stream",
     "text": [
      "Warning: Environment variable SUMO_HOME is not set properly, disabling XML validation. Set 'auto' or 'always' for web lookups.\n",
      " 35%|██████████████▎                          | 174/500 [01:55<02:41,  2.02it/s]"
     ]
    },
    {
     "name": "stdout",
     "output_type": "stream",
     "text": [
      "Step #0.00 (0ms ?*RT. ?UPS, vehicles TOT 1 ACT 1 BUF 0)                                   \r",
      "Step #100.00 (0ms ?*RT. ?UPS, vehicles TOT 134 ACT 81 BUF 366)                            \r",
      "Step #200.00 (1ms ~= 1000.00*RT, ~110000.00UPS, vehicles TOT 221 ACT 110 BUF 279)         \r",
      "Step #300.00 (1ms ~= 1000.00*RT, ~89000.00UPS, vehicles TOT 264 ACT 89 BUF 236)           \r",
      "Step #400.00 (1ms ~= 1000.00*RT, ~117000.00UPS, vehicles TOT 350 ACT 117 BUF 150)         \r",
      "Step #500.00 (1ms ~= 1000.00*RT, ~99000.00UPS, vehicles TOT 395 ACT 99 BUF 105)           \r",
      "Step #600.00 (0ms ?*RT. ?UPS, vehicles TOT 449 ACT 92 BUF 51)                             \r",
      "Step #700.00 (1ms ~= 1000.00*RT, ~86000.00UPS, vehicles TOT 500 ACT 86 BUF 0)             \r",
      "Step #800.00 (0ms ?*RT. ?UPS, vehicles TOT 500 ACT 22 BUF 0)                              \r",
      "Step #828.00 (0ms ?*RT. ?UPS, vehicles TOT 500 ACT 0 BUF 0)                               \r\n"
     ]
    },
    {
     "name": "stderr",
     "output_type": "stream",
     "text": [
      "Warning: Environment variable SUMO_HOME is not set properly, disabling XML validation. Set 'auto' or 'always' for web lookups.\n",
      " 35%|██████████████▎                          | 175/500 [01:56<03:08,  1.73it/s]"
     ]
    },
    {
     "name": "stdout",
     "output_type": "stream",
     "text": [
      "Step #0.00 (0ms ?*RT. ?UPS, vehicles TOT 1 ACT 1 BUF 0)                                   \r",
      "Step #100.00 (1ms ~= 1000.00*RT, ~75000.00UPS, vehicles TOT 132 ACT 75 BUF 368)           \r",
      "Step #200.00 (1ms ~= 1000.00*RT, ~98000.00UPS, vehicles TOT 219 ACT 98 BUF 281)           \r",
      "Step #300.00 (1ms ~= 1000.00*RT, ~103000.00UPS, vehicles TOT 286 ACT 103 BUF 214)         \r",
      "Step #400.00 (1ms ~= 1000.00*RT, ~97000.00UPS, vehicles TOT 341 ACT 97 BUF 159)           \r",
      "Step #500.00 (1ms ~= 1000.00*RT, ~113000.00UPS, vehicles TOT 421 ACT 113 BUF 79)          \r",
      "Step #600.00 (1ms ~= 1000.00*RT, ~82000.00UPS, vehicles TOT 455 ACT 82 BUF 45)            \r",
      "Step #700.00 (1ms ~= 1000.00*RT, ~68000.00UPS, vehicles TOT 500 ACT 68 BUF 0)             \r",
      "Step #793.00 (0ms ?*RT. ?UPS, vehicles TOT 500 ACT 0 BUF 0)                               \r\n"
     ]
    },
    {
     "name": "stderr",
     "output_type": "stream",
     "text": [
      "Warning: Environment variable SUMO_HOME is not set properly, disabling XML validation. Set 'auto' or 'always' for web lookups.\n",
      " 35%|██████████████▍                          | 176/500 [01:57<03:33,  1.52it/s]"
     ]
    },
    {
     "name": "stdout",
     "output_type": "stream",
     "text": [
      "Step #0.00 (0ms ?*RT. ?UPS, vehicles TOT 1 ACT 1 BUF 0)                                   \r",
      "Step #100.00 (1ms ~= 1000.00*RT, ~75000.00UPS, vehicles TOT 133 ACT 75 BUF 367)           \r",
      "Step #200.00 (1ms ~= 1000.00*RT, ~104000.00UPS, vehicles TOT 224 ACT 104 BUF 276)         \r",
      "Step #300.00 (2ms ~= 500.00*RT, ~59500.00UPS, vehicles TOT 297 ACT 119 BUF 203)           \r",
      "Step #400.00 (1ms ~= 1000.00*RT, ~100000.00UPS, vehicles TOT 342 ACT 100 BUF 158)         \r",
      "Step #500.00 (1ms ~= 1000.00*RT, ~97000.00UPS, vehicles TOT 402 ACT 97 BUF 98)            \r",
      "Step #600.00 (1ms ~= 1000.00*RT, ~102000.00UPS, vehicles TOT 473 ACT 102 BUF 27)          \r",
      "Step #700.00 (0ms ?*RT. ?UPS, vehicles TOT 500 ACT 71 BUF 0)                              \r",
      "Step #798.00 (0ms ?*RT. ?UPS, vehicles TOT 500 ACT 0 BUF 0)                               \r\n"
     ]
    },
    {
     "name": "stderr",
     "output_type": "stream",
     "text": [
      "Warning: Environment variable SUMO_HOME is not set properly, disabling XML validation. Set 'auto' or 'always' for web lookups.\n",
      " 35%|██████████████▌                          | 177/500 [01:58<03:50,  1.40it/s]"
     ]
    },
    {
     "name": "stdout",
     "output_type": "stream",
     "text": [
      "Step #0.00 (1ms ~= 1000.00*RT, ~1000.00UPS, vehicles TOT 1 ACT 1 BUF 0)                   \r",
      "Step #100.00 (2ms ~= 500.00*RT, ~39000.00UPS, vehicles TOT 135 ACT 78 BUF 365)            \r",
      "Step #200.00 (1ms ~= 1000.00*RT, ~99000.00UPS, vehicles TOT 223 ACT 99 BUF 277)           \r",
      "Step #300.00 (1ms ~= 1000.00*RT, ~117000.00UPS, vehicles TOT 302 ACT 117 BUF 198)         \r",
      "Step #400.00 (1ms ~= 1000.00*RT, ~98000.00UPS, vehicles TOT 343 ACT 98 BUF 157)           \r",
      "Step #500.00 (0ms ?*RT. ?UPS, vehicles TOT 390 ACT 87 BUF 110)                            \r",
      "Step #600.00 (1ms ~= 1000.00*RT, ~114000.00UPS, vehicles TOT 477 ACT 114 BUF 23)          \r",
      "Step #700.00 (1ms ~= 1000.00*RT, ~71000.00UPS, vehicles TOT 500 ACT 71 BUF 0)             \r",
      "Step #800.00 (1ms ~= 1000.00*RT, ~6000.00UPS, vehicles TOT 500 ACT 6 BUF 0)               \r",
      "Step #808.00 (0ms ?*RT. ?UPS, vehicles TOT 500 ACT 0 BUF 0)                               \r\n"
     ]
    },
    {
     "name": "stderr",
     "output_type": "stream",
     "text": [
      "Warning: Environment variable SUMO_HOME is not set properly, disabling XML validation. Set 'auto' or 'always' for web lookups.\n",
      " 36%|██████████████▌                          | 178/500 [01:59<03:57,  1.36it/s]"
     ]
    },
    {
     "name": "stdout",
     "output_type": "stream",
     "text": [
      "Step #0.00 (0ms ?*RT. ?UPS, vehicles TOT 1 ACT 1 BUF 0)                                   \r",
      "Step #100.00 (2ms ~= 500.00*RT, ~40000.00UPS, vehicles TOT 132 ACT 80 BUF 368)            \r",
      "Step #200.00 (1ms ~= 1000.00*RT, ~79000.00UPS, vehicles TOT 198 ACT 79 BUF 302)           \r",
      "Step #300.00 (2ms ~= 500.00*RT, ~55500.00UPS, vehicles TOT 292 ACT 111 BUF 208)           \r",
      "Step #400.00 (1ms ~= 1000.00*RT, ~110000.00UPS, vehicles TOT 350 ACT 110 BUF 150)         \r",
      "Step #500.00 (1ms ~= 1000.00*RT, ~88000.00UPS, vehicles TOT 390 ACT 88 BUF 110)           \r",
      "Step #600.00 (1ms ~= 1000.00*RT, ~85000.00UPS, vehicles TOT 451 ACT 85 BUF 49)            \r",
      "Step #700.00 (1ms ~= 1000.00*RT, ~68000.00UPS, vehicles TOT 500 ACT 68 BUF 0)             \r",
      "Step #797.00 (0ms ?*RT. ?UPS, vehicles TOT 500 ACT 0 BUF 0)                               \r\n"
     ]
    },
    {
     "name": "stderr",
     "output_type": "stream",
     "text": [
      "Warning: Environment variable SUMO_HOME is not set properly, disabling XML validation. Set 'auto' or 'always' for web lookups.\n",
      " 36%|██████████████▋                          | 179/500 [01:59<04:07,  1.30it/s]"
     ]
    },
    {
     "name": "stdout",
     "output_type": "stream",
     "text": [
      "Step #0.00 (0ms ?*RT. ?UPS, vehicles TOT 1 ACT 1 BUF 0)                                   \r",
      "Step #100.00 (1ms ~= 1000.00*RT, ~85000.00UPS, vehicles TOT 136 ACT 85 BUF 364)           \r",
      "Step #200.00 (1ms ~= 1000.00*RT, ~110000.00UPS, vehicles TOT 224 ACT 110 BUF 276)         \r",
      "Step #300.00 (1ms ~= 1000.00*RT, ~85000.00UPS, vehicles TOT 263 ACT 85 BUF 237)           \r",
      "Step #400.00 (1ms ~= 1000.00*RT, ~115000.00UPS, vehicles TOT 355 ACT 115 BUF 145)         \r",
      "Step #500.00 (1ms ~= 1000.00*RT, ~87000.00UPS, vehicles TOT 389 ACT 87 BUF 111)           \r",
      "Step #600.00 (2ms ~= 500.00*RT, ~59000.00UPS, vehicles TOT 477 ACT 118 BUF 23)            \r",
      "Step #700.00 (1ms ~= 1000.00*RT, ~76000.00UPS, vehicles TOT 500 ACT 76 BUF 0)             \r",
      "Step #800.00 (0ms ?*RT. ?UPS, vehicles TOT 500 ACT 13 BUF 0)                              \r",
      "Step #816.00 (0ms ?*RT. ?UPS, vehicles TOT 500 ACT 0 BUF 0)                               \r\n"
     ]
    },
    {
     "name": "stderr",
     "output_type": "stream",
     "text": [
      "Warning: Environment variable SUMO_HOME is not set properly, disabling XML validation. Set 'auto' or 'always' for web lookups.\n",
      " 36%|██████████████▊                          | 180/500 [02:00<04:13,  1.26it/s]"
     ]
    },
    {
     "name": "stdout",
     "output_type": "stream",
     "text": [
      "Step #0.00 (0ms ?*RT. ?UPS, vehicles TOT 1 ACT 1 BUF 0)                                   \r",
      "Step #100.00 (1ms ~= 1000.00*RT, ~89000.00UPS, vehicles TOT 139 ACT 89 BUF 361)           \r",
      "Step #200.00 (1ms ~= 1000.00*RT, ~90000.00UPS, vehicles TOT 207 ACT 90 BUF 293)           \r",
      "Step #300.00 (1ms ~= 1000.00*RT, ~111000.00UPS, vehicles TOT 287 ACT 111 BUF 213)         \r",
      "Step #400.00 (1ms ~= 1000.00*RT, ~104000.00UPS, vehicles TOT 345 ACT 104 BUF 155)         \r",
      "Step #500.00 (1ms ~= 1000.00*RT, ~98000.00UPS, vehicles TOT 398 ACT 98 BUF 102)           \r",
      "Step #600.00 (1ms ~= 1000.00*RT, ~105000.00UPS, vehicles TOT 462 ACT 105 BUF 38)          \r",
      "Step #700.00 (1ms ~= 1000.00*RT, ~80000.00UPS, vehicles TOT 500 ACT 80 BUF 0)             \r",
      "Step #800.00 (0ms ?*RT. ?UPS, vehicles TOT 500 ACT 6 BUF 0)                               \r",
      "Step #809.00 (0ms ?*RT. ?UPS, vehicles TOT 500 ACT 0 BUF 0)                               \r\n"
     ]
    },
    {
     "name": "stderr",
     "output_type": "stream",
     "text": [
      "Warning: Environment variable SUMO_HOME is not set properly, disabling XML validation. Set 'auto' or 'always' for web lookups.\n",
      " 36%|██████████████▊                          | 181/500 [02:01<04:16,  1.25it/s]"
     ]
    },
    {
     "name": "stdout",
     "output_type": "stream",
     "text": [
      "Step #0.00 (1ms ~= 1000.00*RT, ~1000.00UPS, vehicles TOT 1 ACT 1 BUF 0)                   \r",
      "Step #100.00 (1ms ~= 1000.00*RT, ~76000.00UPS, vehicles TOT 135 ACT 76 BUF 365)           \r",
      "Step #200.00 (1ms ~= 1000.00*RT, ~113000.00UPS, vehicles TOT 228 ACT 113 BUF 272)         \r",
      "Step #300.00 (1ms ~= 1000.00*RT, ~120000.00UPS, vehicles TOT 293 ACT 120 BUF 207)         \r",
      "Step #400.00 (1ms ~= 1000.00*RT, ~98000.00UPS, vehicles TOT 330 ACT 98 BUF 170)           \r",
      "Step #500.00 (1ms ~= 1000.00*RT, ~94000.00UPS, vehicles TOT 392 ACT 94 BUF 108)           \r",
      "Step #600.00 (1ms ~= 1000.00*RT, ~85000.00UPS, vehicles TOT 448 ACT 85 BUF 52)            \r",
      "Step #700.00 (0ms ?*RT. ?UPS, vehicles TOT 500 ACT 79 BUF 0)                              \r",
      "Step #800.00 (0ms ?*RT. ?UPS, vehicles TOT 500 ACT 11 BUF 0)                              \r",
      "Step #815.00 (0ms ?*RT. ?UPS, vehicles TOT 500 ACT 0 BUF 0)                               \r\n"
     ]
    },
    {
     "name": "stderr",
     "output_type": "stream",
     "text": [
      "Warning: Environment variable SUMO_HOME is not set properly, disabling XML validation. Set 'auto' or 'always' for web lookups.\n",
      " 36%|██████████████▉                          | 182/500 [02:02<04:19,  1.23it/s]"
     ]
    },
    {
     "name": "stdout",
     "output_type": "stream",
     "text": [
      "Step #0.00 (1ms ~= 1000.00*RT, ~1000.00UPS, vehicles TOT 1 ACT 1 BUF 0)                   \r",
      "Step #100.00 (1ms ~= 1000.00*RT, ~73000.00UPS, vehicles TOT 131 ACT 73 BUF 369)           \r",
      "Step #200.00 (1ms ~= 1000.00*RT, ~109000.00UPS, vehicles TOT 231 ACT 109 BUF 269)         \r",
      "Step #300.00 (1ms ~= 1000.00*RT, ~101000.00UPS, vehicles TOT 280 ACT 101 BUF 220)         \r",
      "Step #400.00 (1ms ~= 1000.00*RT, ~81000.00UPS, vehicles TOT 317 ACT 81 BUF 183)           \r",
      "Step #500.00 (1ms ~= 1000.00*RT, ~93000.00UPS, vehicles TOT 387 ACT 93 BUF 113)           \r",
      "Step #600.00 (1ms ~= 1000.00*RT, ~107000.00UPS, vehicles TOT 463 ACT 107 BUF 37)          \r",
      "Step #700.00 (1ms ~= 1000.00*RT, ~83000.00UPS, vehicles TOT 500 ACT 83 BUF 0)             \r",
      "Step #800.00 (1ms ~= 1000.00*RT, ~21000.00UPS, vehicles TOT 500 ACT 21 BUF 0)             \r",
      "Step #827.00 (0ms ?*RT. ?UPS, vehicles TOT 500 ACT 0 BUF 0)                               \r\n"
     ]
    },
    {
     "name": "stderr",
     "output_type": "stream",
     "text": [
      "Warning: Environment variable SUMO_HOME is not set properly, disabling XML validation. Set 'auto' or 'always' for web lookups.\n",
      " 37%|███████████████                          | 183/500 [02:03<04:19,  1.22it/s]"
     ]
    },
    {
     "name": "stdout",
     "output_type": "stream",
     "text": [
      "Step #0.00 (0ms ?*RT. ?UPS, vehicles TOT 1 ACT 1 BUF 0)                                   \r",
      "Step #100.00 (1ms ~= 1000.00*RT, ~80000.00UPS, vehicles TOT 135 ACT 80 BUF 365)           \r",
      "Step #200.00 (1ms ~= 1000.00*RT, ~107000.00UPS, vehicles TOT 223 ACT 107 BUF 277)         \r",
      "Step #300.00 (1ms ~= 1000.00*RT, ~101000.00UPS, vehicles TOT 284 ACT 101 BUF 216)         \r",
      "Step #400.00 (0ms ?*RT. ?UPS, vehicles TOT 338 ACT 95 BUF 162)                            \r",
      "Step #500.00 (1ms ~= 1000.00*RT, ~96000.00UPS, vehicles TOT 405 ACT 96 BUF 95)            \r",
      "Step #600.00 (1ms ~= 1000.00*RT, ~97000.00UPS, vehicles TOT 469 ACT 97 BUF 31)            \r",
      "Step #700.00 (0ms ?*RT. ?UPS, vehicles TOT 500 ACT 70 BUF 0)                              \r",
      "Step #800.00 (0ms ?*RT. ?UPS, vehicles TOT 500 ACT 0 BUF 0)                               \r\n"
     ]
    },
    {
     "name": "stderr",
     "output_type": "stream",
     "text": [
      "Warning: Environment variable SUMO_HOME is not set properly, disabling XML validation. Set 'auto' or 'always' for web lookups.\n",
      " 37%|███████████████                          | 184/500 [02:04<04:20,  1.21it/s]"
     ]
    },
    {
     "name": "stdout",
     "output_type": "stream",
     "text": [
      "Step #0.00 (0ms ?*RT. ?UPS, vehicles TOT 1 ACT 1 BUF 0)                                   \r",
      "Step #100.00 (1ms ~= 1000.00*RT, ~75000.00UPS, vehicles TOT 134 ACT 75 BUF 366)           \r",
      "Step #200.00 (1ms ~= 1000.00*RT, ~97000.00UPS, vehicles TOT 217 ACT 97 BUF 283)           \r",
      "Step #300.00 (1ms ~= 1000.00*RT, ~96000.00UPS, vehicles TOT 279 ACT 96 BUF 221)           \r",
      "Step #400.00 (1ms ~= 1000.00*RT, ~110000.00UPS, vehicles TOT 355 ACT 110 BUF 145)         \r",
      "Step #500.00 (1ms ~= 1000.00*RT, ~104000.00UPS, vehicles TOT 406 ACT 104 BUF 94)          \r",
      "Step #600.00 (1ms ~= 1000.00*RT, ~95000.00UPS, vehicles TOT 461 ACT 95 BUF 39)            \r",
      "Step #700.00 (1ms ~= 1000.00*RT, ~71000.00UPS, vehicles TOT 500 ACT 71 BUF 0)             \r",
      "Step #800.00 (0ms ?*RT. ?UPS, vehicles TOT 500 ACT 4 BUF 0)                               \r",
      "Step #806.00 (0ms ?*RT. ?UPS, vehicles TOT 500 ACT 0 BUF 0)                               \r\n"
     ]
    },
    {
     "name": "stderr",
     "output_type": "stream",
     "text": [
      "Warning: Environment variable SUMO_HOME is not set properly, disabling XML validation. Set 'auto' or 'always' for web lookups.\n",
      " 37%|███████████████▏                         | 185/500 [02:04<04:21,  1.21it/s]"
     ]
    },
    {
     "name": "stdout",
     "output_type": "stream",
     "text": [
      "Step #0.00 (0ms ?*RT. ?UPS, vehicles TOT 1 ACT 1 BUF 0)                                   \r",
      "Step #100.00 (2ms ~= 500.00*RT, ~38000.00UPS, vehicles TOT 133 ACT 76 BUF 367)            \r",
      "Step #200.00 (2ms ~= 500.00*RT, ~53500.00UPS, vehicles TOT 227 ACT 107 BUF 273)           \r",
      "Step #300.00 (1ms ~= 1000.00*RT, ~100000.00UPS, vehicles TOT 282 ACT 100 BUF 218)         \r",
      "Step #400.00 (1ms ~= 1000.00*RT, ~120000.00UPS, vehicles TOT 367 ACT 120 BUF 133)         \r",
      "Step #500.00 (1ms ~= 1000.00*RT, ~93000.00UPS, vehicles TOT 402 ACT 93 BUF 98)            \r",
      "Step #600.00 (1ms ~= 1000.00*RT, ~119000.00UPS, vehicles TOT 484 ACT 119 BUF 16)          \r",
      "Step #700.00 (0ms ?*RT. ?UPS, vehicles TOT 500 ACT 76 BUF 0)                              \r",
      "Step #800.00 (0ms ?*RT. ?UPS, vehicles TOT 500 ACT 7 BUF 0)                               \r",
      "Step #810.00 (0ms ?*RT. ?UPS, vehicles TOT 500 ACT 0 BUF 0)                               \r\n"
     ]
    },
    {
     "name": "stderr",
     "output_type": "stream",
     "text": [
      "Warning: Environment variable SUMO_HOME is not set properly, disabling XML validation. Set 'auto' or 'always' for web lookups.\n",
      " 37%|███████████████▎                         | 186/500 [02:05<04:18,  1.21it/s]"
     ]
    },
    {
     "name": "stdout",
     "output_type": "stream",
     "text": [
      "Step #0.00 (1ms ~= 1000.00*RT, ~1000.00UPS, vehicles TOT 1 ACT 1 BUF 0)                   \r",
      "Step #100.00 (1ms ~= 1000.00*RT, ~74000.00UPS, vehicles TOT 132 ACT 74 BUF 368)           \r",
      "Step #200.00 (1ms ~= 1000.00*RT, ~105000.00UPS, vehicles TOT 226 ACT 105 BUF 274)         \r",
      "Step #300.00 (1ms ~= 1000.00*RT, ~92000.00UPS, vehicles TOT 278 ACT 92 BUF 222)           \r",
      "Step #400.00 (1ms ~= 1000.00*RT, ~92000.00UPS, vehicles TOT 342 ACT 92 BUF 158)           \r",
      "Step #500.00 (1ms ~= 1000.00*RT, ~110000.00UPS, vehicles TOT 423 ACT 110 BUF 77)          \r",
      "Step #600.00 (1ms ~= 1000.00*RT, ~114000.00UPS, vehicles TOT 486 ACT 114 BUF 14)          \r",
      "Step #700.00 (0ms ?*RT. ?UPS, vehicles TOT 500 ACT 69 BUF 0)                              \r",
      "Step #800.00 (0ms ?*RT. ?UPS, vehicles TOT 500 ACT 0 BUF 0)                               \r\n"
     ]
    },
    {
     "name": "stderr",
     "output_type": "stream",
     "text": [
      "Warning: Environment variable SUMO_HOME is not set properly, disabling XML validation. Set 'auto' or 'always' for web lookups.\n",
      " 37%|███████████████▎                         | 187/500 [02:06<03:50,  1.36it/s]"
     ]
    },
    {
     "name": "stdout",
     "output_type": "stream",
     "text": [
      "Step #0.00 (0ms ?*RT. ?UPS, vehicles TOT 1 ACT 1 BUF 0)                                   \r",
      "Step #100.00 (0ms ?*RT. ?UPS, vehicles TOT 118 ACT 61 BUF 382)                            \r",
      "Step #200.00 (1ms ~= 1000.00*RT, ~94000.00UPS, vehicles TOT 212 ACT 94 BUF 288)           \r",
      "Step #300.00 (0ms ?*RT. ?UPS, vehicles TOT 267 ACT 84 BUF 233)                            \r",
      "Step #400.00 (0ms ?*RT. ?UPS, vehicles TOT 354 ACT 107 BUF 146)                           \r",
      "Step #500.00 (1ms ~= 1000.00*RT, ~114000.00UPS, vehicles TOT 421 ACT 114 BUF 79)          \r",
      "Step #600.00 (0ms ?*RT. ?UPS, vehicles TOT 466 ACT 97 BUF 34)                             \r",
      "Step #700.00 (1ms ~= 1000.00*RT, ~69000.00UPS, vehicles TOT 500 ACT 69 BUF 0)             \r",
      "Step #794.00 (0ms ?*RT. ?UPS, vehicles TOT 500 ACT 0 BUF 0)                               \r\n"
     ]
    },
    {
     "name": "stderr",
     "output_type": "stream",
     "text": [
      "Warning: Environment variable SUMO_HOME is not set properly, disabling XML validation. Set 'auto' or 'always' for web lookups.\n",
      " 38%|███████████████▍                         | 188/500 [02:06<03:22,  1.54it/s]"
     ]
    },
    {
     "name": "stdout",
     "output_type": "stream",
     "text": [
      "Step #0.00 (0ms ?*RT. ?UPS, vehicles TOT 1 ACT 1 BUF 0)                                   \r",
      "Step #100.00 (1ms ~= 1000.00*RT, ~77000.00UPS, vehicles TOT 131 ACT 77 BUF 369)           \r",
      "Step #200.00 (1ms ~= 1000.00*RT, ~98000.00UPS, vehicles TOT 211 ACT 98 BUF 289)           \r",
      "Step #300.00 (0ms ?*RT. ?UPS, vehicles TOT 266 ACT 93 BUF 234)                            \r",
      "Step #400.00 (1ms ~= 1000.00*RT, ~69000.00UPS, vehicles TOT 311 ACT 69 BUF 189)           \r",
      "Step #500.00 (0ms ?*RT. ?UPS, vehicles TOT 395 ACT 96 BUF 105)                            \r",
      "Step #600.00 (1ms ~= 1000.00*RT, ~89000.00UPS, vehicles TOT 453 ACT 89 BUF 47)            \r",
      "Step #700.00 (1ms ~= 1000.00*RT, ~71000.00UPS, vehicles TOT 500 ACT 71 BUF 0)             \r",
      "Step #800.00 (0ms ?*RT. ?UPS, vehicles TOT 500 ACT 2 BUF 0)                               \r",
      "Step #803.00 (0ms ?*RT. ?UPS, vehicles TOT 500 ACT 0 BUF 0)                               \r\n"
     ]
    },
    {
     "name": "stderr",
     "output_type": "stream",
     "text": [
      "Warning: Environment variable SUMO_HOME is not set properly, disabling XML validation. Set 'auto' or 'always' for web lookups.\n",
      " 38%|███████████████▍                         | 189/500 [02:07<03:05,  1.68it/s]"
     ]
    },
    {
     "name": "stdout",
     "output_type": "stream",
     "text": [
      "Step #0.00 (0ms ?*RT. ?UPS, vehicles TOT 1 ACT 1 BUF 0)                                   \r",
      "Step #100.00 (0ms ?*RT. ?UPS, vehicles TOT 136 ACT 80 BUF 364)                            \r",
      "Step #200.00 (1ms ~= 1000.00*RT, ~109000.00UPS, vehicles TOT 226 ACT 109 BUF 274)         \r",
      "Step #300.00 (0ms ?*RT. ?UPS, vehicles TOT 260 ACT 80 BUF 240)                            \r",
      "Step #400.00 (1ms ~= 1000.00*RT, ~114000.00UPS, vehicles TOT 350 ACT 114 BUF 150)         \r",
      "Step #500.00 (0ms ?*RT. ?UPS, vehicles TOT 382 ACT 88 BUF 118)                            \r",
      "Step #600.00 (1ms ~= 1000.00*RT, ~114000.00UPS, vehicles TOT 466 ACT 114 BUF 34)          \r",
      "Step #700.00 (0ms ?*RT. ?UPS, vehicles TOT 500 ACT 86 BUF 0)                              \r",
      "Step #800.00 (0ms ?*RT. ?UPS, vehicles TOT 500 ACT 19 BUF 0)                              \r",
      "Step #824.00 (0ms ?*RT. ?UPS, vehicles TOT 500 ACT 0 BUF 0)                               \r\n"
     ]
    },
    {
     "name": "stderr",
     "output_type": "stream",
     "text": [
      "Warning: Environment variable SUMO_HOME is not set properly, disabling XML validation. Set 'auto' or 'always' for web lookups.\n",
      " 38%|███████████████▌                         | 190/500 [02:07<02:53,  1.79it/s]"
     ]
    },
    {
     "name": "stdout",
     "output_type": "stream",
     "text": [
      "Step #0.00 (0ms ?*RT. ?UPS, vehicles TOT 1 ACT 1 BUF 0)                                   \r",
      "Step #100.00 (1ms ~= 1000.00*RT, ~79000.00UPS, vehicles TOT 135 ACT 79 BUF 365)           \r",
      "Step #200.00 (0ms ?*RT. ?UPS, vehicles TOT 218 ACT 96 BUF 282)                            \r",
      "Step #300.00 (1ms ~= 1000.00*RT, ~92000.00UPS, vehicles TOT 274 ACT 92 BUF 226)           \r",
      "Step #400.00 (0ms ?*RT. ?UPS, vehicles TOT 356 ACT 117 BUF 144)                           \r",
      "Step #500.00 (0ms ?*RT. ?UPS, vehicles TOT 383 ACT 83 BUF 117)                            \r",
      "Step #600.00 (0ms ?*RT. ?UPS, vehicles TOT 467 ACT 107 BUF 33)                            \r",
      "Step #700.00 (1ms ~= 1000.00*RT, ~84000.00UPS, vehicles TOT 500 ACT 84 BUF 0)             \r",
      "Step #800.00 (0ms ?*RT. ?UPS, vehicles TOT 500 ACT 19 BUF 0)                              \r",
      "Step #825.00 (0ms ?*RT. ?UPS, vehicles TOT 500 ACT 0 BUF 0)                               \r\n"
     ]
    },
    {
     "name": "stderr",
     "output_type": "stream",
     "text": [
      "Warning: Environment variable SUMO_HOME is not set properly, disabling XML validation. Set 'auto' or 'always' for web lookups.\n",
      " 38%|███████████████▋                         | 191/500 [02:08<02:41,  1.91it/s]"
     ]
    },
    {
     "name": "stdout",
     "output_type": "stream",
     "text": [
      "Step #0.00 (1ms ~= 1000.00*RT, ~1000.00UPS, vehicles TOT 1 ACT 1 BUF 0)                   \r",
      "Step #100.00 (1ms ~= 1000.00*RT, ~74000.00UPS, vehicles TOT 129 ACT 74 BUF 371)           \r",
      "Step #200.00 (1ms ~= 1000.00*RT, ~102000.00UPS, vehicles TOT 215 ACT 102 BUF 285)         \r",
      "Step #300.00 (1ms ~= 1000.00*RT, ~97000.00UPS, vehicles TOT 277 ACT 97 BUF 223)           \r",
      "Step #400.00 (1ms ~= 1000.00*RT, ~98000.00UPS, vehicles TOT 340 ACT 98 BUF 160)           \r",
      "Step #500.00 (1ms ~= 1000.00*RT, ~94000.00UPS, vehicles TOT 399 ACT 94 BUF 101)           \r",
      "Step #600.00 (1ms ~= 1000.00*RT, ~79000.00UPS, vehicles TOT 455 ACT 79 BUF 45)            \r",
      "Step #700.00 (1ms ~= 1000.00*RT, ~57000.00UPS, vehicles TOT 500 ACT 57 BUF 0)             \r",
      "Step #776.00 (1ms ~= 1000.00*RT, ~0.00UPS, vehicles TOT 500 ACT 0 BUF 0)                  \r\n"
     ]
    },
    {
     "name": "stderr",
     "output_type": "stream",
     "text": [
      "Warning: Environment variable SUMO_HOME is not set properly, disabling XML validation. Set 'auto' or 'always' for web lookups.\n",
      " 38%|███████████████▋                         | 192/500 [02:08<02:34,  1.99it/s]"
     ]
    },
    {
     "name": "stdout",
     "output_type": "stream",
     "text": [
      "Step #0.00 (0ms ?*RT. ?UPS, vehicles TOT 1 ACT 1 BUF 0)                                   \r",
      "Step #100.00 (0ms ?*RT. ?UPS, vehicles TOT 123 ACT 68 BUF 377)                            \r",
      "Step #200.00 (0ms ?*RT. ?UPS, vehicles TOT 204 ACT 86 BUF 296)                            \r",
      "Step #300.00 (1ms ~= 1000.00*RT, ~113000.00UPS, vehicles TOT 286 ACT 113 BUF 214)         \r",
      "Step #400.00 (0ms ?*RT. ?UPS, vehicles TOT 335 ACT 92 BUF 165)                            \r",
      "Step #500.00 (1ms ~= 1000.00*RT, ~105000.00UPS, vehicles TOT 408 ACT 105 BUF 92)          \r",
      "Step #600.00 (1ms ~= 1000.00*RT, ~102000.00UPS, vehicles TOT 466 ACT 102 BUF 34)          \r",
      "Step #700.00 (1ms ~= 1000.00*RT, ~72000.00UPS, vehicles TOT 500 ACT 72 BUF 0)             \r",
      "Step #800.00 (0ms ?*RT. ?UPS, vehicles TOT 500 ACT 4 BUF 0)                               \r",
      "Step #806.00 (0ms ?*RT. ?UPS, vehicles TOT 500 ACT 0 BUF 0)                               \r\n"
     ]
    },
    {
     "name": "stderr",
     "output_type": "stream",
     "text": [
      "Warning: Environment variable SUMO_HOME is not set properly, disabling XML validation. Set 'auto' or 'always' for web lookups.\n",
      " 39%|███████████████▊                         | 193/500 [02:08<02:29,  2.05it/s]"
     ]
    },
    {
     "name": "stdout",
     "output_type": "stream",
     "text": [
      "Step #0.00 (0ms ?*RT. ?UPS, vehicles TOT 1 ACT 1 BUF 0)                                   \r",
      "Step #100.00 (0ms ?*RT. ?UPS, vehicles TOT 126 ACT 67 BUF 374)                            \r",
      "Step #200.00 (0ms ?*RT. ?UPS, vehicles TOT 210 ACT 91 BUF 290)                            \r",
      "Step #300.00 (0ms ?*RT. ?UPS, vehicles TOT 279 ACT 99 BUF 221)                            \r",
      "Step #400.00 (0ms ?*RT. ?UPS, vehicles TOT 323 ACT 81 BUF 177)                            \r",
      "Step #500.00 (1ms ~= 1000.00*RT, ~103000.00UPS, vehicles TOT 407 ACT 103 BUF 93)          \r",
      "Step #600.00 (0ms ?*RT. ?UPS, vehicles TOT 453 ACT 90 BUF 47)                             \r",
      "Step #700.00 (1ms ~= 1000.00*RT, ~74000.00UPS, vehicles TOT 500 ACT 74 BUF 0)             \r",
      "Step #800.00 (0ms ?*RT. ?UPS, vehicles TOT 500 ACT 11 BUF 0)                              \r",
      "Step #814.00 (0ms ?*RT. ?UPS, vehicles TOT 500 ACT 0 BUF 0)                               \r\n"
     ]
    },
    {
     "name": "stderr",
     "output_type": "stream",
     "text": [
      "Warning: Environment variable SUMO_HOME is not set properly, disabling XML validation. Set 'auto' or 'always' for web lookups.\n",
      " 39%|███████████████▉                         | 194/500 [02:09<02:25,  2.10it/s]"
     ]
    },
    {
     "name": "stdout",
     "output_type": "stream",
     "text": [
      "Step #0.00 (1ms ~= 1000.00*RT, ~1000.00UPS, vehicles TOT 1 ACT 1 BUF 0)                   \r",
      "Step #100.00 (1ms ~= 1000.00*RT, ~72000.00UPS, vehicles TOT 129 ACT 72 BUF 371)           \r",
      "Step #200.00 (1ms ~= 1000.00*RT, ~79000.00UPS, vehicles TOT 194 ACT 79 BUF 306)           \r",
      "Step #300.00 (0ms ?*RT. ?UPS, vehicles TOT 289 ACT 107 BUF 211)                           \r",
      "Step #400.00 (0ms ?*RT. ?UPS, vehicles TOT 329 ACT 89 BUF 171)                            \r",
      "Step #500.00 (0ms ?*RT. ?UPS, vehicles TOT 418 ACT 117 BUF 82)                            \r",
      "Step #600.00 (1ms ~= 1000.00*RT, ~87000.00UPS, vehicles TOT 452 ACT 87 BUF 48)            \r",
      "Step #700.00 (1ms ~= 1000.00*RT, ~72000.00UPS, vehicles TOT 500 ACT 72 BUF 0)             \r",
      "Step #800.00 (0ms ?*RT. ?UPS, vehicles TOT 500 ACT 0 BUF 0)                               \r\n"
     ]
    },
    {
     "name": "stderr",
     "output_type": "stream",
     "text": [
      "Warning: Environment variable SUMO_HOME is not set properly, disabling XML validation. Set 'auto' or 'always' for web lookups.\n",
      " 39%|███████████████▉                         | 195/500 [02:09<02:25,  2.10it/s]"
     ]
    },
    {
     "name": "stdout",
     "output_type": "stream",
     "text": [
      "Step #0.00 (0ms ?*RT. ?UPS, vehicles TOT 1 ACT 1 BUF 0)                                   \r",
      "Step #100.00 (1ms ~= 1000.00*RT, ~75000.00UPS, vehicles TOT 130 ACT 75 BUF 370)           \r",
      "Step #200.00 (1ms ~= 1000.00*RT, ~100000.00UPS, vehicles TOT 217 ACT 100 BUF 283)         \r",
      "Step #300.00 (1ms ~= 1000.00*RT, ~102000.00UPS, vehicles TOT 276 ACT 102 BUF 224)         \r",
      "Step #400.00 (0ms ?*RT. ?UPS, vehicles TOT 342 ACT 106 BUF 158)                           \r",
      "Step #500.00 (1ms ~= 1000.00*RT, ~89000.00UPS, vehicles TOT 385 ACT 89 BUF 115)           \r",
      "Step #600.00 (0ms ?*RT. ?UPS, vehicles TOT 471 ACT 118 BUF 29)                            \r",
      "Step #700.00 (1ms ~= 1000.00*RT, ~86000.00UPS, vehicles TOT 500 ACT 86 BUF 0)             \r",
      "Step #800.00 (0ms ?*RT. ?UPS, vehicles TOT 500 ACT 25 BUF 0)                              \r",
      "Step #832.00 (0ms ?*RT. ?UPS, vehicles TOT 500 ACT 0 BUF 0)                               \r\n"
     ]
    },
    {
     "name": "stderr",
     "output_type": "stream",
     "text": [
      "Warning: Environment variable SUMO_HOME is not set properly, disabling XML validation. Set 'auto' or 'always' for web lookups.\n",
      " 39%|████████████████                         | 196/500 [02:10<02:23,  2.12it/s]"
     ]
    },
    {
     "name": "stdout",
     "output_type": "stream",
     "text": [
      "Step #0.00 (0ms ?*RT. ?UPS, vehicles TOT 1 ACT 1 BUF 0)                                   \r",
      "Step #100.00 (1ms ~= 1000.00*RT, ~63000.00UPS, vehicles TOT 119 ACT 63 BUF 381)           \r",
      "Step #200.00 (1ms ~= 1000.00*RT, ~96000.00UPS, vehicles TOT 210 ACT 96 BUF 290)           \r",
      "Step #300.00 (0ms ?*RT. ?UPS, vehicles TOT 271 ACT 102 BUF 229)                           \r",
      "Step #400.00 (1ms ~= 1000.00*RT, ~86000.00UPS, vehicles TOT 315 ACT 86 BUF 185)           \r",
      "Step #500.00 (0ms ?*RT. ?UPS, vehicles TOT 390 ACT 101 BUF 110)                           \r",
      "Step #600.00 (0ms ?*RT. ?UPS, vehicles TOT 441 ACT 85 BUF 59)                             \r",
      "Step #700.00 (0ms ?*RT. ?UPS, vehicles TOT 500 ACT 76 BUF 0)                              \r",
      "Step #800.00 (0ms ?*RT. ?UPS, vehicles TOT 500 ACT 12 BUF 0)                              \r",
      "Step #815.00 (0ms ?*RT. ?UPS, vehicles TOT 500 ACT 0 BUF 0)                               \r\n"
     ]
    },
    {
     "name": "stderr",
     "output_type": "stream",
     "text": [
      "Warning: Environment variable SUMO_HOME is not set properly, disabling XML validation. Set 'auto' or 'always' for web lookups.\n",
      " 39%|████████████████▏                        | 197/500 [02:10<02:24,  2.10it/s]"
     ]
    },
    {
     "name": "stdout",
     "output_type": "stream",
     "text": [
      "Step #0.00 (1ms ~= 1000.00*RT, ~1000.00UPS, vehicles TOT 1 ACT 1 BUF 0)                   \r",
      "Step #100.00 (1ms ~= 1000.00*RT, ~66000.00UPS, vehicles TOT 123 ACT 66 BUF 377)           \r",
      "Step #200.00 (1ms ~= 1000.00*RT, ~106000.00UPS, vehicles TOT 219 ACT 106 BUF 281)         \r",
      "Step #300.00 (1ms ~= 1000.00*RT, ~100000.00UPS, vehicles TOT 275 ACT 100 BUF 225)         \r",
      "Step #400.00 (1ms ~= 1000.00*RT, ~76000.00UPS, vehicles TOT 314 ACT 76 BUF 186)           \r",
      "Step #500.00 (1ms ~= 1000.00*RT, ~109000.00UPS, vehicles TOT 406 ACT 109 BUF 94)          \r",
      "Step #600.00 (0ms ?*RT. ?UPS, vehicles TOT 473 ACT 117 BUF 27)                            \r",
      "Step #700.00 (1ms ~= 1000.00*RT, ~87000.00UPS, vehicles TOT 500 ACT 87 BUF 0)             \r",
      "Step #800.00 (0ms ?*RT. ?UPS, vehicles TOT 500 ACT 23 BUF 0)                              \r",
      "Step #829.00 (0ms ?*RT. ?UPS, vehicles TOT 500 ACT 0 BUF 0)                               \r\n"
     ]
    },
    {
     "name": "stderr",
     "output_type": "stream",
     "text": [
      "Warning: Environment variable SUMO_HOME is not set properly, disabling XML validation. Set 'auto' or 'always' for web lookups.\n",
      " 40%|████████████████▏                        | 198/500 [02:11<02:22,  2.12it/s]"
     ]
    },
    {
     "name": "stdout",
     "output_type": "stream",
     "text": [
      "Step #0.00 (0ms ?*RT. ?UPS, vehicles TOT 1 ACT 1 BUF 0)                                   \r",
      "Step #100.00 (0ms ?*RT. ?UPS, vehicles TOT 128 ACT 69 BUF 372)                            \r",
      "Step #200.00 (1ms ~= 1000.00*RT, ~93000.00UPS, vehicles TOT 211 ACT 93 BUF 289)           \r",
      "Step #300.00 (1ms ~= 1000.00*RT, ~98000.00UPS, vehicles TOT 279 ACT 98 BUF 221)           \r",
      "Step #400.00 (0ms ?*RT. ?UPS, vehicles TOT 339 ACT 95 BUF 161)                            \r",
      "Step #500.00 (1ms ~= 1000.00*RT, ~109000.00UPS, vehicles TOT 414 ACT 109 BUF 86)          \r",
      "Step #600.00 (1ms ~= 1000.00*RT, ~97000.00UPS, vehicles TOT 466 ACT 97 BUF 34)            \r",
      "Step #700.00 (0ms ?*RT. ?UPS, vehicles TOT 500 ACT 74 BUF 0)                              \r",
      "Step #800.00 (0ms ?*RT. ?UPS, vehicles TOT 500 ACT 3 BUF 0)                               \r",
      "Step #805.00 (0ms ?*RT. ?UPS, vehicles TOT 500 ACT 0 BUF 0)                               \r\n"
     ]
    },
    {
     "name": "stderr",
     "output_type": "stream",
     "text": [
      "Warning: Environment variable SUMO_HOME is not set properly, disabling XML validation. Set 'auto' or 'always' for web lookups.\n",
      " 40%|████████████████▎                        | 199/500 [02:11<02:19,  2.15it/s]"
     ]
    },
    {
     "name": "stdout",
     "output_type": "stream",
     "text": [
      "Step #0.00 (0ms ?*RT. ?UPS, vehicles TOT 1 ACT 1 BUF 0)                                   \r",
      "Step #100.00 (0ms ?*RT. ?UPS, vehicles TOT 132 ACT 80 BUF 368)                            \r",
      "Step #200.00 (1ms ~= 1000.00*RT, ~107000.00UPS, vehicles TOT 220 ACT 107 BUF 280)         \r",
      "Step #300.00 (1ms ~= 1000.00*RT, ~91000.00UPS, vehicles TOT 271 ACT 91 BUF 229)           \r",
      "Step #400.00 (0ms ?*RT. ?UPS, vehicles TOT 333 ACT 92 BUF 167)                            \r",
      "Step #500.00 (1ms ~= 1000.00*RT, ~88000.00UPS, vehicles TOT 395 ACT 88 BUF 105)           \r",
      "Step #600.00 (0ms ?*RT. ?UPS, vehicles TOT 474 ACT 109 BUF 26)                            \r",
      "Step #700.00 (0ms ?*RT. ?UPS, vehicles TOT 500 ACT 68 BUF 0)                              \r",
      "Step #799.00 (0ms ?*RT. ?UPS, vehicles TOT 500 ACT 0 BUF 0)                               \r\n"
     ]
    },
    {
     "name": "stderr",
     "output_type": "stream",
     "text": [
      "Warning: Environment variable SUMO_HOME is not set properly, disabling XML validation. Set 'auto' or 'always' for web lookups.\n",
      " 40%|████████████████▍                        | 200/500 [02:12<02:21,  2.11it/s]"
     ]
    },
    {
     "name": "stdout",
     "output_type": "stream",
     "text": [
      "Step #0.00 (0ms ?*RT. ?UPS, vehicles TOT 1 ACT 1 BUF 0)                                   \r",
      "Step #100.00 (1ms ~= 1000.00*RT, ~69000.00UPS, vehicles TOT 125 ACT 69 BUF 375)           \r",
      "Step #200.00 (0ms ?*RT. ?UPS, vehicles TOT 208 ACT 94 BUF 292)                            \r",
      "Step #300.00 (0ms ?*RT. ?UPS, vehicles TOT 282 ACT 104 BUF 218)                           \r",
      "Step #400.00 (1ms ~= 1000.00*RT, ~96000.00UPS, vehicles TOT 337 ACT 96 BUF 163)           \r",
      "Step #500.00 (0ms ?*RT. ?UPS, vehicles TOT 387 ACT 84 BUF 113)                            \r",
      "Step #600.00 (1ms ~= 1000.00*RT, ~91000.00UPS, vehicles TOT 454 ACT 91 BUF 46)            \r",
      "Step #700.00 (0ms ?*RT. ?UPS, vehicles TOT 500 ACT 78 BUF 0)                              \r",
      "Step #800.00 (0ms ?*RT. ?UPS, vehicles TOT 500 ACT 11 BUF 0)                              \r",
      "Step #814.00 (0ms ?*RT. ?UPS, vehicles TOT 500 ACT 0 BUF 0)                               \r\n"
     ]
    },
    {
     "name": "stderr",
     "output_type": "stream",
     "text": [
      "Warning: Environment variable SUMO_HOME is not set properly, disabling XML validation. Set 'auto' or 'always' for web lookups.\n",
      " 40%|████████████████▍                        | 201/500 [02:12<02:18,  2.16it/s]"
     ]
    },
    {
     "name": "stdout",
     "output_type": "stream",
     "text": [
      "Step #0.00 (0ms ?*RT. ?UPS, vehicles TOT 1 ACT 1 BUF 0)                                   \r",
      "Step #100.00 (1ms ~= 1000.00*RT, ~70000.00UPS, vehicles TOT 126 ACT 70 BUF 374)           \r",
      "Step #200.00 (1ms ~= 1000.00*RT, ~80000.00UPS, vehicles TOT 199 ACT 80 BUF 301)           \r",
      "Step #300.00 (1ms ~= 1000.00*RT, ~98000.00UPS, vehicles TOT 279 ACT 98 BUF 221)           \r",
      "Step #400.00 (1ms ~= 1000.00*RT, ~91000.00UPS, vehicles TOT 334 ACT 91 BUF 166)           \r",
      "Step #500.00 (0ms ?*RT. ?UPS, vehicles TOT 384 ACT 79 BUF 116)                            \r",
      "Step #600.00 (1ms ~= 1000.00*RT, ~100000.00UPS, vehicles TOT 465 ACT 100 BUF 35)          \r",
      "Step #700.00 (0ms ?*RT. ?UPS, vehicles TOT 500 ACT 72 BUF 0)                              \r",
      "Step #800.00 (0ms ?*RT. ?UPS, vehicles TOT 500 ACT 5 BUF 0)                               \r",
      "Step #807.00 (0ms ?*RT. ?UPS, vehicles TOT 500 ACT 0 BUF 0)                               \r\n"
     ]
    },
    {
     "name": "stderr",
     "output_type": "stream",
     "text": [
      "Warning: Environment variable SUMO_HOME is not set properly, disabling XML validation. Set 'auto' or 'always' for web lookups.\n",
      " 40%|████████████████▌                        | 202/500 [02:13<02:36,  1.91it/s]"
     ]
    },
    {
     "name": "stdout",
     "output_type": "stream",
     "text": [
      "Step #0.00 (0ms ?*RT. ?UPS, vehicles TOT 1 ACT 1 BUF 0)                                   \r",
      "Step #100.00 (1ms ~= 1000.00*RT, ~70000.00UPS, vehicles TOT 129 ACT 70 BUF 371)           \r",
      "Step #200.00 (1ms ~= 1000.00*RT, ~81000.00UPS, vehicles TOT 201 ACT 81 BUF 299)           \r",
      "Step #300.00 (1ms ~= 1000.00*RT, ~109000.00UPS, vehicles TOT 286 ACT 109 BUF 214)         \r",
      "Step #400.00 (1ms ~= 1000.00*RT, ~84000.00UPS, vehicles TOT 325 ACT 84 BUF 175)           \r",
      "Step #500.00 (1ms ~= 1000.00*RT, ~96000.00UPS, vehicles TOT 398 ACT 96 BUF 102)           \r",
      "Step #600.00 (1ms ~= 1000.00*RT, ~96000.00UPS, vehicles TOT 459 ACT 96 BUF 41)            \r",
      "Step #700.00 (1ms ~= 1000.00*RT, ~73000.00UPS, vehicles TOT 500 ACT 73 BUF 0)             \r",
      "Step #800.00 (0ms ?*RT. ?UPS, vehicles TOT 500 ACT 6 BUF 0)                               \r",
      "Step #808.00 (0ms ?*RT. ?UPS, vehicles TOT 500 ACT 0 BUF 0)                               \r\n"
     ]
    },
    {
     "name": "stderr",
     "output_type": "stream",
     "text": [
      "Warning: Environment variable SUMO_HOME is not set properly, disabling XML validation. Set 'auto' or 'always' for web lookups.\n",
      " 41%|████████████████▋                        | 203/500 [02:14<03:02,  1.63it/s]"
     ]
    },
    {
     "name": "stdout",
     "output_type": "stream",
     "text": [
      "Step #0.00 (0ms ?*RT. ?UPS, vehicles TOT 1 ACT 1 BUF 0)                                   \r",
      "Step #100.00 (1ms ~= 1000.00*RT, ~77000.00UPS, vehicles TOT 130 ACT 77 BUF 370)           \r",
      "Step #200.00 (1ms ~= 1000.00*RT, ~113000.00UPS, vehicles TOT 222 ACT 113 BUF 278)         \r",
      "Step #300.00 (1ms ~= 1000.00*RT, ~102000.00UPS, vehicles TOT 276 ACT 102 BUF 224)         \r",
      "Step #400.00 (1ms ~= 1000.00*RT, ~107000.00UPS, vehicles TOT 340 ACT 107 BUF 160)         \r",
      "Step #500.00 (1ms ~= 1000.00*RT, ~89000.00UPS, vehicles TOT 380 ACT 89 BUF 120)           \r",
      "Step #600.00 (1ms ~= 1000.00*RT, ~81000.00UPS, vehicles TOT 438 ACT 81 BUF 62)            \r",
      "Step #700.00 (1ms ~= 1000.00*RT, ~81000.00UPS, vehicles TOT 500 ACT 81 BUF 0)             \r",
      "Step #800.00 (0ms ?*RT. ?UPS, vehicles TOT 500 ACT 13 BUF 0)                              \r",
      "Step #818.00 (0ms ?*RT. ?UPS, vehicles TOT 500 ACT 0 BUF 0)                               \r\n"
     ]
    },
    {
     "name": "stderr",
     "output_type": "stream",
     "text": [
      "Warning: Environment variable SUMO_HOME is not set properly, disabling XML validation. Set 'auto' or 'always' for web lookups.\n",
      " 41%|████████████████▋                        | 204/500 [02:14<03:20,  1.48it/s]"
     ]
    },
    {
     "name": "stdout",
     "output_type": "stream",
     "text": [
      "Step #0.00 (0ms ?*RT. ?UPS, vehicles TOT 1 ACT 1 BUF 0)                                   \r",
      "Step #100.00 (2ms ~= 500.00*RT, ~37000.00UPS, vehicles TOT 130 ACT 74 BUF 370)            \r",
      "Step #200.00 (1ms ~= 1000.00*RT, ~111000.00UPS, vehicles TOT 226 ACT 111 BUF 274)         \r",
      "Step #300.00 (1ms ~= 1000.00*RT, ~94000.00UPS, vehicles TOT 276 ACT 94 BUF 224)           \r",
      "Step #400.00 (1ms ~= 1000.00*RT, ~105000.00UPS, vehicles TOT 345 ACT 105 BUF 155)         \r",
      "Step #500.00 (1ms ~= 1000.00*RT, ~92000.00UPS, vehicles TOT 393 ACT 92 BUF 107)           \r",
      "Step #600.00 (1ms ~= 1000.00*RT, ~95000.00UPS, vehicles TOT 460 ACT 95 BUF 40)            \r",
      "Step #700.00 (1ms ~= 1000.00*RT, ~74000.00UPS, vehicles TOT 500 ACT 74 BUF 0)             \r",
      "Step #800.00 (0ms ?*RT. ?UPS, vehicles TOT 500 ACT 9 BUF 0)                               \r",
      "Step #812.00 (0ms ?*RT. ?UPS, vehicles TOT 500 ACT 0 BUF 0)                               \r\n"
     ]
    },
    {
     "name": "stderr",
     "output_type": "stream",
     "text": [
      "Warning: Environment variable SUMO_HOME is not set properly, disabling XML validation. Set 'auto' or 'always' for web lookups.\n",
      " 41%|████████████████▊                        | 205/500 [02:15<03:31,  1.40it/s]"
     ]
    },
    {
     "name": "stdout",
     "output_type": "stream",
     "text": [
      "Step #0.00 (0ms ?*RT. ?UPS, vehicles TOT 1 ACT 1 BUF 0)                                   \r",
      "Step #100.00 (2ms ~= 500.00*RT, ~35500.00UPS, vehicles TOT 129 ACT 71 BUF 371)            \r",
      "Step #200.00 (1ms ~= 1000.00*RT, ~110000.00UPS, vehicles TOT 228 ACT 110 BUF 272)         \r",
      "Step #300.00 (1ms ~= 1000.00*RT, ~99000.00UPS, vehicles TOT 282 ACT 99 BUF 218)           \r",
      "Step #400.00 (1ms ~= 1000.00*RT, ~92000.00UPS, vehicles TOT 338 ACT 92 BUF 162)           \r",
      "Step #500.00 (1ms ~= 1000.00*RT, ~82000.00UPS, vehicles TOT 390 ACT 82 BUF 110)           \r",
      "Step #600.00 (0ms ?*RT. ?UPS, vehicles TOT 457 ACT 93 BUF 43)                             \r",
      "Step #700.00 (0ms ?*RT. ?UPS, vehicles TOT 500 ACT 80 BUF 0)                              \r",
      "Step #800.00 (0ms ?*RT. ?UPS, vehicles TOT 500 ACT 18 BUF 0)                              \r",
      "Step #823.00 (0ms ?*RT. ?UPS, vehicles TOT 500 ACT 0 BUF 0)                               \r\n"
     ]
    },
    {
     "name": "stderr",
     "output_type": "stream",
     "text": [
      "Warning: Environment variable SUMO_HOME is not set properly, disabling XML validation. Set 'auto' or 'always' for web lookups.\n",
      " 41%|████████████████▉                        | 206/500 [02:16<03:40,  1.33it/s]"
     ]
    },
    {
     "name": "stdout",
     "output_type": "stream",
     "text": [
      "Step #0.00 (0ms ?*RT. ?UPS, vehicles TOT 1 ACT 1 BUF 0)                                   \r",
      "Step #100.00 (1ms ~= 1000.00*RT, ~70000.00UPS, vehicles TOT 126 ACT 70 BUF 374)           \r",
      "Step #200.00 (1ms ~= 1000.00*RT, ~101000.00UPS, vehicles TOT 219 ACT 101 BUF 281)         \r",
      "Step #300.00 (1ms ~= 1000.00*RT, ~96000.00UPS, vehicles TOT 274 ACT 96 BUF 226)           \r",
      "Step #400.00 (1ms ~= 1000.00*RT, ~93000.00UPS, vehicles TOT 331 ACT 93 BUF 169)           \r",
      "Step #500.00 (1ms ~= 1000.00*RT, ~96000.00UPS, vehicles TOT 395 ACT 96 BUF 105)           \r",
      "Step #600.00 (1ms ~= 1000.00*RT, ~75000.00UPS, vehicles TOT 436 ACT 75 BUF 64)            \r",
      "Step #700.00 (1ms ~= 1000.00*RT, ~77000.00UPS, vehicles TOT 500 ACT 77 BUF 0)             \r",
      "Step #800.00 (0ms ?*RT. ?UPS, vehicles TOT 500 ACT 10 BUF 0)                              \r",
      "Step #814.00 (1ms ~= 1000.00*RT, ~0.00UPS, vehicles TOT 500 ACT 0 BUF 0)                  \r\n"
     ]
    },
    {
     "name": "stderr",
     "output_type": "stream",
     "text": [
      "Warning: Environment variable SUMO_HOME is not set properly, disabling XML validation. Set 'auto' or 'always' for web lookups.\n",
      " 41%|████████████████▉                        | 207/500 [02:17<03:44,  1.31it/s]"
     ]
    },
    {
     "name": "stdout",
     "output_type": "stream",
     "text": [
      "Step #0.00 (0ms ?*RT. ?UPS, vehicles TOT 1 ACT 1 BUF 0)                                   \r",
      "Step #100.00 (2ms ~= 500.00*RT, ~30500.00UPS, vehicles TOT 117 ACT 61 BUF 383)            \r",
      "Step #200.00 (1ms ~= 1000.00*RT, ~103000.00UPS, vehicles TOT 221 ACT 103 BUF 279)         \r",
      "Step #300.00 (1ms ~= 1000.00*RT, ~103000.00UPS, vehicles TOT 281 ACT 103 BUF 219)         \r",
      "Step #400.00 (1ms ~= 1000.00*RT, ~95000.00UPS, vehicles TOT 343 ACT 95 BUF 157)           \r",
      "Step #500.00 (1ms ~= 1000.00*RT, ~100000.00UPS, vehicles TOT 411 ACT 100 BUF 89)          \r",
      "Step #600.00 (1ms ~= 1000.00*RT, ~91000.00UPS, vehicles TOT 458 ACT 91 BUF 42)            \r",
      "Step #700.00 (1ms ~= 1000.00*RT, ~72000.00UPS, vehicles TOT 500 ACT 72 BUF 0)             \r",
      "Step #800.00 (0ms ?*RT. ?UPS, vehicles TOT 500 ACT 7 BUF 0)                               \r",
      "Step #809.00 (0ms ?*RT. ?UPS, vehicles TOT 500 ACT 0 BUF 0)                               \r\n"
     ]
    },
    {
     "name": "stderr",
     "output_type": "stream",
     "text": [
      "Warning: Environment variable SUMO_HOME is not set properly, disabling XML validation. Set 'auto' or 'always' for web lookups.\n",
      " 42%|█████████████████                        | 208/500 [02:18<03:45,  1.29it/s]"
     ]
    },
    {
     "name": "stdout",
     "output_type": "stream",
     "text": [
      "Step #0.00 (1ms ~= 1000.00*RT, ~1000.00UPS, vehicles TOT 1 ACT 1 BUF 0)                   \r",
      "Step #100.00 (1ms ~= 1000.00*RT, ~70000.00UPS, vehicles TOT 127 ACT 70 BUF 373)           \r",
      "Step #200.00 (1ms ~= 1000.00*RT, ~111000.00UPS, vehicles TOT 224 ACT 111 BUF 276)         \r",
      "Step #300.00 (1ms ~= 1000.00*RT, ~76000.00UPS, vehicles TOT 247 ACT 76 BUF 253)           \r",
      "Step #400.00 (1ms ~= 1000.00*RT, ~93000.00UPS, vehicles TOT 327 ACT 93 BUF 173)           \r",
      "Step #500.00 (1ms ~= 1000.00*RT, ~78000.00UPS, vehicles TOT 374 ACT 78 BUF 126)           \r",
      "Step #600.00 (1ms ~= 1000.00*RT, ~81000.00UPS, vehicles TOT 441 ACT 81 BUF 59)            \r",
      "Step #700.00 (1ms ~= 1000.00*RT, ~78000.00UPS, vehicles TOT 500 ACT 78 BUF 0)             \r",
      "Step #800.00 (1ms ~= 1000.00*RT, ~13000.00UPS, vehicles TOT 500 ACT 13 BUF 0)             \r",
      "Step #817.00 (0ms ?*RT. ?UPS, vehicles TOT 500 ACT 0 BUF 0)                               \r\n"
     ]
    },
    {
     "name": "stderr",
     "output_type": "stream",
     "text": [
      "Warning: Environment variable SUMO_HOME is not set properly, disabling XML validation. Set 'auto' or 'always' for web lookups.\n",
      " 42%|█████████████████▏                       | 209/500 [02:18<03:40,  1.32it/s]"
     ]
    },
    {
     "name": "stdout",
     "output_type": "stream",
     "text": [
      "Step #0.00 (1ms ~= 1000.00*RT, ~1000.00UPS, vehicles TOT 1 ACT 1 BUF 0)                   \r",
      "Step #100.00 (2ms ~= 500.00*RT, ~37500.00UPS, vehicles TOT 129 ACT 75 BUF 371)            \r",
      "Step #200.00 (1ms ~= 1000.00*RT, ~92000.00UPS, vehicles TOT 207 ACT 92 BUF 293)           \r",
      "Step #300.00 (1ms ~= 1000.00*RT, ~69000.00UPS, vehicles TOT 241 ACT 69 BUF 259)           \r",
      "Step #400.00 (1ms ~= 1000.00*RT, ~101000.00UPS, vehicles TOT 336 ACT 101 BUF 164)         \r",
      "Step #500.00 (1ms ~= 1000.00*RT, ~76000.00UPS, vehicles TOT 375 ACT 76 BUF 125)           \r",
      "Step #600.00 (0ms ?*RT. ?UPS, vehicles TOT 447 ACT 86 BUF 53)                             \r",
      "Step #700.00 (0ms ?*RT. ?UPS, vehicles TOT 500 ACT 78 BUF 0)                              \r",
      "Step #800.00 (1ms ~= 1000.00*RT, ~13000.00UPS, vehicles TOT 500 ACT 13 BUF 0)             \r",
      "Step #817.00 (0ms ?*RT. ?UPS, vehicles TOT 500 ACT 0 BUF 0)                               \r\n"
     ]
    },
    {
     "name": "stderr",
     "output_type": "stream",
     "text": [
      "Warning: Environment variable SUMO_HOME is not set properly, disabling XML validation. Set 'auto' or 'always' for web lookups.\n",
      " 42%|█████████████████▏                       | 210/500 [02:19<03:14,  1.49it/s]"
     ]
    },
    {
     "name": "stdout",
     "output_type": "stream",
     "text": [
      "Step #0.00 (0ms ?*RT. ?UPS, vehicles TOT 1 ACT 1 BUF 0)                                   \r",
      "Step #100.00 (1ms ~= 1000.00*RT, ~71000.00UPS, vehicles TOT 127 ACT 71 BUF 373)           \r",
      "Step #200.00 (0ms ?*RT. ?UPS, vehicles TOT 221 ACT 110 BUF 279)                           \r",
      "Step #300.00 (0ms ?*RT. ?UPS, vehicles TOT 292 ACT 117 BUF 208)                           \r",
      "Step #400.00 (0ms ?*RT. ?UPS, vehicles TOT 319 ACT 80 BUF 181)                            \r",
      "Step #500.00 (0ms ?*RT. ?UPS, vehicles TOT 373 ACT 74 BUF 127)                            \r",
      "Step #600.00 (0ms ?*RT. ?UPS, vehicles TOT 459 ACT 100 BUF 41)                            \r",
      "Step #700.00 (0ms ?*RT. ?UPS, vehicles TOT 500 ACT 83 BUF 0)                              \r",
      "Step #800.00 (0ms ?*RT. ?UPS, vehicles TOT 500 ACT 24 BUF 0)                              \r",
      "Step #830.00 (0ms ?*RT. ?UPS, vehicles TOT 500 ACT 0 BUF 0)                               \r\n"
     ]
    },
    {
     "name": "stderr",
     "output_type": "stream",
     "text": [
      "Warning: Environment variable SUMO_HOME is not set properly, disabling XML validation. Set 'auto' or 'always' for web lookups.\n",
      " 42%|█████████████████▎                       | 211/500 [02:19<02:55,  1.65it/s]"
     ]
    },
    {
     "name": "stdout",
     "output_type": "stream",
     "text": [
      "Step #0.00 (0ms ?*RT. ?UPS, vehicles TOT 1 ACT 1 BUF 0)                                   \r",
      "Step #100.00 (0ms ?*RT. ?UPS, vehicles TOT 129 ACT 73 BUF 371)                            \r",
      "Step #200.00 (0ms ?*RT. ?UPS, vehicles TOT 220 ACT 103 BUF 280)                           \r",
      "Step #300.00 (1ms ~= 1000.00*RT, ~99000.00UPS, vehicles TOT 276 ACT 99 BUF 224)           \r",
      "Step #400.00 (1ms ~= 1000.00*RT, ~101000.00UPS, vehicles TOT 338 ACT 101 BUF 162)         \r",
      "Step #500.00 (1ms ~= 1000.00*RT, ~88000.00UPS, vehicles TOT 382 ACT 88 BUF 118)           \r",
      "Step #600.00 (0ms ?*RT. ?UPS, vehicles TOT 435 ACT 84 BUF 65)                             \r",
      "Step #700.00 (1ms ~= 1000.00*RT, ~84000.00UPS, vehicles TOT 500 ACT 84 BUF 0)             \r",
      "Step #800.00 (0ms ?*RT. ?UPS, vehicles TOT 500 ACT 15 BUF 0)                              \r",
      "Step #820.00 (0ms ?*RT. ?UPS, vehicles TOT 500 ACT 0 BUF 0)                               \r\n"
     ]
    },
    {
     "name": "stderr",
     "output_type": "stream",
     "text": [
      "Warning: Environment variable SUMO_HOME is not set properly, disabling XML validation. Set 'auto' or 'always' for web lookups.\n",
      " 42%|█████████████████▍                       | 212/500 [02:20<02:41,  1.78it/s]"
     ]
    },
    {
     "name": "stdout",
     "output_type": "stream",
     "text": [
      "Step #0.00 (0ms ?*RT. ?UPS, vehicles TOT 1 ACT 1 BUF 0)                                   \r",
      "Step #100.00 (1ms ~= 1000.00*RT, ~77000.00UPS, vehicles TOT 132 ACT 77 BUF 368)           \r",
      "Step #200.00 (0ms ?*RT. ?UPS, vehicles TOT 210 ACT 94 BUF 290)                            \r",
      "Step #300.00 (1ms ~= 1000.00*RT, ~97000.00UPS, vehicles TOT 271 ACT 97 BUF 229)           \r",
      "Step #400.00 (1ms ~= 1000.00*RT, ~88000.00UPS, vehicles TOT 322 ACT 88 BUF 178)           \r",
      "Step #500.00 (1ms ~= 1000.00*RT, ~97000.00UPS, vehicles TOT 389 ACT 97 BUF 111)           \r",
      "Step #600.00 (1ms ~= 1000.00*RT, ~89000.00UPS, vehicles TOT 442 ACT 89 BUF 58)            \r",
      "Step #700.00 (0ms ?*RT. ?UPS, vehicles TOT 500 ACT 85 BUF 0)                              \r",
      "Step #800.00 (1ms ~= 1000.00*RT, ~24000.00UPS, vehicles TOT 500 ACT 24 BUF 0)             \r",
      "Step #830.00 (1ms ~= 1000.00*RT, ~0.00UPS, vehicles TOT 500 ACT 0 BUF 0)                  \r\n"
     ]
    },
    {
     "name": "stderr",
     "output_type": "stream",
     "text": [
      "Warning: Environment variable SUMO_HOME is not set properly, disabling XML validation. Set 'auto' or 'always' for web lookups.\n",
      " 43%|█████████████████▍                       | 213/500 [02:20<02:32,  1.88it/s]"
     ]
    },
    {
     "name": "stdout",
     "output_type": "stream",
     "text": [
      "Step #0.00 (1ms ~= 1000.00*RT, ~1000.00UPS, vehicles TOT 1 ACT 1 BUF 0)                   \r",
      "Step #100.00 (0ms ?*RT. ?UPS, vehicles TOT 129 ACT 72 BUF 371)                            \r",
      "Step #200.00 (1ms ~= 1000.00*RT, ~95000.00UPS, vehicles TOT 212 ACT 95 BUF 288)           \r",
      "Step #300.00 (1ms ~= 1000.00*RT, ~95000.00UPS, vehicles TOT 277 ACT 95 BUF 223)           \r",
      "Step #400.00 (1ms ~= 1000.00*RT, ~97000.00UPS, vehicles TOT 339 ACT 97 BUF 161)           \r",
      "Step #500.00 (0ms ?*RT. ?UPS, vehicles TOT 400 ACT 99 BUF 100)                            \r",
      "Step #600.00 (0ms ?*RT. ?UPS, vehicles TOT 448 ACT 86 BUF 52)                             \r",
      "Step #700.00 (0ms ?*RT. ?UPS, vehicles TOT 500 ACT 78 BUF 0)                              \r",
      "Step #800.00 (0ms ?*RT. ?UPS, vehicles TOT 500 ACT 12 BUF 0)                              \r",
      "Step #816.00 (0ms ?*RT. ?UPS, vehicles TOT 500 ACT 0 BUF 0)                               \r\n"
     ]
    },
    {
     "name": "stderr",
     "output_type": "stream",
     "text": [
      "Warning: Environment variable SUMO_HOME is not set properly, disabling XML validation. Set 'auto' or 'always' for web lookups.\n",
      " 43%|█████████████████▌                       | 214/500 [02:21<02:24,  1.98it/s]"
     ]
    },
    {
     "name": "stdout",
     "output_type": "stream",
     "text": [
      "Step #0.00 (0ms ?*RT. ?UPS, vehicles TOT 1 ACT 1 BUF 0)                                   \r",
      "Step #100.00 (1ms ~= 1000.00*RT, ~74000.00UPS, vehicles TOT 129 ACT 74 BUF 371)           \r",
      "Step #200.00 (1ms ~= 1000.00*RT, ~75000.00UPS, vehicles TOT 191 ACT 75 BUF 309)           \r",
      "Step #300.00 (0ms ?*RT. ?UPS, vehicles TOT 272 ACT 100 BUF 228)                           \r",
      "Step #400.00 (0ms ?*RT. ?UPS, vehicles TOT 332 ACT 99 BUF 168)                            \r",
      "Step #500.00 (1ms ~= 1000.00*RT, ~93000.00UPS, vehicles TOT 391 ACT 93 BUF 109)           \r",
      "Step #600.00 (1ms ~= 1000.00*RT, ~95000.00UPS, vehicles TOT 453 ACT 95 BUF 47)            \r",
      "Step #700.00 (0ms ?*RT. ?UPS, vehicles TOT 500 ACT 81 BUF 0)                              \r",
      "Step #800.00 (0ms ?*RT. ?UPS, vehicles TOT 500 ACT 15 BUF 0)                              \r",
      "Step #819.00 (0ms ?*RT. ?UPS, vehicles TOT 500 ACT 0 BUF 0)                               \r\n"
     ]
    },
    {
     "name": "stderr",
     "output_type": "stream",
     "text": [
      "Warning: Environment variable SUMO_HOME is not set properly, disabling XML validation. Set 'auto' or 'always' for web lookups.\n",
      " 43%|█████████████████▋                       | 215/500 [02:21<02:21,  2.02it/s]"
     ]
    },
    {
     "name": "stdout",
     "output_type": "stream",
     "text": [
      "Step #0.00 (0ms ?*RT. ?UPS, vehicles TOT 1 ACT 1 BUF 0)                                   \r",
      "Step #100.00 (0ms ?*RT. ?UPS, vehicles TOT 130 ACT 75 BUF 370)                            \r",
      "Step #200.00 (0ms ?*RT. ?UPS, vehicles TOT 217 ACT 101 BUF 283)                           \r",
      "Step #300.00 (1ms ~= 1000.00*RT, ~107000.00UPS, vehicles TOT 281 ACT 107 BUF 219)         \r",
      "Step #400.00 (1ms ~= 1000.00*RT, ~105000.00UPS, vehicles TOT 341 ACT 105 BUF 159)         \r",
      "Step #500.00 (0ms ?*RT. ?UPS, vehicles TOT 394 ACT 101 BUF 106)                           \r",
      "Step #600.00 (1ms ~= 1000.00*RT, ~108000.00UPS, vehicles TOT 460 ACT 108 BUF 40)          \r",
      "Step #700.00 (0ms ?*RT. ?UPS, vehicles TOT 500 ACT 86 BUF 0)                              \r",
      "Step #800.00 (0ms ?*RT. ?UPS, vehicles TOT 500 ACT 17 BUF 0)                              \r",
      "Step #822.00 (0ms ?*RT. ?UPS, vehicles TOT 500 ACT 0 BUF 0)                               \r\n"
     ]
    },
    {
     "name": "stderr",
     "output_type": "stream",
     "text": [
      "Warning: Environment variable SUMO_HOME is not set properly, disabling XML validation. Set 'auto' or 'always' for web lookups.\n",
      " 43%|█████████████████▋                       | 216/500 [02:22<02:17,  2.06it/s]"
     ]
    },
    {
     "name": "stdout",
     "output_type": "stream",
     "text": [
      "Step #0.00 (0ms ?*RT. ?UPS, vehicles TOT 1 ACT 1 BUF 0)                                   \r",
      "Step #100.00 (1ms ~= 1000.00*RT, ~75000.00UPS, vehicles TOT 129 ACT 75 BUF 371)           \r",
      "Step #200.00 (1ms ~= 1000.00*RT, ~105000.00UPS, vehicles TOT 215 ACT 105 BUF 285)         \r",
      "Step #300.00 (1ms ~= 1000.00*RT, ~97000.00UPS, vehicles TOT 271 ACT 97 BUF 229)           \r",
      "Step #400.00 (1ms ~= 1000.00*RT, ~102000.00UPS, vehicles TOT 339 ACT 102 BUF 161)         \r",
      "Step #500.00 (1ms ~= 1000.00*RT, ~84000.00UPS, vehicles TOT 383 ACT 84 BUF 117)           \r",
      "Step #600.00 (0ms ?*RT. ?UPS, vehicles TOT 467 ACT 107 BUF 33)                            \r",
      "Step #700.00 (1ms ~= 1000.00*RT, ~83000.00UPS, vehicles TOT 500 ACT 83 BUF 0)             \r",
      "Step #800.00 (0ms ?*RT. ?UPS, vehicles TOT 500 ACT 21 BUF 0)                              \r",
      "Step #827.00 (0ms ?*RT. ?UPS, vehicles TOT 500 ACT 0 BUF 0)                               \r\n"
     ]
    },
    {
     "name": "stderr",
     "output_type": "stream",
     "text": [
      "Warning: Environment variable SUMO_HOME is not set properly, disabling XML validation. Set 'auto' or 'always' for web lookups.\n",
      " 43%|█████████████████▊                       | 217/500 [02:22<02:13,  2.12it/s]"
     ]
    },
    {
     "name": "stdout",
     "output_type": "stream",
     "text": [
      "Step #0.00 (0ms ?*RT. ?UPS, vehicles TOT 1 ACT 1 BUF 0)                                   \r",
      "Step #100.00 (0ms ?*RT. ?UPS, vehicles TOT 126 ACT 70 BUF 374)                            \r",
      "Step #200.00 (1ms ~= 1000.00*RT, ~91000.00UPS, vehicles TOT 206 ACT 91 BUF 294)           \r",
      "Step #300.00 (0ms ?*RT. ?UPS, vehicles TOT 280 ACT 99 BUF 220)                            \r",
      "Step #400.00 (1ms ~= 1000.00*RT, ~92000.00UPS, vehicles TOT 330 ACT 92 BUF 170)           \r",
      "Step #500.00 (1ms ~= 1000.00*RT, ~102000.00UPS, vehicles TOT 403 ACT 102 BUF 97)          \r",
      "Step #600.00 (0ms ?*RT. ?UPS, vehicles TOT 454 ACT 87 BUF 46)                             \r",
      "Step #700.00 (1ms ~= 1000.00*RT, ~67000.00UPS, vehicles TOT 500 ACT 67 BUF 0)             \r",
      "Step #800.00 (0ms ?*RT. ?UPS, vehicles TOT 500 ACT 0 BUF 0)                               \r\n"
     ]
    },
    {
     "name": "stderr",
     "output_type": "stream",
     "text": [
      "Warning: Environment variable SUMO_HOME is not set properly, disabling XML validation. Set 'auto' or 'always' for web lookups.\n",
      " 44%|█████████████████▉                       | 218/500 [02:23<02:11,  2.14it/s]"
     ]
    },
    {
     "name": "stdout",
     "output_type": "stream",
     "text": [
      "Step #0.00 (0ms ?*RT. ?UPS, vehicles TOT 1 ACT 1 BUF 0)                                   \r",
      "Step #100.00 (1ms ~= 1000.00*RT, ~66000.00UPS, vehicles TOT 123 ACT 66 BUF 377)           \r",
      "Step #200.00 (0ms ?*RT. ?UPS, vehicles TOT 204 ACT 83 BUF 296)                            \r",
      "Step #300.00 (1ms ~= 1000.00*RT, ~101000.00UPS, vehicles TOT 278 ACT 101 BUF 222)         \r",
      "Step #400.00 (0ms ?*RT. ?UPS, vehicles TOT 352 ACT 117 BUF 148)                           \r",
      "Step #500.00 (0ms ?*RT. ?UPS, vehicles TOT 380 ACT 84 BUF 120)                            \r",
      "Step #600.00 (0ms ?*RT. ?UPS, vehicles TOT 441 ACT 88 BUF 59)                             \r",
      "Step #700.00 (1ms ~= 1000.00*RT, ~79000.00UPS, vehicles TOT 500 ACT 79 BUF 0)             \r",
      "Step #800.00 (0ms ?*RT. ?UPS, vehicles TOT 500 ACT 7 BUF 0)                               \r",
      "Step #810.00 (0ms ?*RT. ?UPS, vehicles TOT 500 ACT 0 BUF 0)                               \r\n"
     ]
    },
    {
     "name": "stderr",
     "output_type": "stream",
     "text": [
      "Warning: Environment variable SUMO_HOME is not set properly, disabling XML validation. Set 'auto' or 'always' for web lookups.\n",
      " 44%|█████████████████▉                       | 219/500 [02:23<02:10,  2.15it/s]"
     ]
    },
    {
     "name": "stdout",
     "output_type": "stream",
     "text": [
      "Step #0.00 (1ms ~= 1000.00*RT, ~1000.00UPS, vehicles TOT 1 ACT 1 BUF 0)                   \r",
      "Step #100.00 (1ms ~= 1000.00*RT, ~71000.00UPS, vehicles TOT 129 ACT 71 BUF 371)           \r",
      "Step #200.00 (0ms ?*RT. ?UPS, vehicles TOT 217 ACT 101 BUF 283)                           \r",
      "Step #300.00 (1ms ~= 1000.00*RT, ~100000.00UPS, vehicles TOT 277 ACT 100 BUF 223)         \r",
      "Step #400.00 (0ms ?*RT. ?UPS, vehicles TOT 339 ACT 96 BUF 161)                            \r",
      "Step #500.00 (1ms ~= 1000.00*RT, ~99000.00UPS, vehicles TOT 403 ACT 99 BUF 97)            \r",
      "Step #600.00 (1ms ~= 1000.00*RT, ~85000.00UPS, vehicles TOT 453 ACT 85 BUF 47)            \r",
      "Step #700.00 (1ms ~= 1000.00*RT, ~71000.00UPS, vehicles TOT 500 ACT 71 BUF 0)             \r",
      "Step #800.00 (0ms ?*RT. ?UPS, vehicles TOT 500 ACT 8 BUF 0)                               \r",
      "Step #810.00 (0ms ?*RT. ?UPS, vehicles TOT 500 ACT 0 BUF 0)                               \r\n"
     ]
    },
    {
     "name": "stderr",
     "output_type": "stream",
     "text": [
      "Warning: Environment variable SUMO_HOME is not set properly, disabling XML validation. Set 'auto' or 'always' for web lookups.\n",
      " 44%|██████████████████                       | 220/500 [02:23<02:10,  2.15it/s]"
     ]
    },
    {
     "name": "stdout",
     "output_type": "stream",
     "text": [
      "Step #0.00 (1ms ~= 1000.00*RT, ~1000.00UPS, vehicles TOT 1 ACT 1 BUF 0)                   \r",
      "Step #100.00 (1ms ~= 1000.00*RT, ~71000.00UPS, vehicles TOT 129 ACT 71 BUF 371)           \r",
      "Step #200.00 (0ms ?*RT. ?UPS, vehicles TOT 213 ACT 94 BUF 287)                            \r",
      "Step #300.00 (0ms ?*RT. ?UPS, vehicles TOT 276 ACT 98 BUF 224)                            \r",
      "Step #400.00 (1ms ~= 1000.00*RT, ~94000.00UPS, vehicles TOT 334 ACT 94 BUF 166)           \r",
      "Step #500.00 (1ms ~= 1000.00*RT, ~98000.00UPS, vehicles TOT 395 ACT 98 BUF 105)           \r",
      "Step #600.00 (0ms ?*RT. ?UPS, vehicles TOT 456 ACT 96 BUF 44)                             \r",
      "Step #700.00 (0ms ?*RT. ?UPS, vehicles TOT 500 ACT 80 BUF 0)                              \r",
      "Step #800.00 (1ms ~= 1000.00*RT, ~12000.00UPS, vehicles TOT 500 ACT 12 BUF 0)             \r",
      "Step #816.00 (0ms ?*RT. ?UPS, vehicles TOT 500 ACT 0 BUF 0)                               \r\n"
     ]
    },
    {
     "name": "stderr",
     "output_type": "stream",
     "text": [
      "Warning: Environment variable SUMO_HOME is not set properly, disabling XML validation. Set 'auto' or 'always' for web lookups.\n",
      " 44%|██████████████████                       | 221/500 [02:24<02:10,  2.14it/s]"
     ]
    },
    {
     "name": "stdout",
     "output_type": "stream",
     "text": [
      "Step #0.00 (0ms ?*RT. ?UPS, vehicles TOT 1 ACT 1 BUF 0)                                   \r",
      "Step #100.00 (1ms ~= 1000.00*RT, ~75000.00UPS, vehicles TOT 127 ACT 75 BUF 373)           \r",
      "Step #200.00 (0ms ?*RT. ?UPS, vehicles TOT 215 ACT 105 BUF 285)                           \r",
      "Step #300.00 (0ms ?*RT. ?UPS, vehicles TOT 249 ACT 79 BUF 251)                            \r",
      "Step #400.00 (0ms ?*RT. ?UPS, vehicles TOT 335 ACT 105 BUF 165)                           \r",
      "Step #500.00 (1ms ~= 1000.00*RT, ~93000.00UPS, vehicles TOT 385 ACT 93 BUF 115)           \r",
      "Step #600.00 (1ms ~= 1000.00*RT, ~90000.00UPS, vehicles TOT 442 ACT 90 BUF 58)            \r",
      "Step #700.00 (0ms ?*RT. ?UPS, vehicles TOT 500 ACT 85 BUF 0)                              \r",
      "Step #800.00 (0ms ?*RT. ?UPS, vehicles TOT 500 ACT 24 BUF 0)                              \r",
      "Step #831.00 (0ms ?*RT. ?UPS, vehicles TOT 500 ACT 0 BUF 0)                               \r\n"
     ]
    },
    {
     "name": "stderr",
     "output_type": "stream",
     "text": [
      "Warning: Environment variable SUMO_HOME is not set properly, disabling XML validation. Set 'auto' or 'always' for web lookups.\n",
      " 44%|██████████████████▏                      | 222/500 [02:24<02:09,  2.15it/s]"
     ]
    },
    {
     "name": "stdout",
     "output_type": "stream",
     "text": [
      "Step #0.00 (0ms ?*RT. ?UPS, vehicles TOT 1 ACT 1 BUF 0)                                   \r",
      "Step #100.00 (1ms ~= 1000.00*RT, ~74000.00UPS, vehicles TOT 128 ACT 74 BUF 372)           \r",
      "Step #200.00 (0ms ?*RT. ?UPS, vehicles TOT 208 ACT 97 BUF 292)                            \r",
      "Step #300.00 (0ms ?*RT. ?UPS, vehicles TOT 281 ACT 109 BUF 219)                           \r",
      "Step #400.00 (1ms ~= 1000.00*RT, ~99000.00UPS, vehicles TOT 335 ACT 99 BUF 165)           \r",
      "Step #500.00 (0ms ?*RT. ?UPS, vehicles TOT 382 ACT 90 BUF 118)                            \r",
      "Step #600.00 (0ms ?*RT. ?UPS, vehicles TOT 440 ACT 91 BUF 60)                             \r",
      "Step #700.00 (0ms ?*RT. ?UPS, vehicles TOT 500 ACT 86 BUF 0)                              \r",
      "Step #800.00 (0ms ?*RT. ?UPS, vehicles TOT 500 ACT 19 BUF 0)                              \r",
      "Step #825.00 (0ms ?*RT. ?UPS, vehicles TOT 500 ACT 0 BUF 0)                               \r\n"
     ]
    },
    {
     "name": "stderr",
     "output_type": "stream",
     "text": [
      "Warning: Environment variable SUMO_HOME is not set properly, disabling XML validation. Set 'auto' or 'always' for web lookups.\n",
      " 45%|██████████████████▎                      | 223/500 [02:25<02:06,  2.19it/s]"
     ]
    },
    {
     "name": "stdout",
     "output_type": "stream",
     "text": [
      "Step #0.00 (0ms ?*RT. ?UPS, vehicles TOT 1 ACT 1 BUF 0)                                   \r",
      "Step #100.00 (0ms ?*RT. ?UPS, vehicles TOT 119 ACT 63 BUF 381)                            \r",
      "Step #200.00 (0ms ?*RT. ?UPS, vehicles TOT 195 ACT 80 BUF 305)                            \r",
      "Step #300.00 (0ms ?*RT. ?UPS, vehicles TOT 251 ACT 75 BUF 249)                            \r",
      "Step #400.00 (0ms ?*RT. ?UPS, vehicles TOT 338 ACT 103 BUF 162)                           \r",
      "Step #500.00 (0ms ?*RT. ?UPS, vehicles TOT 383 ACT 77 BUF 117)                            \r",
      "Step #600.00 (0ms ?*RT. ?UPS, vehicles TOT 458 ACT 93 BUF 42)                             \r",
      "Step #700.00 (1ms ~= 1000.00*RT, ~75000.00UPS, vehicles TOT 500 ACT 75 BUF 0)             \r",
      "Step #800.00 (0ms ?*RT. ?UPS, vehicles TOT 500 ACT 11 BUF 0)                              \r",
      "Step #815.00 (0ms ?*RT. ?UPS, vehicles TOT 500 ACT 0 BUF 0)                               \r\n"
     ]
    },
    {
     "name": "stderr",
     "output_type": "stream",
     "text": [
      "Warning: Environment variable SUMO_HOME is not set properly, disabling XML validation. Set 'auto' or 'always' for web lookups.\n",
      " 45%|██████████████████▎                      | 224/500 [02:25<02:05,  2.19it/s]"
     ]
    },
    {
     "name": "stdout",
     "output_type": "stream",
     "text": [
      "Step #0.00 (1ms ~= 1000.00*RT, ~1000.00UPS, vehicles TOT 1 ACT 1 BUF 0)                   \r",
      "Step #100.00 (1ms ~= 1000.00*RT, ~72000.00UPS, vehicles TOT 126 ACT 72 BUF 374)           \r",
      "Step #200.00 (1ms ~= 1000.00*RT, ~97000.00UPS, vehicles TOT 212 ACT 97 BUF 288)           \r",
      "Step #300.00 (1ms ~= 1000.00*RT, ~84000.00UPS, vehicles TOT 256 ACT 84 BUF 244)           \r",
      "Step #400.00 (0ms ?*RT. ?UPS, vehicles TOT 319 ACT 85 BUF 181)                            \r",
      "Step #500.00 (0ms ?*RT. ?UPS, vehicles TOT 399 ACT 103 BUF 101)                           \r",
      "Step #600.00 (0ms ?*RT. ?UPS, vehicles TOT 458 ACT 100 BUF 42)                            \r",
      "Step #700.00 (0ms ?*RT. ?UPS, vehicles TOT 500 ACT 79 BUF 0)                              \r",
      "Step #800.00 (0ms ?*RT. ?UPS, vehicles TOT 500 ACT 8 BUF 0)                               \r",
      "Step #810.00 (0ms ?*RT. ?UPS, vehicles TOT 500 ACT 0 BUF 0)                               \r\n"
     ]
    },
    {
     "name": "stderr",
     "output_type": "stream",
     "text": [
      "Warning: Environment variable SUMO_HOME is not set properly, disabling XML validation. Set 'auto' or 'always' for web lookups.\n",
      " 45%|██████████████████▍                      | 225/500 [02:26<02:05,  2.20it/s]"
     ]
    },
    {
     "name": "stdout",
     "output_type": "stream",
     "text": [
      "Step #0.00 (1ms ~= 1000.00*RT, ~1000.00UPS, vehicles TOT 1 ACT 1 BUF 0)                   \r",
      "Step #100.00 (1ms ~= 1000.00*RT, ~72000.00UPS, vehicles TOT 127 ACT 72 BUF 373)           \r",
      "Step #200.00 (0ms ?*RT. ?UPS, vehicles TOT 211 ACT 98 BUF 289)                            \r",
      "Step #300.00 (0ms ?*RT. ?UPS, vehicles TOT 265 ACT 87 BUF 235)                            \r",
      "Step #400.00 (0ms ?*RT. ?UPS, vehicles TOT 334 ACT 100 BUF 166)                           \r",
      "Step #500.00 (0ms ?*RT. ?UPS, vehicles TOT 390 ACT 91 BUF 110)                            \r",
      "Step #600.00 (1ms ~= 1000.00*RT, ~104000.00UPS, vehicles TOT 460 ACT 104 BUF 40)          \r",
      "Step #700.00 (1ms ~= 1000.00*RT, ~80000.00UPS, vehicles TOT 500 ACT 80 BUF 0)             \r",
      "Step #800.00 (0ms ?*RT. ?UPS, vehicles TOT 500 ACT 15 BUF 0)                              \r",
      "Step #819.00 (0ms ?*RT. ?UPS, vehicles TOT 500 ACT 0 BUF 0)                               \r\n"
     ]
    },
    {
     "name": "stderr",
     "output_type": "stream",
     "text": [
      "Warning: Environment variable SUMO_HOME is not set properly, disabling XML validation. Set 'auto' or 'always' for web lookups.\n",
      " 45%|██████████████████▌                      | 226/500 [02:26<02:04,  2.20it/s]"
     ]
    },
    {
     "name": "stdout",
     "output_type": "stream",
     "text": [
      "Step #0.00 (0ms ?*RT. ?UPS, vehicles TOT 1 ACT 1 BUF 0)                                   \r",
      "Step #100.00 (1ms ~= 1000.00*RT, ~79000.00UPS, vehicles TOT 130 ACT 79 BUF 370)           \r",
      "Step #200.00 (0ms ?*RT. ?UPS, vehicles TOT 219 ACT 112 BUF 281)                           \r",
      "Step #300.00 (1ms ~= 1000.00*RT, ~87000.00UPS, vehicles TOT 262 ACT 87 BUF 238)           \r",
      "Step #400.00 (0ms ?*RT. ?UPS, vehicles TOT 331 ACT 93 BUF 169)                            \r",
      "Step #500.00 (0ms ?*RT. ?UPS, vehicles TOT 391 ACT 86 BUF 109)                            \r",
      "Step #600.00 (1ms ~= 1000.00*RT, ~80000.00UPS, vehicles TOT 448 ACT 80 BUF 52)            \r",
      "Step #700.00 (0ms ?*RT. ?UPS, vehicles TOT 500 ACT 70 BUF 0)                              \r",
      "Step #800.00 (1ms ~= 1000.00*RT, ~2000.00UPS, vehicles TOT 500 ACT 2 BUF 0)               \r",
      "Step #804.00 (0ms ?*RT. ?UPS, vehicles TOT 500 ACT 0 BUF 0)                               \r\n"
     ]
    },
    {
     "name": "stderr",
     "output_type": "stream",
     "text": [
      "Warning: Environment variable SUMO_HOME is not set properly, disabling XML validation. Set 'auto' or 'always' for web lookups.\n",
      " 45%|██████████████████▌                      | 227/500 [02:27<02:06,  2.16it/s]"
     ]
    },
    {
     "name": "stdout",
     "output_type": "stream",
     "text": [
      "Step #0.00 (0ms ?*RT. ?UPS, vehicles TOT 1 ACT 1 BUF 0)                                   \r",
      "Step #100.00 (1ms ~= 1000.00*RT, ~71000.00UPS, vehicles TOT 126 ACT 71 BUF 374)           \r",
      "Step #200.00 (1ms ~= 1000.00*RT, ~75000.00UPS, vehicles TOT 193 ACT 75 BUF 307)           \r",
      "Step #300.00 (1ms ~= 1000.00*RT, ~99000.00UPS, vehicles TOT 276 ACT 99 BUF 224)           \r",
      "Step #400.00 (1ms ~= 1000.00*RT, ~110000.00UPS, vehicles TOT 345 ACT 110 BUF 155)         \r",
      "Step #500.00 (0ms ?*RT. ?UPS, vehicles TOT 397 ACT 103 BUF 103)                           \r",
      "Step #600.00 (1ms ~= 1000.00*RT, ~83000.00UPS, vehicles TOT 443 ACT 83 BUF 57)            \r",
      "Step #700.00 (0ms ?*RT. ?UPS, vehicles TOT 500 ACT 84 BUF 0)                              \r",
      "Step #800.00 (0ms ?*RT. ?UPS, vehicles TOT 500 ACT 15 BUF 0)                              \r",
      "Step #820.00 (0ms ?*RT. ?UPS, vehicles TOT 500 ACT 0 BUF 0)                               \r\n"
     ]
    },
    {
     "name": "stderr",
     "output_type": "stream",
     "text": [
      "Warning: Environment variable SUMO_HOME is not set properly, disabling XML validation. Set 'auto' or 'always' for web lookups.\n",
      " 46%|██████████████████▋                      | 228/500 [02:27<02:06,  2.15it/s]"
     ]
    },
    {
     "name": "stdout",
     "output_type": "stream",
     "text": [
      "Step #0.00 (0ms ?*RT. ?UPS, vehicles TOT 1 ACT 1 BUF 0)                                   \r",
      "Step #100.00 (0ms ?*RT. ?UPS, vehicles TOT 126 ACT 71 BUF 374)                            \r",
      "Step #200.00 (1ms ~= 1000.00*RT, ~101000.00UPS, vehicles TOT 213 ACT 101 BUF 287)         \r",
      "Step #300.00 (1ms ~= 1000.00*RT, ~113000.00UPS, vehicles TOT 284 ACT 113 BUF 216)         \r",
      "Step #400.00 (0ms ?*RT. ?UPS, vehicles TOT 317 ACT 82 BUF 183)                            \r",
      "Step #500.00 (1ms ~= 1000.00*RT, ~100000.00UPS, vehicles TOT 397 ACT 100 BUF 103)         \r",
      "Step #600.00 (0ms ?*RT. ?UPS, vehicles TOT 448 ACT 87 BUF 52)                             \r",
      "Step #700.00 (1ms ~= 1000.00*RT, ~75000.00UPS, vehicles TOT 494 ACT 75 BUF 6)             \r",
      "Step #800.00 (0ms ?*RT. ?UPS, vehicles TOT 500 ACT 15 BUF 0)                              \r",
      "Step #819.00 (0ms ?*RT. ?UPS, vehicles TOT 500 ACT 0 BUF 0)                               \r\n"
     ]
    },
    {
     "name": "stderr",
     "output_type": "stream",
     "text": [
      "Warning: Environment variable SUMO_HOME is not set properly, disabling XML validation. Set 'auto' or 'always' for web lookups.\n",
      " 46%|██████████████████▊                      | 229/500 [02:28<02:20,  1.92it/s]"
     ]
    },
    {
     "name": "stdout",
     "output_type": "stream",
     "text": [
      "Step #0.00 (0ms ?*RT. ?UPS, vehicles TOT 1 ACT 1 BUF 0)                                   \r",
      "Step #100.00 (0ms ?*RT. ?UPS, vehicles TOT 126 ACT 72 BUF 374)                            \r",
      "Step #200.00 (0ms ?*RT. ?UPS, vehicles TOT 209 ACT 101 BUF 291)                           \r",
      "Step #300.00 (1ms ~= 1000.00*RT, ~75000.00UPS, vehicles TOT 247 ACT 75 BUF 253)           \r",
      "Step #400.00 (0ms ?*RT. ?UPS, vehicles TOT 313 ACT 80 BUF 187)                            \r",
      "Step #500.00 (1ms ~= 1000.00*RT, ~95000.00UPS, vehicles TOT 387 ACT 95 BUF 113)           \r",
      "Step #600.00 (0ms ?*RT. ?UPS, vehicles TOT 448 ACT 88 BUF 52)                             \r",
      "Step #700.00 (0ms ?*RT. ?UPS, vehicles TOT 500 ACT 75 BUF 0)                              \r",
      "Step #800.00 (0ms ?*RT. ?UPS, vehicles TOT 500 ACT 5 BUF 0)                               \r",
      "Step #807.00 (0ms ?*RT. ?UPS, vehicles TOT 500 ACT 0 BUF 0)                               \r\n"
     ]
    },
    {
     "name": "stderr",
     "output_type": "stream",
     "text": [
      "Warning: Environment variable SUMO_HOME is not set properly, disabling XML validation. Set 'auto' or 'always' for web lookups.\n",
      " 46%|██████████████████▊                      | 230/500 [02:29<02:42,  1.66it/s]"
     ]
    },
    {
     "name": "stdout",
     "output_type": "stream",
     "text": [
      "Step #0.00 (0ms ?*RT. ?UPS, vehicles TOT 1 ACT 1 BUF 0)                                   \r",
      "Step #100.00 (1ms ~= 1000.00*RT, ~73000.00UPS, vehicles TOT 129 ACT 73 BUF 371)           \r",
      "Step #200.00 (1ms ~= 1000.00*RT, ~99000.00UPS, vehicles TOT 218 ACT 99 BUF 282)           \r",
      "Step #300.00 (1ms ~= 1000.00*RT, ~89000.00UPS, vehicles TOT 268 ACT 89 BUF 232)           \r",
      "Step #400.00 (1ms ~= 1000.00*RT, ~92000.00UPS, vehicles TOT 333 ACT 92 BUF 167)           \r",
      "Step #500.00 (1ms ~= 1000.00*RT, ~91000.00UPS, vehicles TOT 394 ACT 91 BUF 106)           \r",
      "Step #600.00 (1ms ~= 1000.00*RT, ~108000.00UPS, vehicles TOT 472 ACT 108 BUF 28)          \r",
      "Step #700.00 (0ms ?*RT. ?UPS, vehicles TOT 500 ACT 71 BUF 0)                              \r",
      "Step #798.00 (0ms ?*RT. ?UPS, vehicles TOT 500 ACT 0 BUF 0)                               \r\n"
     ]
    },
    {
     "name": "stderr",
     "output_type": "stream",
     "text": [
      "Warning: Environment variable SUMO_HOME is not set properly, disabling XML validation. Set 'auto' or 'always' for web lookups.\n",
      " 46%|██████████████████▉                      | 231/500 [02:29<02:56,  1.52it/s]"
     ]
    },
    {
     "name": "stdout",
     "output_type": "stream",
     "text": [
      "Step #0.00 (1ms ~= 1000.00*RT, ~1000.00UPS, vehicles TOT 1 ACT 1 BUF 0)                   \r",
      "Step #100.00 (1ms ~= 1000.00*RT, ~73000.00UPS, vehicles TOT 126 ACT 73 BUF 374)           \r",
      "Step #200.00 (1ms ~= 1000.00*RT, ~97000.00UPS, vehicles TOT 212 ACT 97 BUF 288)           \r",
      "Step #300.00 (2ms ~= 500.00*RT, ~57500.00UPS, vehicles TOT 289 ACT 115 BUF 211)           \r",
      "Step #400.00 (1ms ~= 1000.00*RT, ~100000.00UPS, vehicles TOT 335 ACT 100 BUF 165)         \r",
      "Step #500.00 (1ms ~= 1000.00*RT, ~76000.00UPS, vehicles TOT 374 ACT 76 BUF 126)           \r",
      "Step #600.00 (1ms ~= 1000.00*RT, ~80000.00UPS, vehicles TOT 447 ACT 80 BUF 53)            \r",
      "Step #700.00 (1ms ~= 1000.00*RT, ~72000.00UPS, vehicles TOT 500 ACT 72 BUF 0)             \r",
      "Step #800.00 (0ms ?*RT. ?UPS, vehicles TOT 500 ACT 4 BUF 0)                               \r",
      "Step #806.00 (0ms ?*RT. ?UPS, vehicles TOT 500 ACT 0 BUF 0)                               \r\n"
     ]
    },
    {
     "name": "stderr",
     "output_type": "stream",
     "text": [
      "Warning: Environment variable SUMO_HOME is not set properly, disabling XML validation. Set 'auto' or 'always' for web lookups.\n",
      " 46%|███████████████████                      | 232/500 [02:30<03:06,  1.44it/s]"
     ]
    },
    {
     "name": "stdout",
     "output_type": "stream",
     "text": [
      "Step #0.00 (1ms ~= 1000.00*RT, ~1000.00UPS, vehicles TOT 1 ACT 1 BUF 0)                   \r",
      "Step #100.00 (1ms ~= 1000.00*RT, ~73000.00UPS, vehicles TOT 127 ACT 73 BUF 373)           \r",
      "Step #200.00 (0ms ?*RT. ?UPS, vehicles TOT 185 ACT 75 BUF 315)                            \r",
      "Step #300.00 (1ms ~= 1000.00*RT, ~100000.00UPS, vehicles TOT 268 ACT 100 BUF 232)         \r",
      "Step #400.00 (1ms ~= 1000.00*RT, ~69000.00UPS, vehicles TOT 302 ACT 69 BUF 198)           \r",
      "Step #500.00 (1ms ~= 1000.00*RT, ~105000.00UPS, vehicles TOT 395 ACT 105 BUF 105)         \r",
      "Step #600.00 (0ms ?*RT. ?UPS, vehicles TOT 430 ACT 78 BUF 70)                             \r",
      "Step #700.00 (1ms ~= 1000.00*RT, ~86000.00UPS, vehicles TOT 500 ACT 86 BUF 0)             \r",
      "Step #800.00 (1ms ~= 1000.00*RT, ~23000.00UPS, vehicles TOT 500 ACT 23 BUF 0)             \r",
      "Step #830.00 (0ms ?*RT. ?UPS, vehicles TOT 500 ACT 0 BUF 0)                               \r\n"
     ]
    },
    {
     "name": "stderr",
     "output_type": "stream",
     "text": [
      "Warning: Environment variable SUMO_HOME is not set properly, disabling XML validation. Set 'auto' or 'always' for web lookups.\n",
      " 47%|███████████████████                      | 233/500 [02:31<03:13,  1.38it/s]"
     ]
    },
    {
     "name": "stdout",
     "output_type": "stream",
     "text": [
      "Step #0.00 (0ms ?*RT. ?UPS, vehicles TOT 1 ACT 1 BUF 0)                                   \r",
      "Step #100.00 (2ms ~= 500.00*RT, ~36500.00UPS, vehicles TOT 125 ACT 73 BUF 375)            \r",
      "Step #200.00 (1ms ~= 1000.00*RT, ~93000.00UPS, vehicles TOT 208 ACT 93 BUF 292)           \r",
      "Step #300.00 (1ms ~= 1000.00*RT, ~88000.00UPS, vehicles TOT 270 ACT 88 BUF 230)           \r",
      "Step #400.00 (1ms ~= 1000.00*RT, ~95000.00UPS, vehicles TOT 338 ACT 95 BUF 162)           \r",
      "Step #500.00 (0ms ?*RT. ?UPS, vehicles TOT 388 ACT 83 BUF 112)                            \r",
      "Step #600.00 (1ms ~= 1000.00*RT, ~92000.00UPS, vehicles TOT 458 ACT 92 BUF 42)            \r",
      "Step #700.00 (1ms ~= 1000.00*RT, ~73000.00UPS, vehicles TOT 500 ACT 73 BUF 0)             \r",
      "Step #800.00 (0ms ?*RT. ?UPS, vehicles TOT 500 ACT 8 BUF 0)                               \r",
      "Step #811.00 (0ms ?*RT. ?UPS, vehicles TOT 500 ACT 0 BUF 0)                               \r\n"
     ]
    },
    {
     "name": "stderr",
     "output_type": "stream",
     "text": [
      "Warning: Environment variable SUMO_HOME is not set properly, disabling XML validation. Set 'auto' or 'always' for web lookups.\n",
      " 47%|███████████████████▏                     | 234/500 [02:32<03:19,  1.34it/s]"
     ]
    },
    {
     "name": "stdout",
     "output_type": "stream",
     "text": [
      "Step #0.00 (1ms ~= 1000.00*RT, ~1000.00UPS, vehicles TOT 1 ACT 1 BUF 0)                   \r",
      "Step #100.00 (1ms ~= 1000.00*RT, ~78000.00UPS, vehicles TOT 128 ACT 78 BUF 372)           \r",
      "Step #200.00 (1ms ~= 1000.00*RT, ~99000.00UPS, vehicles TOT 208 ACT 99 BUF 292)           \r",
      "Step #300.00 (1ms ~= 1000.00*RT, ~88000.00UPS, vehicles TOT 263 ACT 88 BUF 237)           \r",
      "Step #400.00 (1ms ~= 1000.00*RT, ~91000.00UPS, vehicles TOT 332 ACT 91 BUF 168)           \r",
      "Step #500.00 (1ms ~= 1000.00*RT, ~85000.00UPS, vehicles TOT 383 ACT 85 BUF 117)           \r",
      "Step #600.00 (1ms ~= 1000.00*RT, ~98000.00UPS, vehicles TOT 454 ACT 98 BUF 46)            \r",
      "Step #700.00 (1ms ~= 1000.00*RT, ~76000.00UPS, vehicles TOT 497 ACT 76 BUF 3)             \r",
      "Step #800.00 (0ms ?*RT. ?UPS, vehicles TOT 500 ACT 24 BUF 0)                              \r",
      "Step #831.00 (0ms ?*RT. ?UPS, vehicles TOT 500 ACT 0 BUF 0)                               \r\n"
     ]
    },
    {
     "name": "stderr",
     "output_type": "stream",
     "text": [
      "Warning: Environment variable SUMO_HOME is not set properly, disabling XML validation. Set 'auto' or 'always' for web lookups.\n",
      " 47%|███████████████████▎                     | 235/500 [02:33<03:23,  1.30it/s]"
     ]
    },
    {
     "name": "stdout",
     "output_type": "stream",
     "text": [
      "Step #0.00 (0ms ?*RT. ?UPS, vehicles TOT 1 ACT 1 BUF 0)                                   \r",
      "Step #100.00 (2ms ~= 500.00*RT, ~38500.00UPS, vehicles TOT 130 ACT 77 BUF 370)            \r",
      "Step #200.00 (0ms ?*RT. ?UPS, vehicles TOT 186 ACT 73 BUF 314)                            \r",
      "Step #300.00 (1ms ~= 1000.00*RT, ~100000.00UPS, vehicles TOT 268 ACT 100 BUF 232)         \r",
      "Step #400.00 (1ms ~= 1000.00*RT, ~96000.00UPS, vehicles TOT 324 ACT 96 BUF 176)           \r",
      "Step #500.00 (0ms ?*RT. ?UPS, vehicles TOT 375 ACT 85 BUF 125)                            \r",
      "Step #600.00 (0ms ?*RT. ?UPS, vehicles TOT 428 ACT 83 BUF 72)                             \r",
      "Step #700.00 (1ms ~= 1000.00*RT, ~83000.00UPS, vehicles TOT 488 ACT 83 BUF 12)            \r",
      "Step #800.00 (0ms ?*RT. ?UPS, vehicles TOT 500 ACT 35 BUF 0)                              \r",
      "Step #847.00 (0ms ?*RT. ?UPS, vehicles TOT 500 ACT 0 BUF 0)                               \r\n"
     ]
    },
    {
     "name": "stderr",
     "output_type": "stream",
     "text": [
      "Warning: Environment variable SUMO_HOME is not set properly, disabling XML validation. Set 'auto' or 'always' for web lookups.\n",
      " 47%|███████████████████▎                     | 236/500 [02:34<03:39,  1.20it/s]"
     ]
    },
    {
     "name": "stdout",
     "output_type": "stream",
     "text": [
      "Step #0.00 (0ms ?*RT. ?UPS, vehicles TOT 1 ACT 1 BUF 0)                                   \r",
      "Step #100.00 (1ms ~= 1000.00*RT, ~76000.00UPS, vehicles TOT 126 ACT 76 BUF 374)           \r",
      "Step #200.00 (1ms ~= 1000.00*RT, ~105000.00UPS, vehicles TOT 209 ACT 105 BUF 291)         \r",
      "Step #300.00 (1ms ~= 1000.00*RT, ~79000.00UPS, vehicles TOT 249 ACT 79 BUF 251)           \r",
      "Step #400.00 (1ms ~= 1000.00*RT, ~74000.00UPS, vehicles TOT 305 ACT 74 BUF 195)           \r",
      "Step #500.00 (0ms ?*RT. ?UPS, vehicles TOT 385 ACT 95 BUF 115)                            \r",
      "Step #600.00 (1ms ~= 1000.00*RT, ~95000.00UPS, vehicles TOT 445 ACT 95 BUF 55)            \r",
      "Step #700.00 (1ms ~= 1000.00*RT, ~86000.00UPS, vehicles TOT 500 ACT 86 BUF 0)             \r",
      "Step #800.00 (0ms ?*RT. ?UPS, vehicles TOT 500 ACT 24 BUF 0)                              \r",
      "Step #831.00 (0ms ?*RT. ?UPS, vehicles TOT 500 ACT 0 BUF 0)                               \r\n"
     ]
    },
    {
     "name": "stderr",
     "output_type": "stream",
     "text": [
      "Warning: Environment variable SUMO_HOME is not set properly, disabling XML validation. Set 'auto' or 'always' for web lookups.\n",
      " 47%|███████████████████▍                     | 237/500 [02:34<03:37,  1.21it/s]"
     ]
    },
    {
     "name": "stdout",
     "output_type": "stream",
     "text": [
      "Step #0.00 (1ms ~= 1000.00*RT, ~1000.00UPS, vehicles TOT 1 ACT 1 BUF 0)                   \r",
      "Step #100.00 (2ms ~= 500.00*RT, ~37000.00UPS, vehicles TOT 126 ACT 74 BUF 374)            \r",
      "Step #200.00 (1ms ~= 1000.00*RT, ~102000.00UPS, vehicles TOT 212 ACT 102 BUF 288)         \r",
      "Step #300.00 (1ms ~= 1000.00*RT, ~82000.00UPS, vehicles TOT 255 ACT 82 BUF 245)           \r",
      "Step #400.00 (1ms ~= 1000.00*RT, ~93000.00UPS, vehicles TOT 324 ACT 93 BUF 176)           \r",
      "Step #500.00 (0ms ?*RT. ?UPS, vehicles TOT 374 ACT 88 BUF 126)                            \r",
      "Step #600.00 (0ms ?*RT. ?UPS, vehicles TOT 436 ACT 89 BUF 64)                             \r",
      "Step #700.00 (0ms ?*RT. ?UPS, vehicles TOT 500 ACT 94 BUF 0)                              \r",
      "Step #800.00 (1ms ~= 1000.00*RT, ~38000.00UPS, vehicles TOT 500 ACT 38 BUF 0)             \r",
      "Step #851.00 (0ms ?*RT. ?UPS, vehicles TOT 500 ACT 0 BUF 0)                               \r\n"
     ]
    },
    {
     "name": "stderr",
     "output_type": "stream",
     "text": [
      "Warning: Environment variable SUMO_HOME is not set properly, disabling XML validation. Set 'auto' or 'always' for web lookups.\n",
      " 48%|███████████████████▌                     | 238/500 [02:35<03:33,  1.23it/s]"
     ]
    },
    {
     "name": "stdout",
     "output_type": "stream",
     "text": [
      "Step #0.00 (0ms ?*RT. ?UPS, vehicles TOT 1 ACT 1 BUF 0)                                   \r",
      "Step #100.00 (1ms ~= 1000.00*RT, ~70000.00UPS, vehicles TOT 126 ACT 70 BUF 374)           \r",
      "Step #200.00 (1ms ~= 1000.00*RT, ~99000.00UPS, vehicles TOT 214 ACT 99 BUF 286)           \r",
      "Step #300.00 (1ms ~= 1000.00*RT, ~94000.00UPS, vehicles TOT 269 ACT 94 BUF 231)           \r",
      "Step #400.00 (1ms ~= 1000.00*RT, ~102000.00UPS, vehicles TOT 337 ACT 102 BUF 163)         \r",
      "Step #500.00 (1ms ~= 1000.00*RT, ~67000.00UPS, vehicles TOT 368 ACT 67 BUF 132)           \r",
      "Step #600.00 (0ms ?*RT. ?UPS, vehicles TOT 451 ACT 84 BUF 49)                             \r",
      "Step #700.00 (0ms ?*RT. ?UPS, vehicles TOT 500 ACT 73 BUF 0)                              \r",
      "Step #800.00 (0ms ?*RT. ?UPS, vehicles TOT 500 ACT 6 BUF 0)                               \r",
      "Step #809.00 (0ms ?*RT. ?UPS, vehicles TOT 500 ACT 0 BUF 0)                               \r\n"
     ]
    },
    {
     "name": "stderr",
     "output_type": "stream",
     "text": [
      "Warning: Environment variable SUMO_HOME is not set properly, disabling XML validation. Set 'auto' or 'always' for web lookups.\n",
      " 48%|███████████████████▌                     | 239/500 [02:36<03:33,  1.22it/s]"
     ]
    },
    {
     "name": "stdout",
     "output_type": "stream",
     "text": [
      "Step #0.00 (0ms ?*RT. ?UPS, vehicles TOT 1 ACT 1 BUF 0)                                   \r",
      "Step #100.00 (1ms ~= 1000.00*RT, ~63000.00UPS, vehicles TOT 118 ACT 63 BUF 382)           \r",
      "Step #200.00 (1ms ~= 1000.00*RT, ~99000.00UPS, vehicles TOT 211 ACT 99 BUF 289)           \r",
      "Step #300.00 (1ms ~= 1000.00*RT, ~110000.00UPS, vehicles TOT 279 ACT 110 BUF 221)         \r",
      "Step #400.00 (1ms ~= 1000.00*RT, ~95000.00UPS, vehicles TOT 327 ACT 95 BUF 173)           \r",
      "Step #500.00 (1ms ~= 1000.00*RT, ~106000.00UPS, vehicles TOT 399 ACT 106 BUF 101)         \r",
      "Step #600.00 (1ms ~= 1000.00*RT, ~100000.00UPS, vehicles TOT 451 ACT 100 BUF 49)          \r",
      "Step #700.00 (1ms ~= 1000.00*RT, ~80000.00UPS, vehicles TOT 493 ACT 80 BUF 7)             \r",
      "Step #800.00 (0ms ?*RT. ?UPS, vehicles TOT 500 ACT 28 BUF 0)                              \r",
      "Step #836.00 (0ms ?*RT. ?UPS, vehicles TOT 500 ACT 0 BUF 0)                               \r\n"
     ]
    },
    {
     "name": "stderr",
     "output_type": "stream",
     "text": [
      "Warning: Environment variable SUMO_HOME is not set properly, disabling XML validation. Set 'auto' or 'always' for web lookups.\n",
      " 48%|███████████████████▋                     | 240/500 [02:37<03:15,  1.33it/s]"
     ]
    },
    {
     "name": "stdout",
     "output_type": "stream",
     "text": [
      "Step #0.00 (0ms ?*RT. ?UPS, vehicles TOT 1 ACT 1 BUF 0)                                   \r",
      "Step #100.00 (2ms ~= 500.00*RT, ~35000.00UPS, vehicles TOT 124 ACT 70 BUF 376)            \r",
      "Step #200.00 (1ms ~= 1000.00*RT, ~96000.00UPS, vehicles TOT 211 ACT 96 BUF 289)           \r",
      "Step #300.00 (0ms ?*RT. ?UPS, vehicles TOT 262 ACT 83 BUF 238)                            \r",
      "Step #400.00 (0ms ?*RT. ?UPS, vehicles TOT 341 ACT 99 BUF 159)                            \r",
      "Step #500.00 (0ms ?*RT. ?UPS, vehicles TOT 389 ACT 89 BUF 111)                            \r",
      "Step #600.00 (1ms ~= 1000.00*RT, ~85000.00UPS, vehicles TOT 445 ACT 85 BUF 55)            \r",
      "Step #700.00 (1ms ~= 1000.00*RT, ~77000.00UPS, vehicles TOT 500 ACT 77 BUF 0)             \r",
      "Step #800.00 (0ms ?*RT. ?UPS, vehicles TOT 500 ACT 9 BUF 0)                               \r",
      "Step #812.00 (0ms ?*RT. ?UPS, vehicles TOT 500 ACT 0 BUF 0)                               \r\n"
     ]
    },
    {
     "name": "stderr",
     "output_type": "stream",
     "text": [
      "Warning: Environment variable SUMO_HOME is not set properly, disabling XML validation. Set 'auto' or 'always' for web lookups.\n",
      " 48%|███████████████████▊                     | 241/500 [02:37<02:50,  1.52it/s]"
     ]
    },
    {
     "name": "stdout",
     "output_type": "stream",
     "text": [
      "Step #0.00 (0ms ?*RT. ?UPS, vehicles TOT 1 ACT 1 BUF 0)                                   \r",
      "Step #100.00 (1ms ~= 1000.00*RT, ~68000.00UPS, vehicles TOT 122 ACT 68 BUF 378)           \r",
      "Step #200.00 (0ms ?*RT. ?UPS, vehicles TOT 207 ACT 94 BUF 293)                            \r",
      "Step #300.00 (1ms ~= 1000.00*RT, ~106000.00UPS, vehicles TOT 280 ACT 106 BUF 220)         \r",
      "Step #400.00 (1ms ~= 1000.00*RT, ~80000.00UPS, vehicles TOT 321 ACT 80 BUF 179)           \r",
      "Step #500.00 (0ms ?*RT. ?UPS, vehicles TOT 390 ACT 90 BUF 110)                            \r",
      "Step #600.00 (0ms ?*RT. ?UPS, vehicles TOT 446 ACT 82 BUF 54)                             \r",
      "Step #700.00 (0ms ?*RT. ?UPS, vehicles TOT 500 ACT 74 BUF 0)                              \r",
      "Step #800.00 (0ms ?*RT. ?UPS, vehicles TOT 500 ACT 7 BUF 0)                               \r",
      "Step #809.00 (0ms ?*RT. ?UPS, vehicles TOT 500 ACT 0 BUF 0)                               \r\n"
     ]
    },
    {
     "name": "stderr",
     "output_type": "stream",
     "text": [
      "Warning: Environment variable SUMO_HOME is not set properly, disabling XML validation. Set 'auto' or 'always' for web lookups.\n",
      " 48%|███████████████████▊                     | 242/500 [02:37<02:34,  1.67it/s]"
     ]
    },
    {
     "name": "stdout",
     "output_type": "stream",
     "text": [
      "Step #0.00 (1ms ~= 1000.00*RT, ~1000.00UPS, vehicles TOT 1 ACT 1 BUF 0)                   \r",
      "Step #100.00 (1ms ~= 1000.00*RT, ~70000.00UPS, vehicles TOT 123 ACT 70 BUF 377)           \r",
      "Step #200.00 (0ms ?*RT. ?UPS, vehicles TOT 194 ACT 83 BUF 306)                            \r",
      "Step #300.00 (0ms ?*RT. ?UPS, vehicles TOT 266 ACT 95 BUF 234)                            \r",
      "Step #400.00 (0ms ?*RT. ?UPS, vehicles TOT 325 ACT 95 BUF 175)                            \r",
      "Step #500.00 (0ms ?*RT. ?UPS, vehicles TOT 374 ACT 83 BUF 126)                            \r",
      "Step #600.00 (0ms ?*RT. ?UPS, vehicles TOT 454 ACT 100 BUF 46)                            \r",
      "Step #700.00 (1ms ~= 1000.00*RT, ~88000.00UPS, vehicles TOT 500 ACT 88 BUF 0)             \r",
      "Step #800.00 (0ms ?*RT. ?UPS, vehicles TOT 500 ACT 28 BUF 0)                              \r",
      "Step #836.00 (0ms ?*RT. ?UPS, vehicles TOT 500 ACT 0 BUF 0)                               \r\n"
     ]
    },
    {
     "name": "stderr",
     "output_type": "stream",
     "text": [
      "Warning: Environment variable SUMO_HOME is not set properly, disabling XML validation. Set 'auto' or 'always' for web lookups.\n",
      " 49%|███████████████████▉                     | 243/500 [02:38<02:21,  1.81it/s]"
     ]
    },
    {
     "name": "stdout",
     "output_type": "stream",
     "text": [
      "Step #0.00 (0ms ?*RT. ?UPS, vehicles TOT 1 ACT 1 BUF 0)                                   \r",
      "Step #100.00 (1ms ~= 1000.00*RT, ~72000.00UPS, vehicles TOT 125 ACT 72 BUF 375)           \r",
      "Step #200.00 (0ms ?*RT. ?UPS, vehicles TOT 214 ACT 104 BUF 286)                           \r",
      "Step #300.00 (1ms ~= 1000.00*RT, ~68000.00UPS, vehicles TOT 233 ACT 68 BUF 267)           \r",
      "Step #400.00 (0ms ?*RT. ?UPS, vehicles TOT 307 ACT 81 BUF 193)                            \r",
      "Step #500.00 (0ms ?*RT. ?UPS, vehicles TOT 364 ACT 79 BUF 136)                            \r",
      "Step #600.00 (0ms ?*RT. ?UPS, vehicles TOT 438 ACT 92 BUF 62)                             \r",
      "Step #700.00 (0ms ?*RT. ?UPS, vehicles TOT 500 ACT 96 BUF 0)                              \r",
      "Step #800.00 (0ms ?*RT. ?UPS, vehicles TOT 500 ACT 36 BUF 0)                              \r",
      "Step #848.00 (0ms ?*RT. ?UPS, vehicles TOT 500 ACT 0 BUF 0)                               \r\n"
     ]
    },
    {
     "name": "stderr",
     "output_type": "stream",
     "text": [
      "Warning: Environment variable SUMO_HOME is not set properly, disabling XML validation. Set 'auto' or 'always' for web lookups.\n",
      " 49%|████████████████████                     | 244/500 [02:38<02:13,  1.91it/s]"
     ]
    },
    {
     "name": "stdout",
     "output_type": "stream",
     "text": [
      "Step #0.00 (1ms ~= 1000.00*RT, ~1000.00UPS, vehicles TOT 1 ACT 1 BUF 0)                   \r",
      "Step #100.00 (1ms ~= 1000.00*RT, ~73000.00UPS, vehicles TOT 126 ACT 73 BUF 374)           \r",
      "Step #200.00 (1ms ~= 1000.00*RT, ~106000.00UPS, vehicles TOT 215 ACT 106 BUF 285)         \r",
      "Step #300.00 (0ms ?*RT. ?UPS, vehicles TOT 248 ACT 74 BUF 252)                            \r",
      "Step #400.00 (1ms ~= 1000.00*RT, ~89000.00UPS, vehicles TOT 321 ACT 89 BUF 179)           \r",
      "Step #500.00 (0ms ?*RT. ?UPS, vehicles TOT 393 ACT 103 BUF 107)                           \r",
      "Step #600.00 (1ms ~= 1000.00*RT, ~85000.00UPS, vehicles TOT 443 ACT 85 BUF 57)            \r",
      "Step #700.00 (0ms ?*RT. ?UPS, vehicles TOT 498 ACT 80 BUF 2)                              \r",
      "Step #800.00 (0ms ?*RT. ?UPS, vehicles TOT 500 ACT 19 BUF 0)                              \r",
      "Step #825.00 (0ms ?*RT. ?UPS, vehicles TOT 500 ACT 0 BUF 0)                               \r\n"
     ]
    },
    {
     "name": "stderr",
     "output_type": "stream",
     "text": [
      "Warning: Environment variable SUMO_HOME is not set properly, disabling XML validation. Set 'auto' or 'always' for web lookups.\n",
      " 49%|████████████████████                     | 245/500 [02:39<02:05,  2.03it/s]"
     ]
    },
    {
     "name": "stdout",
     "output_type": "stream",
     "text": [
      "Step #0.00 (0ms ?*RT. ?UPS, vehicles TOT 1 ACT 1 BUF 0)                                   \r",
      "Step #100.00 (0ms ?*RT. ?UPS, vehicles TOT 122 ACT 67 BUF 378)                            \r",
      "Step #200.00 (0ms ?*RT. ?UPS, vehicles TOT 194 ACT 78 BUF 306)                            \r",
      "Step #300.00 (1ms ~= 1000.00*RT, ~100000.00UPS, vehicles TOT 273 ACT 100 BUF 227)         \r",
      "Step #400.00 (1ms ~= 1000.00*RT, ~89000.00UPS, vehicles TOT 332 ACT 89 BUF 168)           \r",
      "Step #500.00 (0ms ?*RT. ?UPS, vehicles TOT 392 ACT 83 BUF 108)                            \r",
      "Step #600.00 (0ms ?*RT. ?UPS, vehicles TOT 464 ACT 93 BUF 36)                             \r",
      "Step #700.00 (1ms ~= 1000.00*RT, ~70000.00UPS, vehicles TOT 500 ACT 70 BUF 0)             \r",
      "Step #800.00 (0ms ?*RT. ?UPS, vehicles TOT 500 ACT 0 BUF 0)                               \r\n"
     ]
    },
    {
     "name": "stderr",
     "output_type": "stream",
     "text": [
      "Warning: Environment variable SUMO_HOME is not set properly, disabling XML validation. Set 'auto' or 'always' for web lookups.\n",
      " 49%|████████████████████▏                    | 246/500 [02:39<02:00,  2.11it/s]"
     ]
    },
    {
     "name": "stdout",
     "output_type": "stream",
     "text": [
      "Step #0.00 (0ms ?*RT. ?UPS, vehicles TOT 1 ACT 1 BUF 0)                                   \r",
      "Step #100.00 (0ms ?*RT. ?UPS, vehicles TOT 126 ACT 72 BUF 374)                            \r",
      "Step #200.00 (0ms ?*RT. ?UPS, vehicles TOT 214 ACT 102 BUF 286)                           \r",
      "Step #300.00 (0ms ?*RT. ?UPS, vehicles TOT 267 ACT 96 BUF 233)                            \r",
      "Step #400.00 (0ms ?*RT. ?UPS, vehicles TOT 297 ACT 61 BUF 203)                            \r",
      "Step #500.00 (0ms ?*RT. ?UPS, vehicles TOT 389 ACT 90 BUF 111)                            \r",
      "Step #600.00 (1ms ~= 1000.00*RT, ~86000.00UPS, vehicles TOT 449 ACT 86 BUF 51)            \r",
      "Step #700.00 (0ms ?*RT. ?UPS, vehicles TOT 500 ACT 70 BUF 0)                              \r",
      "Step #800.00 (0ms ?*RT. ?UPS, vehicles TOT 500 ACT 0 BUF 0)                               \r\n"
     ]
    },
    {
     "name": "stderr",
     "output_type": "stream",
     "text": [
      "Warning: Environment variable SUMO_HOME is not set properly, disabling XML validation. Set 'auto' or 'always' for web lookups.\n",
      " 49%|████████████████████▎                    | 247/500 [02:40<01:57,  2.16it/s]"
     ]
    },
    {
     "name": "stdout",
     "output_type": "stream",
     "text": [
      "Step #0.00 (0ms ?*RT. ?UPS, vehicles TOT 1 ACT 1 BUF 0)                                   \r",
      "Step #100.00 (0ms ?*RT. ?UPS, vehicles TOT 124 ACT 70 BUF 376)                            \r",
      "Step #200.00 (0ms ?*RT. ?UPS, vehicles TOT 196 ACT 86 BUF 304)                            \r",
      "Step #300.00 (1ms ~= 1000.00*RT, ~90000.00UPS, vehicles TOT 260 ACT 90 BUF 240)           \r",
      "Step #400.00 (1ms ~= 1000.00*RT, ~94000.00UPS, vehicles TOT 326 ACT 94 BUF 174)           \r",
      "Step #500.00 (0ms ?*RT. ?UPS, vehicles TOT 381 ACT 89 BUF 119)                            \r",
      "Step #600.00 (0ms ?*RT. ?UPS, vehicles TOT 441 ACT 84 BUF 59)                             \r",
      "Step #700.00 (1ms ~= 1000.00*RT, ~79000.00UPS, vehicles TOT 498 ACT 79 BUF 2)             \r",
      "Step #800.00 (0ms ?*RT. ?UPS, vehicles TOT 500 ACT 18 BUF 0)                              \r",
      "Step #823.00 (0ms ?*RT. ?UPS, vehicles TOT 500 ACT 0 BUF 0)                               \r\n"
     ]
    },
    {
     "name": "stderr",
     "output_type": "stream",
     "text": [
      "Warning: Environment variable SUMO_HOME is not set properly, disabling XML validation. Set 'auto' or 'always' for web lookups.\n",
      " 50%|████████████████████▎                    | 248/500 [02:40<02:02,  2.06it/s]"
     ]
    },
    {
     "name": "stdout",
     "output_type": "stream",
     "text": [
      "Step #0.00 (1ms ~= 1000.00*RT, ~1000.00UPS, vehicles TOT 1 ACT 1 BUF 0)                   \r",
      "Step #100.00 (1ms ~= 1000.00*RT, ~67000.00UPS, vehicles TOT 121 ACT 67 BUF 379)           \r",
      "Step #200.00 (1ms ~= 1000.00*RT, ~92000.00UPS, vehicles TOT 202 ACT 92 BUF 298)           \r",
      "Step #300.00 (1ms ~= 1000.00*RT, ~87000.00UPS, vehicles TOT 257 ACT 87 BUF 243)           \r",
      "Step #400.00 (0ms ?*RT. ?UPS, vehicles TOT 324 ACT 96 BUF 176)                            \r",
      "Step #500.00 (0ms ?*RT. ?UPS, vehicles TOT 356 ACT 70 BUF 144)                            \r",
      "Step #600.00 (0ms ?*RT. ?UPS, vehicles TOT 445 ACT 95 BUF 55)                             \r",
      "Step #700.00 (0ms ?*RT. ?UPS, vehicles TOT 500 ACT 89 BUF 0)                              \r",
      "Step #800.00 (0ms ?*RT. ?UPS, vehicles TOT 500 ACT 21 BUF 0)                              \r",
      "Step #827.00 (0ms ?*RT. ?UPS, vehicles TOT 500 ACT 0 BUF 0)                               \r\n"
     ]
    },
    {
     "name": "stderr",
     "output_type": "stream",
     "text": [
      "Warning: Environment variable SUMO_HOME is not set properly, disabling XML validation. Set 'auto' or 'always' for web lookups.\n",
      " 50%|████████████████████▍                    | 249/500 [02:41<01:59,  2.10it/s]"
     ]
    },
    {
     "name": "stdout",
     "output_type": "stream",
     "text": [
      "Step #0.00 (1ms ~= 1000.00*RT, ~1000.00UPS, vehicles TOT 1 ACT 1 BUF 0)                   \r",
      "Step #100.00 (0ms ?*RT. ?UPS, vehicles TOT 125 ACT 71 BUF 375)                            \r",
      "Step #200.00 (0ms ?*RT. ?UPS, vehicles TOT 205 ACT 92 BUF 295)                            \r",
      "Step #300.00 (1ms ~= 1000.00*RT, ~73000.00UPS, vehicles TOT 245 ACT 73 BUF 255)           \r",
      "Step #400.00 (1ms ~= 1000.00*RT, ~92000.00UPS, vehicles TOT 328 ACT 92 BUF 172)           \r",
      "Step #500.00 (1ms ~= 1000.00*RT, ~92000.00UPS, vehicles TOT 389 ACT 92 BUF 111)           \r",
      "Step #600.00 (1ms ~= 1000.00*RT, ~90000.00UPS, vehicles TOT 444 ACT 90 BUF 56)            \r",
      "Step #700.00 (1ms ~= 1000.00*RT, ~91000.00UPS, vehicles TOT 500 ACT 91 BUF 0)             \r",
      "Step #800.00 (0ms ?*RT. ?UPS, vehicles TOT 500 ACT 28 BUF 0)                              \r",
      "Step #839.00 (0ms ?*RT. ?UPS, vehicles TOT 500 ACT 0 BUF 0)                               \r\n"
     ]
    },
    {
     "name": "stderr",
     "output_type": "stream",
     "text": [
      "Warning: Environment variable SUMO_HOME is not set properly, disabling XML validation. Set 'auto' or 'always' for web lookups.\n",
      " 50%|████████████████████▌                    | 250/500 [02:41<01:57,  2.13it/s]"
     ]
    },
    {
     "name": "stdout",
     "output_type": "stream",
     "text": [
      "Step #0.00 (1ms ~= 1000.00*RT, ~1000.00UPS, vehicles TOT 1 ACT 1 BUF 0)                   \r",
      "Step #100.00 (0ms ?*RT. ?UPS, vehicles TOT 120 ACT 67 BUF 380)                            \r",
      "Step #200.00 (1ms ~= 1000.00*RT, ~78000.00UPS, vehicles TOT 189 ACT 78 BUF 311)           \r",
      "Step #300.00 (0ms ?*RT. ?UPS, vehicles TOT 264 ACT 96 BUF 236)                            \r",
      "Step #400.00 (1ms ~= 1000.00*RT, ~95000.00UPS, vehicles TOT 322 ACT 95 BUF 178)           \r",
      "Step #500.00 (0ms ?*RT. ?UPS, vehicles TOT 378 ACT 89 BUF 122)                            \r",
      "Step #600.00 (0ms ?*RT. ?UPS, vehicles TOT 427 ACT 79 BUF 73)                             \r",
      "Step #700.00 (1ms ~= 1000.00*RT, ~97000.00UPS, vehicles TOT 500 ACT 97 BUF 0)             \r",
      "Step #800.00 (0ms ?*RT. ?UPS, vehicles TOT 500 ACT 38 BUF 0)                              \r",
      "Step #856.00 (0ms ?*RT. ?UPS, vehicles TOT 500 ACT 0 BUF 0)                               \r\n"
     ]
    },
    {
     "name": "stderr",
     "output_type": "stream",
     "text": [
      "Warning: Environment variable SUMO_HOME is not set properly, disabling XML validation. Set 'auto' or 'always' for web lookups.\n",
      " 50%|████████████████████▌                    | 251/500 [02:42<01:54,  2.18it/s]"
     ]
    },
    {
     "name": "stdout",
     "output_type": "stream",
     "text": [
      "Step #0.00 (1ms ~= 1000.00*RT, ~1000.00UPS, vehicles TOT 1 ACT 1 BUF 0)                   \r",
      "Step #100.00 (0ms ?*RT. ?UPS, vehicles TOT 124 ACT 73 BUF 376)                            \r",
      "Step #200.00 (1ms ~= 1000.00*RT, ~96000.00UPS, vehicles TOT 210 ACT 96 BUF 290)           \r",
      "Step #300.00 (0ms ?*RT. ?UPS, vehicles TOT 256 ACT 79 BUF 244)                            \r",
      "Step #400.00 (0ms ?*RT. ?UPS, vehicles TOT 319 ACT 84 BUF 181)                            \r",
      "Step #500.00 (0ms ?*RT. ?UPS, vehicles TOT 375 ACT 80 BUF 125)                            \r",
      "Step #600.00 (0ms ?*RT. ?UPS, vehicles TOT 429 ACT 68 BUF 71)                             \r",
      "Step #700.00 (0ms ?*RT. ?UPS, vehicles TOT 495 ACT 78 BUF 5)                              \r",
      "Step #800.00 (0ms ?*RT. ?UPS, vehicles TOT 500 ACT 21 BUF 0)                              \r",
      "Step #827.00 (0ms ?*RT. ?UPS, vehicles TOT 500 ACT 0 BUF 0)                               \r\n"
     ]
    },
    {
     "name": "stderr",
     "output_type": "stream",
     "text": [
      "Warning: Environment variable SUMO_HOME is not set properly, disabling XML validation. Set 'auto' or 'always' for web lookups.\n",
      " 50%|████████████████████▋                    | 252/500 [02:42<01:55,  2.14it/s]"
     ]
    },
    {
     "name": "stdout",
     "output_type": "stream",
     "text": [
      "Step #0.00 (0ms ?*RT. ?UPS, vehicles TOT 1 ACT 1 BUF 0)                                   \r",
      "Step #100.00 (1ms ~= 1000.00*RT, ~60000.00UPS, vehicles TOT 116 ACT 60 BUF 384)           \r",
      "Step #200.00 (1ms ~= 1000.00*RT, ~85000.00UPS, vehicles TOT 201 ACT 85 BUF 299)           \r",
      "Step #300.00 (0ms ?*RT. ?UPS, vehicles TOT 260 ACT 88 BUF 240)                            \r",
      "Step #400.00 (0ms ?*RT. ?UPS, vehicles TOT 312 ACT 76 BUF 188)                            \r",
      "Step #500.00 (0ms ?*RT. ?UPS, vehicles TOT 385 ACT 89 BUF 115)                            \r",
      "Step #600.00 (0ms ?*RT. ?UPS, vehicles TOT 449 ACT 100 BUF 51)                            \r",
      "Step #700.00 (0ms ?*RT. ?UPS, vehicles TOT 500 ACT 86 BUF 0)                              \r",
      "Step #800.00 (0ms ?*RT. ?UPS, vehicles TOT 500 ACT 24 BUF 0)                              \r",
      "Step #831.00 (0ms ?*RT. ?UPS, vehicles TOT 500 ACT 0 BUF 0)                               \r\n"
     ]
    },
    {
     "name": "stderr",
     "output_type": "stream",
     "text": [
      "Warning: Environment variable SUMO_HOME is not set properly, disabling XML validation. Set 'auto' or 'always' for web lookups.\n",
      " 51%|████████████████████▋                    | 253/500 [02:43<01:55,  2.14it/s]"
     ]
    },
    {
     "name": "stdout",
     "output_type": "stream",
     "text": [
      "Step #0.00 (0ms ?*RT. ?UPS, vehicles TOT 1 ACT 1 BUF 0)                                   \r",
      "Step #100.00 (0ms ?*RT. ?UPS, vehicles TOT 122 ACT 68 BUF 378)                            \r",
      "Step #200.00 (0ms ?*RT. ?UPS, vehicles TOT 185 ACT 75 BUF 315)                            \r",
      "Step #300.00 (0ms ?*RT. ?UPS, vehicles TOT 257 ACT 84 BUF 243)                            \r",
      "Step #400.00 (0ms ?*RT. ?UPS, vehicles TOT 325 ACT 100 BUF 175)                           \r",
      "Step #500.00 (1ms ~= 1000.00*RT, ~81000.00UPS, vehicles TOT 366 ACT 81 BUF 134)           \r",
      "Step #600.00 (1ms ~= 1000.00*RT, ~73000.00UPS, vehicles TOT 417 ACT 73 BUF 83)            \r",
      "Step #700.00 (0ms ?*RT. ?UPS, vehicles TOT 495 ACT 96 BUF 5)                              \r",
      "Step #800.00 (1ms ~= 1000.00*RT, ~45000.00UPS, vehicles TOT 500 ACT 45 BUF 0)             \r",
      "Step #863.00 (0ms ?*RT. ?UPS, vehicles TOT 500 ACT 0 BUF 0)                               \r\n"
     ]
    },
    {
     "name": "stderr",
     "output_type": "stream",
     "text": [
      "Warning: Environment variable SUMO_HOME is not set properly, disabling XML validation. Set 'auto' or 'always' for web lookups.\n",
      " 51%|████████████████████▊                    | 254/500 [02:43<01:55,  2.14it/s]"
     ]
    },
    {
     "name": "stdout",
     "output_type": "stream",
     "text": [
      "Step #0.00 (0ms ?*RT. ?UPS, vehicles TOT 1 ACT 1 BUF 0)                                   \r",
      "Step #100.00 (1ms ~= 1000.00*RT, ~70000.00UPS, vehicles TOT 125 ACT 70 BUF 375)           \r",
      "Step #200.00 (1ms ~= 1000.00*RT, ~90000.00UPS, vehicles TOT 202 ACT 90 BUF 298)           \r",
      "Step #300.00 (1ms ~= 1000.00*RT, ~79000.00UPS, vehicles TOT 254 ACT 79 BUF 246)           \r",
      "Step #400.00 (0ms ?*RT. ?UPS, vehicles TOT 321 ACT 89 BUF 179)                            \r",
      "Step #500.00 (1ms ~= 1000.00*RT, ~101000.00UPS, vehicles TOT 389 ACT 101 BUF 111)         \r",
      "Step #600.00 (0ms ?*RT. ?UPS, vehicles TOT 428 ACT 82 BUF 72)                             \r",
      "Step #700.00 (0ms ?*RT. ?UPS, vehicles TOT 481 ACT 81 BUF 19)                             \r",
      "Step #800.00 (0ms ?*RT. ?UPS, vehicles TOT 500 ACT 32 BUF 0)                              \r",
      "Step #844.00 (0ms ?*RT. ?UPS, vehicles TOT 500 ACT 0 BUF 0)                               \r\n"
     ]
    },
    {
     "name": "stderr",
     "output_type": "stream",
     "text": [
      "Warning: Environment variable SUMO_HOME is not set properly, disabling XML validation. Set 'auto' or 'always' for web lookups.\n",
      " 51%|████████████████████▉                    | 255/500 [02:44<02:01,  2.02it/s]"
     ]
    },
    {
     "name": "stdout",
     "output_type": "stream",
     "text": [
      "Step #0.00 (1ms ~= 1000.00*RT, ~1000.00UPS, vehicles TOT 1 ACT 1 BUF 0)                   \r",
      "Step #100.00 (1ms ~= 1000.00*RT, ~66000.00UPS, vehicles TOT 122 ACT 66 BUF 378)           \r",
      "Step #200.00 (1ms ~= 1000.00*RT, ~72000.00UPS, vehicles TOT 194 ACT 72 BUF 306)           \r",
      "Step #300.00 (1ms ~= 1000.00*RT, ~82000.00UPS, vehicles TOT 268 ACT 82 BUF 232)           \r",
      "Step #400.00 (0ms ?*RT. ?UPS, vehicles TOT 347 ACT 104 BUF 153)                           \r",
      "Step #500.00 (0ms ?*RT. ?UPS, vehicles TOT 401 ACT 99 BUF 99)                             \r",
      "Step #600.00 (1ms ~= 1000.00*RT, ~89000.00UPS, vehicles TOT 448 ACT 89 BUF 52)            \r",
      "Step #700.00 (0ms ?*RT. ?UPS, vehicles TOT 500 ACT 79 BUF 0)                              \r",
      "Step #800.00 (1ms ~= 1000.00*RT, ~17000.00UPS, vehicles TOT 500 ACT 17 BUF 0)             \r",
      "Step #822.00 (0ms ?*RT. ?UPS, vehicles TOT 500 ACT 0 BUF 0)                               \r\n"
     ]
    },
    {
     "name": "stderr",
     "output_type": "stream",
     "text": [
      "Warning: Environment variable SUMO_HOME is not set properly, disabling XML validation. Set 'auto' or 'always' for web lookups.\n",
      " 51%|████████████████████▉                    | 256/500 [02:44<02:21,  1.72it/s]"
     ]
    },
    {
     "name": "stdout",
     "output_type": "stream",
     "text": [
      "Step #0.00 (0ms ?*RT. ?UPS, vehicles TOT 1 ACT 1 BUF 0)                                   \r",
      "Step #100.00 (1ms ~= 1000.00*RT, ~68000.00UPS, vehicles TOT 124 ACT 68 BUF 376)           \r",
      "Step #200.00 (1ms ~= 1000.00*RT, ~91000.00UPS, vehicles TOT 204 ACT 91 BUF 296)           \r",
      "Step #300.00 (0ms ?*RT. ?UPS, vehicles TOT 250 ACT 76 BUF 250)                            \r",
      "Step #400.00 (1ms ~= 1000.00*RT, ~85000.00UPS, vehicles TOT 317 ACT 85 BUF 183)           \r",
      "Step #500.00 (0ms ?*RT. ?UPS, vehicles TOT 386 ACT 96 BUF 114)                            \r",
      "Step #600.00 (0ms ?*RT. ?UPS, vehicles TOT 432 ACT 82 BUF 68)                             \r",
      "Step #700.00 (1ms ~= 1000.00*RT, ~79000.00UPS, vehicles TOT 485 ACT 79 BUF 15)            \r",
      "Step #800.00 (0ms ?*RT. ?UPS, vehicles TOT 500 ACT 30 BUF 0)                              \r",
      "Step #841.00 (0ms ?*RT. ?UPS, vehicles TOT 500 ACT 0 BUF 0)                               \r\n"
     ]
    },
    {
     "name": "stderr",
     "output_type": "stream",
     "text": [
      "Warning: Environment variable SUMO_HOME is not set properly, disabling XML validation. Set 'auto' or 'always' for web lookups.\n",
      " 51%|█████████████████████                    | 257/500 [02:45<02:34,  1.58it/s]"
     ]
    },
    {
     "name": "stdout",
     "output_type": "stream",
     "text": [
      "Step #0.00 (0ms ?*RT. ?UPS, vehicles TOT 1 ACT 1 BUF 0)                                   \r",
      "Step #100.00 (2ms ~= 500.00*RT, ~32500.00UPS, vehicles TOT 120 ACT 65 BUF 380)            \r",
      "Step #200.00 (1ms ~= 1000.00*RT, ~101000.00UPS, vehicles TOT 208 ACT 101 BUF 292)         \r",
      "Step #300.00 (1ms ~= 1000.00*RT, ~74000.00UPS, vehicles TOT 246 ACT 74 BUF 254)           \r",
      "Step #400.00 (0ms ?*RT. ?UPS, vehicles TOT 312 ACT 78 BUF 188)                            \r",
      "Step #500.00 (0ms ?*RT. ?UPS, vehicles TOT 383 ACT 91 BUF 117)                            \r",
      "Step #600.00 (1ms ~= 1000.00*RT, ~72000.00UPS, vehicles TOT 431 ACT 72 BUF 69)            \r",
      "Step #700.00 (1ms ~= 1000.00*RT, ~85000.00UPS, vehicles TOT 500 ACT 85 BUF 0)             \r",
      "Step #800.00 (0ms ?*RT. ?UPS, vehicles TOT 500 ACT 24 BUF 0)                              \r",
      "Step #831.00 (0ms ?*RT. ?UPS, vehicles TOT 500 ACT 0 BUF 0)                               \r\n"
     ]
    },
    {
     "name": "stderr",
     "output_type": "stream",
     "text": [
      "Warning: Environment variable SUMO_HOME is not set properly, disabling XML validation. Set 'auto' or 'always' for web lookups.\n",
      " 52%|█████████████████████▏                   | 258/500 [02:46<02:48,  1.44it/s]"
     ]
    },
    {
     "name": "stdout",
     "output_type": "stream",
     "text": [
      "Step #0.00 (1ms ~= 1000.00*RT, ~1000.00UPS, vehicles TOT 1 ACT 1 BUF 0)                   \r",
      "Step #100.00 (1ms ~= 1000.00*RT, ~50000.00UPS, vehicles TOT 105 ACT 50 BUF 395)           \r",
      "Step #200.00 (1ms ~= 1000.00*RT, ~83000.00UPS, vehicles TOT 195 ACT 83 BUF 305)           \r",
      "Step #300.00 (1ms ~= 1000.00*RT, ~107000.00UPS, vehicles TOT 269 ACT 107 BUF 231)         \r",
      "Step #400.00 (1ms ~= 1000.00*RT, ~74000.00UPS, vehicles TOT 300 ACT 74 BUF 200)           \r",
      "Step #500.00 (1ms ~= 1000.00*RT, ~99000.00UPS, vehicles TOT 382 ACT 99 BUF 118)           \r",
      "Step #600.00 (1ms ~= 1000.00*RT, ~78000.00UPS, vehicles TOT 423 ACT 78 BUF 77)            \r",
      "Step #700.00 (1ms ~= 1000.00*RT, ~94000.00UPS, vehicles TOT 497 ACT 94 BUF 3)             \r",
      "Step #800.00 (0ms ?*RT. ?UPS, vehicles TOT 500 ACT 40 BUF 0)                              \r",
      "Step #857.00 (0ms ?*RT. ?UPS, vehicles TOT 500 ACT 0 BUF 0)                               \r\n"
     ]
    },
    {
     "name": "stderr",
     "output_type": "stream",
     "text": [
      "Warning: Environment variable SUMO_HOME is not set properly, disabling XML validation. Set 'auto' or 'always' for web lookups.\n",
      " 52%|█████████████████████▏                   | 259/500 [02:47<02:55,  1.37it/s]"
     ]
    },
    {
     "name": "stdout",
     "output_type": "stream",
     "text": [
      "Step #0.00 (0ms ?*RT. ?UPS, vehicles TOT 1 ACT 1 BUF 0)                                   \r",
      "Step #100.00 (1ms ~= 1000.00*RT, ~69000.00UPS, vehicles TOT 122 ACT 69 BUF 378)           \r",
      "Step #200.00 (1ms ~= 1000.00*RT, ~99000.00UPS, vehicles TOT 210 ACT 99 BUF 290)           \r",
      "Step #300.00 (1ms ~= 1000.00*RT, ~94000.00UPS, vehicles TOT 261 ACT 94 BUF 239)           \r",
      "Step #400.00 (1ms ~= 1000.00*RT, ~89000.00UPS, vehicles TOT 312 ACT 89 BUF 188)           \r",
      "Step #500.00 (1ms ~= 1000.00*RT, ~84000.00UPS, vehicles TOT 369 ACT 84 BUF 131)           \r",
      "Step #600.00 (0ms ?*RT. ?UPS, vehicles TOT 433 ACT 91 BUF 67)                             \r",
      "Step #700.00 (0ms ?*RT. ?UPS, vehicles TOT 479 ACT 77 BUF 21)                             \r",
      "Step #800.00 (1ms ~= 1000.00*RT, ~34000.00UPS, vehicles TOT 500 ACT 34 BUF 0)             \r",
      "Step #848.00 (0ms ?*RT. ?UPS, vehicles TOT 500 ACT 0 BUF 0)                               \r\n"
     ]
    },
    {
     "name": "stderr",
     "output_type": "stream",
     "text": [
      "Warning: Environment variable SUMO_HOME is not set properly, disabling XML validation. Set 'auto' or 'always' for web lookups.\n",
      " 52%|█████████████████████▎                   | 260/500 [02:48<03:01,  1.33it/s]"
     ]
    },
    {
     "name": "stdout",
     "output_type": "stream",
     "text": [
      "Step #0.00 (1ms ~= 1000.00*RT, ~1000.00UPS, vehicles TOT 1 ACT 1 BUF 0)                   \r",
      "Step #100.00 (2ms ~= 500.00*RT, ~35500.00UPS, vehicles TOT 124 ACT 71 BUF 376)            \r",
      "Step #200.00 (1ms ~= 1000.00*RT, ~85000.00UPS, vehicles TOT 196 ACT 85 BUF 304)           \r",
      "Step #300.00 (1ms ~= 1000.00*RT, ~82000.00UPS, vehicles TOT 255 ACT 82 BUF 245)           \r",
      "Step #400.00 (0ms ?*RT. ?UPS, vehicles TOT 295 ACT 73 BUF 205)                            \r",
      "Step #500.00 (1ms ~= 1000.00*RT, ~104000.00UPS, vehicles TOT 383 ACT 104 BUF 117)         \r",
      "Step #600.00 (1ms ~= 1000.00*RT, ~84000.00UPS, vehicles TOT 428 ACT 84 BUF 72)            \r",
      "Step #700.00 (1ms ~= 1000.00*RT, ~97000.00UPS, vehicles TOT 496 ACT 97 BUF 4)             \r",
      "Step #800.00 (1ms ~= 1000.00*RT, ~41000.00UPS, vehicles TOT 500 ACT 41 BUF 0)             \r",
      "Step #859.00 (0ms ?*RT. ?UPS, vehicles TOT 500 ACT 0 BUF 0)                               \r\n"
     ]
    },
    {
     "name": "stderr",
     "output_type": "stream",
     "text": [
      "Warning: Environment variable SUMO_HOME is not set properly, disabling XML validation. Set 'auto' or 'always' for web lookups.\n",
      " 52%|█████████████████████▍                   | 261/500 [02:48<03:03,  1.30it/s]"
     ]
    },
    {
     "name": "stdout",
     "output_type": "stream",
     "text": [
      "Step #0.00 (0ms ?*RT. ?UPS, vehicles TOT 1 ACT 1 BUF 0)                                   \r",
      "Step #100.00 (1ms ~= 1000.00*RT, ~71000.00UPS, vehicles TOT 124 ACT 71 BUF 376)           \r",
      "Step #200.00 (1ms ~= 1000.00*RT, ~76000.00UPS, vehicles TOT 189 ACT 76 BUF 311)           \r",
      "Step #300.00 (1ms ~= 1000.00*RT, ~66000.00UPS, vehicles TOT 237 ACT 66 BUF 263)           \r",
      "Step #400.00 (0ms ?*RT. ?UPS, vehicles TOT 308 ACT 80 BUF 192)                            \r",
      "Step #500.00 (1ms ~= 1000.00*RT, ~98000.00UPS, vehicles TOT 382 ACT 98 BUF 118)           \r",
      "Step #600.00 (1ms ~= 1000.00*RT, ~65000.00UPS, vehicles TOT 417 ACT 65 BUF 83)            \r",
      "Step #700.00 (1ms ~= 1000.00*RT, ~91000.00UPS, vehicles TOT 500 ACT 91 BUF 0)             \r",
      "Step #800.00 (1ms ~= 1000.00*RT, ~29000.00UPS, vehicles TOT 500 ACT 29 BUF 0)             \r",
      "Step #840.00 (0ms ?*RT. ?UPS, vehicles TOT 500 ACT 0 BUF 0)                               \r\n"
     ]
    },
    {
     "name": "stderr",
     "output_type": "stream",
     "text": [
      "Warning: Environment variable SUMO_HOME is not set properly, disabling XML validation. Set 'auto' or 'always' for web lookups.\n",
      " 52%|█████████████████████▍                   | 262/500 [02:49<02:38,  1.50it/s]"
     ]
    },
    {
     "name": "stdout",
     "output_type": "stream",
     "text": [
      "Step #0.00 (0ms ?*RT. ?UPS, vehicles TOT 1 ACT 1 BUF 0)                                   \r",
      "Step #100.00 (1ms ~= 1000.00*RT, ~69000.00UPS, vehicles TOT 126 ACT 69 BUF 374)           \r",
      "Step #200.00 (0ms ?*RT. ?UPS, vehicles TOT 187 ACT 70 BUF 313)                            \r",
      "Step #300.00 (0ms ?*RT. ?UPS, vehicles TOT 267 ACT 90 BUF 233)                            \r",
      "Step #400.00 (0ms ?*RT. ?UPS, vehicles TOT 313 ACT 72 BUF 187)                            \r",
      "Step #500.00 (0ms ?*RT. ?UPS, vehicles TOT 380 ACT 79 BUF 120)                            \r",
      "Step #600.00 (1ms ~= 1000.00*RT, ~80000.00UPS, vehicles TOT 445 ACT 80 BUF 55)            \r",
      "Step #700.00 (1ms ~= 1000.00*RT, ~75000.00UPS, vehicles TOT 500 ACT 75 BUF 0)             \r",
      "Step #800.00 (0ms ?*RT. ?UPS, vehicles TOT 500 ACT 9 BUF 0)                               \r",
      "Step #812.00 (0ms ?*RT. ?UPS, vehicles TOT 500 ACT 0 BUF 0)                               \r\n"
     ]
    },
    {
     "name": "stderr",
     "output_type": "stream",
     "text": [
      "Warning: Environment variable SUMO_HOME is not set properly, disabling XML validation. Set 'auto' or 'always' for web lookups.\n",
      " 53%|█████████████████████▌                   | 263/500 [02:49<02:21,  1.68it/s]"
     ]
    },
    {
     "name": "stdout",
     "output_type": "stream",
     "text": [
      "Step #0.00 (0ms ?*RT. ?UPS, vehicles TOT 1 ACT 1 BUF 0)                                   \r",
      "Step #100.00 (1ms ~= 1000.00*RT, ~65000.00UPS, vehicles TOT 120 ACT 65 BUF 380)           \r",
      "Step #200.00 (1ms ~= 1000.00*RT, ~90000.00UPS, vehicles TOT 202 ACT 90 BUF 298)           \r",
      "Step #300.00 (0ms ?*RT. ?UPS, vehicles TOT 246 ACT 75 BUF 254)                            \r",
      "Step #400.00 (0ms ?*RT. ?UPS, vehicles TOT 302 ACT 71 BUF 198)                            \r",
      "Step #500.00 (0ms ?*RT. ?UPS, vehicles TOT 367 ACT 76 BUF 133)                            \r",
      "Step #600.00 (1ms ~= 1000.00*RT, ~90000.00UPS, vehicles TOT 443 ACT 90 BUF 57)            \r",
      "Step #700.00 (0ms ?*RT. ?UPS, vehicles TOT 492 ACT 73 BUF 8)                              \r",
      "Step #800.00 (0ms ?*RT. ?UPS, vehicles TOT 500 ACT 20 BUF 0)                              \r",
      "Step #827.00 (0ms ?*RT. ?UPS, vehicles TOT 500 ACT 0 BUF 0)                               \r\n"
     ]
    },
    {
     "name": "stderr",
     "output_type": "stream",
     "text": [
      "Warning: Environment variable SUMO_HOME is not set properly, disabling XML validation. Set 'auto' or 'always' for web lookups.\n",
      " 53%|█████████████████████▋                   | 264/500 [02:50<02:08,  1.83it/s]"
     ]
    },
    {
     "name": "stdout",
     "output_type": "stream",
     "text": [
      "Step #0.00 (0ms ?*RT. ?UPS, vehicles TOT 1 ACT 1 BUF 0)                                   \r",
      "Step #100.00 (1ms ~= 1000.00*RT, ~66000.00UPS, vehicles TOT 119 ACT 66 BUF 381)           \r",
      "Step #200.00 (1ms ~= 1000.00*RT, ~81000.00UPS, vehicles TOT 196 ACT 81 BUF 304)           \r",
      "Step #300.00 (0ms ?*RT. ?UPS, vehicles TOT 256 ACT 77 BUF 244)                            \r",
      "Step #400.00 (1ms ~= 1000.00*RT, ~96000.00UPS, vehicles TOT 332 ACT 96 BUF 168)           \r",
      "Step #500.00 (0ms ?*RT. ?UPS, vehicles TOT 377 ACT 82 BUF 123)                            \r",
      "Step #600.00 (1ms ~= 1000.00*RT, ~74000.00UPS, vehicles TOT 428 ACT 74 BUF 72)            \r",
      "Step #700.00 (0ms ?*RT. ?UPS, vehicles TOT 482 ACT 75 BUF 18)                             \r",
      "Step #800.00 (0ms ?*RT. ?UPS, vehicles TOT 500 ACT 35 BUF 0)                              \r",
      "Step #847.00 (0ms ?*RT. ?UPS, vehicles TOT 500 ACT 0 BUF 0)                               \r\n"
     ]
    },
    {
     "name": "stderr",
     "output_type": "stream",
     "text": [
      "Warning: Environment variable SUMO_HOME is not set properly, disabling XML validation. Set 'auto' or 'always' for web lookups.\n",
      " 53%|█████████████████████▋                   | 265/500 [02:50<01:59,  1.96it/s]"
     ]
    },
    {
     "name": "stdout",
     "output_type": "stream",
     "text": [
      "Step #0.00 (0ms ?*RT. ?UPS, vehicles TOT 1 ACT 1 BUF 0)                                   \r",
      "Step #100.00 (1ms ~= 1000.00*RT, ~66000.00UPS, vehicles TOT 123 ACT 66 BUF 377)           \r",
      "Step #200.00 (1ms ~= 1000.00*RT, ~87000.00UPS, vehicles TOT 207 ACT 87 BUF 293)           \r",
      "Step #300.00 (0ms ?*RT. ?UPS, vehicles TOT 268 ACT 86 BUF 232)                            \r",
      "Step #400.00 (1ms ~= 1000.00*RT, ~82000.00UPS, vehicles TOT 322 ACT 82 BUF 178)           \r",
      "Step #500.00 (0ms ?*RT. ?UPS, vehicles TOT 379 ACT 75 BUF 121)                            \r",
      "Step #600.00 (1ms ~= 1000.00*RT, ~79000.00UPS, vehicles TOT 447 ACT 79 BUF 53)            \r",
      "Step #700.00 (1ms ~= 1000.00*RT, ~71000.00UPS, vehicles TOT 500 ACT 71 BUF 0)             \r",
      "Step #800.00 (0ms ?*RT. ?UPS, vehicles TOT 500 ACT 7 BUF 0)                               \r",
      "Step #810.00 (0ms ?*RT. ?UPS, vehicles TOT 500 ACT 0 BUF 0)                               \r\n"
     ]
    },
    {
     "name": "stderr",
     "output_type": "stream",
     "text": [
      "Warning: Environment variable SUMO_HOME is not set properly, disabling XML validation. Set 'auto' or 'always' for web lookups.\n",
      " 53%|█████████████████████▊                   | 266/500 [02:50<01:54,  2.05it/s]"
     ]
    },
    {
     "name": "stdout",
     "output_type": "stream",
     "text": [
      "Step #0.00 (0ms ?*RT. ?UPS, vehicles TOT 1 ACT 1 BUF 0)                                   \r",
      "Step #100.00 (0ms ?*RT. ?UPS, vehicles TOT 125 ACT 70 BUF 375)                            \r",
      "Step #200.00 (0ms ?*RT. ?UPS, vehicles TOT 201 ACT 89 BUF 299)                            \r",
      "Step #300.00 (0ms ?*RT. ?UPS, vehicles TOT 251 ACT 77 BUF 249)                            \r",
      "Step #400.00 (1ms ~= 1000.00*RT, ~84000.00UPS, vehicles TOT 312 ACT 84 BUF 188)           \r",
      "Step #500.00 (1ms ~= 1000.00*RT, ~96000.00UPS, vehicles TOT 382 ACT 96 BUF 118)           \r",
      "Step #600.00 (1ms ~= 1000.00*RT, ~72000.00UPS, vehicles TOT 415 ACT 72 BUF 85)            \r",
      "Step #700.00 (0ms ?*RT. ?UPS, vehicles TOT 491 ACT 82 BUF 9)                              \r",
      "Step #800.00 (0ms ?*RT. ?UPS, vehicles TOT 500 ACT 34 BUF 0)                              \r",
      "Step #847.00 (0ms ?*RT. ?UPS, vehicles TOT 500 ACT 0 BUF 0)                               \r\n"
     ]
    },
    {
     "name": "stderr",
     "output_type": "stream",
     "text": [
      "Warning: Environment variable SUMO_HOME is not set properly, disabling XML validation. Set 'auto' or 'always' for web lookups.\n",
      " 53%|█████████████████████▉                   | 267/500 [02:51<01:49,  2.12it/s]"
     ]
    },
    {
     "name": "stdout",
     "output_type": "stream",
     "text": [
      "Step #0.00 (0ms ?*RT. ?UPS, vehicles TOT 1 ACT 1 BUF 0)                                   \r",
      "Step #100.00 (1ms ~= 1000.00*RT, ~67000.00UPS, vehicles TOT 124 ACT 67 BUF 376)           \r",
      "Step #200.00 (1ms ~= 1000.00*RT, ~93000.00UPS, vehicles TOT 207 ACT 93 BUF 293)           \r",
      "Step #300.00 (0ms ?*RT. ?UPS, vehicles TOT 252 ACT 79 BUF 248)                            \r",
      "Step #400.00 (0ms ?*RT. ?UPS, vehicles TOT 315 ACT 84 BUF 185)                            \r",
      "Step #500.00 (0ms ?*RT. ?UPS, vehicles TOT 383 ACT 93 BUF 117)                            \r",
      "Step #600.00 (0ms ?*RT. ?UPS, vehicles TOT 419 ACT 71 BUF 81)                             \r",
      "Step #700.00 (1ms ~= 1000.00*RT, ~91000.00UPS, vehicles TOT 496 ACT 91 BUF 4)             \r",
      "Step #800.00 (1ms ~= 1000.00*RT, ~39000.00UPS, vehicles TOT 500 ACT 39 BUF 0)             \r",
      "Step #855.00 (0ms ?*RT. ?UPS, vehicles TOT 500 ACT 0 BUF 0)                               \r\n"
     ]
    },
    {
     "name": "stderr",
     "output_type": "stream",
     "text": [
      "Warning: Environment variable SUMO_HOME is not set properly, disabling XML validation. Set 'auto' or 'always' for web lookups.\n",
      " 54%|█████████████████████▉                   | 268/500 [02:51<01:47,  2.16it/s]"
     ]
    },
    {
     "name": "stdout",
     "output_type": "stream",
     "text": [
      "Step #0.00 (0ms ?*RT. ?UPS, vehicles TOT 1 ACT 1 BUF 0)                                   \r",
      "Step #100.00 (1ms ~= 1000.00*RT, ~63000.00UPS, vehicles TOT 114 ACT 63 BUF 386)           \r",
      "Step #200.00 (1ms ~= 1000.00*RT, ~86000.00UPS, vehicles TOT 198 ACT 86 BUF 302)           \r",
      "Step #300.00 (0ms ?*RT. ?UPS, vehicles TOT 260 ACT 92 BUF 240)                            \r",
      "Step #400.00 (1ms ~= 1000.00*RT, ~78000.00UPS, vehicles TOT 307 ACT 78 BUF 193)           \r",
      "Step #500.00 (0ms ?*RT. ?UPS, vehicles TOT 378 ACT 92 BUF 122)                            \r",
      "Step #600.00 (1ms ~= 1000.00*RT, ~96000.00UPS, vehicles TOT 442 ACT 96 BUF 58)            \r",
      "Step #700.00 (1ms ~= 1000.00*RT, ~82000.00UPS, vehicles TOT 484 ACT 82 BUF 16)            \r",
      "Step #800.00 (0ms ?*RT. ?UPS, vehicles TOT 500 ACT 39 BUF 0)                              \r",
      "Step #860.00 (0ms ?*RT. ?UPS, vehicles TOT 500 ACT 0 BUF 0)                               \r\n"
     ]
    },
    {
     "name": "stderr",
     "output_type": "stream",
     "text": [
      "Warning: Environment variable SUMO_HOME is not set properly, disabling XML validation. Set 'auto' or 'always' for web lookups.\n",
      " 54%|██████████████████████                   | 269/500 [02:52<01:45,  2.19it/s]"
     ]
    },
    {
     "name": "stdout",
     "output_type": "stream",
     "text": [
      "Step #0.00 (0ms ?*RT. ?UPS, vehicles TOT 1 ACT 1 BUF 0)                                   \r",
      "Step #100.00 (1ms ~= 1000.00*RT, ~66000.00UPS, vehicles TOT 123 ACT 66 BUF 377)           \r",
      "Step #200.00 (0ms ?*RT. ?UPS, vehicles TOT 204 ACT 86 BUF 296)                            \r",
      "Step #300.00 (0ms ?*RT. ?UPS, vehicles TOT 271 ACT 95 BUF 229)                            \r",
      "Step #400.00 (1ms ~= 1000.00*RT, ~81000.00UPS, vehicles TOT 318 ACT 81 BUF 182)           \r",
      "Step #500.00 (0ms ?*RT. ?UPS, vehicles TOT 383 ACT 87 BUF 117)                            \r",
      "Step #600.00 (1ms ~= 1000.00*RT, ~97000.00UPS, vehicles TOT 452 ACT 97 BUF 48)            \r",
      "Step #700.00 (1ms ~= 1000.00*RT, ~84000.00UPS, vehicles TOT 498 ACT 84 BUF 2)             \r",
      "Step #800.00 (1ms ~= 1000.00*RT, ~25000.00UPS, vehicles TOT 500 ACT 25 BUF 0)             \r",
      "Step #833.00 (0ms ?*RT. ?UPS, vehicles TOT 500 ACT 0 BUF 0)                               \r\n"
     ]
    },
    {
     "name": "stderr",
     "output_type": "stream",
     "text": [
      "Warning: Environment variable SUMO_HOME is not set properly, disabling XML validation. Set 'auto' or 'always' for web lookups.\n",
      " 54%|██████████████████████▏                  | 270/500 [02:52<01:43,  2.23it/s]"
     ]
    },
    {
     "name": "stdout",
     "output_type": "stream",
     "text": [
      "Step #0.00 (0ms ?*RT. ?UPS, vehicles TOT 1 ACT 1 BUF 0)                                   \r",
      "Step #100.00 (0ms ?*RT. ?UPS, vehicles TOT 112 ACT 60 BUF 388)                            \r",
      "Step #200.00 (1ms ~= 1000.00*RT, ~94000.00UPS, vehicles TOT 200 ACT 94 BUF 300)           \r",
      "Step #300.00 (0ms ?*RT. ?UPS, vehicles TOT 246 ACT 80 BUF 254)                            \r",
      "Step #400.00 (0ms ?*RT. ?UPS, vehicles TOT 308 ACT 76 BUF 192)                            \r",
      "Step #500.00 (0ms ?*RT. ?UPS, vehicles TOT 365 ACT 73 BUF 135)                            \r",
      "Step #600.00 (0ms ?*RT. ?UPS, vehicles TOT 442 ACT 91 BUF 58)                             \r",
      "Step #700.00 (1ms ~= 1000.00*RT, ~89000.00UPS, vehicles TOT 500 ACT 89 BUF 0)             \r",
      "Step #800.00 (1ms ~= 1000.00*RT, ~25000.00UPS, vehicles TOT 500 ACT 25 BUF 0)             \r",
      "Step #833.00 (0ms ?*RT. ?UPS, vehicles TOT 500 ACT 0 BUF 0)                               \r\n"
     ]
    },
    {
     "name": "stderr",
     "output_type": "stream",
     "text": [
      "Warning: Environment variable SUMO_HOME is not set properly, disabling XML validation. Set 'auto' or 'always' for web lookups.\n",
      " 54%|██████████████████████▏                  | 271/500 [02:53<01:42,  2.24it/s]"
     ]
    },
    {
     "name": "stdout",
     "output_type": "stream",
     "text": [
      "Step #0.00 (0ms ?*RT. ?UPS, vehicles TOT 1 ACT 1 BUF 0)                                   \r",
      "Step #100.00 (0ms ?*RT. ?UPS, vehicles TOT 121 ACT 68 BUF 379)                            \r",
      "Step #200.00 (0ms ?*RT. ?UPS, vehicles TOT 194 ACT 83 BUF 306)                            \r",
      "Step #300.00 (1ms ~= 1000.00*RT, ~77000.00UPS, vehicles TOT 251 ACT 77 BUF 249)           \r",
      "Step #400.00 (0ms ?*RT. ?UPS, vehicles TOT 327 ACT 99 BUF 173)                            \r",
      "Step #500.00 (0ms ?*RT. ?UPS, vehicles TOT 388 ACT 98 BUF 112)                            \r",
      "Step #600.00 (0ms ?*RT. ?UPS, vehicles TOT 413 ACT 68 BUF 87)                             \r",
      "Step #700.00 (0ms ?*RT. ?UPS, vehicles TOT 488 ACT 82 BUF 12)                             \r",
      "Step #800.00 (0ms ?*RT. ?UPS, vehicles TOT 500 ACT 33 BUF 0)                              \r",
      "Step #849.00 (0ms ?*RT. ?UPS, vehicles TOT 500 ACT 0 BUF 0)                               \r\n"
     ]
    },
    {
     "name": "stderr",
     "output_type": "stream",
     "text": [
      "Warning: Environment variable SUMO_HOME is not set properly, disabling XML validation. Set 'auto' or 'always' for web lookups.\n",
      " 54%|██████████████████████▎                  | 272/500 [02:53<01:41,  2.25it/s]"
     ]
    },
    {
     "name": "stdout",
     "output_type": "stream",
     "text": [
      "Step #0.00 (0ms ?*RT. ?UPS, vehicles TOT 1 ACT 1 BUF 0)                                   \r",
      "Step #100.00 (1ms ~= 1000.00*RT, ~69000.00UPS, vehicles TOT 119 ACT 69 BUF 381)           \r",
      "Step #200.00 (0ms ?*RT. ?UPS, vehicles TOT 204 ACT 96 BUF 296)                            \r",
      "Step #300.00 (1ms ~= 1000.00*RT, ~76000.00UPS, vehicles TOT 247 ACT 76 BUF 253)           \r",
      "Step #400.00 (1ms ~= 1000.00*RT, ~89000.00UPS, vehicles TOT 316 ACT 89 BUF 184)           \r",
      "Step #500.00 (0ms ?*RT. ?UPS, vehicles TOT 367 ACT 77 BUF 133)                            \r",
      "Step #600.00 (1ms ~= 1000.00*RT, ~84000.00UPS, vehicles TOT 436 ACT 84 BUF 64)            \r",
      "Step #700.00 (1ms ~= 1000.00*RT, ~88000.00UPS, vehicles TOT 500 ACT 88 BUF 0)             \r",
      "Step #800.00 (0ms ?*RT. ?UPS, vehicles TOT 500 ACT 29 BUF 0)                              \r",
      "Step #838.00 (0ms ?*RT. ?UPS, vehicles TOT 500 ACT 0 BUF 0)                               \r\n"
     ]
    },
    {
     "name": "stderr",
     "output_type": "stream",
     "text": [
      "Warning: Environment variable SUMO_HOME is not set properly, disabling XML validation. Set 'auto' or 'always' for web lookups.\n",
      " 55%|██████████████████████▍                  | 273/500 [02:54<01:49,  2.07it/s]"
     ]
    },
    {
     "name": "stdout",
     "output_type": "stream",
     "text": [
      "Step #0.00 (0ms ?*RT. ?UPS, vehicles TOT 1 ACT 1 BUF 0)                                   \r",
      "Step #100.00 (1ms ~= 1000.00*RT, ~63000.00UPS, vehicles TOT 116 ACT 63 BUF 384)           \r",
      "Step #200.00 (1ms ~= 1000.00*RT, ~90000.00UPS, vehicles TOT 201 ACT 90 BUF 299)           \r",
      "Step #300.00 (1ms ~= 1000.00*RT, ~71000.00UPS, vehicles TOT 249 ACT 71 BUF 251)           \r",
      "Step #400.00 (1ms ~= 1000.00*RT, ~71000.00UPS, vehicles TOT 314 ACT 71 BUF 186)           \r",
      "Step #500.00 (1ms ~= 1000.00*RT, ~91000.00UPS, vehicles TOT 391 ACT 91 BUF 109)           \r",
      "Step #600.00 (1ms ~= 1000.00*RT, ~88000.00UPS, vehicles TOT 451 ACT 88 BUF 49)            \r",
      "Step #700.00 (1ms ~= 1000.00*RT, ~71000.00UPS, vehicles TOT 498 ACT 71 BUF 2)             \r",
      "Step #800.00 (0ms ?*RT. ?UPS, vehicles TOT 500 ACT 7 BUF 0)                               \r",
      "Step #809.00 (0ms ?*RT. ?UPS, vehicles TOT 500 ACT 0 BUF 0)                               \r\n"
     ]
    },
    {
     "name": "stderr",
     "output_type": "stream",
     "text": [
      "Warning: Environment variable SUMO_HOME is not set properly, disabling XML validation. Set 'auto' or 'always' for web lookups.\n",
      " 55%|██████████████████████▍                  | 274/500 [02:54<02:09,  1.74it/s]"
     ]
    },
    {
     "name": "stdout",
     "output_type": "stream",
     "text": [
      "Step #0.00 (0ms ?*RT. ?UPS, vehicles TOT 1 ACT 1 BUF 0)                                   \r",
      "Step #100.00 (1ms ~= 1000.00*RT, ~70000.00UPS, vehicles TOT 124 ACT 70 BUF 376)           \r",
      "Step #200.00 (1ms ~= 1000.00*RT, ~92000.00UPS, vehicles TOT 203 ACT 92 BUF 297)           \r",
      "Step #300.00 (0ms ?*RT. ?UPS, vehicles TOT 259 ACT 83 BUF 241)                            \r",
      "Step #400.00 (1ms ~= 1000.00*RT, ~97000.00UPS, vehicles TOT 332 ACT 97 BUF 168)           \r",
      "Step #500.00 (0ms ?*RT. ?UPS, vehicles TOT 377 ACT 84 BUF 123)                            \r",
      "Step #600.00 (0ms ?*RT. ?UPS, vehicles TOT 425 ACT 72 BUF 75)                             \r",
      "Step #700.00 (1ms ~= 1000.00*RT, ~85000.00UPS, vehicles TOT 499 ACT 85 BUF 1)             \r",
      "Step #800.00 (0ms ?*RT. ?UPS, vehicles TOT 500 ACT 31 BUF 0)                              \r",
      "Step #842.00 (0ms ?*RT. ?UPS, vehicles TOT 500 ACT 0 BUF 0)                               \r\n"
     ]
    },
    {
     "name": "stderr",
     "output_type": "stream",
     "text": [
      "Warning: Environment variable SUMO_HOME is not set properly, disabling XML validation. Set 'auto' or 'always' for web lookups.\n",
      " 55%|██████████████████████▌                  | 275/500 [02:55<02:20,  1.60it/s]"
     ]
    },
    {
     "name": "stdout",
     "output_type": "stream",
     "text": [
      "Step #0.00 (0ms ?*RT. ?UPS, vehicles TOT 1 ACT 1 BUF 0)                                   \r",
      "Step #100.00 (1ms ~= 1000.00*RT, ~66000.00UPS, vehicles TOT 120 ACT 66 BUF 380)           \r",
      "Step #200.00 (0ms ?*RT. ?UPS, vehicles TOT 186 ACT 76 BUF 314)                            \r",
      "Step #300.00 (1ms ~= 1000.00*RT, ~86000.00UPS, vehicles TOT 256 ACT 86 BUF 244)           \r",
      "Step #400.00 (1ms ~= 1000.00*RT, ~92000.00UPS, vehicles TOT 323 ACT 92 BUF 177)           \r",
      "Step #500.00 (1ms ~= 1000.00*RT, ~76000.00UPS, vehicles TOT 371 ACT 76 BUF 129)           \r",
      "Step #600.00 (1ms ~= 1000.00*RT, ~79000.00UPS, vehicles TOT 437 ACT 79 BUF 63)            \r",
      "Step #700.00 (1ms ~= 1000.00*RT, ~74000.00UPS, vehicles TOT 490 ACT 74 BUF 10)            \r",
      "Step #800.00 (0ms ?*RT. ?UPS, vehicles TOT 500 ACT 22 BUF 0)                              \r",
      "Step #829.00 (0ms ?*RT. ?UPS, vehicles TOT 500 ACT 0 BUF 0)                               \r\n"
     ]
    },
    {
     "name": "stderr",
     "output_type": "stream",
     "text": [
      "Warning: Environment variable SUMO_HOME is not set properly, disabling XML validation. Set 'auto' or 'always' for web lookups.\n",
      " 55%|██████████████████████▋                  | 276/500 [02:56<02:28,  1.50it/s]"
     ]
    },
    {
     "name": "stdout",
     "output_type": "stream",
     "text": [
      "Step #0.00 (0ms ?*RT. ?UPS, vehicles TOT 1 ACT 1 BUF 0)                                   \r",
      "Step #100.00 (1ms ~= 1000.00*RT, ~65000.00UPS, vehicles TOT 120 ACT 65 BUF 380)           \r",
      "Step #200.00 (1ms ~= 1000.00*RT, ~78000.00UPS, vehicles TOT 191 ACT 78 BUF 309)           \r",
      "Step #300.00 (1ms ~= 1000.00*RT, ~66000.00UPS, vehicles TOT 243 ACT 66 BUF 257)           \r",
      "Step #400.00 (1ms ~= 1000.00*RT, ~78000.00UPS, vehicles TOT 319 ACT 78 BUF 181)           \r",
      "Step #500.00 (1ms ~= 1000.00*RT, ~90000.00UPS, vehicles TOT 389 ACT 90 BUF 111)           \r",
      "Step #600.00 (1ms ~= 1000.00*RT, ~84000.00UPS, vehicles TOT 444 ACT 84 BUF 56)            \r",
      "Step #700.00 (0ms ?*RT. ?UPS, vehicles TOT 500 ACT 83 BUF 0)                              \r",
      "Step #800.00 (0ms ?*RT. ?UPS, vehicles TOT 500 ACT 24 BUF 0)                              \r",
      "Step #832.00 (0ms ?*RT. ?UPS, vehicles TOT 500 ACT 0 BUF 0)                               \r\n"
     ]
    },
    {
     "name": "stderr",
     "output_type": "stream",
     "text": [
      "Warning: Environment variable SUMO_HOME is not set properly, disabling XML validation. Set 'auto' or 'always' for web lookups.\n",
      " 55%|██████████████████████▋                  | 277/500 [02:57<02:35,  1.43it/s]"
     ]
    },
    {
     "name": "stdout",
     "output_type": "stream",
     "text": [
      "Step #0.00 (1ms ~= 1000.00*RT, ~1000.00UPS, vehicles TOT 1 ACT 1 BUF 0)                   \r",
      "Step #100.00 (1ms ~= 1000.00*RT, ~68000.00UPS, vehicles TOT 122 ACT 68 BUF 378)           \r",
      "Step #200.00 (1ms ~= 1000.00*RT, ~83000.00UPS, vehicles TOT 197 ACT 83 BUF 303)           \r",
      "Step #300.00 (0ms ?*RT. ?UPS, vehicles TOT 245 ACT 70 BUF 255)                            \r",
      "Step #400.00 (1ms ~= 1000.00*RT, ~90000.00UPS, vehicles TOT 320 ACT 90 BUF 180)           \r",
      "Step #500.00 (1ms ~= 1000.00*RT, ~73000.00UPS, vehicles TOT 367 ACT 73 BUF 133)           \r",
      "Step #600.00 (1ms ~= 1000.00*RT, ~86000.00UPS, vehicles TOT 440 ACT 86 BUF 60)            \r",
      "Step #700.00 (1ms ~= 1000.00*RT, ~87000.00UPS, vehicles TOT 500 ACT 87 BUF 0)             \r",
      "Step #800.00 (0ms ?*RT. ?UPS, vehicles TOT 500 ACT 28 BUF 0)                              \r",
      "Step #837.00 (0ms ?*RT. ?UPS, vehicles TOT 500 ACT 0 BUF 0)                               \r\n"
     ]
    },
    {
     "name": "stderr",
     "output_type": "stream",
     "text": [
      "Warning: Environment variable SUMO_HOME is not set properly, disabling XML validation. Set 'auto' or 'always' for web lookups.\n",
      " 56%|██████████████████████▊                  | 278/500 [02:58<02:39,  1.39it/s]"
     ]
    },
    {
     "name": "stdout",
     "output_type": "stream",
     "text": [
      "Step #0.00 (0ms ?*RT. ?UPS, vehicles TOT 1 ACT 1 BUF 0)                                   \r",
      "Step #100.00 (1ms ~= 1000.00*RT, ~71000.00UPS, vehicles TOT 122 ACT 71 BUF 378)           \r",
      "Step #200.00 (1ms ~= 1000.00*RT, ~94000.00UPS, vehicles TOT 204 ACT 94 BUF 296)           \r",
      "Step #300.00 (1ms ~= 1000.00*RT, ~78000.00UPS, vehicles TOT 247 ACT 78 BUF 253)           \r",
      "Step #400.00 (1ms ~= 1000.00*RT, ~88000.00UPS, vehicles TOT 315 ACT 88 BUF 185)           \r",
      "Step #500.00 (1ms ~= 1000.00*RT, ~97000.00UPS, vehicles TOT 381 ACT 97 BUF 119)           \r",
      "Step #600.00 (0ms ?*RT. ?UPS, vehicles TOT 410 ACT 60 BUF 90)                             \r",
      "Step #700.00 (1ms ~= 1000.00*RT, ~77000.00UPS, vehicles TOT 487 ACT 77 BUF 13)            \r",
      "Step #800.00 (0ms ?*RT. ?UPS, vehicles TOT 500 ACT 32 BUF 0)                              \r",
      "Step #844.00 (1ms ~= 1000.00*RT, ~0.00UPS, vehicles TOT 500 ACT 0 BUF 0)                  \r\n"
     ]
    },
    {
     "name": "stderr",
     "output_type": "stream",
     "text": [
      "Warning: Environment variable SUMO_HOME is not set properly, disabling XML validation. Set 'auto' or 'always' for web lookups.\n",
      " 56%|██████████████████████▉                  | 279/500 [02:58<02:40,  1.38it/s]"
     ]
    },
    {
     "name": "stdout",
     "output_type": "stream",
     "text": [
      "Step #0.00 (0ms ?*RT. ?UPS, vehicles TOT 1 ACT 1 BUF 0)                                   \r",
      "Step #100.00 (1ms ~= 1000.00*RT, ~65000.00UPS, vehicles TOT 119 ACT 65 BUF 381)           \r",
      "Step #200.00 (1ms ~= 1000.00*RT, ~83000.00UPS, vehicles TOT 195 ACT 83 BUF 305)           \r",
      "Step #300.00 (1ms ~= 1000.00*RT, ~84000.00UPS, vehicles TOT 261 ACT 84 BUF 239)           \r",
      "Step #400.00 (1ms ~= 1000.00*RT, ~83000.00UPS, vehicles TOT 325 ACT 83 BUF 175)           \r",
      "Step #500.00 (1ms ~= 1000.00*RT, ~75000.00UPS, vehicles TOT 376 ACT 75 BUF 124)           \r",
      "Step #600.00 (1ms ~= 1000.00*RT, ~77000.00UPS, vehicles TOT 433 ACT 77 BUF 67)            \r",
      "Step #700.00 (0ms ?*RT. ?UPS, vehicles TOT 500 ACT 85 BUF 0)                              \r",
      "Step #800.00 (0ms ?*RT. ?UPS, vehicles TOT 500 ACT 19 BUF 0)                              \r",
      "Step #825.00 (0ms ?*RT. ?UPS, vehicles TOT 500 ACT 0 BUF 0)                               \r\n"
     ]
    },
    {
     "name": "stderr",
     "output_type": "stream",
     "text": [
      "Warning: Environment variable SUMO_HOME is not set properly, disabling XML validation. Set 'auto' or 'always' for web lookups.\n",
      " 56%|██████████████████████▉                  | 280/500 [02:59<02:23,  1.54it/s]"
     ]
    },
    {
     "name": "stdout",
     "output_type": "stream",
     "text": [
      "Step #0.00 (0ms ?*RT. ?UPS, vehicles TOT 1 ACT 1 BUF 0)                                   \r",
      "Step #100.00 (1ms ~= 1000.00*RT, ~68000.00UPS, vehicles TOT 123 ACT 68 BUF 377)           \r",
      "Step #200.00 (0ms ?*RT. ?UPS, vehicles TOT 192 ACT 78 BUF 308)                            \r",
      "Step #300.00 (0ms ?*RT. ?UPS, vehicles TOT 250 ACT 78 BUF 250)                            \r",
      "Step #400.00 (1ms ~= 1000.00*RT, ~60000.00UPS, vehicles TOT 293 ACT 60 BUF 207)           \r",
      "Step #500.00 (1ms ~= 1000.00*RT, ~73000.00UPS, vehicles TOT 372 ACT 73 BUF 128)           \r",
      "Step #600.00 (1ms ~= 1000.00*RT, ~82000.00UPS, vehicles TOT 439 ACT 82 BUF 61)            \r",
      "Step #700.00 (1ms ~= 1000.00*RT, ~84000.00UPS, vehicles TOT 500 ACT 84 BUF 0)             \r",
      "Step #800.00 (0ms ?*RT. ?UPS, vehicles TOT 500 ACT 27 BUF 0)                              \r",
      "Step #836.00 (0ms ?*RT. ?UPS, vehicles TOT 500 ACT 0 BUF 0)                               \r\n"
     ]
    },
    {
     "name": "stderr",
     "output_type": "stream",
     "text": [
      "Warning: Environment variable SUMO_HOME is not set properly, disabling XML validation. Set 'auto' or 'always' for web lookups.\n",
      " 56%|███████████████████████                  | 281/500 [02:59<02:10,  1.68it/s]"
     ]
    },
    {
     "name": "stdout",
     "output_type": "stream",
     "text": [
      "Step #0.00 (0ms ?*RT. ?UPS, vehicles TOT 1 ACT 1 BUF 0)                                   \r",
      "Step #100.00 (1ms ~= 1000.00*RT, ~68000.00UPS, vehicles TOT 122 ACT 68 BUF 378)           \r",
      "Step #200.00 (1ms ~= 1000.00*RT, ~98000.00UPS, vehicles TOT 207 ACT 98 BUF 293)           \r",
      "Step #300.00 (1ms ~= 1000.00*RT, ~78000.00UPS, vehicles TOT 242 ACT 78 BUF 258)           \r",
      "Step #400.00 (1ms ~= 1000.00*RT, ~92000.00UPS, vehicles TOT 318 ACT 92 BUF 182)           \r",
      "Step #500.00 (0ms ?*RT. ?UPS, vehicles TOT 368 ACT 79 BUF 132)                            \r",
      "Step #600.00 (1ms ~= 1000.00*RT, ~82000.00UPS, vehicles TOT 437 ACT 82 BUF 63)            \r",
      "Step #700.00 (1ms ~= 1000.00*RT, ~84000.00UPS, vehicles TOT 497 ACT 84 BUF 3)             \r",
      "Step #800.00 (0ms ?*RT. ?UPS, vehicles TOT 500 ACT 29 BUF 0)                              \r",
      "Step #841.00 (0ms ?*RT. ?UPS, vehicles TOT 500 ACT 0 BUF 0)                               \r\n"
     ]
    },
    {
     "name": "stderr",
     "output_type": "stream",
     "text": [
      "Warning: Environment variable SUMO_HOME is not set properly, disabling XML validation. Set 'auto' or 'always' for web lookups.\n",
      " 56%|███████████████████████                  | 282/500 [03:00<01:59,  1.83it/s]"
     ]
    },
    {
     "name": "stdout",
     "output_type": "stream",
     "text": [
      "Step #0.00 (0ms ?*RT. ?UPS, vehicles TOT 1 ACT 1 BUF 0)                                   \r",
      "Step #100.00 (1ms ~= 1000.00*RT, ~64000.00UPS, vehicles TOT 117 ACT 64 BUF 383)           \r",
      "Step #200.00 (0ms ?*RT. ?UPS, vehicles TOT 188 ACT 75 BUF 312)                            \r",
      "Step #300.00 (0ms ?*RT. ?UPS, vehicles TOT 245 ACT 73 BUF 255)                            \r",
      "Step #400.00 (0ms ?*RT. ?UPS, vehicles TOT 302 ACT 72 BUF 198)                            \r",
      "Step #500.00 (0ms ?*RT. ?UPS, vehicles TOT 376 ACT 86 BUF 124)                            \r",
      "Step #600.00 (1ms ~= 1000.00*RT, ~84000.00UPS, vehicles TOT 435 ACT 84 BUF 65)            \r",
      "Step #700.00 (1ms ~= 1000.00*RT, ~77000.00UPS, vehicles TOT 485 ACT 77 BUF 15)            \r",
      "Step #800.00 (0ms ?*RT. ?UPS, vehicles TOT 500 ACT 27 BUF 0)                              \r",
      "Step #837.00 (0ms ?*RT. ?UPS, vehicles TOT 500 ACT 0 BUF 0)                               \r\n"
     ]
    },
    {
     "name": "stderr",
     "output_type": "stream",
     "text": [
      "Warning: Environment variable SUMO_HOME is not set properly, disabling XML validation. Set 'auto' or 'always' for web lookups.\n",
      " 57%|███████████████████████▏                 | 283/500 [03:00<01:51,  1.94it/s]"
     ]
    },
    {
     "name": "stdout",
     "output_type": "stream",
     "text": [
      "Step #0.00 (0ms ?*RT. ?UPS, vehicles TOT 1 ACT 1 BUF 0)                                   \r",
      "Step #100.00 (1ms ~= 1000.00*RT, ~72000.00UPS, vehicles TOT 123 ACT 72 BUF 377)           \r",
      "Step #200.00 (0ms ?*RT. ?UPS, vehicles TOT 187 ACT 79 BUF 313)                            \r",
      "Step #300.00 (1ms ~= 1000.00*RT, ~74000.00UPS, vehicles TOT 247 ACT 74 BUF 253)           \r",
      "Step #400.00 (1ms ~= 1000.00*RT, ~87000.00UPS, vehicles TOT 319 ACT 87 BUF 181)           \r",
      "Step #500.00 (0ms ?*RT. ?UPS, vehicles TOT 361 ACT 71 BUF 139)                            \r",
      "Step #600.00 (1ms ~= 1000.00*RT, ~67000.00UPS, vehicles TOT 418 ACT 67 BUF 82)            \r",
      "Step #700.00 (0ms ?*RT. ?UPS, vehicles TOT 500 ACT 93 BUF 0)                              \r",
      "Step #800.00 (0ms ?*RT. ?UPS, vehicles TOT 500 ACT 34 BUF 0)                              \r",
      "Step #848.00 (0ms ?*RT. ?UPS, vehicles TOT 500 ACT 0 BUF 0)                               \r\n"
     ]
    },
    {
     "name": "stderr",
     "output_type": "stream",
     "text": [
      "Warning: Environment variable SUMO_HOME is not set properly, disabling XML validation. Set 'auto' or 'always' for web lookups.\n",
      " 57%|███████████████████████▎                 | 284/500 [03:01<01:46,  2.02it/s]"
     ]
    },
    {
     "name": "stdout",
     "output_type": "stream",
     "text": [
      "Step #0.00 (1ms ~= 1000.00*RT, ~1000.00UPS, vehicles TOT 1 ACT 1 BUF 0)                   \r",
      "Step #100.00 (0ms ?*RT. ?UPS, vehicles TOT 123 ACT 71 BUF 377)                            \r",
      "Step #200.00 (1ms ~= 1000.00*RT, ~89000.00UPS, vehicles TOT 197 ACT 89 BUF 303)           \r",
      "Step #300.00 (1ms ~= 1000.00*RT, ~76000.00UPS, vehicles TOT 242 ACT 76 BUF 258)           \r",
      "Step #400.00 (1ms ~= 1000.00*RT, ~87000.00UPS, vehicles TOT 308 ACT 87 BUF 192)           \r",
      "Step #500.00 (0ms ?*RT. ?UPS, vehicles TOT 381 ACT 104 BUF 119)                           \r",
      "Step #600.00 (0ms ?*RT. ?UPS, vehicles TOT 412 ACT 79 BUF 88)                             \r",
      "Step #700.00 (1ms ~= 1000.00*RT, ~65000.00UPS, vehicles TOT 460 ACT 65 BUF 40)            \r",
      "Step #800.00 (0ms ?*RT. ?UPS, vehicles TOT 500 ACT 43 BUF 0)                              \r",
      "Step #859.00 (0ms ?*RT. ?UPS, vehicles TOT 500 ACT 0 BUF 0)                               \r\n"
     ]
    },
    {
     "name": "stderr",
     "output_type": "stream",
     "text": [
      "Warning: Environment variable SUMO_HOME is not set properly, disabling XML validation. Set 'auto' or 'always' for web lookups.\n",
      " 57%|███████████████████████▎                 | 285/500 [03:01<01:41,  2.12it/s]"
     ]
    },
    {
     "name": "stdout",
     "output_type": "stream",
     "text": [
      "Step #0.00 (0ms ?*RT. ?UPS, vehicles TOT 1 ACT 1 BUF 0)                                   \r",
      "Step #100.00 (0ms ?*RT. ?UPS, vehicles TOT 123 ACT 70 BUF 377)                            \r",
      "Step #200.00 (0ms ?*RT. ?UPS, vehicles TOT 187 ACT 73 BUF 313)                            \r",
      "Step #300.00 (1ms ~= 1000.00*RT, ~78000.00UPS, vehicles TOT 254 ACT 78 BUF 246)           \r",
      "Step #400.00 (1ms ~= 1000.00*RT, ~85000.00UPS, vehicles TOT 319 ACT 85 BUF 181)           \r",
      "Step #500.00 (0ms ?*RT. ?UPS, vehicles TOT 363 ACT 65 BUF 137)                            \r",
      "Step #600.00 (0ms ?*RT. ?UPS, vehicles TOT 446 ACT 92 BUF 54)                             \r",
      "Step #700.00 (0ms ?*RT. ?UPS, vehicles TOT 499 ACT 79 BUF 1)                              \r",
      "Step #800.00 (0ms ?*RT. ?UPS, vehicles TOT 500 ACT 23 BUF 0)                              \r",
      "Step #830.00 (0ms ?*RT. ?UPS, vehicles TOT 500 ACT 0 BUF 0)                               \r\n"
     ]
    },
    {
     "name": "stderr",
     "output_type": "stream",
     "text": [
      "Warning: Environment variable SUMO_HOME is not set properly, disabling XML validation. Set 'auto' or 'always' for web lookups.\n",
      " 57%|███████████████████████▍                 | 286/500 [03:01<01:39,  2.16it/s]"
     ]
    },
    {
     "name": "stdout",
     "output_type": "stream",
     "text": [
      "Step #0.00 (1ms ~= 1000.00*RT, ~1000.00UPS, vehicles TOT 1 ACT 1 BUF 0)                   \r",
      "Step #100.00 (1ms ~= 1000.00*RT, ~71000.00UPS, vehicles TOT 121 ACT 71 BUF 379)           \r",
      "Step #200.00 (0ms ?*RT. ?UPS, vehicles TOT 203 ACT 94 BUF 297)                            \r",
      "Step #300.00 (1ms ~= 1000.00*RT, ~76000.00UPS, vehicles TOT 249 ACT 76 BUF 251)           \r",
      "Step #400.00 (1ms ~= 1000.00*RT, ~75000.00UPS, vehicles TOT 312 ACT 75 BUF 188)           \r",
      "Step #500.00 (0ms ?*RT. ?UPS, vehicles TOT 366 ACT 75 BUF 134)                            \r",
      "Step #600.00 (1ms ~= 1000.00*RT, ~87000.00UPS, vehicles TOT 435 ACT 87 BUF 65)            \r",
      "Step #700.00 (0ms ?*RT. ?UPS, vehicles TOT 493 ACT 86 BUF 7)                              \r",
      "Step #800.00 (0ms ?*RT. ?UPS, vehicles TOT 500 ACT 33 BUF 0)                              \r",
      "Step #847.00 (0ms ?*RT. ?UPS, vehicles TOT 500 ACT 0 BUF 0)                               \r\n"
     ]
    },
    {
     "name": "stderr",
     "output_type": "stream",
     "text": [
      "Warning: Environment variable SUMO_HOME is not set properly, disabling XML validation. Set 'auto' or 'always' for web lookups.\n",
      " 57%|███████████████████████▌                 | 287/500 [03:02<01:36,  2.21it/s]"
     ]
    },
    {
     "name": "stdout",
     "output_type": "stream",
     "text": [
      "Step #0.00 (1ms ~= 1000.00*RT, ~1000.00UPS, vehicles TOT 1 ACT 1 BUF 0)                   \r",
      "Step #100.00 (0ms ?*RT. ?UPS, vehicles TOT 113 ACT 60 BUF 387)                            \r",
      "Step #200.00 (1ms ~= 1000.00*RT, ~79000.00UPS, vehicles TOT 188 ACT 79 BUF 312)           \r",
      "Step #300.00 (1ms ~= 1000.00*RT, ~96000.00UPS, vehicles TOT 262 ACT 96 BUF 238)           \r",
      "Step #400.00 (0ms ?*RT. ?UPS, vehicles TOT 293 ACT 69 BUF 207)                            \r",
      "Step #500.00 (1ms ~= 1000.00*RT, ~92000.00UPS, vehicles TOT 369 ACT 92 BUF 131)           \r",
      "Step #600.00 (1ms ~= 1000.00*RT, ~74000.00UPS, vehicles TOT 417 ACT 74 BUF 83)            \r",
      "Step #700.00 (1ms ~= 1000.00*RT, ~71000.00UPS, vehicles TOT 475 ACT 71 BUF 25)            \r",
      "Step #800.00 (0ms ?*RT. ?UPS, vehicles TOT 500 ACT 39 BUF 0)                              \r",
      "Step #854.00 (0ms ?*RT. ?UPS, vehicles TOT 500 ACT 0 BUF 0)                               \r\n"
     ]
    },
    {
     "name": "stderr",
     "output_type": "stream",
     "text": [
      "Warning: Environment variable SUMO_HOME is not set properly, disabling XML validation. Set 'auto' or 'always' for web lookups.\n",
      " 58%|███████████████████████▌                 | 288/500 [03:02<01:36,  2.20it/s]"
     ]
    },
    {
     "name": "stdout",
     "output_type": "stream",
     "text": [
      "Step #0.00 (0ms ?*RT. ?UPS, vehicles TOT 1 ACT 1 BUF 0)                                   \r",
      "Step #100.00 (1ms ~= 1000.00*RT, ~71000.00UPS, vehicles TOT 123 ACT 71 BUF 377)           \r",
      "Step #200.00 (1ms ~= 1000.00*RT, ~87000.00UPS, vehicles TOT 200 ACT 87 BUF 300)           \r",
      "Step #300.00 (1ms ~= 1000.00*RT, ~62000.00UPS, vehicles TOT 240 ACT 62 BUF 260)           \r",
      "Step #400.00 (1ms ~= 1000.00*RT, ~84000.00UPS, vehicles TOT 315 ACT 84 BUF 185)           \r",
      "Step #500.00 (1ms ~= 1000.00*RT, ~73000.00UPS, vehicles TOT 361 ACT 73 BUF 139)           \r",
      "Step #600.00 (1ms ~= 1000.00*RT, ~88000.00UPS, vehicles TOT 435 ACT 88 BUF 65)            \r",
      "Step #700.00 (0ms ?*RT. ?UPS, vehicles TOT 500 ACT 90 BUF 0)                              \r",
      "Step #800.00 (0ms ?*RT. ?UPS, vehicles TOT 500 ACT 32 BUF 0)                              \r",
      "Step #844.00 (0ms ?*RT. ?UPS, vehicles TOT 500 ACT 0 BUF 0)                               \r\n"
     ]
    },
    {
     "name": "stderr",
     "output_type": "stream",
     "text": [
      "Warning: Environment variable SUMO_HOME is not set properly, disabling XML validation. Set 'auto' or 'always' for web lookups.\n",
      " 58%|███████████████████████▋                 | 289/500 [03:03<01:52,  1.88it/s]"
     ]
    },
    {
     "name": "stdout",
     "output_type": "stream",
     "text": [
      "Step #0.00 (1ms ~= 1000.00*RT, ~1000.00UPS, vehicles TOT 1 ACT 1 BUF 0)                   \r",
      "Step #100.00 (1ms ~= 1000.00*RT, ~69000.00UPS, vehicles TOT 121 ACT 69 BUF 379)           \r",
      "Step #200.00 (1ms ~= 1000.00*RT, ~89000.00UPS, vehicles TOT 200 ACT 89 BUF 300)           \r",
      "Step #300.00 (0ms ?*RT. ?UPS, vehicles TOT 244 ACT 76 BUF 256)                            \r",
      "Step #400.00 (1ms ~= 1000.00*RT, ~74000.00UPS, vehicles TOT 301 ACT 74 BUF 199)           \r",
      "Step #500.00 (1ms ~= 1000.00*RT, ~76000.00UPS, vehicles TOT 360 ACT 76 BUF 140)           \r",
      "Step #600.00 (1ms ~= 1000.00*RT, ~75000.00UPS, vehicles TOT 419 ACT 75 BUF 81)            \r",
      "Step #700.00 (1ms ~= 1000.00*RT, ~65000.00UPS, vehicles TOT 463 ACT 65 BUF 37)            \r",
      "Step #800.00 (0ms ?*RT. ?UPS, vehicles TOT 500 ACT 34 BUF 0)                              \r",
      "Step #849.00 (0ms ?*RT. ?UPS, vehicles TOT 500 ACT 0 BUF 0)                               \r\n"
     ]
    },
    {
     "name": "stderr",
     "output_type": "stream",
     "text": [
      "Warning: Environment variable SUMO_HOME is not set properly, disabling XML validation. Set 'auto' or 'always' for web lookups.\n",
      " 58%|███████████████████████▊                 | 290/500 [03:04<02:05,  1.67it/s]"
     ]
    },
    {
     "name": "stdout",
     "output_type": "stream",
     "text": [
      "Step #0.00 (1ms ~= 1000.00*RT, ~1000.00UPS, vehicles TOT 1 ACT 1 BUF 0)                   \r",
      "Step #100.00 (1ms ~= 1000.00*RT, ~60000.00UPS, vehicles TOT 114 ACT 60 BUF 386)           \r",
      "Step #200.00 (1ms ~= 1000.00*RT, ~88000.00UPS, vehicles TOT 200 ACT 88 BUF 300)           \r",
      "Step #300.00 (0ms ?*RT. ?UPS, vehicles TOT 248 ACT 72 BUF 252)                            \r",
      "Step #400.00 (1ms ~= 1000.00*RT, ~88000.00UPS, vehicles TOT 328 ACT 88 BUF 172)           \r",
      "Step #500.00 (1ms ~= 1000.00*RT, ~69000.00UPS, vehicles TOT 370 ACT 69 BUF 130)           \r",
      "Step #600.00 (1ms ~= 1000.00*RT, ~65000.00UPS, vehicles TOT 425 ACT 65 BUF 75)            \r",
      "Step #700.00 (1ms ~= 1000.00*RT, ~83000.00UPS, vehicles TOT 500 ACT 83 BUF 0)             \r",
      "Step #800.00 (0ms ?*RT. ?UPS, vehicles TOT 500 ACT 33 BUF 0)                              \r",
      "Step #844.00 (0ms ?*RT. ?UPS, vehicles TOT 500 ACT 0 BUF 0)                               \r\n"
     ]
    },
    {
     "name": "stderr",
     "output_type": "stream",
     "text": [
      "Warning: Environment variable SUMO_HOME is not set properly, disabling XML validation. Set 'auto' or 'always' for web lookups.\n",
      " 58%|███████████████████████▊                 | 291/500 [03:05<02:15,  1.54it/s]"
     ]
    },
    {
     "name": "stdout",
     "output_type": "stream",
     "text": [
      "Step #0.00 (0ms ?*RT. ?UPS, vehicles TOT 1 ACT 1 BUF 0)                                   \r",
      "Step #100.00 (1ms ~= 1000.00*RT, ~67000.00UPS, vehicles TOT 121 ACT 67 BUF 379)           \r",
      "Step #200.00 (1ms ~= 1000.00*RT, ~83000.00UPS, vehicles TOT 197 ACT 83 BUF 303)           \r",
      "Step #300.00 (1ms ~= 1000.00*RT, ~72000.00UPS, vehicles TOT 245 ACT 72 BUF 255)           \r",
      "Step #400.00 (1ms ~= 1000.00*RT, ~82000.00UPS, vehicles TOT 319 ACT 82 BUF 181)           \r",
      "Step #500.00 (1ms ~= 1000.00*RT, ~79000.00UPS, vehicles TOT 378 ACT 79 BUF 122)           \r",
      "Step #600.00 (1ms ~= 1000.00*RT, ~88000.00UPS, vehicles TOT 440 ACT 88 BUF 60)            \r",
      "Step #700.00 (1ms ~= 1000.00*RT, ~78000.00UPS, vehicles TOT 492 ACT 78 BUF 8)             \r",
      "Step #800.00 (0ms ?*RT. ?UPS, vehicles TOT 500 ACT 22 BUF 0)                              \r",
      "Step #830.00 (0ms ?*RT. ?UPS, vehicles TOT 500 ACT 0 BUF 0)                               \r\n"
     ]
    },
    {
     "name": "stderr",
     "output_type": "stream",
     "text": [
      "Warning: Environment variable SUMO_HOME is not set properly, disabling XML validation. Set 'auto' or 'always' for web lookups.\n",
      " 58%|███████████████████████▉                 | 292/500 [03:05<02:24,  1.44it/s]"
     ]
    },
    {
     "name": "stdout",
     "output_type": "stream",
     "text": [
      "Step #0.00 (0ms ?*RT. ?UPS, vehicles TOT 1 ACT 1 BUF 0)                                   \r",
      "Step #100.00 (1ms ~= 1000.00*RT, ~58000.00UPS, vehicles TOT 109 ACT 58 BUF 391)           \r",
      "Step #200.00 (1ms ~= 1000.00*RT, ~84000.00UPS, vehicles TOT 196 ACT 84 BUF 304)           \r",
      "Step #300.00 (1ms ~= 1000.00*RT, ~95000.00UPS, vehicles TOT 259 ACT 95 BUF 241)           \r",
      "Step #400.00 (1ms ~= 1000.00*RT, ~79000.00UPS, vehicles TOT 306 ACT 79 BUF 194)           \r",
      "Step #500.00 (0ms ?*RT. ?UPS, vehicles TOT 371 ACT 80 BUF 129)                            \r",
      "Step #600.00 (1ms ~= 1000.00*RT, ~92000.00UPS, vehicles TOT 436 ACT 92 BUF 64)            \r",
      "Step #700.00 (1ms ~= 1000.00*RT, ~91000.00UPS, vehicles TOT 496 ACT 91 BUF 4)             \r",
      "Step #800.00 (1ms ~= 1000.00*RT, ~38000.00UPS, vehicles TOT 500 ACT 38 BUF 0)             \r",
      "Step #855.00 (0ms ?*RT. ?UPS, vehicles TOT 500 ACT 0 BUF 0)                               \r\n"
     ]
    },
    {
     "name": "stderr",
     "output_type": "stream",
     "text": [
      "Warning: Environment variable SUMO_HOME is not set properly, disabling XML validation. Set 'auto' or 'always' for web lookups.\n",
      " 59%|████████████████████████                 | 293/500 [03:06<02:29,  1.38it/s]"
     ]
    },
    {
     "name": "stdout",
     "output_type": "stream",
     "text": [
      "Step #0.00 (0ms ?*RT. ?UPS, vehicles TOT 1 ACT 1 BUF 0)                                   \r",
      "Step #100.00 (2ms ~= 500.00*RT, ~34000.00UPS, vehicles TOT 122 ACT 68 BUF 378)            \r",
      "Step #200.00 (1ms ~= 1000.00*RT, ~83000.00UPS, vehicles TOT 199 ACT 83 BUF 301)           \r",
      "Step #300.00 (1ms ~= 1000.00*RT, ~78000.00UPS, vehicles TOT 248 ACT 78 BUF 252)           \r",
      "Step #400.00 (1ms ~= 1000.00*RT, ~90000.00UPS, vehicles TOT 318 ACT 90 BUF 182)           \r",
      "Step #500.00 (1ms ~= 1000.00*RT, ~88000.00UPS, vehicles TOT 373 ACT 88 BUF 127)           \r",
      "Step #600.00 (1ms ~= 1000.00*RT, ~81000.00UPS, vehicles TOT 423 ACT 81 BUF 77)            \r",
      "Step #700.00 (0ms ?*RT. ?UPS, vehicles TOT 473 ACT 75 BUF 27)                             \r",
      "Step #800.00 (1ms ~= 1000.00*RT, ~48000.00UPS, vehicles TOT 500 ACT 48 BUF 0)             \r",
      "Step #873.00 (0ms ?*RT. ?UPS, vehicles TOT 500 ACT 0 BUF 0)                               \r\n"
     ]
    },
    {
     "name": "stderr",
     "output_type": "stream",
     "text": [
      "Warning: Environment variable SUMO_HOME is not set properly, disabling XML validation. Set 'auto' or 'always' for web lookups.\n",
      " 59%|████████████████████████                 | 294/500 [03:07<02:32,  1.35it/s]"
     ]
    },
    {
     "name": "stdout",
     "output_type": "stream",
     "text": [
      "Step #0.00 (0ms ?*RT. ?UPS, vehicles TOT 1 ACT 1 BUF 0)                                   \r",
      "Step #100.00 (2ms ~= 500.00*RT, ~35000.00UPS, vehicles TOT 122 ACT 70 BUF 378)            \r",
      "Step #200.00 (1ms ~= 1000.00*RT, ~77000.00UPS, vehicles TOT 185 ACT 77 BUF 315)           \r",
      "Step #300.00 (1ms ~= 1000.00*RT, ~72000.00UPS, vehicles TOT 237 ACT 72 BUF 263)           \r",
      "Step #400.00 (1ms ~= 1000.00*RT, ~93000.00UPS, vehicles TOT 316 ACT 93 BUF 184)           \r",
      "Step #500.00 (1ms ~= 1000.00*RT, ~89000.00UPS, vehicles TOT 373 ACT 89 BUF 127)           \r",
      "Step #600.00 (0ms ?*RT. ?UPS, vehicles TOT 418 ACT 75 BUF 82)                             \r",
      "Step #700.00 (0ms ?*RT. ?UPS, vehicles TOT 466 ACT 67 BUF 34)                             \r",
      "Step #800.00 (1ms ~= 1000.00*RT, ~42000.00UPS, vehicles TOT 500 ACT 42 BUF 0)             \r",
      "Step #860.00 (1ms ~= 1000.00*RT, ~0.00UPS, vehicles TOT 500 ACT 0 BUF 0)                  \r\n"
     ]
    },
    {
     "name": "stderr",
     "output_type": "stream",
     "text": [
      "Warning: Environment variable SUMO_HOME is not set properly, disabling XML validation. Set 'auto' or 'always' for web lookups.\n",
      " 59%|████████████████████████▏                | 295/500 [03:08<02:25,  1.41it/s]"
     ]
    },
    {
     "name": "stdout",
     "output_type": "stream",
     "text": [
      "Step #0.00 (0ms ?*RT. ?UPS, vehicles TOT 1 ACT 1 BUF 0)                                   \r",
      "Step #100.00 (1ms ~= 1000.00*RT, ~60000.00UPS, vehicles TOT 111 ACT 60 BUF 389)           \r",
      "Step #200.00 (1ms ~= 1000.00*RT, ~74000.00UPS, vehicles TOT 189 ACT 74 BUF 311)           \r",
      "Step #300.00 (1ms ~= 1000.00*RT, ~85000.00UPS, vehicles TOT 257 ACT 85 BUF 243)           \r",
      "Step #400.00 (0ms ?*RT. ?UPS, vehicles TOT 315 ACT 82 BUF 185)                            \r",
      "Step #500.00 (0ms ?*RT. ?UPS, vehicles TOT 385 ACT 92 BUF 115)                            \r",
      "Step #600.00 (0ms ?*RT. ?UPS, vehicles TOT 435 ACT 85 BUF 65)                             \r",
      "Step #700.00 (0ms ?*RT. ?UPS, vehicles TOT 489 ACT 76 BUF 11)                             \r",
      "Step #800.00 (0ms ?*RT. ?UPS, vehicles TOT 500 ACT 32 BUF 0)                              \r",
      "Step #843.00 (0ms ?*RT. ?UPS, vehicles TOT 500 ACT 0 BUF 0)                               \r\n"
     ]
    },
    {
     "name": "stderr",
     "output_type": "stream",
     "text": [
      "Warning: Environment variable SUMO_HOME is not set properly, disabling XML validation. Set 'auto' or 'always' for web lookups.\n",
      " 59%|████████████████████████▎                | 296/500 [03:08<02:06,  1.61it/s]"
     ]
    },
    {
     "name": "stdout",
     "output_type": "stream",
     "text": [
      "Step #0.00 (0ms ?*RT. ?UPS, vehicles TOT 1 ACT 1 BUF 0)                                   \r",
      "Step #100.00 (1ms ~= 1000.00*RT, ~68000.00UPS, vehicles TOT 120 ACT 68 BUF 380)           \r",
      "Step #200.00 (0ms ?*RT. ?UPS, vehicles TOT 201 ACT 88 BUF 299)                            \r",
      "Step #300.00 (1ms ~= 1000.00*RT, ~64000.00UPS, vehicles TOT 237 ACT 64 BUF 263)           \r",
      "Step #400.00 (1ms ~= 1000.00*RT, ~88000.00UPS, vehicles TOT 318 ACT 88 BUF 182)           \r",
      "Step #500.00 (0ms ?*RT. ?UPS, vehicles TOT 367 ACT 72 BUF 133)                            \r",
      "Step #600.00 (0ms ?*RT. ?UPS, vehicles TOT 449 ACT 93 BUF 51)                             \r",
      "Step #700.00 (0ms ?*RT. ?UPS, vehicles TOT 491 ACT 72 BUF 9)                              \r",
      "Step #800.00 (0ms ?*RT. ?UPS, vehicles TOT 500 ACT 16 BUF 0)                              \r",
      "Step #822.00 (1ms ~= 1000.00*RT, ~0.00UPS, vehicles TOT 500 ACT 0 BUF 0)                  \r\n"
     ]
    },
    {
     "name": "stderr",
     "output_type": "stream",
     "text": [
      "Warning: Environment variable SUMO_HOME is not set properly, disabling XML validation. Set 'auto' or 'always' for web lookups.\n",
      " 59%|████████████████████████▎                | 297/500 [03:08<01:53,  1.79it/s]"
     ]
    },
    {
     "name": "stdout",
     "output_type": "stream",
     "text": [
      "Step #0.00 (0ms ?*RT. ?UPS, vehicles TOT 1 ACT 1 BUF 0)                                   \r",
      "Step #100.00 (1ms ~= 1000.00*RT, ~72000.00UPS, vehicles TOT 122 ACT 72 BUF 378)           \r",
      "Step #200.00 (0ms ?*RT. ?UPS, vehicles TOT 171 ACT 62 BUF 329)                            \r",
      "Step #300.00 (1ms ~= 1000.00*RT, ~85000.00UPS, vehicles TOT 256 ACT 85 BUF 244)           \r",
      "Step #400.00 (0ms ?*RT. ?UPS, vehicles TOT 302 ACT 66 BUF 198)                            \r",
      "Step #500.00 (0ms ?*RT. ?UPS, vehicles TOT 382 ACT 91 BUF 118)                            \r",
      "Step #600.00 (0ms ?*RT. ?UPS, vehicles TOT 406 ACT 52 BUF 94)                             \r",
      "Step #700.00 (1ms ~= 1000.00*RT, ~76000.00UPS, vehicles TOT 495 ACT 76 BUF 5)             \r",
      "Step #800.00 (0ms ?*RT. ?UPS, vehicles TOT 500 ACT 24 BUF 0)                              \r",
      "Step #832.00 (0ms ?*RT. ?UPS, vehicles TOT 500 ACT 0 BUF 0)                               \r\n"
     ]
    },
    {
     "name": "stderr",
     "output_type": "stream",
     "text": [
      "Warning: Environment variable SUMO_HOME is not set properly, disabling XML validation. Set 'auto' or 'always' for web lookups.\n",
      " 60%|████████████████████████▍                | 298/500 [03:09<01:46,  1.89it/s]"
     ]
    },
    {
     "name": "stdout",
     "output_type": "stream",
     "text": [
      "Step #0.00 (0ms ?*RT. ?UPS, vehicles TOT 1 ACT 1 BUF 0)                                   \r",
      "Step #100.00 (1ms ~= 1000.00*RT, ~61000.00UPS, vehicles TOT 114 ACT 61 BUF 386)           \r",
      "Step #200.00 (1ms ~= 1000.00*RT, ~81000.00UPS, vehicles TOT 191 ACT 81 BUF 309)           \r",
      "Step #300.00 (1ms ~= 1000.00*RT, ~76000.00UPS, vehicles TOT 241 ACT 76 BUF 259)           \r",
      "Step #400.00 (0ms ?*RT. ?UPS, vehicles TOT 297 ACT 74 BUF 203)                            \r",
      "Step #500.00 (1ms ~= 1000.00*RT, ~93000.00UPS, vehicles TOT 370 ACT 93 BUF 130)           \r",
      "Step #600.00 (1ms ~= 1000.00*RT, ~82000.00UPS, vehicles TOT 413 ACT 82 BUF 87)            \r",
      "Step #700.00 (1ms ~= 1000.00*RT, ~96000.00UPS, vehicles TOT 485 ACT 96 BUF 15)            \r",
      "Step #800.00 (0ms ?*RT. ?UPS, vehicles TOT 500 ACT 53 BUF 0)                              \r",
      "Step #883.00 (0ms ?*RT. ?UPS, vehicles TOT 500 ACT 0 BUF 0)                               \r\n"
     ]
    },
    {
     "name": "stderr",
     "output_type": "stream",
     "text": [
      "Warning: Environment variable SUMO_HOME is not set properly, disabling XML validation. Set 'auto' or 'always' for web lookups.\n",
      " 60%|████████████████████████▌                | 299/500 [03:09<01:40,  2.00it/s]"
     ]
    },
    {
     "name": "stdout",
     "output_type": "stream",
     "text": [
      "Step #0.00 (1ms ~= 1000.00*RT, ~1000.00UPS, vehicles TOT 1 ACT 1 BUF 0)                   \r",
      "Step #100.00 (0ms ?*RT. ?UPS, vehicles TOT 120 ACT 66 BUF 380)                            \r",
      "Step #200.00 (1ms ~= 1000.00*RT, ~82000.00UPS, vehicles TOT 202 ACT 82 BUF 298)           \r",
      "Step #300.00 (1ms ~= 1000.00*RT, ~66000.00UPS, vehicles TOT 248 ACT 66 BUF 252)           \r",
      "Step #400.00 (0ms ?*RT. ?UPS, vehicles TOT 323 ACT 84 BUF 177)                            \r",
      "Step #500.00 (0ms ?*RT. ?UPS, vehicles TOT 379 ACT 84 BUF 121)                            \r",
      "Step #600.00 (1ms ~= 1000.00*RT, ~80000.00UPS, vehicles TOT 433 ACT 80 BUF 67)            \r",
      "Step #700.00 (0ms ?*RT. ?UPS, vehicles TOT 482 ACT 73 BUF 18)                             \r",
      "Step #800.00 (0ms ?*RT. ?UPS, vehicles TOT 500 ACT 27 BUF 0)                              \r",
      "Step #835.00 (0ms ?*RT. ?UPS, vehicles TOT 500 ACT 0 BUF 0)                               \r\n"
     ]
    },
    {
     "name": "stderr",
     "output_type": "stream",
     "text": [
      "Warning: Environment variable SUMO_HOME is not set properly, disabling XML validation. Set 'auto' or 'always' for web lookups.\n",
      " 60%|████████████████████████▌                | 300/500 [03:10<01:34,  2.11it/s]"
     ]
    },
    {
     "name": "stdout",
     "output_type": "stream",
     "text": [
      "Step #0.00 (0ms ?*RT. ?UPS, vehicles TOT 1 ACT 1 BUF 0)                                   \r",
      "Step #100.00 (1ms ~= 1000.00*RT, ~66000.00UPS, vehicles TOT 118 ACT 66 BUF 382)           \r",
      "Step #200.00 (0ms ?*RT. ?UPS, vehicles TOT 194 ACT 87 BUF 306)                            \r",
      "Step #300.00 (1ms ~= 1000.00*RT, ~89000.00UPS, vehicles TOT 256 ACT 89 BUF 244)           \r",
      "Step #400.00 (0ms ?*RT. ?UPS, vehicles TOT 298 ACT 66 BUF 202)                            \r",
      "Step #500.00 (1ms ~= 1000.00*RT, ~81000.00UPS, vehicles TOT 373 ACT 81 BUF 127)           \r",
      "Step #600.00 (1ms ~= 1000.00*RT, ~72000.00UPS, vehicles TOT 428 ACT 72 BUF 72)            \r",
      "Step #700.00 (0ms ?*RT. ?UPS, vehicles TOT 493 ACT 74 BUF 7)                              \r",
      "Step #800.00 (0ms ?*RT. ?UPS, vehicles TOT 500 ACT 26 BUF 0)                              \r",
      "Step #835.00 (0ms ?*RT. ?UPS, vehicles TOT 500 ACT 0 BUF 0)                               \r\n"
     ]
    },
    {
     "name": "stderr",
     "output_type": "stream",
     "text": [
      "Warning: Environment variable SUMO_HOME is not set properly, disabling XML validation. Set 'auto' or 'always' for web lookups.\n",
      " 60%|████████████████████████▋                | 301/500 [03:10<01:33,  2.13it/s]"
     ]
    },
    {
     "name": "stdout",
     "output_type": "stream",
     "text": [
      "Step #0.00 (0ms ?*RT. ?UPS, vehicles TOT 1 ACT 1 BUF 0)                                   \r",
      "Step #100.00 (0ms ?*RT. ?UPS, vehicles TOT 120 ACT 68 BUF 380)                            \r",
      "Step #200.00 (1ms ~= 1000.00*RT, ~89000.00UPS, vehicles TOT 196 ACT 89 BUF 304)           \r",
      "Step #300.00 (0ms ?*RT. ?UPS, vehicles TOT 250 ACT 86 BUF 250)                            \r",
      "Step #400.00 (0ms ?*RT. ?UPS, vehicles TOT 304 ACT 81 BUF 196)                            \r",
      "Step #500.00 (0ms ?*RT. ?UPS, vehicles TOT 359 ACT 77 BUF 141)                            \r",
      "Step #600.00 (1ms ~= 1000.00*RT, ~87000.00UPS, vehicles TOT 427 ACT 87 BUF 73)            \r",
      "Step #700.00 (1ms ~= 1000.00*RT, ~80000.00UPS, vehicles TOT 482 ACT 80 BUF 18)            \r",
      "Step #800.00 (0ms ?*RT. ?UPS, vehicles TOT 500 ACT 42 BUF 0)                              \r",
      "Step #863.00 (0ms ?*RT. ?UPS, vehicles TOT 500 ACT 0 BUF 0)                               \r\n"
     ]
    },
    {
     "name": "stderr",
     "output_type": "stream",
     "text": [
      "Warning: Environment variable SUMO_HOME is not set properly, disabling XML validation. Set 'auto' or 'always' for web lookups.\n",
      " 60%|████████████████████████▊                | 302/500 [03:11<01:31,  2.17it/s]"
     ]
    },
    {
     "name": "stdout",
     "output_type": "stream",
     "text": [
      "Step #0.00 (0ms ?*RT. ?UPS, vehicles TOT 1 ACT 1 BUF 0)                                   \r",
      "Step #100.00 (1ms ~= 1000.00*RT, ~64000.00UPS, vehicles TOT 118 ACT 64 BUF 382)           \r",
      "Step #200.00 (1ms ~= 1000.00*RT, ~96000.00UPS, vehicles TOT 204 ACT 96 BUF 296)           \r",
      "Step #300.00 (0ms ?*RT. ?UPS, vehicles TOT 243 ACT 74 BUF 257)                            \r",
      "Step #400.00 (0ms ?*RT. ?UPS, vehicles TOT 304 ACT 71 BUF 196)                            \r",
      "Step #500.00 (0ms ?*RT. ?UPS, vehicles TOT 375 ACT 87 BUF 125)                            \r",
      "Step #600.00 (0ms ?*RT. ?UPS, vehicles TOT 420 ACT 76 BUF 80)                             \r",
      "Step #700.00 (1ms ~= 1000.00*RT, ~79000.00UPS, vehicles TOT 486 ACT 79 BUF 14)            \r",
      "Step #800.00 (0ms ?*RT. ?UPS, vehicles TOT 500 ACT 30 BUF 0)                              \r",
      "Step #846.00 (0ms ?*RT. ?UPS, vehicles TOT 500 ACT 0 BUF 0)                               \r\n"
     ]
    },
    {
     "name": "stderr",
     "output_type": "stream",
     "text": [
      "Warning: Environment variable SUMO_HOME is not set properly, disabling XML validation. Set 'auto' or 'always' for web lookups.\n",
      " 61%|████████████████████████▊                | 303/500 [03:11<01:27,  2.25it/s]"
     ]
    },
    {
     "name": "stdout",
     "output_type": "stream",
     "text": [
      "Step #0.00 (1ms ~= 1000.00*RT, ~1000.00UPS, vehicles TOT 1 ACT 1 BUF 0)                   \r",
      "Step #100.00 (0ms ?*RT. ?UPS, vehicles TOT 108 ACT 55 BUF 392)                            \r",
      "Step #200.00 (1ms ~= 1000.00*RT, ~86000.00UPS, vehicles TOT 194 ACT 86 BUF 306)           \r",
      "Step #300.00 (0ms ?*RT. ?UPS, vehicles TOT 248 ACT 77 BUF 252)                            \r",
      "Step #400.00 (1ms ~= 1000.00*RT, ~63000.00UPS, vehicles TOT 299 ACT 63 BUF 201)           \r",
      "Step #500.00 (1ms ~= 1000.00*RT, ~84000.00UPS, vehicles TOT 380 ACT 84 BUF 120)           \r",
      "Step #600.00 (0ms ?*RT. ?UPS, vehicles TOT 432 ACT 68 BUF 68)                             \r",
      "Step #700.00 (1ms ~= 1000.00*RT, ~74000.00UPS, vehicles TOT 495 ACT 74 BUF 5)             \r",
      "Step #800.00 (0ms ?*RT. ?UPS, vehicles TOT 500 ACT 17 BUF 0)                              \r",
      "Step #823.00 (0ms ?*RT. ?UPS, vehicles TOT 500 ACT 0 BUF 0)                               \r\n"
     ]
    },
    {
     "name": "stderr",
     "output_type": "stream",
     "text": [
      "Warning: Environment variable SUMO_HOME is not set properly, disabling XML validation. Set 'auto' or 'always' for web lookups.\n",
      " 61%|████████████████████████▉                | 304/500 [03:11<01:24,  2.31it/s]"
     ]
    },
    {
     "name": "stdout",
     "output_type": "stream",
     "text": [
      "Step #0.00 (0ms ?*RT. ?UPS, vehicles TOT 1 ACT 1 BUF 0)                                   \r",
      "Step #100.00 (1ms ~= 1000.00*RT, ~69000.00UPS, vehicles TOT 119 ACT 69 BUF 381)           \r",
      "Step #200.00 (1ms ~= 1000.00*RT, ~61000.00UPS, vehicles TOT 167 ACT 61 BUF 333)           \r",
      "Step #300.00 (1ms ~= 1000.00*RT, ~76000.00UPS, vehicles TOT 244 ACT 76 BUF 256)           \r",
      "Step #400.00 (0ms ?*RT. ?UPS, vehicles TOT 308 ACT 80 BUF 192)                            \r",
      "Step #500.00 (1ms ~= 1000.00*RT, ~80000.00UPS, vehicles TOT 368 ACT 80 BUF 132)           \r",
      "Step #600.00 (1ms ~= 1000.00*RT, ~76000.00UPS, vehicles TOT 427 ACT 76 BUF 73)            \r",
      "Step #700.00 (0ms ?*RT. ?UPS, vehicles TOT 500 ACT 86 BUF 0)                              \r",
      "Step #800.00 (0ms ?*RT. ?UPS, vehicles TOT 500 ACT 22 BUF 0)                              \r",
      "Step #830.00 (0ms ?*RT. ?UPS, vehicles TOT 500 ACT 0 BUF 0)                               \r\n"
     ]
    },
    {
     "name": "stderr",
     "output_type": "stream",
     "text": [
      "Warning: Environment variable SUMO_HOME is not set properly, disabling XML validation. Set 'auto' or 'always' for web lookups.\n",
      " 61%|█████████████████████████                | 305/500 [03:12<01:25,  2.29it/s]"
     ]
    },
    {
     "name": "stdout",
     "output_type": "stream",
     "text": [
      "Step #0.00 (1ms ~= 1000.00*RT, ~1000.00UPS, vehicles TOT 1 ACT 1 BUF 0)                   \r",
      "Step #100.00 (1ms ~= 1000.00*RT, ~70000.00UPS, vehicles TOT 120 ACT 70 BUF 380)           \r",
      "Step #200.00 (0ms ?*RT. ?UPS, vehicles TOT 176 ACT 64 BUF 324)                            \r",
      "Step #300.00 (1ms ~= 1000.00*RT, ~84000.00UPS, vehicles TOT 249 ACT 84 BUF 251)           \r",
      "Step #400.00 (0ms ?*RT. ?UPS, vehicles TOT 289 ACT 65 BUF 211)                            \r",
      "Step #500.00 (0ms ?*RT. ?UPS, vehicles TOT 366 ACT 85 BUF 134)                            \r",
      "Step #600.00 (0ms ?*RT. ?UPS, vehicles TOT 431 ACT 96 BUF 69)                             \r",
      "Step #700.00 (1ms ~= 1000.00*RT, ~68000.00UPS, vehicles TOT 463 ACT 68 BUF 37)            \r",
      "Step #800.00 (0ms ?*RT. ?UPS, vehicles TOT 500 ACT 47 BUF 0)                              \r",
      "Step #869.00 (0ms ?*RT. ?UPS, vehicles TOT 500 ACT 0 BUF 0)                               \r\n"
     ]
    },
    {
     "name": "stderr",
     "output_type": "stream",
     "text": [
      "Warning: Environment variable SUMO_HOME is not set properly, disabling XML validation. Set 'auto' or 'always' for web lookups.\n",
      " 61%|█████████████████████████                | 306/500 [03:12<01:23,  2.31it/s]"
     ]
    },
    {
     "name": "stdout",
     "output_type": "stream",
     "text": [
      "Step #0.00 (0ms ?*RT. ?UPS, vehicles TOT 1 ACT 1 BUF 0)                                   \r",
      "Step #100.00 (1ms ~= 1000.00*RT, ~57000.00UPS, vehicles TOT 109 ACT 57 BUF 391)           \r",
      "Step #200.00 (0ms ?*RT. ?UPS, vehicles TOT 183 ACT 77 BUF 317)                            \r",
      "Step #300.00 (0ms ?*RT. ?UPS, vehicles TOT 231 ACT 57 BUF 269)                            \r",
      "Step #400.00 (1ms ~= 1000.00*RT, ~87000.00UPS, vehicles TOT 315 ACT 87 BUF 185)           \r",
      "Step #500.00 (1ms ~= 1000.00*RT, ~61000.00UPS, vehicles TOT 348 ACT 61 BUF 152)           \r",
      "Step #600.00 (1ms ~= 1000.00*RT, ~79000.00UPS, vehicles TOT 429 ACT 79 BUF 71)            \r",
      "Step #700.00 (0ms ?*RT. ?UPS, vehicles TOT 485 ACT 80 BUF 15)                             \r",
      "Step #800.00 (0ms ?*RT. ?UPS, vehicles TOT 500 ACT 38 BUF 0)                              \r",
      "Step #853.00 (0ms ?*RT. ?UPS, vehicles TOT 500 ACT 0 BUF 0)                               \r\n"
     ]
    },
    {
     "name": "stderr",
     "output_type": "stream",
     "text": [
      "Warning: Environment variable SUMO_HOME is not set properly, disabling XML validation. Set 'auto' or 'always' for web lookups.\n",
      " 61%|█████████████████████████▏               | 307/500 [03:13<01:22,  2.33it/s]"
     ]
    },
    {
     "name": "stdout",
     "output_type": "stream",
     "text": [
      "Step #0.00 (0ms ?*RT. ?UPS, vehicles TOT 1 ACT 1 BUF 0)                                   \r",
      "Step #100.00 (1ms ~= 1000.00*RT, ~66000.00UPS, vehicles TOT 117 ACT 66 BUF 383)           \r",
      "Step #200.00 (1ms ~= 1000.00*RT, ~81000.00UPS, vehicles TOT 191 ACT 81 BUF 309)           \r",
      "Step #300.00 (1ms ~= 1000.00*RT, ~84000.00UPS, vehicles TOT 253 ACT 84 BUF 247)           \r",
      "Step #400.00 (0ms ?*RT. ?UPS, vehicles TOT 298 ACT 66 BUF 202)                            \r",
      "Step #500.00 (0ms ?*RT. ?UPS, vehicles TOT 366 ACT 81 BUF 134)                            \r",
      "Step #600.00 (1ms ~= 1000.00*RT, ~79000.00UPS, vehicles TOT 423 ACT 79 BUF 77)            \r",
      "Step #700.00 (0ms ?*RT. ?UPS, vehicles TOT 474 ACT 73 BUF 26)                             \r",
      "Step #800.00 (0ms ?*RT. ?UPS, vehicles TOT 500 ACT 35 BUF 0)                              \r",
      "Step #853.00 (0ms ?*RT. ?UPS, vehicles TOT 500 ACT 0 BUF 0)                               \r\n"
     ]
    },
    {
     "name": "stderr",
     "output_type": "stream",
     "text": [
      "Warning: Environment variable SUMO_HOME is not set properly, disabling XML validation. Set 'auto' or 'always' for web lookups.\n",
      " 62%|█████████████████████████▎               | 308/500 [03:13<01:22,  2.33it/s]"
     ]
    },
    {
     "name": "stdout",
     "output_type": "stream",
     "text": [
      "Step #0.00 (1ms ~= 1000.00*RT, ~1000.00UPS, vehicles TOT 1 ACT 1 BUF 0)                   \r",
      "Step #100.00 (0ms ?*RT. ?UPS, vehicles TOT 117 ACT 65 BUF 383)                            \r",
      "Step #200.00 (1ms ~= 1000.00*RT, ~91000.00UPS, vehicles TOT 200 ACT 91 BUF 300)           \r",
      "Step #300.00 (1ms ~= 1000.00*RT, ~79000.00UPS, vehicles TOT 250 ACT 79 BUF 250)           \r",
      "Step #400.00 (1ms ~= 1000.00*RT, ~78000.00UPS, vehicles TOT 307 ACT 78 BUF 193)           \r",
      "Step #500.00 (0ms ?*RT. ?UPS, vehicles TOT 365 ACT 77 BUF 135)                            \r",
      "Step #600.00 (1ms ~= 1000.00*RT, ~82000.00UPS, vehicles TOT 433 ACT 82 BUF 67)            \r",
      "Step #700.00 (0ms ?*RT. ?UPS, vehicles TOT 482 ACT 70 BUF 18)                             \r",
      "Step #800.00 (0ms ?*RT. ?UPS, vehicles TOT 500 ACT 33 BUF 0)                              \r",
      "Step #846.00 (0ms ?*RT. ?UPS, vehicles TOT 500 ACT 0 BUF 0)                               \r\n"
     ]
    },
    {
     "name": "stderr",
     "output_type": "stream",
     "text": [
      "Warning: Environment variable SUMO_HOME is not set properly, disabling XML validation. Set 'auto' or 'always' for web lookups.\n",
      " 62%|█████████████████████████▎               | 309/500 [03:14<01:22,  2.33it/s]"
     ]
    },
    {
     "name": "stdout",
     "output_type": "stream",
     "text": [
      "Step #0.00 (1ms ~= 1000.00*RT, ~1000.00UPS, vehicles TOT 1 ACT 1 BUF 0)                   \r",
      "Step #100.00 (1ms ~= 1000.00*RT, ~59000.00UPS, vehicles TOT 112 ACT 59 BUF 388)           \r",
      "Step #200.00 (1ms ~= 1000.00*RT, ~99000.00UPS, vehicles TOT 206 ACT 99 BUF 294)           \r",
      "Step #300.00 (0ms ?*RT. ?UPS, vehicles TOT 231 ACT 62 BUF 269)                            \r",
      "Step #400.00 (1ms ~= 1000.00*RT, ~82000.00UPS, vehicles TOT 308 ACT 82 BUF 192)           \r",
      "Step #500.00 (1ms ~= 1000.00*RT, ~77000.00UPS, vehicles TOT 367 ACT 77 BUF 133)           \r",
      "Step #600.00 (0ms ?*RT. ?UPS, vehicles TOT 424 ACT 78 BUF 76)                             \r",
      "Step #700.00 (0ms ?*RT. ?UPS, vehicles TOT 491 ACT 88 BUF 9)                              \r",
      "Step #800.00 (0ms ?*RT. ?UPS, vehicles TOT 500 ACT 37 BUF 0)                              \r",
      "Step #855.00 (0ms ?*RT. ?UPS, vehicles TOT 500 ACT 0 BUF 0)                               \r\n"
     ]
    },
    {
     "name": "stderr",
     "output_type": "stream",
     "text": [
      "Warning: Environment variable SUMO_HOME is not set properly, disabling XML validation. Set 'auto' or 'always' for web lookups.\n",
      " 62%|█████████████████████████▍               | 310/500 [03:14<01:21,  2.35it/s]"
     ]
    },
    {
     "name": "stdout",
     "output_type": "stream",
     "text": [
      "Step #0.00 (0ms ?*RT. ?UPS, vehicles TOT 1 ACT 1 BUF 0)                                   \r",
      "Step #100.00 (1ms ~= 1000.00*RT, ~57000.00UPS, vehicles TOT 113 ACT 57 BUF 387)           \r",
      "Step #200.00 (1ms ~= 1000.00*RT, ~81000.00UPS, vehicles TOT 198 ACT 81 BUF 302)           \r",
      "Step #300.00 (1ms ~= 1000.00*RT, ~64000.00UPS, vehicles TOT 244 ACT 64 BUF 256)           \r",
      "Step #400.00 (0ms ?*RT. ?UPS, vehicles TOT 324 ACT 86 BUF 176)                            \r",
      "Step #500.00 (0ms ?*RT. ?UPS, vehicles TOT 378 ACT 77 BUF 122)                            \r",
      "Step #600.00 (1ms ~= 1000.00*RT, ~71000.00UPS, vehicles TOT 436 ACT 71 BUF 64)            \r",
      "Step #700.00 (1ms ~= 1000.00*RT, ~80000.00UPS, vehicles TOT 500 ACT 80 BUF 0)             \r",
      "Step #800.00 (0ms ?*RT. ?UPS, vehicles TOT 500 ACT 18 BUF 0)                              \r",
      "Step #824.00 (0ms ?*RT. ?UPS, vehicles TOT 500 ACT 0 BUF 0)                               \r\n"
     ]
    },
    {
     "name": "stderr",
     "output_type": "stream",
     "text": [
      "Warning: Environment variable SUMO_HOME is not set properly, disabling XML validation. Set 'auto' or 'always' for web lookups.\n",
      " 62%|█████████████████████████▌               | 311/500 [03:14<01:28,  2.14it/s]"
     ]
    },
    {
     "name": "stdout",
     "output_type": "stream",
     "text": [
      "Step #0.00 (0ms ?*RT. ?UPS, vehicles TOT 1 ACT 1 BUF 0)                                   \r",
      "Step #100.00 (0ms ?*RT. ?UPS, vehicles TOT 116 ACT 61 BUF 384)                            \r",
      "Step #200.00 (0ms ?*RT. ?UPS, vehicles TOT 171 ACT 59 BUF 329)                            \r",
      "Step #300.00 (0ms ?*RT. ?UPS, vehicles TOT 245 ACT 74 BUF 255)                            \r",
      "Step #400.00 (0ms ?*RT. ?UPS, vehicles TOT 307 ACT 76 BUF 193)                            \r",
      "Step #500.00 (0ms ?*RT. ?UPS, vehicles TOT 363 ACT 69 BUF 137)                            \r",
      "Step #600.00 (1ms ~= 1000.00*RT, ~78000.00UPS, vehicles TOT 428 ACT 78 BUF 72)            \r",
      "Step #700.00 (0ms ?*RT. ?UPS, vehicles TOT 481 ACT 73 BUF 19)                             \r",
      "Step #800.00 (0ms ?*RT. ?UPS, vehicles TOT 500 ACT 36 BUF 0)                              \r",
      "Step #851.00 (0ms ?*RT. ?UPS, vehicles TOT 500 ACT 0 BUF 0)                               \r\n"
     ]
    },
    {
     "name": "stderr",
     "output_type": "stream",
     "text": [
      "Warning: Environment variable SUMO_HOME is not set properly, disabling XML validation. Set 'auto' or 'always' for web lookups.\n",
      " 62%|█████████████████████████▌               | 312/500 [03:15<01:25,  2.20it/s]"
     ]
    },
    {
     "name": "stdout",
     "output_type": "stream",
     "text": [
      "Step #0.00 (0ms ?*RT. ?UPS, vehicles TOT 1 ACT 1 BUF 0)                                   \r",
      "Step #100.00 (1ms ~= 1000.00*RT, ~62000.00UPS, vehicles TOT 117 ACT 62 BUF 383)           \r",
      "Step #200.00 (0ms ?*RT. ?UPS, vehicles TOT 192 ACT 78 BUF 308)                            \r",
      "Step #300.00 (0ms ?*RT. ?UPS, vehicles TOT 242 ACT 64 BUF 258)                            \r",
      "Step #400.00 (1ms ~= 1000.00*RT, ~82000.00UPS, vehicles TOT 319 ACT 82 BUF 181)           \r",
      "Step #500.00 (0ms ?*RT. ?UPS, vehicles TOT 385 ACT 92 BUF 115)                            \r",
      "Step #600.00 (1ms ~= 1000.00*RT, ~73000.00UPS, vehicles TOT 422 ACT 73 BUF 78)            \r",
      "Step #700.00 (1ms ~= 1000.00*RT, ~90000.00UPS, vehicles TOT 495 ACT 90 BUF 5)             \r",
      "Step #800.00 (0ms ?*RT. ?UPS, vehicles TOT 500 ACT 33 BUF 0)                              \r",
      "Step #850.00 (1ms ~= 1000.00*RT, ~0.00UPS, vehicles TOT 500 ACT 0 BUF 0)                  \r\n"
     ]
    },
    {
     "name": "stderr",
     "output_type": "stream",
     "text": [
      "Warning: Environment variable SUMO_HOME is not set properly, disabling XML validation. Set 'auto' or 'always' for web lookups.\n",
      " 63%|█████████████████████████▋               | 313/500 [03:15<01:23,  2.23it/s]"
     ]
    },
    {
     "name": "stdout",
     "output_type": "stream",
     "text": [
      "Step #0.00 (0ms ?*RT. ?UPS, vehicles TOT 1 ACT 1 BUF 0)                                   \r",
      "Step #100.00 (0ms ?*RT. ?UPS, vehicles TOT 117 ACT 64 BUF 383)                            \r",
      "Step #200.00 (0ms ?*RT. ?UPS, vehicles TOT 195 ACT 83 BUF 305)                            \r",
      "Step #300.00 (1ms ~= 1000.00*RT, ~70000.00UPS, vehicles TOT 243 ACT 70 BUF 257)           \r",
      "Step #400.00 (1ms ~= 1000.00*RT, ~78000.00UPS, vehicles TOT 307 ACT 78 BUF 193)           \r",
      "Step #500.00 (0ms ?*RT. ?UPS, vehicles TOT 369 ACT 78 BUF 131)                            \r",
      "Step #600.00 (0ms ?*RT. ?UPS, vehicles TOT 426 ACT 78 BUF 74)                             \r",
      "Step #700.00 (0ms ?*RT. ?UPS, vehicles TOT 476 ACT 69 BUF 24)                             \r",
      "Step #800.00 (0ms ?*RT. ?UPS, vehicles TOT 500 ACT 29 BUF 0)                              \r",
      "Step #841.00 (0ms ?*RT. ?UPS, vehicles TOT 500 ACT 0 BUF 0)                               \r\n"
     ]
    },
    {
     "name": "stderr",
     "output_type": "stream",
     "text": [
      "Warning: Environment variable SUMO_HOME is not set properly, disabling XML validation. Set 'auto' or 'always' for web lookups.\n",
      " 63%|█████████████████████████▋               | 314/500 [03:16<01:25,  2.18it/s]"
     ]
    },
    {
     "name": "stdout",
     "output_type": "stream",
     "text": [
      "Step #0.00 (1ms ~= 1000.00*RT, ~1000.00UPS, vehicles TOT 1 ACT 1 BUF 0)                   \r",
      "Step #100.00 (1ms ~= 1000.00*RT, ~68000.00UPS, vehicles TOT 120 ACT 68 BUF 380)           \r",
      "Step #200.00 (1ms ~= 1000.00*RT, ~86000.00UPS, vehicles TOT 196 ACT 86 BUF 304)           \r",
      "Step #300.00 (0ms ?*RT. ?UPS, vehicles TOT 247 ACT 77 BUF 253)                            \r",
      "Step #400.00 (1ms ~= 1000.00*RT, ~79000.00UPS, vehicles TOT 305 ACT 79 BUF 195)           \r",
      "Step #500.00 (1ms ~= 1000.00*RT, ~82000.00UPS, vehicles TOT 362 ACT 82 BUF 138)           \r",
      "Step #600.00 (1ms ~= 1000.00*RT, ~70000.00UPS, vehicles TOT 404 ACT 70 BUF 96)            \r",
      "Step #700.00 (1ms ~= 1000.00*RT, ~76000.00UPS, vehicles TOT 471 ACT 76 BUF 29)            \r",
      "Step #800.00 (0ms ?*RT. ?UPS, vehicles TOT 500 ACT 53 BUF 0)                              \r",
      "Step #884.00 (0ms ?*RT. ?UPS, vehicles TOT 500 ACT 0 BUF 0)                               \r\n"
     ]
    },
    {
     "name": "stderr",
     "output_type": "stream",
     "text": [
      "Warning: Environment variable SUMO_HOME is not set properly, disabling XML validation. Set 'auto' or 'always' for web lookups.\n",
      " 63%|█████████████████████████▊               | 315/500 [03:16<01:25,  2.18it/s]"
     ]
    },
    {
     "name": "stdout",
     "output_type": "stream",
     "text": [
      "Step #0.00 (0ms ?*RT. ?UPS, vehicles TOT 1 ACT 1 BUF 0)                                   \r",
      "Step #100.00 (0ms ?*RT. ?UPS, vehicles TOT 102 ACT 50 BUF 398)                            \r",
      "Step #200.00 (1ms ~= 1000.00*RT, ~87000.00UPS, vehicles TOT 193 ACT 87 BUF 307)           \r",
      "Step #300.00 (0ms ?*RT. ?UPS, vehicles TOT 232 ACT 75 BUF 268)                            \r",
      "Step #400.00 (0ms ?*RT. ?UPS, vehicles TOT 280 ACT 67 BUF 220)                            \r",
      "Step #500.00 (0ms ?*RT. ?UPS, vehicles TOT 359 ACT 88 BUF 141)                            \r",
      "Step #600.00 (0ms ?*RT. ?UPS, vehicles TOT 408 ACT 78 BUF 92)                             \r",
      "Step #700.00 (0ms ?*RT. ?UPS, vehicles TOT 475 ACT 90 BUF 25)                             \r",
      "Step #800.00 (0ms ?*RT. ?UPS, vehicles TOT 500 ACT 56 BUF 0)                              \r",
      "Step #889.00 (0ms ?*RT. ?UPS, vehicles TOT 500 ACT 0 BUF 0)                               \r\n"
     ]
    },
    {
     "name": "stderr",
     "output_type": "stream",
     "text": [
      "Warning: Environment variable SUMO_HOME is not set properly, disabling XML validation. Set 'auto' or 'always' for web lookups.\n",
      " 63%|█████████████████████████▉               | 316/500 [03:17<01:38,  1.86it/s]"
     ]
    },
    {
     "name": "stdout",
     "output_type": "stream",
     "text": [
      "Step #0.00 (0ms ?*RT. ?UPS, vehicles TOT 1 ACT 1 BUF 0)                                   \r",
      "Step #100.00 (1ms ~= 1000.00*RT, ~51000.00UPS, vehicles TOT 106 ACT 51 BUF 394)           \r",
      "Step #200.00 (1ms ~= 1000.00*RT, ~83000.00UPS, vehicles TOT 193 ACT 83 BUF 307)           \r",
      "Step #300.00 (1ms ~= 1000.00*RT, ~73000.00UPS, vehicles TOT 242 ACT 73 BUF 258)           \r",
      "Step #400.00 (1ms ~= 1000.00*RT, ~66000.00UPS, vehicles TOT 300 ACT 66 BUF 200)           \r",
      "Step #500.00 (1ms ~= 1000.00*RT, ~81000.00UPS, vehicles TOT 373 ACT 81 BUF 127)           \r",
      "Step #600.00 (1ms ~= 1000.00*RT, ~68000.00UPS, vehicles TOT 425 ACT 68 BUF 75)            \r",
      "Step #700.00 (1ms ~= 1000.00*RT, ~77000.00UPS, vehicles TOT 492 ACT 77 BUF 8)             \r",
      "Step #800.00 (0ms ?*RT. ?UPS, vehicles TOT 500 ACT 30 BUF 0)                              \r",
      "Step #846.00 (0ms ?*RT. ?UPS, vehicles TOT 500 ACT 0 BUF 0)                               \r\n"
     ]
    },
    {
     "name": "stderr",
     "output_type": "stream",
     "text": [
      "Warning: Environment variable SUMO_HOME is not set properly, disabling XML validation. Set 'auto' or 'always' for web lookups.\n",
      " 63%|█████████████████████████▉               | 317/500 [03:18<01:50,  1.66it/s]"
     ]
    },
    {
     "name": "stdout",
     "output_type": "stream",
     "text": [
      "Step #0.00 (0ms ?*RT. ?UPS, vehicles TOT 1 ACT 1 BUF 0)                                   \r",
      "Step #100.00 (2ms ~= 500.00*RT, ~27500.00UPS, vehicles TOT 111 ACT 55 BUF 389)            \r",
      "Step #200.00 (0ms ?*RT. ?UPS, vehicles TOT 200 ACT 90 BUF 300)                            \r",
      "Step #300.00 (0ms ?*RT. ?UPS, vehicles TOT 245 ACT 73 BUF 255)                            \r",
      "Step #400.00 (1ms ~= 1000.00*RT, ~70000.00UPS, vehicles TOT 302 ACT 70 BUF 198)           \r",
      "Step #500.00 (0ms ?*RT. ?UPS, vehicles TOT 373 ACT 81 BUF 127)                            \r",
      "Step #600.00 (0ms ?*RT. ?UPS, vehicles TOT 435 ACT 82 BUF 65)                             \r",
      "Step #700.00 (1ms ~= 1000.00*RT, ~90000.00UPS, vehicles TOT 499 ACT 90 BUF 1)             \r",
      "Step #800.00 (1ms ~= 1000.00*RT, ~29000.00UPS, vehicles TOT 500 ACT 29 BUF 0)             \r",
      "Step #840.00 (0ms ?*RT. ?UPS, vehicles TOT 500 ACT 0 BUF 0)                               \r\n"
     ]
    },
    {
     "name": "stderr",
     "output_type": "stream",
     "text": [
      "Warning: Environment variable SUMO_HOME is not set properly, disabling XML validation. Set 'auto' or 'always' for web lookups.\n",
      " 64%|██████████████████████████               | 318/500 [03:19<01:59,  1.53it/s]"
     ]
    },
    {
     "name": "stdout",
     "output_type": "stream",
     "text": [
      "Step #0.00 (0ms ?*RT. ?UPS, vehicles TOT 1 ACT 1 BUF 0)                                   \r",
      "Step #100.00 (1ms ~= 1000.00*RT, ~60000.00UPS, vehicles TOT 113 ACT 60 BUF 387)           \r",
      "Step #200.00 (1ms ~= 1000.00*RT, ~86000.00UPS, vehicles TOT 193 ACT 86 BUF 307)           \r",
      "Step #300.00 (1ms ~= 1000.00*RT, ~72000.00UPS, vehicles TOT 239 ACT 72 BUF 261)           \r",
      "Step #400.00 (1ms ~= 1000.00*RT, ~76000.00UPS, vehicles TOT 301 ACT 76 BUF 199)           \r",
      "Step #500.00 (1ms ~= 1000.00*RT, ~70000.00UPS, vehicles TOT 356 ACT 70 BUF 144)           \r",
      "Step #600.00 (1ms ~= 1000.00*RT, ~73000.00UPS, vehicles TOT 419 ACT 73 BUF 81)            \r",
      "Step #700.00 (0ms ?*RT. ?UPS, vehicles TOT 485 ACT 82 BUF 15)                             \r",
      "Step #800.00 (1ms ~= 1000.00*RT, ~35000.00UPS, vehicles TOT 500 ACT 35 BUF 0)             \r",
      "Step #851.00 (0ms ?*RT. ?UPS, vehicles TOT 500 ACT 0 BUF 0)                               \r\n"
     ]
    },
    {
     "name": "stderr",
     "output_type": "stream",
     "text": [
      "Warning: Environment variable SUMO_HOME is not set properly, disabling XML validation. Set 'auto' or 'always' for web lookups.\n",
      " 64%|██████████████████████████▏              | 319/500 [03:19<02:04,  1.45it/s]"
     ]
    },
    {
     "name": "stdout",
     "output_type": "stream",
     "text": [
      "Step #0.00 (1ms ~= 1000.00*RT, ~1000.00UPS, vehicles TOT 1 ACT 1 BUF 0)                   \r",
      "Step #100.00 (1ms ~= 1000.00*RT, ~68000.00UPS, vehicles TOT 118 ACT 68 BUF 382)           \r",
      "Step #200.00 (1ms ~= 1000.00*RT, ~87000.00UPS, vehicles TOT 193 ACT 87 BUF 307)           \r",
      "Step #300.00 (1ms ~= 1000.00*RT, ~76000.00UPS, vehicles TOT 237 ACT 76 BUF 263)           \r",
      "Step #400.00 (0ms ?*RT. ?UPS, vehicles TOT 287 ACT 73 BUF 213)                            \r",
      "Step #500.00 (1ms ~= 1000.00*RT, ~74000.00UPS, vehicles TOT 353 ACT 74 BUF 147)           \r",
      "Step #600.00 (1ms ~= 1000.00*RT, ~73000.00UPS, vehicles TOT 417 ACT 73 BUF 83)            \r",
      "Step #700.00 (1ms ~= 1000.00*RT, ~72000.00UPS, vehicles TOT 475 ACT 72 BUF 25)            \r",
      "Step #800.00 (1ms ~= 1000.00*RT, ~43000.00UPS, vehicles TOT 500 ACT 43 BUF 0)             \r",
      "Step #860.00 (0ms ?*RT. ?UPS, vehicles TOT 500 ACT 0 BUF 0)                               \r\n"
     ]
    },
    {
     "name": "stderr",
     "output_type": "stream",
     "text": [
      "Warning: Environment variable SUMO_HOME is not set properly, disabling XML validation. Set 'auto' or 'always' for web lookups.\n",
      " 64%|██████████████████████████▏              | 320/500 [03:20<02:07,  1.41it/s]"
     ]
    },
    {
     "name": "stdout",
     "output_type": "stream",
     "text": [
      "Step #0.00 (0ms ?*RT. ?UPS, vehicles TOT 1 ACT 1 BUF 0)                                   \r",
      "Step #100.00 (1ms ~= 1000.00*RT, ~65000.00UPS, vehicles TOT 115 ACT 65 BUF 385)           \r",
      "Step #200.00 (1ms ~= 1000.00*RT, ~65000.00UPS, vehicles TOT 173 ACT 65 BUF 327)           \r",
      "Step #300.00 (1ms ~= 1000.00*RT, ~83000.00UPS, vehicles TOT 251 ACT 83 BUF 249)           \r",
      "Step #400.00 (1ms ~= 1000.00*RT, ~68000.00UPS, vehicles TOT 298 ACT 68 BUF 202)           \r",
      "Step #500.00 (0ms ?*RT. ?UPS, vehicles TOT 373 ACT 86 BUF 127)                            \r",
      "Step #600.00 (0ms ?*RT. ?UPS, vehicles TOT 426 ACT 85 BUF 74)                             \r",
      "Step #700.00 (1ms ~= 1000.00*RT, ~80000.00UPS, vehicles TOT 479 ACT 80 BUF 21)            \r",
      "Step #800.00 (1ms ~= 1000.00*RT, ~44000.00UPS, vehicles TOT 500 ACT 44 BUF 0)             \r",
      "Step #868.00 (0ms ?*RT. ?UPS, vehicles TOT 500 ACT 0 BUF 0)                               \r\n"
     ]
    },
    {
     "name": "stderr",
     "output_type": "stream",
     "text": [
      "Warning: Environment variable SUMO_HOME is not set properly, disabling XML validation. Set 'auto' or 'always' for web lookups.\n",
      " 64%|██████████████████████████▎              | 321/500 [03:21<02:10,  1.38it/s]"
     ]
    },
    {
     "name": "stdout",
     "output_type": "stream",
     "text": [
      "Step #0.00 (0ms ?*RT. ?UPS, vehicles TOT 1 ACT 1 BUF 0)                                   \r",
      "Step #100.00 (1ms ~= 1000.00*RT, ~65000.00UPS, vehicles TOT 118 ACT 65 BUF 382)           \r",
      "Step #200.00 (0ms ?*RT. ?UPS, vehicles TOT 187 ACT 77 BUF 313)                            \r",
      "Step #300.00 (1ms ~= 1000.00*RT, ~83000.00UPS, vehicles TOT 250 ACT 83 BUF 250)           \r",
      "Step #400.00 (0ms ?*RT. ?UPS, vehicles TOT 302 ACT 76 BUF 198)                            \r",
      "Step #500.00 (0ms ?*RT. ?UPS, vehicles TOT 368 ACT 83 BUF 132)                            \r",
      "Step #600.00 (1ms ~= 1000.00*RT, ~76000.00UPS, vehicles TOT 421 ACT 76 BUF 79)            \r",
      "Step #700.00 (1ms ~= 1000.00*RT, ~89000.00UPS, vehicles TOT 490 ACT 89 BUF 10)            \r",
      "Step #800.00 (0ms ?*RT. ?UPS, vehicles TOT 500 ACT 42 BUF 0)                              \r",
      "Step #863.00 (0ms ?*RT. ?UPS, vehicles TOT 500 ACT 0 BUF 0)                               \r\n"
     ]
    },
    {
     "name": "stderr",
     "output_type": "stream",
     "text": [
      "Warning: Environment variable SUMO_HOME is not set properly, disabling XML validation. Set 'auto' or 'always' for web lookups.\n",
      " 64%|██████████████████████████▍              | 322/500 [03:22<02:11,  1.35it/s]"
     ]
    },
    {
     "name": "stdout",
     "output_type": "stream",
     "text": [
      "Step #0.00 (0ms ?*RT. ?UPS, vehicles TOT 1 ACT 1 BUF 0)                                   \r",
      "Step #100.00 (1ms ~= 1000.00*RT, ~63000.00UPS, vehicles TOT 117 ACT 63 BUF 383)           \r",
      "Step #200.00 (1ms ~= 1000.00*RT, ~87000.00UPS, vehicles TOT 192 ACT 87 BUF 308)           \r",
      "Step #300.00 (0ms ?*RT. ?UPS, vehicles TOT 235 ACT 74 BUF 265)                            \r",
      "Step #400.00 (1ms ~= 1000.00*RT, ~75000.00UPS, vehicles TOT 298 ACT 75 BUF 202)           \r",
      "Step #500.00 (1ms ~= 1000.00*RT, ~80000.00UPS, vehicles TOT 365 ACT 80 BUF 135)           \r",
      "Step #600.00 (1ms ~= 1000.00*RT, ~74000.00UPS, vehicles TOT 418 ACT 74 BUF 82)            \r",
      "Step #700.00 (0ms ?*RT. ?UPS, vehicles TOT 491 ACT 87 BUF 9)                              \r",
      "Step #800.00 (0ms ?*RT. ?UPS, vehicles TOT 500 ACT 36 BUF 0)                              \r",
      "Step #856.00 (0ms ?*RT. ?UPS, vehicles TOT 500 ACT 0 BUF 0)                               \r\n"
     ]
    },
    {
     "name": "stderr",
     "output_type": "stream",
     "text": [
      "Warning: Environment variable SUMO_HOME is not set properly, disabling XML validation. Set 'auto' or 'always' for web lookups.\n",
      " 65%|██████████████████████████▍              | 323/500 [03:22<02:11,  1.35it/s]"
     ]
    },
    {
     "name": "stdout",
     "output_type": "stream",
     "text": [
      "Step #0.00 (1ms ~= 1000.00*RT, ~1000.00UPS, vehicles TOT 1 ACT 1 BUF 0)                   \r",
      "Step #100.00 (1ms ~= 1000.00*RT, ~64000.00UPS, vehicles TOT 117 ACT 64 BUF 383)           \r",
      "Step #200.00 (1ms ~= 1000.00*RT, ~83000.00UPS, vehicles TOT 195 ACT 83 BUF 305)           \r",
      "Step #300.00 (1ms ~= 1000.00*RT, ~77000.00UPS, vehicles TOT 245 ACT 77 BUF 255)           \r",
      "Step #400.00 (1ms ~= 1000.00*RT, ~77000.00UPS, vehicles TOT 302 ACT 77 BUF 198)           \r",
      "Step #500.00 (0ms ?*RT. ?UPS, vehicles TOT 357 ACT 73 BUF 143)                            \r",
      "Step #600.00 (0ms ?*RT. ?UPS, vehicles TOT 416 ACT 72 BUF 84)                             \r",
      "Step #700.00 (1ms ~= 1000.00*RT, ~71000.00UPS, vehicles TOT 468 ACT 71 BUF 32)            \r",
      "Step #800.00 (1ms ~= 1000.00*RT, ~44000.00UPS, vehicles TOT 500 ACT 44 BUF 0)             \r",
      "Step #864.00 (0ms ?*RT. ?UPS, vehicles TOT 500 ACT 0 BUF 0)                               \r\n"
     ]
    },
    {
     "name": "stderr",
     "output_type": "stream",
     "text": [
      "Warning: Environment variable SUMO_HOME is not set properly, disabling XML validation. Set 'auto' or 'always' for web lookups.\n",
      " 65%|██████████████████████████▌              | 324/500 [03:23<02:11,  1.33it/s]"
     ]
    },
    {
     "name": "stdout",
     "output_type": "stream",
     "text": [
      "Step #0.00 (1ms ~= 1000.00*RT, ~1000.00UPS, vehicles TOT 1 ACT 1 BUF 0)                   \r",
      "Step #100.00 (1ms ~= 1000.00*RT, ~65000.00UPS, vehicles TOT 115 ACT 65 BUF 385)           \r",
      "Step #200.00 (1ms ~= 1000.00*RT, ~67000.00UPS, vehicles TOT 179 ACT 67 BUF 321)           \r",
      "Step #300.00 (0ms ?*RT. ?UPS, vehicles TOT 250 ACT 80 BUF 250)                            \r",
      "Step #400.00 (1ms ~= 1000.00*RT, ~80000.00UPS, vehicles TOT 308 ACT 80 BUF 192)           \r",
      "Step #500.00 (1ms ~= 1000.00*RT, ~67000.00UPS, vehicles TOT 358 ACT 67 BUF 142)           \r",
      "Step #600.00 (1ms ~= 1000.00*RT, ~89000.00UPS, vehicles TOT 438 ACT 89 BUF 62)            \r",
      "Step #700.00 (1ms ~= 1000.00*RT, ~80000.00UPS, vehicles TOT 486 ACT 80 BUF 14)            \r",
      "Step #800.00 (1ms ~= 1000.00*RT, ~34000.00UPS, vehicles TOT 500 ACT 34 BUF 0)             \r",
      "Step #849.00 (0ms ?*RT. ?UPS, vehicles TOT 500 ACT 0 BUF 0)                               \r\n"
     ]
    },
    {
     "name": "stderr",
     "output_type": "stream",
     "text": [
      "Warning: Environment variable SUMO_HOME is not set properly, disabling XML validation. Set 'auto' or 'always' for web lookups.\n",
      " 65%|██████████████████████████▋              | 325/500 [03:24<02:11,  1.33it/s]"
     ]
    },
    {
     "name": "stdout",
     "output_type": "stream",
     "text": [
      "Step #0.00 (0ms ?*RT. ?UPS, vehicles TOT 1 ACT 1 BUF 0)                                   \r",
      "Step #100.00 (1ms ~= 1000.00*RT, ~63000.00UPS, vehicles TOT 113 ACT 63 BUF 387)           \r",
      "Step #200.00 (1ms ~= 1000.00*RT, ~87000.00UPS, vehicles TOT 193 ACT 87 BUF 307)           \r",
      "Step #300.00 (1ms ~= 1000.00*RT, ~67000.00UPS, vehicles TOT 229 ACT 67 BUF 271)           \r",
      "Step #400.00 (1ms ~= 1000.00*RT, ~84000.00UPS, vehicles TOT 304 ACT 84 BUF 196)           \r",
      "Step #500.00 (1ms ~= 1000.00*RT, ~66000.00UPS, vehicles TOT 346 ACT 66 BUF 154)           \r",
      "Step #600.00 (1ms ~= 1000.00*RT, ~84000.00UPS, vehicles TOT 424 ACT 84 BUF 76)            \r",
      "Step #700.00 (0ms ?*RT. ?UPS, vehicles TOT 476 ACT 75 BUF 24)                             \r",
      "Step #800.00 (1ms ~= 1000.00*RT, ~43000.00UPS, vehicles TOT 500 ACT 43 BUF 0)             \r",
      "Step #863.00 (0ms ?*RT. ?UPS, vehicles TOT 500 ACT 0 BUF 0)                               \r\n"
     ]
    },
    {
     "name": "stderr",
     "output_type": "stream",
     "text": [
      "Warning: Environment variable SUMO_HOME is not set properly, disabling XML validation. Set 'auto' or 'always' for web lookups.\n",
      " 65%|██████████████████████████▋              | 326/500 [03:25<02:12,  1.32it/s]"
     ]
    },
    {
     "name": "stdout",
     "output_type": "stream",
     "text": [
      "Step #0.00 (0ms ?*RT. ?UPS, vehicles TOT 1 ACT 1 BUF 0)                                   \r",
      "Step #100.00 (1ms ~= 1000.00*RT, ~62000.00UPS, vehicles TOT 114 ACT 62 BUF 386)           \r",
      "Step #200.00 (1ms ~= 1000.00*RT, ~75000.00UPS, vehicles TOT 182 ACT 75 BUF 318)           \r",
      "Step #300.00 (1ms ~= 1000.00*RT, ~90000.00UPS, vehicles TOT 252 ACT 90 BUF 248)           \r",
      "Step #400.00 (1ms ~= 1000.00*RT, ~81000.00UPS, vehicles TOT 301 ACT 81 BUF 199)           \r",
      "Step #500.00 (0ms ?*RT. ?UPS, vehicles TOT 342 ACT 65 BUF 158)                            \r",
      "Step #600.00 (1ms ~= 1000.00*RT, ~78000.00UPS, vehicles TOT 414 ACT 78 BUF 86)            \r",
      "Step #700.00 (1ms ~= 1000.00*RT, ~91000.00UPS, vehicles TOT 484 ACT 91 BUF 16)            \r",
      "Step #800.00 (0ms ?*RT. ?UPS, vehicles TOT 500 ACT 46 BUF 0)                              \r",
      "Step #867.00 (0ms ?*RT. ?UPS, vehicles TOT 500 ACT 0 BUF 0)                               \r\n"
     ]
    },
    {
     "name": "stderr",
     "output_type": "stream",
     "text": [
      "Warning: Environment variable SUMO_HOME is not set properly, disabling XML validation. Set 'auto' or 'always' for web lookups.\n",
      " 65%|██████████████████████████▊              | 327/500 [03:25<02:09,  1.34it/s]"
     ]
    },
    {
     "name": "stdout",
     "output_type": "stream",
     "text": [
      "Step #0.00 (1ms ~= 1000.00*RT, ~1000.00UPS, vehicles TOT 1 ACT 1 BUF 0)                   \r",
      "Step #100.00 (1ms ~= 1000.00*RT, ~63000.00UPS, vehicles TOT 115 ACT 63 BUF 385)           \r",
      "Step #200.00 (0ms ?*RT. ?UPS, vehicles TOT 185 ACT 70 BUF 315)                            \r",
      "Step #300.00 (1ms ~= 1000.00*RT, ~76000.00UPS, vehicles TOT 248 ACT 76 BUF 252)           \r",
      "Step #400.00 (1ms ~= 1000.00*RT, ~84000.00UPS, vehicles TOT 315 ACT 84 BUF 185)           \r",
      "Step #500.00 (1ms ~= 1000.00*RT, ~67000.00UPS, vehicles TOT 358 ACT 67 BUF 142)           \r",
      "Step #600.00 (1ms ~= 1000.00*RT, ~79000.00UPS, vehicles TOT 428 ACT 79 BUF 72)            \r",
      "Step #700.00 (1ms ~= 1000.00*RT, ~91000.00UPS, vehicles TOT 497 ACT 91 BUF 3)             \r",
      "Step #800.00 (0ms ?*RT. ?UPS, vehicles TOT 500 ACT 30 BUF 0)                              \r",
      "Step #842.00 (1ms ~= 1000.00*RT, ~0.00UPS, vehicles TOT 500 ACT 0 BUF 0)                  \r\n"
     ]
    },
    {
     "name": "stderr",
     "output_type": "stream",
     "text": [
      "Warning: Environment variable SUMO_HOME is not set properly, disabling XML validation. Set 'auto' or 'always' for web lookups.\n",
      " 66%|██████████████████████████▉              | 328/500 [03:26<01:51,  1.54it/s]"
     ]
    },
    {
     "name": "stdout",
     "output_type": "stream",
     "text": [
      "Step #0.00 (0ms ?*RT. ?UPS, vehicles TOT 1 ACT 1 BUF 0)                                   \r",
      "Step #100.00 (1ms ~= 1000.00*RT, ~68000.00UPS, vehicles TOT 121 ACT 68 BUF 379)           \r",
      "Step #200.00 (0ms ?*RT. ?UPS, vehicles TOT 195 ACT 84 BUF 305)                            \r",
      "Step #300.00 (0ms ?*RT. ?UPS, vehicles TOT 241 ACT 73 BUF 259)                            \r",
      "Step #400.00 (0ms ?*RT. ?UPS, vehicles TOT 314 ACT 84 BUF 186)                            \r",
      "Step #500.00 (1ms ~= 1000.00*RT, ~82000.00UPS, vehicles TOT 368 ACT 82 BUF 132)           \r",
      "Step #600.00 (0ms ?*RT. ?UPS, vehicles TOT 434 ACT 87 BUF 66)                             \r",
      "Step #700.00 (1ms ~= 1000.00*RT, ~76000.00UPS, vehicles TOT 480 ACT 76 BUF 20)            \r",
      "Step #800.00 (0ms ?*RT. ?UPS, vehicles TOT 500 ACT 40 BUF 0)                              \r",
      "Step #862.00 (0ms ?*RT. ?UPS, vehicles TOT 500 ACT 0 BUF 0)                               \r\n"
     ]
    },
    {
     "name": "stderr",
     "output_type": "stream",
     "text": [
      "Warning: Environment variable SUMO_HOME is not set properly, disabling XML validation. Set 'auto' or 'always' for web lookups.\n",
      " 66%|██████████████████████████▉              | 329/500 [03:26<01:39,  1.72it/s]"
     ]
    },
    {
     "name": "stdout",
     "output_type": "stream",
     "text": [
      "Step #0.00 (0ms ?*RT. ?UPS, vehicles TOT 1 ACT 1 BUF 0)                                   \r",
      "Step #100.00 (0ms ?*RT. ?UPS, vehicles TOT 115 ACT 62 BUF 385)                            \r",
      "Step #200.00 (1ms ~= 1000.00*RT, ~81000.00UPS, vehicles TOT 192 ACT 81 BUF 308)           \r",
      "Step #300.00 (1ms ~= 1000.00*RT, ~70000.00UPS, vehicles TOT 239 ACT 70 BUF 261)           \r",
      "Step #400.00 (1ms ~= 1000.00*RT, ~82000.00UPS, vehicles TOT 306 ACT 82 BUF 194)           \r",
      "Step #500.00 (0ms ?*RT. ?UPS, vehicles TOT 353 ACT 64 BUF 147)                            \r",
      "Step #600.00 (1ms ~= 1000.00*RT, ~85000.00UPS, vehicles TOT 428 ACT 85 BUF 72)            \r",
      "Step #700.00 (1ms ~= 1000.00*RT, ~76000.00UPS, vehicles TOT 481 ACT 76 BUF 19)            \r",
      "Step #800.00 (0ms ?*RT. ?UPS, vehicles TOT 500 ACT 37 BUF 0)                              \r",
      "Step #857.00 (0ms ?*RT. ?UPS, vehicles TOT 500 ACT 0 BUF 0)                               \r\n"
     ]
    },
    {
     "name": "stderr",
     "output_type": "stream",
     "text": [
      "Warning: Environment variable SUMO_HOME is not set properly, disabling XML validation. Set 'auto' or 'always' for web lookups.\n",
      " 66%|███████████████████████████              | 330/500 [03:27<01:30,  1.88it/s]"
     ]
    },
    {
     "name": "stdout",
     "output_type": "stream",
     "text": [
      "Step #0.00 (0ms ?*RT. ?UPS, vehicles TOT 1 ACT 1 BUF 0)                                   \r",
      "Step #100.00 (1ms ~= 1000.00*RT, ~62000.00UPS, vehicles TOT 117 ACT 62 BUF 383)           \r",
      "Step #200.00 (0ms ?*RT. ?UPS, vehicles TOT 194 ACT 80 BUF 306)                            \r",
      "Step #300.00 (0ms ?*RT. ?UPS, vehicles TOT 243 ACT 70 BUF 257)                            \r",
      "Step #400.00 (0ms ?*RT. ?UPS, vehicles TOT 308 ACT 75 BUF 192)                            \r",
      "Step #500.00 (0ms ?*RT. ?UPS, vehicles TOT 371 ACT 78 BUF 129)                            \r",
      "Step #600.00 (0ms ?*RT. ?UPS, vehicles TOT 423 ACT 68 BUF 77)                             \r",
      "Step #700.00 (0ms ?*RT. ?UPS, vehicles TOT 496 ACT 84 BUF 4)                              \r",
      "Step #800.00 (0ms ?*RT. ?UPS, vehicles TOT 500 ACT 30 BUF 0)                              \r",
      "Step #842.00 (0ms ?*RT. ?UPS, vehicles TOT 500 ACT 0 BUF 0)                               \r\n"
     ]
    },
    {
     "name": "stderr",
     "output_type": "stream",
     "text": [
      "Warning: Environment variable SUMO_HOME is not set properly, disabling XML validation. Set 'auto' or 'always' for web lookups.\n",
      " 66%|███████████████████████████▏             | 331/500 [03:27<01:24,  2.00it/s]"
     ]
    },
    {
     "name": "stdout",
     "output_type": "stream",
     "text": [
      "Step #0.00 (0ms ?*RT. ?UPS, vehicles TOT 1 ACT 1 BUF 0)                                   \r",
      "Step #100.00 (0ms ?*RT. ?UPS, vehicles TOT 102 ACT 50 BUF 398)                            \r",
      "Step #200.00 (1ms ~= 1000.00*RT, ~76000.00UPS, vehicles TOT 187 ACT 76 BUF 313)           \r",
      "Step #300.00 (1ms ~= 1000.00*RT, ~62000.00UPS, vehicles TOT 234 ACT 62 BUF 266)           \r",
      "Step #400.00 (1ms ~= 1000.00*RT, ~81000.00UPS, vehicles TOT 309 ACT 81 BUF 191)           \r",
      "Step #500.00 (0ms ?*RT. ?UPS, vehicles TOT 374 ACT 94 BUF 126)                            \r",
      "Step #600.00 (0ms ?*RT. ?UPS, vehicles TOT 411 ACT 69 BUF 89)                             \r",
      "Step #700.00 (1ms ~= 1000.00*RT, ~73000.00UPS, vehicles TOT 479 ACT 73 BUF 21)            \r",
      "Step #800.00 (1ms ~= 1000.00*RT, ~36000.00UPS, vehicles TOT 500 ACT 36 BUF 0)             \r",
      "Step #851.00 (0ms ?*RT. ?UPS, vehicles TOT 500 ACT 0 BUF 0)                               \r\n"
     ]
    },
    {
     "name": "stderr",
     "output_type": "stream",
     "text": [
      "Warning: Environment variable SUMO_HOME is not set properly, disabling XML validation. Set 'auto' or 'always' for web lookups.\n",
      " 66%|███████████████████████████▏             | 332/500 [03:27<01:19,  2.11it/s]"
     ]
    },
    {
     "name": "stdout",
     "output_type": "stream",
     "text": [
      "Step #0.00 (0ms ?*RT. ?UPS, vehicles TOT 1 ACT 1 BUF 0)                                   \r",
      "Step #100.00 (1ms ~= 1000.00*RT, ~65000.00UPS, vehicles TOT 117 ACT 65 BUF 383)           \r",
      "Step #200.00 (1ms ~= 1000.00*RT, ~81000.00UPS, vehicles TOT 193 ACT 81 BUF 307)           \r",
      "Step #300.00 (0ms ?*RT. ?UPS, vehicles TOT 248 ACT 80 BUF 252)                            \r",
      "Step #400.00 (0ms ?*RT. ?UPS, vehicles TOT 301 ACT 73 BUF 199)                            \r",
      "Step #500.00 (0ms ?*RT. ?UPS, vehicles TOT 357 ACT 69 BUF 143)                            \r",
      "Step #600.00 (0ms ?*RT. ?UPS, vehicles TOT 419 ACT 65 BUF 81)                             \r",
      "Step #700.00 (0ms ?*RT. ?UPS, vehicles TOT 484 ACT 73 BUF 16)                             \r",
      "Step #800.00 (0ms ?*RT. ?UPS, vehicles TOT 500 ACT 31 BUF 0)                              \r",
      "Step #844.00 (0ms ?*RT. ?UPS, vehicles TOT 500 ACT 0 BUF 0)                               \r\n"
     ]
    },
    {
     "name": "stderr",
     "output_type": "stream",
     "text": [
      "Warning: Environment variable SUMO_HOME is not set properly, disabling XML validation. Set 'auto' or 'always' for web lookups.\n",
      " 67%|███████████████████████████▎             | 333/500 [03:28<01:15,  2.20it/s]"
     ]
    },
    {
     "name": "stdout",
     "output_type": "stream",
     "text": [
      "Step #0.00 (0ms ?*RT. ?UPS, vehicles TOT 1 ACT 1 BUF 0)                                   \r",
      "Step #100.00 (1ms ~= 1000.00*RT, ~56000.00UPS, vehicles TOT 108 ACT 56 BUF 392)           \r",
      "Step #200.00 (0ms ?*RT. ?UPS, vehicles TOT 185 ACT 74 BUF 315)                            \r",
      "Step #300.00 (1ms ~= 1000.00*RT, ~74000.00UPS, vehicles TOT 242 ACT 74 BUF 258)           \r",
      "Step #400.00 (1ms ~= 1000.00*RT, ~76000.00UPS, vehicles TOT 299 ACT 76 BUF 201)           \r",
      "Step #500.00 (0ms ?*RT. ?UPS, vehicles TOT 350 ACT 69 BUF 150)                            \r",
      "Step #600.00 (0ms ?*RT. ?UPS, vehicles TOT 405 ACT 63 BUF 95)                             \r",
      "Step #700.00 (0ms ?*RT. ?UPS, vehicles TOT 465 ACT 60 BUF 35)                             \r",
      "Step #800.00 (1ms ~= 1000.00*RT, ~36000.00UPS, vehicles TOT 500 ACT 36 BUF 0)             \r",
      "Step #852.00 (0ms ?*RT. ?UPS, vehicles TOT 500 ACT 0 BUF 0)                               \r\n"
     ]
    },
    {
     "name": "stderr",
     "output_type": "stream",
     "text": [
      "Warning: Environment variable SUMO_HOME is not set properly, disabling XML validation. Set 'auto' or 'always' for web lookups.\n",
      " 67%|███████████████████████████▍             | 334/500 [03:28<01:12,  2.28it/s]"
     ]
    },
    {
     "name": "stdout",
     "output_type": "stream",
     "text": [
      "Step #0.00 (1ms ~= 1000.00*RT, ~1000.00UPS, vehicles TOT 1 ACT 1 BUF 0)                   \r",
      "Step #100.00 (0ms ?*RT. ?UPS, vehicles TOT 113 ACT 60 BUF 387)                            \r",
      "Step #200.00 (0ms ?*RT. ?UPS, vehicles TOT 192 ACT 83 BUF 308)                            \r",
      "Step #300.00 (0ms ?*RT. ?UPS, vehicles TOT 247 ACT 71 BUF 253)                            \r",
      "Step #400.00 (0ms ?*RT. ?UPS, vehicles TOT 312 ACT 71 BUF 188)                            \r",
      "Step #500.00 (1ms ~= 1000.00*RT, ~86000.00UPS, vehicles TOT 382 ACT 86 BUF 118)           \r",
      "Step #600.00 (1ms ~= 1000.00*RT, ~78000.00UPS, vehicles TOT 431 ACT 78 BUF 69)            \r",
      "Step #700.00 (0ms ?*RT. ?UPS, vehicles TOT 484 ACT 74 BUF 16)                             \r",
      "Step #800.00 (0ms ?*RT. ?UPS, vehicles TOT 500 ACT 29 BUF 0)                              \r",
      "Step #846.00 (0ms ?*RT. ?UPS, vehicles TOT 500 ACT 0 BUF 0)                               \r\n"
     ]
    },
    {
     "name": "stderr",
     "output_type": "stream",
     "text": [
      "Warning: Environment variable SUMO_HOME is not set properly, disabling XML validation. Set 'auto' or 'always' for web lookups.\n",
      " 67%|███████████████████████████▍             | 335/500 [03:29<01:12,  2.28it/s]"
     ]
    },
    {
     "name": "stdout",
     "output_type": "stream",
     "text": [
      "Step #0.00 (1ms ~= 1000.00*RT, ~1000.00UPS, vehicles TOT 1 ACT 1 BUF 0)                   \r",
      "Step #100.00 (1ms ~= 1000.00*RT, ~64000.00UPS, vehicles TOT 115 ACT 64 BUF 385)           \r",
      "Step #200.00 (0ms ?*RT. ?UPS, vehicles TOT 193 ACT 88 BUF 307)                            \r",
      "Step #300.00 (0ms ?*RT. ?UPS, vehicles TOT 242 ACT 77 BUF 258)                            \r",
      "Step #400.00 (1ms ~= 1000.00*RT, ~74000.00UPS, vehicles TOT 298 ACT 74 BUF 202)           \r",
      "Step #500.00 (0ms ?*RT. ?UPS, vehicles TOT 344 ACT 61 BUF 156)                            \r",
      "Step #600.00 (0ms ?*RT. ?UPS, vehicles TOT 419 ACT 82 BUF 81)                             \r",
      "Step #700.00 (1ms ~= 1000.00*RT, ~75000.00UPS, vehicles TOT 466 ACT 75 BUF 34)            \r",
      "Step #800.00 (0ms ?*RT. ?UPS, vehicles TOT 500 ACT 53 BUF 0)                              \r",
      "Step #884.00 (0ms ?*RT. ?UPS, vehicles TOT 500 ACT 0 BUF 0)                               \r\n"
     ]
    },
    {
     "name": "stderr",
     "output_type": "stream",
     "text": [
      "Warning: Environment variable SUMO_HOME is not set properly, disabling XML validation. Set 'auto' or 'always' for web lookups.\n",
      " 67%|███████████████████████████▌             | 336/500 [03:29<01:10,  2.33it/s]"
     ]
    },
    {
     "name": "stdout",
     "output_type": "stream",
     "text": [
      "Step #0.00 (0ms ?*RT. ?UPS, vehicles TOT 1 ACT 1 BUF 0)                                   \r",
      "Step #100.00 (0ms ?*RT. ?UPS, vehicles TOT 117 ACT 63 BUF 383)                            \r",
      "Step #200.00 (0ms ?*RT. ?UPS, vehicles TOT 184 ACT 72 BUF 316)                            \r",
      "Step #300.00 (1ms ~= 1000.00*RT, ~83000.00UPS, vehicles TOT 251 ACT 83 BUF 249)           \r",
      "Step #400.00 (0ms ?*RT. ?UPS, vehicles TOT 299 ACT 66 BUF 201)                            \r",
      "Step #500.00 (0ms ?*RT. ?UPS, vehicles TOT 359 ACT 65 BUF 141)                            \r",
      "Step #600.00 (0ms ?*RT. ?UPS, vehicles TOT 422 ACT 69 BUF 78)                             \r",
      "Step #700.00 (1ms ~= 1000.00*RT, ~83000.00UPS, vehicles TOT 493 ACT 83 BUF 7)             \r",
      "Step #800.00 (1ms ~= 1000.00*RT, ~30000.00UPS, vehicles TOT 500 ACT 30 BUF 0)             \r",
      "Step #842.00 (0ms ?*RT. ?UPS, vehicles TOT 500 ACT 0 BUF 0)                               \r\n"
     ]
    },
    {
     "name": "stderr",
     "output_type": "stream",
     "text": [
      "Warning: Environment variable SUMO_HOME is not set properly, disabling XML validation. Set 'auto' or 'always' for web lookups.\n",
      " 67%|███████████████████████████▋             | 337/500 [03:30<01:10,  2.32it/s]"
     ]
    },
    {
     "name": "stdout",
     "output_type": "stream",
     "text": [
      "Step #0.00 (0ms ?*RT. ?UPS, vehicles TOT 1 ACT 1 BUF 0)                                   \r",
      "Step #100.00 (0ms ?*RT. ?UPS, vehicles TOT 115 ACT 63 BUF 385)                            \r",
      "Step #200.00 (0ms ?*RT. ?UPS, vehicles TOT 181 ACT 67 BUF 319)                            \r",
      "Step #300.00 (1ms ~= 1000.00*RT, ~79000.00UPS, vehicles TOT 249 ACT 79 BUF 251)           \r",
      "Step #400.00 (1ms ~= 1000.00*RT, ~69000.00UPS, vehicles TOT 294 ACT 69 BUF 206)           \r",
      "Step #500.00 (1ms ~= 1000.00*RT, ~76000.00UPS, vehicles TOT 356 ACT 76 BUF 144)           \r",
      "Step #600.00 (0ms ?*RT. ?UPS, vehicles TOT 413 ACT 81 BUF 87)                             \r",
      "Step #700.00 (0ms ?*RT. ?UPS, vehicles TOT 464 ACT 76 BUF 36)                             \r",
      "Step #800.00 (0ms ?*RT. ?UPS, vehicles TOT 500 ACT 53 BUF 0)                              \r",
      "Step #879.00 (1ms ~= 1000.00*RT, ~0.00UPS, vehicles TOT 500 ACT 0 BUF 0)                  \r\n"
     ]
    },
    {
     "name": "stderr",
     "output_type": "stream",
     "text": [
      "Warning: Environment variable SUMO_HOME is not set properly, disabling XML validation. Set 'auto' or 'always' for web lookups.\n",
      " 68%|███████████████████████████▋             | 338/500 [03:30<01:09,  2.33it/s]"
     ]
    },
    {
     "name": "stdout",
     "output_type": "stream",
     "text": [
      "Step #0.00 (1ms ~= 1000.00*RT, ~1000.00UPS, vehicles TOT 1 ACT 1 BUF 0)                   \r",
      "Step #100.00 (1ms ~= 1000.00*RT, ~60000.00UPS, vehicles TOT 112 ACT 60 BUF 388)           \r",
      "Step #200.00 (0ms ?*RT. ?UPS, vehicles TOT 168 ACT 63 BUF 332)                            \r",
      "Step #300.00 (1ms ~= 1000.00*RT, ~82000.00UPS, vehicles TOT 244 ACT 82 BUF 256)           \r",
      "Step #400.00 (1ms ~= 1000.00*RT, ~64000.00UPS, vehicles TOT 287 ACT 64 BUF 213)           \r",
      "Step #500.00 (0ms ?*RT. ?UPS, vehicles TOT 350 ACT 67 BUF 150)                            \r",
      "Step #600.00 (0ms ?*RT. ?UPS, vehicles TOT 407 ACT 70 BUF 93)                             \r",
      "Step #700.00 (0ms ?*RT. ?UPS, vehicles TOT 462 ACT 69 BUF 38)                             \r",
      "Step #800.00 (0ms ?*RT. ?UPS, vehicles TOT 500 ACT 50 BUF 0)                              \r",
      "Step #874.00 (0ms ?*RT. ?UPS, vehicles TOT 500 ACT 0 BUF 0)                               \r\n"
     ]
    },
    {
     "name": "stderr",
     "output_type": "stream",
     "text": [
      "Warning: Environment variable SUMO_HOME is not set properly, disabling XML validation. Set 'auto' or 'always' for web lookups.\n",
      " 68%|███████████████████████████▊             | 339/500 [03:30<01:10,  2.30it/s]"
     ]
    },
    {
     "name": "stdout",
     "output_type": "stream",
     "text": [
      "Step #0.00 (1ms ~= 1000.00*RT, ~1000.00UPS, vehicles TOT 1 ACT 1 BUF 0)                   \r",
      "Step #100.00 (1ms ~= 1000.00*RT, ~60000.00UPS, vehicles TOT 110 ACT 60 BUF 390)           \r",
      "Step #200.00 (0ms ?*RT. ?UPS, vehicles TOT 181 ACT 77 BUF 319)                            \r",
      "Step #300.00 (1ms ~= 1000.00*RT, ~58000.00UPS, vehicles TOT 227 ACT 58 BUF 273)           \r",
      "Step #400.00 (0ms ?*RT. ?UPS, vehicles TOT 302 ACT 79 BUF 198)                            \r",
      "Step #500.00 (1ms ~= 1000.00*RT, ~66000.00UPS, vehicles TOT 347 ACT 66 BUF 153)           \r",
      "Step #600.00 (1ms ~= 1000.00*RT, ~64000.00UPS, vehicles TOT 412 ACT 64 BUF 88)            \r",
      "Step #700.00 (1ms ~= 1000.00*RT, ~85000.00UPS, vehicles TOT 483 ACT 85 BUF 17)            \r",
      "Step #800.00 (0ms ?*RT. ?UPS, vehicles TOT 500 ACT 41 BUF 0)                              \r",
      "Step #862.00 (0ms ?*RT. ?UPS, vehicles TOT 500 ACT 0 BUF 0)                               \r\n"
     ]
    },
    {
     "name": "stderr",
     "output_type": "stream",
     "text": [
      "Warning: Environment variable SUMO_HOME is not set properly, disabling XML validation. Set 'auto' or 'always' for web lookups.\n",
      " 68%|███████████████████████████▉             | 340/500 [03:31<01:08,  2.33it/s]"
     ]
    },
    {
     "name": "stdout",
     "output_type": "stream",
     "text": [
      "Step #0.00 (0ms ?*RT. ?UPS, vehicles TOT 1 ACT 1 BUF 0)                                   \r",
      "Step #100.00 (1ms ~= 1000.00*RT, ~64000.00UPS, vehicles TOT 116 ACT 64 BUF 384)           \r",
      "Step #200.00 (0ms ?*RT. ?UPS, vehicles TOT 184 ACT 71 BUF 316)                            \r",
      "Step #300.00 (0ms ?*RT. ?UPS, vehicles TOT 254 ACT 85 BUF 246)                            \r",
      "Step #400.00 (0ms ?*RT. ?UPS, vehicles TOT 290 ACT 61 BUF 210)                            \r",
      "Step #500.00 (1ms ~= 1000.00*RT, ~70000.00UPS, vehicles TOT 359 ACT 70 BUF 141)           \r",
      "Step #600.00 (0ms ?*RT. ?UPS, vehicles TOT 416 ACT 68 BUF 84)                             \r",
      "Step #700.00 (1ms ~= 1000.00*RT, ~69000.00UPS, vehicles TOT 476 ACT 69 BUF 24)            \r",
      "Step #800.00 (0ms ?*RT. ?UPS, vehicles TOT 500 ACT 34 BUF 0)                              \r",
      "Step #851.00 (0ms ?*RT. ?UPS, vehicles TOT 500 ACT 0 BUF 0)                               \r\n"
     ]
    },
    {
     "name": "stderr",
     "output_type": "stream",
     "text": [
      "Warning: Environment variable SUMO_HOME is not set properly, disabling XML validation. Set 'auto' or 'always' for web lookups.\n",
      " 68%|███████████████████████████▉             | 341/500 [03:31<01:08,  2.31it/s]"
     ]
    },
    {
     "name": "stdout",
     "output_type": "stream",
     "text": [
      "Step #0.00 (1ms ~= 1000.00*RT, ~1000.00UPS, vehicles TOT 1 ACT 1 BUF 0)                   \r",
      "Step #100.00 (0ms ?*RT. ?UPS, vehicles TOT 111 ACT 59 BUF 389)                            \r",
      "Step #200.00 (1ms ~= 1000.00*RT, ~77000.00UPS, vehicles TOT 186 ACT 77 BUF 314)           \r",
      "Step #300.00 (1ms ~= 1000.00*RT, ~82000.00UPS, vehicles TOT 248 ACT 82 BUF 252)           \r",
      "Step #400.00 (1ms ~= 1000.00*RT, ~87000.00UPS, vehicles TOT 310 ACT 87 BUF 190)           \r",
      "Step #500.00 (1ms ~= 1000.00*RT, ~72000.00UPS, vehicles TOT 349 ACT 72 BUF 151)           \r",
      "Step #600.00 (0ms ?*RT. ?UPS, vehicles TOT 414 ACT 70 BUF 86)                             \r",
      "Step #700.00 (1ms ~= 1000.00*RT, ~87000.00UPS, vehicles TOT 485 ACT 87 BUF 15)            \r",
      "Step #800.00 (0ms ?*RT. ?UPS, vehicles TOT 500 ACT 43 BUF 0)                              \r",
      "Step #866.00 (0ms ?*RT. ?UPS, vehicles TOT 500 ACT 0 BUF 0)                               \r\n"
     ]
    },
    {
     "name": "stderr",
     "output_type": "stream",
     "text": [
      "Warning: Environment variable SUMO_HOME is not set properly, disabling XML validation. Set 'auto' or 'always' for web lookups.\n",
      " 68%|████████████████████████████             | 342/500 [03:32<01:07,  2.32it/s]"
     ]
    },
    {
     "name": "stdout",
     "output_type": "stream",
     "text": [
      "Step #0.00 (0ms ?*RT. ?UPS, vehicles TOT 1 ACT 1 BUF 0)                                   \r",
      "Step #100.00 (1ms ~= 1000.00*RT, ~64000.00UPS, vehicles TOT 116 ACT 64 BUF 384)           \r",
      "Step #200.00 (0ms ?*RT. ?UPS, vehicles TOT 185 ACT 77 BUF 315)                            \r",
      "Step #300.00 (0ms ?*RT. ?UPS, vehicles TOT 237 ACT 71 BUF 263)                            \r",
      "Step #400.00 (0ms ?*RT. ?UPS, vehicles TOT 307 ACT 79 BUF 193)                            \r",
      "Step #500.00 (0ms ?*RT. ?UPS, vehicles TOT 362 ACT 76 BUF 138)                            \r",
      "Step #600.00 (1ms ~= 1000.00*RT, ~79000.00UPS, vehicles TOT 421 ACT 79 BUF 79)            \r",
      "Step #700.00 (0ms ?*RT. ?UPS, vehicles TOT 468 ACT 64 BUF 32)                             \r",
      "Step #800.00 (0ms ?*RT. ?UPS, vehicles TOT 500 ACT 40 BUF 0)                              \r",
      "Step #861.00 (0ms ?*RT. ?UPS, vehicles TOT 500 ACT 0 BUF 0)                               \r\n"
     ]
    },
    {
     "name": "stderr",
     "output_type": "stream",
     "text": [
      "Warning: Environment variable SUMO_HOME is not set properly, disabling XML validation. Set 'auto' or 'always' for web lookups.\n",
      " 69%|████████████████████████████▏            | 343/500 [03:32<01:07,  2.31it/s]"
     ]
    },
    {
     "name": "stdout",
     "output_type": "stream",
     "text": [
      "Step #0.00 (0ms ?*RT. ?UPS, vehicles TOT 1 ACT 1 BUF 0)                                   \r",
      "Step #100.00 (1ms ~= 1000.00*RT, ~61000.00UPS, vehicles TOT 113 ACT 61 BUF 387)           \r",
      "Step #200.00 (1ms ~= 1000.00*RT, ~79000.00UPS, vehicles TOT 189 ACT 79 BUF 311)           \r",
      "Step #300.00 (1ms ~= 1000.00*RT, ~84000.00UPS, vehicles TOT 253 ACT 84 BUF 247)           \r",
      "Step #400.00 (0ms ?*RT. ?UPS, vehicles TOT 301 ACT 71 BUF 199)                            \r",
      "Step #500.00 (0ms ?*RT. ?UPS, vehicles TOT 354 ACT 64 BUF 146)                            \r",
      "Step #600.00 (0ms ?*RT. ?UPS, vehicles TOT 429 ACT 83 BUF 71)                             \r",
      "Step #700.00 (0ms ?*RT. ?UPS, vehicles TOT 473 ACT 66 BUF 27)                             \r",
      "Step #800.00 (0ms ?*RT. ?UPS, vehicles TOT 500 ACT 39 BUF 0)                              \r",
      "Step #860.00 (0ms ?*RT. ?UPS, vehicles TOT 500 ACT 0 BUF 0)                               \r\n"
     ]
    },
    {
     "name": "stderr",
     "output_type": "stream",
     "text": [
      "Warning: Environment variable SUMO_HOME is not set properly, disabling XML validation. Set 'auto' or 'always' for web lookups.\n",
      " 69%|████████████████████████████▏            | 344/500 [03:33<01:15,  2.07it/s]"
     ]
    },
    {
     "name": "stdout",
     "output_type": "stream",
     "text": [
      "Step #0.00 (1ms ~= 1000.00*RT, ~1000.00UPS, vehicles TOT 1 ACT 1 BUF 0)                   \r",
      "Step #100.00 (1ms ~= 1000.00*RT, ~65000.00UPS, vehicles TOT 116 ACT 65 BUF 384)           \r",
      "Step #200.00 (0ms ?*RT. ?UPS, vehicles TOT 179 ACT 71 BUF 321)                            \r",
      "Step #300.00 (1ms ~= 1000.00*RT, ~57000.00UPS, vehicles TOT 229 ACT 57 BUF 271)           \r",
      "Step #400.00 (1ms ~= 1000.00*RT, ~74000.00UPS, vehicles TOT 299 ACT 74 BUF 201)           \r",
      "Step #500.00 (1ms ~= 1000.00*RT, ~88000.00UPS, vehicles TOT 372 ACT 88 BUF 128)           \r",
      "Step #600.00 (1ms ~= 1000.00*RT, ~76000.00UPS, vehicles TOT 412 ACT 76 BUF 88)            \r",
      "Step #700.00 (0ms ?*RT. ?UPS, vehicles TOT 453 ACT 62 BUF 47)                             \r",
      "Step #800.00 (1ms ~= 1000.00*RT, ~49000.00UPS, vehicles TOT 500 ACT 49 BUF 0)             \r",
      "Step #877.00 (0ms ?*RT. ?UPS, vehicles TOT 500 ACT 0 BUF 0)                               \r\n"
     ]
    },
    {
     "name": "stderr",
     "output_type": "stream",
     "text": [
      "Warning: Environment variable SUMO_HOME is not set properly, disabling XML validation. Set 'auto' or 'always' for web lookups.\n",
      " 69%|████████████████████████████▎            | 345/500 [03:34<01:27,  1.77it/s]"
     ]
    },
    {
     "name": "stdout",
     "output_type": "stream",
     "text": [
      "Step #0.00 (0ms ?*RT. ?UPS, vehicles TOT 1 ACT 1 BUF 0)                                   \r",
      "Step #100.00 (1ms ~= 1000.00*RT, ~57000.00UPS, vehicles TOT 111 ACT 57 BUF 389)           \r",
      "Step #200.00 (1ms ~= 1000.00*RT, ~71000.00UPS, vehicles TOT 184 ACT 71 BUF 316)           \r",
      "Step #300.00 (1ms ~= 1000.00*RT, ~77000.00UPS, vehicles TOT 246 ACT 77 BUF 254)           \r",
      "Step #400.00 (1ms ~= 1000.00*RT, ~66000.00UPS, vehicles TOT 296 ACT 66 BUF 204)           \r",
      "Step #500.00 (0ms ?*RT. ?UPS, vehicles TOT 366 ACT 82 BUF 134)                            \r",
      "Step #600.00 (0ms ?*RT. ?UPS, vehicles TOT 408 ACT 66 BUF 92)                             \r",
      "Step #700.00 (1ms ~= 1000.00*RT, ~77000.00UPS, vehicles TOT 473 ACT 77 BUF 27)            \r",
      "Step #800.00 (1ms ~= 1000.00*RT, ~41000.00UPS, vehicles TOT 500 ACT 41 BUF 0)             \r",
      "Step #859.00 (0ms ?*RT. ?UPS, vehicles TOT 500 ACT 0 BUF 0)                               \r\n"
     ]
    },
    {
     "name": "stderr",
     "output_type": "stream",
     "text": [
      "Warning: Environment variable SUMO_HOME is not set properly, disabling XML validation. Set 'auto' or 'always' for web lookups.\n",
      " 69%|████████████████████████████▎            | 346/500 [03:34<01:36,  1.60it/s]"
     ]
    },
    {
     "name": "stdout",
     "output_type": "stream",
     "text": [
      "Step #0.00 (0ms ?*RT. ?UPS, vehicles TOT 1 ACT 1 BUF 0)                                   \r",
      "Step #100.00 (1ms ~= 1000.00*RT, ~60000.00UPS, vehicles TOT 112 ACT 60 BUF 388)           \r",
      "Step #200.00 (1ms ~= 1000.00*RT, ~75000.00UPS, vehicles TOT 185 ACT 75 BUF 315)           \r",
      "Step #300.00 (1ms ~= 1000.00*RT, ~71000.00UPS, vehicles TOT 242 ACT 71 BUF 258)           \r",
      "Step #400.00 (1ms ~= 1000.00*RT, ~78000.00UPS, vehicles TOT 310 ACT 78 BUF 190)           \r",
      "Step #500.00 (1ms ~= 1000.00*RT, ~93000.00UPS, vehicles TOT 377 ACT 93 BUF 123)           \r",
      "Step #600.00 (1ms ~= 1000.00*RT, ~79000.00UPS, vehicles TOT 419 ACT 79 BUF 81)            \r",
      "Step #700.00 (1ms ~= 1000.00*RT, ~90000.00UPS, vehicles TOT 485 ACT 90 BUF 15)            \r",
      "Step #800.00 (0ms ?*RT. ?UPS, vehicles TOT 500 ACT 46 BUF 0)                              \r",
      "Step #868.00 (0ms ?*RT. ?UPS, vehicles TOT 500 ACT 0 BUF 0)                               \r\n"
     ]
    },
    {
     "name": "stderr",
     "output_type": "stream",
     "text": [
      "Warning: Environment variable SUMO_HOME is not set properly, disabling XML validation. Set 'auto' or 'always' for web lookups.\n",
      " 69%|████████████████████████████▍            | 347/500 [03:35<01:40,  1.52it/s]"
     ]
    },
    {
     "name": "stdout",
     "output_type": "stream",
     "text": [
      "Step #0.00 (0ms ?*RT. ?UPS, vehicles TOT 1 ACT 1 BUF 0)                                   \r",
      "Step #100.00 (1ms ~= 1000.00*RT, ~47000.00UPS, vehicles TOT 101 ACT 47 BUF 399)           \r",
      "Step #200.00 (0ms ?*RT. ?UPS, vehicles TOT 177 ACT 57 BUF 323)                            \r",
      "Step #300.00 (1ms ~= 1000.00*RT, ~80000.00UPS, vehicles TOT 252 ACT 80 BUF 248)           \r",
      "Step #400.00 (0ms ?*RT. ?UPS, vehicles TOT 297 ACT 70 BUF 203)                            \r",
      "Step #500.00 (1ms ~= 1000.00*RT, ~73000.00UPS, vehicles TOT 356 ACT 73 BUF 144)           \r",
      "Step #600.00 (0ms ?*RT. ?UPS, vehicles TOT 404 ACT 68 BUF 96)                             \r",
      "Step #700.00 (0ms ?*RT. ?UPS, vehicles TOT 477 ACT 82 BUF 23)                             \r",
      "Step #800.00 (1ms ~= 1000.00*RT, ~49000.00UPS, vehicles TOT 500 ACT 49 BUF 0)             \r",
      "Step #876.00 (0ms ?*RT. ?UPS, vehicles TOT 500 ACT 0 BUF 0)                               \r\n"
     ]
    },
    {
     "name": "stderr",
     "output_type": "stream",
     "text": [
      "Warning: Environment variable SUMO_HOME is not set properly, disabling XML validation. Set 'auto' or 'always' for web lookups.\n",
      " 70%|████████████████████████████▌            | 348/500 [03:36<01:44,  1.46it/s]"
     ]
    },
    {
     "name": "stdout",
     "output_type": "stream",
     "text": [
      "Step #0.00 (0ms ?*RT. ?UPS, vehicles TOT 1 ACT 1 BUF 0)                                   \r",
      "Step #100.00 (1ms ~= 1000.00*RT, ~65000.00UPS, vehicles TOT 114 ACT 65 BUF 386)           \r",
      "Step #200.00 (1ms ~= 1000.00*RT, ~84000.00UPS, vehicles TOT 187 ACT 84 BUF 313)           \r",
      "Step #300.00 (1ms ~= 1000.00*RT, ~60000.00UPS, vehicles TOT 223 ACT 60 BUF 277)           \r",
      "Step #400.00 (1ms ~= 1000.00*RT, ~64000.00UPS, vehicles TOT 279 ACT 64 BUF 221)           \r",
      "Step #500.00 (1ms ~= 1000.00*RT, ~85000.00UPS, vehicles TOT 358 ACT 85 BUF 142)           \r",
      "Step #600.00 (1ms ~= 1000.00*RT, ~70000.00UPS, vehicles TOT 402 ACT 70 BUF 98)            \r",
      "Step #700.00 (1ms ~= 1000.00*RT, ~78000.00UPS, vehicles TOT 469 ACT 78 BUF 31)            \r",
      "Step #800.00 (0ms ?*RT. ?UPS, vehicles TOT 500 ACT 49 BUF 0)                              \r",
      "Step #874.00 (0ms ?*RT. ?UPS, vehicles TOT 500 ACT 0 BUF 0)                               \r\n"
     ]
    },
    {
     "name": "stderr",
     "output_type": "stream",
     "text": [
      "Warning: Environment variable SUMO_HOME is not set properly, disabling XML validation. Set 'auto' or 'always' for web lookups.\n",
      " 70%|████████████████████████████▌            | 349/500 [03:37<01:46,  1.42it/s]"
     ]
    },
    {
     "name": "stdout",
     "output_type": "stream",
     "text": [
      "Step #0.00 (0ms ?*RT. ?UPS, vehicles TOT 1 ACT 1 BUF 0)                                   \r",
      "Step #100.00 (1ms ~= 1000.00*RT, ~62000.00UPS, vehicles TOT 116 ACT 62 BUF 384)           \r",
      "Step #200.00 (1ms ~= 1000.00*RT, ~63000.00UPS, vehicles TOT 173 ACT 63 BUF 327)           \r",
      "Step #300.00 (1ms ~= 1000.00*RT, ~64000.00UPS, vehicles TOT 228 ACT 64 BUF 272)           \r",
      "Step #400.00 (1ms ~= 1000.00*RT, ~77000.00UPS, vehicles TOT 296 ACT 77 BUF 204)           \r",
      "Step #500.00 (1ms ~= 1000.00*RT, ~71000.00UPS, vehicles TOT 349 ACT 71 BUF 151)           \r",
      "Step #600.00 (1ms ~= 1000.00*RT, ~81000.00UPS, vehicles TOT 413 ACT 81 BUF 87)            \r",
      "Step #700.00 (1ms ~= 1000.00*RT, ~65000.00UPS, vehicles TOT 458 ACT 65 BUF 42)            \r",
      "Step #800.00 (0ms ?*RT. ?UPS, vehicles TOT 500 ACT 54 BUF 0)                              \r",
      "Step #886.00 (0ms ?*RT. ?UPS, vehicles TOT 500 ACT 0 BUF 0)                               \r\n"
     ]
    },
    {
     "name": "stderr",
     "output_type": "stream",
     "text": [
      "Warning: Environment variable SUMO_HOME is not set properly, disabling XML validation. Set 'auto' or 'always' for web lookups.\n",
      " 70%|████████████████████████████▋            | 350/500 [03:37<01:46,  1.41it/s]"
     ]
    },
    {
     "name": "stdout",
     "output_type": "stream",
     "text": [
      "Step #0.00 (0ms ?*RT. ?UPS, vehicles TOT 1 ACT 1 BUF 0)                                   \r",
      "Step #100.00 (1ms ~= 1000.00*RT, ~64000.00UPS, vehicles TOT 114 ACT 64 BUF 386)           \r",
      "Step #200.00 (1ms ~= 1000.00*RT, ~60000.00UPS, vehicles TOT 168 ACT 60 BUF 332)           \r",
      "Step #300.00 (1ms ~= 1000.00*RT, ~73000.00UPS, vehicles TOT 243 ACT 73 BUF 257)           \r",
      "Step #400.00 (1ms ~= 1000.00*RT, ~66000.00UPS, vehicles TOT 296 ACT 66 BUF 204)           \r",
      "Step #500.00 (0ms ?*RT. ?UPS, vehicles TOT 365 ACT 73 BUF 135)                            \r",
      "Step #600.00 (0ms ?*RT. ?UPS, vehicles TOT 432 ACT 85 BUF 68)                             \r",
      "Step #700.00 (0ms ?*RT. ?UPS, vehicles TOT 460 ACT 55 BUF 40)                             \r",
      "Step #800.00 (0ms ?*RT. ?UPS, vehicles TOT 500 ACT 28 BUF 0)                              \r",
      "Step #841.00 (0ms ?*RT. ?UPS, vehicles TOT 500 ACT 0 BUF 0)                               \r\n"
     ]
    },
    {
     "name": "stderr",
     "output_type": "stream",
     "text": [
      "Warning: Environment variable SUMO_HOME is not set properly, disabling XML validation. Set 'auto' or 'always' for web lookups.\n",
      " 70%|████████████████████████████▊            | 351/500 [03:38<01:47,  1.39it/s]"
     ]
    },
    {
     "name": "stdout",
     "output_type": "stream",
     "text": [
      "Step #0.00 (0ms ?*RT. ?UPS, vehicles TOT 1 ACT 1 BUF 0)                                   \r",
      "Step #100.00 (1ms ~= 1000.00*RT, ~59000.00UPS, vehicles TOT 111 ACT 59 BUF 389)           \r",
      "Step #200.00 (1ms ~= 1000.00*RT, ~73000.00UPS, vehicles TOT 185 ACT 73 BUF 315)           \r",
      "Step #300.00 (1ms ~= 1000.00*RT, ~74000.00UPS, vehicles TOT 240 ACT 74 BUF 260)           \r",
      "Step #400.00 (1ms ~= 1000.00*RT, ~77000.00UPS, vehicles TOT 298 ACT 77 BUF 202)           \r",
      "Step #500.00 (0ms ?*RT. ?UPS, vehicles TOT 343 ACT 67 BUF 157)                            \r",
      "Step #600.00 (1ms ~= 1000.00*RT, ~80000.00UPS, vehicles TOT 412 ACT 80 BUF 88)            \r",
      "Step #700.00 (0ms ?*RT. ?UPS, vehicles TOT 450 ACT 59 BUF 50)                             \r",
      "Step #800.00 (1ms ~= 1000.00*RT, ~55000.00UPS, vehicles TOT 500 ACT 55 BUF 0)             \r",
      "Step #885.00 (1ms ~= 1000.00*RT, ~0.00UPS, vehicles TOT 500 ACT 0 BUF 0)                  \r\n"
     ]
    },
    {
     "name": "stderr",
     "output_type": "stream",
     "text": [
      "Warning: Environment variable SUMO_HOME is not set properly, disabling XML validation. Set 'auto' or 'always' for web lookups.\n",
      " 70%|████████████████████████████▊            | 352/500 [03:39<01:48,  1.36it/s]"
     ]
    },
    {
     "name": "stdout",
     "output_type": "stream",
     "text": [
      "Step #0.00 (0ms ?*RT. ?UPS, vehicles TOT 1 ACT 1 BUF 0)                                   \r",
      "Step #100.00 (1ms ~= 1000.00*RT, ~64000.00UPS, vehicles TOT 116 ACT 64 BUF 384)           \r",
      "Step #200.00 (1ms ~= 1000.00*RT, ~80000.00UPS, vehicles TOT 190 ACT 80 BUF 310)           \r",
      "Step #300.00 (0ms ?*RT. ?UPS, vehicles TOT 251 ACT 85 BUF 249)                            \r",
      "Step #400.00 (1ms ~= 1000.00*RT, ~58000.00UPS, vehicles TOT 283 ACT 58 BUF 217)           \r",
      "Step #500.00 (0ms ?*RT. ?UPS, vehicles TOT 362 ACT 80 BUF 138)                            \r",
      "Step #600.00 (0ms ?*RT. ?UPS, vehicles TOT 407 ACT 67 BUF 93)                             \r",
      "Step #700.00 (1ms ~= 1000.00*RT, ~79000.00UPS, vehicles TOT 475 ACT 79 BUF 25)            \r",
      "Step #800.00 (1ms ~= 1000.00*RT, ~44000.00UPS, vehicles TOT 500 ACT 44 BUF 0)             \r",
      "Step #870.00 (1ms ~= 1000.00*RT, ~0.00UPS, vehicles TOT 500 ACT 0 BUF 0)                  \r\n"
     ]
    },
    {
     "name": "stderr",
     "output_type": "stream",
     "text": [
      "Warning: Environment variable SUMO_HOME is not set properly, disabling XML validation. Set 'auto' or 'always' for web lookups.\n",
      " 71%|████████████████████████████▉            | 353/500 [03:40<01:48,  1.36it/s]"
     ]
    },
    {
     "name": "stdout",
     "output_type": "stream",
     "text": [
      "Step #0.00 (1ms ~= 1000.00*RT, ~1000.00UPS, vehicles TOT 1 ACT 1 BUF 0)                   \r",
      "Step #100.00 (1ms ~= 1000.00*RT, ~61000.00UPS, vehicles TOT 111 ACT 61 BUF 389)           \r",
      "Step #200.00 (1ms ~= 1000.00*RT, ~86000.00UPS, vehicles TOT 191 ACT 86 BUF 309)           \r",
      "Step #300.00 (1ms ~= 1000.00*RT, ~74000.00UPS, vehicles TOT 231 ACT 74 BUF 269)           \r",
      "Step #400.00 (0ms ?*RT. ?UPS, vehicles TOT 273 ACT 54 BUF 227)                            \r",
      "Step #500.00 (0ms ?*RT. ?UPS, vehicles TOT 352 ACT 71 BUF 148)                            \r",
      "Step #600.00 (1ms ~= 1000.00*RT, ~73000.00UPS, vehicles TOT 411 ACT 73 BUF 89)            \r",
      "Step #700.00 (1ms ~= 1000.00*RT, ~79000.00UPS, vehicles TOT 474 ACT 79 BUF 26)            \r",
      "Step #800.00 (0ms ?*RT. ?UPS, vehicles TOT 500 ACT 45 BUF 0)                              \r",
      "Step #866.00 (0ms ?*RT. ?UPS, vehicles TOT 500 ACT 0 BUF 0)                               \r\n"
     ]
    },
    {
     "name": "stderr",
     "output_type": "stream",
     "text": [
      "Warning: Environment variable SUMO_HOME is not set properly, disabling XML validation. Set 'auto' or 'always' for web lookups.\n",
      " 71%|█████████████████████████████            | 354/500 [03:40<01:50,  1.32it/s]"
     ]
    },
    {
     "name": "stdout",
     "output_type": "stream",
     "text": [
      "Step #0.00 (1ms ~= 1000.00*RT, ~1000.00UPS, vehicles TOT 1 ACT 1 BUF 0)                   \r",
      "Step #100.00 (1ms ~= 1000.00*RT, ~56000.00UPS, vehicles TOT 110 ACT 56 BUF 390)           \r",
      "Step #200.00 (0ms ?*RT. ?UPS, vehicles TOT 180 ACT 71 BUF 320)                            \r",
      "Step #300.00 (1ms ~= 1000.00*RT, ~76000.00UPS, vehicles TOT 243 ACT 76 BUF 257)           \r",
      "Step #400.00 (0ms ?*RT. ?UPS, vehicles TOT 282 ACT 53 BUF 218)                            \r",
      "Step #500.00 (1ms ~= 1000.00*RT, ~73000.00UPS, vehicles TOT 360 ACT 73 BUF 140)           \r",
      "Step #600.00 (1ms ~= 1000.00*RT, ~72000.00UPS, vehicles TOT 411 ACT 72 BUF 89)            \r",
      "Step #700.00 (1ms ~= 1000.00*RT, ~66000.00UPS, vehicles TOT 466 ACT 66 BUF 34)            \r",
      "Step #800.00 (1ms ~= 1000.00*RT, ~40000.00UPS, vehicles TOT 500 ACT 40 BUF 0)             \r",
      "Step #859.00 (0ms ?*RT. ?UPS, vehicles TOT 500 ACT 0 BUF 0)                               \r\n"
     ]
    },
    {
     "name": "stderr",
     "output_type": "stream",
     "text": [
      "Warning: Environment variable SUMO_HOME is not set properly, disabling XML validation. Set 'auto' or 'always' for web lookups.\n",
      " 71%|█████████████████████████████            | 355/500 [03:41<01:35,  1.52it/s]"
     ]
    },
    {
     "name": "stdout",
     "output_type": "stream",
     "text": [
      "Step #0.00 (0ms ?*RT. ?UPS, vehicles TOT 1 ACT 1 BUF 0)                                   \r",
      "Step #100.00 (1ms ~= 1000.00*RT, ~58000.00UPS, vehicles TOT 112 ACT 58 BUF 388)           \r",
      "Step #200.00 (0ms ?*RT. ?UPS, vehicles TOT 190 ACT 74 BUF 310)                            \r",
      "Step #300.00 (0ms ?*RT. ?UPS, vehicles TOT 243 ACT 72 BUF 257)                            \r",
      "Step #400.00 (0ms ?*RT. ?UPS, vehicles TOT 279 ACT 56 BUF 221)                            \r",
      "Step #500.00 (1ms ~= 1000.00*RT, ~65000.00UPS, vehicles TOT 341 ACT 65 BUF 159)           \r",
      "Step #600.00 (1ms ~= 1000.00*RT, ~68000.00UPS, vehicles TOT 403 ACT 68 BUF 97)            \r",
      "Step #700.00 (0ms ?*RT. ?UPS, vehicles TOT 456 ACT 66 BUF 44)                             \r",
      "Step #800.00 (0ms ?*RT. ?UPS, vehicles TOT 500 ACT 52 BUF 0)                              \r",
      "Step #881.00 (0ms ?*RT. ?UPS, vehicles TOT 500 ACT 0 BUF 0)                               \r\n"
     ]
    },
    {
     "name": "stderr",
     "output_type": "stream",
     "text": [
      "Warning: Environment variable SUMO_HOME is not set properly, disabling XML validation. Set 'auto' or 'always' for web lookups.\n",
      " 71%|█████████████████████████████▏           | 356/500 [03:41<01:25,  1.69it/s]"
     ]
    },
    {
     "name": "stdout",
     "output_type": "stream",
     "text": [
      "Step #0.00 (1ms ~= 1000.00*RT, ~1000.00UPS, vehicles TOT 1 ACT 1 BUF 0)                   \r",
      "Step #100.00 (1ms ~= 1000.00*RT, ~62000.00UPS, vehicles TOT 115 ACT 62 BUF 385)           \r",
      "Step #200.00 (1ms ~= 1000.00*RT, ~82000.00UPS, vehicles TOT 189 ACT 82 BUF 311)           \r",
      "Step #300.00 (1ms ~= 1000.00*RT, ~68000.00UPS, vehicles TOT 232 ACT 68 BUF 268)           \r",
      "Step #400.00 (1ms ~= 1000.00*RT, ~66000.00UPS, vehicles TOT 288 ACT 66 BUF 212)           \r",
      "Step #500.00 (0ms ?*RT. ?UPS, vehicles TOT 356 ACT 81 BUF 144)                            \r",
      "Step #600.00 (0ms ?*RT. ?UPS, vehicles TOT 407 ACT 72 BUF 93)                             \r",
      "Step #700.00 (0ms ?*RT. ?UPS, vehicles TOT 457 ACT 67 BUF 43)                             \r",
      "Step #800.00 (1ms ~= 1000.00*RT, ~55000.00UPS, vehicles TOT 500 ACT 55 BUF 0)             \r",
      "Step #890.00 (0ms ?*RT. ?UPS, vehicles TOT 500 ACT 0 BUF 0)                               \r\n"
     ]
    },
    {
     "name": "stderr",
     "output_type": "stream",
     "text": [
      "Warning: Environment variable SUMO_HOME is not set properly, disabling XML validation. Set 'auto' or 'always' for web lookups.\n",
      " 71%|█████████████████████████████▎           | 357/500 [03:42<01:17,  1.85it/s]"
     ]
    },
    {
     "name": "stdout",
     "output_type": "stream",
     "text": [
      "Step #0.00 (0ms ?*RT. ?UPS, vehicles TOT 1 ACT 1 BUF 0)                                   \r",
      "Step #100.00 (1ms ~= 1000.00*RT, ~59000.00UPS, vehicles TOT 112 ACT 59 BUF 388)           \r",
      "Step #200.00 (1ms ~= 1000.00*RT, ~78000.00UPS, vehicles TOT 189 ACT 78 BUF 311)           \r",
      "Step #300.00 (0ms ?*RT. ?UPS, vehicles TOT 232 ACT 67 BUF 268)                            \r",
      "Step #400.00 (0ms ?*RT. ?UPS, vehicles TOT 307 ACT 87 BUF 193)                            \r",
      "Step #500.00 (1ms ~= 1000.00*RT, ~73000.00UPS, vehicles TOT 353 ACT 73 BUF 147)           \r",
      "Step #600.00 (0ms ?*RT. ?UPS, vehicles TOT 402 ACT 61 BUF 98)                             \r",
      "Step #700.00 (1ms ~= 1000.00*RT, ~81000.00UPS, vehicles TOT 477 ACT 81 BUF 23)            \r",
      "Step #800.00 (0ms ?*RT. ?UPS, vehicles TOT 500 ACT 53 BUF 0)                              \r",
      "Step #884.00 (0ms ?*RT. ?UPS, vehicles TOT 500 ACT 0 BUF 0)                               \r\n"
     ]
    },
    {
     "name": "stderr",
     "output_type": "stream",
     "text": [
      "Warning: Environment variable SUMO_HOME is not set properly, disabling XML validation. Set 'auto' or 'always' for web lookups.\n",
      " 72%|█████████████████████████████▎           | 358/500 [03:42<01:11,  2.00it/s]"
     ]
    },
    {
     "name": "stdout",
     "output_type": "stream",
     "text": [
      "Step #0.00 (0ms ?*RT. ?UPS, vehicles TOT 1 ACT 1 BUF 0)                                   \r",
      "Step #100.00 (1ms ~= 1000.00*RT, ~62000.00UPS, vehicles TOT 112 ACT 62 BUF 388)           \r",
      "Step #200.00 (1ms ~= 1000.00*RT, ~84000.00UPS, vehicles TOT 186 ACT 84 BUF 314)           \r",
      "Step #300.00 (0ms ?*RT. ?UPS, vehicles TOT 224 ACT 64 BUF 276)                            \r",
      "Step #400.00 (0ms ?*RT. ?UPS, vehicles TOT 299 ACT 78 BUF 201)                            \r",
      "Step #500.00 (1ms ~= 1000.00*RT, ~75000.00UPS, vehicles TOT 359 ACT 75 BUF 141)           \r",
      "Step #600.00 (0ms ?*RT. ?UPS, vehicles TOT 420 ACT 75 BUF 80)                             \r",
      "Step #700.00 (1ms ~= 1000.00*RT, ~69000.00UPS, vehicles TOT 469 ACT 69 BUF 31)            \r",
      "Step #800.00 (0ms ?*RT. ?UPS, vehicles TOT 500 ACT 36 BUF 0)                              \r",
      "Step #852.00 (0ms ?*RT. ?UPS, vehicles TOT 500 ACT 0 BUF 0)                               \r\n"
     ]
    },
    {
     "name": "stderr",
     "output_type": "stream",
     "text": [
      "Warning: Environment variable SUMO_HOME is not set properly, disabling XML validation. Set 'auto' or 'always' for web lookups.\n",
      " 72%|█████████████████████████████▍           | 359/500 [03:42<01:06,  2.12it/s]"
     ]
    },
    {
     "name": "stdout",
     "output_type": "stream",
     "text": [
      "Step #0.00 (0ms ?*RT. ?UPS, vehicles TOT 1 ACT 1 BUF 0)                                   \r",
      "Step #100.00 (0ms ?*RT. ?UPS, vehicles TOT 114 ACT 64 BUF 386)                            \r",
      "Step #200.00 (1ms ~= 1000.00*RT, ~64000.00UPS, vehicles TOT 175 ACT 64 BUF 325)           \r",
      "Step #300.00 (0ms ?*RT. ?UPS, vehicles TOT 233 ACT 58 BUF 267)                            \r",
      "Step #400.00 (0ms ?*RT. ?UPS, vehicles TOT 308 ACT 80 BUF 192)                            \r",
      "Step #500.00 (0ms ?*RT. ?UPS, vehicles TOT 346 ACT 55 BUF 154)                            \r",
      "Step #600.00 (1ms ~= 1000.00*RT, ~80000.00UPS, vehicles TOT 427 ACT 80 BUF 73)            \r",
      "Step #700.00 (0ms ?*RT. ?UPS, vehicles TOT 485 ACT 74 BUF 15)                             \r",
      "Step #800.00 (0ms ?*RT. ?UPS, vehicles TOT 500 ACT 30 BUF 0)                              \r",
      "Step #842.00 (0ms ?*RT. ?UPS, vehicles TOT 500 ACT 0 BUF 0)                               \r\n"
     ]
    },
    {
     "name": "stderr",
     "output_type": "stream",
     "text": [
      "Warning: Environment variable SUMO_HOME is not set properly, disabling XML validation. Set 'auto' or 'always' for web lookups.\n",
      " 72%|█████████████████████████████▌           | 360/500 [03:43<01:03,  2.21it/s]"
     ]
    },
    {
     "name": "stdout",
     "output_type": "stream",
     "text": [
      "Step #0.00 (0ms ?*RT. ?UPS, vehicles TOT 1 ACT 1 BUF 0)                                   \r",
      "Step #100.00 (0ms ?*RT. ?UPS, vehicles TOT 112 ACT 59 BUF 388)                            \r",
      "Step #200.00 (0ms ?*RT. ?UPS, vehicles TOT 189 ACT 76 BUF 311)                            \r",
      "Step #300.00 (1ms ~= 1000.00*RT, ~76000.00UPS, vehicles TOT 251 ACT 76 BUF 249)           \r",
      "Step #400.00 (0ms ?*RT. ?UPS, vehicles TOT 307 ACT 77 BUF 193)                            \r",
      "Step #500.00 (0ms ?*RT. ?UPS, vehicles TOT 361 ACT 69 BUF 139)                            \r",
      "Step #600.00 (1ms ~= 1000.00*RT, ~61000.00UPS, vehicles TOT 414 ACT 61 BUF 86)            \r",
      "Step #700.00 (0ms ?*RT. ?UPS, vehicles TOT 478 ACT 65 BUF 22)                             \r",
      "Step #800.00 (0ms ?*RT. ?UPS, vehicles TOT 500 ACT 25 BUF 0)                              \r",
      "Step #837.00 (0ms ?*RT. ?UPS, vehicles TOT 500 ACT 0 BUF 0)                               \r\n"
     ]
    },
    {
     "name": "stderr",
     "output_type": "stream",
     "text": [
      "Warning: Environment variable SUMO_HOME is not set properly, disabling XML validation. Set 'auto' or 'always' for web lookups.\n",
      " 72%|█████████████████████████████▌           | 361/500 [03:43<01:01,  2.27it/s]"
     ]
    },
    {
     "name": "stdout",
     "output_type": "stream",
     "text": [
      "Step #0.00 (0ms ?*RT. ?UPS, vehicles TOT 1 ACT 1 BUF 0)                                   \r",
      "Step #100.00 (1ms ~= 1000.00*RT, ~58000.00UPS, vehicles TOT 111 ACT 58 BUF 389)           \r",
      "Step #200.00 (0ms ?*RT. ?UPS, vehicles TOT 183 ACT 75 BUF 317)                            \r",
      "Step #300.00 (1ms ~= 1000.00*RT, ~63000.00UPS, vehicles TOT 233 ACT 63 BUF 267)           \r",
      "Step #400.00 (1ms ~= 1000.00*RT, ~77000.00UPS, vehicles TOT 308 ACT 77 BUF 192)           \r",
      "Step #500.00 (1ms ~= 1000.00*RT, ~84000.00UPS, vehicles TOT 375 ACT 84 BUF 125)           \r",
      "Step #600.00 (0ms ?*RT. ?UPS, vehicles TOT 424 ACT 76 BUF 76)                             \r",
      "Step #700.00 (0ms ?*RT. ?UPS, vehicles TOT 476 ACT 72 BUF 24)                             \r",
      "Step #800.00 (0ms ?*RT. ?UPS, vehicles TOT 500 ACT 36 BUF 0)                              \r",
      "Step #856.00 (0ms ?*RT. ?UPS, vehicles TOT 500 ACT 0 BUF 0)                               \r\n"
     ]
    },
    {
     "name": "stderr",
     "output_type": "stream",
     "text": [
      "Warning: Environment variable SUMO_HOME is not set properly, disabling XML validation. Set 'auto' or 'always' for web lookups.\n",
      " 72%|█████████████████████████████▋           | 362/500 [03:44<00:59,  2.32it/s]"
     ]
    },
    {
     "name": "stdout",
     "output_type": "stream",
     "text": [
      "Step #0.00 (0ms ?*RT. ?UPS, vehicles TOT 1 ACT 1 BUF 0)                                   \r",
      "Step #100.00 (0ms ?*RT. ?UPS, vehicles TOT 101 ACT 52 BUF 399)                            \r",
      "Step #200.00 (1ms ~= 1000.00*RT, ~79000.00UPS, vehicles TOT 184 ACT 79 BUF 316)           \r",
      "Step #300.00 (1ms ~= 1000.00*RT, ~75000.00UPS, vehicles TOT 237 ACT 75 BUF 263)           \r",
      "Step #400.00 (0ms ?*RT. ?UPS, vehicles TOT 285 ACT 60 BUF 215)                            \r",
      "Step #500.00 (1ms ~= 1000.00*RT, ~65000.00UPS, vehicles TOT 351 ACT 65 BUF 149)           \r",
      "Step #600.00 (0ms ?*RT. ?UPS, vehicles TOT 416 ACT 77 BUF 84)                             \r",
      "Step #700.00 (1ms ~= 1000.00*RT, ~64000.00UPS, vehicles TOT 462 ACT 64 BUF 38)            \r",
      "Step #800.00 (0ms ?*RT. ?UPS, vehicles TOT 500 ACT 48 BUF 0)                              \r",
      "Step #878.00 (0ms ?*RT. ?UPS, vehicles TOT 500 ACT 0 BUF 0)                               \r\n"
     ]
    },
    {
     "name": "stderr",
     "output_type": "stream",
     "text": [
      "Warning: Environment variable SUMO_HOME is not set properly, disabling XML validation. Set 'auto' or 'always' for web lookups.\n",
      " 73%|█████████████████████████████▊           | 363/500 [03:44<00:58,  2.36it/s]"
     ]
    },
    {
     "name": "stdout",
     "output_type": "stream",
     "text": [
      "Step #0.00 (0ms ?*RT. ?UPS, vehicles TOT 1 ACT 1 BUF 0)                                   \r",
      "Step #100.00 (0ms ?*RT. ?UPS, vehicles TOT 113 ACT 59 BUF 387)                            \r",
      "Step #200.00 (0ms ?*RT. ?UPS, vehicles TOT 178 ACT 63 BUF 322)                            \r",
      "Step #300.00 (1ms ~= 1000.00*RT, ~86000.00UPS, vehicles TOT 255 ACT 86 BUF 245)           \r",
      "Step #400.00 (1ms ~= 1000.00*RT, ~70000.00UPS, vehicles TOT 299 ACT 70 BUF 201)           \r",
      "Step #500.00 (0ms ?*RT. ?UPS, vehicles TOT 353 ACT 66 BUF 147)                            \r",
      "Step #600.00 (0ms ?*RT. ?UPS, vehicles TOT 402 ACT 56 BUF 98)                             \r",
      "Step #700.00 (0ms ?*RT. ?UPS, vehicles TOT 471 ACT 66 BUF 29)                             \r",
      "Step #800.00 (0ms ?*RT. ?UPS, vehicles TOT 500 ACT 41 BUF 0)                              \r",
      "Step #860.00 (0ms ?*RT. ?UPS, vehicles TOT 500 ACT 0 BUF 0)                               \r\n"
     ]
    },
    {
     "name": "stderr",
     "output_type": "stream",
     "text": [
      "Warning: Environment variable SUMO_HOME is not set properly, disabling XML validation. Set 'auto' or 'always' for web lookups.\n",
      " 73%|█████████████████████████████▊           | 364/500 [03:44<00:58,  2.33it/s]"
     ]
    },
    {
     "name": "stdout",
     "output_type": "stream",
     "text": [
      "Step #0.00 (0ms ?*RT. ?UPS, vehicles TOT 1 ACT 1 BUF 0)                                   \r",
      "Step #100.00 (0ms ?*RT. ?UPS, vehicles TOT 110 ACT 58 BUF 390)                            \r",
      "Step #200.00 (1ms ~= 1000.00*RT, ~76000.00UPS, vehicles TOT 183 ACT 76 BUF 317)           \r",
      "Step #300.00 (1ms ~= 1000.00*RT, ~67000.00UPS, vehicles TOT 235 ACT 67 BUF 265)           \r",
      "Step #400.00 (1ms ~= 1000.00*RT, ~83000.00UPS, vehicles TOT 308 ACT 83 BUF 192)           \r",
      "Step #500.00 (0ms ?*RT. ?UPS, vehicles TOT 353 ACT 66 BUF 147)                            \r",
      "Step #600.00 (1ms ~= 1000.00*RT, ~85000.00UPS, vehicles TOT 427 ACT 85 BUF 73)            \r",
      "Step #700.00 (0ms ?*RT. ?UPS, vehicles TOT 468 ACT 70 BUF 32)                             \r",
      "Step #800.00 (1ms ~= 1000.00*RT, ~45000.00UPS, vehicles TOT 500 ACT 45 BUF 0)             \r",
      "Step #873.00 (0ms ?*RT. ?UPS, vehicles TOT 500 ACT 0 BUF 0)                               \r\n"
     ]
    },
    {
     "name": "stderr",
     "output_type": "stream",
     "text": [
      "Warning: Environment variable SUMO_HOME is not set properly, disabling XML validation. Set 'auto' or 'always' for web lookups.\n",
      " 73%|█████████████████████████████▉           | 365/500 [03:45<00:57,  2.35it/s]"
     ]
    },
    {
     "name": "stdout",
     "output_type": "stream",
     "text": [
      "Step #0.00 (0ms ?*RT. ?UPS, vehicles TOT 1 ACT 1 BUF 0)                                   \r",
      "Step #100.00 (1ms ~= 1000.00*RT, ~59000.00UPS, vehicles TOT 112 ACT 59 BUF 388)           \r",
      "Step #200.00 (1ms ~= 1000.00*RT, ~81000.00UPS, vehicles TOT 188 ACT 81 BUF 312)           \r",
      "Step #300.00 (1ms ~= 1000.00*RT, ~66000.00UPS, vehicles TOT 231 ACT 66 BUF 269)           \r",
      "Step #400.00 (1ms ~= 1000.00*RT, ~82000.00UPS, vehicles TOT 302 ACT 82 BUF 198)           \r",
      "Step #500.00 (0ms ?*RT. ?UPS, vehicles TOT 335 ACT 58 BUF 165)                            \r",
      "Step #600.00 (1ms ~= 1000.00*RT, ~75000.00UPS, vehicles TOT 409 ACT 75 BUF 91)            \r",
      "Step #700.00 (1ms ~= 1000.00*RT, ~79000.00UPS, vehicles TOT 473 ACT 79 BUF 27)            \r",
      "Step #800.00 (0ms ?*RT. ?UPS, vehicles TOT 500 ACT 42 BUF 0)                              \r",
      "Step #860.00 (0ms ?*RT. ?UPS, vehicles TOT 500 ACT 0 BUF 0)                               \r\n"
     ]
    },
    {
     "name": "stderr",
     "output_type": "stream",
     "text": [
      "Warning: Environment variable SUMO_HOME is not set properly, disabling XML validation. Set 'auto' or 'always' for web lookups.\n",
      " 73%|██████████████████████████████           | 366/500 [03:45<00:57,  2.35it/s]"
     ]
    },
    {
     "name": "stdout",
     "output_type": "stream",
     "text": [
      "Step #0.00 (0ms ?*RT. ?UPS, vehicles TOT 1 ACT 1 BUF 0)                                   \r",
      "Step #100.00 (0ms ?*RT. ?UPS, vehicles TOT 110 ACT 58 BUF 390)                            \r",
      "Step #200.00 (0ms ?*RT. ?UPS, vehicles TOT 185 ACT 79 BUF 315)                            \r",
      "Step #300.00 (0ms ?*RT. ?UPS, vehicles TOT 223 ACT 66 BUF 277)                            \r",
      "Step #400.00 (0ms ?*RT. ?UPS, vehicles TOT 279 ACT 65 BUF 221)                            \r",
      "Step #500.00 (0ms ?*RT. ?UPS, vehicles TOT 336 ACT 68 BUF 164)                            \r",
      "Step #600.00 (1ms ~= 1000.00*RT, ~68000.00UPS, vehicles TOT 394 ACT 68 BUF 106)           \r",
      "Step #700.00 (0ms ?*RT. ?UPS, vehicles TOT 449 ACT 65 BUF 51)                             \r",
      "Step #800.00 (1ms ~= 1000.00*RT, ~61000.00UPS, vehicles TOT 500 ACT 61 BUF 0)             \r",
      "Step #895.00 (0ms ?*RT. ?UPS, vehicles TOT 500 ACT 0 BUF 0)                               \r\n"
     ]
    },
    {
     "name": "stderr",
     "output_type": "stream",
     "text": [
      "Warning: Environment variable SUMO_HOME is not set properly, disabling XML validation. Set 'auto' or 'always' for web lookups.\n",
      " 73%|██████████████████████████████           | 367/500 [03:46<00:56,  2.36it/s]"
     ]
    },
    {
     "name": "stdout",
     "output_type": "stream",
     "text": [
      "Step #0.00 (0ms ?*RT. ?UPS, vehicles TOT 1 ACT 1 BUF 0)                                   \r",
      "Step #100.00 (0ms ?*RT. ?UPS, vehicles TOT 103 ACT 48 BUF 397)                            \r",
      "Step #200.00 (1ms ~= 1000.00*RT, ~74000.00UPS, vehicles TOT 186 ACT 74 BUF 314)           \r",
      "Step #300.00 (0ms ?*RT. ?UPS, vehicles TOT 232 ACT 65 BUF 268)                            \r",
      "Step #400.00 (0ms ?*RT. ?UPS, vehicles TOT 295 ACT 72 BUF 205)                            \r",
      "Step #500.00 (1ms ~= 1000.00*RT, ~61000.00UPS, vehicles TOT 342 ACT 61 BUF 158)           \r",
      "Step #600.00 (0ms ?*RT. ?UPS, vehicles TOT 414 ACT 76 BUF 86)                             \r",
      "Step #700.00 (1ms ~= 1000.00*RT, ~81000.00UPS, vehicles TOT 478 ACT 81 BUF 22)            \r",
      "Step #800.00 (1ms ~= 1000.00*RT, ~43000.00UPS, vehicles TOT 500 ACT 43 BUF 0)             \r",
      "Step #862.00 (0ms ?*RT. ?UPS, vehicles TOT 500 ACT 0 BUF 0)                               \r\n"
     ]
    },
    {
     "name": "stderr",
     "output_type": "stream",
     "text": [
      "Warning: Environment variable SUMO_HOME is not set properly, disabling XML validation. Set 'auto' or 'always' for web lookups.\n",
      " 74%|██████████████████████████████▏          | 368/500 [03:46<00:55,  2.39it/s]"
     ]
    },
    {
     "name": "stdout",
     "output_type": "stream",
     "text": [
      "Step #0.00 (0ms ?*RT. ?UPS, vehicles TOT 1 ACT 1 BUF 0)                                   \r",
      "Step #100.00 (0ms ?*RT. ?UPS, vehicles TOT 112 ACT 59 BUF 388)                            \r",
      "Step #200.00 (0ms ?*RT. ?UPS, vehicles TOT 170 ACT 64 BUF 330)                            \r",
      "Step #300.00 (0ms ?*RT. ?UPS, vehicles TOT 240 ACT 80 BUF 260)                            \r",
      "Step #400.00 (1ms ~= 1000.00*RT, ~71000.00UPS, vehicles TOT 291 ACT 71 BUF 209)           \r",
      "Step #500.00 (0ms ?*RT. ?UPS, vehicles TOT 338 ACT 57 BUF 162)                            \r",
      "Step #600.00 (0ms ?*RT. ?UPS, vehicles TOT 406 ACT 67 BUF 94)                             \r",
      "Step #700.00 (1ms ~= 1000.00*RT, ~81000.00UPS, vehicles TOT 479 ACT 81 BUF 21)            \r",
      "Step #800.00 (0ms ?*RT. ?UPS, vehicles TOT 500 ACT 36 BUF 0)                              \r",
      "Step #854.00 (0ms ?*RT. ?UPS, vehicles TOT 500 ACT 0 BUF 0)                               \r\n"
     ]
    },
    {
     "name": "stderr",
     "output_type": "stream",
     "text": [
      "Warning: Environment variable SUMO_HOME is not set properly, disabling XML validation. Set 'auto' or 'always' for web lookups.\n",
      " 74%|██████████████████████████████▎          | 369/500 [03:47<00:54,  2.39it/s]"
     ]
    },
    {
     "name": "stdout",
     "output_type": "stream",
     "text": [
      "Step #0.00 (1ms ~= 1000.00*RT, ~1000.00UPS, vehicles TOT 1 ACT 1 BUF 0)                   \r",
      "Step #100.00 (1ms ~= 1000.00*RT, ~61000.00UPS, vehicles TOT 113 ACT 61 BUF 387)           \r",
      "Step #200.00 (0ms ?*RT. ?UPS, vehicles TOT 184 ACT 79 BUF 316)                            \r",
      "Step #300.00 (0ms ?*RT. ?UPS, vehicles TOT 229 ACT 61 BUF 271)                            \r",
      "Step #400.00 (1ms ~= 1000.00*RT, ~83000.00UPS, vehicles TOT 303 ACT 83 BUF 197)           \r",
      "Step #500.00 (0ms ?*RT. ?UPS, vehicles TOT 335 ACT 56 BUF 165)                            \r",
      "Step #600.00 (1ms ~= 1000.00*RT, ~77000.00UPS, vehicles TOT 413 ACT 77 BUF 87)            \r",
      "Step #700.00 (1ms ~= 1000.00*RT, ~73000.00UPS, vehicles TOT 465 ACT 73 BUF 35)            \r",
      "Step #800.00 (0ms ?*RT. ?UPS, vehicles TOT 500 ACT 48 BUF 0)                              \r",
      "Step #881.00 (0ms ?*RT. ?UPS, vehicles TOT 500 ACT 0 BUF 0)                               \r\n"
     ]
    },
    {
     "name": "stderr",
     "output_type": "stream",
     "text": [
      "Warning: Environment variable SUMO_HOME is not set properly, disabling XML validation. Set 'auto' or 'always' for web lookups.\n",
      " 74%|██████████████████████████████▎          | 370/500 [03:47<00:53,  2.41it/s]"
     ]
    },
    {
     "name": "stdout",
     "output_type": "stream",
     "text": [
      "Step #0.00 (0ms ?*RT. ?UPS, vehicles TOT 1 ACT 1 BUF 0)                                   \r",
      "Step #100.00 (1ms ~= 1000.00*RT, ~58000.00UPS, vehicles TOT 110 ACT 58 BUF 390)           \r",
      "Step #200.00 (1ms ~= 1000.00*RT, ~76000.00UPS, vehicles TOT 184 ACT 76 BUF 316)           \r",
      "Step #300.00 (1ms ~= 1000.00*RT, ~67000.00UPS, vehicles TOT 230 ACT 67 BUF 270)           \r",
      "Step #400.00 (0ms ?*RT. ?UPS, vehicles TOT 284 ACT 66 BUF 216)                            \r",
      "Step #500.00 (0ms ?*RT. ?UPS, vehicles TOT 346 ACT 68 BUF 154)                            \r",
      "Step #600.00 (1ms ~= 1000.00*RT, ~71000.00UPS, vehicles TOT 406 ACT 71 BUF 94)            \r",
      "Step #700.00 (0ms ?*RT. ?UPS, vehicles TOT 460 ACT 61 BUF 40)                             \r",
      "Step #800.00 (0ms ?*RT. ?UPS, vehicles TOT 500 ACT 47 BUF 0)                              \r",
      "Step #873.00 (0ms ?*RT. ?UPS, vehicles TOT 500 ACT 0 BUF 0)                               \r\n"
     ]
    },
    {
     "name": "stderr",
     "output_type": "stream",
     "text": [
      "Warning: Environment variable SUMO_HOME is not set properly, disabling XML validation. Set 'auto' or 'always' for web lookups.\n",
      " 74%|██████████████████████████████▍          | 371/500 [03:47<00:52,  2.45it/s]"
     ]
    },
    {
     "name": "stdout",
     "output_type": "stream",
     "text": [
      "Step #0.00 (0ms ?*RT. ?UPS, vehicles TOT 1 ACT 1 BUF 0)                                   \r",
      "Step #100.00 (0ms ?*RT. ?UPS, vehicles TOT 108 ACT 56 BUF 392)                            \r",
      "Step #200.00 (1ms ~= 1000.00*RT, ~74000.00UPS, vehicles TOT 179 ACT 74 BUF 321)           \r",
      "Step #300.00 (1ms ~= 1000.00*RT, ~67000.00UPS, vehicles TOT 232 ACT 67 BUF 268)           \r",
      "Step #400.00 (0ms ?*RT. ?UPS, vehicles TOT 290 ACT 63 BUF 210)                            \r",
      "Step #500.00 (0ms ?*RT. ?UPS, vehicles TOT 349 ACT 67 BUF 151)                            \r",
      "Step #600.00 (1ms ~= 1000.00*RT, ~77000.00UPS, vehicles TOT 418 ACT 77 BUF 82)            \r",
      "Step #700.00 (0ms ?*RT. ?UPS, vehicles TOT 466 ACT 63 BUF 34)                             \r",
      "Step #800.00 (0ms ?*RT. ?UPS, vehicles TOT 500 ACT 36 BUF 0)                              \r",
      "Step #860.00 (0ms ?*RT. ?UPS, vehicles TOT 500 ACT 0 BUF 0)                               \r\n"
     ]
    },
    {
     "name": "stderr",
     "output_type": "stream",
     "text": [
      "Warning: Environment variable SUMO_HOME is not set properly, disabling XML validation. Set 'auto' or 'always' for web lookups.\n",
      " 74%|██████████████████████████████▌          | 372/500 [03:48<00:51,  2.48it/s]"
     ]
    },
    {
     "name": "stdout",
     "output_type": "stream",
     "text": [
      "Step #0.00 (0ms ?*RT. ?UPS, vehicles TOT 1 ACT 1 BUF 0)                                   \r",
      "Step #100.00 (0ms ?*RT. ?UPS, vehicles TOT 96 ACT 43 BUF 404)                             \r",
      "Step #200.00 (0ms ?*RT. ?UPS, vehicles TOT 175 ACT 59 BUF 325)                            \r",
      "Step #300.00 (0ms ?*RT. ?UPS, vehicles TOT 249 ACT 74 BUF 251)                            \r",
      "Step #400.00 (0ms ?*RT. ?UPS, vehicles TOT 294 ACT 61 BUF 206)                            \r",
      "Step #500.00 (0ms ?*RT. ?UPS, vehicles TOT 360 ACT 74 BUF 140)                            \r",
      "Step #600.00 (1ms ~= 1000.00*RT, ~59000.00UPS, vehicles TOT 406 ACT 59 BUF 94)            \r",
      "Step #700.00 (1ms ~= 1000.00*RT, ~71000.00UPS, vehicles TOT 477 ACT 71 BUF 23)            \r",
      "Step #800.00 (0ms ?*RT. ?UPS, vehicles TOT 500 ACT 38 BUF 0)                              \r",
      "Step #859.00 (0ms ?*RT. ?UPS, vehicles TOT 500 ACT 0 BUF 0)                               \r\n"
     ]
    },
    {
     "name": "stderr",
     "output_type": "stream",
     "text": [
      "Warning: Environment variable SUMO_HOME is not set properly, disabling XML validation. Set 'auto' or 'always' for web lookups.\n",
      " 75%|██████████████████████████████▌          | 373/500 [03:48<00:53,  2.37it/s]"
     ]
    },
    {
     "name": "stdout",
     "output_type": "stream",
     "text": [
      "Step #0.00 (0ms ?*RT. ?UPS, vehicles TOT 1 ACT 1 BUF 0)                                   \r",
      "Step #100.00 (0ms ?*RT. ?UPS, vehicles TOT 113 ACT 64 BUF 387)                            \r",
      "Step #200.00 (1ms ~= 1000.00*RT, ~78000.00UPS, vehicles TOT 181 ACT 78 BUF 319)           \r",
      "Step #300.00 (1ms ~= 1000.00*RT, ~60000.00UPS, vehicles TOT 225 ACT 60 BUF 275)           \r",
      "Step #400.00 (1ms ~= 1000.00*RT, ~80000.00UPS, vehicles TOT 299 ACT 80 BUF 201)           \r",
      "Step #500.00 (0ms ?*RT. ?UPS, vehicles TOT 343 ACT 63 BUF 157)                            \r",
      "Step #600.00 (1ms ~= 1000.00*RT, ~74000.00UPS, vehicles TOT 412 ACT 74 BUF 88)            \r",
      "Step #700.00 (1ms ~= 1000.00*RT, ~63000.00UPS, vehicles TOT 461 ACT 63 BUF 39)            \r",
      "Step #800.00 (1ms ~= 1000.00*RT, ~42000.00UPS, vehicles TOT 500 ACT 42 BUF 0)             \r",
      "Step #870.00 (0ms ?*RT. ?UPS, vehicles TOT 500 ACT 0 BUF 0)                               \r\n"
     ]
    },
    {
     "name": "stderr",
     "output_type": "stream",
     "text": [
      "Warning: Environment variable SUMO_HOME is not set properly, disabling XML validation. Set 'auto' or 'always' for web lookups.\n",
      " 75%|██████████████████████████████▋          | 374/500 [03:49<01:02,  2.02it/s]"
     ]
    },
    {
     "name": "stdout",
     "output_type": "stream",
     "text": [
      "Step #0.00 (0ms ?*RT. ?UPS, vehicles TOT 1 ACT 1 BUF 0)                                   \r",
      "Step #100.00 (1ms ~= 1000.00*RT, ~53000.00UPS, vehicles TOT 105 ACT 53 BUF 395)           \r",
      "Step #200.00 (0ms ?*RT. ?UPS, vehicles TOT 167 ACT 57 BUF 333)                            \r",
      "Step #300.00 (1ms ~= 1000.00*RT, ~76000.00UPS, vehicles TOT 247 ACT 76 BUF 253)           \r",
      "Step #400.00 (1ms ~= 1000.00*RT, ~62000.00UPS, vehicles TOT 291 ACT 62 BUF 209)           \r",
      "Step #500.00 (1ms ~= 1000.00*RT, ~71000.00UPS, vehicles TOT 359 ACT 71 BUF 141)           \r",
      "Step #600.00 (0ms ?*RT. ?UPS, vehicles TOT 418 ACT 69 BUF 82)                             \r",
      "Step #700.00 (1ms ~= 1000.00*RT, ~64000.00UPS, vehicles TOT 468 ACT 64 BUF 32)            \r",
      "Step #800.00 (1ms ~= 1000.00*RT, ~39000.00UPS, vehicles TOT 500 ACT 39 BUF 0)             \r",
      "Step #856.00 (0ms ?*RT. ?UPS, vehicles TOT 500 ACT 0 BUF 0)                               \r\n"
     ]
    },
    {
     "name": "stderr",
     "output_type": "stream",
     "text": [
      "Warning: Environment variable SUMO_HOME is not set properly, disabling XML validation. Set 'auto' or 'always' for web lookups.\n",
      " 75%|██████████████████████████████▊          | 375/500 [03:50<01:11,  1.74it/s]"
     ]
    },
    {
     "name": "stdout",
     "output_type": "stream",
     "text": [
      "Step #0.00 (0ms ?*RT. ?UPS, vehicles TOT 1 ACT 1 BUF 0)                                   \r",
      "Step #100.00 (1ms ~= 1000.00*RT, ~53000.00UPS, vehicles TOT 107 ACT 53 BUF 393)           \r",
      "Step #200.00 (1ms ~= 1000.00*RT, ~73000.00UPS, vehicles TOT 185 ACT 73 BUF 315)           \r",
      "Step #300.00 (1ms ~= 1000.00*RT, ~83000.00UPS, vehicles TOT 249 ACT 83 BUF 251)           \r",
      "Step #400.00 (1ms ~= 1000.00*RT, ~70000.00UPS, vehicles TOT 293 ACT 70 BUF 207)           \r",
      "Step #500.00 (1ms ~= 1000.00*RT, ~77000.00UPS, vehicles TOT 356 ACT 77 BUF 144)           \r",
      "Step #600.00 (1ms ~= 1000.00*RT, ~64000.00UPS, vehicles TOT 400 ACT 64 BUF 100)           \r",
      "Step #700.00 (1ms ~= 1000.00*RT, ~83000.00UPS, vehicles TOT 471 ACT 83 BUF 29)            \r",
      "Step #800.00 (0ms ?*RT. ?UPS, vehicles TOT 500 ACT 52 BUF 0)                              \r",
      "Step #877.00 (0ms ?*RT. ?UPS, vehicles TOT 500 ACT 0 BUF 0)                               \r\n"
     ]
    },
    {
     "name": "stderr",
     "output_type": "stream",
     "text": [
      "Warning: Environment variable SUMO_HOME is not set properly, disabling XML validation. Set 'auto' or 'always' for web lookups.\n",
      " 75%|██████████████████████████████▊          | 376/500 [03:50<01:17,  1.60it/s]"
     ]
    },
    {
     "name": "stdout",
     "output_type": "stream",
     "text": [
      "Step #0.00 (0ms ?*RT. ?UPS, vehicles TOT 1 ACT 1 BUF 0)                                   \r",
      "Step #100.00 (1ms ~= 1000.00*RT, ~52000.00UPS, vehicles TOT 103 ACT 52 BUF 397)           \r",
      "Step #200.00 (0ms ?*RT. ?UPS, vehicles TOT 177 ACT 70 BUF 323)                            \r",
      "Step #300.00 (1ms ~= 1000.00*RT, ~72000.00UPS, vehicles TOT 238 ACT 72 BUF 262)           \r",
      "Step #400.00 (1ms ~= 1000.00*RT, ~75000.00UPS, vehicles TOT 300 ACT 75 BUF 200)           \r",
      "Step #500.00 (1ms ~= 1000.00*RT, ~65000.00UPS, vehicles TOT 344 ACT 65 BUF 156)           \r",
      "Step #600.00 (1ms ~= 1000.00*RT, ~79000.00UPS, vehicles TOT 417 ACT 79 BUF 83)            \r",
      "Step #700.00 (0ms ?*RT. ?UPS, vehicles TOT 465 ACT 67 BUF 35)                             \r",
      "Step #800.00 (0ms ?*RT. ?UPS, vehicles TOT 500 ACT 41 BUF 0)                              \r",
      "Step #862.00 (0ms ?*RT. ?UPS, vehicles TOT 500 ACT 0 BUF 0)                               \r\n"
     ]
    },
    {
     "name": "stderr",
     "output_type": "stream",
     "text": [
      "Warning: Environment variable SUMO_HOME is not set properly, disabling XML validation. Set 'auto' or 'always' for web lookups.\n",
      " 75%|██████████████████████████████▉          | 377/500 [03:51<01:20,  1.53it/s]"
     ]
    },
    {
     "name": "stdout",
     "output_type": "stream",
     "text": [
      "Step #0.00 (0ms ?*RT. ?UPS, vehicles TOT 1 ACT 1 BUF 0)                                   \r",
      "Step #100.00 (1ms ~= 1000.00*RT, ~51000.00UPS, vehicles TOT 105 ACT 51 BUF 395)           \r",
      "Step #200.00 (1ms ~= 1000.00*RT, ~66000.00UPS, vehicles TOT 182 ACT 66 BUF 318)           \r",
      "Step #300.00 (0ms ?*RT. ?UPS, vehicles TOT 243 ACT 61 BUF 257)                            \r",
      "Step #400.00 (0ms ?*RT. ?UPS, vehicles TOT 314 ACT 80 BUF 186)                            \r",
      "Step #500.00 (1ms ~= 1000.00*RT, ~61000.00UPS, vehicles TOT 351 ACT 61 BUF 149)           \r",
      "Step #600.00 (1ms ~= 1000.00*RT, ~56000.00UPS, vehicles TOT 401 ACT 56 BUF 99)            \r",
      "Step #700.00 (1ms ~= 1000.00*RT, ~71000.00UPS, vehicles TOT 482 ACT 71 BUF 18)            \r",
      "Step #800.00 (0ms ?*RT. ?UPS, vehicles TOT 500 ACT 34 BUF 0)                              \r",
      "Step #855.00 (0ms ?*RT. ?UPS, vehicles TOT 500 ACT 0 BUF 0)                               \r\n"
     ]
    },
    {
     "name": "stderr",
     "output_type": "stream",
     "text": [
      "Warning: Environment variable SUMO_HOME is not set properly, disabling XML validation. Set 'auto' or 'always' for web lookups.\n",
      " 76%|██████████████████████████████▉          | 378/500 [03:52<01:22,  1.47it/s]"
     ]
    },
    {
     "name": "stdout",
     "output_type": "stream",
     "text": [
      "Step #0.00 (0ms ?*RT. ?UPS, vehicles TOT 1 ACT 1 BUF 0)                                   \r",
      "Step #100.00 (1ms ~= 1000.00*RT, ~56000.00UPS, vehicles TOT 110 ACT 56 BUF 390)           \r",
      "Step #200.00 (1ms ~= 1000.00*RT, ~76000.00UPS, vehicles TOT 186 ACT 76 BUF 314)           \r",
      "Step #300.00 (1ms ~= 1000.00*RT, ~78000.00UPS, vehicles TOT 248 ACT 78 BUF 252)           \r",
      "Step #400.00 (1ms ~= 1000.00*RT, ~76000.00UPS, vehicles TOT 303 ACT 76 BUF 197)           \r",
      "Step #500.00 (0ms ?*RT. ?UPS, vehicles TOT 341 ACT 63 BUF 159)                            \r",
      "Step #600.00 (0ms ?*RT. ?UPS, vehicles TOT 399 ACT 59 BUF 101)                            \r",
      "Step #700.00 (1ms ~= 1000.00*RT, ~70000.00UPS, vehicles TOT 467 ACT 70 BUF 33)            \r",
      "Step #800.00 (0ms ?*RT. ?UPS, vehicles TOT 500 ACT 47 BUF 0)                              \r",
      "Step #870.00 (0ms ?*RT. ?UPS, vehicles TOT 500 ACT 0 BUF 0)                               \r\n"
     ]
    },
    {
     "name": "stderr",
     "output_type": "stream",
     "text": [
      "Warning: Environment variable SUMO_HOME is not set properly, disabling XML validation. Set 'auto' or 'always' for web lookups.\n",
      " 76%|███████████████████████████████          | 379/500 [03:53<01:24,  1.44it/s]"
     ]
    },
    {
     "name": "stdout",
     "output_type": "stream",
     "text": [
      "Step #0.00 (1ms ~= 1000.00*RT, ~1000.00UPS, vehicles TOT 1 ACT 1 BUF 0)                   \r",
      "Step #100.00 (1ms ~= 1000.00*RT, ~62000.00UPS, vehicles TOT 111 ACT 62 BUF 389)           \r",
      "Step #200.00 (1ms ~= 1000.00*RT, ~68000.00UPS, vehicles TOT 173 ACT 68 BUF 327)           \r",
      "Step #300.00 (0ms ?*RT. ?UPS, vehicles TOT 237 ACT 73 BUF 263)                            \r",
      "Step #400.00 (0ms ?*RT. ?UPS, vehicles TOT 287 ACT 65 BUF 213)                            \r",
      "Step #500.00 (0ms ?*RT. ?UPS, vehicles TOT 350 ACT 73 BUF 150)                            \r",
      "Step #600.00 (1ms ~= 1000.00*RT, ~63000.00UPS, vehicles TOT 399 ACT 63 BUF 101)           \r",
      "Step #700.00 (0ms ?*RT. ?UPS, vehicles TOT 453 ACT 60 BUF 47)                             \r",
      "Step #800.00 (0ms ?*RT. ?UPS, vehicles TOT 500 ACT 51 BUF 0)                              \r",
      "Step #876.00 (0ms ?*RT. ?UPS, vehicles TOT 500 ACT 0 BUF 0)                               \r\n"
     ]
    },
    {
     "name": "stderr",
     "output_type": "stream",
     "text": [
      "Warning: Environment variable SUMO_HOME is not set properly, disabling XML validation. Set 'auto' or 'always' for web lookups.\n",
      " 76%|███████████████████████████████▏         | 380/500 [03:53<01:24,  1.43it/s]"
     ]
    },
    {
     "name": "stdout",
     "output_type": "stream",
     "text": [
      "Step #0.00 (1ms ~= 1000.00*RT, ~1000.00UPS, vehicles TOT 1 ACT 1 BUF 0)                   \r",
      "Step #100.00 (1ms ~= 1000.00*RT, ~56000.00UPS, vehicles TOT 110 ACT 56 BUF 390)           \r",
      "Step #200.00 (1ms ~= 1000.00*RT, ~75000.00UPS, vehicles TOT 185 ACT 75 BUF 315)           \r",
      "Step #300.00 (1ms ~= 1000.00*RT, ~68000.00UPS, vehicles TOT 236 ACT 68 BUF 264)           \r",
      "Step #400.00 (0ms ?*RT. ?UPS, vehicles TOT 303 ACT 73 BUF 197)                            \r",
      "Step #500.00 (1ms ~= 1000.00*RT, ~63000.00UPS, vehicles TOT 348 ACT 63 BUF 152)           \r",
      "Step #600.00 (0ms ?*RT. ?UPS, vehicles TOT 398 ACT 56 BUF 102)                            \r",
      "Step #700.00 (1ms ~= 1000.00*RT, ~69000.00UPS, vehicles TOT 472 ACT 69 BUF 28)            \r",
      "Step #800.00 (0ms ?*RT. ?UPS, vehicles TOT 500 ACT 38 BUF 0)                              \r",
      "Step #862.00 (0ms ?*RT. ?UPS, vehicles TOT 500 ACT 0 BUF 0)                               \r\n"
     ]
    },
    {
     "name": "stderr",
     "output_type": "stream",
     "text": [
      "Warning: Environment variable SUMO_HOME is not set properly, disabling XML validation. Set 'auto' or 'always' for web lookups.\n",
      " 76%|███████████████████████████████▏         | 381/500 [03:54<01:24,  1.41it/s]"
     ]
    },
    {
     "name": "stdout",
     "output_type": "stream",
     "text": [
      "Step #0.00 (0ms ?*RT. ?UPS, vehicles TOT 1 ACT 1 BUF 0)                                   \r",
      "Step #100.00 (1ms ~= 1000.00*RT, ~53000.00UPS, vehicles TOT 106 ACT 53 BUF 394)           \r",
      "Step #200.00 (1ms ~= 1000.00*RT, ~72000.00UPS, vehicles TOT 182 ACT 72 BUF 318)           \r",
      "Step #300.00 (1ms ~= 1000.00*RT, ~74000.00UPS, vehicles TOT 238 ACT 74 BUF 262)           \r",
      "Step #400.00 (1ms ~= 1000.00*RT, ~64000.00UPS, vehicles TOT 285 ACT 64 BUF 215)           \r",
      "Step #500.00 (1ms ~= 1000.00*RT, ~77000.00UPS, vehicles TOT 353 ACT 77 BUF 147)           \r",
      "Step #600.00 (0ms ?*RT. ?UPS, vehicles TOT 400 ACT 63 BUF 100)                            \r",
      "Step #700.00 (1ms ~= 1000.00*RT, ~78000.00UPS, vehicles TOT 469 ACT 78 BUF 31)            \r",
      "Step #800.00 (0ms ?*RT. ?UPS, vehicles TOT 500 ACT 52 BUF 0)                              \r",
      "Step #885.00 (0ms ?*RT. ?UPS, vehicles TOT 500 ACT 0 BUF 0)                               \r\n"
     ]
    },
    {
     "name": "stderr",
     "output_type": "stream",
     "text": [
      "Warning: Environment variable SUMO_HOME is not set properly, disabling XML validation. Set 'auto' or 'always' for web lookups.\n",
      " 76%|███████████████████████████████▎         | 382/500 [03:55<01:24,  1.40it/s]"
     ]
    },
    {
     "name": "stdout",
     "output_type": "stream",
     "text": [
      "Step #0.00 (0ms ?*RT. ?UPS, vehicles TOT 1 ACT 1 BUF 0)                                   \r",
      "Step #100.00 (1ms ~= 1000.00*RT, ~54000.00UPS, vehicles TOT 108 ACT 54 BUF 392)           \r",
      "Step #200.00 (1ms ~= 1000.00*RT, ~58000.00UPS, vehicles TOT 167 ACT 58 BUF 333)           \r",
      "Step #300.00 (1ms ~= 1000.00*RT, ~80000.00UPS, vehicles TOT 243 ACT 80 BUF 257)           \r",
      "Step #400.00 (1ms ~= 1000.00*RT, ~66000.00UPS, vehicles TOT 287 ACT 66 BUF 213)           \r",
      "Step #500.00 (1ms ~= 1000.00*RT, ~63000.00UPS, vehicles TOT 340 ACT 63 BUF 160)           \r",
      "Step #600.00 (0ms ?*RT. ?UPS, vehicles TOT 407 ACT 67 BUF 93)                             \r",
      "Step #700.00 (0ms ?*RT. ?UPS, vehicles TOT 474 ACT 74 BUF 26)                             \r",
      "Step #800.00 (0ms ?*RT. ?UPS, vehicles TOT 500 ACT 44 BUF 0)                              \r",
      "Step #868.00 (0ms ?*RT. ?UPS, vehicles TOT 500 ACT 0 BUF 0)                               \r\n"
     ]
    },
    {
     "name": "stderr",
     "output_type": "stream",
     "text": [
      "Warning: Environment variable SUMO_HOME is not set properly, disabling XML validation. Set 'auto' or 'always' for web lookups.\n",
      " 77%|███████████████████████████████▍         | 383/500 [03:55<01:24,  1.39it/s]"
     ]
    },
    {
     "name": "stdout",
     "output_type": "stream",
     "text": [
      "Step #0.00 (1ms ~= 1000.00*RT, ~1000.00UPS, vehicles TOT 1 ACT 1 BUF 0)                   \r",
      "Step #100.00 (1ms ~= 1000.00*RT, ~59000.00UPS, vehicles TOT 112 ACT 59 BUF 388)           \r",
      "Step #200.00 (1ms ~= 1000.00*RT, ~57000.00UPS, vehicles TOT 163 ACT 57 BUF 337)           \r",
      "Step #300.00 (1ms ~= 1000.00*RT, ~68000.00UPS, vehicles TOT 227 ACT 68 BUF 273)           \r",
      "Step #400.00 (1ms ~= 1000.00*RT, ~79000.00UPS, vehicles TOT 293 ACT 79 BUF 207)           \r",
      "Step #500.00 (1ms ~= 1000.00*RT, ~64000.00UPS, vehicles TOT 338 ACT 64 BUF 162)           \r",
      "Step #600.00 (1ms ~= 1000.00*RT, ~55000.00UPS, vehicles TOT 384 ACT 55 BUF 116)           \r",
      "Step #700.00 (1ms ~= 1000.00*RT, ~75000.00UPS, vehicles TOT 458 ACT 75 BUF 42)            \r",
      "Step #800.00 (0ms ?*RT. ?UPS, vehicles TOT 492 ACT 53 BUF 8)                              \r",
      "Step #899.00 (0ms ?*RT. ?UPS, vehicles TOT 500 ACT 0 BUF 0)                               \r\n"
     ]
    },
    {
     "name": "stderr",
     "output_type": "stream",
     "text": [
      "Warning: Environment variable SUMO_HOME is not set properly, disabling XML validation. Set 'auto' or 'always' for web lookups.\n",
      " 77%|███████████████████████████████▍         | 384/500 [03:56<01:24,  1.37it/s]"
     ]
    },
    {
     "name": "stdout",
     "output_type": "stream",
     "text": [
      "Step #0.00 (0ms ?*RT. ?UPS, vehicles TOT 1 ACT 1 BUF 0)                                   \r",
      "Step #100.00 (1ms ~= 1000.00*RT, ~58000.00UPS, vehicles TOT 110 ACT 58 BUF 390)           \r",
      "Step #200.00 (1ms ~= 1000.00*RT, ~76000.00UPS, vehicles TOT 184 ACT 76 BUF 316)           \r",
      "Step #300.00 (1ms ~= 1000.00*RT, ~87000.00UPS, vehicles TOT 246 ACT 87 BUF 254)           \r",
      "Step #400.00 (0ms ?*RT. ?UPS, vehicles TOT 274 ACT 60 BUF 226)                            \r",
      "Step #500.00 (1ms ~= 1000.00*RT, ~71000.00UPS, vehicles TOT 343 ACT 71 BUF 157)           \r",
      "Step #600.00 (1ms ~= 1000.00*RT, ~57000.00UPS, vehicles TOT 391 ACT 57 BUF 109)           \r",
      "Step #700.00 (0ms ?*RT. ?UPS, vehicles TOT 462 ACT 74 BUF 38)                             \r",
      "Step #800.00 (0ms ?*RT. ?UPS, vehicles TOT 500 ACT 51 BUF 0)                              \r",
      "Step #886.00 (0ms ?*RT. ?UPS, vehicles TOT 500 ACT 0 BUF 0)                               \r\n"
     ]
    },
    {
     "name": "stderr",
     "output_type": "stream",
     "text": [
      "Warning: Environment variable SUMO_HOME is not set properly, disabling XML validation. Set 'auto' or 'always' for web lookups.\n",
      " 77%|███████████████████████████████▌         | 385/500 [03:57<01:23,  1.37it/s]"
     ]
    },
    {
     "name": "stdout",
     "output_type": "stream",
     "text": [
      "Step #0.00 (0ms ?*RT. ?UPS, vehicles TOT 1 ACT 1 BUF 0)                                   \r",
      "Step #100.00 (1ms ~= 1000.00*RT, ~54000.00UPS, vehicles TOT 107 ACT 54 BUF 393)           \r",
      "Step #200.00 (1ms ~= 1000.00*RT, ~77000.00UPS, vehicles TOT 185 ACT 77 BUF 315)           \r",
      "Step #300.00 (0ms ?*RT. ?UPS, vehicles TOT 227 ACT 62 BUF 273)                            \r",
      "Step #400.00 (1ms ~= 1000.00*RT, ~66000.00UPS, vehicles TOT 291 ACT 66 BUF 209)           \r",
      "Step #500.00 (1ms ~= 1000.00*RT, ~70000.00UPS, vehicles TOT 350 ACT 70 BUF 150)           \r",
      "Step #600.00 (1ms ~= 1000.00*RT, ~62000.00UPS, vehicles TOT 396 ACT 62 BUF 104)           \r",
      "Step #700.00 (0ms ?*RT. ?UPS, vehicles TOT 448 ACT 58 BUF 52)                             \r",
      "Step #800.00 (1ms ~= 1000.00*RT, ~54000.00UPS, vehicles TOT 500 ACT 54 BUF 0)             \r",
      "Step #893.00 (0ms ?*RT. ?UPS, vehicles TOT 500 ACT 0 BUF 0)                               \r\n"
     ]
    },
    {
     "name": "stderr",
     "output_type": "stream",
     "text": [
      "Warning: Environment variable SUMO_HOME is not set properly, disabling XML validation. Set 'auto' or 'always' for web lookups.\n",
      " 77%|███████████████████████████████▋         | 386/500 [03:58<01:28,  1.29it/s]"
     ]
    },
    {
     "name": "stdout",
     "output_type": "stream",
     "text": [
      "Step #0.00 (0ms ?*RT. ?UPS, vehicles TOT 1 ACT 1 BUF 0)                                   \r",
      "Step #100.00 (1ms ~= 1000.00*RT, ~55000.00UPS, vehicles TOT 107 ACT 55 BUF 393)           \r",
      "Step #200.00 (0ms ?*RT. ?UPS, vehicles TOT 170 ACT 61 BUF 330)                            \r",
      "Step #300.00 (1ms ~= 1000.00*RT, ~79000.00UPS, vehicles TOT 241 ACT 79 BUF 259)           \r",
      "Step #400.00 (0ms ?*RT. ?UPS, vehicles TOT 289 ACT 66 BUF 211)                            \r",
      "Step #500.00 (1ms ~= 1000.00*RT, ~74000.00UPS, vehicles TOT 353 ACT 74 BUF 147)           \r",
      "Step #600.00 (0ms ?*RT. ?UPS, vehicles TOT 410 ACT 78 BUF 90)                             \r",
      "Step #700.00 (1ms ~= 1000.00*RT, ~66000.00UPS, vehicles TOT 459 ACT 66 BUF 41)            \r",
      "Step #800.00 (0ms ?*RT. ?UPS, vehicles TOT 500 ACT 52 BUF 0)                              \r",
      "Step #879.00 (0ms ?*RT. ?UPS, vehicles TOT 500 ACT 0 BUF 0)                               \r\n"
     ]
    },
    {
     "name": "stderr",
     "output_type": "stream",
     "text": [
      "Warning: Environment variable SUMO_HOME is not set properly, disabling XML validation. Set 'auto' or 'always' for web lookups.\n",
      " 77%|███████████████████████████████▋         | 387/500 [03:59<01:26,  1.31it/s]"
     ]
    },
    {
     "name": "stdout",
     "output_type": "stream",
     "text": [
      "Step #0.00 (0ms ?*RT. ?UPS, vehicles TOT 1 ACT 1 BUF 0)                                   \r",
      "Step #100.00 (1ms ~= 1000.00*RT, ~57000.00UPS, vehicles TOT 109 ACT 57 BUF 391)           \r",
      "Step #200.00 (1ms ~= 1000.00*RT, ~77000.00UPS, vehicles TOT 183 ACT 77 BUF 317)           \r",
      "Step #300.00 (1ms ~= 1000.00*RT, ~59000.00UPS, vehicles TOT 228 ACT 59 BUF 272)           \r",
      "Step #400.00 (1ms ~= 1000.00*RT, ~67000.00UPS, vehicles TOT 293 ACT 67 BUF 207)           \r",
      "Step #500.00 (1ms ~= 1000.00*RT, ~84000.00UPS, vehicles TOT 366 ACT 84 BUF 134)           \r",
      "Step #600.00 (1ms ~= 1000.00*RT, ~55000.00UPS, vehicles TOT 394 ACT 55 BUF 106)           \r",
      "Step #700.00 (0ms ?*RT. ?UPS, vehicles TOT 469 ACT 72 BUF 31)                             \r",
      "Step #800.00 (0ms ?*RT. ?UPS, vehicles TOT 500 ACT 50 BUF 0)                              \r",
      "Step #874.00 (0ms ?*RT. ?UPS, vehicles TOT 500 ACT 0 BUF 0)                               \r\n"
     ]
    },
    {
     "name": "stderr",
     "output_type": "stream",
     "text": [
      "Warning: Environment variable SUMO_HOME is not set properly, disabling XML validation. Set 'auto' or 'always' for web lookups.\n",
      " 78%|███████████████████████████████▊         | 388/500 [03:59<01:24,  1.33it/s]"
     ]
    },
    {
     "name": "stdout",
     "output_type": "stream",
     "text": [
      "Step #0.00 (1ms ~= 1000.00*RT, ~1000.00UPS, vehicles TOT 1 ACT 1 BUF 0)                   \r",
      "Step #100.00 (1ms ~= 1000.00*RT, ~57000.00UPS, vehicles TOT 109 ACT 57 BUF 391)           \r",
      "Step #200.00 (1ms ~= 1000.00*RT, ~75000.00UPS, vehicles TOT 181 ACT 75 BUF 319)           \r",
      "Step #300.00 (0ms ?*RT. ?UPS, vehicles TOT 228 ACT 63 BUF 272)                            \r",
      "Step #400.00 (1ms ~= 1000.00*RT, ~77000.00UPS, vehicles TOT 299 ACT 77 BUF 201)           \r",
      "Step #500.00 (1ms ~= 1000.00*RT, ~63000.00UPS, vehicles TOT 352 ACT 63 BUF 148)           \r",
      "Step #600.00 (1ms ~= 1000.00*RT, ~66000.00UPS, vehicles TOT 407 ACT 66 BUF 93)            \r",
      "Step #700.00 (0ms ?*RT. ?UPS, vehicles TOT 474 ACT 75 BUF 26)                             \r",
      "Step #800.00 (1ms ~= 1000.00*RT, ~46000.00UPS, vehicles TOT 500 ACT 46 BUF 0)             \r",
      "Step #869.00 (0ms ?*RT. ?UPS, vehicles TOT 500 ACT 0 BUF 0)                               \r\n"
     ]
    },
    {
     "name": "stderr",
     "output_type": "stream",
     "text": [
      "Warning: Environment variable SUMO_HOME is not set properly, disabling XML validation. Set 'auto' or 'always' for web lookups.\n",
      " 78%|███████████████████████████████▉         | 389/500 [04:00<01:22,  1.34it/s]"
     ]
    },
    {
     "name": "stdout",
     "output_type": "stream",
     "text": [
      "Step #0.00 (0ms ?*RT. ?UPS, vehicles TOT 1 ACT 1 BUF 0)                                   \r",
      "Step #100.00 (2ms ~= 500.00*RT, ~27500.00UPS, vehicles TOT 107 ACT 55 BUF 393)            \r",
      "Step #200.00 (1ms ~= 1000.00*RT, ~78000.00UPS, vehicles TOT 184 ACT 78 BUF 316)           \r",
      "Step #300.00 (1ms ~= 1000.00*RT, ~58000.00UPS, vehicles TOT 221 ACT 58 BUF 279)           \r",
      "Step #400.00 (1ms ~= 1000.00*RT, ~55000.00UPS, vehicles TOT 275 ACT 55 BUF 225)           \r",
      "Step #500.00 (1ms ~= 1000.00*RT, ~71000.00UPS, vehicles TOT 349 ACT 71 BUF 151)           \r",
      "Step #600.00 (0ms ?*RT. ?UPS, vehicles TOT 404 ACT 69 BUF 96)                             \r",
      "Step #700.00 (1ms ~= 1000.00*RT, ~70000.00UPS, vehicles TOT 460 ACT 70 BUF 40)            \r",
      "Step #800.00 (1ms ~= 1000.00*RT, ~54000.00UPS, vehicles TOT 500 ACT 54 BUF 0)             \r",
      "Step #878.00 (0ms ?*RT. ?UPS, vehicles TOT 500 ACT 0 BUF 0)                               \r\n"
     ]
    },
    {
     "name": "stderr",
     "output_type": "stream",
     "text": [
      "Warning: Environment variable SUMO_HOME is not set properly, disabling XML validation. Set 'auto' or 'always' for web lookups.\n",
      " 78%|███████████████████████████████▉         | 390/500 [04:01<01:21,  1.36it/s]"
     ]
    },
    {
     "name": "stdout",
     "output_type": "stream",
     "text": [
      "Step #0.00 (0ms ?*RT. ?UPS, vehicles TOT 1 ACT 1 BUF 0)                                   \r",
      "Step #100.00 (1ms ~= 1000.00*RT, ~56000.00UPS, vehicles TOT 107 ACT 56 BUF 393)           \r",
      "Step #200.00 (0ms ?*RT. ?UPS, vehicles TOT 170 ACT 60 BUF 330)                            \r",
      "Step #300.00 (1ms ~= 1000.00*RT, ~76000.00UPS, vehicles TOT 239 ACT 76 BUF 261)           \r",
      "Step #400.00 (1ms ~= 1000.00*RT, ~73000.00UPS, vehicles TOT 288 ACT 73 BUF 212)           \r",
      "Step #500.00 (1ms ~= 1000.00*RT, ~58000.00UPS, vehicles TOT 332 ACT 58 BUF 168)           \r",
      "Step #600.00 (1ms ~= 1000.00*RT, ~69000.00UPS, vehicles TOT 402 ACT 69 BUF 98)            \r",
      "Step #700.00 (1ms ~= 1000.00*RT, ~68000.00UPS, vehicles TOT 461 ACT 68 BUF 39)            \r",
      "Step #800.00 (0ms ?*RT. ?UPS, vehicles TOT 500 ACT 50 BUF 0)                              \r",
      "Step #883.00 (1ms ~= 1000.00*RT, ~0.00UPS, vehicles TOT 500 ACT 0 BUF 0)                  \r\n"
     ]
    },
    {
     "name": "stderr",
     "output_type": "stream",
     "text": [
      "Warning: Environment variable SUMO_HOME is not set properly, disabling XML validation. Set 'auto' or 'always' for web lookups.\n",
      " 78%|████████████████████████████████         | 391/500 [04:02<01:20,  1.36it/s]"
     ]
    },
    {
     "name": "stdout",
     "output_type": "stream",
     "text": [
      "Step #0.00 (0ms ?*RT. ?UPS, vehicles TOT 1 ACT 1 BUF 0)                                   \r",
      "Step #100.00 (2ms ~= 500.00*RT, ~27000.00UPS, vehicles TOT 108 ACT 54 BUF 392)            \r",
      "Step #200.00 (1ms ~= 1000.00*RT, ~73000.00UPS, vehicles TOT 183 ACT 73 BUF 317)           \r",
      "Step #300.00 (1ms ~= 1000.00*RT, ~83000.00UPS, vehicles TOT 246 ACT 83 BUF 254)           \r",
      "Step #400.00 (1ms ~= 1000.00*RT, ~68000.00UPS, vehicles TOT 293 ACT 68 BUF 207)           \r",
      "Step #500.00 (1ms ~= 1000.00*RT, ~74000.00UPS, vehicles TOT 359 ACT 74 BUF 141)           \r",
      "Step #600.00 (1ms ~= 1000.00*RT, ~79000.00UPS, vehicles TOT 418 ACT 79 BUF 82)            \r",
      "Step #700.00 (0ms ?*RT. ?UPS, vehicles TOT 469 ACT 68 BUF 31)                             \r",
      "Step #800.00 (0ms ?*RT. ?UPS, vehicles TOT 500 ACT 44 BUF 0)                              \r",
      "Step #869.00 (0ms ?*RT. ?UPS, vehicles TOT 500 ACT 0 BUF 0)                               \r\n"
     ]
    },
    {
     "name": "stderr",
     "output_type": "stream",
     "text": [
      "Warning: Environment variable SUMO_HOME is not set properly, disabling XML validation. Set 'auto' or 'always' for web lookups.\n",
      " 78%|████████████████████████████████▏        | 392/500 [04:02<01:19,  1.36it/s]"
     ]
    },
    {
     "name": "stdout",
     "output_type": "stream",
     "text": [
      "Step #0.00 (0ms ?*RT. ?UPS, vehicles TOT 1 ACT 1 BUF 0)                                   \r",
      "Step #100.00 (1ms ~= 1000.00*RT, ~59000.00UPS, vehicles TOT 109 ACT 59 BUF 391)           \r",
      "Step #200.00 (1ms ~= 1000.00*RT, ~70000.00UPS, vehicles TOT 175 ACT 70 BUF 325)           \r",
      "Step #300.00 (0ms ?*RT. ?UPS, vehicles TOT 224 ACT 61 BUF 276)                            \r",
      "Step #400.00 (0ms ?*RT. ?UPS, vehicles TOT 293 ACT 74 BUF 207)                            \r",
      "Step #500.00 (1ms ~= 1000.00*RT, ~64000.00UPS, vehicles TOT 337 ACT 64 BUF 163)           \r",
      "Step #600.00 (1ms ~= 1000.00*RT, ~70000.00UPS, vehicles TOT 399 ACT 70 BUF 101)           \r",
      "Step #700.00 (1ms ~= 1000.00*RT, ~65000.00UPS, vehicles TOT 456 ACT 65 BUF 44)            \r",
      "Step #800.00 (1ms ~= 1000.00*RT, ~44000.00UPS, vehicles TOT 500 ACT 44 BUF 0)             \r",
      "Step #874.00 (0ms ?*RT. ?UPS, vehicles TOT 500 ACT 0 BUF 0)                               \r\n"
     ]
    },
    {
     "name": "stderr",
     "output_type": "stream",
     "text": [
      "Warning: Environment variable SUMO_HOME is not set properly, disabling XML validation. Set 'auto' or 'always' for web lookups.\n",
      " 79%|████████████████████████████████▏        | 393/500 [04:03<01:19,  1.35it/s]"
     ]
    },
    {
     "name": "stdout",
     "output_type": "stream",
     "text": [
      "Step #0.00 (0ms ?*RT. ?UPS, vehicles TOT 1 ACT 1 BUF 0)                                   \r",
      "Step #100.00 (1ms ~= 1000.00*RT, ~57000.00UPS, vehicles TOT 109 ACT 57 BUF 391)           \r",
      "Step #200.00 (1ms ~= 1000.00*RT, ~68000.00UPS, vehicles TOT 173 ACT 68 BUF 327)           \r",
      "Step #300.00 (1ms ~= 1000.00*RT, ~62000.00UPS, vehicles TOT 229 ACT 62 BUF 271)           \r",
      "Step #400.00 (1ms ~= 1000.00*RT, ~79000.00UPS, vehicles TOT 300 ACT 79 BUF 200)           \r",
      "Step #500.00 (0ms ?*RT. ?UPS, vehicles TOT 335 ACT 60 BUF 165)                            \r",
      "Step #600.00 (1ms ~= 1000.00*RT, ~65000.00UPS, vehicles TOT 395 ACT 65 BUF 105)           \r",
      "Step #700.00 (1ms ~= 1000.00*RT, ~74000.00UPS, vehicles TOT 458 ACT 74 BUF 42)            \r",
      "Step #800.00 (1ms ~= 1000.00*RT, ~58000.00UPS, vehicles TOT 500 ACT 58 BUF 0)             \r",
      "Step #896.00 (1ms ~= 1000.00*RT, ~0.00UPS, vehicles TOT 500 ACT 0 BUF 0)                  \r\n"
     ]
    },
    {
     "name": "stderr",
     "output_type": "stream",
     "text": [
      "Warning: Environment variable SUMO_HOME is not set properly, disabling XML validation. Set 'auto' or 'always' for web lookups.\n",
      " 79%|████████████████████████████████▎        | 394/500 [04:04<01:20,  1.32it/s]"
     ]
    },
    {
     "name": "stdout",
     "output_type": "stream",
     "text": [
      "Step #0.00 (1ms ~= 1000.00*RT, ~1000.00UPS, vehicles TOT 1 ACT 1 BUF 0)                   \r",
      "Step #100.00 (1ms ~= 1000.00*RT, ~62000.00UPS, vehicles TOT 111 ACT 62 BUF 389)           \r",
      "Step #200.00 (1ms ~= 1000.00*RT, ~71000.00UPS, vehicles TOT 173 ACT 71 BUF 327)           \r",
      "Step #300.00 (1ms ~= 1000.00*RT, ~84000.00UPS, vehicles TOT 240 ACT 84 BUF 260)           \r",
      "Step #400.00 (1ms ~= 1000.00*RT, ~73000.00UPS, vehicles TOT 289 ACT 73 BUF 211)           \r",
      "Step #500.00 (1ms ~= 1000.00*RT, ~77000.00UPS, vehicles TOT 350 ACT 77 BUF 150)           \r",
      "Step #600.00 (1ms ~= 1000.00*RT, ~69000.00UPS, vehicles TOT 399 ACT 69 BUF 101)           \r",
      "Step #700.00 (0ms ?*RT. ?UPS, vehicles TOT 464 ACT 78 BUF 36)                             \r",
      "Step #800.00 (1ms ~= 1000.00*RT, ~60000.00UPS, vehicles TOT 500 ACT 60 BUF 0)             \r",
      "Step #897.00 (0ms ?*RT. ?UPS, vehicles TOT 500 ACT 0 BUF 0)                               \r\n"
     ]
    },
    {
     "name": "stderr",
     "output_type": "stream",
     "text": [
      "Warning: Environment variable SUMO_HOME is not set properly, disabling XML validation. Set 'auto' or 'always' for web lookups.\n",
      " 79%|████████████████████████████████▍        | 395/500 [04:05<01:18,  1.33it/s]"
     ]
    },
    {
     "name": "stdout",
     "output_type": "stream",
     "text": [
      "Step #0.00 (0ms ?*RT. ?UPS, vehicles TOT 1 ACT 1 BUF 0)                                   \r",
      "Step #100.00 (1ms ~= 1000.00*RT, ~54000.00UPS, vehicles TOT 102 ACT 54 BUF 398)           \r",
      "Step #200.00 (1ms ~= 1000.00*RT, ~72000.00UPS, vehicles TOT 176 ACT 72 BUF 324)           \r",
      "Step #300.00 (0ms ?*RT. ?UPS, vehicles TOT 223 ACT 65 BUF 277)                            \r",
      "Step #400.00 (1ms ~= 1000.00*RT, ~73000.00UPS, vehicles TOT 290 ACT 73 BUF 210)           \r",
      "Step #500.00 (0ms ?*RT. ?UPS, vehicles TOT 331 ACT 61 BUF 169)                            \r",
      "Step #600.00 (1ms ~= 1000.00*RT, ~77000.00UPS, vehicles TOT 405 ACT 77 BUF 95)            \r",
      "Step #700.00 (1ms ~= 1000.00*RT, ~58000.00UPS, vehicles TOT 449 ACT 58 BUF 51)            \r",
      "Step #800.00 (1ms ~= 1000.00*RT, ~50000.00UPS, vehicles TOT 500 ACT 50 BUF 0)             \r",
      "Step #874.00 (0ms ?*RT. ?UPS, vehicles TOT 500 ACT 0 BUF 0)                               \r\n"
     ]
    },
    {
     "name": "stderr",
     "output_type": "stream",
     "text": [
      "Warning: Environment variable SUMO_HOME is not set properly, disabling XML validation. Set 'auto' or 'always' for web lookups.\n",
      " 79%|████████████████████████████████▍        | 396/500 [04:05<01:16,  1.35it/s]"
     ]
    },
    {
     "name": "stdout",
     "output_type": "stream",
     "text": [
      "Step #0.00 (0ms ?*RT. ?UPS, vehicles TOT 1 ACT 1 BUF 0)                                   \r",
      "Step #100.00 (1ms ~= 1000.00*RT, ~51000.00UPS, vehicles TOT 102 ACT 51 BUF 398)           \r",
      "Step #200.00 (1ms ~= 1000.00*RT, ~72000.00UPS, vehicles TOT 180 ACT 72 BUF 320)           \r",
      "Step #300.00 (1ms ~= 1000.00*RT, ~70000.00UPS, vehicles TOT 240 ACT 70 BUF 260)           \r",
      "Step #400.00 (1ms ~= 1000.00*RT, ~65000.00UPS, vehicles TOT 291 ACT 65 BUF 209)           \r",
      "Step #500.00 (1ms ~= 1000.00*RT, ~74000.00UPS, vehicles TOT 360 ACT 74 BUF 140)           \r",
      "Step #600.00 (1ms ~= 1000.00*RT, ~70000.00UPS, vehicles TOT 412 ACT 70 BUF 88)            \r",
      "Step #700.00 (1ms ~= 1000.00*RT, ~69000.00UPS, vehicles TOT 471 ACT 69 BUF 29)            \r",
      "Step #800.00 (0ms ?*RT. ?UPS, vehicles TOT 500 ACT 42 BUF 0)                              \r",
      "Step #868.00 (0ms ?*RT. ?UPS, vehicles TOT 500 ACT 0 BUF 0)                               \r\n"
     ]
    },
    {
     "name": "stderr",
     "output_type": "stream",
     "text": [
      "Warning: Environment variable SUMO_HOME is not set properly, disabling XML validation. Set 'auto' or 'always' for web lookups.\n",
      " 79%|████████████████████████████████▌        | 397/500 [04:06<01:15,  1.36it/s]"
     ]
    },
    {
     "name": "stdout",
     "output_type": "stream",
     "text": [
      "Step #0.00 (0ms ?*RT. ?UPS, vehicles TOT 1 ACT 1 BUF 0)                                   \r",
      "Step #100.00 (1ms ~= 1000.00*RT, ~55000.00UPS, vehicles TOT 106 ACT 55 BUF 394)           \r",
      "Step #200.00 (0ms ?*RT. ?UPS, vehicles TOT 172 ACT 57 BUF 328)                            \r",
      "Step #300.00 (1ms ~= 1000.00*RT, ~68000.00UPS, vehicles TOT 241 ACT 68 BUF 259)           \r",
      "Step #400.00 (0ms ?*RT. ?UPS, vehicles TOT 303 ACT 79 BUF 197)                            \r",
      "Step #500.00 (1ms ~= 1000.00*RT, ~60000.00UPS, vehicles TOT 348 ACT 60 BUF 152)           \r",
      "Step #600.00 (1ms ~= 1000.00*RT, ~73000.00UPS, vehicles TOT 416 ACT 73 BUF 84)            \r",
      "Step #700.00 (0ms ?*RT. ?UPS, vehicles TOT 475 ACT 78 BUF 25)                             \r",
      "Step #800.00 (1ms ~= 1000.00*RT, ~48000.00UPS, vehicles TOT 500 ACT 48 BUF 0)             \r",
      "Step #878.00 (1ms ~= 1000.00*RT, ~0.00UPS, vehicles TOT 500 ACT 0 BUF 0)                  \r\n"
     ]
    },
    {
     "name": "stderr",
     "output_type": "stream",
     "text": [
      "Warning: Environment variable SUMO_HOME is not set properly, disabling XML validation. Set 'auto' or 'always' for web lookups.\n",
      " 80%|████████████████████████████████▋        | 398/500 [04:07<01:14,  1.37it/s]"
     ]
    },
    {
     "name": "stdout",
     "output_type": "stream",
     "text": [
      "Step #0.00 (0ms ?*RT. ?UPS, vehicles TOT 1 ACT 1 BUF 0)                                   \r",
      "Step #100.00 (1ms ~= 1000.00*RT, ~57000.00UPS, vehicles TOT 105 ACT 57 BUF 395)           \r",
      "Step #200.00 (0ms ?*RT. ?UPS, vehicles TOT 172 ACT 67 BUF 328)                            \r",
      "Step #300.00 (1ms ~= 1000.00*RT, ~71000.00UPS, vehicles TOT 234 ACT 71 BUF 266)           \r",
      "Step #400.00 (1ms ~= 1000.00*RT, ~64000.00UPS, vehicles TOT 285 ACT 64 BUF 215)           \r",
      "Step #500.00 (1ms ~= 1000.00*RT, ~64000.00UPS, vehicles TOT 340 ACT 64 BUF 160)           \r",
      "Step #600.00 (0ms ?*RT. ?UPS, vehicles TOT 400 ACT 69 BUF 100)                            \r",
      "Step #700.00 (0ms ?*RT. ?UPS, vehicles TOT 464 ACT 80 BUF 36)                             \r",
      "Step #800.00 (1ms ~= 1000.00*RT, ~55000.00UPS, vehicles TOT 500 ACT 55 BUF 0)             \r",
      "Step #888.00 (0ms ?*RT. ?UPS, vehicles TOT 500 ACT 0 BUF 0)                               \r\n"
     ]
    },
    {
     "name": "stderr",
     "output_type": "stream",
     "text": [
      "Warning: Environment variable SUMO_HOME is not set properly, disabling XML validation. Set 'auto' or 'always' for web lookups.\n",
      " 80%|████████████████████████████████▋        | 399/500 [04:07<01:12,  1.40it/s]"
     ]
    },
    {
     "name": "stdout",
     "output_type": "stream",
     "text": [
      "Step #0.00 (0ms ?*RT. ?UPS, vehicles TOT 1 ACT 1 BUF 0)                                   \r",
      "Step #100.00 (1ms ~= 1000.00*RT, ~57000.00UPS, vehicles TOT 110 ACT 57 BUF 390)           \r",
      "Step #200.00 (0ms ?*RT. ?UPS, vehicles TOT 171 ACT 59 BUF 329)                            \r",
      "Step #300.00 (1ms ~= 1000.00*RT, ~72000.00UPS, vehicles TOT 240 ACT 72 BUF 260)           \r",
      "Step #400.00 (1ms ~= 1000.00*RT, ~48000.00UPS, vehicles TOT 281 ACT 48 BUF 219)           \r",
      "Step #500.00 (0ms ?*RT. ?UPS, vehicles TOT 351 ACT 56 BUF 149)                            \r",
      "Step #600.00 (1ms ~= 1000.00*RT, ~58000.00UPS, vehicles TOT 411 ACT 58 BUF 89)            \r",
      "Step #700.00 (1ms ~= 1000.00*RT, ~67000.00UPS, vehicles TOT 480 ACT 67 BUF 20)            \r",
      "Step #800.00 (0ms ?*RT. ?UPS, vehicles TOT 500 ACT 30 BUF 0)                              \r",
      "Step #846.00 (0ms ?*RT. ?UPS, vehicles TOT 500 ACT 0 BUF 0)                               \r\n"
     ]
    },
    {
     "name": "stderr",
     "output_type": "stream",
     "text": [
      "Warning: Environment variable SUMO_HOME is not set properly, disabling XML validation. Set 'auto' or 'always' for web lookups.\n",
      " 80%|████████████████████████████████▊        | 400/500 [04:08<01:11,  1.40it/s]"
     ]
    },
    {
     "name": "stdout",
     "output_type": "stream",
     "text": [
      "Step #0.00 (1ms ~= 1000.00*RT, ~1000.00UPS, vehicles TOT 1 ACT 1 BUF 0)                   \r",
      "Step #100.00 (1ms ~= 1000.00*RT, ~54000.00UPS, vehicles TOT 107 ACT 54 BUF 393)           \r",
      "Step #200.00 (0ms ?*RT. ?UPS, vehicles TOT 185 ACT 73 BUF 315)                            \r",
      "Step #300.00 (0ms ?*RT. ?UPS, vehicles TOT 233 ACT 65 BUF 267)                            \r",
      "Step #400.00 (1ms ~= 1000.00*RT, ~73000.00UPS, vehicles TOT 297 ACT 73 BUF 203)           \r",
      "Step #500.00 (1ms ~= 1000.00*RT, ~56000.00UPS, vehicles TOT 345 ACT 56 BUF 155)           \r",
      "Step #600.00 (0ms ?*RT. ?UPS, vehicles TOT 420 ACT 78 BUF 80)                             \r",
      "Step #700.00 (0ms ?*RT. ?UPS, vehicles TOT 464 ACT 68 BUF 36)                             \r",
      "Step #800.00 (0ms ?*RT. ?UPS, vehicles TOT 500 ACT 51 BUF 0)                              \r",
      "Step #881.00 (0ms ?*RT. ?UPS, vehicles TOT 500 ACT 0 BUF 0)                               \r\n"
     ]
    },
    {
     "name": "stderr",
     "output_type": "stream",
     "text": [
      "Warning: Environment variable SUMO_HOME is not set properly, disabling XML validation. Set 'auto' or 'always' for web lookups.\n",
      " 80%|████████████████████████████████▉        | 401/500 [04:09<01:11,  1.39it/s]"
     ]
    },
    {
     "name": "stdout",
     "output_type": "stream",
     "text": [
      "Step #0.00 (1ms ~= 1000.00*RT, ~1000.00UPS, vehicles TOT 1 ACT 1 BUF 0)                   \r",
      "Step #100.00 (1ms ~= 1000.00*RT, ~54000.00UPS, vehicles TOT 107 ACT 54 BUF 393)           \r",
      "Step #200.00 (1ms ~= 1000.00*RT, ~73000.00UPS, vehicles TOT 181 ACT 73 BUF 319)           \r",
      "Step #300.00 (1ms ~= 1000.00*RT, ~77000.00UPS, vehicles TOT 240 ACT 77 BUF 260)           \r",
      "Step #400.00 (1ms ~= 1000.00*RT, ~64000.00UPS, vehicles TOT 289 ACT 64 BUF 211)           \r",
      "Step #500.00 (1ms ~= 1000.00*RT, ~73000.00UPS, vehicles TOT 355 ACT 73 BUF 145)           \r",
      "Step #600.00 (1ms ~= 1000.00*RT, ~77000.00UPS, vehicles TOT 415 ACT 77 BUF 85)            \r",
      "Step #700.00 (0ms ?*RT. ?UPS, vehicles TOT 456 ACT 58 BUF 44)                             \r",
      "Step #800.00 (0ms ?*RT. ?UPS, vehicles TOT 500 ACT 48 BUF 0)                              \r",
      "Step #876.00 (0ms ?*RT. ?UPS, vehicles TOT 500 ACT 0 BUF 0)                               \r\n"
     ]
    },
    {
     "name": "stderr",
     "output_type": "stream",
     "text": [
      "Warning: Environment variable SUMO_HOME is not set properly, disabling XML validation. Set 'auto' or 'always' for web lookups.\n",
      " 80%|████████████████████████████████▉        | 402/500 [04:10<01:11,  1.37it/s]"
     ]
    },
    {
     "name": "stdout",
     "output_type": "stream",
     "text": [
      "Step #0.00 (0ms ?*RT. ?UPS, vehicles TOT 1 ACT 1 BUF 0)                                   \r",
      "Step #100.00 (1ms ~= 1000.00*RT, ~55000.00UPS, vehicles TOT 105 ACT 55 BUF 395)           \r",
      "Step #200.00 (1ms ~= 1000.00*RT, ~75000.00UPS, vehicles TOT 179 ACT 75 BUF 321)           \r",
      "Step #300.00 (1ms ~= 1000.00*RT, ~57000.00UPS, vehicles TOT 223 ACT 57 BUF 277)           \r",
      "Step #400.00 (1ms ~= 1000.00*RT, ~68000.00UPS, vehicles TOT 291 ACT 68 BUF 209)           \r",
      "Step #500.00 (1ms ~= 1000.00*RT, ~77000.00UPS, vehicles TOT 354 ACT 77 BUF 146)           \r",
      "Step #600.00 (1ms ~= 1000.00*RT, ~61000.00UPS, vehicles TOT 393 ACT 61 BUF 107)           \r",
      "Step #700.00 (1ms ~= 1000.00*RT, ~78000.00UPS, vehicles TOT 461 ACT 78 BUF 39)            \r",
      "Step #800.00 (0ms ?*RT. ?UPS, vehicles TOT 500 ACT 59 BUF 0)                              \r",
      "Step #894.00 (0ms ?*RT. ?UPS, vehicles TOT 500 ACT 0 BUF 0)                               \r\n"
     ]
    },
    {
     "name": "stderr",
     "output_type": "stream",
     "text": [
      "Warning: Environment variable SUMO_HOME is not set properly, disabling XML validation. Set 'auto' or 'always' for web lookups.\n",
      " 81%|█████████████████████████████████        | 403/500 [04:10<01:10,  1.38it/s]"
     ]
    },
    {
     "name": "stdout",
     "output_type": "stream",
     "text": [
      "Step #0.00 (0ms ?*RT. ?UPS, vehicles TOT 1 ACT 1 BUF 0)                                   \r",
      "Step #100.00 (1ms ~= 1000.00*RT, ~59000.00UPS, vehicles TOT 108 ACT 59 BUF 392)           \r",
      "Step #200.00 (1ms ~= 1000.00*RT, ~70000.00UPS, vehicles TOT 174 ACT 70 BUF 326)           \r",
      "Step #300.00 (1ms ~= 1000.00*RT, ~70000.00UPS, vehicles TOT 230 ACT 70 BUF 270)           \r",
      "Step #400.00 (1ms ~= 1000.00*RT, ~71000.00UPS, vehicles TOT 286 ACT 71 BUF 214)           \r",
      "Step #500.00 (1ms ~= 1000.00*RT, ~57000.00UPS, vehicles TOT 327 ACT 57 BUF 173)           \r",
      "Step #600.00 (1ms ~= 1000.00*RT, ~74000.00UPS, vehicles TOT 399 ACT 74 BUF 101)           \r",
      "Step #700.00 (1ms ~= 1000.00*RT, ~72000.00UPS, vehicles TOT 456 ACT 72 BUF 44)            \r",
      "Step #800.00 (0ms ?*RT. ?UPS, vehicles TOT 500 ACT 53 BUF 0)                              \r",
      "Step #886.00 (0ms ?*RT. ?UPS, vehicles TOT 500 ACT 0 BUF 0)                               \r\n"
     ]
    },
    {
     "name": "stderr",
     "output_type": "stream",
     "text": [
      "Warning: Environment variable SUMO_HOME is not set properly, disabling XML validation. Set 'auto' or 'always' for web lookups.\n",
      " 81%|█████████████████████████████████▏       | 404/500 [04:11<01:10,  1.37it/s]"
     ]
    },
    {
     "name": "stdout",
     "output_type": "stream",
     "text": [
      "Step #0.00 (0ms ?*RT. ?UPS, vehicles TOT 1 ACT 1 BUF 0)                                   \r",
      "Step #100.00 (1ms ~= 1000.00*RT, ~56000.00UPS, vehicles TOT 107 ACT 56 BUF 393)           \r",
      "Step #200.00 (1ms ~= 1000.00*RT, ~55000.00UPS, vehicles TOT 161 ACT 55 BUF 339)           \r",
      "Step #300.00 (0ms ?*RT. ?UPS, vehicles TOT 235 ACT 77 BUF 265)                            \r",
      "Step #400.00 (1ms ~= 1000.00*RT, ~75000.00UPS, vehicles TOT 291 ACT 75 BUF 209)           \r",
      "Step #500.00 (1ms ~= 1000.00*RT, ~71000.00UPS, vehicles TOT 339 ACT 71 BUF 161)           \r",
      "Step #600.00 (1ms ~= 1000.00*RT, ~77000.00UPS, vehicles TOT 397 ACT 77 BUF 103)           \r",
      "Step #700.00 (1ms ~= 1000.00*RT, ~62000.00UPS, vehicles TOT 446 ACT 62 BUF 54)            \r",
      "Step #800.00 (0ms ?*RT. ?UPS, vehicles TOT 500 ACT 60 BUF 0)                              \r",
      "Step #896.00 (0ms ?*RT. ?UPS, vehicles TOT 500 ACT 0 BUF 0)                               \r\n"
     ]
    },
    {
     "name": "stderr",
     "output_type": "stream",
     "text": [
      "Warning: Environment variable SUMO_HOME is not set properly, disabling XML validation. Set 'auto' or 'always' for web lookups.\n",
      " 81%|█████████████████████████████████▏       | 405/500 [04:12<01:08,  1.38it/s]"
     ]
    },
    {
     "name": "stdout",
     "output_type": "stream",
     "text": [
      "Step #0.00 (0ms ?*RT. ?UPS, vehicles TOT 1 ACT 1 BUF 0)                                   \r",
      "Step #100.00 (1ms ~= 1000.00*RT, ~53000.00UPS, vehicles TOT 105 ACT 53 BUF 395)           \r",
      "Step #200.00 (1ms ~= 1000.00*RT, ~67000.00UPS, vehicles TOT 176 ACT 67 BUF 324)           \r",
      "Step #300.00 (0ms ?*RT. ?UPS, vehicles TOT 222 ACT 49 BUF 278)                            \r",
      "Step #400.00 (1ms ~= 1000.00*RT, ~69000.00UPS, vehicles TOT 299 ACT 69 BUF 201)           \r",
      "Step #500.00 (1ms ~= 1000.00*RT, ~54000.00UPS, vehicles TOT 346 ACT 54 BUF 154)           \r",
      "Step #600.00 (1ms ~= 1000.00*RT, ~72000.00UPS, vehicles TOT 419 ACT 72 BUF 81)            \r",
      "Step #700.00 (1ms ~= 1000.00*RT, ~59000.00UPS, vehicles TOT 460 ACT 59 BUF 40)            \r",
      "Step #800.00 (1ms ~= 1000.00*RT, ~41000.00UPS, vehicles TOT 500 ACT 41 BUF 0)             \r",
      "Step #864.00 (0ms ?*RT. ?UPS, vehicles TOT 500 ACT 0 BUF 0)                               \r\n"
     ]
    },
    {
     "name": "stderr",
     "output_type": "stream",
     "text": [
      "Warning: Environment variable SUMO_HOME is not set properly, disabling XML validation. Set 'auto' or 'always' for web lookups.\n",
      " 81%|█████████████████████████████████▎       | 406/500 [04:12<01:07,  1.39it/s]"
     ]
    },
    {
     "name": "stdout",
     "output_type": "stream",
     "text": [
      "Step #0.00 (1ms ~= 1000.00*RT, ~1000.00UPS, vehicles TOT 1 ACT 1 BUF 0)                   \r",
      "Step #100.00 (1ms ~= 1000.00*RT, ~49000.00UPS, vehicles TOT 101 ACT 49 BUF 399)           \r",
      "Step #200.00 (0ms ?*RT. ?UPS, vehicles TOT 179 ACT 74 BUF 321)                            \r",
      "Step #300.00 (1ms ~= 1000.00*RT, ~69000.00UPS, vehicles TOT 224 ACT 69 BUF 276)           \r",
      "Step #400.00 (1ms ~= 1000.00*RT, ~75000.00UPS, vehicles TOT 287 ACT 75 BUF 213)           \r",
      "Step #500.00 (0ms ?*RT. ?UPS, vehicles TOT 335 ACT 60 BUF 165)                            \r",
      "Step #600.00 (1ms ~= 1000.00*RT, ~55000.00UPS, vehicles TOT 390 ACT 55 BUF 110)           \r",
      "Step #700.00 (1ms ~= 1000.00*RT, ~61000.00UPS, vehicles TOT 449 ACT 61 BUF 51)            \r",
      "Step #800.00 (0ms ?*RT. ?UPS, vehicles TOT 500 ACT 54 BUF 0)                              \r",
      "Step #886.00 (0ms ?*RT. ?UPS, vehicles TOT 500 ACT 0 BUF 0)                               \r\n"
     ]
    },
    {
     "name": "stderr",
     "output_type": "stream",
     "text": [
      "Warning: Environment variable SUMO_HOME is not set properly, disabling XML validation. Set 'auto' or 'always' for web lookups.\n",
      " 81%|█████████████████████████████████▎       | 407/500 [04:13<01:07,  1.39it/s]"
     ]
    },
    {
     "name": "stdout",
     "output_type": "stream",
     "text": [
      "Step #0.00 (0ms ?*RT. ?UPS, vehicles TOT 1 ACT 1 BUF 0)                                   \r",
      "Step #100.00 (1ms ~= 1000.00*RT, ~58000.00UPS, vehicles TOT 107 ACT 58 BUF 393)           \r",
      "Step #200.00 (0ms ?*RT. ?UPS, vehicles TOT 152 ACT 50 BUF 348)                            \r",
      "Step #300.00 (1ms ~= 1000.00*RT, ~73000.00UPS, vehicles TOT 229 ACT 73 BUF 271)           \r",
      "Step #400.00 (0ms ?*RT. ?UPS, vehicles TOT 277 ACT 62 BUF 223)                            \r",
      "Step #500.00 (0ms ?*RT. ?UPS, vehicles TOT 350 ACT 79 BUF 150)                            \r",
      "Step #600.00 (0ms ?*RT. ?UPS, vehicles TOT 397 ACT 66 BUF 103)                            \r",
      "Step #700.00 (0ms ?*RT. ?UPS, vehicles TOT 448 ACT 59 BUF 52)                             \r",
      "Step #800.00 (0ms ?*RT. ?UPS, vehicles TOT 500 ACT 56 BUF 0)                              \r",
      "Step #886.00 (0ms ?*RT. ?UPS, vehicles TOT 500 ACT 0 BUF 0)                               \r\n"
     ]
    },
    {
     "name": "stderr",
     "output_type": "stream",
     "text": [
      "Warning: Environment variable SUMO_HOME is not set properly, disabling XML validation. Set 'auto' or 'always' for web lookups.\n",
      " 82%|█████████████████████████████████▍       | 408/500 [04:14<01:06,  1.38it/s]"
     ]
    },
    {
     "name": "stdout",
     "output_type": "stream",
     "text": [
      "Step #0.00 (0ms ?*RT. ?UPS, vehicles TOT 1 ACT 1 BUF 0)                                   \r",
      "Step #100.00 (1ms ~= 1000.00*RT, ~52000.00UPS, vehicles TOT 105 ACT 52 BUF 395)           \r",
      "Step #200.00 (1ms ~= 1000.00*RT, ~66000.00UPS, vehicles TOT 180 ACT 66 BUF 320)           \r",
      "Step #300.00 (1ms ~= 1000.00*RT, ~60000.00UPS, vehicles TOT 226 ACT 60 BUF 274)           \r",
      "Step #400.00 (1ms ~= 1000.00*RT, ~76000.00UPS, vehicles TOT 296 ACT 76 BUF 204)           \r",
      "Step #500.00 (1ms ~= 1000.00*RT, ~66000.00UPS, vehicles TOT 343 ACT 66 BUF 157)           \r",
      "Step #600.00 (1ms ~= 1000.00*RT, ~67000.00UPS, vehicles TOT 400 ACT 67 BUF 100)           \r",
      "Step #700.00 (1ms ~= 1000.00*RT, ~76000.00UPS, vehicles TOT 463 ACT 76 BUF 37)            \r",
      "Step #800.00 (1ms ~= 1000.00*RT, ~48000.00UPS, vehicles TOT 497 ACT 48 BUF 3)             \r",
      "Step #889.00 (1ms ~= 1000.00*RT, ~0.00UPS, vehicles TOT 500 ACT 0 BUF 0)                  \r\n"
     ]
    },
    {
     "name": "stderr",
     "output_type": "stream",
     "text": [
      "Warning: Environment variable SUMO_HOME is not set properly, disabling XML validation. Set 'auto' or 'always' for web lookups.\n",
      " 82%|█████████████████████████████████▌       | 409/500 [04:15<01:06,  1.37it/s]"
     ]
    },
    {
     "name": "stdout",
     "output_type": "stream",
     "text": [
      "Step #0.00 (0ms ?*RT. ?UPS, vehicles TOT 1 ACT 1 BUF 0)                                   \r",
      "Step #100.00 (1ms ~= 1000.00*RT, ~51000.00UPS, vehicles TOT 105 ACT 51 BUF 395)           \r",
      "Step #200.00 (1ms ~= 1000.00*RT, ~71000.00UPS, vehicles TOT 178 ACT 71 BUF 322)           \r",
      "Step #300.00 (1ms ~= 1000.00*RT, ~77000.00UPS, vehicles TOT 239 ACT 77 BUF 261)           \r",
      "Step #400.00 (1ms ~= 1000.00*RT, ~70000.00UPS, vehicles TOT 289 ACT 70 BUF 211)           \r",
      "Step #500.00 (1ms ~= 1000.00*RT, ~75000.00UPS, vehicles TOT 350 ACT 75 BUF 150)           \r",
      "Step #600.00 (1ms ~= 1000.00*RT, ~80000.00UPS, vehicles TOT 412 ACT 80 BUF 88)            \r",
      "Step #700.00 (1ms ~= 1000.00*RT, ~81000.00UPS, vehicles TOT 467 ACT 81 BUF 33)            \r",
      "Step #800.00 (0ms ?*RT. ?UPS, vehicles TOT 500 ACT 56 BUF 0)                              \r",
      "Step #895.00 (0ms ?*RT. ?UPS, vehicles TOT 500 ACT 0 BUF 0)                               \r\n"
     ]
    },
    {
     "name": "stderr",
     "output_type": "stream",
     "text": [
      "Warning: Environment variable SUMO_HOME is not set properly, disabling XML validation. Set 'auto' or 'always' for web lookups.\n",
      " 82%|█████████████████████████████████▌       | 410/500 [04:15<01:05,  1.37it/s]"
     ]
    },
    {
     "name": "stdout",
     "output_type": "stream",
     "text": [
      "Step #0.00 (0ms ?*RT. ?UPS, vehicles TOT 1 ACT 1 BUF 0)                                   \r",
      "Step #100.00 (1ms ~= 1000.00*RT, ~56000.00UPS, vehicles TOT 104 ACT 56 BUF 396)           \r",
      "Step #200.00 (1ms ~= 1000.00*RT, ~64000.00UPS, vehicles TOT 164 ACT 64 BUF 336)           \r",
      "Step #300.00 (1ms ~= 1000.00*RT, ~74000.00UPS, vehicles TOT 230 ACT 74 BUF 270)           \r",
      "Step #400.00 (1ms ~= 1000.00*RT, ~57000.00UPS, vehicles TOT 275 ACT 57 BUF 225)           \r",
      "Step #500.00 (1ms ~= 1000.00*RT, ~72000.00UPS, vehicles TOT 349 ACT 72 BUF 151)           \r",
      "Step #600.00 (0ms ?*RT. ?UPS, vehicles TOT 397 ACT 60 BUF 103)                            \r",
      "Step #700.00 (1ms ~= 1000.00*RT, ~74000.00UPS, vehicles TOT 469 ACT 74 BUF 31)            \r",
      "Step #800.00 (0ms ?*RT. ?UPS, vehicles TOT 500 ACT 53 BUF 0)                              \r",
      "Step #886.00 (0ms ?*RT. ?UPS, vehicles TOT 500 ACT 0 BUF 0)                               \r\n"
     ]
    },
    {
     "name": "stderr",
     "output_type": "stream",
     "text": [
      "Warning: Environment variable SUMO_HOME is not set properly, disabling XML validation. Set 'auto' or 'always' for web lookups.\n",
      " 82%|█████████████████████████████████▋       | 411/500 [04:16<01:04,  1.38it/s]"
     ]
    },
    {
     "name": "stdout",
     "output_type": "stream",
     "text": [
      "Step #0.00 (1ms ~= 1000.00*RT, ~1000.00UPS, vehicles TOT 1 ACT 1 BUF 0)                   \r",
      "Step #100.00 (1ms ~= 1000.00*RT, ~55000.00UPS, vehicles TOT 106 ACT 55 BUF 394)           \r",
      "Step #200.00 (1ms ~= 1000.00*RT, ~59000.00UPS, vehicles TOT 171 ACT 59 BUF 329)           \r",
      "Step #300.00 (0ms ?*RT. ?UPS, vehicles TOT 228 ACT 63 BUF 272)                            \r",
      "Step #400.00 (0ms ?*RT. ?UPS, vehicles TOT 292 ACT 74 BUF 208)                            \r",
      "Step #500.00 (1ms ~= 1000.00*RT, ~67000.00UPS, vehicles TOT 342 ACT 67 BUF 158)           \r",
      "Step #600.00 (1ms ~= 1000.00*RT, ~62000.00UPS, vehicles TOT 395 ACT 62 BUF 105)           \r",
      "Step #700.00 (0ms ?*RT. ?UPS, vehicles TOT 442 ACT 53 BUF 58)                             \r",
      "Step #800.00 (1ms ~= 1000.00*RT, ~57000.00UPS, vehicles TOT 500 ACT 57 BUF 0)             \r",
      "Step #896.00 (0ms ?*RT. ?UPS, vehicles TOT 500 ACT 0 BUF 0)                               \r\n"
     ]
    },
    {
     "name": "stderr",
     "output_type": "stream",
     "text": [
      "Warning: Environment variable SUMO_HOME is not set properly, disabling XML validation. Set 'auto' or 'always' for web lookups.\n",
      " 82%|█████████████████████████████████▊       | 412/500 [04:17<01:03,  1.38it/s]"
     ]
    },
    {
     "name": "stdout",
     "output_type": "stream",
     "text": [
      "Step #0.00 (1ms ~= 1000.00*RT, ~1000.00UPS, vehicles TOT 1 ACT 1 BUF 0)                   \r",
      "Step #100.00 (1ms ~= 1000.00*RT, ~46000.00UPS, vehicles TOT 98 ACT 46 BUF 402)            \r",
      "Step #200.00 (0ms ?*RT. ?UPS, vehicles TOT 161 ACT 53 BUF 339)                            \r",
      "Step #300.00 (1ms ~= 1000.00*RT, ~73000.00UPS, vehicles TOT 236 ACT 73 BUF 264)           \r",
      "Step #400.00 (0ms ?*RT. ?UPS, vehicles TOT 279 ACT 58 BUF 221)                            \r",
      "Step #500.00 (1ms ~= 1000.00*RT, ~76000.00UPS, vehicles TOT 347 ACT 76 BUF 153)           \r",
      "Step #600.00 (1ms ~= 1000.00*RT, ~69000.00UPS, vehicles TOT 392 ACT 69 BUF 108)           \r",
      "Step #700.00 (1ms ~= 1000.00*RT, ~71000.00UPS, vehicles TOT 451 ACT 71 BUF 49)            \r",
      "Step #800.00 (0ms ?*RT. ?UPS, vehicles TOT 487 ACT 52 BUF 13)                             \r",
      "Step #900.00 (0ms ?*RT. ?UPS, vehicles TOT 500 ACT 2 BUF 0)                               \r",
      "Step #904.00 (0ms ?*RT. ?UPS, vehicles TOT 500 ACT 0 BUF 0)                               \r\n"
     ]
    },
    {
     "name": "stderr",
     "output_type": "stream",
     "text": [
      "Warning: Environment variable SUMO_HOME is not set properly, disabling XML validation. Set 'auto' or 'always' for web lookups.\n",
      " 83%|█████████████████████████████████▊       | 413/500 [04:17<01:02,  1.39it/s]"
     ]
    },
    {
     "name": "stdout",
     "output_type": "stream",
     "text": [
      "Step #0.00 (0ms ?*RT. ?UPS, vehicles TOT 1 ACT 1 BUF 0)                                   \r",
      "Step #100.00 (1ms ~= 1000.00*RT, ~59000.00UPS, vehicles TOT 111 ACT 59 BUF 389)           \r",
      "Step #200.00 (1ms ~= 1000.00*RT, ~70000.00UPS, vehicles TOT 181 ACT 70 BUF 319)           \r",
      "Step #300.00 (1ms ~= 1000.00*RT, ~64000.00UPS, vehicles TOT 234 ACT 64 BUF 266)           \r",
      "Step #400.00 (1ms ~= 1000.00*RT, ~66000.00UPS, vehicles TOT 290 ACT 66 BUF 210)           \r",
      "Step #500.00 (1ms ~= 1000.00*RT, ~65000.00UPS, vehicles TOT 344 ACT 65 BUF 156)           \r",
      "Step #600.00 (0ms ?*RT. ?UPS, vehicles TOT 384 ACT 48 BUF 116)                            \r",
      "Step #700.00 (0ms ?*RT. ?UPS, vehicles TOT 466 ACT 74 BUF 34)                             \r",
      "Step #800.00 (1ms ~= 1000.00*RT, ~54000.00UPS, vehicles TOT 500 ACT 54 BUF 0)             \r",
      "Step #888.00 (0ms ?*RT. ?UPS, vehicles TOT 500 ACT 0 BUF 0)                               \r\n"
     ]
    },
    {
     "name": "stderr",
     "output_type": "stream",
     "text": [
      "Warning: Environment variable SUMO_HOME is not set properly, disabling XML validation. Set 'auto' or 'always' for web lookups.\n",
      " 83%|█████████████████████████████████▉       | 414/500 [04:18<01:00,  1.41it/s]"
     ]
    },
    {
     "name": "stdout",
     "output_type": "stream",
     "text": [
      "Step #0.00 (0ms ?*RT. ?UPS, vehicles TOT 1 ACT 1 BUF 0)                                   \r",
      "Step #100.00 (1ms ~= 1000.00*RT, ~55000.00UPS, vehicles TOT 107 ACT 55 BUF 393)           \r",
      "Step #200.00 (1ms ~= 1000.00*RT, ~64000.00UPS, vehicles TOT 173 ACT 64 BUF 327)           \r",
      "Step #300.00 (1ms ~= 1000.00*RT, ~56000.00UPS, vehicles TOT 228 ACT 56 BUF 272)           \r",
      "Step #400.00 (1ms ~= 1000.00*RT, ~72000.00UPS, vehicles TOT 301 ACT 72 BUF 199)           \r",
      "Step #500.00 (1ms ~= 1000.00*RT, ~51000.00UPS, vehicles TOT 335 ACT 51 BUF 165)           \r",
      "Step #600.00 (1ms ~= 1000.00*RT, ~70000.00UPS, vehicles TOT 411 ACT 70 BUF 89)            \r",
      "Step #700.00 (1ms ~= 1000.00*RT, ~54000.00UPS, vehicles TOT 456 ACT 54 BUF 44)            \r",
      "Step #800.00 (0ms ?*RT. ?UPS, vehicles TOT 500 ACT 41 BUF 0)                              \r",
      "Step #864.00 (0ms ?*RT. ?UPS, vehicles TOT 500 ACT 0 BUF 0)                               \r\n"
     ]
    },
    {
     "name": "stderr",
     "output_type": "stream",
     "text": [
      "Warning: Environment variable SUMO_HOME is not set properly, disabling XML validation. Set 'auto' or 'always' for web lookups.\n",
      " 83%|██████████████████████████████████       | 415/500 [04:19<01:00,  1.39it/s]"
     ]
    },
    {
     "name": "stdout",
     "output_type": "stream",
     "text": [
      "Step #0.00 (0ms ?*RT. ?UPS, vehicles TOT 1 ACT 1 BUF 0)                                   \r",
      "Step #100.00 (1ms ~= 1000.00*RT, ~52000.00UPS, vehicles TOT 105 ACT 52 BUF 395)           \r",
      "Step #200.00 (1ms ~= 1000.00*RT, ~73000.00UPS, vehicles TOT 185 ACT 73 BUF 315)           \r",
      "Step #300.00 (0ms ?*RT. ?UPS, vehicles TOT 238 ACT 67 BUF 262)                            \r",
      "Step #400.00 (0ms ?*RT. ?UPS, vehicles TOT 304 ACT 77 BUF 196)                            \r",
      "Step #500.00 (1ms ~= 1000.00*RT, ~60000.00UPS, vehicles TOT 344 ACT 60 BUF 156)           \r",
      "Step #600.00 (1ms ~= 1000.00*RT, ~58000.00UPS, vehicles TOT 398 ACT 58 BUF 102)           \r",
      "Step #700.00 (1ms ~= 1000.00*RT, ~68000.00UPS, vehicles TOT 466 ACT 68 BUF 34)            \r",
      "Step #800.00 (0ms ?*RT. ?UPS, vehicles TOT 500 ACT 43 BUF 0)                              \r",
      "Step #873.00 (0ms ?*RT. ?UPS, vehicles TOT 500 ACT 0 BUF 0)                               \r\n"
     ]
    },
    {
     "name": "stderr",
     "output_type": "stream",
     "text": [
      "Warning: Environment variable SUMO_HOME is not set properly, disabling XML validation. Set 'auto' or 'always' for web lookups.\n",
      " 83%|██████████████████████████████████       | 416/500 [04:20<01:00,  1.39it/s]"
     ]
    },
    {
     "name": "stdout",
     "output_type": "stream",
     "text": [
      "Step #0.00 (0ms ?*RT. ?UPS, vehicles TOT 1 ACT 1 BUF 0)                                   \r",
      "Step #100.00 (1ms ~= 1000.00*RT, ~45000.00UPS, vehicles TOT 98 ACT 45 BUF 402)            \r",
      "Step #200.00 (1ms ~= 1000.00*RT, ~80000.00UPS, vehicles TOT 182 ACT 80 BUF 318)           \r",
      "Step #300.00 (1ms ~= 1000.00*RT, ~64000.00UPS, vehicles TOT 227 ACT 64 BUF 273)           \r",
      "Step #400.00 (0ms ?*RT. ?UPS, vehicles TOT 272 ACT 54 BUF 228)                            \r",
      "Step #500.00 (1ms ~= 1000.00*RT, ~53000.00UPS, vehicles TOT 328 ACT 53 BUF 172)           \r",
      "Step #600.00 (1ms ~= 1000.00*RT, ~59000.00UPS, vehicles TOT 392 ACT 59 BUF 108)           \r",
      "Step #700.00 (0ms ?*RT. ?UPS, vehicles TOT 460 ACT 77 BUF 40)                             \r",
      "Step #800.00 (0ms ?*RT. ?UPS, vehicles TOT 500 ACT 58 BUF 0)                              \r",
      "Step #899.00 (1ms ~= 1000.00*RT, ~0.00UPS, vehicles TOT 500 ACT 0 BUF 0)                  \r\n"
     ]
    },
    {
     "name": "stderr",
     "output_type": "stream",
     "text": [
      "Warning: Environment variable SUMO_HOME is not set properly, disabling XML validation. Set 'auto' or 'always' for web lookups.\n",
      " 83%|██████████████████████████████████▏      | 417/500 [04:20<00:59,  1.39it/s]"
     ]
    },
    {
     "name": "stdout",
     "output_type": "stream",
     "text": [
      "Step #0.00 (0ms ?*RT. ?UPS, vehicles TOT 1 ACT 1 BUF 0)                                   \r",
      "Step #100.00 (2ms ~= 500.00*RT, ~24500.00UPS, vehicles TOT 103 ACT 49 BUF 397)            \r",
      "Step #200.00 (0ms ?*RT. ?UPS, vehicles TOT 177 ACT 71 BUF 323)                            \r",
      "Step #300.00 (1ms ~= 1000.00*RT, ~61000.00UPS, vehicles TOT 225 ACT 61 BUF 275)           \r",
      "Step #400.00 (1ms ~= 1000.00*RT, ~70000.00UPS, vehicles TOT 290 ACT 70 BUF 210)           \r",
      "Step #500.00 (1ms ~= 1000.00*RT, ~76000.00UPS, vehicles TOT 351 ACT 76 BUF 149)           \r",
      "Step #600.00 (0ms ?*RT. ?UPS, vehicles TOT 393 ACT 66 BUF 107)                            \r",
      "Step #700.00 (0ms ?*RT. ?UPS, vehicles TOT 439 ACT 53 BUF 61)                             \r",
      "Step #800.00 (0ms ?*RT. ?UPS, vehicles TOT 500 ACT 58 BUF 0)                              \r",
      "Step #895.00 (0ms ?*RT. ?UPS, vehicles TOT 500 ACT 0 BUF 0)                               \r\n"
     ]
    },
    {
     "name": "stderr",
     "output_type": "stream",
     "text": [
      "Warning: Environment variable SUMO_HOME is not set properly, disabling XML validation. Set 'auto' or 'always' for web lookups.\n",
      " 84%|██████████████████████████████████▎      | 418/500 [04:21<00:58,  1.40it/s]"
     ]
    },
    {
     "name": "stdout",
     "output_type": "stream",
     "text": [
      "Step #0.00 (0ms ?*RT. ?UPS, vehicles TOT 1 ACT 1 BUF 0)                                   \r",
      "Step #100.00 (1ms ~= 1000.00*RT, ~55000.00UPS, vehicles TOT 107 ACT 55 BUF 393)           \r",
      "Step #200.00 (0ms ?*RT. ?UPS, vehicles TOT 178 ACT 68 BUF 322)                            \r",
      "Step #300.00 (1ms ~= 1000.00*RT, ~75000.00UPS, vehicles TOT 239 ACT 75 BUF 261)           \r",
      "Step #400.00 (1ms ~= 1000.00*RT, ~58000.00UPS, vehicles TOT 279 ACT 58 BUF 221)           \r",
      "Step #500.00 (1ms ~= 1000.00*RT, ~70000.00UPS, vehicles TOT 349 ACT 70 BUF 151)           \r",
      "Step #600.00 (1ms ~= 1000.00*RT, ~53000.00UPS, vehicles TOT 393 ACT 53 BUF 107)           \r",
      "Step #700.00 (1ms ~= 1000.00*RT, ~71000.00UPS, vehicles TOT 467 ACT 71 BUF 33)            \r",
      "Step #800.00 (1ms ~= 1000.00*RT, ~47000.00UPS, vehicles TOT 500 ACT 47 BUF 0)             \r",
      "Step #868.00 (0ms ?*RT. ?UPS, vehicles TOT 500 ACT 0 BUF 0)                               \r\n"
     ]
    },
    {
     "name": "stderr",
     "output_type": "stream",
     "text": [
      "Warning: Environment variable SUMO_HOME is not set properly, disabling XML validation. Set 'auto' or 'always' for web lookups.\n",
      " 84%|██████████████████████████████████▎      | 419/500 [04:22<00:58,  1.39it/s]"
     ]
    },
    {
     "name": "stdout",
     "output_type": "stream",
     "text": [
      "Step #0.00 (0ms ?*RT. ?UPS, vehicles TOT 1 ACT 1 BUF 0)                                   \r",
      "Step #100.00 (1ms ~= 1000.00*RT, ~52000.00UPS, vehicles TOT 107 ACT 52 BUF 393)           \r",
      "Step #200.00 (1ms ~= 1000.00*RT, ~69000.00UPS, vehicles TOT 180 ACT 69 BUF 320)           \r",
      "Step #300.00 (1ms ~= 1000.00*RT, ~67000.00UPS, vehicles TOT 234 ACT 67 BUF 266)           \r",
      "Step #400.00 (0ms ?*RT. ?UPS, vehicles TOT 289 ACT 62 BUF 211)                            \r",
      "Step #500.00 (1ms ~= 1000.00*RT, ~70000.00UPS, vehicles TOT 354 ACT 70 BUF 146)           \r",
      "Step #600.00 (1ms ~= 1000.00*RT, ~56000.00UPS, vehicles TOT 395 ACT 56 BUF 105)           \r",
      "Step #700.00 (0ms ?*RT. ?UPS, vehicles TOT 460 ACT 66 BUF 40)                             \r",
      "Step #800.00 (0ms ?*RT. ?UPS, vehicles TOT 500 ACT 49 BUF 0)                              \r",
      "Step #881.00 (0ms ?*RT. ?UPS, vehicles TOT 500 ACT 0 BUF 0)                               \r\n"
     ]
    },
    {
     "name": "stderr",
     "output_type": "stream",
     "text": [
      "Warning: Environment variable SUMO_HOME is not set properly, disabling XML validation. Set 'auto' or 'always' for web lookups.\n",
      " 84%|██████████████████████████████████▍      | 420/500 [04:23<00:57,  1.40it/s]"
     ]
    },
    {
     "name": "stdout",
     "output_type": "stream",
     "text": [
      "Step #0.00 (0ms ?*RT. ?UPS, vehicles TOT 1 ACT 1 BUF 0)                                   \r",
      "Step #100.00 (1ms ~= 1000.00*RT, ~55000.00UPS, vehicles TOT 106 ACT 55 BUF 394)           \r",
      "Step #200.00 (1ms ~= 1000.00*RT, ~72000.00UPS, vehicles TOT 178 ACT 72 BUF 322)           \r",
      "Step #300.00 (1ms ~= 1000.00*RT, ~73000.00UPS, vehicles TOT 238 ACT 73 BUF 262)           \r",
      "Step #400.00 (1ms ~= 1000.00*RT, ~60000.00UPS, vehicles TOT 283 ACT 60 BUF 217)           \r",
      "Step #500.00 (1ms ~= 1000.00*RT, ~56000.00UPS, vehicles TOT 341 ACT 56 BUF 159)           \r",
      "Step #600.00 (0ms ?*RT. ?UPS, vehicles TOT 409 ACT 68 BUF 91)                             \r",
      "Step #700.00 (1ms ~= 1000.00*RT, ~61000.00UPS, vehicles TOT 457 ACT 61 BUF 43)            \r",
      "Step #800.00 (0ms ?*RT. ?UPS, vehicles TOT 500 ACT 50 BUF 0)                              \r",
      "Step #881.00 (0ms ?*RT. ?UPS, vehicles TOT 500 ACT 0 BUF 0)                               \r\n"
     ]
    },
    {
     "name": "stderr",
     "output_type": "stream",
     "text": [
      "Warning: Environment variable SUMO_HOME is not set properly, disabling XML validation. Set 'auto' or 'always' for web lookups.\n",
      " 84%|██████████████████████████████████▌      | 421/500 [04:23<00:56,  1.39it/s]"
     ]
    },
    {
     "name": "stdout",
     "output_type": "stream",
     "text": [
      "Step #0.00 (1ms ~= 1000.00*RT, ~1000.00UPS, vehicles TOT 1 ACT 1 BUF 0)                   \r",
      "Step #100.00 (1ms ~= 1000.00*RT, ~55000.00UPS, vehicles TOT 107 ACT 55 BUF 393)           \r",
      "Step #200.00 (1ms ~= 1000.00*RT, ~62000.00UPS, vehicles TOT 166 ACT 62 BUF 334)           \r",
      "Step #300.00 (1ms ~= 1000.00*RT, ~70000.00UPS, vehicles TOT 229 ACT 70 BUF 271)           \r",
      "Step #400.00 (0ms ?*RT. ?UPS, vehicles TOT 285 ACT 74 BUF 215)                            \r",
      "Step #500.00 (0ms ?*RT. ?UPS, vehicles TOT 333 ACT 64 BUF 167)                            \r",
      "Step #600.00 (0ms ?*RT. ?UPS, vehicles TOT 383 ACT 61 BUF 117)                            \r",
      "Step #700.00 (1ms ~= 1000.00*RT, ~78000.00UPS, vehicles TOT 456 ACT 78 BUF 44)            \r",
      "Step #800.00 (0ms ?*RT. ?UPS, vehicles TOT 493 ACT 54 BUF 7)                              \r",
      "Step #899.00 (0ms ?*RT. ?UPS, vehicles TOT 500 ACT 0 BUF 0)                               \r\n"
     ]
    },
    {
     "name": "stderr",
     "output_type": "stream",
     "text": [
      "Warning: Environment variable SUMO_HOME is not set properly, disabling XML validation. Set 'auto' or 'always' for web lookups.\n",
      " 84%|██████████████████████████████████▌      | 422/500 [04:24<00:56,  1.39it/s]"
     ]
    },
    {
     "name": "stdout",
     "output_type": "stream",
     "text": [
      "Step #0.00 (0ms ?*RT. ?UPS, vehicles TOT 1 ACT 1 BUF 0)                                   \r",
      "Step #100.00 (1ms ~= 1000.00*RT, ~47000.00UPS, vehicles TOT 101 ACT 47 BUF 399)           \r",
      "Step #200.00 (1ms ~= 1000.00*RT, ~74000.00UPS, vehicles TOT 180 ACT 74 BUF 320)           \r",
      "Step #300.00 (1ms ~= 1000.00*RT, ~50000.00UPS, vehicles TOT 221 ACT 50 BUF 279)           \r",
      "Step #400.00 (0ms ?*RT. ?UPS, vehicles TOT 300 ACT 77 BUF 200)                            \r",
      "Step #500.00 (1ms ~= 1000.00*RT, ~65000.00UPS, vehicles TOT 344 ACT 65 BUF 156)           \r",
      "Step #600.00 (1ms ~= 1000.00*RT, ~74000.00UPS, vehicles TOT 405 ACT 74 BUF 95)            \r",
      "Step #700.00 (0ms ?*RT. ?UPS, vehicles TOT 458 ACT 72 BUF 42)                             \r",
      "Step #800.00 (0ms ?*RT. ?UPS, vehicles TOT 492 ACT 45 BUF 8)                              \r",
      "Step #885.00 (0ms ?*RT. ?UPS, vehicles TOT 500 ACT 0 BUF 0)                               \r\n"
     ]
    },
    {
     "name": "stderr",
     "output_type": "stream",
     "text": [
      "Warning: Environment variable SUMO_HOME is not set properly, disabling XML validation. Set 'auto' or 'always' for web lookups.\n",
      " 85%|██████████████████████████████████▋      | 423/500 [04:25<00:53,  1.43it/s]"
     ]
    },
    {
     "name": "stdout",
     "output_type": "stream",
     "text": [
      "Step #0.00 (0ms ?*RT. ?UPS, vehicles TOT 1 ACT 1 BUF 0)                                   \r",
      "Step #100.00 (1ms ~= 1000.00*RT, ~47000.00UPS, vehicles TOT 103 ACT 47 BUF 397)           \r",
      "Step #200.00 (1ms ~= 1000.00*RT, ~65000.00UPS, vehicles TOT 178 ACT 65 BUF 322)           \r",
      "Step #300.00 (1ms ~= 1000.00*RT, ~80000.00UPS, vehicles TOT 249 ACT 80 BUF 251)           \r",
      "Step #400.00 (1ms ~= 1000.00*RT, ~52000.00UPS, vehicles TOT 287 ACT 52 BUF 213)           \r",
      "Step #500.00 (1ms ~= 1000.00*RT, ~56000.00UPS, vehicles TOT 349 ACT 56 BUF 151)           \r",
      "Step #600.00 (1ms ~= 1000.00*RT, ~46000.00UPS, vehicles TOT 403 ACT 46 BUF 97)            \r",
      "Step #700.00 (1ms ~= 1000.00*RT, ~67000.00UPS, vehicles TOT 482 ACT 67 BUF 18)            \r",
      "Step #800.00 (1ms ~= 1000.00*RT, ~25000.00UPS, vehicles TOT 500 ACT 25 BUF 0)             \r",
      "Step #836.00 (0ms ?*RT. ?UPS, vehicles TOT 500 ACT 0 BUF 0)                               \r\n"
     ]
    },
    {
     "name": "stderr",
     "output_type": "stream",
     "text": [
      "Warning: Environment variable SUMO_HOME is not set properly, disabling XML validation. Set 'auto' or 'always' for web lookups.\n",
      " 85%|██████████████████████████████████▊      | 424/500 [04:25<00:52,  1.45it/s]"
     ]
    },
    {
     "name": "stdout",
     "output_type": "stream",
     "text": [
      "Step #0.00 (1ms ~= 1000.00*RT, ~1000.00UPS, vehicles TOT 1 ACT 1 BUF 0)                   \r",
      "Step #100.00 (1ms ~= 1000.00*RT, ~45000.00UPS, vehicles TOT 99 ACT 45 BUF 401)            \r",
      "Step #200.00 (1ms ~= 1000.00*RT, ~72000.00UPS, vehicles TOT 182 ACT 72 BUF 318)           \r",
      "Step #300.00 (1ms ~= 1000.00*RT, ~54000.00UPS, vehicles TOT 222 ACT 54 BUF 278)           \r",
      "Step #400.00 (1ms ~= 1000.00*RT, ~56000.00UPS, vehicles TOT 285 ACT 56 BUF 215)           \r",
      "Step #500.00 (1ms ~= 1000.00*RT, ~55000.00UPS, vehicles TOT 340 ACT 55 BUF 160)           \r",
      "Step #600.00 (1ms ~= 1000.00*RT, ~58000.00UPS, vehicles TOT 401 ACT 58 BUF 99)            \r",
      "Step #700.00 (1ms ~= 1000.00*RT, ~65000.00UPS, vehicles TOT 469 ACT 65 BUF 31)            \r",
      "Step #800.00 (0ms ?*RT. ?UPS, vehicles TOT 500 ACT 37 BUF 0)                              \r",
      "Step #861.00 (0ms ?*RT. ?UPS, vehicles TOT 500 ACT 0 BUF 0)                               \r\n"
     ]
    },
    {
     "name": "stderr",
     "output_type": "stream",
     "text": [
      "Warning: Environment variable SUMO_HOME is not set properly, disabling XML validation. Set 'auto' or 'always' for web lookups.\n",
      " 85%|██████████████████████████████████▊      | 425/500 [04:26<00:52,  1.44it/s]"
     ]
    },
    {
     "name": "stdout",
     "output_type": "stream",
     "text": [
      "Step #0.00 (0ms ?*RT. ?UPS, vehicles TOT 1 ACT 1 BUF 0)                                   \r",
      "Step #100.00 (1ms ~= 1000.00*RT, ~60000.00UPS, vehicles TOT 109 ACT 60 BUF 391)           \r",
      "Step #200.00 (0ms ?*RT. ?UPS, vehicles TOT 180 ACT 75 BUF 320)                            \r",
      "Step #300.00 (1ms ~= 1000.00*RT, ~52000.00UPS, vehicles TOT 215 ACT 52 BUF 285)           \r",
      "Step #400.00 (1ms ~= 1000.00*RT, ~71000.00UPS, vehicles TOT 286 ACT 71 BUF 214)           \r",
      "Step #500.00 (0ms ?*RT. ?UPS, vehicles TOT 338 ACT 61 BUF 162)                            \r",
      "Step #600.00 (1ms ~= 1000.00*RT, ~71000.00UPS, vehicles TOT 405 ACT 71 BUF 95)            \r",
      "Step #700.00 (1ms ~= 1000.00*RT, ~77000.00UPS, vehicles TOT 462 ACT 77 BUF 38)            \r",
      "Step #800.00 (0ms ?*RT. ?UPS, vehicles TOT 500 ACT 52 BUF 0)                              \r",
      "Step #880.00 (0ms ?*RT. ?UPS, vehicles TOT 500 ACT 0 BUF 0)                               \r\n"
     ]
    },
    {
     "name": "stderr",
     "output_type": "stream",
     "text": [
      "Warning: Environment variable SUMO_HOME is not set properly, disabling XML validation. Set 'auto' or 'always' for web lookups.\n",
      " 85%|██████████████████████████████████▉      | 426/500 [04:27<00:51,  1.43it/s]"
     ]
    },
    {
     "name": "stdout",
     "output_type": "stream",
     "text": [
      "Step #0.00 (1ms ~= 1000.00*RT, ~1000.00UPS, vehicles TOT 1 ACT 1 BUF 0)                   \r",
      "Step #100.00 (1ms ~= 1000.00*RT, ~56000.00UPS, vehicles TOT 108 ACT 56 BUF 392)           \r",
      "Step #200.00 (1ms ~= 1000.00*RT, ~65000.00UPS, vehicles TOT 169 ACT 65 BUF 331)           \r",
      "Step #300.00 (1ms ~= 1000.00*RT, ~53000.00UPS, vehicles TOT 221 ACT 53 BUF 279)           \r",
      "Step #400.00 (0ms ?*RT. ?UPS, vehicles TOT 292 ACT 66 BUF 208)                            \r",
      "Step #500.00 (1ms ~= 1000.00*RT, ~58000.00UPS, vehicles TOT 343 ACT 58 BUF 157)           \r",
      "Step #600.00 (0ms ?*RT. ?UPS, vehicles TOT 416 ACT 72 BUF 84)                             \r",
      "Step #700.00 (1ms ~= 1000.00*RT, ~53000.00UPS, vehicles TOT 448 ACT 53 BUF 52)            \r",
      "Step #800.00 (0ms ?*RT. ?UPS, vehicles TOT 500 ACT 51 BUF 0)                              \r",
      "Step #881.00 (0ms ?*RT. ?UPS, vehicles TOT 500 ACT 0 BUF 0)                               \r\n"
     ]
    },
    {
     "name": "stderr",
     "output_type": "stream",
     "text": [
      "Warning: Environment variable SUMO_HOME is not set properly, disabling XML validation. Set 'auto' or 'always' for web lookups.\n",
      " 85%|███████████████████████████████████      | 427/500 [04:27<00:52,  1.40it/s]"
     ]
    },
    {
     "name": "stdout",
     "output_type": "stream",
     "text": [
      "Step #0.00 (1ms ~= 1000.00*RT, ~1000.00UPS, vehicles TOT 1 ACT 1 BUF 0)                   \r",
      "Step #100.00 (1ms ~= 1000.00*RT, ~55000.00UPS, vehicles TOT 106 ACT 55 BUF 394)           \r",
      "Step #200.00 (1ms ~= 1000.00*RT, ~70000.00UPS, vehicles TOT 177 ACT 70 BUF 323)           \r",
      "Step #300.00 (0ms ?*RT. ?UPS, vehicles TOT 218 ACT 57 BUF 282)                            \r",
      "Step #400.00 (0ms ?*RT. ?UPS, vehicles TOT 290 ACT 77 BUF 210)                            \r",
      "Step #500.00 (1ms ~= 1000.00*RT, ~62000.00UPS, vehicles TOT 328 ACT 62 BUF 172)           \r",
      "Step #600.00 (0ms ?*RT. ?UPS, vehicles TOT 391 ACT 73 BUF 109)                            \r",
      "Step #700.00 (0ms ?*RT. ?UPS, vehicles TOT 442 ACT 66 BUF 58)                             \r",
      "Step #800.00 (1ms ~= 1000.00*RT, ~66000.00UPS, vehicles TOT 497 ACT 66 BUF 3)             \r",
      "Step #900.00 (0ms ?*RT. ?UPS, vehicles TOT 500 ACT 8 BUF 0)                               \r",
      "Step #911.00 (0ms ?*RT. ?UPS, vehicles TOT 500 ACT 0 BUF 0)                               \r\n"
     ]
    },
    {
     "name": "stderr",
     "output_type": "stream",
     "text": [
      "Warning: Environment variable SUMO_HOME is not set properly, disabling XML validation. Set 'auto' or 'always' for web lookups.\n",
      " 86%|███████████████████████████████████      | 428/500 [04:28<00:51,  1.40it/s]"
     ]
    },
    {
     "name": "stdout",
     "output_type": "stream",
     "text": [
      "Step #0.00 (0ms ?*RT. ?UPS, vehicles TOT 1 ACT 1 BUF 0)                                   \r",
      "Step #100.00 (1ms ~= 1000.00*RT, ~58000.00UPS, vehicles TOT 109 ACT 58 BUF 391)           \r",
      "Step #200.00 (1ms ~= 1000.00*RT, ~76000.00UPS, vehicles TOT 181 ACT 76 BUF 319)           \r",
      "Step #300.00 (1ms ~= 1000.00*RT, ~52000.00UPS, vehicles TOT 218 ACT 52 BUF 282)           \r",
      "Step #400.00 (1ms ~= 1000.00*RT, ~70000.00UPS, vehicles TOT 290 ACT 70 BUF 210)           \r",
      "Step #500.00 (0ms ?*RT. ?UPS, vehicles TOT 342 ACT 63 BUF 158)                            \r",
      "Step #600.00 (1ms ~= 1000.00*RT, ~72000.00UPS, vehicles TOT 406 ACT 72 BUF 94)            \r",
      "Step #700.00 (0ms ?*RT. ?UPS, vehicles TOT 461 ACT 65 BUF 39)                             \r",
      "Step #800.00 (1ms ~= 1000.00*RT, ~52000.00UPS, vehicles TOT 500 ACT 52 BUF 0)             \r",
      "Step #878.00 (0ms ?*RT. ?UPS, vehicles TOT 500 ACT 0 BUF 0)                               \r\n"
     ]
    },
    {
     "name": "stderr",
     "output_type": "stream",
     "text": [
      "Warning: Environment variable SUMO_HOME is not set properly, disabling XML validation. Set 'auto' or 'always' for web lookups.\n",
      " 86%|███████████████████████████████████▏     | 429/500 [04:29<00:50,  1.41it/s]"
     ]
    },
    {
     "name": "stdout",
     "output_type": "stream",
     "text": [
      "Step #0.00 (1ms ~= 1000.00*RT, ~1000.00UPS, vehicles TOT 1 ACT 1 BUF 0)                   \r",
      "Step #100.00 (1ms ~= 1000.00*RT, ~45000.00UPS, vehicles TOT 99 ACT 45 BUF 401)            \r",
      "Step #200.00 (1ms ~= 1000.00*RT, ~65000.00UPS, vehicles TOT 174 ACT 65 BUF 326)           \r",
      "Step #300.00 (1ms ~= 1000.00*RT, ~53000.00UPS, vehicles TOT 215 ACT 53 BUF 285)           \r",
      "Step #400.00 (0ms ?*RT. ?UPS, vehicles TOT 283 ACT 65 BUF 217)                            \r",
      "Step #500.00 (1ms ~= 1000.00*RT, ~53000.00UPS, vehicles TOT 324 ACT 53 BUF 176)           \r",
      "Step #600.00 (0ms ?*RT. ?UPS, vehicles TOT 397 ACT 75 BUF 103)                            \r",
      "Step #700.00 (1ms ~= 1000.00*RT, ~64000.00UPS, vehicles TOT 444 ACT 64 BUF 56)            \r",
      "Step #800.00 (1ms ~= 1000.00*RT, ~55000.00UPS, vehicles TOT 494 ACT 55 BUF 6)             \r",
      "Step #897.00 (0ms ?*RT. ?UPS, vehicles TOT 500 ACT 0 BUF 0)                               \r\n"
     ]
    },
    {
     "name": "stderr",
     "output_type": "stream",
     "text": [
      "Warning: Environment variable SUMO_HOME is not set properly, disabling XML validation. Set 'auto' or 'always' for web lookups.\n",
      " 86%|███████████████████████████████████▎     | 430/500 [04:30<00:48,  1.44it/s]"
     ]
    },
    {
     "name": "stdout",
     "output_type": "stream",
     "text": [
      "Step #0.00 (0ms ?*RT. ?UPS, vehicles TOT 1 ACT 1 BUF 0)                                   \r",
      "Step #100.00 (1ms ~= 1000.00*RT, ~49000.00UPS, vehicles TOT 102 ACT 49 BUF 398)           \r",
      "Step #200.00 (0ms ?*RT. ?UPS, vehicles TOT 177 ACT 68 BUF 323)                            \r",
      "Step #300.00 (0ms ?*RT. ?UPS, vehicles TOT 236 ACT 68 BUF 264)                            \r",
      "Step #400.00 (1ms ~= 1000.00*RT, ~67000.00UPS, vehicles TOT 291 ACT 67 BUF 209)           \r",
      "Step #500.00 (0ms ?*RT. ?UPS, vehicles TOT 333 ACT 43 BUF 167)                            \r",
      "Step #600.00 (0ms ?*RT. ?UPS, vehicles TOT 408 ACT 59 BUF 92)                             \r",
      "Step #700.00 (1ms ~= 1000.00*RT, ~45000.00UPS, vehicles TOT 455 ACT 45 BUF 45)            \r",
      "Step #800.00 (0ms ?*RT. ?UPS, vehicles TOT 500 ACT 33 BUF 0)                              \r",
      "Step #851.00 (0ms ?*RT. ?UPS, vehicles TOT 500 ACT 0 BUF 0)                               \r\n"
     ]
    },
    {
     "name": "stderr",
     "output_type": "stream",
     "text": [
      "Warning: Environment variable SUMO_HOME is not set properly, disabling XML validation. Set 'auto' or 'always' for web lookups.\n",
      " 86%|███████████████████████████████████▎     | 431/500 [04:30<00:48,  1.44it/s]"
     ]
    },
    {
     "name": "stdout",
     "output_type": "stream",
     "text": [
      "Step #0.00 (1ms ~= 1000.00*RT, ~1000.00UPS, vehicles TOT 1 ACT 1 BUF 0)                   \r",
      "Step #100.00 (2ms ~= 500.00*RT, ~25500.00UPS, vehicles TOT 101 ACT 51 BUF 399)            \r",
      "Step #200.00 (1ms ~= 1000.00*RT, ~71000.00UPS, vehicles TOT 178 ACT 71 BUF 322)           \r",
      "Step #300.00 (1ms ~= 1000.00*RT, ~77000.00UPS, vehicles TOT 238 ACT 77 BUF 262)           \r",
      "Step #400.00 (0ms ?*RT. ?UPS, vehicles TOT 278 ACT 53 BUF 222)                            \r",
      "Step #500.00 (1ms ~= 1000.00*RT, ~68000.00UPS, vehicles TOT 349 ACT 68 BUF 151)           \r",
      "Step #600.00 (1ms ~= 1000.00*RT, ~53000.00UPS, vehicles TOT 394 ACT 53 BUF 106)           \r",
      "Step #700.00 (1ms ~= 1000.00*RT, ~71000.00UPS, vehicles TOT 467 ACT 71 BUF 33)            \r",
      "Step #800.00 (0ms ?*RT. ?UPS, vehicles TOT 500 ACT 47 BUF 0)                              \r",
      "Step #881.00 (0ms ?*RT. ?UPS, vehicles TOT 500 ACT 0 BUF 0)                               \r\n"
     ]
    },
    {
     "name": "stderr",
     "output_type": "stream",
     "text": [
      "Warning: Environment variable SUMO_HOME is not set properly, disabling XML validation. Set 'auto' or 'always' for web lookups.\n",
      " 86%|███████████████████████████████████▍     | 432/500 [04:31<00:47,  1.44it/s]"
     ]
    },
    {
     "name": "stdout",
     "output_type": "stream",
     "text": [
      "Step #0.00 (0ms ?*RT. ?UPS, vehicles TOT 1 ACT 1 BUF 0)                                   \r",
      "Step #100.00 (1ms ~= 1000.00*RT, ~50000.00UPS, vehicles TOT 102 ACT 50 BUF 398)           \r",
      "Step #200.00 (1ms ~= 1000.00*RT, ~70000.00UPS, vehicles TOT 176 ACT 70 BUF 324)           \r",
      "Step #300.00 (0ms ?*RT. ?UPS, vehicles TOT 213 ACT 47 BUF 287)                            \r",
      "Step #400.00 (0ms ?*RT. ?UPS, vehicles TOT 293 ACT 71 BUF 207)                            \r",
      "Step #500.00 (1ms ~= 1000.00*RT, ~47000.00UPS, vehicles TOT 330 ACT 47 BUF 170)           \r",
      "Step #600.00 (0ms ?*RT. ?UPS, vehicles TOT 404 ACT 65 BUF 96)                             \r",
      "Step #700.00 (0ms ?*RT. ?UPS, vehicles TOT 464 ACT 65 BUF 36)                             \r",
      "Step #800.00 (0ms ?*RT. ?UPS, vehicles TOT 500 ACT 40 BUF 0)                              \r",
      "Step #872.00 (0ms ?*RT. ?UPS, vehicles TOT 500 ACT 0 BUF 0)                               \r\n"
     ]
    },
    {
     "name": "stderr",
     "output_type": "stream",
     "text": [
      "Warning: Environment variable SUMO_HOME is not set properly, disabling XML validation. Set 'auto' or 'always' for web lookups.\n",
      " 87%|███████████████████████████████████▌     | 433/500 [04:32<00:46,  1.46it/s]"
     ]
    },
    {
     "name": "stdout",
     "output_type": "stream",
     "text": [
      "Step #0.00 (0ms ?*RT. ?UPS, vehicles TOT 1 ACT 1 BUF 0)                                   \r",
      "Step #100.00 (1ms ~= 1000.00*RT, ~41000.00UPS, vehicles TOT 96 ACT 41 BUF 404)            \r",
      "Step #200.00 (1ms ~= 1000.00*RT, ~49000.00UPS, vehicles TOT 165 ACT 49 BUF 335)           \r",
      "Step #300.00 (0ms ?*RT. ?UPS, vehicles TOT 229 ACT 55 BUF 271)                            \r",
      "Step #400.00 (1ms ~= 1000.00*RT, ~66000.00UPS, vehicles TOT 298 ACT 66 BUF 202)           \r",
      "Step #500.00 (0ms ?*RT. ?UPS, vehicles TOT 340 ACT 54 BUF 160)                            \r",
      "Step #600.00 (1ms ~= 1000.00*RT, ~68000.00UPS, vehicles TOT 409 ACT 68 BUF 91)            \r",
      "Step #700.00 (0ms ?*RT. ?UPS, vehicles TOT 452 ACT 58 BUF 48)                             \r",
      "Step #800.00 (0ms ?*RT. ?UPS, vehicles TOT 500 ACT 52 BUF 0)                              \r",
      "Step #883.00 (0ms ?*RT. ?UPS, vehicles TOT 500 ACT 0 BUF 0)                               \r\n"
     ]
    },
    {
     "name": "stderr",
     "output_type": "stream",
     "text": [
      "Warning: Environment variable SUMO_HOME is not set properly, disabling XML validation. Set 'auto' or 'always' for web lookups.\n",
      " 87%|███████████████████████████████████▌     | 434/500 [04:32<00:45,  1.44it/s]"
     ]
    },
    {
     "name": "stdout",
     "output_type": "stream",
     "text": [
      "Step #0.00 (1ms ~= 1000.00*RT, ~1000.00UPS, vehicles TOT 1 ACT 1 BUF 0)                   \r",
      "Step #100.00 (2ms ~= 500.00*RT, ~24000.00UPS, vehicles TOT 100 ACT 48 BUF 400)            \r",
      "Step #200.00 (0ms ?*RT. ?UPS, vehicles TOT 174 ACT 68 BUF 326)                            \r",
      "Step #300.00 (1ms ~= 1000.00*RT, ~59000.00UPS, vehicles TOT 221 ACT 59 BUF 279)           \r",
      "Step #400.00 (1ms ~= 1000.00*RT, ~78000.00UPS, vehicles TOT 294 ACT 78 BUF 206)           \r",
      "Step #500.00 (1ms ~= 1000.00*RT, ~61000.00UPS, vehicles TOT 333 ACT 61 BUF 167)           \r",
      "Step #600.00 (1ms ~= 1000.00*RT, ~58000.00UPS, vehicles TOT 386 ACT 58 BUF 114)           \r",
      "Step #700.00 (1ms ~= 1000.00*RT, ~45000.00UPS, vehicles TOT 428 ACT 45 BUF 72)            \r",
      "Step #800.00 (1ms ~= 1000.00*RT, ~62000.00UPS, vehicles TOT 496 ACT 62 BUF 4)             \r",
      "Step #900.00 (1ms ~= 1000.00*RT, ~7000.00UPS, vehicles TOT 500 ACT 7 BUF 0)               \r",
      "Step #911.00 (0ms ?*RT. ?UPS, vehicles TOT 500 ACT 0 BUF 0)                               \r\n"
     ]
    },
    {
     "name": "stderr",
     "output_type": "stream",
     "text": [
      "Warning: Environment variable SUMO_HOME is not set properly, disabling XML validation. Set 'auto' or 'always' for web lookups.\n",
      " 87%|███████████████████████████████████▋     | 435/500 [04:33<00:46,  1.41it/s]"
     ]
    },
    {
     "name": "stdout",
     "output_type": "stream",
     "text": [
      "Step #0.00 (1ms ~= 1000.00*RT, ~1000.00UPS, vehicles TOT 1 ACT 1 BUF 0)                   \r",
      "Step #100.00 (1ms ~= 1000.00*RT, ~56000.00UPS, vehicles TOT 107 ACT 56 BUF 393)           \r",
      "Step #200.00 (0ms ?*RT. ?UPS, vehicles TOT 177 ACT 75 BUF 323)                            \r",
      "Step #300.00 (1ms ~= 1000.00*RT, ~71000.00UPS, vehicles TOT 230 ACT 71 BUF 270)           \r",
      "Step #400.00 (1ms ~= 1000.00*RT, ~69000.00UPS, vehicles TOT 285 ACT 69 BUF 215)           \r",
      "Step #500.00 (1ms ~= 1000.00*RT, ~62000.00UPS, vehicles TOT 335 ACT 62 BUF 165)           \r",
      "Step #600.00 (1ms ~= 1000.00*RT, ~68000.00UPS, vehicles TOT 395 ACT 68 BUF 105)           \r",
      "Step #700.00 (0ms ?*RT. ?UPS, vehicles TOT 456 ACT 75 BUF 44)                             \r",
      "Step #800.00 (0ms ?*RT. ?UPS, vehicles TOT 500 ACT 59 BUF 0)                              \r",
      "Step #897.00 (0ms ?*RT. ?UPS, vehicles TOT 500 ACT 0 BUF 0)                               \r\n"
     ]
    },
    {
     "name": "stderr",
     "output_type": "stream",
     "text": [
      "Warning: Environment variable SUMO_HOME is not set properly, disabling XML validation. Set 'auto' or 'always' for web lookups.\n",
      " 87%|███████████████████████████████████▊     | 436/500 [04:34<00:45,  1.39it/s]"
     ]
    },
    {
     "name": "stdout",
     "output_type": "stream",
     "text": [
      "Step #0.00 (1ms ~= 1000.00*RT, ~1000.00UPS, vehicles TOT 1 ACT 1 BUF 0)                   \r",
      "Step #100.00 (1ms ~= 1000.00*RT, ~46000.00UPS, vehicles TOT 97 ACT 46 BUF 403)            \r",
      "Step #200.00 (0ms ?*RT. ?UPS, vehicles TOT 178 ACT 74 BUF 322)                            \r",
      "Step #300.00 (1ms ~= 1000.00*RT, ~76000.00UPS, vehicles TOT 236 ACT 76 BUF 264)           \r",
      "Step #400.00 (1ms ~= 1000.00*RT, ~54000.00UPS, vehicles TOT 274 ACT 54 BUF 226)           \r",
      "Step #500.00 (0ms ?*RT. ?UPS, vehicles TOT 340 ACT 67 BUF 160)                            \r",
      "Step #600.00 (1ms ~= 1000.00*RT, ~73000.00UPS, vehicles TOT 398 ACT 73 BUF 102)           \r",
      "Step #700.00 (1ms ~= 1000.00*RT, ~43000.00UPS, vehicles TOT 428 ACT 43 BUF 72)            \r",
      "Step #800.00 (1ms ~= 1000.00*RT, ~63000.00UPS, vehicles TOT 500 ACT 63 BUF 0)             \r",
      "Step #900.00 (0ms ?*RT. ?UPS, vehicles TOT 500 ACT 1 BUF 0)                               \r",
      "Step #902.00 (0ms ?*RT. ?UPS, vehicles TOT 500 ACT 0 BUF 0)                               \r\n"
     ]
    },
    {
     "name": "stderr",
     "output_type": "stream",
     "text": [
      "Warning: Environment variable SUMO_HOME is not set properly, disabling XML validation. Set 'auto' or 'always' for web lookups.\n",
      " 87%|███████████████████████████████████▊     | 437/500 [04:34<00:44,  1.41it/s]"
     ]
    },
    {
     "name": "stdout",
     "output_type": "stream",
     "text": [
      "Step #0.00 (0ms ?*RT. ?UPS, vehicles TOT 1 ACT 1 BUF 0)                                   \r",
      "Step #100.00 (1ms ~= 1000.00*RT, ~64000.00UPS, vehicles TOT 109 ACT 64 BUF 391)           \r",
      "Step #200.00 (1ms ~= 1000.00*RT, ~58000.00UPS, vehicles TOT 165 ACT 58 BUF 335)           \r",
      "Step #300.00 (0ms ?*RT. ?UPS, vehicles TOT 218 ACT 46 BUF 282)                            \r",
      "Step #400.00 (0ms ?*RT. ?UPS, vehicles TOT 292 ACT 65 BUF 208)                            \r",
      "Step #500.00 (1ms ~= 1000.00*RT, ~60000.00UPS, vehicles TOT 349 ACT 60 BUF 151)           \r",
      "Step #600.00 (1ms ~= 1000.00*RT, ~72000.00UPS, vehicles TOT 417 ACT 72 BUF 83)            \r",
      "Step #700.00 (1ms ~= 1000.00*RT, ~70000.00UPS, vehicles TOT 470 ACT 70 BUF 30)            \r",
      "Step #800.00 (0ms ?*RT. ?UPS, vehicles TOT 500 ACT 45 BUF 0)                              \r",
      "Step #874.00 (0ms ?*RT. ?UPS, vehicles TOT 500 ACT 0 BUF 0)                               \r\n"
     ]
    },
    {
     "name": "stderr",
     "output_type": "stream",
     "text": [
      "Warning: Environment variable SUMO_HOME is not set properly, disabling XML validation. Set 'auto' or 'always' for web lookups.\n",
      " 88%|███████████████████████████████████▉     | 438/500 [04:35<00:44,  1.39it/s]"
     ]
    },
    {
     "name": "stdout",
     "output_type": "stream",
     "text": [
      "Step #0.00 (1ms ~= 1000.00*RT, ~1000.00UPS, vehicles TOT 1 ACT 1 BUF 0)                   \r",
      "Step #100.00 (1ms ~= 1000.00*RT, ~59000.00UPS, vehicles TOT 104 ACT 59 BUF 396)           \r",
      "Step #200.00 (1ms ~= 1000.00*RT, ~73000.00UPS, vehicles TOT 172 ACT 73 BUF 328)           \r",
      "Step #300.00 (1ms ~= 1000.00*RT, ~73000.00UPS, vehicles TOT 230 ACT 73 BUF 270)           \r",
      "Step #400.00 (1ms ~= 1000.00*RT, ~65000.00UPS, vehicles TOT 275 ACT 65 BUF 225)           \r",
      "Step #500.00 (1ms ~= 1000.00*RT, ~70000.00UPS, vehicles TOT 335 ACT 70 BUF 165)           \r",
      "Step #600.00 (1ms ~= 1000.00*RT, ~49000.00UPS, vehicles TOT 369 ACT 49 BUF 131)           \r",
      "Step #700.00 (1ms ~= 1000.00*RT, ~48000.00UPS, vehicles TOT 425 ACT 48 BUF 75)            \r",
      "Step #800.00 (0ms ?*RT. ?UPS, vehicles TOT 500 ACT 69 BUF 0)                              \r",
      "Step #900.00 (0ms ?*RT. ?UPS, vehicles TOT 500 ACT 4 BUF 0)                               \r",
      "Step #906.00 (0ms ?*RT. ?UPS, vehicles TOT 500 ACT 0 BUF 0)                               \r\n"
     ]
    },
    {
     "name": "stderr",
     "output_type": "stream",
     "text": [
      "Warning: Environment variable SUMO_HOME is not set properly, disabling XML validation. Set 'auto' or 'always' for web lookups.\n",
      " 88%|███████████████████████████████████▉     | 439/500 [04:36<00:43,  1.40it/s]"
     ]
    },
    {
     "name": "stdout",
     "output_type": "stream",
     "text": [
      "Step #0.00 (0ms ?*RT. ?UPS, vehicles TOT 1 ACT 1 BUF 0)                                   \r",
      "Step #100.00 (1ms ~= 1000.00*RT, ~52000.00UPS, vehicles TOT 105 ACT 52 BUF 395)           \r",
      "Step #200.00 (1ms ~= 1000.00*RT, ~53000.00UPS, vehicles TOT 170 ACT 53 BUF 330)           \r",
      "Step #300.00 (1ms ~= 1000.00*RT, ~67000.00UPS, vehicles TOT 240 ACT 67 BUF 260)           \r",
      "Step #400.00 (1ms ~= 1000.00*RT, ~67000.00UPS, vehicles TOT 291 ACT 67 BUF 209)           \r",
      "Step #500.00 (0ms ?*RT. ?UPS, vehicles TOT 346 ACT 62 BUF 154)                            \r",
      "Step #600.00 (1ms ~= 1000.00*RT, ~67000.00UPS, vehicles TOT 401 ACT 67 BUF 99)            \r",
      "Step #700.00 (1ms ~= 1000.00*RT, ~60000.00UPS, vehicles TOT 446 ACT 60 BUF 54)            \r",
      "Step #800.00 (1ms ~= 1000.00*RT, ~61000.00UPS, vehicles TOT 500 ACT 61 BUF 0)             \r",
      "Step #900.00 (0ms ?*RT. ?UPS, vehicles TOT 500 ACT 1 BUF 0)                               \r",
      "Step #902.00 (0ms ?*RT. ?UPS, vehicles TOT 500 ACT 0 BUF 0)                               \r\n"
     ]
    },
    {
     "name": "stderr",
     "output_type": "stream",
     "text": [
      "Warning: Environment variable SUMO_HOME is not set properly, disabling XML validation. Set 'auto' or 'always' for web lookups.\n",
      " 88%|████████████████████████████████████     | 440/500 [04:37<00:43,  1.39it/s]"
     ]
    },
    {
     "name": "stdout",
     "output_type": "stream",
     "text": [
      "Step #0.00 (0ms ?*RT. ?UPS, vehicles TOT 1 ACT 1 BUF 0)                                   \r",
      "Step #100.00 (1ms ~= 1000.00*RT, ~54000.00UPS, vehicles TOT 104 ACT 54 BUF 396)           \r",
      "Step #200.00 (1ms ~= 1000.00*RT, ~71000.00UPS, vehicles TOT 175 ACT 71 BUF 325)           \r",
      "Step #300.00 (1ms ~= 1000.00*RT, ~59000.00UPS, vehicles TOT 223 ACT 59 BUF 277)           \r",
      "Step #400.00 (1ms ~= 1000.00*RT, ~68000.00UPS, vehicles TOT 288 ACT 68 BUF 212)           \r",
      "Step #500.00 (1ms ~= 1000.00*RT, ~65000.00UPS, vehicles TOT 339 ACT 65 BUF 161)           \r",
      "Step #600.00 (1ms ~= 1000.00*RT, ~68000.00UPS, vehicles TOT 393 ACT 68 BUF 107)           \r",
      "Step #700.00 (1ms ~= 1000.00*RT, ~69000.00UPS, vehicles TOT 447 ACT 69 BUF 53)            \r",
      "Step #800.00 (1ms ~= 1000.00*RT, ~68000.00UPS, vehicles TOT 500 ACT 68 BUF 0)             \r",
      "Step #900.00 (0ms ?*RT. ?UPS, vehicles TOT 500 ACT 8 BUF 0)                               \r",
      "Step #912.00 (0ms ?*RT. ?UPS, vehicles TOT 500 ACT 0 BUF 0)                               \r\n"
     ]
    },
    {
     "name": "stderr",
     "output_type": "stream",
     "text": [
      "Warning: Environment variable SUMO_HOME is not set properly, disabling XML validation. Set 'auto' or 'always' for web lookups.\n",
      " 88%|████████████████████████████████████▏    | 441/500 [04:37<00:41,  1.42it/s]"
     ]
    },
    {
     "name": "stdout",
     "output_type": "stream",
     "text": [
      "Step #0.00 (1ms ~= 1000.00*RT, ~1000.00UPS, vehicles TOT 1 ACT 1 BUF 0)                   \r",
      "Step #100.00 (1ms ~= 1000.00*RT, ~56000.00UPS, vehicles TOT 105 ACT 56 BUF 395)           \r",
      "Step #200.00 (1ms ~= 1000.00*RT, ~69000.00UPS, vehicles TOT 177 ACT 69 BUF 323)           \r",
      "Step #300.00 (1ms ~= 1000.00*RT, ~47000.00UPS, vehicles TOT 218 ACT 47 BUF 282)           \r",
      "Step #400.00 (0ms ?*RT. ?UPS, vehicles TOT 291 ACT 65 BUF 209)                            \r",
      "Step #500.00 (1ms ~= 1000.00*RT, ~64000.00UPS, vehicles TOT 348 ACT 64 BUF 152)           \r",
      "Step #600.00 (0ms ?*RT. ?UPS, vehicles TOT 403 ACT 57 BUF 97)                             \r",
      "Step #700.00 (1ms ~= 1000.00*RT, ~63000.00UPS, vehicles TOT 464 ACT 63 BUF 36)            \r",
      "Step #800.00 (0ms ?*RT. ?UPS, vehicles TOT 500 ACT 42 BUF 0)                              \r",
      "Step #866.00 (0ms ?*RT. ?UPS, vehicles TOT 500 ACT 0 BUF 0)                               \r\n"
     ]
    },
    {
     "name": "stderr",
     "output_type": "stream",
     "text": [
      "Warning: Environment variable SUMO_HOME is not set properly, disabling XML validation. Set 'auto' or 'always' for web lookups.\n",
      " 88%|████████████████████████████████████▏    | 442/500 [04:38<00:40,  1.42it/s]"
     ]
    },
    {
     "name": "stdout",
     "output_type": "stream",
     "text": [
      "Step #0.00 (1ms ~= 1000.00*RT, ~1000.00UPS, vehicles TOT 1 ACT 1 BUF 0)                   \r",
      "Step #100.00 (1ms ~= 1000.00*RT, ~55000.00UPS, vehicles TOT 107 ACT 55 BUF 393)           \r",
      "Step #200.00 (0ms ?*RT. ?UPS, vehicles TOT 175 ACT 66 BUF 325)                            \r",
      "Step #300.00 (1ms ~= 1000.00*RT, ~72000.00UPS, vehicles TOT 236 ACT 72 BUF 264)           \r",
      "Step #400.00 (1ms ~= 1000.00*RT, ~62000.00UPS, vehicles TOT 281 ACT 62 BUF 219)           \r",
      "Step #500.00 (0ms ?*RT. ?UPS, vehicles TOT 344 ACT 72 BUF 156)                            \r",
      "Step #600.00 (1ms ~= 1000.00*RT, ~59000.00UPS, vehicles TOT 391 ACT 59 BUF 109)           \r",
      "Step #700.00 (0ms ?*RT. ?UPS, vehicles TOT 442 ACT 52 BUF 58)                             \r",
      "Step #800.00 (1ms ~= 1000.00*RT, ~48000.00UPS, vehicles TOT 500 ACT 48 BUF 0)             \r",
      "Step #877.00 (0ms ?*RT. ?UPS, vehicles TOT 500 ACT 0 BUF 0)                               \r\n"
     ]
    },
    {
     "name": "stderr",
     "output_type": "stream",
     "text": [
      "Warning: Environment variable SUMO_HOME is not set properly, disabling XML validation. Set 'auto' or 'always' for web lookups.\n",
      " 89%|████████████████████████████████████▎    | 443/500 [04:39<00:40,  1.40it/s]"
     ]
    },
    {
     "name": "stdout",
     "output_type": "stream",
     "text": [
      "Step #0.00 (1ms ~= 1000.00*RT, ~1000.00UPS, vehicles TOT 1 ACT 1 BUF 0)                   \r",
      "Step #100.00 (1ms ~= 1000.00*RT, ~58000.00UPS, vehicles TOT 108 ACT 58 BUF 392)           \r",
      "Step #200.00 (0ms ?*RT. ?UPS, vehicles TOT 163 ACT 61 BUF 337)                            \r",
      "Step #300.00 (0ms ?*RT. ?UPS, vehicles TOT 205 ACT 46 BUF 295)                            \r",
      "Step #400.00 (0ms ?*RT. ?UPS, vehicles TOT 281 ACT 70 BUF 219)                            \r",
      "Step #500.00 (0ms ?*RT. ?UPS, vehicles TOT 329 ACT 62 BUF 171)                            \r",
      "Step #600.00 (0ms ?*RT. ?UPS, vehicles TOT 380 ACT 57 BUF 120)                            \r",
      "Step #700.00 (0ms ?*RT. ?UPS, vehicles TOT 443 ACT 66 BUF 57)                             \r",
      "Step #800.00 (1ms ~= 1000.00*RT, ~69000.00UPS, vehicles TOT 500 ACT 69 BUF 0)             \r",
      "Step #900.00 (0ms ?*RT. ?UPS, vehicles TOT 500 ACT 10 BUF 0)                              \r",
      "Step #914.00 (0ms ?*RT. ?UPS, vehicles TOT 500 ACT 0 BUF 0)                               \r\n"
     ]
    },
    {
     "name": "stderr",
     "output_type": "stream",
     "text": [
      "Warning: Environment variable SUMO_HOME is not set properly, disabling XML validation. Set 'auto' or 'always' for web lookups.\n",
      " 89%|████████████████████████████████████▍    | 444/500 [04:39<00:39,  1.40it/s]"
     ]
    },
    {
     "name": "stdout",
     "output_type": "stream",
     "text": [
      "Step #0.00 (0ms ?*RT. ?UPS, vehicles TOT 1 ACT 1 BUF 0)                                   \r",
      "Step #100.00 (1ms ~= 1000.00*RT, ~58000.00UPS, vehicles TOT 106 ACT 58 BUF 394)           \r",
      "Step #200.00 (1ms ~= 1000.00*RT, ~60000.00UPS, vehicles TOT 161 ACT 60 BUF 339)           \r",
      "Step #300.00 (0ms ?*RT. ?UPS, vehicles TOT 227 ACT 70 BUF 273)                            \r",
      "Step #400.00 (0ms ?*RT. ?UPS, vehicles TOT 268 ACT 46 BUF 232)                            \r",
      "Step #500.00 (1ms ~= 1000.00*RT, ~67000.00UPS, vehicles TOT 345 ACT 67 BUF 155)           \r",
      "Step #600.00 (0ms ?*RT. ?UPS, vehicles TOT 401 ACT 69 BUF 99)                             \r",
      "Step #700.00 (0ms ?*RT. ?UPS, vehicles TOT 458 ACT 73 BUF 42)                             \r",
      "Step #800.00 (1ms ~= 1000.00*RT, ~61000.00UPS, vehicles TOT 500 ACT 61 BUF 0)             \r",
      "Step #899.00 (0ms ?*RT. ?UPS, vehicles TOT 500 ACT 0 BUF 0)                               \r\n"
     ]
    },
    {
     "name": "stderr",
     "output_type": "stream",
     "text": [
      "Warning: Environment variable SUMO_HOME is not set properly, disabling XML validation. Set 'auto' or 'always' for web lookups.\n",
      " 89%|████████████████████████████████████▍    | 445/500 [04:40<00:40,  1.37it/s]"
     ]
    },
    {
     "name": "stdout",
     "output_type": "stream",
     "text": [
      "Step #0.00 (0ms ?*RT. ?UPS, vehicles TOT 1 ACT 1 BUF 0)                                   \r",
      "Step #100.00 (1ms ~= 1000.00*RT, ~57000.00UPS, vehicles TOT 108 ACT 57 BUF 392)           \r",
      "Step #200.00 (1ms ~= 1000.00*RT, ~56000.00UPS, vehicles TOT 165 ACT 56 BUF 335)           \r",
      "Step #300.00 (1ms ~= 1000.00*RT, ~61000.00UPS, vehicles TOT 228 ACT 61 BUF 272)           \r",
      "Step #400.00 (1ms ~= 1000.00*RT, ~71000.00UPS, vehicles TOT 293 ACT 71 BUF 207)           \r",
      "Step #500.00 (0ms ?*RT. ?UPS, vehicles TOT 352 ACT 71 BUF 148)                            \r",
      "Step #600.00 (0ms ?*RT. ?UPS, vehicles TOT 413 ACT 75 BUF 87)                             \r",
      "Step #700.00 (0ms ?*RT. ?UPS, vehicles TOT 460 ACT 59 BUF 40)                             \r",
      "Step #800.00 (1ms ~= 1000.00*RT, ~41000.00UPS, vehicles TOT 500 ACT 41 BUF 0)             \r",
      "Step #864.00 (0ms ?*RT. ?UPS, vehicles TOT 500 ACT 0 BUF 0)                               \r\n"
     ]
    },
    {
     "name": "stderr",
     "output_type": "stream",
     "text": [
      "Warning: Environment variable SUMO_HOME is not set properly, disabling XML validation. Set 'auto' or 'always' for web lookups.\n",
      " 89%|████████████████████████████████████▌    | 446/500 [04:41<00:38,  1.39it/s]"
     ]
    },
    {
     "name": "stdout",
     "output_type": "stream",
     "text": [
      "Step #0.00 (1ms ~= 1000.00*RT, ~1000.00UPS, vehicles TOT 1 ACT 1 BUF 0)                   \r",
      "Step #100.00 (1ms ~= 1000.00*RT, ~62000.00UPS, vehicles TOT 112 ACT 62 BUF 388)           \r",
      "Step #200.00 (0ms ?*RT. ?UPS, vehicles TOT 173 ACT 70 BUF 327)                            \r",
      "Step #300.00 (1ms ~= 1000.00*RT, ~54000.00UPS, vehicles TOT 214 ACT 54 BUF 286)           \r",
      "Step #400.00 (1ms ~= 1000.00*RT, ~65000.00UPS, vehicles TOT 286 ACT 65 BUF 214)           \r",
      "Step #500.00 (1ms ~= 1000.00*RT, ~55000.00UPS, vehicles TOT 330 ACT 55 BUF 170)           \r",
      "Step #600.00 (0ms ?*RT. ?UPS, vehicles TOT 392 ACT 63 BUF 108)                            \r",
      "Step #700.00 (1ms ~= 1000.00*RT, ~49000.00UPS, vehicles TOT 433 ACT 49 BUF 67)            \r",
      "Step #800.00 (0ms ?*RT. ?UPS, vehicles TOT 498 ACT 53 BUF 2)                              \r",
      "Step #891.00 (1ms ~= 1000.00*RT, ~0.00UPS, vehicles TOT 500 ACT 0 BUF 0)                  \r\n"
     ]
    },
    {
     "name": "stderr",
     "output_type": "stream",
     "text": [
      "Warning: Environment variable SUMO_HOME is not set properly, disabling XML validation. Set 'auto' or 'always' for web lookups.\n",
      " 89%|████████████████████████████████████▋    | 447/500 [04:42<00:38,  1.39it/s]"
     ]
    },
    {
     "name": "stdout",
     "output_type": "stream",
     "text": [
      "Step #0.00 (1ms ~= 1000.00*RT, ~1000.00UPS, vehicles TOT 1 ACT 1 BUF 0)                   \r",
      "Step #100.00 (1ms ~= 1000.00*RT, ~50000.00UPS, vehicles TOT 104 ACT 50 BUF 396)           \r",
      "Step #200.00 (0ms ?*RT. ?UPS, vehicles TOT 172 ACT 66 BUF 328)                            \r",
      "Step #300.00 (1ms ~= 1000.00*RT, ~62000.00UPS, vehicles TOT 223 ACT 62 BUF 277)           \r",
      "Step #400.00 (1ms ~= 1000.00*RT, ~61000.00UPS, vehicles TOT 277 ACT 61 BUF 223)           \r",
      "Step #500.00 (0ms ?*RT. ?UPS, vehicles TOT 339 ACT 63 BUF 161)                            \r",
      "Step #600.00 (1ms ~= 1000.00*RT, ~70000.00UPS, vehicles TOT 398 ACT 70 BUF 102)           \r",
      "Step #700.00 (0ms ?*RT. ?UPS, vehicles TOT 434 ACT 55 BUF 66)                             \r",
      "Step #800.00 (0ms ?*RT. ?UPS, vehicles TOT 500 ACT 70 BUF 0)                              \r",
      "Step #900.00 (0ms ?*RT. ?UPS, vehicles TOT 500 ACT 11 BUF 0)                              \r",
      "Step #915.00 (0ms ?*RT. ?UPS, vehicles TOT 500 ACT 0 BUF 0)                               \r\n"
     ]
    },
    {
     "name": "stderr",
     "output_type": "stream",
     "text": [
      "Warning: Environment variable SUMO_HOME is not set properly, disabling XML validation. Set 'auto' or 'always' for web lookups.\n",
      " 90%|████████████████████████████████████▋    | 448/500 [04:42<00:37,  1.40it/s]"
     ]
    },
    {
     "name": "stdout",
     "output_type": "stream",
     "text": [
      "Step #0.00 (0ms ?*RT. ?UPS, vehicles TOT 1 ACT 1 BUF 0)                                   \r",
      "Step #100.00 (1ms ~= 1000.00*RT, ~44000.00UPS, vehicles TOT 98 ACT 44 BUF 402)            \r",
      "Step #200.00 (1ms ~= 1000.00*RT, ~68000.00UPS, vehicles TOT 178 ACT 68 BUF 322)           \r",
      "Step #300.00 (0ms ?*RT. ?UPS, vehicles TOT 216 ACT 49 BUF 284)                            \r",
      "Step #400.00 (1ms ~= 1000.00*RT, ~70000.00UPS, vehicles TOT 290 ACT 70 BUF 210)           \r",
      "Step #500.00 (1ms ~= 1000.00*RT, ~58000.00UPS, vehicles TOT 336 ACT 58 BUF 164)           \r",
      "Step #600.00 (0ms ?*RT. ?UPS, vehicles TOT 389 ACT 57 BUF 111)                            \r",
      "Step #700.00 (0ms ?*RT. ?UPS, vehicles TOT 457 ACT 73 BUF 43)                             \r",
      "Step #800.00 (0ms ?*RT. ?UPS, vehicles TOT 493 ACT 47 BUF 7)                              \r",
      "Step #893.00 (0ms ?*RT. ?UPS, vehicles TOT 500 ACT 0 BUF 0)                               \r\n"
     ]
    },
    {
     "name": "stderr",
     "output_type": "stream",
     "text": [
      "Warning: Environment variable SUMO_HOME is not set properly, disabling XML validation. Set 'auto' or 'always' for web lookups.\n",
      " 90%|████████████████████████████████████▊    | 449/500 [04:43<00:36,  1.40it/s]"
     ]
    },
    {
     "name": "stdout",
     "output_type": "stream",
     "text": [
      "Step #0.00 (1ms ~= 1000.00*RT, ~1000.00UPS, vehicles TOT 1 ACT 1 BUF 0)                   \r",
      "Step #100.00 (1ms ~= 1000.00*RT, ~51000.00UPS, vehicles TOT 104 ACT 51 BUF 396)           \r",
      "Step #200.00 (1ms ~= 1000.00*RT, ~71000.00UPS, vehicles TOT 179 ACT 71 BUF 321)           \r",
      "Step #300.00 (1ms ~= 1000.00*RT, ~69000.00UPS, vehicles TOT 234 ACT 69 BUF 266)           \r",
      "Step #400.00 (1ms ~= 1000.00*RT, ~75000.00UPS, vehicles TOT 293 ACT 75 BUF 207)           \r",
      "Step #500.00 (0ms ?*RT. ?UPS, vehicles TOT 343 ACT 67 BUF 157)                            \r",
      "Step #600.00 (1ms ~= 1000.00*RT, ~53000.00UPS, vehicles TOT 389 ACT 53 BUF 111)           \r",
      "Step #700.00 (1ms ~= 1000.00*RT, ~65000.00UPS, vehicles TOT 454 ACT 65 BUF 46)            \r",
      "Step #800.00 (0ms ?*RT. ?UPS, vehicles TOT 500 ACT 47 BUF 0)                              \r",
      "Step #875.00 (0ms ?*RT. ?UPS, vehicles TOT 500 ACT 0 BUF 0)                               \r\n"
     ]
    },
    {
     "name": "stderr",
     "output_type": "stream",
     "text": [
      "Warning: Environment variable SUMO_HOME is not set properly, disabling XML validation. Set 'auto' or 'always' for web lookups.\n",
      " 90%|████████████████████████████████████▉    | 450/500 [04:44<00:35,  1.41it/s]"
     ]
    },
    {
     "name": "stdout",
     "output_type": "stream",
     "text": [
      "Step #0.00 (0ms ?*RT. ?UPS, vehicles TOT 1 ACT 1 BUF 0)                                   \r",
      "Step #100.00 (1ms ~= 1000.00*RT, ~51000.00UPS, vehicles TOT 101 ACT 51 BUF 399)           \r",
      "Step #200.00 (1ms ~= 1000.00*RT, ~67000.00UPS, vehicles TOT 176 ACT 67 BUF 324)           \r",
      "Step #300.00 (1ms ~= 1000.00*RT, ~67000.00UPS, vehicles TOT 230 ACT 67 BUF 270)           \r",
      "Step #400.00 (1ms ~= 1000.00*RT, ~73000.00UPS, vehicles TOT 290 ACT 73 BUF 210)           \r",
      "Step #500.00 (1ms ~= 1000.00*RT, ~65000.00UPS, vehicles TOT 342 ACT 65 BUF 158)           \r",
      "Step #600.00 (0ms ?*RT. ?UPS, vehicles TOT 389 ACT 55 BUF 111)                            \r",
      "Step #700.00 (1ms ~= 1000.00*RT, ~69000.00UPS, vehicles TOT 457 ACT 69 BUF 43)            \r",
      "Step #800.00 (0ms ?*RT. ?UPS, vehicles TOT 500 ACT 52 BUF 0)                              \r",
      "Step #885.00 (0ms ?*RT. ?UPS, vehicles TOT 500 ACT 0 BUF 0)                               \r\n"
     ]
    },
    {
     "name": "stderr",
     "output_type": "stream",
     "text": [
      "Warning: Environment variable SUMO_HOME is not set properly, disabling XML validation. Set 'auto' or 'always' for web lookups.\n",
      " 90%|████████████████████████████████████▉    | 451/500 [04:44<00:34,  1.41it/s]"
     ]
    },
    {
     "name": "stdout",
     "output_type": "stream",
     "text": [
      "Step #0.00 (1ms ~= 1000.00*RT, ~1000.00UPS, vehicles TOT 1 ACT 1 BUF 0)                   \r",
      "Step #100.00 (1ms ~= 1000.00*RT, ~53000.00UPS, vehicles TOT 103 ACT 53 BUF 397)           \r",
      "Step #200.00 (1ms ~= 1000.00*RT, ~67000.00UPS, vehicles TOT 174 ACT 67 BUF 326)           \r",
      "Step #300.00 (0ms ?*RT. ?UPS, vehicles TOT 209 ACT 53 BUF 291)                            \r",
      "Step #400.00 (1ms ~= 1000.00*RT, ~67000.00UPS, vehicles TOT 278 ACT 67 BUF 222)           \r",
      "Step #500.00 (1ms ~= 1000.00*RT, ~57000.00UPS, vehicles TOT 320 ACT 57 BUF 180)           \r",
      "Step #600.00 (1ms ~= 1000.00*RT, ~55000.00UPS, vehicles TOT 376 ACT 55 BUF 124)           \r",
      "Step #700.00 (0ms ?*RT. ?UPS, vehicles TOT 442 ACT 68 BUF 58)                             \r",
      "Step #800.00 (1ms ~= 1000.00*RT, ~51000.00UPS, vehicles TOT 485 ACT 51 BUF 15)            \r",
      "Step #900.00 (0ms ?*RT. ?UPS, vehicles TOT 500 ACT 1 BUF 0)                               \r",
      "Step #902.00 (0ms ?*RT. ?UPS, vehicles TOT 500 ACT 0 BUF 0)                               \r\n"
     ]
    },
    {
     "name": "stderr",
     "output_type": "stream",
     "text": [
      "Warning: Environment variable SUMO_HOME is not set properly, disabling XML validation. Set 'auto' or 'always' for web lookups.\n",
      " 90%|█████████████████████████████████████    | 452/500 [04:45<00:33,  1.41it/s]"
     ]
    },
    {
     "name": "stdout",
     "output_type": "stream",
     "text": [
      "Step #0.00 (0ms ?*RT. ?UPS, vehicles TOT 1 ACT 1 BUF 0)                                   \r",
      "Step #100.00 (1ms ~= 1000.00*RT, ~49000.00UPS, vehicles TOT 100 ACT 49 BUF 400)           \r",
      "Step #200.00 (1ms ~= 1000.00*RT, ~69000.00UPS, vehicles TOT 172 ACT 69 BUF 328)           \r",
      "Step #300.00 (1ms ~= 1000.00*RT, ~61000.00UPS, vehicles TOT 220 ACT 61 BUF 280)           \r",
      "Step #400.00 (1ms ~= 1000.00*RT, ~53000.00UPS, vehicles TOT 270 ACT 53 BUF 230)           \r",
      "Step #500.00 (1ms ~= 1000.00*RT, ~67000.00UPS, vehicles TOT 338 ACT 67 BUF 162)           \r",
      "Step #600.00 (1ms ~= 1000.00*RT, ~64000.00UPS, vehicles TOT 391 ACT 64 BUF 109)           \r",
      "Step #700.00 (0ms ?*RT. ?UPS, vehicles TOT 438 ACT 54 BUF 62)                             \r",
      "Step #800.00 (1ms ~= 1000.00*RT, ~63000.00UPS, vehicles TOT 500 ACT 63 BUF 0)             \r",
      "Step #900.00 (0ms ?*RT. ?UPS, vehicles TOT 500 ACT 8 BUF 0)                               \r",
      "Step #912.00 (0ms ?*RT. ?UPS, vehicles TOT 500 ACT 0 BUF 0)                               \r\n"
     ]
    },
    {
     "name": "stderr",
     "output_type": "stream",
     "text": [
      "Warning: Environment variable SUMO_HOME is not set properly, disabling XML validation. Set 'auto' or 'always' for web lookups.\n",
      " 91%|█████████████████████████████████████▏   | 453/500 [04:46<00:33,  1.42it/s]"
     ]
    },
    {
     "name": "stdout",
     "output_type": "stream",
     "text": [
      "Step #0.00 (1ms ~= 1000.00*RT, ~1000.00UPS, vehicles TOT 1 ACT 1 BUF 0)                   \r",
      "Step #100.00 (1ms ~= 1000.00*RT, ~54000.00UPS, vehicles TOT 104 ACT 54 BUF 396)           \r",
      "Step #200.00 (1ms ~= 1000.00*RT, ~51000.00UPS, vehicles TOT 155 ACT 51 BUF 345)           \r",
      "Step #300.00 (1ms ~= 1000.00*RT, ~69000.00UPS, vehicles TOT 226 ACT 69 BUF 274)           \r",
      "Step #400.00 (1ms ~= 1000.00*RT, ~49000.00UPS, vehicles TOT 265 ACT 49 BUF 235)           \r",
      "Step #500.00 (0ms ?*RT. ?UPS, vehicles TOT 337 ACT 65 BUF 163)                            \r",
      "Step #600.00 (0ms ?*RT. ?UPS, vehicles TOT 386 ACT 54 BUF 114)                            \r",
      "Step #700.00 (0ms ?*RT. ?UPS, vehicles TOT 453 ACT 68 BUF 47)                             \r",
      "Step #800.00 (1ms ~= 1000.00*RT, ~56000.00UPS, vehicles TOT 500 ACT 56 BUF 0)             \r",
      "Step #889.00 (0ms ?*RT. ?UPS, vehicles TOT 500 ACT 0 BUF 0)                               \r\n"
     ]
    },
    {
     "name": "stderr",
     "output_type": "stream",
     "text": [
      "Warning: Environment variable SUMO_HOME is not set properly, disabling XML validation. Set 'auto' or 'always' for web lookups.\n",
      " 91%|█████████████████████████████████████▏   | 454/500 [04:47<00:32,  1.41it/s]"
     ]
    },
    {
     "name": "stdout",
     "output_type": "stream",
     "text": [
      "Step #0.00 (0ms ?*RT. ?UPS, vehicles TOT 1 ACT 1 BUF 0)                                   \r",
      "Step #100.00 (1ms ~= 1000.00*RT, ~50000.00UPS, vehicles TOT 102 ACT 50 BUF 398)           \r",
      "Step #200.00 (1ms ~= 1000.00*RT, ~66000.00UPS, vehicles TOT 171 ACT 66 BUF 329)           \r",
      "Step #300.00 (1ms ~= 1000.00*RT, ~60000.00UPS, vehicles TOT 215 ACT 60 BUF 285)           \r",
      "Step #400.00 (0ms ?*RT. ?UPS, vehicles TOT 277 ACT 71 BUF 223)                            \r",
      "Step #500.00 (0ms ?*RT. ?UPS, vehicles TOT 320 ACT 54 BUF 180)                            \r",
      "Step #600.00 (1ms ~= 1000.00*RT, ~70000.00UPS, vehicles TOT 392 ACT 70 BUF 108)           \r",
      "Step #700.00 (1ms ~= 1000.00*RT, ~57000.00UPS, vehicles TOT 431 ACT 57 BUF 69)            \r",
      "Step #800.00 (1ms ~= 1000.00*RT, ~70000.00UPS, vehicles TOT 498 ACT 70 BUF 2)             \r",
      "Step #900.00 (1ms ~= 1000.00*RT, ~7000.00UPS, vehicles TOT 500 ACT 7 BUF 0)               \r",
      "Step #910.00 (1ms ~= 1000.00*RT, ~0.00UPS, vehicles TOT 500 ACT 0 BUF 0)                  \r\n"
     ]
    },
    {
     "name": "stderr",
     "output_type": "stream",
     "text": [
      "Warning: Environment variable SUMO_HOME is not set properly, disabling XML validation. Set 'auto' or 'always' for web lookups.\n",
      " 91%|█████████████████████████████████████▎   | 455/500 [04:47<00:31,  1.42it/s]"
     ]
    },
    {
     "name": "stdout",
     "output_type": "stream",
     "text": [
      "Step #0.00 (0ms ?*RT. ?UPS, vehicles TOT 1 ACT 1 BUF 0)                                   \r",
      "Step #100.00 (1ms ~= 1000.00*RT, ~50000.00UPS, vehicles TOT 103 ACT 50 BUF 397)           \r",
      "Step #200.00 (1ms ~= 1000.00*RT, ~62000.00UPS, vehicles TOT 172 ACT 62 BUF 328)           \r",
      "Step #300.00 (1ms ~= 1000.00*RT, ~70000.00UPS, vehicles TOT 234 ACT 70 BUF 266)           \r",
      "Step #400.00 (0ms ?*RT. ?UPS, vehicles TOT 289 ACT 67 BUF 211)                            \r",
      "Step #500.00 (1ms ~= 1000.00*RT, ~62000.00UPS, vehicles TOT 338 ACT 62 BUF 162)           \r",
      "Step #600.00 (1ms ~= 1000.00*RT, ~65000.00UPS, vehicles TOT 396 ACT 65 BUF 104)           \r",
      "Step #700.00 (0ms ?*RT. ?UPS, vehicles TOT 438 ACT 48 BUF 62)                             \r",
      "Step #800.00 (0ms ?*RT. ?UPS, vehicles TOT 500 ACT 54 BUF 0)                              \r",
      "Step #889.00 (0ms ?*RT. ?UPS, vehicles TOT 500 ACT 0 BUF 0)                               \r\n"
     ]
    },
    {
     "name": "stderr",
     "output_type": "stream",
     "text": [
      "Warning: Environment variable SUMO_HOME is not set properly, disabling XML validation. Set 'auto' or 'always' for web lookups.\n",
      " 91%|█████████████████████████████████████▍   | 456/500 [04:48<00:30,  1.42it/s]"
     ]
    },
    {
     "name": "stdout",
     "output_type": "stream",
     "text": [
      "Step #0.00 (1ms ~= 1000.00*RT, ~1000.00UPS, vehicles TOT 1 ACT 1 BUF 0)                   \r",
      "Step #100.00 (1ms ~= 1000.00*RT, ~53000.00UPS, vehicles TOT 106 ACT 53 BUF 394)           \r",
      "Step #200.00 (1ms ~= 1000.00*RT, ~60000.00UPS, vehicles TOT 169 ACT 60 BUF 331)           \r",
      "Step #300.00 (1ms ~= 1000.00*RT, ~67000.00UPS, vehicles TOT 228 ACT 67 BUF 272)           \r",
      "Step #400.00 (1ms ~= 1000.00*RT, ~64000.00UPS, vehicles TOT 276 ACT 64 BUF 224)           \r",
      "Step #500.00 (1ms ~= 1000.00*RT, ~70000.00UPS, vehicles TOT 337 ACT 70 BUF 163)           \r",
      "Step #600.00 (1ms ~= 1000.00*RT, ~66000.00UPS, vehicles TOT 393 ACT 66 BUF 107)           \r",
      "Step #700.00 (0ms ?*RT. ?UPS, vehicles TOT 447 ACT 60 BUF 53)                             \r",
      "Step #800.00 (0ms ?*RT. ?UPS, vehicles TOT 500 ACT 59 BUF 0)                              \r",
      "Step #894.00 (1ms ~= 1000.00*RT, ~0.00UPS, vehicles TOT 500 ACT 0 BUF 0)                  \r\n"
     ]
    },
    {
     "name": "stderr",
     "output_type": "stream",
     "text": [
      "Warning: Environment variable SUMO_HOME is not set properly, disabling XML validation. Set 'auto' or 'always' for web lookups.\n",
      " 91%|█████████████████████████████████████▍   | 457/500 [04:49<00:30,  1.39it/s]"
     ]
    },
    {
     "name": "stdout",
     "output_type": "stream",
     "text": [
      "Step #0.00 (0ms ?*RT. ?UPS, vehicles TOT 1 ACT 1 BUF 0)                                   \r",
      "Step #100.00 (1ms ~= 1000.00*RT, ~54000.00UPS, vehicles TOT 105 ACT 54 BUF 395)           \r",
      "Step #200.00 (1ms ~= 1000.00*RT, ~62000.00UPS, vehicles TOT 167 ACT 62 BUF 333)           \r",
      "Step #300.00 (1ms ~= 1000.00*RT, ~70000.00UPS, vehicles TOT 227 ACT 70 BUF 273)           \r",
      "Step #400.00 (0ms ?*RT. ?UPS, vehicles TOT 276 ACT 67 BUF 224)                            \r",
      "Step #500.00 (0ms ?*RT. ?UPS, vehicles TOT 328 ACT 67 BUF 172)                            \r",
      "Step #600.00 (1ms ~= 1000.00*RT, ~74000.00UPS, vehicles TOT 392 ACT 74 BUF 108)           \r",
      "Step #700.00 (0ms ?*RT. ?UPS, vehicles TOT 432 ACT 55 BUF 68)                             \r",
      "Step #800.00 (1ms ~= 1000.00*RT, ~69000.00UPS, vehicles TOT 500 ACT 69 BUF 0)             \r",
      "Step #900.00 (0ms ?*RT. ?UPS, vehicles TOT 500 ACT 7 BUF 0)                               \r",
      "Step #911.00 (0ms ?*RT. ?UPS, vehicles TOT 500 ACT 0 BUF 0)                               \r\n"
     ]
    },
    {
     "name": "stderr",
     "output_type": "stream",
     "text": [
      "Warning: Environment variable SUMO_HOME is not set properly, disabling XML validation. Set 'auto' or 'always' for web lookups.\n",
      " 92%|█████████████████████████████████████▌   | 458/500 [04:50<00:31,  1.32it/s]"
     ]
    },
    {
     "name": "stdout",
     "output_type": "stream",
     "text": [
      "Step #0.00 (0ms ?*RT. ?UPS, vehicles TOT 1 ACT 1 BUF 0)                                   \r",
      "Step #100.00 (1ms ~= 1000.00*RT, ~48000.00UPS, vehicles TOT 97 ACT 48 BUF 403)            \r",
      "Step #200.00 (1ms ~= 1000.00*RT, ~66000.00UPS, vehicles TOT 170 ACT 66 BUF 330)           \r",
      "Step #300.00 (1ms ~= 1000.00*RT, ~61000.00UPS, vehicles TOT 222 ACT 61 BUF 278)           \r",
      "Step #400.00 (1ms ~= 1000.00*RT, ~59000.00UPS, vehicles TOT 282 ACT 59 BUF 218)           \r",
      "Step #500.00 (1ms ~= 1000.00*RT, ~68000.00UPS, vehicles TOT 347 ACT 68 BUF 153)           \r",
      "Step #600.00 (1ms ~= 1000.00*RT, ~73000.00UPS, vehicles TOT 406 ACT 73 BUF 94)            \r",
      "Step #700.00 (0ms ?*RT. ?UPS, vehicles TOT 461 ACT 66 BUF 39)                             \r",
      "Step #800.00 (0ms ?*RT. ?UPS, vehicles TOT 496 ACT 42 BUF 4)                              \r",
      "Step #880.00 (0ms ?*RT. ?UPS, vehicles TOT 500 ACT 0 BUF 0)                               \r\n"
     ]
    },
    {
     "name": "stderr",
     "output_type": "stream",
     "text": [
      "Warning: Environment variable SUMO_HOME is not set properly, disabling XML validation. Set 'auto' or 'always' for web lookups.\n",
      " 92%|█████████████████████████████████████▋   | 459/500 [04:50<00:30,  1.34it/s]"
     ]
    },
    {
     "name": "stdout",
     "output_type": "stream",
     "text": [
      "Step #0.00 (1ms ~= 1000.00*RT, ~1000.00UPS, vehicles TOT 1 ACT 1 BUF 0)                   \r",
      "Step #100.00 (1ms ~= 1000.00*RT, ~56000.00UPS, vehicles TOT 105 ACT 56 BUF 395)           \r",
      "Step #200.00 (1ms ~= 1000.00*RT, ~53000.00UPS, vehicles TOT 156 ACT 53 BUF 344)           \r",
      "Step #300.00 (1ms ~= 1000.00*RT, ~55000.00UPS, vehicles TOT 219 ACT 55 BUF 281)           \r",
      "Step #400.00 (1ms ~= 1000.00*RT, ~69000.00UPS, vehicles TOT 287 ACT 69 BUF 213)           \r",
      "Step #500.00 (0ms ?*RT. ?UPS, vehicles TOT 343 ACT 73 BUF 157)                            \r",
      "Step #600.00 (0ms ?*RT. ?UPS, vehicles TOT 391 ACT 66 BUF 109)                            \r",
      "Step #700.00 (1ms ~= 1000.00*RT, ~63000.00UPS, vehicles TOT 446 ACT 63 BUF 54)            \r",
      "Step #800.00 (0ms ?*RT. ?UPS, vehicles TOT 500 ACT 64 BUF 0)                              \r",
      "Step #900.00 (0ms ?*RT. ?UPS, vehicles TOT 500 ACT 6 BUF 0)                               \r",
      "Step #909.00 (0ms ?*RT. ?UPS, vehicles TOT 500 ACT 0 BUF 0)                               \r\n"
     ]
    },
    {
     "name": "stderr",
     "output_type": "stream",
     "text": [
      "Warning: Environment variable SUMO_HOME is not set properly, disabling XML validation. Set 'auto' or 'always' for web lookups.\n",
      " 92%|█████████████████████████████████████▋   | 460/500 [04:51<00:29,  1.37it/s]"
     ]
    },
    {
     "name": "stdout",
     "output_type": "stream",
     "text": [
      "Step #0.00 (0ms ?*RT. ?UPS, vehicles TOT 1 ACT 1 BUF 0)                                   \r",
      "Step #100.00 (1ms ~= 1000.00*RT, ~53000.00UPS, vehicles TOT 105 ACT 53 BUF 395)           \r",
      "Step #200.00 (0ms ?*RT. ?UPS, vehicles TOT 162 ACT 57 BUF 338)                            \r",
      "Step #300.00 (1ms ~= 1000.00*RT, ~57000.00UPS, vehicles TOT 215 ACT 57 BUF 285)           \r",
      "Step #400.00 (1ms ~= 1000.00*RT, ~53000.00UPS, vehicles TOT 271 ACT 53 BUF 229)           \r",
      "Step #500.00 (1ms ~= 1000.00*RT, ~63000.00UPS, vehicles TOT 339 ACT 63 BUF 161)           \r",
      "Step #600.00 (1ms ~= 1000.00*RT, ~55000.00UPS, vehicles TOT 386 ACT 55 BUF 114)           \r",
      "Step #700.00 (0ms ?*RT. ?UPS, vehicles TOT 449 ACT 64 BUF 51)                             \r",
      "Step #800.00 (1ms ~= 1000.00*RT, ~62000.00UPS, vehicles TOT 500 ACT 62 BUF 0)             \r",
      "Step #900.00 (0ms ?*RT. ?UPS, vehicles TOT 500 ACT 4 BUF 0)                               \r",
      "Step #906.00 (0ms ?*RT. ?UPS, vehicles TOT 500 ACT 0 BUF 0)                               \r\n"
     ]
    },
    {
     "name": "stderr",
     "output_type": "stream",
     "text": [
      "Warning: Environment variable SUMO_HOME is not set properly, disabling XML validation. Set 'auto' or 'always' for web lookups.\n",
      " 92%|█████████████████████████████████████▊   | 461/500 [04:52<00:28,  1.38it/s]"
     ]
    },
    {
     "name": "stdout",
     "output_type": "stream",
     "text": [
      "Step #0.00 (0ms ?*RT. ?UPS, vehicles TOT 1 ACT 1 BUF 0)                                   \r",
      "Step #100.00 (1ms ~= 1000.00*RT, ~50000.00UPS, vehicles TOT 100 ACT 50 BUF 400)           \r",
      "Step #200.00 (1ms ~= 1000.00*RT, ~61000.00UPS, vehicles TOT 161 ACT 61 BUF 339)           \r",
      "Step #300.00 (0ms ?*RT. ?UPS, vehicles TOT 211 ACT 50 BUF 289)                            \r",
      "Step #400.00 (1ms ~= 1000.00*RT, ~61000.00UPS, vehicles TOT 275 ACT 61 BUF 225)           \r",
      "Step #500.00 (1ms ~= 1000.00*RT, ~64000.00UPS, vehicles TOT 329 ACT 64 BUF 171)           \r",
      "Step #600.00 (1ms ~= 1000.00*RT, ~61000.00UPS, vehicles TOT 378 ACT 61 BUF 122)           \r",
      "Step #700.00 (0ms ?*RT. ?UPS, vehicles TOT 433 ACT 63 BUF 67)                             \r",
      "Step #800.00 (1ms ~= 1000.00*RT, ~69000.00UPS, vehicles TOT 489 ACT 69 BUF 11)            \r",
      "Step #900.00 (0ms ?*RT. ?UPS, vehicles TOT 500 ACT 21 BUF 0)                              \r",
      "Step #931.00 (0ms ?*RT. ?UPS, vehicles TOT 500 ACT 0 BUF 0)                               \r\n"
     ]
    },
    {
     "name": "stderr",
     "output_type": "stream",
     "text": [
      "Warning: Environment variable SUMO_HOME is not set properly, disabling XML validation. Set 'auto' or 'always' for web lookups.\n",
      " 92%|█████████████████████████████████████▉   | 462/500 [04:52<00:27,  1.37it/s]"
     ]
    },
    {
     "name": "stdout",
     "output_type": "stream",
     "text": [
      "Step #0.00 (1ms ~= 1000.00*RT, ~1000.00UPS, vehicles TOT 1 ACT 1 BUF 0)                   \r",
      "Step #100.00 (1ms ~= 1000.00*RT, ~48000.00UPS, vehicles TOT 100 ACT 48 BUF 400)           \r",
      "Step #200.00 (1ms ~= 1000.00*RT, ~66000.00UPS, vehicles TOT 170 ACT 66 BUF 330)           \r",
      "Step #300.00 (1ms ~= 1000.00*RT, ~72000.00UPS, vehicles TOT 235 ACT 72 BUF 265)           \r",
      "Step #400.00 (0ms ?*RT. ?UPS, vehicles TOT 283 ACT 64 BUF 217)                            \r",
      "Step #500.00 (1ms ~= 1000.00*RT, ~66000.00UPS, vehicles TOT 340 ACT 66 BUF 160)           \r",
      "Step #600.00 (1ms ~= 1000.00*RT, ~52000.00UPS, vehicles TOT 389 ACT 52 BUF 111)           \r",
      "Step #700.00 (1ms ~= 1000.00*RT, ~68000.00UPS, vehicles TOT 459 ACT 68 BUF 41)            \r",
      "Step #800.00 (0ms ?*RT. ?UPS, vehicles TOT 500 ACT 55 BUF 0)                              \r",
      "Step #891.00 (0ms ?*RT. ?UPS, vehicles TOT 500 ACT 0 BUF 0)                               \r\n"
     ]
    },
    {
     "name": "stderr",
     "output_type": "stream",
     "text": [
      "Warning: Environment variable SUMO_HOME is not set properly, disabling XML validation. Set 'auto' or 'always' for web lookups.\n",
      " 93%|█████████████████████████████████████▉   | 463/500 [04:53<00:26,  1.38it/s]"
     ]
    },
    {
     "name": "stdout",
     "output_type": "stream",
     "text": [
      "Step #0.00 (0ms ?*RT. ?UPS, vehicles TOT 1 ACT 1 BUF 0)                                   \r",
      "Step #100.00 (1ms ~= 1000.00*RT, ~53000.00UPS, vehicles TOT 103 ACT 53 BUF 397)           \r",
      "Step #200.00 (1ms ~= 1000.00*RT, ~69000.00UPS, vehicles TOT 171 ACT 69 BUF 329)           \r",
      "Step #300.00 (1ms ~= 1000.00*RT, ~49000.00UPS, vehicles TOT 208 ACT 49 BUF 292)           \r",
      "Step #400.00 (0ms ?*RT. ?UPS, vehicles TOT 272 ACT 63 BUF 228)                            \r",
      "Step #500.00 (0ms ?*RT. ?UPS, vehicles TOT 317 ACT 46 BUF 183)                            \r",
      "Step #600.00 (1ms ~= 1000.00*RT, ~69000.00UPS, vehicles TOT 392 ACT 69 BUF 108)           \r",
      "Step #700.00 (1ms ~= 1000.00*RT, ~55000.00UPS, vehicles TOT 439 ACT 55 BUF 61)            \r",
      "Step #800.00 (1ms ~= 1000.00*RT, ~61000.00UPS, vehicles TOT 500 ACT 61 BUF 0)             \r",
      "Step #900.00 (0ms ?*RT. ?UPS, vehicles TOT 500 ACT 0 BUF 0)                               \r\n"
     ]
    },
    {
     "name": "stderr",
     "output_type": "stream",
     "text": [
      "Warning: Environment variable SUMO_HOME is not set properly, disabling XML validation. Set 'auto' or 'always' for web lookups.\n",
      " 93%|██████████████████████████████████████   | 464/500 [04:54<00:25,  1.39it/s]"
     ]
    },
    {
     "name": "stdout",
     "output_type": "stream",
     "text": [
      "Step #0.00 (0ms ?*RT. ?UPS, vehicles TOT 1 ACT 1 BUF 0)                                   \r",
      "Step #100.00 (1ms ~= 1000.00*RT, ~46000.00UPS, vehicles TOT 99 ACT 46 BUF 401)            \r",
      "Step #200.00 (1ms ~= 1000.00*RT, ~67000.00UPS, vehicles TOT 176 ACT 67 BUF 324)           \r",
      "Step #300.00 (1ms ~= 1000.00*RT, ~54000.00UPS, vehicles TOT 222 ACT 54 BUF 278)           \r",
      "Step #400.00 (1ms ~= 1000.00*RT, ~66000.00UPS, vehicles TOT 292 ACT 66 BUF 208)           \r",
      "Step #500.00 (1ms ~= 1000.00*RT, ~57000.00UPS, vehicles TOT 337 ACT 57 BUF 163)           \r",
      "Step #600.00 (1ms ~= 1000.00*RT, ~57000.00UPS, vehicles TOT 393 ACT 57 BUF 107)           \r",
      "Step #700.00 (1ms ~= 1000.00*RT, ~70000.00UPS, vehicles TOT 460 ACT 70 BUF 40)            \r",
      "Step #800.00 (0ms ?*RT. ?UPS, vehicles TOT 498 ACT 47 BUF 2)                              \r",
      "Step #883.00 (0ms ?*RT. ?UPS, vehicles TOT 500 ACT 0 BUF 0)                               \r\n"
     ]
    },
    {
     "name": "stderr",
     "output_type": "stream",
     "text": [
      "Warning: Environment variable SUMO_HOME is not set properly, disabling XML validation. Set 'auto' or 'always' for web lookups.\n",
      " 93%|██████████████████████████████████████▏  | 465/500 [04:55<00:25,  1.40it/s]"
     ]
    },
    {
     "name": "stdout",
     "output_type": "stream",
     "text": [
      "Step #0.00 (0ms ?*RT. ?UPS, vehicles TOT 1 ACT 1 BUF 0)                                   \r",
      "Step #100.00 (1ms ~= 1000.00*RT, ~52000.00UPS, vehicles TOT 103 ACT 52 BUF 397)           \r",
      "Step #200.00 (1ms ~= 1000.00*RT, ~59000.00UPS, vehicles TOT 163 ACT 59 BUF 337)           \r",
      "Step #300.00 (0ms ?*RT. ?UPS, vehicles TOT 224 ACT 58 BUF 276)                            \r",
      "Step #400.00 (1ms ~= 1000.00*RT, ~69000.00UPS, vehicles TOT 287 ACT 69 BUF 213)           \r",
      "Step #500.00 (1ms ~= 1000.00*RT, ~68000.00UPS, vehicles TOT 342 ACT 68 BUF 158)           \r",
      "Step #600.00 (0ms ?*RT. ?UPS, vehicles TOT 382 ACT 47 BUF 118)                            \r",
      "Step #700.00 (1ms ~= 1000.00*RT, ~69000.00UPS, vehicles TOT 460 ACT 69 BUF 40)            \r",
      "Step #800.00 (1ms ~= 1000.00*RT, ~47000.00UPS, vehicles TOT 499 ACT 47 BUF 1)             \r",
      "Step #881.00 (0ms ?*RT. ?UPS, vehicles TOT 500 ACT 0 BUF 0)                               \r\n"
     ]
    },
    {
     "name": "stderr",
     "output_type": "stream",
     "text": [
      "Warning: Environment variable SUMO_HOME is not set properly, disabling XML validation. Set 'auto' or 'always' for web lookups.\n",
      " 93%|██████████████████████████████████████▏  | 466/500 [04:55<00:24,  1.41it/s]"
     ]
    },
    {
     "name": "stdout",
     "output_type": "stream",
     "text": [
      "Step #0.00 (1ms ~= 1000.00*RT, ~1000.00UPS, vehicles TOT 1 ACT 1 BUF 0)                   \r",
      "Step #100.00 (1ms ~= 1000.00*RT, ~49000.00UPS, vehicles TOT 101 ACT 49 BUF 399)           \r",
      "Step #200.00 (1ms ~= 1000.00*RT, ~63000.00UPS, vehicles TOT 169 ACT 63 BUF 331)           \r",
      "Step #300.00 (0ms ?*RT. ?UPS, vehicles TOT 230 ACT 70 BUF 270)                            \r",
      "Step #400.00 (0ms ?*RT. ?UPS, vehicles TOT 272 ACT 54 BUF 228)                            \r",
      "Step #500.00 (0ms ?*RT. ?UPS, vehicles TOT 336 ACT 57 BUF 164)                            \r",
      "Step #600.00 (1ms ~= 1000.00*RT, ~53000.00UPS, vehicles TOT 384 ACT 53 BUF 116)           \r",
      "Step #700.00 (1ms ~= 1000.00*RT, ~54000.00UPS, vehicles TOT 443 ACT 54 BUF 57)            \r",
      "Step #800.00 (1ms ~= 1000.00*RT, ~54000.00UPS, vehicles TOT 500 ACT 54 BUF 0)             \r",
      "Step #891.00 (0ms ?*RT. ?UPS, vehicles TOT 500 ACT 0 BUF 0)                               \r\n"
     ]
    },
    {
     "name": "stderr",
     "output_type": "stream",
     "text": [
      "Warning: Environment variable SUMO_HOME is not set properly, disabling XML validation. Set 'auto' or 'always' for web lookups.\n",
      " 93%|██████████████████████████████████████▎  | 467/500 [04:56<00:23,  1.40it/s]"
     ]
    },
    {
     "name": "stdout",
     "output_type": "stream",
     "text": [
      "Step #0.00 (0ms ?*RT. ?UPS, vehicles TOT 1 ACT 1 BUF 0)                                   \r",
      "Step #100.00 (1ms ~= 1000.00*RT, ~50000.00UPS, vehicles TOT 101 ACT 50 BUF 399)           \r",
      "Step #200.00 (1ms ~= 1000.00*RT, ~68000.00UPS, vehicles TOT 170 ACT 68 BUF 330)           \r",
      "Step #300.00 (1ms ~= 1000.00*RT, ~51000.00UPS, vehicles TOT 212 ACT 51 BUF 288)           \r",
      "Step #400.00 (0ms ?*RT. ?UPS, vehicles TOT 281 ACT 66 BUF 219)                            \r",
      "Step #500.00 (0ms ?*RT. ?UPS, vehicles TOT 333 ACT 66 BUF 167)                            \r",
      "Step #600.00 (1ms ~= 1000.00*RT, ~65000.00UPS, vehicles TOT 384 ACT 65 BUF 116)           \r",
      "Step #700.00 (0ms ?*RT. ?UPS, vehicles TOT 434 ACT 61 BUF 66)                             \r",
      "Step #800.00 (0ms ?*RT. ?UPS, vehicles TOT 493 ACT 60 BUF 7)                              \r",
      "Step #900.00 (0ms ?*RT. ?UPS, vehicles TOT 500 ACT 3 BUF 0)                               \r",
      "Step #905.00 (0ms ?*RT. ?UPS, vehicles TOT 500 ACT 0 BUF 0)                               \r\n"
     ]
    },
    {
     "name": "stderr",
     "output_type": "stream",
     "text": [
      "Warning: Environment variable SUMO_HOME is not set properly, disabling XML validation. Set 'auto' or 'always' for web lookups.\n",
      " 94%|██████████████████████████████████████▍  | 468/500 [04:57<00:23,  1.38it/s]"
     ]
    },
    {
     "name": "stdout",
     "output_type": "stream",
     "text": [
      "Step #0.00 (0ms ?*RT. ?UPS, vehicles TOT 1 ACT 1 BUF 0)                                   \r",
      "Step #100.00 (1ms ~= 1000.00*RT, ~64000.00UPS, vehicles TOT 112 ACT 64 BUF 388)           \r",
      "Step #200.00 (1ms ~= 1000.00*RT, ~56000.00UPS, vehicles TOT 157 ACT 56 BUF 343)           \r",
      "Step #300.00 (1ms ~= 1000.00*RT, ~71000.00UPS, vehicles TOT 226 ACT 71 BUF 274)           \r",
      "Step #400.00 (1ms ~= 1000.00*RT, ~50000.00UPS, vehicles TOT 263 ACT 50 BUF 237)           \r",
      "Step #500.00 (0ms ?*RT. ?UPS, vehicles TOT 319 ACT 55 BUF 181)                            \r",
      "Step #600.00 (1ms ~= 1000.00*RT, ~73000.00UPS, vehicles TOT 389 ACT 73 BUF 111)           \r",
      "Step #700.00 (0ms ?*RT. ?UPS, vehicles TOT 433 ACT 61 BUF 67)                             \r",
      "Step #800.00 (1ms ~= 1000.00*RT, ~70000.00UPS, vehicles TOT 496 ACT 70 BUF 4)             \r",
      "Step #900.00 (0ms ?*RT. ?UPS, vehicles TOT 500 ACT 14 BUF 0)                              \r",
      "Step #921.00 (0ms ?*RT. ?UPS, vehicles TOT 500 ACT 0 BUF 0)                               \r\n"
     ]
    },
    {
     "name": "stderr",
     "output_type": "stream",
     "text": [
      "Warning: Environment variable SUMO_HOME is not set properly, disabling XML validation. Set 'auto' or 'always' for web lookups.\n",
      " 94%|██████████████████████████████████████▍  | 469/500 [04:57<00:22,  1.39it/s]"
     ]
    },
    {
     "name": "stdout",
     "output_type": "stream",
     "text": [
      "Step #0.00 (0ms ?*RT. ?UPS, vehicles TOT 1 ACT 1 BUF 0)                                   \r",
      "Step #100.00 (1ms ~= 1000.00*RT, ~45000.00UPS, vehicles TOT 99 ACT 45 BUF 401)            \r",
      "Step #200.00 (1ms ~= 1000.00*RT, ~64000.00UPS, vehicles TOT 173 ACT 64 BUF 327)           \r",
      "Step #300.00 (0ms ?*RT. ?UPS, vehicles TOT 222 ACT 52 BUF 278)                            \r",
      "Step #400.00 (0ms ?*RT. ?UPS, vehicles TOT 295 ACT 66 BUF 205)                            \r",
      "Step #500.00 (1ms ~= 1000.00*RT, ~68000.00UPS, vehicles TOT 351 ACT 68 BUF 149)           \r",
      "Step #600.00 (0ms ?*RT. ?UPS, vehicles TOT 392 ACT 54 BUF 108)                            \r",
      "Step #700.00 (1ms ~= 1000.00*RT, ~71000.00UPS, vehicles TOT 460 ACT 71 BUF 40)            \r",
      "Step #800.00 (1ms ~= 1000.00*RT, ~57000.00UPS, vehicles TOT 499 ACT 57 BUF 1)             \r",
      "Step #893.00 (0ms ?*RT. ?UPS, vehicles TOT 500 ACT 0 BUF 0)                               \r\n"
     ]
    },
    {
     "name": "stderr",
     "output_type": "stream",
     "text": [
      "Warning: Environment variable SUMO_HOME is not set properly, disabling XML validation. Set 'auto' or 'always' for web lookups.\n",
      " 94%|██████████████████████████████████████▌  | 470/500 [04:58<00:21,  1.39it/s]"
     ]
    },
    {
     "name": "stdout",
     "output_type": "stream",
     "text": [
      "Step #0.00 (0ms ?*RT. ?UPS, vehicles TOT 1 ACT 1 BUF 0)                                   \r",
      "Step #100.00 (2ms ~= 500.00*RT, ~23000.00UPS, vehicles TOT 99 ACT 46 BUF 401)             \r",
      "Step #200.00 (1ms ~= 1000.00*RT, ~67000.00UPS, vehicles TOT 171 ACT 67 BUF 329)           \r",
      "Step #300.00 (1ms ~= 1000.00*RT, ~56000.00UPS, vehicles TOT 212 ACT 56 BUF 288)           \r",
      "Step #400.00 (1ms ~= 1000.00*RT, ~60000.00UPS, vehicles TOT 272 ACT 60 BUF 228)           \r",
      "Step #500.00 (1ms ~= 1000.00*RT, ~66000.00UPS, vehicles TOT 333 ACT 66 BUF 167)           \r",
      "Step #600.00 (0ms ?*RT. ?UPS, vehicles TOT 387 ACT 68 BUF 113)                            \r",
      "Step #700.00 (1ms ~= 1000.00*RT, ~70000.00UPS, vehicles TOT 441 ACT 70 BUF 59)            \r",
      "Step #800.00 (0ms ?*RT. ?UPS, vehicles TOT 481 ACT 56 BUF 19)                             \r",
      "Step #900.00 (0ms ?*RT. ?UPS, vehicles TOT 500 ACT 20 BUF 0)                              \r",
      "Step #930.00 (0ms ?*RT. ?UPS, vehicles TOT 500 ACT 0 BUF 0)                               \r\n"
     ]
    },
    {
     "name": "stderr",
     "output_type": "stream",
     "text": [
      "Warning: Environment variable SUMO_HOME is not set properly, disabling XML validation. Set 'auto' or 'always' for web lookups.\n",
      " 94%|██████████████████████████████████████▌  | 471/500 [04:59<00:20,  1.42it/s]"
     ]
    },
    {
     "name": "stdout",
     "output_type": "stream",
     "text": [
      "Step #0.00 (1ms ~= 1000.00*RT, ~1000.00UPS, vehicles TOT 1 ACT 1 BUF 0)                   \r",
      "Step #100.00 (1ms ~= 1000.00*RT, ~46000.00UPS, vehicles TOT 98 ACT 46 BUF 402)            \r",
      "Step #200.00 (1ms ~= 1000.00*RT, ~52000.00UPS, vehicles TOT 161 ACT 52 BUF 339)           \r",
      "Step #300.00 (1ms ~= 1000.00*RT, ~62000.00UPS, vehicles TOT 224 ACT 62 BUF 276)           \r",
      "Step #400.00 (1ms ~= 1000.00*RT, ~47000.00UPS, vehicles TOT 264 ACT 47 BUF 236)           \r",
      "Step #500.00 (0ms ?*RT. ?UPS, vehicles TOT 326 ACT 44 BUF 174)                            \r",
      "Step #600.00 (1ms ~= 1000.00*RT, ~64000.00UPS, vehicles TOT 403 ACT 64 BUF 97)            \r",
      "Step #700.00 (1ms ~= 1000.00*RT, ~58000.00UPS, vehicles TOT 453 ACT 58 BUF 47)            \r",
      "Step #800.00 (1ms ~= 1000.00*RT, ~48000.00UPS, vehicles TOT 500 ACT 48 BUF 0)             \r",
      "Step #879.00 (0ms ?*RT. ?UPS, vehicles TOT 500 ACT 0 BUF 0)                               \r\n"
     ]
    },
    {
     "name": "stderr",
     "output_type": "stream",
     "text": [
      "Warning: Environment variable SUMO_HOME is not set properly, disabling XML validation. Set 'auto' or 'always' for web lookups.\n",
      " 94%|██████████████████████████████████████▋  | 472/500 [05:00<00:19,  1.43it/s]"
     ]
    },
    {
     "name": "stdout",
     "output_type": "stream",
     "text": [
      "Step #0.00 (0ms ?*RT. ?UPS, vehicles TOT 1 ACT 1 BUF 0)                                   \r",
      "Step #100.00 (1ms ~= 1000.00*RT, ~51000.00UPS, vehicles TOT 102 ACT 51 BUF 398)           \r",
      "Step #200.00 (0ms ?*RT. ?UPS, vehicles TOT 154 ACT 48 BUF 346)                            \r",
      "Step #300.00 (1ms ~= 1000.00*RT, ~56000.00UPS, vehicles TOT 221 ACT 56 BUF 279)           \r",
      "Step #400.00 (1ms ~= 1000.00*RT, ~63000.00UPS, vehicles TOT 284 ACT 63 BUF 216)           \r",
      "Step #500.00 (0ms ?*RT. ?UPS, vehicles TOT 336 ACT 60 BUF 164)                            \r",
      "Step #600.00 (1ms ~= 1000.00*RT, ~61000.00UPS, vehicles TOT 397 ACT 61 BUF 103)           \r",
      "Step #700.00 (0ms ?*RT. ?UPS, vehicles TOT 451 ACT 58 BUF 49)                             \r",
      "Step #800.00 (0ms ?*RT. ?UPS, vehicles TOT 500 ACT 53 BUF 0)                              \r",
      "Step #888.00 (0ms ?*RT. ?UPS, vehicles TOT 500 ACT 0 BUF 0)                               \r\n"
     ]
    },
    {
     "name": "stderr",
     "output_type": "stream",
     "text": [
      "Warning: Environment variable SUMO_HOME is not set properly, disabling XML validation. Set 'auto' or 'always' for web lookups.\n",
      " 95%|██████████████████████████████████████▊  | 473/500 [05:00<00:18,  1.44it/s]"
     ]
    },
    {
     "name": "stdout",
     "output_type": "stream",
     "text": [
      "Step #0.00 (0ms ?*RT. ?UPS, vehicles TOT 1 ACT 1 BUF 0)                                   \r",
      "Step #100.00 (1ms ~= 1000.00*RT, ~38000.00UPS, vehicles TOT 89 ACT 38 BUF 411)            \r",
      "Step #200.00 (1ms ~= 1000.00*RT, ~66000.00UPS, vehicles TOT 171 ACT 66 BUF 329)           \r",
      "Step #300.00 (0ms ?*RT. ?UPS, vehicles TOT 211 ACT 47 BUF 289)                            \r",
      "Step #400.00 (1ms ~= 1000.00*RT, ~63000.00UPS, vehicles TOT 284 ACT 63 BUF 216)           \r",
      "Step #500.00 (1ms ~= 1000.00*RT, ~52000.00UPS, vehicles TOT 329 ACT 52 BUF 171)           \r",
      "Step #600.00 (1ms ~= 1000.00*RT, ~56000.00UPS, vehicles TOT 390 ACT 56 BUF 110)           \r",
      "Step #700.00 (1ms ~= 1000.00*RT, ~67000.00UPS, vehicles TOT 457 ACT 67 BUF 43)            \r",
      "Step #800.00 (1ms ~= 1000.00*RT, ~59000.00UPS, vehicles TOT 500 ACT 59 BUF 0)             \r",
      "Step #892.00 (0ms ?*RT. ?UPS, vehicles TOT 500 ACT 0 BUF 0)                               \r\n"
     ]
    },
    {
     "name": "stderr",
     "output_type": "stream",
     "text": [
      "Warning: Environment variable SUMO_HOME is not set properly, disabling XML validation. Set 'auto' or 'always' for web lookups.\n",
      " 95%|██████████████████████████████████████▊  | 474/500 [05:01<00:17,  1.47it/s]"
     ]
    },
    {
     "name": "stdout",
     "output_type": "stream",
     "text": [
      "Step #0.00 (0ms ?*RT. ?UPS, vehicles TOT 1 ACT 1 BUF 0)                                   \r",
      "Step #100.00 (1ms ~= 1000.00*RT, ~38000.00UPS, vehicles TOT 90 ACT 38 BUF 410)            \r",
      "Step #200.00 (0ms ?*RT. ?UPS, vehicles TOT 177 ACT 70 BUF 323)                            \r",
      "Step #300.00 (0ms ?*RT. ?UPS, vehicles TOT 225 ACT 60 BUF 275)                            \r",
      "Step #400.00 (0ms ?*RT. ?UPS, vehicles TOT 283 ACT 60 BUF 217)                            \r",
      "Step #500.00 (1ms ~= 1000.00*RT, ~47000.00UPS, vehicles TOT 329 ACT 47 BUF 171)           \r",
      "Step #600.00 (1ms ~= 1000.00*RT, ~55000.00UPS, vehicles TOT 396 ACT 55 BUF 104)           \r",
      "Step #700.00 (0ms ?*RT. ?UPS, vehicles TOT 452 ACT 52 BUF 48)                             \r",
      "Step #800.00 (0ms ?*RT. ?UPS, vehicles TOT 500 ACT 37 BUF 0)                              \r",
      "Step #855.00 (0ms ?*RT. ?UPS, vehicles TOT 500 ACT 0 BUF 0)                               \r\n"
     ]
    },
    {
     "name": "stderr",
     "output_type": "stream",
     "text": [
      "Warning: Environment variable SUMO_HOME is not set properly, disabling XML validation. Set 'auto' or 'always' for web lookups.\n",
      " 95%|██████████████████████████████████████▉  | 475/500 [05:02<00:17,  1.45it/s]"
     ]
    },
    {
     "name": "stdout",
     "output_type": "stream",
     "text": [
      "Step #0.00 (0ms ?*RT. ?UPS, vehicles TOT 1 ACT 1 BUF 0)                                   \r",
      "Step #100.00 (1ms ~= 1000.00*RT, ~51000.00UPS, vehicles TOT 101 ACT 51 BUF 399)           \r",
      "Step #200.00 (1ms ~= 1000.00*RT, ~68000.00UPS, vehicles TOT 168 ACT 68 BUF 332)           \r",
      "Step #300.00 (1ms ~= 1000.00*RT, ~56000.00UPS, vehicles TOT 213 ACT 56 BUF 287)           \r",
      "Step #400.00 (0ms ?*RT. ?UPS, vehicles TOT 277 ACT 63 BUF 223)                            \r",
      "Step #500.00 (1ms ~= 1000.00*RT, ~60000.00UPS, vehicles TOT 332 ACT 60 BUF 168)           \r",
      "Step #600.00 (0ms ?*RT. ?UPS, vehicles TOT 383 ACT 60 BUF 117)                            \r",
      "Step #700.00 (1ms ~= 1000.00*RT, ~66000.00UPS, vehicles TOT 446 ACT 66 BUF 54)            \r",
      "Step #800.00 (0ms ?*RT. ?UPS, vehicles TOT 496 ACT 64 BUF 4)                              \r",
      "Step #900.00 (0ms ?*RT. ?UPS, vehicles TOT 500 ACT 5 BUF 0)                               \r",
      "Step #908.00 (0ms ?*RT. ?UPS, vehicles TOT 500 ACT 0 BUF 0)                               \r\n"
     ]
    },
    {
     "name": "stderr",
     "output_type": "stream",
     "text": [
      "Warning: Environment variable SUMO_HOME is not set properly, disabling XML validation. Set 'auto' or 'always' for web lookups.\n",
      " 95%|███████████████████████████████████████  | 476/500 [05:02<00:16,  1.44it/s]"
     ]
    },
    {
     "name": "stdout",
     "output_type": "stream",
     "text": [
      "Step #0.00 (1ms ~= 1000.00*RT, ~1000.00UPS, vehicles TOT 1 ACT 1 BUF 0)                   \r",
      "Step #100.00 (2ms ~= 500.00*RT, ~26500.00UPS, vehicles TOT 103 ACT 53 BUF 397)            \r",
      "Step #200.00 (0ms ?*RT. ?UPS, vehicles TOT 156 ACT 47 BUF 344)                            \r",
      "Step #300.00 (1ms ~= 1000.00*RT, ~62000.00UPS, vehicles TOT 230 ACT 62 BUF 270)           \r",
      "Step #400.00 (0ms ?*RT. ?UPS, vehicles TOT 270 ACT 50 BUF 230)                            \r",
      "Step #500.00 (0ms ?*RT. ?UPS, vehicles TOT 336 ACT 60 BUF 164)                            \r",
      "Step #600.00 (1ms ~= 1000.00*RT, ~68000.00UPS, vehicles TOT 396 ACT 68 BUF 104)           \r",
      "Step #700.00 (0ms ?*RT. ?UPS, vehicles TOT 433 ACT 51 BUF 67)                             \r",
      "Step #800.00 (0ms ?*RT. ?UPS, vehicles TOT 500 ACT 67 BUF 0)                              \r",
      "Step #900.00 (0ms ?*RT. ?UPS, vehicles TOT 500 ACT 6 BUF 0)                               \r",
      "Step #909.00 (1ms ~= 1000.00*RT, ~0.00UPS, vehicles TOT 500 ACT 0 BUF 0)                  \r\n"
     ]
    },
    {
     "name": "stderr",
     "output_type": "stream",
     "text": [
      "Warning: Environment variable SUMO_HOME is not set properly, disabling XML validation. Set 'auto' or 'always' for web lookups.\n",
      " 95%|███████████████████████████████████████  | 477/500 [05:03<00:16,  1.42it/s]"
     ]
    },
    {
     "name": "stdout",
     "output_type": "stream",
     "text": [
      "Step #0.00 (1ms ~= 1000.00*RT, ~1000.00UPS, vehicles TOT 1 ACT 1 BUF 0)                   \r",
      "Step #100.00 (1ms ~= 1000.00*RT, ~49000.00UPS, vehicles TOT 98 ACT 49 BUF 402)            \r",
      "Step #200.00 (1ms ~= 1000.00*RT, ~69000.00UPS, vehicles TOT 170 ACT 69 BUF 330)           \r",
      "Step #300.00 (0ms ?*RT. ?UPS, vehicles TOT 205 ACT 46 BUF 295)                            \r",
      "Step #400.00 (0ms ?*RT. ?UPS, vehicles TOT 261 ACT 46 BUF 239)                            \r",
      "Step #500.00 (1ms ~= 1000.00*RT, ~66000.00UPS, vehicles TOT 334 ACT 66 BUF 166)           \r",
      "Step #600.00 (0ms ?*RT. ?UPS, vehicles TOT 388 ACT 70 BUF 112)                            \r",
      "Step #700.00 (1ms ~= 1000.00*RT, ~62000.00UPS, vehicles TOT 438 ACT 62 BUF 62)            \r",
      "Step #800.00 (0ms ?*RT. ?UPS, vehicles TOT 496 ACT 68 BUF 4)                              \r",
      "Step #900.00 (1ms ~= 1000.00*RT, ~20000.00UPS, vehicles TOT 500 ACT 20 BUF 0)             \r",
      "Step #929.00 (0ms ?*RT. ?UPS, vehicles TOT 500 ACT 0 BUF 0)                               \r\n"
     ]
    },
    {
     "name": "stderr",
     "output_type": "stream",
     "text": [
      "Warning: Environment variable SUMO_HOME is not set properly, disabling XML validation. Set 'auto' or 'always' for web lookups.\n",
      " 96%|███████████████████████████████████████▏ | 478/500 [05:04<00:15,  1.39it/s]"
     ]
    },
    {
     "name": "stdout",
     "output_type": "stream",
     "text": [
      "Step #0.00 (1ms ~= 1000.00*RT, ~1000.00UPS, vehicles TOT 1 ACT 1 BUF 0)                   \r",
      "Step #100.00 (2ms ~= 500.00*RT, ~26000.00UPS, vehicles TOT 102 ACT 52 BUF 398)            \r",
      "Step #200.00 (1ms ~= 1000.00*RT, ~61000.00UPS, vehicles TOT 164 ACT 61 BUF 336)           \r",
      "Step #300.00 (1ms ~= 1000.00*RT, ~60000.00UPS, vehicles TOT 215 ACT 60 BUF 285)           \r",
      "Step #400.00 (1ms ~= 1000.00*RT, ~68000.00UPS, vehicles TOT 275 ACT 68 BUF 225)           \r",
      "Step #500.00 (0ms ?*RT. ?UPS, vehicles TOT 306 ACT 50 BUF 194)                            \r",
      "Step #600.00 (0ms ?*RT. ?UPS, vehicles TOT 375 ACT 62 BUF 125)                            \r",
      "Step #700.00 (0ms ?*RT. ?UPS, vehicles TOT 429 ACT 60 BUF 71)                             \r",
      "Step #800.00 (1ms ~= 1000.00*RT, ~70000.00UPS, vehicles TOT 489 ACT 70 BUF 11)            \r",
      "Step #900.00 (1ms ~= 1000.00*RT, ~26000.00UPS, vehicles TOT 500 ACT 26 BUF 0)             \r",
      "Step #939.00 (0ms ?*RT. ?UPS, vehicles TOT 500 ACT 0 BUF 0)                               \r\n"
     ]
    },
    {
     "name": "stderr",
     "output_type": "stream",
     "text": [
      "Warning: Environment variable SUMO_HOME is not set properly, disabling XML validation. Set 'auto' or 'always' for web lookups.\n",
      " 96%|███████████████████████████████████████▎ | 479/500 [05:04<00:14,  1.40it/s]"
     ]
    },
    {
     "name": "stdout",
     "output_type": "stream",
     "text": [
      "Step #0.00 (0ms ?*RT. ?UPS, vehicles TOT 1 ACT 1 BUF 0)                                   \r",
      "Step #100.00 (1ms ~= 1000.00*RT, ~51000.00UPS, vehicles TOT 101 ACT 51 BUF 399)           \r",
      "Step #200.00 (1ms ~= 1000.00*RT, ~57000.00UPS, vehicles TOT 163 ACT 57 BUF 337)           \r",
      "Step #300.00 (0ms ?*RT. ?UPS, vehicles TOT 228 ACT 70 BUF 272)                            \r",
      "Step #400.00 (1ms ~= 1000.00*RT, ~51000.00UPS, vehicles TOT 271 ACT 51 BUF 229)           \r",
      "Step #500.00 (0ms ?*RT. ?UPS, vehicles TOT 331 ACT 57 BUF 169)                            \r",
      "Step #600.00 (0ms ?*RT. ?UPS, vehicles TOT 384 ACT 55 BUF 116)                            \r",
      "Step #700.00 (1ms ~= 1000.00*RT, ~66000.00UPS, vehicles TOT 447 ACT 66 BUF 53)            \r",
      "Step #800.00 (0ms ?*RT. ?UPS, vehicles TOT 500 ACT 58 BUF 0)                              \r",
      "Step #900.00 (0ms ?*RT. ?UPS, vehicles TOT 500 ACT 3 BUF 0)                               \r",
      "Step #905.00 (0ms ?*RT. ?UPS, vehicles TOT 500 ACT 0 BUF 0)                               \r\n"
     ]
    },
    {
     "name": "stderr",
     "output_type": "stream",
     "text": [
      "Warning: Environment variable SUMO_HOME is not set properly, disabling XML validation. Set 'auto' or 'always' for web lookups.\n",
      " 96%|███████████████████████████████████████▎ | 480/500 [05:05<00:14,  1.41it/s]"
     ]
    },
    {
     "name": "stdout",
     "output_type": "stream",
     "text": [
      "Step #0.00 (0ms ?*RT. ?UPS, vehicles TOT 1 ACT 1 BUF 0)                                   \r",
      "Step #100.00 (1ms ~= 1000.00*RT, ~56000.00UPS, vehicles TOT 106 ACT 56 BUF 394)           \r",
      "Step #200.00 (1ms ~= 1000.00*RT, ~54000.00UPS, vehicles TOT 161 ACT 54 BUF 339)           \r",
      "Step #300.00 (1ms ~= 1000.00*RT, ~60000.00UPS, vehicles TOT 227 ACT 60 BUF 273)           \r",
      "Step #400.00 (0ms ?*RT. ?UPS, vehicles TOT 289 ACT 69 BUF 211)                            \r",
      "Step #500.00 (1ms ~= 1000.00*RT, ~60000.00UPS, vehicles TOT 342 ACT 60 BUF 158)           \r",
      "Step #600.00 (1ms ~= 1000.00*RT, ~69000.00UPS, vehicles TOT 401 ACT 69 BUF 99)            \r",
      "Step #700.00 (0ms ?*RT. ?UPS, vehicles TOT 440 ACT 49 BUF 60)                             \r",
      "Step #800.00 (0ms ?*RT. ?UPS, vehicles TOT 500 ACT 53 BUF 0)                              \r",
      "Step #884.00 (0ms ?*RT. ?UPS, vehicles TOT 500 ACT 0 BUF 0)                               \r\n"
     ]
    },
    {
     "name": "stderr",
     "output_type": "stream",
     "text": [
      "Warning: Environment variable SUMO_HOME is not set properly, disabling XML validation. Set 'auto' or 'always' for web lookups.\n",
      " 96%|███████████████████████████████████████▍ | 481/500 [05:06<00:13,  1.40it/s]"
     ]
    },
    {
     "name": "stdout",
     "output_type": "stream",
     "text": [
      "Step #0.00 (0ms ?*RT. ?UPS, vehicles TOT 1 ACT 1 BUF 0)                                   \r",
      "Step #100.00 (2ms ~= 500.00*RT, ~25500.00UPS, vehicles TOT 102 ACT 51 BUF 398)            \r",
      "Step #200.00 (1ms ~= 1000.00*RT, ~64000.00UPS, vehicles TOT 170 ACT 64 BUF 330)           \r",
      "Step #300.00 (0ms ?*RT. ?UPS, vehicles TOT 223 ACT 64 BUF 277)                            \r",
      "Step #400.00 (1ms ~= 1000.00*RT, ~75000.00UPS, vehicles TOT 286 ACT 75 BUF 214)           \r",
      "Step #500.00 (1ms ~= 1000.00*RT, ~59000.00UPS, vehicles TOT 329 ACT 59 BUF 171)           \r",
      "Step #600.00 (1ms ~= 1000.00*RT, ~55000.00UPS, vehicles TOT 379 ACT 55 BUF 121)           \r",
      "Step #700.00 (0ms ?*RT. ?UPS, vehicles TOT 442 ACT 68 BUF 58)                             \r",
      "Step #800.00 (0ms ?*RT. ?UPS, vehicles TOT 487 ACT 61 BUF 13)                             \r",
      "Step #900.00 (0ms ?*RT. ?UPS, vehicles TOT 500 ACT 16 BUF 0)                              \r",
      "Step #924.00 (0ms ?*RT. ?UPS, vehicles TOT 500 ACT 0 BUF 0)                               \r\n"
     ]
    },
    {
     "name": "stderr",
     "output_type": "stream",
     "text": [
      "Warning: Environment variable SUMO_HOME is not set properly, disabling XML validation. Set 'auto' or 'always' for web lookups.\n",
      " 96%|███████████████████████████████████████▌ | 482/500 [05:07<00:12,  1.40it/s]"
     ]
    },
    {
     "name": "stdout",
     "output_type": "stream",
     "text": [
      "Step #0.00 (0ms ?*RT. ?UPS, vehicles TOT 1 ACT 1 BUF 0)                                   \r",
      "Step #100.00 (1ms ~= 1000.00*RT, ~53000.00UPS, vehicles TOT 102 ACT 53 BUF 398)           \r",
      "Step #200.00 (1ms ~= 1000.00*RT, ~57000.00UPS, vehicles TOT 158 ACT 57 BUF 342)           \r",
      "Step #300.00 (1ms ~= 1000.00*RT, ~58000.00UPS, vehicles TOT 210 ACT 58 BUF 290)           \r",
      "Step #400.00 (0ms ?*RT. ?UPS, vehicles TOT 269 ACT 65 BUF 231)                            \r",
      "Step #500.00 (1ms ~= 1000.00*RT, ~68000.00UPS, vehicles TOT 325 ACT 68 BUF 175)           \r",
      "Step #600.00 (0ms ?*RT. ?UPS, vehicles TOT 365 ACT 49 BUF 135)                            \r",
      "Step #700.00 (0ms ?*RT. ?UPS, vehicles TOT 437 ACT 68 BUF 63)                             \r",
      "Step #800.00 (0ms ?*RT. ?UPS, vehicles TOT 487 ACT 56 BUF 13)                             \r",
      "Step #900.00 (1ms ~= 1000.00*RT, ~7000.00UPS, vehicles TOT 500 ACT 7 BUF 0)               \r",
      "Step #911.00 (0ms ?*RT. ?UPS, vehicles TOT 500 ACT 0 BUF 0)                               \r\n"
     ]
    },
    {
     "name": "stderr",
     "output_type": "stream",
     "text": [
      "Warning: Environment variable SUMO_HOME is not set properly, disabling XML validation. Set 'auto' or 'always' for web lookups.\n",
      " 97%|███████████████████████████████████████▌ | 483/500 [05:07<00:12,  1.40it/s]"
     ]
    },
    {
     "name": "stdout",
     "output_type": "stream",
     "text": [
      "Step #0.00 (0ms ?*RT. ?UPS, vehicles TOT 1 ACT 1 BUF 0)                                   \r",
      "Step #100.00 (1ms ~= 1000.00*RT, ~57000.00UPS, vehicles TOT 106 ACT 57 BUF 394)           \r",
      "Step #200.00 (1ms ~= 1000.00*RT, ~65000.00UPS, vehicles TOT 167 ACT 65 BUF 333)           \r",
      "Step #300.00 (1ms ~= 1000.00*RT, ~63000.00UPS, vehicles TOT 220 ACT 63 BUF 280)           \r",
      "Step #400.00 (0ms ?*RT. ?UPS, vehicles TOT 270 ACT 57 BUF 230)                            \r",
      "Step #500.00 (0ms ?*RT. ?UPS, vehicles TOT 333 ACT 65 BUF 167)                            \r",
      "Step #600.00 (0ms ?*RT. ?UPS, vehicles TOT 382 ACT 57 BUF 118)                            \r",
      "Step #700.00 (0ms ?*RT. ?UPS, vehicles TOT 436 ACT 58 BUF 64)                             \r",
      "Step #800.00 (0ms ?*RT. ?UPS, vehicles TOT 499 ACT 66 BUF 1)                              \r",
      "Step #900.00 (0ms ?*RT. ?UPS, vehicles TOT 500 ACT 9 BUF 0)                               \r",
      "Step #913.00 (0ms ?*RT. ?UPS, vehicles TOT 500 ACT 0 BUF 0)                               \r\n"
     ]
    },
    {
     "name": "stderr",
     "output_type": "stream",
     "text": [
      "Warning: Environment variable SUMO_HOME is not set properly, disabling XML validation. Set 'auto' or 'always' for web lookups.\n",
      " 97%|███████████████████████████████████████▋ | 484/500 [05:08<00:11,  1.40it/s]"
     ]
    },
    {
     "name": "stdout",
     "output_type": "stream",
     "text": [
      "Step #0.00 (1ms ~= 1000.00*RT, ~1000.00UPS, vehicles TOT 1 ACT 1 BUF 0)                   \r",
      "Step #100.00 (1ms ~= 1000.00*RT, ~52000.00UPS, vehicles TOT 103 ACT 52 BUF 397)           \r",
      "Step #200.00 (1ms ~= 1000.00*RT, ~53000.00UPS, vehicles TOT 163 ACT 53 BUF 337)           \r",
      "Step #300.00 (1ms ~= 1000.00*RT, ~72000.00UPS, vehicles TOT 232 ACT 72 BUF 268)           \r",
      "Step #400.00 (1ms ~= 1000.00*RT, ~63000.00UPS, vehicles TOT 277 ACT 63 BUF 223)           \r",
      "Step #500.00 (0ms ?*RT. ?UPS, vehicles TOT 333 ACT 64 BUF 167)                            \r",
      "Step #600.00 (1ms ~= 1000.00*RT, ~70000.00UPS, vehicles TOT 390 ACT 70 BUF 110)           \r",
      "Step #700.00 (1ms ~= 1000.00*RT, ~55000.00UPS, vehicles TOT 430 ACT 55 BUF 70)            \r",
      "Step #800.00 (1ms ~= 1000.00*RT, ~66000.00UPS, vehicles TOT 495 ACT 66 BUF 5)             \r",
      "Step #900.00 (1ms ~= 1000.00*RT, ~14000.00UPS, vehicles TOT 500 ACT 14 BUF 0)             \r",
      "Step #920.00 (0ms ?*RT. ?UPS, vehicles TOT 500 ACT 0 BUF 0)                               \r\n"
     ]
    },
    {
     "name": "stderr",
     "output_type": "stream",
     "text": [
      "Warning: Environment variable SUMO_HOME is not set properly, disabling XML validation. Set 'auto' or 'always' for web lookups.\n",
      " 97%|███████████████████████████████████████▊ | 485/500 [05:09<00:10,  1.40it/s]"
     ]
    },
    {
     "name": "stdout",
     "output_type": "stream",
     "text": [
      "Step #0.00 (0ms ?*RT. ?UPS, vehicles TOT 1 ACT 1 BUF 0)                                   \r",
      "Step #100.00 (1ms ~= 1000.00*RT, ~57000.00UPS, vehicles TOT 105 ACT 57 BUF 395)           \r",
      "Step #200.00 (0ms ?*RT. ?UPS, vehicles TOT 161 ACT 56 BUF 339)                            \r",
      "Step #300.00 (1ms ~= 1000.00*RT, ~53000.00UPS, vehicles TOT 212 ACT 53 BUF 288)           \r",
      "Step #400.00 (1ms ~= 1000.00*RT, ~57000.00UPS, vehicles TOT 272 ACT 57 BUF 228)           \r",
      "Step #500.00 (0ms ?*RT. ?UPS, vehicles TOT 327 ACT 56 BUF 173)                            \r",
      "Step #600.00 (0ms ?*RT. ?UPS, vehicles TOT 387 ACT 62 BUF 113)                            \r",
      "Step #700.00 (1ms ~= 1000.00*RT, ~67000.00UPS, vehicles TOT 445 ACT 67 BUF 55)            \r",
      "Step #800.00 (0ms ?*RT. ?UPS, vehicles TOT 497 ACT 61 BUF 3)                              \r",
      "Step #900.00 (0ms ?*RT. ?UPS, vehicles TOT 500 ACT 0 BUF 0)                               \r\n"
     ]
    },
    {
     "name": "stderr",
     "output_type": "stream",
     "text": [
      "Warning: Environment variable SUMO_HOME is not set properly, disabling XML validation. Set 'auto' or 'always' for web lookups.\n",
      " 97%|███████████████████████████████████████▊ | 486/500 [05:09<00:09,  1.42it/s]"
     ]
    },
    {
     "name": "stdout",
     "output_type": "stream",
     "text": [
      "Step #0.00 (0ms ?*RT. ?UPS, vehicles TOT 1 ACT 1 BUF 0)                                   \r",
      "Step #100.00 (1ms ~= 1000.00*RT, ~58000.00UPS, vehicles TOT 105 ACT 58 BUF 395)           \r",
      "Step #200.00 (0ms ?*RT. ?UPS, vehicles TOT 160 ACT 52 BUF 340)                            \r",
      "Step #300.00 (0ms ?*RT. ?UPS, vehicles TOT 226 ACT 65 BUF 274)                            \r",
      "Step #400.00 (1ms ~= 1000.00*RT, ~64000.00UPS, vehicles TOT 284 ACT 64 BUF 216)           \r",
      "Step #500.00 (1ms ~= 1000.00*RT, ~66000.00UPS, vehicles TOT 342 ACT 66 BUF 158)           \r",
      "Step #600.00 (1ms ~= 1000.00*RT, ~54000.00UPS, vehicles TOT 384 ACT 54 BUF 116)           \r",
      "Step #700.00 (1ms ~= 1000.00*RT, ~47000.00UPS, vehicles TOT 431 ACT 47 BUF 69)            \r",
      "Step #800.00 (0ms ?*RT. ?UPS, vehicles TOT 496 ACT 50 BUF 4)                              \r",
      "Step #883.00 (0ms ?*RT. ?UPS, vehicles TOT 500 ACT 0 BUF 0)                               \r\n"
     ]
    },
    {
     "name": "stderr",
     "output_type": "stream",
     "text": [
      "Warning: Environment variable SUMO_HOME is not set properly, disabling XML validation. Set 'auto' or 'always' for web lookups.\n",
      " 97%|███████████████████████████████████████▉ | 487/500 [05:10<00:09,  1.43it/s]"
     ]
    },
    {
     "name": "stdout",
     "output_type": "stream",
     "text": [
      "Step #0.00 (0ms ?*RT. ?UPS, vehicles TOT 1 ACT 1 BUF 0)                                   \r",
      "Step #100.00 (1ms ~= 1000.00*RT, ~51000.00UPS, vehicles TOT 102 ACT 51 BUF 398)           \r",
      "Step #200.00 (1ms ~= 1000.00*RT, ~63000.00UPS, vehicles TOT 166 ACT 63 BUF 334)           \r",
      "Step #300.00 (0ms ?*RT. ?UPS, vehicles TOT 224 ACT 65 BUF 276)                            \r",
      "Step #400.00 (1ms ~= 1000.00*RT, ~69000.00UPS, vehicles TOT 277 ACT 69 BUF 223)           \r",
      "Step #500.00 (0ms ?*RT. ?UPS, vehicles TOT 323 ACT 53 BUF 177)                            \r",
      "Step #600.00 (0ms ?*RT. ?UPS, vehicles TOT 387 ACT 62 BUF 113)                            \r",
      "Step #700.00 (0ms ?*RT. ?UPS, vehicles TOT 426 ACT 46 BUF 74)                             \r",
      "Step #800.00 (1ms ~= 1000.00*RT, ~68000.00UPS, vehicles TOT 499 ACT 68 BUF 1)             \r",
      "Step #900.00 (1ms ~= 1000.00*RT, ~10000.00UPS, vehicles TOT 500 ACT 10 BUF 0)             \r",
      "Step #915.00 (0ms ?*RT. ?UPS, vehicles TOT 500 ACT 0 BUF 0)                               \r\n"
     ]
    },
    {
     "name": "stderr",
     "output_type": "stream",
     "text": [
      "Warning: Environment variable SUMO_HOME is not set properly, disabling XML validation. Set 'auto' or 'always' for web lookups.\n",
      " 98%|████████████████████████████████████████ | 488/500 [05:11<00:08,  1.43it/s]"
     ]
    },
    {
     "name": "stdout",
     "output_type": "stream",
     "text": [
      "Step #0.00 (1ms ~= 1000.00*RT, ~1000.00UPS, vehicles TOT 1 ACT 1 BUF 0)                   \r",
      "Step #100.00 (1ms ~= 1000.00*RT, ~46000.00UPS, vehicles TOT 97 ACT 46 BUF 403)            \r",
      "Step #200.00 (1ms ~= 1000.00*RT, ~52000.00UPS, vehicles TOT 159 ACT 52 BUF 341)           \r",
      "Step #300.00 (1ms ~= 1000.00*RT, ~54000.00UPS, vehicles TOT 212 ACT 54 BUF 288)           \r",
      "Step #400.00 (0ms ?*RT. ?UPS, vehicles TOT 267 ACT 51 BUF 233)                            \r",
      "Step #500.00 (1ms ~= 1000.00*RT, ~63000.00UPS, vehicles TOT 332 ACT 63 BUF 168)           \r",
      "Step #600.00 (0ms ?*RT. ?UPS, vehicles TOT 384 ACT 56 BUF 116)                            \r",
      "Step #700.00 (1ms ~= 1000.00*RT, ~61000.00UPS, vehicles TOT 444 ACT 61 BUF 56)            \r",
      "Step #800.00 (0ms ?*RT. ?UPS, vehicles TOT 500 ACT 66 BUF 0)                              \r",
      "Step #900.00 (0ms ?*RT. ?UPS, vehicles TOT 500 ACT 8 BUF 0)                               \r",
      "Step #912.00 (0ms ?*RT. ?UPS, vehicles TOT 500 ACT 0 BUF 0)                               \r\n"
     ]
    },
    {
     "name": "stderr",
     "output_type": "stream",
     "text": [
      "Warning: Environment variable SUMO_HOME is not set properly, disabling XML validation. Set 'auto' or 'always' for web lookups.\n",
      " 98%|████████████████████████████████████████ | 489/500 [05:12<00:07,  1.42it/s]"
     ]
    },
    {
     "name": "stdout",
     "output_type": "stream",
     "text": [
      "Step #0.00 (0ms ?*RT. ?UPS, vehicles TOT 1 ACT 1 BUF 0)                                   \r",
      "Step #100.00 (1ms ~= 1000.00*RT, ~54000.00UPS, vehicles TOT 104 ACT 54 BUF 396)           \r",
      "Step #200.00 (1ms ~= 1000.00*RT, ~51000.00UPS, vehicles TOT 154 ACT 51 BUF 346)           \r",
      "Step #300.00 (0ms ?*RT. ?UPS, vehicles TOT 206 ACT 46 BUF 294)                            \r",
      "Step #400.00 (1ms ~= 1000.00*RT, ~52000.00UPS, vehicles TOT 267 ACT 52 BUF 233)           \r",
      "Step #500.00 (1ms ~= 1000.00*RT, ~60000.00UPS, vehicles TOT 324 ACT 60 BUF 176)           \r",
      "Step #600.00 (0ms ?*RT. ?UPS, vehicles TOT 385 ACT 63 BUF 115)                            \r",
      "Step #700.00 (0ms ?*RT. ?UPS, vehicles TOT 441 ACT 66 BUF 59)                             \r",
      "Step #800.00 (0ms ?*RT. ?UPS, vehicles TOT 496 ACT 71 BUF 4)                              \r",
      "Step #900.00 (0ms ?*RT. ?UPS, vehicles TOT 500 ACT 19 BUF 0)                              \r",
      "Step #929.00 (0ms ?*RT. ?UPS, vehicles TOT 500 ACT 0 BUF 0)                               \r\n"
     ]
    },
    {
     "name": "stderr",
     "output_type": "stream",
     "text": [
      "Warning: Environment variable SUMO_HOME is not set properly, disabling XML validation. Set 'auto' or 'always' for web lookups.\n",
      " 98%|████████████████████████████████████████▏| 490/500 [05:12<00:07,  1.42it/s]"
     ]
    },
    {
     "name": "stdout",
     "output_type": "stream",
     "text": [
      "Step #0.00 (0ms ?*RT. ?UPS, vehicles TOT 1 ACT 1 BUF 0)                                   \r",
      "Step #100.00 (1ms ~= 1000.00*RT, ~48000.00UPS, vehicles TOT 100 ACT 48 BUF 400)           \r",
      "Step #200.00 (0ms ?*RT. ?UPS, vehicles TOT 167 ACT 64 BUF 333)                            \r",
      "Step #300.00 (1ms ~= 1000.00*RT, ~61000.00UPS, vehicles TOT 216 ACT 61 BUF 284)           \r",
      "Step #400.00 (0ms ?*RT. ?UPS, vehicles TOT 276 ACT 66 BUF 224)                            \r",
      "Step #500.00 (0ms ?*RT. ?UPS, vehicles TOT 325 ACT 59 BUF 175)                            \r",
      "Step #600.00 (1ms ~= 1000.00*RT, ~56000.00UPS, vehicles TOT 379 ACT 56 BUF 121)           \r",
      "Step #700.00 (1ms ~= 1000.00*RT, ~46000.00UPS, vehicles TOT 424 ACT 46 BUF 76)            \r",
      "Step #800.00 (1ms ~= 1000.00*RT, ~68000.00UPS, vehicles TOT 500 ACT 68 BUF 0)             \r",
      "Step #900.00 (1ms ~= 1000.00*RT, ~9000.00UPS, vehicles TOT 500 ACT 9 BUF 0)               \r",
      "Step #913.00 (0ms ?*RT. ?UPS, vehicles TOT 500 ACT 0 BUF 0)                               \r\n"
     ]
    },
    {
     "name": "stderr",
     "output_type": "stream",
     "text": [
      "Warning: Environment variable SUMO_HOME is not set properly, disabling XML validation. Set 'auto' or 'always' for web lookups.\n",
      " 98%|████████████████████████████████████████▎| 491/500 [05:13<00:06,  1.43it/s]"
     ]
    },
    {
     "name": "stdout",
     "output_type": "stream",
     "text": [
      "Step #0.00 (0ms ?*RT. ?UPS, vehicles TOT 1 ACT 1 BUF 0)                                   \r",
      "Step #100.00 (1ms ~= 1000.00*RT, ~48000.00UPS, vehicles TOT 100 ACT 48 BUF 400)           \r",
      "Step #200.00 (1ms ~= 1000.00*RT, ~64000.00UPS, vehicles TOT 172 ACT 64 BUF 328)           \r",
      "Step #300.00 (0ms ?*RT. ?UPS, vehicles TOT 209 ACT 49 BUF 291)                            \r",
      "Step #400.00 (0ms ?*RT. ?UPS, vehicles TOT 261 ACT 44 BUF 239)                            \r",
      "Step #500.00 (1ms ~= 1000.00*RT, ~61000.00UPS, vehicles TOT 331 ACT 61 BUF 169)           \r",
      "Step #600.00 (1ms ~= 1000.00*RT, ~45000.00UPS, vehicles TOT 370 ACT 45 BUF 130)           \r",
      "Step #700.00 (1ms ~= 1000.00*RT, ~65000.00UPS, vehicles TOT 442 ACT 65 BUF 58)            \r",
      "Step #800.00 (0ms ?*RT. ?UPS, vehicles TOT 489 ACT 54 BUF 11)                             \r",
      "Step #900.00 (0ms ?*RT. ?UPS, vehicles TOT 500 ACT 13 BUF 0)                              \r",
      "Step #918.00 (0ms ?*RT. ?UPS, vehicles TOT 500 ACT 0 BUF 0)                               \r\n"
     ]
    },
    {
     "name": "stderr",
     "output_type": "stream",
     "text": [
      "Warning: Environment variable SUMO_HOME is not set properly, disabling XML validation. Set 'auto' or 'always' for web lookups.\n",
      " 98%|████████████████████████████████████████▎| 492/500 [05:14<00:05,  1.44it/s]"
     ]
    },
    {
     "name": "stdout",
     "output_type": "stream",
     "text": [
      "Step #0.00 (1ms ~= 1000.00*RT, ~1000.00UPS, vehicles TOT 1 ACT 1 BUF 0)                   \r",
      "Step #100.00 (1ms ~= 1000.00*RT, ~42000.00UPS, vehicles TOT 93 ACT 42 BUF 407)            \r",
      "Step #200.00 (0ms ?*RT. ?UPS, vehicles TOT 163 ACT 53 BUF 337)                            \r",
      "Step #300.00 (1ms ~= 1000.00*RT, ~68000.00UPS, vehicles TOT 229 ACT 68 BUF 271)           \r",
      "Step #400.00 (1ms ~= 1000.00*RT, ~49000.00UPS, vehicles TOT 269 ACT 49 BUF 231)           \r",
      "Step #500.00 (0ms ?*RT. ?UPS, vehicles TOT 330 ACT 46 BUF 170)                            \r",
      "Step #600.00 (0ms ?*RT. ?UPS, vehicles TOT 403 ACT 65 BUF 97)                             \r",
      "Step #700.00 (1ms ~= 1000.00*RT, ~58000.00UPS, vehicles TOT 444 ACT 58 BUF 56)            \r",
      "Step #800.00 (1ms ~= 1000.00*RT, ~62000.00UPS, vehicles TOT 500 ACT 62 BUF 0)             \r",
      "Step #900.00 (0ms ?*RT. ?UPS, vehicles TOT 500 ACT 1 BUF 0)                               \r",
      "Step #902.00 (0ms ?*RT. ?UPS, vehicles TOT 500 ACT 0 BUF 0)                               \r\n"
     ]
    },
    {
     "name": "stderr",
     "output_type": "stream",
     "text": [
      "Warning: Environment variable SUMO_HOME is not set properly, disabling XML validation. Set 'auto' or 'always' for web lookups.\n",
      " 99%|████████████████████████████████████████▍| 493/500 [05:14<00:04,  1.43it/s]"
     ]
    },
    {
     "name": "stdout",
     "output_type": "stream",
     "text": [
      "Step #0.00 (0ms ?*RT. ?UPS, vehicles TOT 1 ACT 1 BUF 0)                                   \r",
      "Step #100.00 (1ms ~= 1000.00*RT, ~56000.00UPS, vehicles TOT 105 ACT 56 BUF 395)           \r",
      "Step #200.00 (1ms ~= 1000.00*RT, ~51000.00UPS, vehicles TOT 150 ACT 51 BUF 350)           \r",
      "Step #300.00 (1ms ~= 1000.00*RT, ~62000.00UPS, vehicles TOT 217 ACT 62 BUF 283)           \r",
      "Step #400.00 (0ms ?*RT. ?UPS, vehicles TOT 275 ACT 64 BUF 225)                            \r",
      "Step #500.00 (1ms ~= 1000.00*RT, ~70000.00UPS, vehicles TOT 329 ACT 70 BUF 171)           \r",
      "Step #600.00 (0ms ?*RT. ?UPS, vehicles TOT 375 ACT 59 BUF 125)                            \r",
      "Step #700.00 (1ms ~= 1000.00*RT, ~46000.00UPS, vehicles TOT 416 ACT 46 BUF 84)            \r",
      "Step #800.00 (1ms ~= 1000.00*RT, ~56000.00UPS, vehicles TOT 481 ACT 56 BUF 19)            \r",
      "Step #900.00 (0ms ?*RT. ?UPS, vehicles TOT 500 ACT 16 BUF 0)                              \r",
      "Step #924.00 (0ms ?*RT. ?UPS, vehicles TOT 500 ACT 0 BUF 0)                               \r\n"
     ]
    },
    {
     "name": "stderr",
     "output_type": "stream",
     "text": [
      "Warning: Environment variable SUMO_HOME is not set properly, disabling XML validation. Set 'auto' or 'always' for web lookups.\n",
      " 99%|████████████████████████████████████████▌| 494/500 [05:15<00:04,  1.41it/s]"
     ]
    },
    {
     "name": "stdout",
     "output_type": "stream",
     "text": [
      "Step #0.00 (1ms ~= 1000.00*RT, ~1000.00UPS, vehicles TOT 1 ACT 1 BUF 0)                   \r",
      "Step #100.00 (1ms ~= 1000.00*RT, ~52000.00UPS, vehicles TOT 100 ACT 52 BUF 400)           \r",
      "Step #200.00 (1ms ~= 1000.00*RT, ~62000.00UPS, vehicles TOT 165 ACT 62 BUF 335)           \r",
      "Step #300.00 (0ms ?*RT. ?UPS, vehicles TOT 224 ACT 67 BUF 276)                            \r",
      "Step #400.00 (1ms ~= 1000.00*RT, ~65000.00UPS, vehicles TOT 278 ACT 65 BUF 222)           \r",
      "Step #500.00 (1ms ~= 1000.00*RT, ~69000.00UPS, vehicles TOT 336 ACT 69 BUF 164)           \r",
      "Step #600.00 (0ms ?*RT. ?UPS, vehicles TOT 384 ACT 58 BUF 116)                            \r",
      "Step #700.00 (0ms ?*RT. ?UPS, vehicles TOT 445 ACT 62 BUF 55)                             \r",
      "Step #800.00 (1ms ~= 1000.00*RT, ~48000.00UPS, vehicles TOT 493 ACT 48 BUF 7)             \r",
      "Step #896.00 (0ms ?*RT. ?UPS, vehicles TOT 500 ACT 0 BUF 0)                               \r\n"
     ]
    },
    {
     "name": "stderr",
     "output_type": "stream",
     "text": [
      "Warning: Environment variable SUMO_HOME is not set properly, disabling XML validation. Set 'auto' or 'always' for web lookups.\n",
      " 99%|████████████████████████████████████████▌| 495/500 [05:16<00:03,  1.39it/s]"
     ]
    },
    {
     "name": "stdout",
     "output_type": "stream",
     "text": [
      "Step #0.00 (0ms ?*RT. ?UPS, vehicles TOT 1 ACT 1 BUF 0)                                   \r",
      "Step #100.00 (1ms ~= 1000.00*RT, ~54000.00UPS, vehicles TOT 104 ACT 54 BUF 396)           \r",
      "Step #200.00 (0ms ?*RT. ?UPS, vehicles TOT 165 ACT 68 BUF 335)                            \r",
      "Step #300.00 (1ms ~= 1000.00*RT, ~70000.00UPS, vehicles TOT 223 ACT 70 BUF 277)           \r",
      "Step #400.00 (0ms ?*RT. ?UPS, vehicles TOT 259 ACT 50 BUF 241)                            \r",
      "Step #500.00 (0ms ?*RT. ?UPS, vehicles TOT 321 ACT 52 BUF 179)                            \r",
      "Step #600.00 (1ms ~= 1000.00*RT, ~64000.00UPS, vehicles TOT 387 ACT 64 BUF 113)           \r",
      "Step #700.00 (0ms ?*RT. ?UPS, vehicles TOT 434 ACT 53 BUF 66)                             \r",
      "Step #800.00 (0ms ?*RT. ?UPS, vehicles TOT 500 ACT 69 BUF 0)                              \r",
      "Step #900.00 (0ms ?*RT. ?UPS, vehicles TOT 500 ACT 14 BUF 0)                              \r",
      "Step #920.00 (0ms ?*RT. ?UPS, vehicles TOT 500 ACT 0 BUF 0)                               \r\n"
     ]
    },
    {
     "name": "stderr",
     "output_type": "stream",
     "text": [
      "Warning: Environment variable SUMO_HOME is not set properly, disabling XML validation. Set 'auto' or 'always' for web lookups.\n",
      " 99%|████████████████████████████████████████▋| 496/500 [05:16<00:02,  1.41it/s]"
     ]
    },
    {
     "name": "stdout",
     "output_type": "stream",
     "text": [
      "Step #0.00 (0ms ?*RT. ?UPS, vehicles TOT 1 ACT 1 BUF 0)                                   \r",
      "Step #100.00 (2ms ~= 500.00*RT, ~29500.00UPS, vehicles TOT 104 ACT 59 BUF 396)            \r",
      "Step #200.00 (1ms ~= 1000.00*RT, ~65000.00UPS, vehicles TOT 164 ACT 65 BUF 336)           \r",
      "Step #300.00 (0ms ?*RT. ?UPS, vehicles TOT 205 ACT 49 BUF 295)                            \r",
      "Step #400.00 (1ms ~= 1000.00*RT, ~60000.00UPS, vehicles TOT 272 ACT 60 BUF 228)           \r",
      "Step #500.00 (0ms ?*RT. ?UPS, vehicles TOT 327 ACT 56 BUF 173)                            \r",
      "Step #600.00 (1ms ~= 1000.00*RT, ~50000.00UPS, vehicles TOT 375 ACT 50 BUF 125)           \r",
      "Step #700.00 (1ms ~= 1000.00*RT, ~62000.00UPS, vehicles TOT 442 ACT 62 BUF 58)            \r",
      "Step #800.00 (1ms ~= 1000.00*RT, ~48000.00UPS, vehicles TOT 489 ACT 48 BUF 11)            \r",
      "Step #894.00 (0ms ?*RT. ?UPS, vehicles TOT 500 ACT 0 BUF 0)                               \r\n"
     ]
    },
    {
     "name": "stderr",
     "output_type": "stream",
     "text": [
      "Warning: Environment variable SUMO_HOME is not set properly, disabling XML validation. Set 'auto' or 'always' for web lookups.\n",
      " 99%|████████████████████████████████████████▊| 497/500 [05:17<00:02,  1.41it/s]"
     ]
    },
    {
     "name": "stdout",
     "output_type": "stream",
     "text": [
      "Step #0.00 (0ms ?*RT. ?UPS, vehicles TOT 1 ACT 1 BUF 0)                                   \r",
      "Step #100.00 (1ms ~= 1000.00*RT, ~42000.00UPS, vehicles TOT 93 ACT 42 BUF 407)            \r",
      "Step #200.00 (0ms ?*RT. ?UPS, vehicles TOT 169 ACT 65 BUF 331)                            \r",
      "Step #300.00 (0ms ?*RT. ?UPS, vehicles TOT 213 ACT 55 BUF 287)                            \r",
      "Step #400.00 (1ms ~= 1000.00*RT, ~59000.00UPS, vehicles TOT 274 ACT 59 BUF 226)           \r",
      "Step #500.00 (1ms ~= 1000.00*RT, ~46000.00UPS, vehicles TOT 314 ACT 46 BUF 186)           \r",
      "Step #600.00 (0ms ?*RT. ?UPS, vehicles TOT 380 ACT 59 BUF 120)                            \r",
      "Step #700.00 (1ms ~= 1000.00*RT, ~69000.00UPS, vehicles TOT 446 ACT 69 BUF 54)            \r",
      "Step #800.00 (0ms ?*RT. ?UPS, vehicles TOT 492 ACT 61 BUF 8)                              \r",
      "Step #900.00 (0ms ?*RT. ?UPS, vehicles TOT 500 ACT 4 BUF 0)                               \r",
      "Step #907.00 (0ms ?*RT. ?UPS, vehicles TOT 500 ACT 0 BUF 0)                               \r\n"
     ]
    },
    {
     "name": "stderr",
     "output_type": "stream",
     "text": [
      "Warning: Environment variable SUMO_HOME is not set properly, disabling XML validation. Set 'auto' or 'always' for web lookups.\n",
      "100%|████████████████████████████████████████▊| 498/500 [05:18<00:01,  1.41it/s]"
     ]
    },
    {
     "name": "stdout",
     "output_type": "stream",
     "text": [
      "Step #0.00 (0ms ?*RT. ?UPS, vehicles TOT 1 ACT 1 BUF 0)                                   \r",
      "Step #100.00 (1ms ~= 1000.00*RT, ~54000.00UPS, vehicles TOT 105 ACT 54 BUF 395)           \r",
      "Step #200.00 (0ms ?*RT. ?UPS, vehicles TOT 166 ACT 63 BUF 334)                            \r",
      "Step #300.00 (0ms ?*RT. ?UPS, vehicles TOT 211 ACT 55 BUF 289)                            \r",
      "Step #400.00 (1ms ~= 1000.00*RT, ~64000.00UPS, vehicles TOT 272 ACT 64 BUF 228)           \r",
      "Step #500.00 (1ms ~= 1000.00*RT, ~61000.00UPS, vehicles TOT 325 ACT 61 BUF 175)           \r",
      "Step #600.00 (0ms ?*RT. ?UPS, vehicles TOT 375 ACT 57 BUF 125)                            \r",
      "Step #700.00 (0ms ?*RT. ?UPS, vehicles TOT 432 ACT 62 BUF 68)                             \r",
      "Step #800.00 (1ms ~= 1000.00*RT, ~67000.00UPS, vehicles TOT 487 ACT 67 BUF 13)            \r",
      "Step #900.00 (1ms ~= 1000.00*RT, ~28000.00UPS, vehicles TOT 500 ACT 28 BUF 0)             \r",
      "Step #948.00 (0ms ?*RT. ?UPS, vehicles TOT 500 ACT 0 BUF 0)                               \r\n"
     ]
    },
    {
     "name": "stderr",
     "output_type": "stream",
     "text": [
      "Warning: Environment variable SUMO_HOME is not set properly, disabling XML validation. Set 'auto' or 'always' for web lookups.\n",
      "100%|████████████████████████████████████████▉| 499/500 [05:19<00:00,  1.43it/s]"
     ]
    },
    {
     "name": "stdout",
     "output_type": "stream",
     "text": [
      "Step #0.00 (1ms ~= 1000.00*RT, ~1000.00UPS, vehicles TOT 1 ACT 1 BUF 0)                   \r",
      "Step #100.00 (1ms ~= 1000.00*RT, ~47000.00UPS, vehicles TOT 99 ACT 47 BUF 401)            \r",
      "Step #200.00 (1ms ~= 1000.00*RT, ~58000.00UPS, vehicles TOT 170 ACT 58 BUF 330)           \r",
      "Step #300.00 (0ms ?*RT. ?UPS, vehicles TOT 219 ACT 46 BUF 281)                            \r",
      "Step #400.00 (1ms ~= 1000.00*RT, ~65000.00UPS, vehicles TOT 295 ACT 65 BUF 205)           \r",
      "Step #500.00 (0ms ?*RT. ?UPS, vehicles TOT 328 ACT 39 BUF 172)                            \r",
      "Step #600.00 (0ms ?*RT. ?UPS, vehicles TOT 404 ACT 62 BUF 96)                             \r",
      "Step #700.00 (1ms ~= 1000.00*RT, ~64000.00UPS, vehicles TOT 461 ACT 64 BUF 39)            \r",
      "Step #800.00 (0ms ?*RT. ?UPS, vehicles TOT 500 ACT 43 BUF 0)                              \r",
      "Step #867.00 (0ms ?*RT. ?UPS, vehicles TOT 500 ACT 0 BUF 0)                               \r\n"
     ]
    },
    {
     "name": "stderr",
     "output_type": "stream",
     "text": [
      "Warning: Environment variable SUMO_HOME is not set properly, disabling XML validation. Set 'auto' or 'always' for web lookups.\n",
      "100%|█████████████████████████████████████████| 500/500 [05:19<00:00,  1.56it/s]"
     ]
    },
    {
     "name": "stdout",
     "output_type": "stream",
     "text": [
      "Step #0.00 (0ms ?*RT. ?UPS, vehicles TOT 1 ACT 1 BUF 0)                                   \r",
      "Step #100.00 (2ms ~= 500.00*RT, ~23000.00UPS, vehicles TOT 96 ACT 46 BUF 404)             \r",
      "Step #200.00 (0ms ?*RT. ?UPS, vehicles TOT 168 ACT 62 BUF 332)                            \r",
      "Step #300.00 (1ms ~= 1000.00*RT, ~66000.00UPS, vehicles TOT 226 ACT 66 BUF 274)           \r",
      "Step #400.00 (0ms ?*RT. ?UPS, vehicles TOT 271 ACT 53 BUF 229)                            \r",
      "Step #500.00 (0ms ?*RT. ?UPS, vehicles TOT 323 ACT 50 BUF 177)                            \r",
      "Step #600.00 (0ms ?*RT. ?UPS, vehicles TOT 378 ACT 49 BUF 122)                            \r",
      "Step #700.00 (0ms ?*RT. ?UPS, vehicles TOT 447 ACT 63 BUF 53)                             \r",
      "Step #800.00 (0ms ?*RT. ?UPS, vehicles TOT 498 ACT 56 BUF 2)                              \r",
      "Step #894.00 (0ms ?*RT. ?UPS, vehicles TOT 500 ACT 0 BUF 0)                               \r\n"
     ]
    },
    {
     "name": "stderr",
     "output_type": "stream",
     "text": [
      "\n"
     ]
    }
   ],
   "source": [
    "# graphs\n",
    "\n",
    "X = np.linspace(0, 8, 500)\n",
    "Y = np.zeros(X.shape[0])\n",
    "\n",
    "for i in tqdm.tqdm(range(X.shape[0])):\n",
    "    \n",
    "    Y[i] = loss(X[i], '', 500, stat='fit')"
   ]
  },
  {
   "cell_type": "code",
   "execution_count": 136,
   "metadata": {
    "ExecuteTime": {
     "end_time": "2024-04-15T17:52:47.825804Z",
     "start_time": "2024-04-15T17:52:47.820038Z"
    }
   },
   "outputs": [],
   "source": [
    "np.savez('res_data/' + 'test1_8', X=X, Y=Y, N = 500, speed=30, maxspeed=50)"
   ]
  },
  {
   "cell_type": "code",
   "execution_count": 138,
   "metadata": {
    "ExecuteTime": {
     "end_time": "2024-04-15T17:53:01.766444Z",
     "start_time": "2024-04-15T17:53:01.556632Z"
    }
   },
   "outputs": [
    {
     "data": {
      "text/plain": [
       "Text(0, 0.5, 'throughput')"
      ]
     },
     "execution_count": 138,
     "metadata": {},
     "output_type": "execute_result"
    },
    {
     "data": {
      "image/png": "[encoded data removed]",
      "text/plain": [
       "<Figure size 720x720 with 1 Axes>"
      ]
     },
     "metadata": {
      "needs_background": "light"
     },
     "output_type": "display_data"
    }
   ],
   "source": [
    "fig, ax = plt.subplots(figsize=(10, 10), layout='constrained')\n",
    "\n",
    "plt.rcParams['font.size'] = '30'\n",
    "ax.plot(X, Y)\n",
    "ax.set_xlabel('minGap')\n",
    "ax.set_ylabel('throughput')\n"
   ]
  },
  {
   "cell_type": "code",
   "execution_count": 133,
   "metadata": {
    "ExecuteTime": {
     "end_time": "2024-04-15T16:54:27.395435Z",
     "start_time": "2024-04-15T16:54:27.263135Z"
    }
   },
   "outputs": [
    {
     "data": {
      "text/plain": [
       "Text(0, 0.5, 'throughput')"
      ]
     },
     "execution_count": 133,
     "metadata": {},
     "output_type": "execute_result"
    },
    {
     "data": {
      "image/png": "[encoded data removed]",
      "text/plain": [
       "<Figure size 720x720 with 1 Axes>"
      ]
     },
     "metadata": {
      "needs_background": "light"
     },
     "output_type": "display_data"
    }
   ],
   "source": [
    "fig, ax = plt.subplots(figsize=(10, 10), layout='constrained')\n",
    "\n",
    "plt.rcParams['font.size'] = '30'\n",
    "ax.plot(X, Y)\n",
    "ax.set_xlabel('minGap')\n",
    "ax.set_ylabel('throughput')\n"
   ]
  },
  {
   "cell_type": "code",
   "execution_count": null,
   "metadata": {},
   "outputs": [],
   "source": [
    "# simple optimization\n",
    "\n",
    "bounds = (, )\n",
    "\n",
    "sol = sc.optimize.dual_annealing(loss, bounds=[bounds], args=['road', inflow], maxiter=200)\n",
    "ans = sol.x"
   ]
  },
  {
   "cell_type": "code",
   "execution_count": null,
   "metadata": {
    "code_folding": []
   },
   "outputs": [],
   "source": [
    "# smart ml optimization?"
   ]
  }
 ],
 "metadata": {
  "kernelspec": {
   "display_name": "Python 3 (ipykernel)",
   "language": "python",
   "name": "python3"
  },
  "language_info": {
   "codemirror_mode": {
    "name": "ipython",
    "version": 3
   },
   "file_extension": ".py",
   "mimetype": "text/x-python",
   "name": "python",
   "nbconvert_exporter": "python",
   "pygments_lexer": "ipython3",
   "version": "3.9.12"
  },
  "toc": {
   "base_numbering": 1,
   "nav_menu": {},
   "number_sections": true,
   "sideBar": true,
   "skip_h1_title": false,
   "title_cell": "Table of Contents",
   "title_sidebar": "Contents",
   "toc_cell": false,
   "toc_position": {},
   "toc_section_display": true,
   "toc_window_display": false
  }
 },
 "nbformat": 4,
 "nbformat_minor": 4
}
