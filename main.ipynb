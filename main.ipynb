{
 "cells": [
  {
   "cell_type": "code",
   "execution_count": 1,
   "metadata": {
    "ExecuteTime": {
     "end_time": "2024-04-15T19:17:21.911603Z",
     "start_time": "2024-04-15T19:17:21.043308Z"
    }
   },
   "outputs": [],
   "source": [
    "import numpy as np\n",
    "import matplotlib.pyplot as plt\n",
    "import scipy as sc\n",
    "# import sumo as sm\n",
    "import os\n",
    "from traffic_initialization import *\n",
    "import sys\n",
    "from bs4 import BeautifulSoup\n",
    "import tqdm"
   ]
  },
  {
   "cell_type": "code",
   "execution_count": 2,
   "metadata": {
    "ExecuteTime": {
     "end_time": "2024-04-15T20:04:29.262959Z",
     "start_time": "2024-04-15T20:04:28.202516Z"
    },
    "scrolled": true
   },
   "outputs": [
    {
     "ename": "IndexError",
     "evalue": "list index out of range",
     "output_type": "error",
     "traceback": [
      "\u001b[1;31m---------------------------------------------------------------------------\u001b[0m",
      "\u001b[1;31mIndexError\u001b[0m                                Traceback (most recent call last)",
      "\u001b[1;32mc:\\Users\\Saviery\\BullShit\\Data scientist\\Digital department\\Hakashinka\\main.ipynb Cell 2\u001b[0m line \u001b[0;36m1\n\u001b[0;32m    <a href='vscode-notebook-cell:/c%3A/Users/Saviery/BullShit/Data%20scientist/Digital%20department/Hakashinka/main.ipynb#W1sZmlsZQ%3D%3D?line=104'>105</a>\u001b[0m data \u001b[39m=\u001b[39m BeautifulSoup(data, \u001b[39m\"\u001b[39m\u001b[39mxml\u001b[39m\u001b[39m\"\u001b[39m)\n\u001b[0;32m    <a href='vscode-notebook-cell:/c%3A/Users/Saviery/BullShit/Data%20scientist/Digital%20department/Hakashinka/main.ipynb#W1sZmlsZQ%3D%3D?line=105'>106</a>\u001b[0m \u001b[39m# average output flow is equal to N/T, where T – full model time\u001b[39;00m\n\u001b[1;32m--> <a href='vscode-notebook-cell:/c%3A/Users/Saviery/BullShit/Data%20scientist/Digital%20department/Hakashinka/main.ipynb#W1sZmlsZQ%3D%3D?line=106'>107</a>\u001b[0m ans \u001b[39m=\u001b[39m \u001b[39mfloat\u001b[39m(data(\u001b[39m'\u001b[39;49m\u001b[39mvehicleTripStatistics\u001b[39;49m\u001b[39m'\u001b[39;49m)[\u001b[39m0\u001b[39;49m][\u001b[39m'\u001b[39m\u001b[39mduration\u001b[39m\u001b[39m'\u001b[39m])\n\u001b[0;32m    <a href='vscode-notebook-cell:/c%3A/Users/Saviery/BullShit/Data%20scientist/Digital%20department/Hakashinka/main.ipynb#W1sZmlsZQ%3D%3D?line=107'>108</a>\u001b[0m \u001b[39m#ans = N/float(data('performance')[0]['duration'])\u001b[39;00m\n\u001b[0;32m    <a href='vscode-notebook-cell:/c%3A/Users/Saviery/BullShit/Data%20scientist/Digital%20department/Hakashinka/main.ipynb#W1sZmlsZQ%3D%3D?line=108'>109</a>\u001b[0m \u001b[39mprint\u001b[39m(ans)\n",
      "\u001b[1;31mIndexError\u001b[0m: list index out of range"
     ]
    }
   ],
   "source": [
    "# initial xml encoding\n",
    "minGap=3\n",
    "N=300\n",
    "\n",
    "test_name = 'test5'\n",
    "\n",
    "filedir = './xml_data/' + test_name + '/'\n",
    "\n",
    "netfile = test_name + '.net.xml'\n",
    "routefile = test_name + '.rou.xml'\n",
    "configfile = test_name + '.sumocfg'\n",
    "outpufile = test_name + '.statistic.output.xml'\n",
    "\n",
    "rtFl = RouteFile(filedir + routefile)\n",
    "\n",
    "#1\n",
    "\n",
    "vtype = 'id0'\n",
    "\n",
    "rtFl.setVehicleType(vtype, {\n",
    "'accel' : \"3.0\",\n",
    "'decel' : \"6.0\",\n",
    "'length' : \"4.0\",\n",
    "'minGap' : str(minGap),\n",
    "'maxSpeed' : \"50.0\",\n",
    "'sigma' : \"0\"\n",
    "})\n",
    "\n",
    "rtFl.setVehicleFlow(vtype, source='E0', dest='E4', num=N, dur=100, speed=13.89)\n",
    "\n",
    "#2\n",
    "\n",
    "vtype = 'id1'\n",
    "\n",
    "rtFl.setVehicleType(vtype, {\n",
    "'accel' : \"3.0\",\n",
    "'decel' : \"6.0\",\n",
    "'length' : \"4.0\",\n",
    "'minGap' : str(minGap),\n",
    "'maxSpeed' : \"50.0\",\n",
    "'sigma' : \"0\"\n",
    "})\n",
    "\n",
    "rtFl.setVehicleFlow(vtype, source='E0', dest='E12', num=N, dur=100, speed=13.89)\n",
    "\n",
    "vtype = 'id2'\n",
    "\n",
    "rtFl.setVehicleType(vtype, {\n",
    "'accel' : \"3.0\",\n",
    "'decel' : \"6.0\",\n",
    "'length' : \"4.0\",\n",
    "'minGap' : str(minGap),\n",
    "'maxSpeed' : \"50.0\",\n",
    "'sigma' : \"0\"\n",
    "})\n",
    "\n",
    "rtFl.setVehicleFlow(vtype, source='E0', dest='E14', num=N, dur=100, speed=13.89)\n",
    "\n",
    "\n",
    "# #3\n",
    "\n",
    "# vtype = 'id2'\n",
    "\n",
    "# rtFl.setVehicleType(vtype, {\n",
    "# 'accel' : \"3.0\",\n",
    "# 'decel' : \"6.0\",\n",
    "# 'length' : \"4.0\",\n",
    "# 'minGap' : str(minGap),\n",
    "# 'maxSpeed' : \"50.0\",\n",
    "# 'sigma' : \"0\"\n",
    "# })\n",
    "\n",
    "# rtFl.setVehicleFlow(vtype, source='E13', dest='E4', num=N/2, dur=100, speed=13.89)\n",
    "\n",
    "# #4\n",
    "\n",
    "# vtype = 'id3'\n",
    "\n",
    "# rtFl.setVehicleType(vtype, {\n",
    "# 'accel' : \"3.0\",\n",
    "# 'decel' : \"6.0\",\n",
    "# 'length' : \"4.0\",\n",
    "# 'minGap' : str(minGap),\n",
    "# 'maxSpeed' : \"50.0\",\n",
    "# 'sigma' : \"0\"\n",
    "# })\n",
    "\n",
    "#rtFl.setVehicleFlow(vtype, source='E13', dest='E12', num=N/2, dur=100, speed=13.89)\n",
    "\n",
    "\n",
    "rtFl.save()\n",
    "\n",
    "generateConfigFile(\n",
    "filedir + configfile, \n",
    "netfile,\n",
    "routefile,\n",
    "output=['statistic', 'tripinfo']\n",
    ")\n",
    "\n",
    "loadConfig(filedir + test_name + '.sumocfg')\n",
    "# xml reading\n",
    "f_name = filedir + outpufile\n",
    "with open(f_name, 'r') as file:\n",
    "    data = file.read()\n",
    "data = BeautifulSoup(data, \"xml\")\n",
    "# average output flow is equal to N/T, where T – full model time\n",
    "ans = float(data('vehicleTripStatistics')[0]['duration'])\n",
    "#ans = N/float(data('performance')[0]['duration'])\n",
    "print(ans)"
   ]
  },
  {
   "cell_type": "code",
   "execution_count": 3,
   "metadata": {
    "ExecuteTime": {
     "end_time": "2024-04-15T20:08:42.750362Z",
     "start_time": "2024-04-15T20:08:42.729764Z"
    },
    "code_folding": [
     2,
     28,
     73,
     132,
     152
    ]
   },
   "outputs": [],
   "source": [
    "def loss(minGap, test_name, N, stat='mean'):\n",
    "\n",
    "    if(test_name=='test1'):\n",
    "        # initial xml encoding\n",
    "\n",
    "        filedir = './xml_data/test1/'\n",
    "\n",
    "        netfile = 'test1.net.xml'\n",
    "        routefile = 'test1.rou.xml'\n",
    "        configfile = 'test1.sumocfg'\n",
    "        outpufile = 'test1.statistic.output.xml'\n",
    "\n",
    "        rtFl = RouteFile(filedir + routefile)\n",
    "\n",
    "        vtype = 'id0'\n",
    "\n",
    "        rtFl.setVehicleType(vtype, {\n",
    "        'accel' : \"3.0\",\n",
    "        'decel' : \"6.0\",\n",
    "        'length' : \"4.0\",\n",
    "        'minGap' : str(minGap),\n",
    "        'maxSpeed' : \"50.0\",\n",
    "        'sigma' : \"0\"\n",
    "        })\n",
    "\n",
    "        rtFl.setVehicleFlow(vtype, source='E0', dest='E3', num=N, dur=100, speed=30)\n",
    "        rtFl.save()\n",
    "            \n",
    "    elif(test_name=='test4'):\n",
    "        \n",
    "        test_name = 'test4'\n",
    "\n",
    "        filedir = './xml_data/' + test_name + '/'\n",
    "\n",
    "        netfile = test_name + '.net.xml'\n",
    "        routefile = test_name + '.rou.xml'\n",
    "        configfile = test_name + '.sumocfg'\n",
    "        outpufile = test_name + '.statistic.output.xml'\n",
    "\n",
    "        rtFl = RouteFile(filedir + routefile)\n",
    "\n",
    "        #1\n",
    "\n",
    "        vtype = 'id0'\n",
    "\n",
    "        rtFl.setVehicleType(vtype, {\n",
    "        'accel' : \"3.0\",\n",
    "        'decel' : \"6.0\",\n",
    "        'length' : \"4.0\",\n",
    "        'minGap' : str(minGap),\n",
    "        'maxSpeed' : \"50.0\",\n",
    "        'sigma' : \"0\"\n",
    "        })\n",
    "\n",
    "        rtFl.setVehicleFlow(vtype, source='E0', dest='E4', num=N, dur=100, speed=13.89)\n",
    "\n",
    "        #2\n",
    "\n",
    "        vtype = 'id1'\n",
    "\n",
    "        rtFl.setVehicleType(vtype, {\n",
    "        'accel' : \"3.0\",\n",
    "        'decel' : \"6.0\",\n",
    "        'length' : \"4.0\",\n",
    "        'minGap' : str(minGap),\n",
    "        'maxSpeed' : \"50.0\",\n",
    "        'sigma' : \"0\"\n",
    "        })\n",
    "\n",
    "        rtFl.setVehicleFlow(vtype, source='E0', dest='E12', num=N, dur=100, speed=13.89)\n",
    "\n",
    "        rtFl.save()\n",
    "        \n",
    "    elif(test_name=='test5'):\n",
    "\n",
    "        filedir = './xml_data/' + test_name + '/'\n",
    "\n",
    "        netfile = test_name + '.net.xml'\n",
    "        routefile = test_name + '.rou.xml'\n",
    "        configfile = test_name + '.sumocfg'\n",
    "        outpufile = test_name + '.statistic.output.xml'\n",
    "\n",
    "        rtFl = RouteFile(filedir + routefile)\n",
    "\n",
    "        #1\n",
    "\n",
    "        vtype = 'id0'\n",
    "\n",
    "        rtFl.setVehicleType(vtype, {\n",
    "        'accel' : \"3.0\",\n",
    "        'decel' : \"6.0\",\n",
    "        'length' : \"4.0\",\n",
    "        'minGap' : str(minGap),\n",
    "        'maxSpeed' : \"50.0\",\n",
    "        'sigma' : \"0\"\n",
    "        })\n",
    "\n",
    "        rtFl.setVehicleFlow(vtype, source='E0', dest='E4', num=N, dur=100, speed=13)\n",
    "\n",
    "        #2\n",
    "\n",
    "        vtype = 'id1'\n",
    "\n",
    "        rtFl.setVehicleType(vtype, {\n",
    "        'accel' : \"3.0\",\n",
    "        'decel' : \"6.0\",\n",
    "        'length' : \"4.0\",\n",
    "        'minGap' : str(minGap),\n",
    "        'maxSpeed' : \"50.0\",\n",
    "        'sigma' : \"0\"\n",
    "        })\n",
    "\n",
    "        rtFl.setVehicleFlow(vtype, source='E0', dest='E12', num=N, dur=100, speed=13)\n",
    "        \n",
    "        #3\n",
    "\n",
    "        vtype = 'id2'\n",
    "\n",
    "        rtFl.setVehicleType(vtype, {\n",
    "        'accel' : \"3.0\",\n",
    "        'decel' : \"6.0\",\n",
    "        'length' : \"4.0\",\n",
    "        'minGap' : str(minGap),\n",
    "        'maxSpeed' : \"50.0\",\n",
    "        'sigma' : \"0\"\n",
    "        })\n",
    "\n",
    "        rtFl.setVehicleFlow(vtype, source='E0', dest='E14', num=N, dur=100, speed=13)\n",
    "\n",
    "        rtFl.save()\n",
    "\n",
    "        \n",
    "    if stat == 'mean':\n",
    "        generateConfigFile(\n",
    "        filedir + configfile, \n",
    "        netfile,\n",
    "        routefile,\n",
    "        output=['statistic']#, 'tripinfo']\n",
    "        )\n",
    "\n",
    "        loadConfig(filedir + test_name + '.sumocfg')\n",
    "        # xml reading\n",
    "        f_name = filedir + outpufile\n",
    "        with open(f_name, 'r') as file:\n",
    "            data = file.read()\n",
    "        data = BeautifulSoup(data, \"xml\")\n",
    "        # average output flow is equal to N/T, where T – full model time\n",
    "        #ans = float(data('vehicleTripStatistics')[0]['duration'])\n",
    "        ans = N/float(data('performance')[0]['duration'])\n",
    "\n",
    "        return ans\n",
    "\n",
    "    elif stat == 'median':\n",
    "        generateConfigFile(\n",
    "        filedir + configfile, \n",
    "        netfile,\n",
    "        routefile,\n",
    "        output=['tripinfo']\n",
    "        )\n",
    "\n",
    "        loadConfig(filedir + test_name + '.sumocfg')\n",
    "        # xml reading\n",
    "        f_name = filedir + test_name + '.tripinfo.output.xml'\n",
    "        with open(f_name, 'r') as file:\n",
    "            data = file.read()\n",
    "        data = BeautifulSoup(data, \"xml\")\n",
    "\n",
    "        arr = []\n",
    "        for sruct in data('tripinfo'):\n",
    "            arr.append(float(sruct['arrival']))\n",
    "\n",
    "        n = 5\n",
    "        arr = np.array(arr)\n",
    "        step = max(arr)/n\n",
    "        rates = []\n",
    "        for i in range(n):\n",
    "            temp = arr[arr > i*step]\n",
    "            temp = temp[temp <= (i+1)*step]\n",
    "            rates.append(temp.size)\n",
    "        return np.median(rates)\n",
    "\n",
    "\n",
    "    elif stat == 'car_time':\n",
    "        generateConfigFile(\n",
    "        filedir + configfile, \n",
    "        netfile,\n",
    "        routefile,\n",
    "        output=['tripinfo']\n",
    "        )\n",
    "\n",
    "        loadConfig(filedir + test_name + '.sumocfg')\n",
    "        # xml reading\n",
    "        f_name = filedir + outpufile\n",
    "        with open(f_name, 'r') as file:\n",
    "            data = file.read()\n",
    "        data = BeautifulSoup(data, \"xml\")\n",
    "        # average output flow is equal to N/T, where T – full model time\n",
    "        ans = float(data('vehicleTripStatistics')[0]['duration'])\n",
    "        \n",
    "        return 1/ans\n",
    "    \n",
    "    else:\n",
    "        raise Exception('Undefined statistics!')"
   ]
  },
  {
   "cell_type": "code",
   "execution_count": 4,
   "metadata": {
    "ExecuteTime": {
     "end_time": "2024-04-15T20:14:14.220012Z",
     "start_time": "2024-04-15T20:14:13.479079Z"
    },
    "scrolled": true
   },
   "outputs": [
    {
     "data": {
      "text/plain": [
       "0.23651844843897823"
      ]
     },
     "execution_count": 4,
     "metadata": {},
     "output_type": "execute_result"
    }
   ],
   "source": [
    "loss(3.8, 'test5', 250)"
   ]
  },
  {
   "cell_type": "code",
   "execution_count": 5,
   "metadata": {
    "ExecuteTime": {
     "end_time": "2024-04-15T20:12:33.436762Z",
     "start_time": "2024-04-15T20:09:24.391081Z"
    },
    "scrolled": true
   },
   "outputs": [
    {
     "name": "stderr",
     "output_type": "stream",
     "text": [
      "  0%|          | 0/250 [00:00<?, ?it/s]"
     ]
    },
    {
     "name": "stderr",
     "output_type": "stream",
     "text": [
      "  0%|          | 0/250 [00:00<?, ?it/s]\n"
     ]
    },
    {
     "ename": "IndexError",
     "evalue": "list index out of range",
     "output_type": "error",
     "traceback": [
      "\u001b[1;31m---------------------------------------------------------------------------\u001b[0m",
      "\u001b[1;31mIndexError\u001b[0m                                Traceback (most recent call last)",
      "\u001b[1;32mc:\\Users\\Saviery\\BullShit\\Data scientist\\Digital department\\Hakashinka\\main.ipynb Cell 5\u001b[0m line \u001b[0;36m8\n\u001b[0;32m      <a href='vscode-notebook-cell:/c%3A/Users/Saviery/BullShit/Data%20scientist/Digital%20department/Hakashinka/main.ipynb#W4sZmlsZQ%3D%3D?line=3'>4</a>\u001b[0m Y \u001b[39m=\u001b[39m np\u001b[39m.\u001b[39mzeros(X\u001b[39m.\u001b[39mshape[\u001b[39m0\u001b[39m])\n\u001b[0;32m      <a href='vscode-notebook-cell:/c%3A/Users/Saviery/BullShit/Data%20scientist/Digital%20department/Hakashinka/main.ipynb#W4sZmlsZQ%3D%3D?line=5'>6</a>\u001b[0m \u001b[39mfor\u001b[39;00m i \u001b[39min\u001b[39;00m tqdm\u001b[39m.\u001b[39mtqdm(\u001b[39mrange\u001b[39m(X\u001b[39m.\u001b[39mshape[\u001b[39m0\u001b[39m])):\n\u001b[1;32m----> <a href='vscode-notebook-cell:/c%3A/Users/Saviery/BullShit/Data%20scientist/Digital%20department/Hakashinka/main.ipynb#W4sZmlsZQ%3D%3D?line=7'>8</a>\u001b[0m     Y[i] \u001b[39m=\u001b[39m loss(X[i], \u001b[39m'\u001b[39;49m\u001b[39mtest5\u001b[39;49m\u001b[39m'\u001b[39;49m, \u001b[39m250\u001b[39;49m, \u001b[39m'\u001b[39;49m\u001b[39mcar_time\u001b[39;49m\u001b[39m'\u001b[39;49m)\n",
      "\u001b[1;32mc:\\Users\\Saviery\\BullShit\\Data scientist\\Digital department\\Hakashinka\\main.ipynb Cell 5\u001b[0m line \u001b[0;36m1\n\u001b[0;32m    <a href='vscode-notebook-cell:/c%3A/Users/Saviery/BullShit/Data%20scientist/Digital%20department/Hakashinka/main.ipynb#W4sZmlsZQ%3D%3D?line=195'>196</a>\u001b[0m     data \u001b[39m=\u001b[39m BeautifulSoup(data, \u001b[39m\"\u001b[39m\u001b[39mxml\u001b[39m\u001b[39m\"\u001b[39m)\n\u001b[0;32m    <a href='vscode-notebook-cell:/c%3A/Users/Saviery/BullShit/Data%20scientist/Digital%20department/Hakashinka/main.ipynb#W4sZmlsZQ%3D%3D?line=196'>197</a>\u001b[0m     \u001b[39m# average output flow is equal to N/T, where T – full model time\u001b[39;00m\n\u001b[1;32m--> <a href='vscode-notebook-cell:/c%3A/Users/Saviery/BullShit/Data%20scientist/Digital%20department/Hakashinka/main.ipynb#W4sZmlsZQ%3D%3D?line=197'>198</a>\u001b[0m     ans \u001b[39m=\u001b[39m \u001b[39mfloat\u001b[39m(data(\u001b[39m'\u001b[39;49m\u001b[39mvehicleTripStatistics\u001b[39;49m\u001b[39m'\u001b[39;49m)[\u001b[39m0\u001b[39;49m][\u001b[39m'\u001b[39m\u001b[39mduration\u001b[39m\u001b[39m'\u001b[39m])\n\u001b[0;32m    <a href='vscode-notebook-cell:/c%3A/Users/Saviery/BullShit/Data%20scientist/Digital%20department/Hakashinka/main.ipynb#W4sZmlsZQ%3D%3D?line=199'>200</a>\u001b[0m     \u001b[39mreturn\u001b[39;00m \u001b[39m1\u001b[39m\u001b[39m/\u001b[39mans\n\u001b[0;32m    <a href='vscode-notebook-cell:/c%3A/Users/Saviery/BullShit/Data%20scientist/Digital%20department/Hakashinka/main.ipynb#W4sZmlsZQ%3D%3D?line=201'>202</a>\u001b[0m \u001b[39melse\u001b[39;00m:\n",
      "\u001b[1;31mIndexError\u001b[0m: list index out of range"
     ]
    }
   ],
   "source": [
    "# graphs\n",
    "\n",
    "X = np.linspace(0, 8, 250)\n",
    "Y = np.zeros(X.shape[0])\n",
    "\n",
    "for i in tqdm.tqdm(range(X.shape[0])):\n",
    "    \n",
    "    Y[i] = loss(X[i], 'test5', 250, 'car_time')"
   ]
  },
  {
   "cell_type": "code",
   "execution_count": null,
   "metadata": {
    "ExecuteTime": {
     "end_time": "2024-04-15T20:12:37.763339Z",
     "start_time": "2024-04-15T20:12:37.758217Z"
    }
   },
   "outputs": [],
   "source": [
    "np.savez('res_data/' + 'test5_4', X=X, Y=Y, N = 250, speed=30, maxspeed=50)"
   ]
  },
  {
   "cell_type": "code",
   "execution_count": null,
   "metadata": {
    "ExecuteTime": {
     "end_time": "2024-04-15T20:12:38.370844Z",
     "start_time": "2024-04-15T20:12:38.218390Z"
    }
   },
   "outputs": [
    {
     "data": {
      "text/plain": [
       "Text(0, 0.5, 'throughput')"
      ]
     },
     "execution_count": 46,
     "metadata": {},
     "output_type": "execute_result"
    },
    {
     "data": {
      "image/png": "[encoded data removed]",
      "text/plain": [
       "<Figure size 720x720 with 1 Axes>"
      ]
     },
     "metadata": {
      "needs_background": "light"
     },
     "output_type": "display_data"
    }
   ],
   "source": [
    "fig, ax = plt.subplots(figsize=(10, 10), layout='constrained')\n",
    "\n",
    "plt.rcParams['font.size'] = '30'\n",
    "ax.plot(X, Y)\n",
    "ax.set_xlabel('minGap')\n",
    "ax.set_ylabel('throughput')\n"
   ]
  },
  {
   "cell_type": "code",
   "execution_count": null,
   "metadata": {
    "ExecuteTime": {
     "end_time": "2024-04-15T16:54:27.395435Z",
     "start_time": "2024-04-15T16:54:27.263135Z"
    }
   },
   "outputs": [
    {
     "data": {
      "text/plain": [
       "Text(0, 0.5, 'throughput')"
      ]
     },
     "execution_count": 133,
     "metadata": {},
     "output_type": "execute_result"
    },
    {
     "data": {
      "image/png": "[encoded data removed]",
      "text/plain": [
       "<Figure size 720x720 with 1 Axes>"
      ]
     },
     "metadata": {
      "needs_background": "light"
     },
     "output_type": "display_data"
    }
   ],
   "source": [
    "fig, ax = plt.subplots(figsize=(10, 10), layout='constrained')\n",
    "\n",
    "plt.rcParams['font.size'] = '30'\n",
    "ax.plot(X, Y)\n",
    "ax.set_xlabel('minGap')\n",
    "ax.set_ylabel('throughput')\n"
   ]
  },
  {
   "cell_type": "code",
   "execution_count": null,
   "metadata": {},
   "outputs": [
    {
     "ename": "TypeError",
     "evalue": "dual_annealing() got multiple values for argument 'bounds'",
     "output_type": "error",
     "traceback": [
      "\u001b[1;31m---------------------------------------------------------------------------\u001b[0m",
      "\u001b[1;31mTypeError\u001b[0m                                 Traceback (most recent call last)",
      "\u001b[1;32mc:\\Users\\Saviery\\BullShit\\Data scientist\\Digital department\\Hakashinka\\main.ipynb Cell 9\u001b[0m line \u001b[0;36m5\n\u001b[0;32m      <a href='vscode-notebook-cell:/c%3A/Users/Saviery/BullShit/Data%20scientist/Digital%20department/Hakashinka/main.ipynb#X11sZmlsZQ%3D%3D?line=0'>1</a>\u001b[0m \u001b[39m# simple optimization\u001b[39;00m\n\u001b[0;32m      <a href='vscode-notebook-cell:/c%3A/Users/Saviery/BullShit/Data%20scientist/Digital%20department/Hakashinka/main.ipynb#X11sZmlsZQ%3D%3D?line=2'>3</a>\u001b[0m bounds \u001b[39m=\u001b[39m (\u001b[39m0\u001b[39m, \u001b[39mNone\u001b[39;00m)\n\u001b[1;32m----> <a href='vscode-notebook-cell:/c%3A/Users/Saviery/BullShit/Data%20scientist/Digital%20department/Hakashinka/main.ipynb#X11sZmlsZQ%3D%3D?line=4'>5</a>\u001b[0m sol \u001b[39m=\u001b[39m sc\u001b[39m.\u001b[39;49moptimize\u001b[39m.\u001b[39;49mdual_annealing(loss, \u001b[39m1.0\u001b[39;49m, bounds\u001b[39m=\u001b[39;49m[bounds], args\u001b[39m=\u001b[39;49m[\u001b[39m'\u001b[39;49m\u001b[39mtest5\u001b[39;49m\u001b[39m'\u001b[39;49m, \u001b[39m250\u001b[39;49m], maxiter\u001b[39m=\u001b[39;49m\u001b[39m200\u001b[39;49m)\n\u001b[0;32m      <a href='vscode-notebook-cell:/c%3A/Users/Saviery/BullShit/Data%20scientist/Digital%20department/Hakashinka/main.ipynb#X11sZmlsZQ%3D%3D?line=5'>6</a>\u001b[0m ans \u001b[39m=\u001b[39m sol\u001b[39m.\u001b[39mx\n",
      "\u001b[1;31mTypeError\u001b[0m: dual_annealing() got multiple values for argument 'bounds'"
     ]
    }
   ],
   "source": [
    "# simple optimization\n",
    "\n",
    "bounds = (, )\n",
    "\n",
    "sol = sc.optimize.dual_annealing(loss, bounds=[bounds], args=['road', inflow], maxiter=200)\n",
    "ans = sol.x"
   ]
  },
  {
   "cell_type": "code",
   "execution_count": 6,
   "metadata": {},
   "outputs": [
    {
     "name": "stdout",
     "output_type": "stream",
     "text": [
      "  message: CONVERGENCE: NORM_OF_PROJECTED_GRADIENT_<=_PGTOL\n",
      "  success: True\n",
      "   status: 0\n",
      "      fun: -0.23651844843897823\n",
      "        x: [ 5.000e-01]\n",
      "      nit: 0\n",
      "      jac: [ 0.000e+00]\n",
      "     nfev: 2\n",
      "     njev: 1\n",
      " hess_inv: <1x1 LbfgsInvHessProduct with dtype=float64>\n"
     ]
    }
   ],
   "source": [
    "# предыдущее, у меня не работает, это, вроде работает\n",
    "def inverse_loss(minGap: float, test_name: str, N:int, stat:str='mean') -> float:\n",
    "    # print(minGap)\n",
    "    return -loss(minGap, test_name, N, stat=stat)\n",
    "    # return (minGap - 10)**2 + 1\n",
    "\n",
    "def dumb_best_dist(test_name: str, n_cars: int) -> float:\n",
    "    ans = sc.optimize.minimize(inverse_loss, 0.5, args=(test_name, n_cars), bounds=[(0.0, None)])\n",
    "    print(ans)\n",
    "\n",
    "dumb_best_dist('test5', 250)"
   ]
  },
  {
   "cell_type": "markdown",
   "metadata": {},
   "source": [
    "# Намашинлерним говна?"
   ]
  },
  {
   "cell_type": "code",
   "execution_count": 7,
   "metadata": {},
   "outputs": [
    {
     "data": {
      "text/plain": [
       "0.23651844843897823"
      ]
     },
     "execution_count": 7,
     "metadata": {},
     "output_type": "execute_result"
    }
   ],
   "source": [
    "# ВНИМАНИЕ тут создается лосс без названия дороги\n",
    "def make_loss_for_model(test_name:str) -> callable:\n",
    "    def tmp_func(dist, inflow):\n",
    "        return loss(dist, test_name, inflow)\n",
    "    return tmp_func\n",
    "\n",
    "# например вы хотите лосс для 5-ого теста, тогда просто используйте\n",
    "use_this_loss = make_loss_for_model('test5')\n",
    "use_this_loss(3.8, 250)"
   ]
  },
  {
   "cell_type": "code",
   "execution_count": 1,
   "metadata": {},
   "outputs": [],
   "source": [
    "from model import OptimalLoss_Q, OptimalDist"
   ]
  },
  {
   "cell_type": "code",
   "execution_count": null,
   "metadata": {},
   "outputs": [
    {
     "data": {
      "text/plain": [
       "'\\nКак работать с моделями\\n1) Для начала надо их заимпортить, используйте код выше.\\n\\n2) Потом надо создать объект с нужной Вам сеткой. Что такое сетка?\\nЭто значения количества машин и мощностей потоков, которые будут использоваться для обучения.\\n\\nИх формат: grid_params = [(min_dist, max_dist, dist_step), (min_inflow, max_inflow, inflow_step)], можете юзать другие контейнеры, наверное, не сломается, но это не точно\\n\\nЧем меньше узлов в сетке, тем быстрее обучится модель\\nЗачем Вам это знать?\\n'"
      ]
     },
     "execution_count": 7,
     "metadata": {},
     "output_type": "execute_result"
    }
   ],
   "source": [
    "\"\"\"\n",
    "Как работать с моделями\n",
    "1) Для начала надо их заимпортить, используйте код выше.\n",
    "OptimalLoss_Q - подобие обучения с подкреплением\n",
    "OptimalDist   - бустинг, который обучается на том, что посчитал\n",
    "\n",
    "2) Потом надо создать объект с нужной Вам сеткой. Что такое сетка?\n",
    "Это значения количества машин и мощностей потоков, которые будут использоваться для обучения.\n",
    "\n",
    "Их формат: grid_params = [(min_dist, max_dist, dist_step), (min_inflow, max_inflow, inflow_step)], можете юзать другие контейнеры, наверное, не сломается, но это не точно\n",
    "\n",
    "Чем меньше узлов в сетке, тем быстрее обучится модель\n",
    "Зачем Вам это знать?\n",
    "Да потому, что если Вы попросите предсказать что-то для данных, не лежащих в сетке, модель высрет хуйню :)\n",
    "\n",
    "Поэтому ВЫБЕРЕТЕ MIN И MAX для КАЖДОГО параметра, их всего два, это не сложно, наверное\n",
    "ШАГ параметра выбирайте относительно скорости работы, если считается уже 5 мин, то можно увеличить шаг\n",
    "\n",
    "3) Oбучите модель с помощью метода fit\n",
    "На вход отдайте ему make_loss_for_model('ИМЯ_ТЕСТА')\n",
    "Например, obj.fit(make_loss_for_model('test_name'))\n",
    "\n",
    "4) Сходите отдохнуть, пока модель обучается\n",
    "\n",
    "5) Когда модель обучилась, ее можно попросить что-то предсказать с помощью метода predict\n",
    "На вход скормите ему значение потока (inflow)\n",
    "Например, obj.predict(some_inflow)\n",
    "\n",
    "6) Наслаждайтесь ответом\n",
    "\n",
    "\n",
    "\n",
    "Если что-то пойдет не так или появится какой-то error, я не виноват, это все Артем, пишите ему\n",
    "\"\"\""
   ]
  },
  {
   "cell_type": "code",
   "execution_count": 11,
   "metadata": {},
   "outputs": [],
   "source": [
    "# Example\n",
    "grid_params = [(0, 11, 0.5), (50, 151, 25)]  # сначала дистанция машин, потом поток\n",
    "obj = OptimalDist(grid_params=grid_params)\n",
    "obj.fit(make_loss_for_model('test'))\n",
    "obj.predict(75)"
   ]
  }
 ],
 "metadata": {
  "kernelspec": {
   "display_name": "Python 3 (ipykernel)",
   "language": "python",
   "name": "python3"
  },
  "language_info": {
   "codemirror_mode": {
    "name": "ipython",
    "version": 3
   },
   "file_extension": ".py",
   "mimetype": "text/x-python",
   "name": "python",
   "nbconvert_exporter": "python",
   "pygments_lexer": "ipython3",
   "version": "3.11.9"
  },
  "toc": {
   "base_numbering": 1,
   "nav_menu": {},
   "number_sections": true,
   "sideBar": true,
   "skip_h1_title": false,
   "title_cell": "Table of Contents",
   "title_sidebar": "Contents",
   "toc_cell": false,
   "toc_position": {},
   "toc_section_display": true,
   "toc_window_display": false
  }
 },
 "nbformat": 4,
 "nbformat_minor": 4
}
