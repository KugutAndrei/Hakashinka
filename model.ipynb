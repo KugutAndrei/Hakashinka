{
 "cells": [
  {
   "cell_type": "code",
   "execution_count": 212,
   "metadata": {},
   "outputs": [],
   "source": [
    "from Loss import loss_func\n",
    "import pandas as pd\n",
    "from scipy.optimize import minimize\n",
    "import numpy as np"
   ]
  },
  {
   "cell_type": "code",
   "execution_count": 243,
   "metadata": {},
   "outputs": [],
   "source": [
    "def save_loss(dist: float, road: str, inflow) -> float:\n",
    "    \"\"\"\n",
    "    Считет значение loss_func, если его раньше не считали\n",
    "    \"\"\"\n",
    "    #\n",
    "    if (type(dist) == np.ndarray):  # не трогать блять, иначе сраный minimize сломет все, ебанная он сука, вот нахуя вместо числа подставлять массив с этим числом, он что тупой? сука драная, я полжизни потратил на поиск ебанной ошибки\n",
    "        dist = dist[0]\n",
    "    #\n",
    "\n",
    "    # проверяем: вдруг мы это уже считали\n",
    "    filename = \"Loss_res/check.csv\"\n",
    "    loss_res = pd.read_csv(filename)\n",
    "    cond = True\n",
    "    for i in range(len(inflow)):\n",
    "        cond = cond & (loss_res.iloc[:, i] == inflow[i])\n",
    "    cond = cond & (loss_res['dist'] == dist)\n",
    "    loss = loss_res[cond]['loss']  # все элементы с данным inlfow и dist\n",
    "    assert len(loss) <= 1, f\"Ну пизда, и что делать?\\n{loss_res[cond]}\"\n",
    "\n",
    "    # eсли не считали, то считаем\n",
    "    if (len(loss) == 0):\n",
    "        loss = loss_func(dist, road, inflow)\n",
    "        new_row = (*inflow, dist, loss)\n",
    "        loss_res.loc[len(loss_res)] = new_row\n",
    "        loss_res.to_csv(filename, index=False)  # не задавайте вопросы про скорость и оптимизацию, оно, вроде, работает\n",
    "        return loss\n",
    "    return loss.iloc[0]"
   ]
  },
  {
   "cell_type": "markdown",
   "metadata": {},
   "source": [
    "# Тупая оптимизация"
   ]
  },
  {
   "cell_type": "code",
   "execution_count": 244,
   "metadata": {},
   "outputs": [
    {
     "name": "stdout",
     "output_type": "stream",
     "text": [
      "  message: CONVERGENCE: NORM_OF_PROJECTED_GRADIENT_<=_PGTOL\n",
      "  success: True\n",
      "   status: 0\n",
      "      fun: 1.0\n",
      "        x: [ 1.000e+00]\n",
      "      nit: 1\n",
      "      jac: [ 0.000e+00]\n",
      "     nfev: 4\n",
      "     njev: 2\n",
      " hess_inv: <1x1 LbfgsInvHessProduct with dtype=float64>\n"
     ]
    }
   ],
   "source": [
    "def dumb_best_dist(road: str, inflow) -> float:\n",
    "    ans = minimize(save_loss, 2.0, args=(road, inflow), bounds=[(0.0, None)])\n",
    "    print(ans)\n",
    "\n",
    "dumb_best_dist('road_name', (1, 2, 1))"
   ]
  },
  {
   "cell_type": "markdown",
   "metadata": {},
   "source": [
    "# Что-то на ML или DL жду Ваших предложений"
   ]
  }
 ],
 "metadata": {
  "kernelspec": {
   "display_name": "Python 3",
   "language": "python",
   "name": "python3"
  },
  "language_info": {
   "codemirror_mode": {
    "name": "ipython",
    "version": 3
   },
   "file_extension": ".py",
   "mimetype": "text/x-python",
   "name": "python",
   "nbconvert_exporter": "python",
   "pygments_lexer": "ipython3",
   "version": "3.11.9"
  }
 },
 "nbformat": 4,
 "nbformat_minor": 2
}
