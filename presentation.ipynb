{
 "cells": [
  {
   "cell_type": "code",
   "execution_count": 1,
   "id": "bbe22e2a-ea4b-4471-9193-b58c92789093",
   "metadata": {},
   "outputs": [
    {
     "name": "stdout",
     "output_type": "stream",
     "text": [
      "env: SUMO_HOME=/usr/share/sumo\n",
      "time: 72.8 µs (started: 2024-04-25 22:22:28 +03:00)\n"
     ]
    }
   ],
   "source": [
    "import numpy as np\n",
    "import matplotlib.pyplot as plt\n",
    "import scipy as sc\n",
    "# import sumo as sm\n",
    "import os\n",
    "from traffic_initialization import *\n",
    "import sys\n",
    "from bs4 import BeautifulSoup\n",
    "import tqdm\n",
    "import pandas as pd\n",
    "\n",
    "# New handy interface is here!\n",
    "# Check interface.py for possible parameters\n",
    "from interface import Simulation\n",
    "%env SUMO_HOME=/usr/share/sumo\n",
    "from datetime import datetime\n",
    "%load_ext autotime\n",
    "\n",
    "import concurrent.futures"
   ]
  },
  {
   "cell_type": "markdown",
   "id": "3f66934e-e888-4ed0-b5ec-ea957684d95b",
   "metadata": {},
   "source": [
    "# Evidance of effect existence"
   ]
  },
  {
   "cell_type": "markdown",
   "id": "2b00c283-1cc3-4264-8714-5f13c24ecb9b",
   "metadata": {},
   "source": [
    "# Simple traffic without gap optimization"
   ]
  },
  {
   "cell_type": "code",
   "execution_count": null,
   "id": "de968499-dc9e-4392-9742-9723c1b347cb",
   "metadata": {},
   "outputs": [],
   "source": [
    "# calculation of throughput()\n",
    "N_arr=np.linspace(100, 10000, 200)\n",
    "out=np.zeros((200, 2))\n",
    "\n",
    "for n in tqdm.tqdm(range(N_arr.shape[0])):\n",
    "    \n",
    "    out[n, :] = throughput(N_arr[n], 2, 2, 2, default_gap=2)\n",
    "    \n",
    "np.savez('res_data/simple_throughput_1', out=out, N_arr=N_arr)"
   ]
  },
  {
   "cell_type": "code",
   "execution_count": null,
   "id": "7919c038-937f-4b36-bd77-178663086bee",
   "metadata": {},
   "outputs": [],
   "source": [
    "# calculation of throughput()\n",
    "N_arr=np.linspace(4000, 6000, 200)\n",
    "out=np.zeros((200, 2))\n",
    "\n",
    "for n in tqdm.tqdm(range(N_arr.shape[0])):\n",
    "    \n",
    "    out[n, :] = throughput(N_arr[n], 2, 2, 2, default_gap=2)\n",
    "    \n",
    "np.savez('res_data/simple_throughput_1', out=out, N_arr=N_arr)"
   ]
  },
  {
   "cell_type": "code",
   "execution_count": 6,
   "id": "7c696c10-9394-4ffa-821e-232185518e0c",
   "metadata": {},
   "outputs": [
    {
     "ename": "AttributeError",
     "evalue": "'str' object has no attribute 'items'",
     "output_type": "error",
     "traceback": [
      "\u001b[0;31m---------------------------------------------------------------------------\u001b[0m",
      "\u001b[0;31mAttributeError\u001b[0m                            Traceback (most recent call last)",
      "Cell \u001b[0;32mIn[6], line 7\u001b[0m\n\u001b[1;32m      5\u001b[0m fig, ax \u001b[38;5;241m=\u001b[39m plt\u001b[38;5;241m.\u001b[39msubplots()\n\u001b[1;32m      6\u001b[0m plt\u001b[38;5;241m.\u001b[39mrcParams[\u001b[38;5;124m\"\u001b[39m\u001b[38;5;124mfigure.figsize\u001b[39m\u001b[38;5;124m\"\u001b[39m] \u001b[38;5;241m=\u001b[39m (\u001b[38;5;241m10\u001b[39m, \u001b[38;5;241m10\u001b[39m)\n\u001b[0;32m----> 7\u001b[0m ax\u001b[38;5;241m.\u001b[39mset_xlabel(\u001b[38;5;124m\"\u001b[39m\u001b[38;5;124mN\u001b[39m\u001b[38;5;124m\"\u001b[39m, \u001b[38;5;124m\"\u001b[39m\u001b[38;5;124mThroughput\u001b[39m\u001b[38;5;124m\"\u001b[39m)\n\u001b[1;32m      9\u001b[0m ax\u001b[38;5;241m.\u001b[39merrorbar(N_arr, out[:, \u001b[38;5;241m0\u001b[39m], yerr\u001b[38;5;241m=\u001b[39mnp\u001b[38;5;241m.\u001b[39masarray(out[:, \u001b[38;5;241m1\u001b[39m]), linestyle\u001b[38;5;241m=\u001b[39m\u001b[38;5;124m\"\u001b[39m\u001b[38;5;124m\"\u001b[39m, marker\u001b[38;5;241m=\u001b[39m\u001b[38;5;124m\"\u001b[39m\u001b[38;5;124m.\u001b[39m\u001b[38;5;124m\"\u001b[39m)\n\u001b[1;32m     11\u001b[0m plt\u001b[38;5;241m.\u001b[39mrcParams[\u001b[38;5;124m'\u001b[39m\u001b[38;5;124mfont.size\u001b[39m\u001b[38;5;124m'\u001b[39m] \u001b[38;5;241m=\u001b[39m \u001b[38;5;124m'\u001b[39m\u001b[38;5;124m20\u001b[39m\u001b[38;5;124m'\u001b[39m\n",
      "File \u001b[0;32m/opt/anaconda3/lib/python3.11/site-packages/matplotlib/axes/_base.py:3481\u001b[0m, in \u001b[0;36m_AxesBase.set_xlabel\u001b[0;34m(self, xlabel, fontdict, labelpad, loc, **kwargs)\u001b[0m\n\u001b[1;32m   3474\u001b[0m     x \u001b[38;5;241m=\u001b[39m {\n\u001b[1;32m   3475\u001b[0m         \u001b[38;5;124m'\u001b[39m\u001b[38;5;124mleft\u001b[39m\u001b[38;5;124m'\u001b[39m: \u001b[38;5;241m0\u001b[39m,\n\u001b[1;32m   3476\u001b[0m         \u001b[38;5;124m'\u001b[39m\u001b[38;5;124mcenter\u001b[39m\u001b[38;5;124m'\u001b[39m: \u001b[38;5;241m0.5\u001b[39m,\n\u001b[1;32m   3477\u001b[0m         \u001b[38;5;124m'\u001b[39m\u001b[38;5;124mright\u001b[39m\u001b[38;5;124m'\u001b[39m: \u001b[38;5;241m1\u001b[39m,\n\u001b[1;32m   3478\u001b[0m     }[loc]\n\u001b[1;32m   3479\u001b[0m     kwargs\u001b[38;5;241m.\u001b[39mupdate(x\u001b[38;5;241m=\u001b[39mx, horizontalalignment\u001b[38;5;241m=\u001b[39mloc)\n\u001b[0;32m-> 3481\u001b[0m \u001b[38;5;28;01mreturn\u001b[39;00m \u001b[38;5;28mself\u001b[39m\u001b[38;5;241m.\u001b[39mxaxis\u001b[38;5;241m.\u001b[39mset_label_text(xlabel, fontdict, \u001b[38;5;241m*\u001b[39m\u001b[38;5;241m*\u001b[39mkwargs)\n",
      "File \u001b[0;32m/opt/anaconda3/lib/python3.11/site-packages/matplotlib/axis.py:1822\u001b[0m, in \u001b[0;36mAxis.set_label_text\u001b[0;34m(self, label, fontdict, **kwargs)\u001b[0m\n\u001b[1;32m   1820\u001b[0m \u001b[38;5;28mself\u001b[39m\u001b[38;5;241m.\u001b[39mlabel\u001b[38;5;241m.\u001b[39mset_text(label)\n\u001b[1;32m   1821\u001b[0m \u001b[38;5;28;01mif\u001b[39;00m fontdict \u001b[38;5;129;01mis\u001b[39;00m \u001b[38;5;129;01mnot\u001b[39;00m \u001b[38;5;28;01mNone\u001b[39;00m:\n\u001b[0;32m-> 1822\u001b[0m     \u001b[38;5;28mself\u001b[39m\u001b[38;5;241m.\u001b[39mlabel\u001b[38;5;241m.\u001b[39mupdate(fontdict)\n\u001b[1;32m   1823\u001b[0m \u001b[38;5;28mself\u001b[39m\u001b[38;5;241m.\u001b[39mlabel\u001b[38;5;241m.\u001b[39mupdate(kwargs)\n\u001b[1;32m   1824\u001b[0m \u001b[38;5;28mself\u001b[39m\u001b[38;5;241m.\u001b[39mstale \u001b[38;5;241m=\u001b[39m \u001b[38;5;28;01mTrue\u001b[39;00m\n",
      "File \u001b[0;32m/opt/anaconda3/lib/python3.11/site-packages/matplotlib/text.py:197\u001b[0m, in \u001b[0;36mText.update\u001b[0;34m(self, kwargs)\u001b[0m\n\u001b[1;32m    194\u001b[0m \u001b[38;5;28;01mdef\u001b[39;00m \u001b[38;5;21mupdate\u001b[39m(\u001b[38;5;28mself\u001b[39m, kwargs):\n\u001b[1;32m    195\u001b[0m     \u001b[38;5;66;03m# docstring inherited\u001b[39;00m\n\u001b[1;32m    196\u001b[0m     ret \u001b[38;5;241m=\u001b[39m []\n\u001b[0;32m--> 197\u001b[0m     kwargs \u001b[38;5;241m=\u001b[39m cbook\u001b[38;5;241m.\u001b[39mnormalize_kwargs(kwargs, Text)\n\u001b[1;32m    198\u001b[0m     sentinel \u001b[38;5;241m=\u001b[39m \u001b[38;5;28mobject\u001b[39m()  \u001b[38;5;66;03m# bbox can be None, so use another sentinel.\u001b[39;00m\n\u001b[1;32m    199\u001b[0m     \u001b[38;5;66;03m# Update fontproperties first, as it has lowest priority.\u001b[39;00m\n",
      "File \u001b[0;32m/opt/anaconda3/lib/python3.11/site-packages/matplotlib/cbook.py:1788\u001b[0m, in \u001b[0;36mnormalize_kwargs\u001b[0;34m(kw, alias_mapping)\u001b[0m\n\u001b[1;32m   1785\u001b[0m canonical_to_seen \u001b[38;5;241m=\u001b[39m {}\n\u001b[1;32m   1786\u001b[0m ret \u001b[38;5;241m=\u001b[39m {}  \u001b[38;5;66;03m# output dictionary\u001b[39;00m\n\u001b[0;32m-> 1788\u001b[0m \u001b[38;5;28;01mfor\u001b[39;00m k, v \u001b[38;5;129;01min\u001b[39;00m kw\u001b[38;5;241m.\u001b[39mitems():\n\u001b[1;32m   1789\u001b[0m     canonical \u001b[38;5;241m=\u001b[39m to_canonical\u001b[38;5;241m.\u001b[39mget(k, k)\n\u001b[1;32m   1790\u001b[0m     \u001b[38;5;28;01mif\u001b[39;00m canonical \u001b[38;5;129;01min\u001b[39;00m canonical_to_seen:\n",
      "\u001b[0;31mAttributeError\u001b[0m: 'str' object has no attribute 'items'"
     ]
    },
    {
     "data": {
      "image/png": "[encoded data removed]",
      "text/plain": [
       "<Figure size 640x480 with 1 Axes>"
      ]
     },
     "metadata": {},
     "output_type": "display_data"
    },
    {
     "name": "stdout",
     "output_type": "stream",
     "text": [
      "time: 572 ms (started: 2024-04-25 22:37:04 +03:00)\n"
     ]
    }
   ],
   "source": [
    "data = np.load('res_data/simple_throughput.npz')\n",
    "out=data['out']\n",
    "N_arr=data['N_arr']\n",
    "\n",
    "fig, ax = plt.subplots()\n",
    "plt.rcParams[\"figure.figsize\"] = (10, 10)\n",
    "ax.set_xlabel(\"N\", \"Throughput\")\n",
    "\n",
    "ax.errorbar(N_arr, out[:, 0], yerr=np.asarray(out[:, 1]), linestyle=\"\", marker=\".\")\n",
    "\n",
    "plt.rcParams['font.size'] = '20'\n",
    "plt.show"
   ]
  },
  {
   "cell_type": "markdown",
   "id": "2503cfa1-5cf0-486c-8d77-6316868247db",
   "metadata": {},
   "source": [
    "# Optimization with annealing"
   ]
  },
  {
   "cell_type": "code",
   "execution_count": 77,
   "id": "4c8fb723-8634-4b37-bf97-7160307034b7",
   "metadata": {},
   "outputs": [
    {
     "name": "stdout",
     "output_type": "stream",
     "text": [
      "time: 261 µs (started: 2024-04-25 19:18:17 +03:00)\n"
     ]
    }
   ],
   "source": [
    "def single_simulation(index, seed, N, d0, d1, d2, d3=2, default_gap=3):\n",
    "    sim = Simulation(start_road='E0', end_road='E2', default_gap=default_gap, N=N, work_dir=f'./xml_data/threading/thread{index}', net_data='test6.net.xml')\n",
    "    sim.set_calibrator(road='E1', lane=['0'], gap=d0)\n",
    "    sim.set_calibrator(road='E1', lane=['1'], gap=d1)\n",
    "    sim.set_calibrator(road='E1', lane=['2'], gap=d2)\n",
    "    sim.set_calibrator(road='E1', lane=['3'], gap=d3)\n",
    "    sim.set_calibrator(road='E2', gap=1.5)\n",
    "    sim.run(seed=seed)\n",
    "\n",
    "    return sim.get_mean_throughput()"
   ]
  },
  {
   "cell_type": "code",
   "execution_count": 78,
   "id": "f0401de3-75b2-4175-81bd-033507cabf72",
   "metadata": {},
   "outputs": [
    {
     "name": "stdout",
     "output_type": "stream",
     "text": [
      "time: 261 µs (started: 2024-04-25 19:18:18 +03:00)\n"
     ]
    }
   ],
   "source": [
    "def throughput(N, d0, d1, d2, d3=2, default_gap=3, N_ave=12):\n",
    "    \n",
    "    seed_list = np.random.randint(-2**30, 2**30, N_ave)\n",
    "    with concurrent.futures.ThreadPoolExecutor(max_workers=N_ave) as executor:\n",
    "        futures = [executor.submit(single_simulation, index, seed, N, d0, d1, d2, d3, default_gap) \n",
    "                   for index, seed in enumerate(seed_list)]\n",
    "        results = [future.result() for future in concurrent.futures.as_completed(futures)]   \n",
    "    mean = np.mean(results)\n",
    "    standart_deviation = np.std(results)\n",
    "    \n",
    "    return mean, standart_deviation"
   ]
  },
  {
   "cell_type": "code",
   "execution_count": 81,
   "id": "cd8e5dd2-4a64-41fd-bc55-628e3c798cc3",
   "metadata": {},
   "outputs": [
    {
     "name": "stdout",
     "output_type": "stream",
     "text": [
      "time: 385 µs (started: 2024-04-25 19:24:35 +03:00)\n"
     ]
    }
   ],
   "source": [
    "def loss(d, N):\n",
    "\n",
    "    mean, _ = throughput(N=N, d0=d[0], d1=d[0], d2=d[1], N_ave=12)\n",
    "\n",
    "    filename='csv_data/test6_mean.csv'\n",
    "    csv_data = pd.read_csv(filename)\n",
    "    csv_data.loc[len(csv_data)] = (d[0], d[0], d[1], N, mean)\n",
    "    csv_data.to_csv(filename, index=False) \n",
    "    \n",
    "    return -mean"
   ]
  },
  {
   "cell_type": "code",
   "execution_count": 84,
   "id": "63e3958c-4825-4438-b0db-149cc01ac713",
   "metadata": {},
   "outputs": [
    {
     "name": "stderr",
     "output_type": "stream",
     "text": [
      "100%|██████████| 1/1 [09:11<00:00, 551.23s/it]"
     ]
    },
    {
     "name": "stdout",
     "output_type": "stream",
     "text": [
      "time: 9min 11s (started: 2024-04-25 21:25:33 +03:00)\n"
     ]
    },
    {
     "name": "stderr",
     "output_type": "stream",
     "text": [
      "\n"
     ]
    }
   ],
   "source": [
    "# simple optimization\n",
    "\n",
    "N_arr = np.zeros(1)\n",
    "opt_d = np.zeros((1, 2))\n",
    "opt_throughput = np.zeros(1)\n",
    "\n",
    "for n in tqdm.tqdm(range(1)):\n",
    "\n",
    "    N = 4000 + n*150\n",
    "    \n",
    "    sol = sc.optimize.dual_annealing(loss, bounds=[(10, 40), (1.5, 30)], args=[N], maxiter=50, no_local_search=True)\n",
    "    ans = sol.x\n",
    "\n",
    "    opt_d[n, :] = ans\n",
    "    N_arr[n] = N\n",
    "    opt_throughput[n] = -sol.fun\n",
    "    \n",
    "    np.savez('res_data/annealing_res', opt_d=opt_d, N_arr=N_arr)\n"
   ]
  },
  {
   "cell_type": "code",
   "execution_count": 118,
   "id": "e597cf16-5d90-42ca-b40e-7e7e085bd5d9",
   "metadata": {},
   "outputs": [
    {
     "name": "stderr",
     "output_type": "stream",
     "text": [
      "100%|██████████| 13/13 [00:51<00:00,  3.95s/it]"
     ]
    },
    {
     "name": "stdout",
     "output_type": "stream",
     "text": [
      "time: 51.4 s (started: 2024-04-25 21:54:02 +03:00)\n"
     ]
    },
    {
     "name": "stderr",
     "output_type": "stream",
     "text": [
      "\n"
     ]
    }
   ],
   "source": [
    "# dots for graph calc\n",
    "\n",
    "data = np.load('res_data/annealing_res.npz')\n",
    "\n",
    "opt_d = data['opt_d']\n",
    "\n",
    "N_arr = data['N_arr']\n",
    "out=np.zeros((N_arr.shape[0], 2))\n",
    "\n",
    "for n in tqdm.tqdm(range(N_arr.shape[0])):\n",
    "    \n",
    "    out[n, :] = throughput(N_arr[n], opt_d[n, 0], opt_d[n, 0], opt_d[n, 1])\n",
    "    \n",
    "np.savez('res_data/annealing_throughput', out=out, N_arr=N_arr)"
   ]
  },
  {
   "cell_type": "code",
   "execution_count": 121,
   "id": "62c1e487-a069-47be-b8b3-5bc6ddf82225",
   "metadata": {},
   "outputs": [
    {
     "data": {
      "text/plain": [
       "<function matplotlib.pyplot.show(close=None, block=None)>"
      ]
     },
     "execution_count": 121,
     "metadata": {},
     "output_type": "execute_result"
    },
    {
     "data": {
      "image/png": "[encoded data removed]",
      "text/plain": [
       "<Figure size 640x480 with 1 Axes>"
      ]
     },
     "metadata": {},
     "output_type": "display_data"
    },
    {
     "name": "stdout",
     "output_type": "stream",
     "text": [
      "time: 51.6 ms (started: 2024-04-25 22:02:23 +03:00)\n"
     ]
    }
   ],
   "source": [
    "fig, ax = plt.subplots()\n",
    "plt.rcParams[\"figure.figsize\"] = (10, 10)\n",
    "ax.set_xlabel(\"N\", \"Throughput\")\n",
    "\n",
    "ax.errorbar(N_arr, out[:, 0], yerr=np.asarray(out[:, 1]), linestyle=\"\", marker=\".\")\n",
    "\n",
    "plt.rcParams['font.size'] = '20'\n",
    "plt.show"
   ]
  },
  {
   "cell_type": "markdown",
   "id": "42851d82-98fe-4f5b-8a82-cb7b2fba9e9b",
   "metadata": {},
   "source": [
    "# ML на основе бустинга\n",
    "Тут есть два датасета:\n",
    "    первый - состоит из значений troughput, посчитанных в случайных точках;\n",
    "    второй - оптимизированный датасет, полученный из первого путем максимимзации значения throoughput\n",
    "\n",
    "Далее обучаемся на каждом датасете и строим график для сравнения"
   ]
  },
  {
   "cell_type": "code",
   "execution_count": null,
   "id": "5d73d1e3",
   "metadata": {},
   "outputs": [],
   "source": [
    "from Some_models import OptimalDist\n",
    "bad_data_filename = 'csv_data/test6.csv'\n",
    "bad_res_filename = 'res_data/learn_data/bad_ML.npz'\n",
    "\n",
    "good_data_filename = 'csv_data/test6_cleaned.csv'\n",
    "good_res_filename = 'res_data/learn_data/good_ML.npz'\n",
    "\n",
    "data_filenames = [bad_data_filename, good_data_filename]\n",
    "res_filenames = [bad_res_filename, good_res_filename]\n",
    "\n",
    "obj = OptimalDist()\n",
    "\n",
    "for i in range(len(data_filenames)):\n",
    "    obj.fit_data(data_filenames[i])\n",
    "    inflow = np.arange(4000, 8001, 100)\n",
    "    outflow = np.zeros((len(inflow), 2))\n",
    "    \n",
    "    for j, n in enumerate(inflow):\n",
    "        d0, d1, d2 = obj.predict(n)[0]\n",
    "        outflow[j, :] = (throughput(d0, d1, d2, n))\n",
    "    np.savez(res_filenames[i], N_arr=inflow, out=outflow)"
   ]
  },
  {
   "cell_type": "code",
   "execution_count": null,
   "id": "8e916279-482a-4076-af5f-a0bb8d90555a",
   "metadata": {},
   "outputs": [],
   "source": [
    "bad_data = np.load(bad_res_filename)\n",
    "good_data = np.load(good_res_filename)\n",
    "\n",
    "fig, ax = plt.subplots()\n",
    "ax.set_title(\"ML\")\n",
    "ax.set_xlaybel(\"Число машин, шт\")\n",
    "ax.set_ylaybel(\"Выходной поток\")\n",
    "ax.scatter(good_data['x'], good_data['y'], label='плохой датасет')\n",
    "ax.scatter(bad_data['x'], bad_data['y'], label='хороший датасет')\n",
    "ax.grid()\n",
    "ax.legend()\n",
    "plt.show()"
   ]
  },
  {
   "cell_type": "markdown",
   "id": "ea9a7329-35c3-49c9-bb3e-394c92a6e8ab",
   "metadata": {},
   "source": [
    "# DL\n",
    "Так как наша симуляция считается долго, то было решено написать нейроную сеть, которая будет предсказывать результаты симуляции"
   ]
  },
  {
   "cell_type": "code",
   "execution_count": null,
   "id": "094c5625-868d-4df3-be86-a868843f7fd1",
   "metadata": {},
   "outputs": [],
   "source": []
  },
  {
   "cell_type": "code",
   "execution_count": 2,
   "id": "297f994d-a090-47e9-a71c-988d73c8a274",
   "metadata": {},
   "outputs": [
    {
     "name": "stdout",
     "output_type": "stream",
     "text": [
      "Epoch 1/10\n"
     ]
    },
    {
     "name": "stderr",
     "output_type": "stream",
     "text": [
      "2024-04-25 22:22:39.666522: E external/local_xla/xla/stream_executor/cuda/cuda_driver.cc:282] failed call to cuInit: CUDA_ERROR_NO_DEVICE: no CUDA-capable device is detected\n"
     ]
    },
    {
     "name": "stdout",
     "output_type": "stream",
     "text": [
      "\u001b[1m300/300\u001b[0m \u001b[32m━━━━━━━━━━━━━━━━━━━━\u001b[0m\u001b[37m\u001b[0m \u001b[1m1s\u001b[0m 394us/step - loss: 19891.2402 \n",
      "Epoch 2/10\n",
      "\u001b[1m300/300\u001b[0m \u001b[32m━━━━━━━━━━━━━━━━━━━━\u001b[0m\u001b[37m\u001b[0m \u001b[1m0s\u001b[0m 453us/step - loss: 2.1953\n",
      "Epoch 3/10\n",
      "\u001b[1m300/300\u001b[0m \u001b[32m━━━━━━━━━━━━━━━━━━━━\u001b[0m\u001b[37m\u001b[0m \u001b[1m0s\u001b[0m 294us/step - loss: 1.1412\n",
      "Epoch 4/10\n",
      "\u001b[1m300/300\u001b[0m \u001b[32m━━━━━━━━━━━━━━━━━━━━\u001b[0m\u001b[37m\u001b[0m \u001b[1m0s\u001b[0m 348us/step - loss: 0.1179\n",
      "Epoch 5/10\n",
      "\u001b[1m300/300\u001b[0m \u001b[32m━━━━━━━━━━━━━━━━━━━━\u001b[0m\u001b[37m\u001b[0m \u001b[1m0s\u001b[0m 372us/step - loss: 0.0452\n",
      "Epoch 6/10\n",
      "\u001b[1m300/300\u001b[0m \u001b[32m━━━━━━━━━━━━━━━━━━━━\u001b[0m\u001b[37m\u001b[0m \u001b[1m0s\u001b[0m 345us/step - loss: 0.0381\n",
      "Epoch 7/10\n",
      "\u001b[1m300/300\u001b[0m \u001b[32m━━━━━━━━━━━━━━━━━━━━\u001b[0m\u001b[37m\u001b[0m \u001b[1m0s\u001b[0m 362us/step - loss: 0.0383\n",
      "Epoch 8/10\n",
      "\u001b[1m300/300\u001b[0m \u001b[32m━━━━━━━━━━━━━━━━━━━━\u001b[0m\u001b[37m\u001b[0m \u001b[1m0s\u001b[0m 347us/step - loss: 0.0333\n",
      "Epoch 9/10\n",
      "\u001b[1m300/300\u001b[0m \u001b[32m━━━━━━━━━━━━━━━━━━━━\u001b[0m\u001b[37m\u001b[0m \u001b[1m0s\u001b[0m 700us/step - loss: 0.0297\n",
      "Epoch 10/10\n",
      "\u001b[1m300/300\u001b[0m \u001b[32m━━━━━━━━━━━━━━━━━━━━\u001b[0m\u001b[37m\u001b[0m \u001b[1m0s\u001b[0m 453us/step - loss: 0.0269\n",
      "\u001b[1m300/300\u001b[0m \u001b[32m━━━━━━━━━━━━━━━━━━━━\u001b[0m\u001b[37m\u001b[0m \u001b[1m0s\u001b[0m 237us/step - loss: 0.0284\n",
      "\u001b[1m1199/1199\u001b[0m \u001b[32m━━━━━━━━━━━━━━━━━━━━\u001b[0m\u001b[37m\u001b[0m \u001b[1m0s\u001b[0m 217us/step - loss: 0.0282\n",
      "MSE на обучающих данных: 0.028510767966508865\n",
      "MSE на тестовых данных: 0.027932988479733467\n",
      "time: 2.58 s (started: 2024-04-25 22:22:39 +03:00)\n"
     ]
    }
   ],
   "source": [
    "from Some_models import Throughput\n",
    "\n",
    "obj = Throughput()\n",
    "obj.fit('csv_data/test6.csv')"
   ]
  },
  {
   "cell_type": "code",
   "execution_count": 6,
   "id": "6479d21f-3bed-496c-a543-bcd3c7a2d78c",
   "metadata": {},
   "outputs": [
    {
     "name": "stdout",
     "output_type": "stream",
     "text": [
      "time: 298 µs (started: 2024-04-24 19:57:37 +03:00)\n"
     ]
    }
   ],
   "source": [
    "# simple throughput function with two gaps parameters\n",
    "\n",
    "def throughput(d0, d1, d2, N):\n",
    "\n",
    "    sim = Simulation(start_road='E0', end_road='E2', N=N, work_dir='./xml_data/test6', net_data='test6.net.xml')\n",
    "    sim.set_calibrator(road='E0', gap=3)\n",
    "    sim.set_calibrator(road='E1', lane=['0'], gap=d0)\n",
    "    sim.set_calibrator(road='E1', lane=['1'], gap=d1)\n",
    "    sim.set_calibrator(road='E1', lane=['2'], gap=d2)\n",
    "    sim.set_calibrator(road='E1', lane=['3'], gap=2)\n",
    "    sim.set_calibrator(road='E2', gap=1.5)\n",
    "    sim.run()\n",
    "\n",
    "    return sim.get_mean_throughput()"
   ]
  },
  {
   "cell_type": "code",
   "execution_count": 3,
   "id": "6b8744d3-295b-4b10-91aa-5acedc2ab935",
   "metadata": {},
   "outputs": [
    {
     "data": {
      "image/png": "[encoded data removed]",
      "text/plain": [
       "<IPython.core.display.Image object>"
      ]
     },
     "execution_count": 3,
     "metadata": {},
     "output_type": "execute_result"
    },
    {
     "name": "stdout",
     "output_type": "stream",
     "text": [
      "time: 81.6 ms (started: 2024-04-25 22:22:48 +03:00)\n"
     ]
    }
   ],
   "source": [
    "from tensorflow.keras.utils import plot_model\n",
    "plot_model(obj.model, rankdir='LR')"
   ]
  },
  {
   "cell_type": "code",
   "execution_count": null,
   "id": "7067eaec-a682-4576-b059-3e40de8eee84",
   "metadata": {},
   "outputs": [],
   "source": []
  }
 ],
 "metadata": {
  "kernelspec": {
   "display_name": "Python 3 (ipykernel)",
   "language": "python",
   "name": "python3"
  },
  "language_info": {
   "codemirror_mode": {
    "name": "ipython",
    "version": 3
   },
   "file_extension": ".py",
   "mimetype": "text/x-python",
   "name": "python",
   "nbconvert_exporter": "python",
   "pygments_lexer": "ipython3",
   "version": "3.11.7"
  },
  "toc": {
   "base_numbering": 1,
   "nav_menu": {},
   "number_sections": true,
   "sideBar": true,
   "skip_h1_title": false,
   "title_cell": "Table of Contents",
   "title_sidebar": "Contents",
   "toc_cell": false,
   "toc_position": {},
   "toc_section_display": true,
   "toc_window_display": false
  }
 },
 "nbformat": 4,
 "nbformat_minor": 5
}
