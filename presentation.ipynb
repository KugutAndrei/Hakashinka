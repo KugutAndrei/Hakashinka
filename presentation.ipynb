{
 "cells": [
  {
   "cell_type": "code",
   "execution_count": 14,
   "id": "bbe22e2a-ea4b-4471-9193-b58c92789093",
   "metadata": {},
   "outputs": [
    {
     "name": "stdout",
     "output_type": "stream",
     "text": [
      "env: SUMO_HOME=/usr/share/sumo\n",
      "The autotime extension is already loaded. To reload it, use:\n",
      "  %reload_ext autotime\n",
      "time: 404 µs (started: 2024-04-25 18:36:52 +03:00)\n"
     ]
    }
   ],
   "source": [
    "import numpy as np\n",
    "import matplotlib.pyplot as plt\n",
    "import scipy as sc\n",
    "# import sumo as sm\n",
    "import os\n",
    "from traffic_initialization import *\n",
    "import sys\n",
    "from bs4 import BeautifulSoup\n",
    "import tqdm\n",
    "import pandas as pd\n",
    "\n",
    "# New handy interface is here!\n",
    "# Check interface.py for possible parameters\n",
    "from interface import Simulation\n",
    "%env SUMO_HOME=/usr/share/sumo\n",
    "from datetime import datetime\n",
    "%load_ext autotime\n",
    "\n",
    "import concurrent.futures"
   ]
  },
  {
   "cell_type": "markdown",
   "id": "3f66934e-e888-4ed0-b5ec-ea957684d95b",
   "metadata": {},
   "source": [
    "# Evidance of effect existence"
   ]
  },
  {
   "cell_type": "markdown",
   "id": "2503cfa1-5cf0-486c-8d77-6316868247db",
   "metadata": {},
   "source": [
    "# Optimization with annealing"
   ]
  },
  {
   "cell_type": "code",
   "execution_count": 60,
   "id": "4c8fb723-8634-4b37-bf97-7160307034b7",
   "metadata": {},
   "outputs": [
    {
     "name": "stdout",
     "output_type": "stream",
     "text": [
      "time: 342 µs (started: 2024-04-25 19:03:47 +03:00)\n"
     ]
    }
   ],
   "source": [
    "def single_simulation(index, seed, N, d0, d1, d2, d3=2, default_gap=3):\n",
    "    sim = Simulation(start_road='E0', end_road='E2', default_gap=default_gap, N=N, work_dir=f'./xml_data/threading/thread{index}', net_data='test6.net.xml')\n",
    "    sim.set_calibrator(road='E1', lane=['0'], gap=d0)\n",
    "    sim.set_calibrator(road='E1', lane=['1'], gap=d1)\n",
    "    sim.set_calibrator(road='E1', lane=['2'], gap=d2)\n",
    "    sim.set_calibrator(road='E1', lane=['3'], gap=d3)\n",
    "    sim.set_calibrator(road='E2', gap=1.5)\n",
    "    sim.run(seed=seed)\n",
    "\n",
    "    return sim.get_mean_throughput()"
   ]
  },
  {
   "cell_type": "code",
   "execution_count": 61,
   "id": "f0401de3-75b2-4175-81bd-033507cabf72",
   "metadata": {},
   "outputs": [
    {
     "name": "stdout",
     "output_type": "stream",
     "text": [
      "time: 408 µs (started: 2024-04-25 19:03:48 +03:00)\n"
     ]
    }
   ],
   "source": [
    "def throughput(N, d0, d1, d2, d3=2, default_gap=3, N_ave=12):\n",
    "    \n",
    "    seed_list = np.random.randint(-2**30, 2**30, N_ave)\n",
    "    with concurrent.futures.ThreadPoolExecutor(max_workers=N_ave) as executor:\n",
    "        futures = [executor.submit(single_simulation, index, seed, N, d0, d1, d2, d3, default_gap) \n",
    "                   for index, seed in enumerate(seed_list)]\n",
    "        results = [future.result() for future in concurrent.futures.as_completed(futures)]   \n",
    "    mean = np.mean(results)\n",
    "    standart_deviation = np.std(results)\n",
    "    \n",
    "    return mean, standart_deviation"
   ]
  },
  {
   "cell_type": "code",
   "execution_count": 73,
   "id": "cd8e5dd2-4a64-41fd-bc55-628e3c798cc3",
   "metadata": {},
   "outputs": [
    {
     "name": "stdout",
     "output_type": "stream",
     "text": [
      "time: 834 µs (started: 2024-04-25 19:11:23 +03:00)\n"
     ]
    }
   ],
   "source": [
    "def loss(d, N):\n",
    "\n",
    "    mean, _ = throughput(N=N, d0=d[0], d1=d[0], d2=d[1], N_ave=12)\n",
    "    return -mean"
   ]
  },
  {
   "cell_type": "code",
   "execution_count": 75,
   "id": "63e3958c-4825-4438-b0db-149cc01ac713",
   "metadata": {
    "scrolled": true
   },
   "outputs": [
    {
     "name": "stderr",
     "output_type": "stream",
     "text": [
      "  0%|          | 0/6 [00:09<?, ?it/s]"
     ]
    },
    {
     "name": "stdout",
     "output_type": "stream",
     "text": [
      "Interrupt signal received, trying to exit gracefully.\n",
      "Interrupt signal received, trying to exit gracefully.\n",
      "Interrupt signal received, trying to exit gracefully.\n",
      "Interrupt signal received, trying to exit gracefully.\n",
      "Interrupt signal received, trying to exit gracefully.\n"
     ]
    },
    {
     "name": "stderr",
     "output_type": "stream",
     "text": [
      "\n"
     ]
    },
    {
     "ename": "KeyboardInterrupt",
     "evalue": "",
     "output_type": "error",
     "traceback": [
      "\u001b[0;31m---------------------------------------------------------------------------\u001b[0m",
      "\u001b[0;31mKeyboardInterrupt\u001b[0m                         Traceback (most recent call last)",
      "Cell \u001b[0;32mIn[75], line 11\u001b[0m\n\u001b[1;32m      7\u001b[0m \u001b[38;5;28;01mfor\u001b[39;00m n \u001b[38;5;129;01min\u001b[39;00m tqdm\u001b[38;5;241m.\u001b[39mtqdm(\u001b[38;5;28mrange\u001b[39m(\u001b[38;5;241m6\u001b[39m)):\n\u001b[1;32m      9\u001b[0m     N \u001b[38;5;241m=\u001b[39m \u001b[38;5;241m5050\u001b[39m \u001b[38;5;241m+\u001b[39m n\u001b[38;5;241m*\u001b[39m\u001b[38;5;241m150\u001b[39m\n\u001b[0;32m---> 11\u001b[0m     sol \u001b[38;5;241m=\u001b[39m sc\u001b[38;5;241m.\u001b[39moptimize\u001b[38;5;241m.\u001b[39mdual_annealing(loss, bounds\u001b[38;5;241m=\u001b[39m[(\u001b[38;5;241m10\u001b[39m, \u001b[38;5;241m40\u001b[39m), (\u001b[38;5;241m1.5\u001b[39m, \u001b[38;5;241m30\u001b[39m)], args\u001b[38;5;241m=\u001b[39m[N], maxiter\u001b[38;5;241m=\u001b[39m\u001b[38;5;241m50\u001b[39m, no_local_search\u001b[38;5;241m=\u001b[39m\u001b[38;5;28;01mTrue\u001b[39;00m)\n\u001b[1;32m     12\u001b[0m     ans \u001b[38;5;241m=\u001b[39m sol\u001b[38;5;241m.\u001b[39mx\n\u001b[1;32m     14\u001b[0m     opt_d[n, :] \u001b[38;5;241m=\u001b[39m ans\n",
      "File \u001b[0;32m/opt/anaconda3/lib/python3.11/site-packages/scipy/optimize/_dual_annealing.py:692\u001b[0m, in \u001b[0;36mdual_annealing\u001b[0;34m(func, bounds, args, maxiter, minimizer_kwargs, initial_temp, restart_temp_ratio, visit, accept, maxfun, seed, no_local_search, callback, x0)\u001b[0m\n\u001b[1;32m    690\u001b[0m     \u001b[38;5;28;01mbreak\u001b[39;00m\n\u001b[1;32m    691\u001b[0m \u001b[38;5;66;03m# starting strategy chain\u001b[39;00m\n\u001b[0;32m--> 692\u001b[0m val \u001b[38;5;241m=\u001b[39m strategy_chain\u001b[38;5;241m.\u001b[39mrun(i, temperature)\n\u001b[1;32m    693\u001b[0m \u001b[38;5;28;01mif\u001b[39;00m val \u001b[38;5;129;01mis\u001b[39;00m \u001b[38;5;129;01mnot\u001b[39;00m \u001b[38;5;28;01mNone\u001b[39;00m:\n\u001b[1;32m    694\u001b[0m     message\u001b[38;5;241m.\u001b[39mappend(val)\n",
      "File \u001b[0;32m/opt/anaconda3/lib/python3.11/site-packages/scipy/optimize/_dual_annealing.py:298\u001b[0m, in \u001b[0;36mStrategyChain.run\u001b[0;34m(self, step, temperature)\u001b[0m\n\u001b[1;32m    295\u001b[0m x_visit \u001b[38;5;241m=\u001b[39m \u001b[38;5;28mself\u001b[39m\u001b[38;5;241m.\u001b[39mvisit_dist\u001b[38;5;241m.\u001b[39mvisiting(\n\u001b[1;32m    296\u001b[0m     \u001b[38;5;28mself\u001b[39m\u001b[38;5;241m.\u001b[39menergy_state\u001b[38;5;241m.\u001b[39mcurrent_location, j, temperature)\n\u001b[1;32m    297\u001b[0m \u001b[38;5;66;03m# Calling the objective function\u001b[39;00m\n\u001b[0;32m--> 298\u001b[0m e \u001b[38;5;241m=\u001b[39m \u001b[38;5;28mself\u001b[39m\u001b[38;5;241m.\u001b[39mfunc_wrapper\u001b[38;5;241m.\u001b[39mfun(x_visit)\n\u001b[1;32m    299\u001b[0m \u001b[38;5;28;01mif\u001b[39;00m e \u001b[38;5;241m<\u001b[39m \u001b[38;5;28mself\u001b[39m\u001b[38;5;241m.\u001b[39menergy_state\u001b[38;5;241m.\u001b[39mcurrent_energy:\n\u001b[1;32m    300\u001b[0m     \u001b[38;5;66;03m# We have got a better energy value\u001b[39;00m\n\u001b[1;32m    301\u001b[0m     \u001b[38;5;28mself\u001b[39m\u001b[38;5;241m.\u001b[39menergy_state\u001b[38;5;241m.\u001b[39mupdate_current(e, x_visit)\n",
      "File \u001b[0;32m/opt/anaconda3/lib/python3.11/site-packages/scipy/optimize/_dual_annealing.py:381\u001b[0m, in \u001b[0;36mObjectiveFunWrapper.fun\u001b[0;34m(self, x)\u001b[0m\n\u001b[1;32m    379\u001b[0m \u001b[38;5;28;01mdef\u001b[39;00m \u001b[38;5;21mfun\u001b[39m(\u001b[38;5;28mself\u001b[39m, x):\n\u001b[1;32m    380\u001b[0m     \u001b[38;5;28mself\u001b[39m\u001b[38;5;241m.\u001b[39mnfev \u001b[38;5;241m+\u001b[39m\u001b[38;5;241m=\u001b[39m \u001b[38;5;241m1\u001b[39m\n\u001b[0;32m--> 381\u001b[0m     \u001b[38;5;28;01mreturn\u001b[39;00m \u001b[38;5;28mself\u001b[39m\u001b[38;5;241m.\u001b[39mfunc(x, \u001b[38;5;241m*\u001b[39m\u001b[38;5;28mself\u001b[39m\u001b[38;5;241m.\u001b[39margs)\n",
      "Cell \u001b[0;32mIn[73], line 3\u001b[0m, in \u001b[0;36mloss\u001b[0;34m(d, N)\u001b[0m\n\u001b[1;32m      1\u001b[0m \u001b[38;5;28;01mdef\u001b[39;00m \u001b[38;5;21mloss\u001b[39m(d, N):\n\u001b[0;32m----> 3\u001b[0m     mean, _ \u001b[38;5;241m=\u001b[39m throughput(N\u001b[38;5;241m=\u001b[39mN, d0\u001b[38;5;241m=\u001b[39md[\u001b[38;5;241m0\u001b[39m], d1\u001b[38;5;241m=\u001b[39md[\u001b[38;5;241m0\u001b[39m], d2\u001b[38;5;241m=\u001b[39md[\u001b[38;5;241m1\u001b[39m], N_ave\u001b[38;5;241m=\u001b[39m\u001b[38;5;241m12\u001b[39m)\n\u001b[1;32m      4\u001b[0m     \u001b[38;5;28;01mreturn\u001b[39;00m \u001b[38;5;241m-\u001b[39mmean\n",
      "Cell \u001b[0;32mIn[61], line 6\u001b[0m, in \u001b[0;36mthroughput\u001b[0;34m(N, d0, d1, d2, d3, default_gap, N_ave)\u001b[0m\n\u001b[1;32m      3\u001b[0m \u001b[38;5;28;01mwith\u001b[39;00m concurrent\u001b[38;5;241m.\u001b[39mfutures\u001b[38;5;241m.\u001b[39mThreadPoolExecutor(max_workers\u001b[38;5;241m=\u001b[39mN_ave) \u001b[38;5;28;01mas\u001b[39;00m executor:\n\u001b[1;32m      4\u001b[0m     futures \u001b[38;5;241m=\u001b[39m [executor\u001b[38;5;241m.\u001b[39msubmit(single_simulation, index, seed, N, d0, d1, d2, d3, default_gap) \n\u001b[1;32m      5\u001b[0m                \u001b[38;5;28;01mfor\u001b[39;00m index, seed \u001b[38;5;129;01min\u001b[39;00m \u001b[38;5;28menumerate\u001b[39m(seed_list)]\n\u001b[0;32m----> 6\u001b[0m     results \u001b[38;5;241m=\u001b[39m [future\u001b[38;5;241m.\u001b[39mresult() \u001b[38;5;28;01mfor\u001b[39;00m future \u001b[38;5;129;01min\u001b[39;00m concurrent\u001b[38;5;241m.\u001b[39mfutures\u001b[38;5;241m.\u001b[39mas_completed(futures)]   \n\u001b[1;32m      7\u001b[0m mean \u001b[38;5;241m=\u001b[39m np\u001b[38;5;241m.\u001b[39mmean(results)\n\u001b[1;32m      8\u001b[0m standart_deviation \u001b[38;5;241m=\u001b[39m np\u001b[38;5;241m.\u001b[39mstd(results)\n",
      "Cell \u001b[0;32mIn[61], line 6\u001b[0m, in \u001b[0;36m<listcomp>\u001b[0;34m(.0)\u001b[0m\n\u001b[1;32m      3\u001b[0m \u001b[38;5;28;01mwith\u001b[39;00m concurrent\u001b[38;5;241m.\u001b[39mfutures\u001b[38;5;241m.\u001b[39mThreadPoolExecutor(max_workers\u001b[38;5;241m=\u001b[39mN_ave) \u001b[38;5;28;01mas\u001b[39;00m executor:\n\u001b[1;32m      4\u001b[0m     futures \u001b[38;5;241m=\u001b[39m [executor\u001b[38;5;241m.\u001b[39msubmit(single_simulation, index, seed, N, d0, d1, d2, d3, default_gap) \n\u001b[1;32m      5\u001b[0m                \u001b[38;5;28;01mfor\u001b[39;00m index, seed \u001b[38;5;129;01min\u001b[39;00m \u001b[38;5;28menumerate\u001b[39m(seed_list)]\n\u001b[0;32m----> 6\u001b[0m     results \u001b[38;5;241m=\u001b[39m [future\u001b[38;5;241m.\u001b[39mresult() \u001b[38;5;28;01mfor\u001b[39;00m future \u001b[38;5;129;01min\u001b[39;00m concurrent\u001b[38;5;241m.\u001b[39mfutures\u001b[38;5;241m.\u001b[39mas_completed(futures)]   \n\u001b[1;32m      7\u001b[0m mean \u001b[38;5;241m=\u001b[39m np\u001b[38;5;241m.\u001b[39mmean(results)\n\u001b[1;32m      8\u001b[0m standart_deviation \u001b[38;5;241m=\u001b[39m np\u001b[38;5;241m.\u001b[39mstd(results)\n",
      "File \u001b[0;32m/opt/anaconda3/lib/python3.11/concurrent/futures/_base.py:243\u001b[0m, in \u001b[0;36mas_completed\u001b[0;34m(fs, timeout)\u001b[0m\n\u001b[1;32m    238\u001b[0m     \u001b[38;5;28;01mif\u001b[39;00m wait_timeout \u001b[38;5;241m<\u001b[39m \u001b[38;5;241m0\u001b[39m:\n\u001b[1;32m    239\u001b[0m         \u001b[38;5;28;01mraise\u001b[39;00m \u001b[38;5;167;01mTimeoutError\u001b[39;00m(\n\u001b[1;32m    240\u001b[0m                 \u001b[38;5;124m'\u001b[39m\u001b[38;5;132;01m%d\u001b[39;00m\u001b[38;5;124m (of \u001b[39m\u001b[38;5;132;01m%d\u001b[39;00m\u001b[38;5;124m) futures unfinished\u001b[39m\u001b[38;5;124m'\u001b[39m \u001b[38;5;241m%\u001b[39m (\n\u001b[1;32m    241\u001b[0m                 \u001b[38;5;28mlen\u001b[39m(pending), total_futures))\n\u001b[0;32m--> 243\u001b[0m waiter\u001b[38;5;241m.\u001b[39mevent\u001b[38;5;241m.\u001b[39mwait(wait_timeout)\n\u001b[1;32m    245\u001b[0m \u001b[38;5;28;01mwith\u001b[39;00m waiter\u001b[38;5;241m.\u001b[39mlock:\n\u001b[1;32m    246\u001b[0m     finished \u001b[38;5;241m=\u001b[39m waiter\u001b[38;5;241m.\u001b[39mfinished_futures\n",
      "File \u001b[0;32m/opt/anaconda3/lib/python3.11/threading.py:629\u001b[0m, in \u001b[0;36mEvent.wait\u001b[0;34m(self, timeout)\u001b[0m\n\u001b[1;32m    627\u001b[0m signaled \u001b[38;5;241m=\u001b[39m \u001b[38;5;28mself\u001b[39m\u001b[38;5;241m.\u001b[39m_flag\n\u001b[1;32m    628\u001b[0m \u001b[38;5;28;01mif\u001b[39;00m \u001b[38;5;129;01mnot\u001b[39;00m signaled:\n\u001b[0;32m--> 629\u001b[0m     signaled \u001b[38;5;241m=\u001b[39m \u001b[38;5;28mself\u001b[39m\u001b[38;5;241m.\u001b[39m_cond\u001b[38;5;241m.\u001b[39mwait(timeout)\n\u001b[1;32m    630\u001b[0m \u001b[38;5;28;01mreturn\u001b[39;00m signaled\n",
      "File \u001b[0;32m/opt/anaconda3/lib/python3.11/threading.py:327\u001b[0m, in \u001b[0;36mCondition.wait\u001b[0;34m(self, timeout)\u001b[0m\n\u001b[1;32m    325\u001b[0m \u001b[38;5;28;01mtry\u001b[39;00m:    \u001b[38;5;66;03m# restore state no matter what (e.g., KeyboardInterrupt)\u001b[39;00m\n\u001b[1;32m    326\u001b[0m     \u001b[38;5;28;01mif\u001b[39;00m timeout \u001b[38;5;129;01mis\u001b[39;00m \u001b[38;5;28;01mNone\u001b[39;00m:\n\u001b[0;32m--> 327\u001b[0m         waiter\u001b[38;5;241m.\u001b[39macquire()\n\u001b[1;32m    328\u001b[0m         gotit \u001b[38;5;241m=\u001b[39m \u001b[38;5;28;01mTrue\u001b[39;00m\n\u001b[1;32m    329\u001b[0m     \u001b[38;5;28;01melse\u001b[39;00m:\n",
      "\u001b[0;31mKeyboardInterrupt\u001b[0m: "
     ]
    },
    {
     "name": "stdout",
     "output_type": "stream",
     "text": [
      "time: 9.1 s (started: 2024-04-25 19:12:34 +03:00)\n"
     ]
    }
   ],
   "source": [
    "# simple optimization\n",
    "\n",
    "N_arr = np.zeros(6)\n",
    "opt_d = np.zeros((6, 2))\n",
    "opt_throughput = np.zeros(6)\n",
    "\n",
    "for n in tqdm.tqdm(range(6)):\n",
    "\n",
    "    N = 5050 + n*150\n",
    "    \n",
    "    sol = sc.optimize.dual_annealing(loss, bounds=[(10, 40), (1.5, 30)], args=[N], maxiter=50, no_local_search=True)\n",
    "    ans = sol.x\n",
    "\n",
    "    opt_d[n, :] = ans\n",
    "    N_arr[n] = N\n",
    "    opt_throughput[n] = -sol.fun\n",
    "    \n",
    "    np.savez('res_data/annealing_res_2', opt_d=opt_d, N_arr=N_arr, opt_throughput=opt_throughput)\n"
   ]
  },
  {
   "cell_type": "code",
   "execution_count": 10,
   "id": "9ab8d7b0-bfa3-47da-b5e5-ebe883d006aa",
   "metadata": {},
   "outputs": [
    {
     "data": {
      "text/plain": [
       "array([   0., 4150., 4300., 4450., 4600., 4750., 4900.,    0.,    0.,\n",
       "          0.,    0.,    0.,    0.])"
      ]
     },
     "execution_count": 10,
     "metadata": {},
     "output_type": "execute_result"
    },
    {
     "name": "stdout",
     "output_type": "stream",
     "text": [
      "time: 3.57 ms (started: 2024-04-25 18:21:23 +03:00)\n"
     ]
    }
   ],
   "source": [
    "data = np.load('res_data/annealing_res.npz')\n",
    "data['N_arr']"
   ]
  },
  {
   "cell_type": "markdown",
   "id": "42851d82-98fe-4f5b-8a82-cb7b2fba9e9b",
   "metadata": {},
   "source": [
    "# Optimization with ML"
   ]
  },
  {
   "cell_type": "code",
   "execution_count": 3,
   "id": "f69c916d-13e1-4615-bd1f-9d34792498b0",
   "metadata": {},
   "outputs": [
    {
     "name": "stderr",
     "output_type": "stream",
     "text": [
      "2024-04-24 19:57:14.788130: I tensorflow/core/util/port.cc:113] oneDNN custom operations are on. You may see slightly different numerical results due to floating-point round-off errors from different computation orders. To turn them off, set the environment variable `TF_ENABLE_ONEDNN_OPTS=0`.\n",
      "2024-04-24 19:57:14.788378: I external/local_tsl/tsl/cuda/cudart_stub.cc:32] Could not find cuda drivers on your machine, GPU will not be used.\n",
      "2024-04-24 19:57:14.790130: I external/local_tsl/tsl/cuda/cudart_stub.cc:32] Could not find cuda drivers on your machine, GPU will not be used.\n",
      "2024-04-24 19:57:14.811696: I tensorflow/core/platform/cpu_feature_guard.cc:210] This TensorFlow binary is optimized to use available CPU instructions in performance-critical operations.\n",
      "To enable the following instructions: AVX2 AVX_VNNI FMA, in other operations, rebuild TensorFlow with the appropriate compiler flags.\n",
      "2024-04-24 19:57:15.201402: W tensorflow/compiler/tf2tensorrt/utils/py_utils.cc:38] TF-TRT Warning: Could not find TensorRT\n"
     ]
    },
    {
     "name": "stdout",
     "output_type": "stream",
     "text": [
      "time: 979 ms (started: 2024-04-24 19:57:14 +03:00)\n"
     ]
    }
   ],
   "source": [
    "from Some_models import OptimalLoss_Q, OptimalDist"
   ]
  },
  {
   "cell_type": "code",
   "execution_count": null,
   "id": "5d73d1e3",
   "metadata": {},
   "outputs": [],
   "source": [
    "# csv datase creation"
   ]
  },
  {
   "cell_type": "code",
   "execution_count": 6,
   "id": "6479d21f-3bed-496c-a543-bcd3c7a2d78c",
   "metadata": {},
   "outputs": [
    {
     "name": "stdout",
     "output_type": "stream",
     "text": [
      "time: 298 µs (started: 2024-04-24 19:57:37 +03:00)\n"
     ]
    }
   ],
   "source": [
    "# simple throughput function with two gaps parameters\n",
    "\n",
    "def throughput(d0, d1, d2, N):\n",
    "\n",
    "    sim = Simulation(start_road='E0', end_road='E2', N=N, work_dir='./xml_data/test6', net_data='test6.net.xml')\n",
    "    sim.set_calibrator(road='E0', gap=3)\n",
    "    sim.set_calibrator(road='E1', lane=['0'], gap=d0)\n",
    "    sim.set_calibrator(road='E1', lane=['1'], gap=d1)\n",
    "    sim.set_calibrator(road='E1', lane=['2'], gap=d2)\n",
    "    sim.set_calibrator(road='E1', lane=['3'], gap=2)\n",
    "    sim.set_calibrator(road='E2', gap=1.5)\n",
    "    sim.run()\n",
    "\n",
    "    return sim.get_mean_throughput()"
   ]
  },
  {
   "cell_type": "code",
   "execution_count": null,
   "id": "78e22521",
   "metadata": {},
   "outputs": [],
   "source": [
    "while(True):\n",
    "    # test6\n",
    "    filename='csv_data/test6.csv'\n",
    "    csv_data = pd.read_csv(filename)\n",
    "    \n",
    "    N = np.random.randint(3000, 8000)\n",
    "    for i in range(500):\n",
    "        rand = np.random.rand(3)\n",
    "        d0 = 10 + 40*rand[0]\n",
    "        d1 = 10 + 30*rand[1]\n",
    "        d2 = 3 + 30*rand[2]\n",
    "        \n",
    "        csv_data.loc[len(csv_data)] = (d0, d1, d2, N, throughput(d0, d1, d2, N))\n",
    "        csv_data.to_csv(filename, index=False) "
   ]
  },
  {
   "cell_type": "code",
   "execution_count": 11,
   "id": "f4b06345-9933-4dca-af61-42c3dbe8f541",
   "metadata": {},
   "outputs": [
    {
     "name": "stderr",
     "output_type": "stream",
     "text": [
      "  0%|          | 0/98 [00:33<?, ?it/s]\n"
     ]
    },
    {
     "ename": "ValueError",
     "evalue": "cannot set a row with mismatched columns",
     "output_type": "error",
     "traceback": [
      "\u001b[0;31m---------------------------------------------------------------------------\u001b[0m",
      "\u001b[0;31mValueError\u001b[0m                                Traceback (most recent call last)",
      "Cell \u001b[0;32mIn[11], line 2\u001b[0m\n\u001b[1;32m      1\u001b[0m model \u001b[38;5;241m=\u001b[39m OptimalDist(grid_params\u001b[38;5;241m=\u001b[39m[(\u001b[38;5;241m4000\u001b[39m, \u001b[38;5;241m8000\u001b[39m, \u001b[38;5;241m41\u001b[39m), (\u001b[38;5;241m10\u001b[39m, \u001b[38;5;241m50\u001b[39m, \u001b[38;5;241m25\u001b[39m), (\u001b[38;5;241m10\u001b[39m, \u001b[38;5;241m40\u001b[39m, \u001b[38;5;241m25\u001b[39m), (\u001b[38;5;241m2\u001b[39m, \u001b[38;5;241m30\u001b[39m, \u001b[38;5;241m25\u001b[39m)])\n\u001b[0;32m----> 2\u001b[0m model\u001b[38;5;241m.\u001b[39mfit_func(loss)\n",
      "File \u001b[0;32m~/github/Hakashinka/Some_models.py:83\u001b[0m, in \u001b[0;36mOptimalDist.fit_func\u001b[0;34m(self, func, n_estimators, max_depth)\u001b[0m\n\u001b[1;32m     81\u001b[0m                     best_dists \u001b[38;5;241m=\u001b[39m [g0, g1, g2]\n\u001b[1;32m     82\u001b[0m     X\u001b[38;5;241m.\u001b[39mloc[\u001b[38;5;28mlen\u001b[39m(X)] \u001b[38;5;241m=\u001b[39m n_cars\n\u001b[0;32m---> 83\u001b[0m     Y\u001b[38;5;241m.\u001b[39mloc[\u001b[38;5;28mlen\u001b[39m(Y)] \u001b[38;5;241m=\u001b[39m best_dists\n\u001b[1;32m     85\u001b[0m \u001b[38;5;28mself\u001b[39m\u001b[38;5;241m.\u001b[39m_fit_(X, Y, n_estimators, max_depth)\n",
      "File \u001b[0;32m/opt/anaconda3/lib/python3.11/site-packages/pandas/core/indexing.py:885\u001b[0m, in \u001b[0;36m_LocationIndexer.__setitem__\u001b[0;34m(self, key, value)\u001b[0m\n\u001b[1;32m    882\u001b[0m \u001b[38;5;28mself\u001b[39m\u001b[38;5;241m.\u001b[39m_has_valid_setitem_indexer(key)\n\u001b[1;32m    884\u001b[0m iloc \u001b[38;5;241m=\u001b[39m \u001b[38;5;28mself\u001b[39m \u001b[38;5;28;01mif\u001b[39;00m \u001b[38;5;28mself\u001b[39m\u001b[38;5;241m.\u001b[39mname \u001b[38;5;241m==\u001b[39m \u001b[38;5;124m\"\u001b[39m\u001b[38;5;124miloc\u001b[39m\u001b[38;5;124m\"\u001b[39m \u001b[38;5;28;01melse\u001b[39;00m \u001b[38;5;28mself\u001b[39m\u001b[38;5;241m.\u001b[39mobj\u001b[38;5;241m.\u001b[39miloc\n\u001b[0;32m--> 885\u001b[0m iloc\u001b[38;5;241m.\u001b[39m_setitem_with_indexer(indexer, value, \u001b[38;5;28mself\u001b[39m\u001b[38;5;241m.\u001b[39mname)\n",
      "File \u001b[0;32m/opt/anaconda3/lib/python3.11/site-packages/pandas/core/indexing.py:1883\u001b[0m, in \u001b[0;36m_iLocIndexer._setitem_with_indexer\u001b[0;34m(self, indexer, value, name)\u001b[0m\n\u001b[1;32m   1880\u001b[0m     indexer, missing \u001b[38;5;241m=\u001b[39m convert_missing_indexer(indexer)\n\u001b[1;32m   1882\u001b[0m     \u001b[38;5;28;01mif\u001b[39;00m missing:\n\u001b[0;32m-> 1883\u001b[0m         \u001b[38;5;28mself\u001b[39m\u001b[38;5;241m.\u001b[39m_setitem_with_indexer_missing(indexer, value)\n\u001b[1;32m   1884\u001b[0m         \u001b[38;5;28;01mreturn\u001b[39;00m\n\u001b[1;32m   1886\u001b[0m \u001b[38;5;28;01mif\u001b[39;00m name \u001b[38;5;241m==\u001b[39m \u001b[38;5;124m\"\u001b[39m\u001b[38;5;124mloc\u001b[39m\u001b[38;5;124m\"\u001b[39m:\n\u001b[1;32m   1887\u001b[0m     \u001b[38;5;66;03m# must come after setting of missing\u001b[39;00m\n",
      "File \u001b[0;32m/opt/anaconda3/lib/python3.11/site-packages/pandas/core/indexing.py:2219\u001b[0m, in \u001b[0;36m_iLocIndexer._setitem_with_indexer_missing\u001b[0;34m(self, indexer, value)\u001b[0m\n\u001b[1;32m   2216\u001b[0m     \u001b[38;5;28;01mif\u001b[39;00m is_list_like_indexer(value):\n\u001b[1;32m   2217\u001b[0m         \u001b[38;5;66;03m# must have conforming columns\u001b[39;00m\n\u001b[1;32m   2218\u001b[0m         \u001b[38;5;28;01mif\u001b[39;00m \u001b[38;5;28mlen\u001b[39m(value) \u001b[38;5;241m!=\u001b[39m \u001b[38;5;28mlen\u001b[39m(\u001b[38;5;28mself\u001b[39m\u001b[38;5;241m.\u001b[39mobj\u001b[38;5;241m.\u001b[39mcolumns):\n\u001b[0;32m-> 2219\u001b[0m             \u001b[38;5;28;01mraise\u001b[39;00m \u001b[38;5;167;01mValueError\u001b[39;00m(\u001b[38;5;124m\"\u001b[39m\u001b[38;5;124mcannot set a row with mismatched columns\u001b[39m\u001b[38;5;124m\"\u001b[39m)\n\u001b[1;32m   2221\u001b[0m     value \u001b[38;5;241m=\u001b[39m Series(value, index\u001b[38;5;241m=\u001b[39m\u001b[38;5;28mself\u001b[39m\u001b[38;5;241m.\u001b[39mobj\u001b[38;5;241m.\u001b[39mcolumns, name\u001b[38;5;241m=\u001b[39mindexer)\n\u001b[1;32m   2223\u001b[0m \u001b[38;5;28;01mif\u001b[39;00m \u001b[38;5;129;01mnot\u001b[39;00m \u001b[38;5;28mlen\u001b[39m(\u001b[38;5;28mself\u001b[39m\u001b[38;5;241m.\u001b[39mobj):\n\u001b[1;32m   2224\u001b[0m     \u001b[38;5;66;03m# We will ignore the existing dtypes instead of using\u001b[39;00m\n\u001b[1;32m   2225\u001b[0m     \u001b[38;5;66;03m#  internals.concat logic\u001b[39;00m\n",
      "\u001b[0;31mValueError\u001b[0m: cannot set a row with mismatched columns"
     ]
    },
    {
     "name": "stdout",
     "output_type": "stream",
     "text": [
      "time: 33.3 s (started: 2024-04-24 20:08:33 +03:00)\n"
     ]
    }
   ],
   "source": [
    "model = OptimalDist(grid_params=[(4000, 8000, 41), (10, 40, 2), (2, 20, 2)])\n",
    "model.fit_func(еthroughput)"
   ]
  },
  {
   "cell_type": "markdown",
   "id": "2bd97ba0-35f7-4b59-9fc8-d65c9d5a565c",
   "metadata": {},
   "source": [
    "# Creating of csv"
   ]
  },
  {
   "cell_type": "code",
   "execution_count": 3,
   "id": "74dd3c4c-0da8-4141-aa35-4a9acf014c95",
   "metadata": {},
   "outputs": [
    {
     "data": {
      "text/plain": [
       "1.2891872320004407"
      ]
     },
     "execution_count": 3,
     "metadata": {},
     "output_type": "execute_result"
    },
    {
     "name": "stdout",
     "output_type": "stream",
     "text": [
      "time: 27.8 s (started: 2024-04-24 18:31:17 +03:00)\n"
     ]
    }
   ],
   "source": [
    "throughput(20, 4, 6000)"
   ]
  },
  {
   "cell_type": "code",
   "execution_count": 4,
   "id": "681542f9-1d32-47e7-9a76-5c7bcadb01f7",
   "metadata": {},
   "outputs": [
    {
     "data": {
      "text/plain": [
       "1.2932371519835026"
      ]
     },
     "execution_count": 4,
     "metadata": {},
     "output_type": "execute_result"
    },
    {
     "name": "stdout",
     "output_type": "stream",
     "text": [
      "time: 27.7 s (started: 2024-04-24 18:31:45 +03:00)\n"
     ]
    }
   ],
   "source": [
    "throughput(20, 4, 6000)"
   ]
  },
  {
   "cell_type": "code",
   "execution_count": 18,
   "id": "a0a6bcbf-0bb4-4eb2-8fd3-4d02562ea2f8",
   "metadata": {},
   "outputs": [
    {
     "data": {
      "text/plain": [
       "1.2176827071439196"
      ]
     },
     "execution_count": 18,
     "metadata": {},
     "output_type": "execute_result"
    }
   ],
   "source": [
    "cost(30, 20, 10, 6000)"
   ]
  },
  {
   "cell_type": "code",
   "execution_count": 19,
   "id": "e7875c4e-ad81-4d4e-8cba-e4d23b5e27fc",
   "metadata": {},
   "outputs": [
    {
     "data": {
      "text/plain": [
       "1.2098426779299611"
      ]
     },
     "execution_count": 19,
     "metadata": {},
     "output_type": "execute_result"
    }
   ],
   "source": [
    "cost(30, 20, 10, 6000)"
   ]
  },
  {
   "cell_type": "code",
   "execution_count": 10,
   "id": "018980f5-fc4a-4f24-b4f1-689a71adad59",
   "metadata": {},
   "outputs": [
    {
     "data": {
      "text/plain": [
       "0.028846153846153848"
      ]
     },
     "execution_count": 10,
     "metadata": {},
     "output_type": "execute_result"
    }
   ],
   "source": [
    "cost(30, 20, 10, 3)"
   ]
  },
  {
   "cell_type": "code",
   "execution_count": null,
   "id": "c20ad390-a5c4-4014-a8bb-dc7653f0dd16",
   "metadata": {},
   "outputs": [],
   "source": [
    "while(True):\n",
    "    # test6\n",
    "    filename='csv_data/test6.csv'\n",
    "    csv_data = pd.read_csv(filename)\n",
    "    \n",
    "    N = np.random.randint(3000, 8000)\n",
    "    for i in range(500):\n",
    "        rand = np.random.rand(3)\n",
    "        d0 = 10 + 40*rand[0]\n",
    "        d1 = 10 + 30*rand[1]\n",
    "        d2 = 3 + 30*rand[2]\n",
    "        \n",
    "        csv_data.loc[len(csv_data)] = (d0, d1, d2, N, sim.get_mean_throughput())\n",
    "        csv_data.to_csv(filename, index=False) "
   ]
  }
 ],
 "metadata": {
  "kernelspec": {
   "display_name": "Python 3 (ipykernel)",
   "language": "python",
   "name": "python3"
  },
  "language_info": {
   "codemirror_mode": {
    "name": "ipython",
    "version": 3
   },
   "file_extension": ".py",
   "mimetype": "text/x-python",
   "name": "python",
   "nbconvert_exporter": "python",
   "pygments_lexer": "ipython3",
   "version": "3.11.7"
  },
  "toc": {
   "base_numbering": 1,
   "nav_menu": {},
   "number_sections": true,
   "sideBar": true,
   "skip_h1_title": false,
   "title_cell": "Table of Contents",
   "title_sidebar": "Contents",
   "toc_cell": false,
   "toc_position": {},
   "toc_section_display": true,
   "toc_window_display": false
  }
 },
 "nbformat": 4,
 "nbformat_minor": 5
}
