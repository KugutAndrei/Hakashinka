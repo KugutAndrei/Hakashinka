{
 "cells": [
  {
   "cell_type": "code",
   "execution_count": 1,
   "id": "bbe22e2a-ea4b-4471-9193-b58c92789093",
   "metadata": {},
   "outputs": [
    {
     "name": "stdout",
     "output_type": "stream",
     "text": [
      "env: SUMO_HOME=/usr/share/sumo\n",
      "time: 52.3 µs (started: 2024-04-24 19:57:14 +03:00)\n"
     ]
    }
   ],
   "source": [
    "import numpy as np\n",
    "import matplotlib.pyplot as plt\n",
    "import scipy as sc\n",
    "# import sumo as sm\n",
    "import os\n",
    "from traffic_initialization import *\n",
    "import sys\n",
    "from bs4 import BeautifulSoup\n",
    "import tqdm\n",
    "import pandas as pd\n",
    "\n",
    "# New handy interface is here!\n",
    "# Check interface.py for possible parameters\n",
    "from interface import Simulation\n",
    "%env SUMO_HOME=/usr/share/sumo\n",
    "from datetime import datetime\n",
    "%load_ext autotime"
   ]
  },
  {
   "cell_type": "markdown",
   "id": "2503cfa1-5cf0-486c-8d77-6316868247db",
   "metadata": {},
   "source": [
    "# Optimization with annealing"
   ]
  },
  {
   "cell_type": "code",
   "execution_count": 2,
   "id": "a2222129-0c51-4b53-97bf-bfdb0b436bd6",
   "metadata": {},
   "outputs": [
    {
     "name": "stdout",
     "output_type": "stream",
     "text": [
      "time: 268 µs (started: 2024-04-24 19:57:14 +03:00)\n"
     ]
    }
   ],
   "source": [
    "# simple throughput function with two gaps parameters\n",
    "\n",
    "def loss(d0, d1, N):\n",
    "\n",
    "    ans = 0\n",
    "    \n",
    "    for n in range(10):\n",
    "\n",
    "        sim = Simulation(start_road='E0', end_road='E2', N=N, work_dir='./xml_data/test6', net_data='test6.net.xml')\n",
    "        sim.set_calibrator(road='E0', gap=3)\n",
    "        sim.set_calibrator(road='E1', lane=['0', '1'], gap=d0)\n",
    "        sim.set_calibrator(road='E1', lane=['2'], gap=d1)\n",
    "        sim.set_calibrator(road='E1', lane=['3'], gap=2)\n",
    "        sim.set_calibrator(road='E2', gap=1.5)\n",
    "        sim.run()\n",
    "        ans += sim.get_mean_throughput()\n",
    "\n",
    "    return -ans/10"
   ]
  },
  {
   "cell_type": "markdown",
   "id": "42851d82-98fe-4f5b-8a82-cb7b2fba9e9b",
   "metadata": {},
   "source": [
    "# Optimization with ML"
   ]
  },
  {
   "cell_type": "code",
   "execution_count": 3,
   "id": "f69c916d-13e1-4615-bd1f-9d34792498b0",
   "metadata": {},
   "outputs": [
    {
     "name": "stderr",
     "output_type": "stream",
     "text": [
      "2024-04-24 19:57:14.788130: I tensorflow/core/util/port.cc:113] oneDNN custom operations are on. You may see slightly different numerical results due to floating-point round-off errors from different computation orders. To turn them off, set the environment variable `TF_ENABLE_ONEDNN_OPTS=0`.\n",
      "2024-04-24 19:57:14.788378: I external/local_tsl/tsl/cuda/cudart_stub.cc:32] Could not find cuda drivers on your machine, GPU will not be used.\n",
      "2024-04-24 19:57:14.790130: I external/local_tsl/tsl/cuda/cudart_stub.cc:32] Could not find cuda drivers on your machine, GPU will not be used.\n",
      "2024-04-24 19:57:14.811696: I tensorflow/core/platform/cpu_feature_guard.cc:210] This TensorFlow binary is optimized to use available CPU instructions in performance-critical operations.\n",
      "To enable the following instructions: AVX2 AVX_VNNI FMA, in other operations, rebuild TensorFlow with the appropriate compiler flags.\n",
      "2024-04-24 19:57:15.201402: W tensorflow/compiler/tf2tensorrt/utils/py_utils.cc:38] TF-TRT Warning: Could not find TensorRT\n"
     ]
    },
    {
     "name": "stdout",
     "output_type": "stream",
     "text": [
      "time: 979 ms (started: 2024-04-24 19:57:14 +03:00)\n"
     ]
    }
   ],
   "source": [
    "from Some_models import OptimalLoss_Q, OptimalDist"
   ]
  },
  {
   "cell_type": "code",
   "execution_count": 6,
   "id": "6479d21f-3bed-496c-a543-bcd3c7a2d78c",
   "metadata": {},
   "outputs": [
    {
     "name": "stdout",
     "output_type": "stream",
     "text": [
      "time: 298 µs (started: 2024-04-24 19:57:37 +03:00)\n"
     ]
    }
   ],
   "source": [
    "# complex throughput function with three gaps parameters\n",
    "\n",
    "def loss(d0, d1, d2, N):\n",
    "\n",
    "    ans = 0\n",
    "    \n",
    "    for n in range(3):\n",
    "\n",
    "        sim = Simulation(start_road='E0', end_road='E2', N=N, work_dir='./xml_data/test6', net_data='test6.net.xml')\n",
    "        sim.set_calibrator(road='E0', gap=3)\n",
    "        sim.set_calibrator(road='E1', lane=['0'], gap=d0)\n",
    "        sim.set_calibrator(road='E1', lane=['1'], gap=d1)\n",
    "        sim.set_calibratоor(road='E1', lane=['2'], gap=d2)\n",
    "        sim.set_calibrator(road='E1', lane=['3'], gap=2)\n",
    "        sim.set_calibrator(road='E2', gap=1.5)\n",
    "        sim.run()\n",
    "        ans += sim.get_mean_throughput()\n",
    "\n",
    "    return -ans/3"
   ]
  },
  {
   "cell_type": "code",
   "execution_count": null,
   "id": "f4b06345-9933-4dca-af61-42c3dbe8f541",
   "metadata": {},
   "outputs": [
    {
     "name": "stderr",
     "output_type": "stream",
     "text": [
      "  0%|          | 0/98 [00:00<?, ?it/s]"
     ]
    }
   ],
   "source": [
    "model = OptimalDist(grid_params=[(4000, 8000, 41), (10, 50, 25), (10, 40, 25), (2, 30, 25)])\n",
    "model.fit_func(loss)"
   ]
  },
  {
   "cell_type": "markdown",
   "id": "2bd97ba0-35f7-4b59-9fc8-d65c9d5a565c",
   "metadata": {},
   "source": [
    "# Creating of csv"
   ]
  },
  {
   "cell_type": "code",
   "execution_count": 3,
   "id": "74dd3c4c-0da8-4141-aa35-4a9acf014c95",
   "metadata": {},
   "outputs": [
    {
     "data": {
      "text/plain": [
       "1.2891872320004407"
      ]
     },
     "execution_count": 3,
     "metadata": {},
     "output_type": "execute_result"
    },
    {
     "name": "stdout",
     "output_type": "stream",
     "text": [
      "time: 27.8 s (started: 2024-04-24 18:31:17 +03:00)\n"
     ]
    }
   ],
   "source": [
    "throughput(20, 4, 6000)"
   ]
  },
  {
   "cell_type": "code",
   "execution_count": 4,
   "id": "681542f9-1d32-47e7-9a76-5c7bcadb01f7",
   "metadata": {},
   "outputs": [
    {
     "data": {
      "text/plain": [
       "1.2932371519835026"
      ]
     },
     "execution_count": 4,
     "metadata": {},
     "output_type": "execute_result"
    },
    {
     "name": "stdout",
     "output_type": "stream",
     "text": [
      "time: 27.7 s (started: 2024-04-24 18:31:45 +03:00)\n"
     ]
    }
   ],
   "source": [
    "throughput(20, 4, 6000)"
   ]
  },
  {
   "cell_type": "code",
   "execution_count": 18,
   "id": "a0a6bcbf-0bb4-4eb2-8fd3-4d02562ea2f8",
   "metadata": {},
   "outputs": [
    {
     "data": {
      "text/plain": [
       "1.2176827071439196"
      ]
     },
     "execution_count": 18,
     "metadata": {},
     "output_type": "execute_result"
    }
   ],
   "source": [
    "cost(30, 20, 10, 6000)"
   ]
  },
  {
   "cell_type": "code",
   "execution_count": 19,
   "id": "e7875c4e-ad81-4d4e-8cba-e4d23b5e27fc",
   "metadata": {},
   "outputs": [
    {
     "data": {
      "text/plain": [
       "1.2098426779299611"
      ]
     },
     "execution_count": 19,
     "metadata": {},
     "output_type": "execute_result"
    }
   ],
   "source": [
    "cost(30, 20, 10, 6000)"
   ]
  },
  {
   "cell_type": "code",
   "execution_count": 10,
   "id": "018980f5-fc4a-4f24-b4f1-689a71adad59",
   "metadata": {},
   "outputs": [
    {
     "data": {
      "text/plain": [
       "0.028846153846153848"
      ]
     },
     "execution_count": 10,
     "metadata": {},
     "output_type": "execute_result"
    }
   ],
   "source": [
    "cost(30, 20, 10, 3)"
   ]
  },
  {
   "cell_type": "code",
   "execution_count": null,
   "id": "c20ad390-a5c4-4014-a8bb-dc7653f0dd16",
   "metadata": {},
   "outputs": [],
   "source": [
    "while(True):\n",
    "    # test6\n",
    "    filename='csv_data/test6.csv'\n",
    "    csv_data = pd.read_csv(filename)\n",
    "    \n",
    "    N = np.random.randint(3000, 8000)\n",
    "    for i in range(500):\n",
    "        rand = np.random.rand(3)\n",
    "        d0 = 10 + 40*rand[0]\n",
    "        d1 = 10 + 30*rand[1]\n",
    "        d2 = 3 + 30*rand[2]\n",
    "        \n",
    "        csv_data.loc[len(csv_data)] = (d0, d1, d2, N, sim.get_mean_throughput())\n",
    "        csv_data.to_csv(filename, index=False) "
   ]
  }
 ],
 "metadata": {
  "kernelspec": {
   "display_name": "Python 3 (ipykernel)",
   "language": "python",
   "name": "python3"
  },
  "language_info": {
   "codemirror_mode": {
    "name": "ipython",
    "version": 3
   },
   "file_extension": ".py",
   "mimetype": "text/x-python",
   "name": "python",
   "nbconvert_exporter": "python",
   "pygments_lexer": "ipython3",
   "version": "3.11.7"
  }
 },
 "nbformat": 4,
 "nbformat_minor": 5
}
